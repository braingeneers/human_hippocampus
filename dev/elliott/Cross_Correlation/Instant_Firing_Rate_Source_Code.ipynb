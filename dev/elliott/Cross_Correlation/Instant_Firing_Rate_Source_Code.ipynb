{
 "cells": [
  {
   "cell_type": "markdown",
   "id": "d5c4b259",
   "metadata": {},
   "source": [
    "<font size=7 face=\"Courier\"> Instant Firing Rate - Source Code\n"
   ]
  },
  {
   "cell_type": "markdown",
   "id": "febc174d",
   "metadata": {},
   "source": [
    "# Set Up Notebook"
   ]
  },
  {
   "cell_type": "markdown",
   "id": "c08fa339",
   "metadata": {},
   "source": [
    "import stuff"
   ]
  },
  {
   "cell_type": "code",
   "execution_count": 3,
   "id": "9be6badc",
   "metadata": {},
   "outputs": [],
   "source": [
    "import numpy as np                     # Packages for Data Analysis\n",
    "import pandas as pd\n",
    "import random as rand\n",
    "from scipy.signal import correlate, correlation_lags\n",
    "\n",
    "import matplotlib.pyplot as plt       # Packages for making plots\n",
    "from matplotlib.patches import FancyArrow\n",
    "import matplotlib.colors as mcolors\n",
    "import matplotlib.patches as patches\n",
    "from matplotlib.patches import Patch, Circle\n",
    "from matplotlib.lines import Line2D\n",
    "from scipy.ndimage import gaussian_filter1d\n",
    "\n",
    "import braingeneers                  # Braigneneers packages for analysis\n",
    "from braingeneers.analysis.analysis import SpikeData, read_phy_files, load_spike_data, burst_detection, randomize_raster\n",
    "import braingeneers.data.datasets_electrophysiology as ephys\n",
    "import diptest                       # Package to run statistical test                \n",
    "\n",
    "\n",
    "import ipywidgets as ipw             # Packages for makings GUI's\n",
    "from ipywidgets import interact, interactive, fixed, interact_manual  # package for interactive widgets from IPython.display import HTML, display, Javascript, clear_output,\n",
    "from IPython.display import HTML, display, Javascript, clear_output\n"
   ]
  },
  {
   "cell_type": "markdown",
   "id": "a55c31ae",
   "metadata": {},
   "source": [
    "For debugging- load dataset to play with"
   ]
  },
  {
   "cell_type": "raw",
   "id": "7a1b2035",
   "metadata": {},
   "source": [
    "# for debugging\n",
    "import pickle\n",
    "file = open('/home/jovyan/work/Human_Hippocampus/StitchedDataUpdated.pkl', 'rb')\n",
    "sd = pickle.load(file)\n",
    "file.close()"
   ]
  },
  {
   "cell_type": "markdown",
   "id": "f2738c99",
   "metadata": {},
   "source": [
    "# <font color=\"blue\"> Instant Firing Rate Function"
   ]
  },
  {
   "cell_type": "code",
   "execution_count": 5,
   "id": "cd5135a3",
   "metadata": {},
   "outputs": [],
   "source": [
    "def instantFiringRate(sd, neuron_num, max_isi=9e10):\n",
    "    spike_times= np.unique( np.round(sd.train[neuron_num]).astype(int) )\n",
    "    instant_fire_rate = []\n",
    "    last_spike = 0\n",
    "    for spike_time in spike_times:\n",
    "        isi = spike_time-last_spike        \n",
    "        instant_fire_rate+= [max_isi]*isi if 1/isi>max_isi else [1/isi]*isi\n",
    "        last_spike = spike_time\n",
    "    return np.array(instant_fire_rate)\n",
    "\n",
    "        "
   ]
  },
  {
   "cell_type": "markdown",
   "id": "1ff20bd7",
   "metadata": {},
   "source": [
    "## Granular Instant Firing Rate"
   ]
  },
  {
   "cell_type": "markdown",
   "id": "46616fdc",
   "metadata": {},
   "source": [
    "Like the instant firing rate, but this is at has a more exact timing for the spike"
   ]
  },
  {
   "cell_type": "code",
   "execution_count": 6,
   "id": "bfa8aae5",
   "metadata": {},
   "outputs": [],
   "source": [
    "def instantFiringRateGranular(sd, neuron_num, max_isi=9e10):\n",
    "    spike_times= np.unique( np.round(sd.train[138]*100).astype(int) )\n",
    "    instant_fire_rate = []\n",
    "    last_spike = 0\n",
    "    for spike_time in spike_times:\n",
    "        isi = spike_time-last_spike        \n",
    "        instant_fire_rate+= [max_isi]*isi if 1/isi>max_isi else [1/isi]*isi\n",
    "        last_spike = spike_time\n",
    "    return np.array(instant_fire_rate)"
   ]
  },
  {
   "cell_type": "markdown",
   "id": "f31dfc46",
   "metadata": {
    "heading_collapsed": true
   },
   "source": [
    "## <font color=\"brown\">Old Code"
   ]
  },
  {
   "cell_type": "markdown",
   "id": "33afef0a",
   "metadata": {
    "hidden": true
   },
   "source": [
    "This was my first function for the instant firing rate. The function doesn't works, but doesn't have the parameter `max_isi`"
   ]
  },
  {
   "cell_type": "raw",
   "id": "6f093ed6",
   "metadata": {
    "hidden": true
   },
   "source": [
    "def instantFiringRate(neuron_num):\n",
    "    spike_times= np.unique( np.round(sd.train[neuron_num]).astype(int) )\n",
    "    instant_fire_rate = []\n",
    "    last_spike = 0\n",
    "    for spike_time in spike_times:\n",
    "        isi = spike_time-last_spike\n",
    "        instant_fire_rate+= [1/isi] * isi\n",
    "        last_spike = spike_time\n",
    "    return instant_fire_rate\n",
    "\n",
    "        \n",
    "# Another method to calculate instant firing rate\n",
    "# We didn't use this method because it creates a stinrg of zeros at the end \n",
    "\n",
    "# spike_times= np.unique( np.round(sd.train[n1]).astype(int) )\n",
    "# instant_fire_rate = np.zeros(raster.shape[1])\n",
    "# last_spike = 0\n",
    "# for spike_time in spike_times:\n",
    "#     isi = spike_time-last_spike\n",
    "#     instant_fire_rate[ last_spike:spike_time ] = 1/isi\n",
    "#     last_spike = spike_time"
   ]
  },
  {
   "cell_type": "markdown",
   "id": "0861b273",
   "metadata": {},
   "source": [
    "## <font color=\"blue\">Moving Average Function"
   ]
  },
  {
   "cell_type": "markdown",
   "id": "b9490f03",
   "metadata": {},
   "source": [
    "[code frome here](https://stackoverflow.com/questions/14313510/how-to-calculate-rolling-moving-average-using-python-numpy-scipy)"
   ]
  },
  {
   "cell_type": "code",
   "execution_count": 7,
   "id": "51325545",
   "metadata": {},
   "outputs": [],
   "source": [
    "# https://stackoverflow.com/questions/14313510/how-to-calculate-rolling-moving-average-using-python-numpy-scipy\n",
    "def movingAverage(a, n=20):\n",
    "    ret = np.cumsum(a, dtype=float)\n",
    "    ret[n:] = ret[n:] - ret[:-n]\n",
    "    return ret[n - 1:] / n "
   ]
  },
  {
   "cell_type": "markdown",
   "id": "eb9d6d6b",
   "metadata": {},
   "source": [
    "# Cross Correlation"
   ]
  },
  {
   "cell_type": "markdown",
   "id": "b34f1d34",
   "metadata": {},
   "source": [
    "## Correlation"
   ]
  },
  {
   "cell_type": "markdown",
   "id": "c70797f0",
   "metadata": {},
   "source": [
    "correlation before"
   ]
  },
  {
   "cell_type": "code",
   "execution_count": 8,
   "id": "16b17ce2",
   "metadata": {},
   "outputs": [],
   "source": [
    "def correlation(x, y):\n",
    "    shortest = min( len(x), len(y) )\n",
    "    return np.corrcoef(x[:shortest], y[:shortest])[0, 1]"
   ]
  },
  {
   "cell_type": "code",
   "execution_count": null,
   "id": "812dac87",
   "metadata": {},
   "outputs": [],
   "source": [
    "#np.corrcoef(instant_n1, instant_n2 )"
   ]
  },
  {
   "cell_type": "markdown",
   "id": "cf4b4c91",
   "metadata": {},
   "source": [
    "## Cross Correlation"
   ]
  },
  {
   "cell_type": "markdown",
   "id": "b9813113",
   "metadata": {},
   "source": [
    "calculate cross correlation"
   ]
  },
  {
   "cell_type": "markdown",
   "id": "e7e97965",
   "metadata": {},
   "source": [
    "[code frome here](https://medium.com/@dreamferus/how-to-synchronize-time-series-using-cross-correlation-in-python-4c1fd5668c7a#id_token=eyJhbGciOiJSUzI1NiIsImtpZCI6ImM3ZTExNDEwNTlhMTliMjE4MjA5YmM1YWY3YTgxYTcyMGUzOWI1MDAiLCJ0eXAiOiJKV1QifQ.eyJpc3MiOiJodHRwczovL2FjY291bnRzLmdvb2dsZS5jb20iLCJhenAiOiIyMTYyOTYwMzU4MzQtazFrNnFlMDYwczJ0cDJhMmphbTRsamRjbXMwMHN0dGcuYXBwcy5nb29nbGV1c2VyY29udGVudC5jb20iLCJhdWQiOiIyMTYyOTYwMzU4MzQtazFrNnFlMDYwczJ0cDJhMmphbTRsamRjbXMwMHN0dGcuYXBwcy5nb29nbGV1c2VyY29udGVudC5jb20iLCJzdWIiOiIxMDI5NDUwNDY4Mjk4NDg1MzY1NjYiLCJoZCI6InVjc2MuZWR1IiwiZW1haWwiOiJtZWxsaW90MUB1Y3NjLmVkdSIsImVtYWlsX3ZlcmlmaWVkIjp0cnVlLCJuYmYiOjE2OTM1MTg3MjksIm5hbWUiOiJNYXR0IEVsbGlvdHQiLCJwaWN0dXJlIjoiaHR0cHM6Ly9saDMuZ29vZ2xldXNlcmNvbnRlbnQuY29tL2EvQUFjSFR0ZWRoeVRrWk1hU1hJRTFqa1hhZEVmbmhxc3NwNW1lVFkzUHV0THluMVJ1TXc9czk2LWMiLCJnaXZlbl9uYW1lIjoiTWF0dCIsImZhbWlseV9uYW1lIjoiRWxsaW90dCIsImxvY2FsZSI6ImVuIiwiaWF0IjoxNjkzNTE5MDI5LCJleHAiOjE2OTM1MjI2MjksImp0aSI6Ijc5NGMxOTk1NmI5NDJiNWQzNGIzODc0YTdjYzQ1ZTgyZTlkNjdjZTYifQ.mrDH7b9_D0YfYF3xxqJl-Kh5w_XeWgpyntt19-Bvs4VJJpuJR5DRRJsSGO52guE8jSdYsSDS_ILzPyY_rZAyivCZ4mXJv3CftxbNxgxRD_feS8BNI3YPbTh2Oin7tj32Gzm75Nq4k-UnhQxy9d7qVlw29DA6Wns1yTY0B6cb0pPEuKMWfHmlmCUEtDEDX0dE__pUGkBxWwickpa2n-pW-Z71y-hatFAn80JrOPclPZj1Yts9xeV9uPC7ICWTjSVLZB4Nl8mKy6Rxn6pB_ny01ne06iAoYidx2SwRU3j5BVZF1CK-bhVqQ-qOuzIPj17qvkFE9RJT9Zw842YN9f16MA)"
   ]
  },
  {
   "cell_type": "code",
   "execution_count": 9,
   "id": "76f45410",
   "metadata": {},
   "outputs": [],
   "source": [
    "def maxCorrelationShift(x, y):\n",
    "    correlations = correlate(x, y, mode=\"full\")\n",
    "    lags = correlation_lags(x.size, y.size, mode=\"full\")\n",
    "    return lags[np.argmax(correlations)]"
   ]
  },
  {
   "cell_type": "code",
   "execution_count": null,
   "id": "9cee4c9b",
   "metadata": {},
   "outputs": [],
   "source": [
    "# Function to calculate cross-correlation,\n",
    "# extract the best matching shift and then shift\n",
    "# one of the series appropriately.\n",
    "\n",
    "#print(f\"Best lag: {lag}\")\n",
    "#if lag < 0:\n",
    "#    y = y.iloc[abs(lag):].reset_index(drop=True)\n",
    "#else:\n",
    "#    x = x.iloc[lag:].reset_index(drop=True)\n",
    "#x = x[: min(len(x),len(y)) ]\n",
    "#y = y[: min(len(x),len(y)) ]\n",
    "# https://medium.com/@dreamferus/how-to-synchronize-time-series-using-cross-correlation-in-python-4c1fd5668c7a#id_token=eyJhbGciOiJSUzI1NiIsImtpZCI6ImM3ZTExNDEwNTlhMTliMjE4MjA5YmM1YWY3YTgxYTcyMGUzOWI1MDAiLCJ0eXAiOiJKV1QifQ.eyJpc3MiOiJodHRwczovL2FjY291bnRzLmdvb2dsZS5jb20iLCJhenAiOiIyMTYyOTYwMzU4MzQtazFrNnFlMDYwczJ0cDJhMmphbTRsamRjbXMwMHN0dGcuYXBwcy5nb29nbGV1c2VyY29udGVudC5jb20iLCJhdWQiOiIyMTYyOTYwMzU4MzQtazFrNnFlMDYwczJ0cDJhMmphbTRsamRjbXMwMHN0dGcuYXBwcy5nb29nbGV1c2VyY29udGVudC5jb20iLCJzdWIiOiIxMDI5NDUwNDY4Mjk4NDg1MzY1NjYiLCJoZCI6InVjc2MuZWR1IiwiZW1haWwiOiJtZWxsaW90MUB1Y3NjLmVkdSIsImVtYWlsX3ZlcmlmaWVkIjp0cnVlLCJuYmYiOjE2OTM1MTg3MjksIm5hbWUiOiJNYXR0IEVsbGlvdHQiLCJwaWN0dXJlIjoiaHR0cHM6Ly9saDMuZ29vZ2xldXNlcmNvbnRlbnQuY29tL2EvQUFjSFR0ZWRoeVRrWk1hU1hJRTFqa1hhZEVmbmhxc3NwNW1lVFkzUHV0THluMVJ1TXc9czk2LWMiLCJnaXZlbl9uYW1lIjoiTWF0dCIsImZhbWlseV9uYW1lIjoiRWxsaW90dCIsImxvY2FsZSI6ImVuIiwiaWF0IjoxNjkzNTE5MDI5LCJleHAiOjE2OTM1MjI2MjksImp0aSI6Ijc5NGMxOTk1NmI5NDJiNWQzNGIzODc0YTdjYzQ1ZTgyZTlkNjdjZTYifQ.mrDH7b9_D0YfYF3xxqJl-Kh5w_XeWgpyntt19-Bvs4VJJpuJR5DRRJsSGO52guE8jSdYsSDS_ILzPyY_rZAyivCZ4mXJv3CftxbNxgxRD_feS8BNI3YPbTh2Oin7tj32Gzm75Nq4k-UnhQxy9d7qVlw29DA6Wns1yTY0B6cb0pPEuKMWfHmlmCUEtDEDX0dE__pUGkBxWwickpa2n-pW-Z71y-hatFAn80JrOPclPZj1Yts9xeV9uPC7ICWTjSVLZB4Nl8mKy6Rxn6pB_ny01ne06iAoYidx2SwRU3j5BVZF1CK-bhVqQ-qOuzIPj17qvkFE9RJT9Zw842YN9f16MA"
   ]
  },
  {
   "cell_type": "markdown",
   "id": "012cef7f",
   "metadata": {},
   "source": [
    "## Plot Results"
   ]
  },
  {
   "cell_type": "code",
   "execution_count": 10,
   "id": "210206d6",
   "metadata": {},
   "outputs": [],
   "source": [
    "def plotLagsLayout(sd, lags, pairs):\n",
    "    \n",
    "    neuron_x = []\n",
    "    neuron_y = []\n",
    "    for neuron in sd.neuron_data[0].values():\n",
    "        neuron_x.append(neuron['position'][0])\n",
    "        neuron_y.append(neuron['position'][1])\n",
    "    plt.figure(figsize=(8, 8))\n",
    "    plt.scatter(neuron_x, neuron_y, alpha=0.15, c='grey')\n",
    "\n",
    "    for i in range(len(lags)):\n",
    "        if lags[i]<0:\n",
    "            start_i = pairs[i][0] \n",
    "            end_i = pairs[i][1] \n",
    "        else:\n",
    "            start_i = pairs[i][1] \n",
    "            end_i = pairs[i][0] \n",
    "\n",
    "        arrow_color = \"red\"\n",
    "        arrow = FancyArrow(\n",
    "            neuron_x[end_i], neuron_y[end_i],\n",
    "            neuron_x[start_i] - neuron_x[end_i], neuron_y[start_i] - neuron_y[end_i],\n",
    "            length_includes_head=True, head_width=25,\n",
    "            linewidth=1, color=arrow_color, alpha=0.7, edgecolor=arrow_color, facecolor=arrow_color)\n",
    "        plt.gca().add_patch(arrow)\n",
    "\n",
    "    plt.xlabel('um')\n",
    "    plt.ylabel('um')\n",
    "    plt.title(\"Cross Correlation Between 2-10ms\")\n",
    "    plt.show()"
   ]
  },
  {
   "cell_type": "code",
   "execution_count": null,
   "id": "e1cf3c54",
   "metadata": {},
   "outputs": [],
   "source": []
  },
  {
   "cell_type": "code",
   "execution_count": null,
   "id": "f3af62c0",
   "metadata": {},
   "outputs": [],
   "source": []
  },
  {
   "cell_type": "code",
   "execution_count": null,
   "id": "fc721818",
   "metadata": {},
   "outputs": [],
   "source": []
  },
  {
   "cell_type": "code",
   "execution_count": null,
   "id": "efa560f5",
   "metadata": {},
   "outputs": [],
   "source": []
  },
  {
   "cell_type": "code",
   "execution_count": null,
   "id": "b2ab7014",
   "metadata": {},
   "outputs": [],
   "source": []
  },
  {
   "cell_type": "code",
   "execution_count": null,
   "id": "5f19eb9f",
   "metadata": {},
   "outputs": [],
   "source": []
  }
 ],
 "metadata": {
  "hide_input": false,
  "kernelspec": {
   "display_name": "Python 3 (ipykernel)",
   "language": "python",
   "name": "python3"
  },
  "language_info": {
   "codemirror_mode": {
    "name": "ipython",
    "version": 3
   },
   "file_extension": ".py",
   "mimetype": "text/x-python",
   "name": "python",
   "nbconvert_exporter": "python",
   "pygments_lexer": "ipython3",
   "version": "3.10.0"
  },
  "toc": {
   "base_numbering": 1,
   "nav_menu": {},
   "number_sections": true,
   "sideBar": true,
   "skip_h1_title": false,
   "title_cell": "Table of Contents",
   "title_sidebar": "Contents",
   "toc_cell": false,
   "toc_position": {},
   "toc_section_display": true,
   "toc_window_display": false
  },
  "varInspector": {
   "cols": {
    "lenName": 16,
    "lenType": 16,
    "lenVar": 40
   },
   "kernels_config": {
    "python": {
     "delete_cmd_postfix": "",
     "delete_cmd_prefix": "del ",
     "library": "var_list.py",
     "varRefreshCmd": "print(var_dic_list())"
    },
    "r": {
     "delete_cmd_postfix": ") ",
     "delete_cmd_prefix": "rm(",
     "library": "var_list.r",
     "varRefreshCmd": "cat(var_dic_list()) "
    }
   },
   "types_to_exclude": [
    "module",
    "function",
    "builtin_function_or_method",
    "instance",
    "_Feature"
   ],
   "window_display": false
  }
 },
 "nbformat": 4,
 "nbformat_minor": 5
}

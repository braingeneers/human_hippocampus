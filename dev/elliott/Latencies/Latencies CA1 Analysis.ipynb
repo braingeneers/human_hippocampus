{
 "cells": [
  {
   "cell_type": "markdown",
   "id": "c9d2eca8",
   "metadata": {},
   "source": [
    "<font size=7> Latencies - CA1 Analysis"
   ]
  },
  {
   "cell_type": "markdown",
   "id": "530aab61",
   "metadata": {},
   "source": [
    "**Results**\n",
    "\n",
    "Good Connections: (37, 81), (76, 66), (79, 103), (121, 103), (130, 9), (138, 81)"
   ]
  },
  {
   "cell_type": "markdown",
   "id": "c8b157c5",
   "metadata": {},
   "source": [
    "# Set Up Notebook"
   ]
  },
  {
   "cell_type": "markdown",
   "id": "50526508",
   "metadata": {},
   "source": [
    "import stuff"
   ]
  },
  {
   "cell_type": "code",
   "execution_count": null,
   "id": "0d7cb0dd",
   "metadata": {},
   "outputs": [],
   "source": [
    "import pickle"
   ]
  },
  {
   "cell_type": "markdown",
   "id": "7a0c9bc3",
   "metadata": {},
   "source": [
    "load source code"
   ]
  },
  {
   "cell_type": "markdown",
   "id": "963917b8",
   "metadata": {},
   "source": [
    "load source code"
   ]
  },
  {
   "cell_type": "code",
   "execution_count": 1,
   "id": "e89f0c85",
   "metadata": {},
   "outputs": [],
   "source": [
    "%run Latencies_Source_Code.ipynb"
   ]
  },
  {
   "cell_type": "markdown",
   "id": "3e3e049e-d5df-4a08-94cb-eada0fc16e98",
   "metadata": {},
   "source": [
    "read data function"
   ]
  },
  {
   "cell_type": "code",
   "execution_count": 2,
   "id": "138335f0-2c2f-4191-955f-9b04605b232b",
   "metadata": {},
   "outputs": [],
   "source": [
    "\n"
   ]
  },
  {
   "cell_type": "code",
   "execution_count": 5,
   "id": "5d98b562-9003-4c04-83fb-3a74da442910",
   "metadata": {},
   "outputs": [],
   "source": [
    "import io\n",
    "import zipfile\n",
    "from typing import List, Tuple\n",
    "\n",
    "def read_phy_files(path: str, fs=20000.0):\n",
    "    \"\"\"\n",
    "    :param path: a s3 or local path to a zip of phy files.\n",
    "    :return: SpikeData class with a list of spike time lists and neuron_data.\n",
    "            neuron_data = {0: neuron_dict, 1: config_dict}\n",
    "            neuron_dict = {\"new_cluster_id\": {\"channel\": c, \"position\": (x, y),\n",
    "                            \"amplitudes\": [a0, a1, an], \"template\": [t0, t1, tn],\n",
    "                            \"neighbor_channels\": [c0, c1, cn],\n",
    "                            \"neighbor_positions\": [(x0, y0), (x1, y1), (xn,yn)],\n",
    "                            \"neighbor_templates\": [[t00, t01, t0n], [tn0, tn1, tnn]}}\n",
    "            config_dict = {chn: pos}\n",
    "    \"\"\"\n",
    "    assert path[-3:] == 'zip', 'Only zip files supported!'\n",
    "    import braingeneers.utils.smart_open_braingeneers as smart_open\n",
    "    with smart_open.open(path, 'rb') as f0:\n",
    "        f = io.BytesIO(f0.read())\n",
    "\n",
    "        with zipfile.ZipFile(f, 'r') as f_zip:\n",
    "            assert 'params.py' in f_zip.namelist(), \"Wrong spike sorting output.\"\n",
    "            with io.TextIOWrapper(f_zip.open('params.py'), encoding='utf-8') as params:\n",
    "                for line in params:\n",
    "                    if \"sample_rate\" in line:\n",
    "                        fs = float(line.split()[-1])\n",
    "            clusters = np.load(f_zip.open('spike_clusters.npy')).squeeze()\n",
    "            templates = np.load(f_zip.open('templates.npy'))  # (cluster_id, samples, channel_id)\n",
    "            channels = np.load(f_zip.open('channel_map.npy')).squeeze()\n",
    "            templates_w = np.load(f_zip.open('templates.npy'))\n",
    "            wmi = np.load(f_zip.open('whitening_mat_inv.npy'))\n",
    "            spike_templates = np.load(f_zip.open('spike_templates.npy')).squeeze()\n",
    "            spike_times = np.load(f_zip.open('spike_times.npy')).squeeze() / fs * 1e3  # in ms\n",
    "            positions = np.load(f_zip.open('channel_positions.npy'))\n",
    "            amplitudes = np.load(f_zip.open(\"amplitudes.npy\")).squeeze()\n",
    "            if 'cluster_info.tsv' in f_zip.namelist():\n",
    "                cluster_info = pd.read_csv(f_zip.open('cluster_info.tsv'), sep='\\t')\n",
    "                cluster_id = np.array(cluster_info['cluster_id'])\n",
    "                # select clusters using curation label, remove units labeled as \"noise\"\n",
    "                # find the best channel by amplitude\n",
    "                labeled_clusters = cluster_id[cluster_info['group'] != \"noise\"]\n",
    "            else:\n",
    "                labeled_clusters = np.unique(clusters)\n",
    "\n",
    "    df = pd.DataFrame({\"clusters\": clusters, \"spikeTimes\": spike_times, \"amplitudes\": amplitudes})\n",
    "    cluster_agg = df.groupby(\"clusters\").agg({\"spikeTimes\": lambda x: list(x),\n",
    "                                              \"amplitudes\": lambda x: list(x)})\n",
    "    cluster_agg = cluster_agg[cluster_agg.index.isin(labeled_clusters)]\n",
    "\n",
    "    cls_temp = dict(zip(clusters, spike_templates))\n",
    "    neuron_dict = dict.fromkeys(np.arange(len(labeled_clusters)), None)\n",
    "\n",
    "    # un-whitten the templates before finding the best channel\n",
    "    templates = np.dot(templates_w, wmi)\n",
    "\n",
    "    neuron_attributes = []\n",
    "    for i in range(len(labeled_clusters)):\n",
    "        c = labeled_clusters[i]\n",
    "        temp = templates[cls_temp[c]]\n",
    "        amp = np.max(temp, axis=0) - np.min(temp, axis=0)\n",
    "        sorted_idx = [ind for _, ind in sorted(zip(amp, np.arange(len(amp))))]\n",
    "        nbgh_chan_idx = sorted_idx[::-1][:12]\n",
    "        nbgh_temps = temp.transpose()[nbgh_chan_idx]\n",
    "        best_chan_temp = nbgh_temps[0]\n",
    "        nbgh_channels = channels[nbgh_chan_idx]\n",
    "        nbgh_postions = [tuple(positions[idx]) for idx in nbgh_chan_idx]\n",
    "        best_channel = nbgh_channels[0]\n",
    "        best_position = nbgh_postions[0]\n",
    "        # neighbor_templates = dict(zip(nbgh_postions, nbgh_temps))\n",
    "        cls_amp = cluster_agg[\"amplitudes\"][c]\n",
    "        neuron_dict[i] = {\"cluster_id\": c, \"channel\": best_channel, \"position\": best_position,\n",
    "                          \"amplitudes\": cls_amp, \"template\": best_chan_temp,\n",
    "                          \"neighbor_channels\": nbgh_channels, \"neighbor_positions\": nbgh_postions,\n",
    "                          \"neighbor_templates\": nbgh_temps}\n",
    "        neuron_attributes.append(\n",
    "            NeuronAttributes(\n",
    "                cluster_id=c,\n",
    "                channel=best_channel,\n",
    "                position=best_position,\n",
    "                amplitudes=cluster_agg[\"amplitudes\"][c],\n",
    "                template=best_chan_temp,\n",
    "                templates=templates[cls_temp[c]].T,\n",
    "                label=cluster_info['group'][cluster_info['cluster_id'] == c].values[0],\n",
    "                neighbor_channels=channels[nbgh_chan_idx],\n",
    "                neighbor_positions=[tuple(positions[idx]) for idx in nbgh_chan_idx],\n",
    "                neighbor_templates=[templates[cls_temp[c]].T[n] for n in nbgh_chan_idx]\n",
    "            )\n",
    "        )\n",
    "\n",
    "    config_dict = dict(zip(channels, positions))\n",
    "    neuron_data = {0: neuron_dict}\n",
    "    metadata = {0: config_dict}\n",
    "    spikedata = SpikeData(list(cluster_agg[\"spikeTimes\"]), neuron_data=neuron_data, metadata=metadata, neuron_attributes=neuron_attributes)\n",
    "    return spikedata\n",
    "\n",
    "class NeuronAttributes:\n",
    "    cluster_id: int\n",
    "    channel: np.ndarray\n",
    "    position: Tuple[float, float]\n",
    "    amplitudes: List[float]\n",
    "    template: np.ndarray\n",
    "    templates: np.ndarray\n",
    "    label: str\n",
    "\n",
    "    # These lists are the same length and correspond to each other\n",
    "    neighbor_channels: np.ndarray\n",
    "    neighbor_positions: List[Tuple[float, float]]\n",
    "    neighbor_templates: List[np.ndarray]\n",
    "\n",
    "    def __init__(self, *args, **kwargs):\n",
    "        self.cluster_id = kwargs.pop(\"cluster_id\")\n",
    "        self.channel = kwargs.pop(\"channel\")\n",
    "        self.position = kwargs.pop(\"position\")\n",
    "        self.amplitudes = kwargs.pop(\"amplitudes\")\n",
    "        self.template = kwargs.pop(\"template\")\n",
    "        self.templates = kwargs.pop(\"templates\")\n",
    "        self.label = kwargs.pop(\"label\")\n",
    "        self.neighbor_channels = kwargs.pop(\"neighbor_channels\")\n",
    "        self.neighbor_positions = kwargs.pop(\"neighbor_positions\")\n",
    "        self.neighbor_templates = kwargs.pop(\"neighbor_templates\")\n",
    "        for key, value in kwargs.items():\n",
    "            setattr(self, key, value)\n",
    "\n",
    "    def add_attribute(self, key, value):\n",
    "        setattr(self, key, value)\n",
    "\n",
    "    def list_attributes(self):\n",
    "        return [attr for attr in dir(self) if not attr.startswith('__') and not callable(getattr(self, attr))]\n"
   ]
  },
  {
   "cell_type": "code",
   "execution_count": null,
   "id": "92d6a514-0437-4f00-87e3-816c652f8519",
   "metadata": {},
   "outputs": [],
   "source": []
  },
  {
   "cell_type": "code",
   "execution_count": null,
   "id": "cb64691c-e223-4c06-9c1a-e7f6ebfb2c97",
   "metadata": {},
   "outputs": [],
   "source": []
  },
  {
   "cell_type": "markdown",
   "id": "5ae97c71",
   "metadata": {},
   "source": [
    "load data"
   ]
  },
  {
   "cell_type": "code",
   "execution_count": 12,
   "id": "cdc0ba6b",
   "metadata": {},
   "outputs": [],
   "source": [
    "sd = read_phy_files(f\"/workspaces/human_hippocampus/data/ephys/2023-04-02-e-hc328_unperturbed/derived/kilosort2/hc3_28_hckcr1_chip16835_plated34_2_rec4_2_curated.zip\") \n"
   ]
  },
  {
   "cell_type": "code",
   "execution_count": 13,
   "metadata": {},
   "outputs": [
    {
     "data": {
      "text/plain": [
       "140"
      ]
     },
     "execution_count": 13,
     "metadata": {},
     "output_type": "execute_result"
    }
   ],
   "source": [
    "sd.N"
   ]
  },
  {
   "cell_type": "markdown",
   "id": "9eb8d67c",
   "metadata": {},
   "source": [
    "load latencies, as curated by Tom"
   ]
  },
  {
   "cell_type": "code",
   "execution_count": 4,
   "id": "00aba63a",
   "metadata": {},
   "outputs": [],
   "source": [
    "file = open('/home/jovyan/work/Human_Hippocampus/data/saved_latencies/2023-04-02-e-hc328.pkl', 'rb')\n",
    "all_latencies = pickle.load(file)\n",
    "file.close()"
   ]
  },
  {
   "cell_type": "code",
   "execution_count": 5,
   "id": "b9e9ad33",
   "metadata": {},
   "outputs": [],
   "source": [
    "pairs_lates_directed = all_latencies[\"pairs_lates\"]"
   ]
  },
  {
   "cell_type": "code",
   "execution_count": 6,
   "id": "90aab7f7",
   "metadata": {},
   "outputs": [
    {
     "data": {
      "text/plain": [
       "54"
      ]
     },
     "execution_count": 6,
     "metadata": {},
     "output_type": "execute_result"
    }
   ],
   "source": [
    "len(pairs_lates_directed)"
   ]
  },
  {
   "cell_type": "markdown",
   "id": "c0729ec9",
   "metadata": {},
   "source": [
    "clean latencies"
   ]
  },
  {
   "cell_type": "code",
   "execution_count": 7,
   "id": "2516cc39",
   "metadata": {},
   "outputs": [],
   "source": [
    "pairs_lates_clean = {}\n",
    "for pair, lates_i in pairs_lates_directed.items():\n",
    "    percent_pos = np.sum(lates_i > 0) / len(lates_i)\n",
    "    if percent_pos > .65:\n",
    "        pairs_lates_clean[pair]=lates_i"
   ]
  },
  {
   "cell_type": "code",
   "execution_count": 8,
   "id": "76d41dea",
   "metadata": {},
   "outputs": [],
   "source": [
    "pairs_lates_list = list(pairs_lates_clean.items())"
   ]
  },
  {
   "cell_type": "markdown",
   "id": "01c3444b",
   "metadata": {},
   "source": [
    "# Make Plots"
   ]
  },
  {
   "cell_type": "markdown",
   "id": "1e5ec000",
   "metadata": {},
   "source": [
    "## Grouped Latencies"
   ]
  },
  {
   "cell_type": "markdown",
   "id": "51a89718",
   "metadata": {},
   "source": [
    "Plot all latencies curated by Tom"
   ]
  },
  {
   "cell_type": "code",
   "execution_count": 9,
   "id": "2c7545fa",
   "metadata": {},
   "outputs": [
    {
     "name": "stderr",
     "output_type": "stream",
     "text": [
      "/tmp/ipykernel_940399/3022611541.py:5: DeprecationWarning: Call to deprecated function (or staticmethod) neuron_data. (Use NeuronAttributes instead of neuron_data, with the function load_spike_data())\n",
      "  for neuron in sd.neuron_data[0].values():\n",
      "/tmp/ipykernel_940399/3022611541.py:51: UserWarning: Setting the 'color' property will override the edgecolor or facecolor properties.\n",
      "  arrow = FancyArrow(\n"
     ]
    },
    {
     "name": "stdout",
     "output_type": "stream",
     "text": [
      "27\n"
     ]
    },
    {
     "data": {
      "image/png": "[encoded data removed]",
      "text/plain": [
       "<Figure size 800x800 with 1 Axes>"
      ]
     },
     "metadata": {},
     "output_type": "display_data"
    }
   ],
   "source": [
    "plotLatencyLayoutGroups(sd, pairs_lates_clean )"
   ]
  },
  {
   "cell_type": "markdown",
   "id": "f02750c6",
   "metadata": {},
   "source": [
    "## Individual Pair Analysis"
   ]
  },
  {
   "cell_type": "code",
   "execution_count": 9,
   "id": "6236937d",
   "metadata": {},
   "outputs": [],
   "source": [
    "isis = sd.interspike_intervals()\n",
    "firing_rates = calculate_mean_firing_rates(sd)\n",
    "sttc = sd.spike_time_tilings()"
   ]
  },
  {
   "cell_type": "code",
   "execution_count": 10,
   "id": "74a26c36",
   "metadata": {},
   "outputs": [
    {
     "data": {
      "application/vnd.jupyter.widget-view+json": {
       "model_id": "0c493312c99141eab9e2f0914f77d2a5",
       "version_major": 2,
       "version_minor": 0
      },
      "text/plain": [
       "interactive(children=(IntSlider(value=13, description='num', max=26), Button(description='Run Interact', style…"
      ]
     },
     "metadata": {},
     "output_type": "display_data"
    },
    {
     "data": {
      "text/plain": [
       "<function __main__.plotLatencyPairAnalysis(num)>"
      ]
     },
     "execution_count": 10,
     "metadata": {},
     "output_type": "execute_result"
    }
   ],
   "source": [
    "interact_manual( plotLatencyPairAnalysis, num=(0,(len(pairs_lates_clean)-1) ))"
   ]
  },
  {
   "cell_type": "markdown",
   "id": "d082384f",
   "metadata": {},
   "source": [
    "# Clean Latency by ms"
   ]
  },
  {
   "cell_type": "markdown",
   "id": "1fe439c9",
   "metadata": {},
   "source": [
    "Here we only keep the latencies above whose median latency is between 2-10ms"
   ]
  },
  {
   "cell_type": "code",
   "execution_count": 11,
   "id": "3a8a98cf",
   "metadata": {},
   "outputs": [],
   "source": [
    "pairs_lates_clean2 = {}\n",
    "for pair, lates_i in pairs_lates_clean.items():\n",
    "    if abs(np.median(lates_i))>1:\n",
    "        pairs_lates_clean2[pair]=lates_i"
   ]
  },
  {
   "cell_type": "code",
   "execution_count": 27,
   "id": "7cc2c190",
   "metadata": {},
   "outputs": [
    {
     "data": {
      "text/plain": [
       "dict_keys([(37, 81), (76, 66), (79, 103), (121, 103), (130, 9), (138, 81)])"
      ]
     },
     "execution_count": 27,
     "metadata": {},
     "output_type": "execute_result"
    }
   ],
   "source": [
    "pairs_lates_clean2.keys()"
   ]
  },
  {
   "cell_type": "code",
   "execution_count": 12,
   "id": "64a26162",
   "metadata": {},
   "outputs": [
    {
     "name": "stderr",
     "output_type": "stream",
     "text": [
      "/tmp/ipykernel_943595/3022611541.py:5: DeprecationWarning: Call to deprecated function (or staticmethod) neuron_data. (Use NeuronAttributes instead of neuron_data, with the function load_spike_data())\n",
      "  for neuron in sd.neuron_data[0].values():\n",
      "/tmp/ipykernel_943595/3022611541.py:51: UserWarning: Setting the 'color' property will override the edgecolor or facecolor properties.\n",
      "  arrow = FancyArrow(\n"
     ]
    },
    {
     "name": "stdout",
     "output_type": "stream",
     "text": [
      "6\n"
     ]
    },
    {
     "data": {
      "image/png": "[encoded data removed]",
      "text/plain": [
       "<Figure size 800x800 with 1 Axes>"
      ]
     },
     "metadata": {},
     "output_type": "display_data"
    }
   ],
   "source": [
    "plotLatencyLayoutGroups(sd, pairs_lates_clean2 )"
   ]
  },
  {
   "cell_type": "markdown",
   "id": "70f74717",
   "metadata": {},
   "source": [
    "# View STTC"
   ]
  },
  {
   "cell_type": "code",
   "execution_count": 13,
   "id": "fd8a33c6",
   "metadata": {},
   "outputs": [],
   "source": [
    "sttc_clean = []\n",
    "for key in pairs_lates_clean.keys():\n",
    "    sttc_clean.append(sttc[key[0]][key[1]])"
   ]
  },
  {
   "cell_type": "code",
   "execution_count": 14,
   "id": "9d0fd1a8",
   "metadata": {},
   "outputs": [
    {
     "data": {
      "text/plain": [
       "(array([5., 4., 1., 2., 2., 0., 3., 3., 3., 4.]),\n",
       " array([0.21866745, 0.2968007 , 0.37493396, 0.45306721, 0.53120047,\n",
       "        0.60933372, 0.68746698, 0.76560023, 0.84373349, 0.92186674,\n",
       "        1.        ]),\n",
       " <BarContainer object of 10 artists>)"
      ]
     },
     "execution_count": 14,
     "metadata": {},
     "output_type": "execute_result"
    },
    {
     "data": {
      "image/png": "[encoded data removed]",
      "text/plain": [
       "<Figure size 640x480 with 1 Axes>"
      ]
     },
     "metadata": {},
     "output_type": "display_data"
    }
   ],
   "source": [
    "plt.hist(sttc_clean)"
   ]
  },
  {
   "cell_type": "code",
   "execution_count": 26,
   "id": "64d0fee0",
   "metadata": {},
   "outputs": [
    {
     "name": "stdout",
     "output_type": "stream",
     "text": [
      "Total number of directed pairs -- 27\n"
     ]
    }
   ],
   "source": [
    "print(\"Total number of directed pairs --\", len(sttc_clean))"
   ]
  },
  {
   "cell_type": "code",
   "execution_count": 20,
   "id": "91ac6f61",
   "metadata": {},
   "outputs": [
    {
     "name": "stdout",
     "output_type": "stream",
     "text": [
      "minimum STTC from directed pairs:  0.21866744872390137\n"
     ]
    }
   ],
   "source": [
    "print(\"minimum STTC from directed pairs: \",min(sttc_clean) )"
   ]
  },
  {
   "cell_type": "code",
   "execution_count": 25,
   "id": "972bc208",
   "metadata": {},
   "outputs": [
    {
     "name": "stdout",
     "output_type": "stream",
     "text": [
      "Total STTC's above 0.2 -- 141.0\n"
     ]
    }
   ],
   "source": [
    "print( \"Total STTC's above 0.2 --\",np.sum(sttc>.2)/2 )"
   ]
  },
  {
   "cell_type": "markdown",
   "id": "fa4a53df",
   "metadata": {},
   "source": [
    "# General Latency Pair Analysis"
   ]
  },
  {
   "cell_type": "code",
   "execution_count": null,
   "id": "4bdb10b4",
   "metadata": {},
   "outputs": [],
   "source": [
    "def plotLatencyPairAnalysis(num):\n",
    "    \n",
    "    import warnings\n",
    "    warnings.filterwarnings(\"ignore\")\n",
    "\n",
    "    # Layout Plot\n",
    "    pairs_lates_list = list(pairs_lates_clean.items())\n",
    "    to_graph = {pairs_lates_list[num][0]:pairs_lates_list[num][1]}\n",
    "    plotLatencyPairFootprint(sd,to_graph)\n",
    "    \n",
    "    # Summary Stats\n",
    "    start_i = pairs_lates_list[num][0][0]\n",
    "    end_i = pairs_lates_list[num][0][1]\n",
    "    latencies = pairs_lates_list[num][1]\n",
    "    \n",
    "    print( \"Number of Latencies\", len(latencies) )\n",
    "    print( \"Mean Latency\", round(np.mean(latencies), 3) )\n",
    "    print( \"Median Latency\", round(np.median(latencies), 3) )\n",
    "    #print( \"Latency Probability\", {round(100*(len(lates_filtered)/len(lates_raw)))})\n",
    "    print(\"STTC\", sttc[start_i][end_i])\n",
    "    print(\"Diptest P-val\", round( diptest.diptest(latencies)[1] , 3) )\n",
    "    print( \"Latency Probability\", round(len(latencies)/len(sd.train[start_i]), 3) )\n",
    "    print(\".\")\n",
    "    print( \"Sender Neuron\", start_i)\n",
    "    print( \"Sender   Firing Rate\", round(firing_rates[start_i], 3) )\n",
    "    print(\".\")\n",
    "    print(\"Receiver Neuron\", end_i)\n",
    "    print( \"Receiver Firing Rate\", round(firing_rates[end_i], 3) )\n",
    "    \n",
    "    # Plot other graphs\n",
    "    figs, plots = plt.subplots(nrows=3,ncols=2,figsize=(14,10))\n",
    "\n",
    "    mean_latency = np.mean(latencies)     # Get mean and SD\n",
    "    std_latency = np.std(latencies)\n",
    "    cutoff = 2 * std_latency           # remove outliers\n",
    "    lates_filtered = [latency for latency in latencies if abs(latency - mean_latency) <= cutoff]\n",
    "    plots[0,0].hist(lates_filtered, bins=12, alpha=0.7, label='Latency')\n",
    "    plots[0,0].axvline(mean_latency, color='red', linestyle='dashed', linewidth=2, label='Mean')\n",
    "    plots[0,0].axvline(mean_latency - std_latency, color='green', linestyle='dashed', linewidth=2, label='Std -')\n",
    "    plots[0,0].axvline(mean_latency + std_latency, color='green', linestyle='dashed', linewidth=2, label='Std +')\n",
    "    plots[0,0].axvline(0, color='black', linestyle='dashed', linewidth=0.5, label='Std +')\n",
    "    plots[0,0].set_xlim(-1*(abs(mean_latency)+cutoff), abs(mean_latency) + cutoff) \n",
    "    plots[0,0].set_xlabel(\"Latency (ms)\")\n",
    "    plots[0,0].set_ylabel(\"Count\")\n",
    "    plots[0,0].set_title(f\"Fancy Latency Histogram\")\n",
    "    plots[0,0].legend()\n",
    "\n",
    "    plots[0,1].hist(latencies, bins=12)\n",
    "    plots[0,1].set_title(\"Latency Histogram\")\n",
    "    plots[0,1].set_xlabel(\"Latency (ms)\")\n",
    "    plots[0,1].set_ylabel(\"Count\")\n",
    "\n",
    "    plots[1,0].hist(isis[start_i], bins=50);\n",
    "    plots[1,0].set_title(\"Sender ISI\")\n",
    "    plots[1,0].set_xlabel(\"Time bin(ms)\")\n",
    "    plots[1,0].set_ylabel(\"ISI count\")\n",
    "\n",
    "    plots[1,1].hist(isis[end_i], bins=50);\n",
    "    plots[1,1].set_title(\"Receiver ISI\")\n",
    "    plots[1,1].set_xlabel(\"Time bin(ms)\")\n",
    "    plots[1,1].set_ylabel(\"ISI count\")\n",
    "    \n",
    "    \n",
    "    plots[2,0].plot( sd.neuron_data[0][start_i][\"template\"] )\n",
    "    plots[2,0].set_title(\"Sender Spike Waveform\")\n",
    "    plots[2,0].set_xlabel(\"\")\n",
    "    plots[2,0].set_ylabel(\"\")\n",
    "    \n",
    "    plots[2,1].plot( sd.neuron_data[0][end_i][\"template\"] )\n",
    "    plots[2,1].set_title(\"Receiver Spike Waveform\")\n",
    "    plots[2,1].set_xlabel(\"\")\n",
    "    plots[2,1].set_ylabel(\"\")\n",
    "    "
   ]
  },
  {
   "cell_type": "code",
   "execution_count": null,
   "id": "61b23872",
   "metadata": {},
   "outputs": [],
   "source": []
  },
  {
   "cell_type": "code",
   "execution_count": null,
   "id": "0cea2d86",
   "metadata": {},
   "outputs": [],
   "source": []
  },
  {
   "cell_type": "code",
   "execution_count": null,
   "id": "771ba073",
   "metadata": {},
   "outputs": [],
   "source": []
  },
  {
   "cell_type": "code",
   "execution_count": null,
   "id": "4193daa3",
   "metadata": {},
   "outputs": [],
   "source": []
  },
  {
   "cell_type": "code",
   "execution_count": null,
   "id": "f3fd2ad5",
   "metadata": {},
   "outputs": [],
   "source": []
  },
  {
   "cell_type": "markdown",
   "id": "5225bab6",
   "metadata": {},
   "source": [
    "# <font color=\"red\"> Sury Footprint Code  - Not Done"
   ]
  },
  {
   "cell_type": "code",
   "execution_count": 28,
   "id": "c9a6ecea",
   "metadata": {},
   "outputs": [],
   "source": [
    "checkit=sd.neuron_attributes[0]"
   ]
  },
  {
   "cell_type": "code",
   "execution_count": 29,
   "id": "d53b915a",
   "metadata": {},
   "outputs": [
    {
     "data": {
      "text/plain": [
       "NeuronAttributes(cluster_id=0, channel=0, position=(770.0, 1505.0), amplitudes=[24.698925018310547, 22.395610809326172, 19.42011833190918, 26.763961791992188, 19.278779983520508, 25.235591888427734, 21.036766052246094, 26.958547592163086, 20.22342872619629, 21.332565307617188, 20.236835479736328, 23.363849639892578, 24.62937355041504, 25.298574447631836, 24.968503952026367, 21.891164779663086, 22.66792106628418, 22.511791229248047, 19.495357513427734, 19.1392822265625, 23.136859893798828, 20.45022201538086, 24.182636260986328, 24.028135299682617, 19.083162307739258, 20.937353134155273, 25.734371185302734, 22.939176559448242, 20.742177963256836, 22.911893844604492, 21.04637336730957, 24.3459415435791, 18.578739166259766, 23.01606559753418, 16.69774055480957, 20.666006088256836, 22.349868774414062, 20.129724502563477, 18.53731918334961, 15.519327163696289, 17.141605377197266, 19.73779296875, 21.73084831237793, 18.985408782958984, 26.753620147705078, 23.182445526123047, 15.879393577575684, 25.43600845336914, 22.03922462463379, 24.166078567504883, 24.51311492919922, 25.82266616821289, 24.557971954345703, 22.44072914123535, 19.11854362487793, 22.084789276123047, 24.73548126220703, 24.178874969482422, 19.764238357543945, 21.62005043029785, 21.63608169555664, 23.494489669799805, 22.229366302490234, 17.00387954711914, 25.01093864440918, 23.239660263061523, 22.91063117980957, 19.368139266967773, 25.050518035888672, 25.479209899902344, 22.771968841552734, 23.87779998779297, 19.767335891723633, 24.462657928466797, 21.736406326293945, 19.15947723388672, 23.931396484375, 24.15210723876953, 21.332544326782227, 22.53488540649414, 22.394882202148438, 24.127235412597656, 20.112192153930664, 23.83582305908203, 19.517704010009766, 20.978368759155273, 19.37595558166504, 22.26919174194336, 25.399173736572266, 22.695331573486328, 22.084047317504883, 19.599233627319336, 19.933921813964844, 22.573665618896484, 23.38320541381836, 19.917139053344727, 24.658315658569336, 23.04249382019043, 22.742237091064453, 26.919401168823242, 26.22542381286621, 23.558712005615234, 19.011091232299805, 22.854106903076172, 22.376522064208984, 24.0253963470459, 20.237173080444336, 23.51676368713379, 21.669260025024414, 20.070106506347656, 25.260921478271484, 20.411073684692383, 23.365249633789062, 23.83429527282715, 20.49857521057129, 22.736495971679688, 20.970605850219727, 20.46168327331543, 23.365215301513672, 13.294672966003418, 21.41710090637207, 22.255109786987305, 24.280048370361328, 22.061880111694336, 26.89217185974121, 22.53200912475586, 20.35124969482422, 24.744953155517578, 24.067720413208008, 20.885848999023438, 19.83534049987793, 22.69172477722168, 22.653194427490234, 21.4646053314209, 20.97580909729004, 20.09613609313965, 22.59590721130371, 20.459156036376953, 21.269710540771484, 20.20400619506836, 22.237628936767578, 28.231977462768555, 21.022512435913086, 22.384111404418945, 30.21910285949707, 21.672590255737305, 21.6597900390625, 20.22084617614746, 20.79564666748047, 25.554075241088867, 21.725496292114258, 22.126121520996094, 20.471765518188477, 26.874221801757812, 21.695083618164062, 22.208084106445312, 22.607540130615234, 21.94730567932129, 20.557844161987305, 26.32436752319336, 25.33702850341797, 21.855915069580078, 24.331050872802734, 22.067869186401367, 20.732149124145508, 24.82437515258789, 24.552875518798828, 22.940284729003906, 30.381519317626953, 21.045923233032227, 20.088024139404297, 17.688161849975586, 25.864173889160156, 24.309295654296875, 22.584383010864258, 22.258689880371094, 23.48121452331543, 25.079252243041992, 24.30104637145996, 21.207988739013672, 22.20845603942871, 22.161367416381836, 21.808021545410156, 24.500505447387695, 24.44452476501465, 19.619064331054688, 21.60065269470215, 23.276168823242188, 22.551883697509766, 23.650909423828125, 18.547964096069336, 17.149145126342773, 22.894723892211914, 22.45027732849121, 23.51612091064453, 24.77332305908203, 24.42743492126465, 21.350563049316406, 21.25591468811035, 22.387235641479492, 22.073495864868164, 21.951845169067383, 27.758277893066406, 22.302635192871094, 21.523359298706055, 20.99722671508789, 21.34160041809082, 24.761049270629883, 19.05646514892578, 25.196250915527344, 20.030141830444336, 18.34586524963379, 22.40190315246582, 20.755373001098633, 22.261070251464844, 21.602109909057617, 18.944669723510742, 21.53902244567871, 21.545438766479492, 23.13083267211914, 21.46177864074707, 18.959367752075195, 24.131046295166016, 20.937347412109375, 23.580827713012695, 20.857574462890625, 22.190813064575195, 16.737558364868164, 20.445167541503906, 22.885147094726562, 20.498104095458984, 23.814603805541992, 20.923471450805664, 22.022985458374023, 26.50182342529297, 23.86713409423828, 18.0760555267334, 22.93677520751953, 22.215991973876953, 22.39891815185547, 23.75353240966797, 22.415367126464844, 25.86640167236328, 19.73894691467285, 17.316057205200195, 21.130708694458008, 20.27044677734375, 24.247411727905273, 23.299606323242188, 25.862619400024414, 22.21137809753418, 20.32917022705078, 24.206153869628906, 25.202783584594727, 22.939258575439453, 21.93271827697754, 20.203044891357422, 27.43722152709961, 20.838321685791016, 21.583026885986328, 21.152009963989258, 23.330509185791016, 20.968975067138672, 24.81854248046875, 23.71076202392578, 18.411540985107422, 22.153738021850586, 19.59283447265625, 23.159015655517578, 22.336101531982422, 24.577539443969727, 22.570432662963867, 19.407390594482422, 20.767127990722656, 21.837018966674805, 22.636075973510742, 28.042613983154297, 22.373559951782227, 23.353191375732422, 25.619497299194336, 21.525381088256836, 20.094161987304688, 19.423656463623047, 17.42540740966797, 21.470022201538086, 19.871326446533203, 21.90715789794922, 21.168928146362305, 17.27336883544922, 21.974151611328125, 20.005220413208008, 22.614938735961914, 22.656579971313477, 24.66812515258789, 21.97625732421875, 20.773292541503906, 21.46013641357422, 23.65104103088379, 24.082965850830078, 24.439529418945312, 19.498197555541992, 24.051664352416992, 20.9355411529541, 26.536558151245117, 26.690208435058594, 19.748376846313477, 19.58417510986328, 23.144241333007812, 22.913589477539062, 22.69194984436035, 26.2872371673584, 22.437776565551758, 21.017730712890625, 21.392444610595703, 22.449363708496094, 20.131046295166016, 20.84341049194336, 18.326745986938477, 23.14581871032715, 23.700937271118164, 20.313655853271484, 20.22975730895996, 23.68722915649414, 22.604488372802734, 19.656023025512695, 25.25090789794922, 21.860132217407227, 20.35538101196289, 20.400585174560547, 21.458280563354492, 21.180660247802734, 24.63637924194336, 21.013254165649414, 19.539566040039062, 21.038557052612305, 19.027877807617188, 22.58667755126953, 16.34636878967285, 20.853673934936523, 21.037460327148438, 19.95686149597168, 21.127714157104492, 23.165889739990234, 21.097410202026367, 24.37417984008789, 26.36194610595703, 21.279499053955078, 22.287378311157227, 21.9000301361084, 22.68023109436035, 22.8890438079834, 20.649921417236328, 24.41020393371582, 19.75946044921875, 20.355728149414062, 20.385530471801758, 18.873455047607422, 24.85724639892578, 20.135986328125, 25.58910369873047, 20.39472198486328, 22.87507438659668, 21.462064743041992, 20.154979705810547, 22.493207931518555, 19.983400344848633, 19.786821365356445, 19.600173950195312, 21.997652053833008, 15.867792129516602, 23.568222045898438, 25.083574295043945, 21.76578140258789, 20.723981857299805, 18.395362854003906, 21.107261657714844, 20.319541931152344, 19.981887817382812, 23.368595123291016, 24.712806701660156, 26.45901870727539, 26.222431182861328, 23.956192016601562, 23.980045318603516, 18.425928115844727, 16.98517417907715, 21.029897689819336, 24.235912322998047, 23.399904251098633, 18.771074295043945, 24.323524475097656, 19.228458404541016, 21.989360809326172, 21.725749969482422, 22.597517013549805, 23.5068359375, 22.705875396728516, 22.56791114807129, 18.345396041870117, 23.314958572387695, 21.379655838012695, 23.12966537475586, 19.94387435913086, 22.87311553955078, 19.972684860229492, 22.44590950012207, 20.16936492919922, 21.88465690612793, 22.317779541015625, 21.452503204345703, 22.187294006347656, 18.70122718811035, 22.462839126586914, 20.816701889038086, 21.469804763793945, 21.513595581054688, 19.095643997192383, 23.753520965576172, 19.221004486083984, 20.15061378479004, 22.654481887817383, 19.6099910736084, 19.77760124206543, 20.589847564697266, 23.01715850830078, 19.507173538208008, 24.201799392700195, 19.841663360595703, 26.384544372558594, 24.52631950378418, 25.75715446472168, 19.359254837036133, 21.33472442626953, 24.533872604370117, 19.380664825439453, 23.51272201538086, 22.12883186340332, 23.917634963989258, 19.16510581970215, 21.627323150634766, 22.75746726989746, 21.652812957763672, 24.975290298461914, 24.3992977142334, 22.864017486572266, 24.11393165588379, 22.134565353393555, 21.210325241088867, 24.444808959960938, 23.837675094604492, 22.1364803314209, 25.028776168823242, 21.739856719970703, 20.516645431518555, 22.466209411621094, 18.874116897583008, 27.43915557861328, 22.439905166625977, 19.981313705444336, 20.21454620361328, 26.379417419433594, 21.41694450378418, 22.14048957824707, 21.26961898803711, 18.735347747802734, 22.057720184326172, 22.2379207611084, 24.634281158447266, 20.01837921142578, 19.56731605529785, 22.237985610961914, 21.457338333129883, 19.457904815673828, 18.903213500976562, 23.080419540405273, 20.92266082763672, 22.086761474609375, 20.275650024414062, 20.99199867248535, 25.685956954956055, 23.831937789916992, 19.664505004882812, 21.757619857788086, 16.88522720336914, 23.299646377563477, 21.184722900390625, 23.069381713867188, 18.92867088317871, 23.914642333984375, 13.902547836303711, 19.475341796875, 22.60751724243164, 20.95068359375, 19.882535934448242, 21.736522674560547, 22.621217727661133, 22.985294342041016, 22.669137954711914, 20.472549438476562, 20.874603271484375, 18.2429141998291, 21.112939834594727, 19.8933048248291, 15.698410987854004, 18.084840774536133, 21.718236923217773, 21.676055908203125, 21.254533767700195, 22.23978042602539, 22.395883560180664, 20.186389923095703, 25.427030563354492, 20.50092124938965, 22.082149505615234, 24.151508331298828, 26.056459426879883, 19.944692611694336, 26.80763816833496, 20.773853302001953, 21.870744705200195, 23.200754165649414, 21.91123390197754, 21.871753692626953, 23.704496383666992, 23.11767578125, 20.861671447753906, 19.607179641723633, 23.82276725769043, 24.316795349121094, 22.458759307861328, 22.568370819091797, 24.727943420410156, 21.880002975463867, 21.940744400024414, 21.97372055053711, 21.159915924072266, 15.83938980102539, 24.869535446166992, 21.50362777709961, 25.980756759643555, 25.523468017578125, 20.63348388671875, 25.821369171142578, 29.7402286529541, 21.869916915893555, 24.07341766357422, 22.132661819458008, 24.980562210083008, 21.897258758544922, 20.6462345123291, 25.64345359802246, 23.731603622436523, 22.407188415527344, 15.352781295776367, 20.952552795410156, 25.26611328125, 22.44965362548828, 20.69976234436035, 23.32356071472168, 20.96354866027832, 19.189817428588867, 22.478612899780273, 24.11693572998047, 24.5950984954834, 21.5278377532959, 18.21125030517578, 22.768787384033203, 23.652076721191406, 25.811588287353516, 21.433746337890625, 21.917255401611328, 21.916175842285156, 21.671812057495117, 23.354286193847656, 21.867101669311523, 17.68756103515625, 25.432933807373047, 23.038427352905273, 23.644657135009766, 14.846439361572266, 20.663278579711914, 18.20231819152832, 20.640172958374023, 23.619876861572266, 22.265348434448242, 20.82261848449707, 21.98495101928711, 16.92058753967285, 20.416316986083984, 20.386014938354492, 21.073999404907227, 26.948448181152344, 21.436080932617188, 21.994773864746094, 18.941848754882812, 21.759714126586914, 21.127458572387695, 20.023775100708008, 18.679880142211914, 25.665664672851562, 22.73183822631836, 26.40880012512207, 26.97520637512207, 22.428632736206055, 22.726961135864258, 24.914791107177734, 24.70073127746582, 21.795244216918945, 20.85874366760254, 23.42576789855957, 19.424768447875977, 23.724369049072266, 19.885639190673828, 21.38979721069336, 22.21106719970703, 21.960643768310547, 23.056989669799805, 20.696577072143555, 20.6948184967041, 18.64521598815918, 22.3149471282959, 23.662384033203125, 21.43385124206543, 24.38252067565918, 22.495738983154297, 22.341489791870117, 20.080440521240234, 21.032649993896484, 24.350786209106445, 22.804895401000977, 20.649770736694336, 22.27560806274414, 21.50652313232422, 21.199310302734375, 20.47679328918457, 21.373144149780273, 21.26926612854004, 24.031845092773438, 19.259782791137695, 24.06755256652832, 21.500076293945312, 18.18632698059082, 16.41976547241211, 26.49472999572754, 20.544361114501953, 20.086198806762695, 23.405807495117188, 20.98052978515625, 22.037302017211914, 19.85150718688965, 21.572778701782227, 14.33835506439209, 24.109209060668945, 25.966693878173828, 17.34049415588379, 17.80343246459961, 16.54874038696289, 23.584545135498047, 35.93003845214844, 29.931337356567383, 22.898601531982422, 18.313066482543945, 15.194270133972168, 24.331195831298828, 17.253101348876953, 22.0346736907959, 23.085067749023438, 21.739089965820312, 23.91297721862793, 21.998065948486328, 24.134340286254883, 23.10824203491211, 21.971097946166992, 21.408340454101562, 22.39108657836914, 21.828214645385742, 25.084238052368164, 22.374053955078125, 19.378419876098633, 23.846630096435547, 22.595977783203125, 21.461429595947266, 24.75529670715332, 19.331722259521484, 20.832996368408203, 21.2396297454834, 25.630521774291992, 22.021081924438477, 24.771623611450195, 24.0106143951416, 20.15082359313965, 25.300403594970703, 19.602237701416016, 21.19704818725586, 22.754621505737305, 23.027259826660156, 22.767562866210938, 21.879724502563477, 24.476789474487305, 21.478315353393555, 21.593585968017578, 24.755416870117188, 22.732929229736328, 22.948881149291992, 19.123794555664062, 22.56062889099121, 22.587759017944336, 20.72534942626953, 22.905155181884766, 22.55921745300293, 23.1160888671875, 21.340351104736328, 20.70954132080078, 23.03621482849121, 21.912477493286133, 21.78099822998047, 18.77720832824707, 19.909711837768555, 19.71588897705078, 19.93213653564453, 14.102149963378906, 21.47727394104004, 22.236942291259766, 21.376007080078125, 18.96219825744629, 20.534879684448242, 19.512229919433594, 25.269001007080078, 23.370113372802734, 24.41895294189453, 23.44313621520996, 26.491979598999023, 22.037038803100586, 19.85784149169922, 22.152700424194336, 23.86356544494629, 21.252593994140625, 19.16935157775879, 21.417821884155273, 23.56926155090332, 24.26827621459961, 19.06169891357422, 23.251890182495117, 19.85536003112793, 22.82769012451172, 19.967388153076172, 18.50293731689453, 20.820756912231445, 21.168458938598633, 28.70250129699707, 27.006668090820312, 23.060327529907227, 22.333515167236328, 22.848209381103516, 22.2144718170166, 22.68000030517578, 24.462148666381836, 20.951208114624023, 23.91493797302246, 22.49242401123047, 16.206506729125977, 21.298952102661133, 22.244220733642578, 21.275014877319336, 23.040021896362305, 20.91168785095215, 21.296457290649414, 21.993885040283203, 26.3386173248291, 26.570323944091797, 22.468297958374023, 20.914958953857422, 23.966304779052734, 21.461502075195312, 23.336841583251953, 17.102293014526367, 20.17167091369629, 22.96516227722168, 24.17347526550293, 20.06767463684082, 19.955333709716797, 21.89476203918457, 23.898101806640625, 22.90850067138672, 26.647706985473633, 27.78499412536621, 21.06911277770996, 22.438413619995117, 22.695648193359375, 19.85645294189453, 22.2694149017334, 19.416959762573242, 21.67238426208496, 21.422483444213867, 19.387191772460938, 22.508981704711914, 25.56570816040039, 21.220422744750977, 20.082836151123047, 20.72254180908203, 22.053787231445312, 21.967247009277344, 21.786787033081055, 21.956310272216797, 22.60367774963379, 24.512632369995117, 21.75324058532715, 23.111679077148438, 22.196880340576172, 20.336639404296875, 25.615713119506836, 25.561342239379883, 21.54669189453125, 24.08880043029785, 25.278270721435547, 22.16185188293457, 24.277021408081055, 13.42611026763916, 17.28989028930664, 17.703327178955078, 19.927753448486328, 16.367355346679688, 21.079872131347656, 16.157787322998047, 20.11248016357422, 19.694530487060547, 22.06681251525879, 24.012672424316406, 23.23988914489746, 23.908157348632812, 25.907365798950195, 23.001317977905273, 21.220237731933594, 21.390439987182617, 23.078710556030273, 21.832557678222656, 21.838455200195312, 23.697336196899414, 25.986270904541016, 21.759984970092773, 23.101457595825195, 21.93613052368164, 23.305917739868164, 21.147117614746094, 21.63291358947754, 23.011463165283203, 19.056711196899414, 22.930177688598633, 22.027402877807617, 22.768117904663086, 20.68250274658203, 19.376792907714844, 20.661632537841797, 21.18527603149414, 19.265087127685547, 23.878795623779297, 25.43720245361328, 20.933250427246094, 21.458267211914062, 22.01774787902832, 20.20165252685547, 25.122251510620117, 22.85186767578125, 21.099960327148438, 17.31459617614746, 22.71982192993164, 23.00986671447754, 23.790382385253906, 23.92694664001465, 21.566787719726562, 22.254451751708984, 18.569982528686523, 19.800662994384766, 21.955482482910156, 22.891109466552734, 17.425596237182617, 21.531320571899414, 17.79523277282715, 17.707460403442383, 22.808696746826172, 18.947490692138672, 24.632150650024414, 22.615074157714844, 21.478900909423828, 21.408498764038086, 18.777847290039062, 23.547840118408203, 22.882339477539062, 24.444061279296875, 21.757808685302734, 24.595741271972656, 23.43796157836914, 20.799657821655273, 25.549304962158203, 20.748777389526367, 20.41758918762207, 24.340797424316406, 19.064180374145508, 23.346834182739258, 20.355083465576172, 22.018095016479492, 19.64649200439453, 19.785520553588867, 18.75026512145996, 22.017576217651367, 24.944272994995117, 23.307342529296875, 19.148954391479492, 17.803144454956055, 25.744712829589844, 21.394018173217773, 23.17083740234375, 21.39284324645996, 20.547555923461914, 19.415571212768555, 21.171449661254883, 18.46404266357422, 19.495054244995117, 22.126523971557617, 18.798368453979492, 20.89563751220703, 28.111066818237305, 17.76508140563965, 20.85548210144043, 19.98314094543457, 23.115798950195312, 24.617963790893555, 21.01995086669922, 23.752180099487305, 22.34033203125, 23.896154403686523, 23.08036231994629, 20.95989990234375, 23.11677360534668, 19.51836585998535, 22.341320037841797, 22.956256866455078, 27.45653533935547, 23.885818481445312, 13.327568054199219, 22.863758087158203, 20.785764694213867, 20.476318359375, 22.056509017944336, 18.160783767700195, 20.270931243896484, 20.820524215698242, 22.76128387451172, 22.066356658935547, 22.93853187561035, 20.519134521484375, 25.679943084716797, 23.930450439453125, 25.31049346923828, 19.582653045654297, 20.30467987060547, 18.876920700073242, 21.442794799804688, 23.656658172607422, 24.74910545349121, 22.767967224121094, 25.589189529418945, 24.641311645507812, 20.95530891418457, 20.097858428955078, 22.894039154052734, 23.72474479675293, 18.52650260925293, 23.24838638305664, 24.231672286987305, 17.176956176757812, 24.424564361572266, 22.044414520263672, 24.17343521118164, 23.15882110595703, 23.35527801513672, 22.005817413330078, 24.023632049560547, 20.400968551635742, 19.214359283447266, 18.661964416503906, 22.879682540893555, 23.392696380615234, 21.169668197631836, 24.604930877685547, 20.1594181060791, 22.045042037963867, 23.059364318847656, 20.987253189086914, 21.25362205505371, 21.497446060180664, 19.261802673339844, 21.2246150970459, 20.730554580688477, 18.152368545532227, 19.238893508911133, 19.13228416442871, 21.233816146850586, 19.57384490966797, 21.87038230895996, 19.239654541015625, 22.377885818481445, 21.657155990600586, 24.59950065612793, 16.699121475219727, 24.766401290893555, 15.782901763916016, 23.366859436035156, 22.169071197509766, 24.00650405883789, 23.831804275512695, 21.53842544555664, 20.71639060974121, 19.735923767089844], template=array([ 0.00000000e+00,  0.00000000e+00,  0.00000000e+00,  0.00000000e+00,\n",
       "        0.00000000e+00,  0.00000000e+00,  0.00000000e+00,  0.00000000e+00,\n",
       "        0.00000000e+00,  0.00000000e+00,  0.00000000e+00,  0.00000000e+00,\n",
       "        0.00000000e+00,  0.00000000e+00,  0.00000000e+00,  0.00000000e+00,\n",
       "        0.00000000e+00,  0.00000000e+00,  0.00000000e+00,  0.00000000e+00,\n",
       "        0.00000000e+00,  7.47411112e-14,  6.24425783e-14,  6.94054302e-14,\n",
       "        6.70033343e-14,  6.61546891e-14,  7.22462119e-14,  6.97560152e-14,\n",
       "        6.52694767e-14,  7.18267731e-14,  7.75120845e-14,  7.24710600e-14,\n",
       "        7.25020481e-14,  7.05975775e-14,  5.41956719e-14,  5.51051279e-14,\n",
       "        4.69308451e-14, -1.39336588e-13, -6.14427767e-13, -1.07069178e-12,\n",
       "       -1.09987578e-12, -7.50012488e-13, -3.50082590e-13, -7.34739552e-14,\n",
       "        1.25901519e-13,  2.56919368e-13,  2.94084818e-13,  2.76373026e-13,\n",
       "        2.57205251e-13,  2.40014308e-13,  2.12270743e-13,  1.80089544e-13,\n",
       "        1.62875393e-13,  1.56428505e-13,  1.46353785e-13,  1.27564401e-13,\n",
       "        1.12426083e-13,  1.03929157e-13,  9.10831474e-14,  8.02174632e-14,\n",
       "        6.69316866e-14,  4.79962223e-14,  3.05365779e-14,  2.24145263e-14,\n",
       "        2.02603853e-14,  1.96872744e-14,  1.05075994e-14,  3.30715234e-15,\n",
       "       -3.51605591e-15, -4.52955756e-15,  2.31704221e-15, -9.75922898e-15,\n",
       "       -2.56802646e-14, -3.26206209e-14, -2.88283945e-14, -2.67652072e-14,\n",
       "       -2.93472437e-14, -2.41947309e-14, -2.10666963e-14, -1.64700305e-14,\n",
       "       -2.69906706e-14,  1.22474668e-14]), templates=array([[ 0.00000000e+00,  0.00000000e+00,  0.00000000e+00, ...,\n",
       "        -8.56963019e-03, -1.06624154e-02,  3.90694862e-03],\n",
       "       [ 0.00000000e+00,  0.00000000e+00,  0.00000000e+00, ...,\n",
       "        -3.68902478e-08, -6.12938901e-08,  2.61279530e-08],\n",
       "       [ 0.00000000e+00,  0.00000000e+00,  0.00000000e+00, ...,\n",
       "        -2.81748466e-07, -4.61768461e-07,  2.09433028e-07],\n",
       "       ...,\n",
       "       [ 0.00000000e+00,  0.00000000e+00,  0.00000000e+00, ...,\n",
       "        -5.45627264e-08, -9.37977625e-08,  3.36879773e-08],\n",
       "       [ 0.00000000e+00,  0.00000000e+00,  0.00000000e+00, ...,\n",
       "        -1.15809663e-12, -1.89747878e-12,  8.61795297e-13],\n",
       "       [ 0.00000000e+00,  0.00000000e+00,  0.00000000e+00, ...,\n",
       "        -1.30083353e-05, -2.53134336e-05,  7.85325430e-07]]), label=nan, neighbor_channels=array([  0, 225, 209, 253, 197,  32,  44, 193, 181,  90,  60, 337],\n",
       "      dtype=int32), neighbor_positions=[(770.0, 1505.0), (770.0, 1470.0), (805.0, 1505.0), (805.0, 1470.0), (770.0, 1540.0), (805.0, 1540.0), (840.0, 1505.0), (840.0, 1470.0), (805.0, 1575.0), (875.0, 1505.0), (840.0, 1435.0), (875.0, 1575.0)], neighbor_templates=[array([ 0.        ,  0.        ,  0.        ,  0.        ,  0.        ,\n",
       "        0.        ,  0.        ,  0.        ,  0.        ,  0.        ,\n",
       "        0.        ,  0.        ,  0.        ,  0.        ,  0.        ,\n",
       "        0.        ,  0.        ,  0.        ,  0.        ,  0.        ,\n",
       "        0.        ,  0.02770975,  0.02253172,  0.02248756,  0.02095748,\n",
       "        0.02140627,  0.02206832,  0.02132306,  0.0218678 ,  0.02312134,\n",
       "        0.02372251,  0.02115957,  0.01846454,  0.01864221,  0.01662775,\n",
       "        0.01057641,  0.00536051, -0.02834856, -0.16012217, -0.3690373 ,\n",
       "       -0.49541316, -0.42048365, -0.2179507 , -0.03440685,  0.08296763,\n",
       "        0.15206458,  0.1766756 ,  0.16549425,  0.1459952 ,  0.12784187,\n",
       "        0.10731196,  0.08732821,  0.07191618,  0.06063346,  0.05054777,\n",
       "        0.04149525,  0.03523107,  0.02929217,  0.02368444,  0.01862967,\n",
       "        0.01292652,  0.00871375,  0.00520166,  0.00099392, -0.00185481,\n",
       "       -0.00136353, -0.0031819 , -0.00734639, -0.00898828, -0.00848384,\n",
       "       -0.00690235, -0.00800975, -0.0101524 , -0.0115552 , -0.01200295,\n",
       "       -0.01067309, -0.01101128, -0.01161996, -0.01229569, -0.00856963,\n",
       "       -0.01066242,  0.00390695]), array([ 0.        ,  0.        ,  0.        ,  0.        ,  0.        ,\n",
       "        0.        ,  0.        ,  0.        ,  0.        ,  0.        ,\n",
       "        0.        ,  0.        ,  0.        ,  0.        ,  0.        ,\n",
       "        0.        ,  0.        ,  0.        ,  0.        ,  0.        ,\n",
       "        0.        ,  0.02354109,  0.01837274,  0.01888465,  0.01897903,\n",
       "        0.01910238,  0.01878798,  0.01675935,  0.01655837,  0.0178971 ,\n",
       "        0.01822548,  0.01722522,  0.01388373,  0.01176913,  0.01083497,\n",
       "        0.00327612, -0.00161262, -0.00094891, -0.06241185, -0.23941008,\n",
       "       -0.42131573, -0.42567367, -0.25572725, -0.06848252,  0.05326095,\n",
       "        0.12663527,  0.16139749,  0.15882159,  0.14290755,  0.12669827,\n",
       "        0.10836972,  0.08917356,  0.07273088,  0.05851847,  0.04471237,\n",
       "        0.03590161,  0.0304414 ,  0.0211911 ,  0.01566917,  0.01340889,\n",
       "        0.00922765,  0.00533664,  0.00438927,  0.00104512, -0.00476607,\n",
       "       -0.00715766, -0.00683172, -0.00792408, -0.00926134, -0.01165152,\n",
       "       -0.01209357, -0.00927082, -0.00885309, -0.01124159, -0.01300069,\n",
       "       -0.01154943, -0.01056756, -0.01030857, -0.0116958 , -0.00909734,\n",
       "       -0.01179921,  0.00124932]), array([ 0.00000000e+00,  0.00000000e+00,  0.00000000e+00,  0.00000000e+00,\n",
       "        0.00000000e+00,  0.00000000e+00,  0.00000000e+00,  0.00000000e+00,\n",
       "        0.00000000e+00,  0.00000000e+00,  0.00000000e+00,  0.00000000e+00,\n",
       "        0.00000000e+00,  0.00000000e+00,  0.00000000e+00,  0.00000000e+00,\n",
       "        0.00000000e+00,  0.00000000e+00,  0.00000000e+00,  0.00000000e+00,\n",
       "        0.00000000e+00,  2.53303782e-02,  2.04957129e-02,  2.20728920e-02,\n",
       "        2.17445558e-02,  2.16318106e-02,  2.25706903e-02,  2.10509368e-02,\n",
       "        2.00803210e-02,  2.19663483e-02,  2.31770562e-02,  2.18154689e-02,\n",
       "        2.01508879e-02,  1.86523769e-02,  1.51793800e-02,  1.15686087e-02,\n",
       "        7.65601260e-03, -2.52428185e-02, -1.40959020e-01, -3.11643913e-01,\n",
       "       -4.08953057e-01, -3.49358064e-01, -1.92688374e-01, -4.89047816e-02,\n",
       "        4.83178309e-02,  1.09015819e-01,  1.33490520e-01,  1.29309265e-01,\n",
       "        1.18077406e-01,  1.06995072e-01,  9.29127797e-02,  7.75112100e-02,\n",
       "        6.61744788e-02,  5.78575629e-02,  4.90265933e-02,  4.12014716e-02,\n",
       "        3.57292442e-02,  2.94488455e-02,  2.43417570e-02,  2.13295973e-02,\n",
       "        1.68641426e-02,  1.14313581e-02,  7.82190484e-03,  4.70200276e-03,\n",
       "        1.31102671e-03, -1.01730535e-04, -1.55855873e-03, -3.29997014e-03,\n",
       "       -5.21719113e-03, -6.71204866e-03, -5.74249842e-03, -6.43288564e-03,\n",
       "       -9.08479554e-03, -1.15988912e-02, -1.18141690e-02, -1.07106065e-02,\n",
       "       -1.06505870e-02, -9.52154755e-03, -9.65094446e-03, -7.56770012e-03,\n",
       "       -1.08872380e-02,  2.78001043e-03]), array([ 0.        ,  0.        ,  0.        ,  0.        ,  0.        ,\n",
       "        0.        ,  0.        ,  0.        ,  0.        ,  0.        ,\n",
       "        0.        ,  0.        ,  0.        ,  0.        ,  0.        ,\n",
       "        0.        ,  0.        ,  0.        ,  0.        ,  0.        ,\n",
       "        0.        ,  0.02204895,  0.0180324 ,  0.01873999,  0.01780336,\n",
       "        0.01793673,  0.01881906,  0.01806799,  0.01786082,  0.01919355,\n",
       "        0.02005863,  0.01829743,  0.01679025,  0.01651662,  0.01389251,\n",
       "        0.01058679,  0.00698207, -0.0269294 , -0.13959225, -0.29520263,\n",
       "       -0.37090247, -0.30208746, -0.15554669, -0.02858251,  0.0549886 ,\n",
       "        0.10566852,  0.12346607,  0.11634688,  0.10418291,  0.0928125 ,\n",
       "        0.07913412,  0.06520118,  0.05507657,  0.04809977,  0.04135013,\n",
       "        0.0346137 ,  0.0297918 ,  0.02547526,  0.02117808,  0.01759057,\n",
       "        0.01331221,  0.00918775,  0.00576619,  0.00275495,  0.00076515,\n",
       "        0.0007459 , -0.00097467, -0.00369636, -0.00523465, -0.0052912 ,\n",
       "       -0.00391961, -0.00539962, -0.00792827, -0.00945103, -0.00942305,\n",
       "       -0.00848981, -0.0088231 , -0.00857513, -0.00868856, -0.00630706,\n",
       "       -0.00852694,  0.00311339]), array([ 0.        ,  0.        ,  0.        ,  0.        ,  0.        ,\n",
       "        0.        ,  0.        ,  0.        ,  0.        ,  0.        ,\n",
       "        0.        ,  0.        ,  0.        ,  0.        ,  0.        ,\n",
       "        0.        ,  0.        ,  0.        ,  0.        ,  0.        ,\n",
       "        0.        ,  0.02247903,  0.01803633,  0.01969851,  0.01977136,\n",
       "        0.01957158,  0.02027593,  0.01858588,  0.01745567,  0.01925366,\n",
       "        0.02036019,  0.01946709,  0.01787501,  0.01596115,  0.01286035,\n",
       "        0.00940037,  0.00592878, -0.01805876, -0.11094641, -0.26030816,\n",
       "       -0.35862725, -0.31919685, -0.18338814, -0.05239124,  0.03695571,\n",
       "        0.09328744,  0.11776428,  0.11593441,  0.10674351,  0.09731188,\n",
       "        0.08511709,  0.07132444,  0.06091874,  0.05288164,  0.0441154 ,\n",
       "        0.03700891,  0.03215238,  0.02571706,  0.0210467 ,  0.01890964,\n",
       "        0.015144  ,  0.01010766,  0.00724116,  0.00458738,  0.00087308,\n",
       "       -0.00108511, -0.00201176, -0.00289957, -0.00463176, -0.00667398,\n",
       "       -0.00619098, -0.00607604, -0.0080848 , -0.01065967, -0.01108621,\n",
       "       -0.01005862, -0.00973405, -0.00842091, -0.00863742, -0.00702515,\n",
       "       -0.01028176,  0.00200575]), array([ 0.        ,  0.        ,  0.        ,  0.        ,  0.        ,\n",
       "        0.        ,  0.        ,  0.        ,  0.        ,  0.        ,\n",
       "        0.        ,  0.        ,  0.        ,  0.        ,  0.        ,\n",
       "        0.        ,  0.        ,  0.        ,  0.        ,  0.        ,\n",
       "        0.        ,  0.01950886,  0.01603309,  0.0172631 ,  0.0166715 ,\n",
       "        0.01660689,  0.01766828,  0.01686579,  0.01616018,  0.01761218,\n",
       "        0.01868862,  0.01736365,  0.01653707,  0.01594308,  0.0128022 ,\n",
       "        0.01107863,  0.00832652, -0.02718802, -0.13280739, -0.26190524,\n",
       "       -0.309355  , -0.24154361, -0.12370622, -0.02655174,  0.03961839,\n",
       "        0.08109381,  0.09550076,  0.09068872,  0.08263798,  0.0750548 ,\n",
       "        0.0650921 ,  0.05433776,  0.04708245,  0.04249148,  0.03751117,\n",
       "        0.03191955,  0.02778343,  0.02426363,  0.02058914,  0.01778095,\n",
       "        0.01421012,  0.00993471,  0.00641594,  0.00402542,  0.00246358,\n",
       "        0.00209456,  0.00036494, -0.001547  , -0.0030949 , -0.00353555,\n",
       "       -0.00224372, -0.00400918, -0.00689536, -0.00857986, -0.00825489,\n",
       "       -0.00752771, -0.00786511, -0.00704852, -0.0068122 , -0.00518041,\n",
       "       -0.00759933,  0.00274318]), array([ 0.        ,  0.        ,  0.        ,  0.        ,  0.        ,\n",
       "        0.        ,  0.        ,  0.        ,  0.        ,  0.        ,\n",
       "        0.        ,  0.        ,  0.        ,  0.        ,  0.        ,\n",
       "        0.        ,  0.        ,  0.        ,  0.        ,  0.        ,\n",
       "        0.        ,  0.01845538,  0.01536911,  0.01595675,  0.01478352,\n",
       "        0.01492672,  0.01603532,  0.01582522,  0.01571782,  0.01682284,\n",
       "        0.01769751,  0.01590438,  0.01513639,  0.01554961,  0.01285896,\n",
       "        0.01123698,  0.00849762, -0.03112542, -0.14375347, -0.27166043,\n",
       "       -0.30482578, -0.2228487 , -0.10294034, -0.01138789,  0.04905603,\n",
       "        0.0856716 ,  0.09562351,  0.08782194,  0.07821659,  0.06968001,\n",
       "        0.05914623,  0.04867207,  0.04179491,  0.0379374 ,  0.03429873,\n",
       "        0.02913591,  0.02518337,  0.02303996,  0.01972947,  0.01616463,\n",
       "        0.01242786,  0.00889572,  0.00521916,  0.00270269,  0.0022099 ,\n",
       "        0.00301465,  0.0008991 , -0.00203839, -0.00339936, -0.00263387,\n",
       "       -0.00087601, -0.00348494, -0.00652631, -0.00750572, -0.00694156,\n",
       "       -0.00629482, -0.00700342, -0.00687697, -0.00660648, -0.00456523,\n",
       "       -0.0062521 ,  0.00328307]), array([ 0.00000000e+00,  0.00000000e+00,  0.00000000e+00,  0.00000000e+00,\n",
       "        0.00000000e+00,  0.00000000e+00,  0.00000000e+00,  0.00000000e+00,\n",
       "        0.00000000e+00,  0.00000000e+00,  0.00000000e+00,  0.00000000e+00,\n",
       "        0.00000000e+00,  0.00000000e+00,  0.00000000e+00,  0.00000000e+00,\n",
       "        0.00000000e+00,  0.00000000e+00,  0.00000000e+00,  0.00000000e+00,\n",
       "        0.00000000e+00,  1.63285281e-02,  1.31632973e-02,  1.47577453e-02,\n",
       "        1.49459779e-02,  1.46851250e-02,  1.53926512e-02,  1.40945555e-02,\n",
       "        1.29415084e-02,  1.44220277e-02,  1.54316930e-02,  1.49188656e-02,\n",
       "        1.41086818e-02,  1.25204499e-02,  9.72162366e-03,  8.02783298e-03,\n",
       "        5.79847917e-03, -1.56417273e-02, -8.77078881e-02, -1.90596667e-01,\n",
       "       -2.48194411e-01, -2.14065183e-01, -1.23113460e-01, -3.83269054e-02,\n",
       "        2.11808087e-02,  5.96917506e-02,  7.63995605e-02,  7.59446599e-02,\n",
       "        7.10321508e-02,  6.58117702e-02,  5.83650727e-02,  4.94062320e-02,\n",
       "        4.30082271e-02,  3.82698065e-02,  3.26244584e-02,  2.77192666e-02,\n",
       "        2.42786653e-02,  1.98593012e-02,  1.65609548e-02,  1.52191671e-02,\n",
       "        1.26147874e-02,  8.55155686e-03,  6.11935383e-03,  4.36742499e-03,\n",
       "        1.84721974e-03,  2.34395999e-04, -6.00640612e-04, -9.55704301e-04,\n",
       "       -2.33689599e-03, -4.03588566e-03, -3.60864521e-03, -3.87640187e-03,\n",
       "       -5.79133066e-03, -7.86520593e-03, -7.95930009e-03, -7.28183223e-03,\n",
       "       -7.09178457e-03, -5.75849148e-03, -5.68417826e-03, -4.81578501e-03,\n",
       "       -7.46560276e-03,  1.47865792e-03]), array([ 0.        ,  0.        ,  0.        ,  0.        ,  0.        ,\n",
       "        0.        ,  0.        ,  0.        ,  0.        ,  0.        ,\n",
       "        0.        ,  0.        ,  0.        ,  0.        ,  0.        ,\n",
       "        0.        ,  0.        ,  0.        ,  0.        ,  0.        ,\n",
       "        0.        ,  0.01504889,  0.0121661 ,  0.01370022,  0.01386256,\n",
       "        0.01360545,  0.01432264,  0.01315086,  0.01203813,  0.01343102,\n",
       "        0.01440926,  0.0139317 ,  0.01328613,  0.01184498,  0.00913069,\n",
       "        0.00780694,  0.0058256 , -0.01558699, -0.08437193, -0.17805186,\n",
       "       -0.22618634, -0.19168861, -0.10939718, -0.03427788,  0.01883305,\n",
       "        0.05341635,  0.06820442,  0.06777171,  0.06359062,  0.05913864,\n",
       "        0.0525923 ,  0.04461701,  0.03905438,  0.03504453,  0.03013793,\n",
       "        0.0257017 ,  0.02255264,  0.01865036,  0.01565124,  0.01440107,\n",
       "        0.01200924,  0.00818947,  0.00581836,  0.0042336 ,  0.00204282,\n",
       "        0.00059582, -0.00025975, -0.00059567, -0.00189566, -0.00342699,\n",
       "       -0.00296733, -0.00339234, -0.00531425, -0.0072341 , -0.00723752,\n",
       "       -0.00663643, -0.00650634, -0.00522085, -0.00508165, -0.00432801,\n",
       "       -0.00680302,  0.00142534]), array([ 0.        ,  0.        ,  0.        ,  0.        ,  0.        ,\n",
       "        0.        ,  0.        ,  0.        ,  0.        ,  0.        ,\n",
       "        0.        ,  0.        ,  0.        ,  0.        ,  0.        ,\n",
       "        0.        ,  0.        ,  0.        ,  0.        ,  0.        ,\n",
       "        0.        ,  0.01168409,  0.00966268,  0.01032144,  0.00983788,\n",
       "        0.00983043,  0.01052467,  0.01016814,  0.00982871,  0.01066099,\n",
       "        0.01130451,  0.01040011,  0.00996631,  0.0098188 ,  0.00791592,\n",
       "        0.00702254,  0.00538944, -0.01804203, -0.08521087, -0.16302375,\n",
       "       -0.18623489, -0.14029479, -0.0689185 , -0.01254999,  0.02564726,\n",
       "        0.0494372 ,  0.05697695,  0.05343688,  0.04841731,  0.04381059,\n",
       "        0.03780497,  0.0314666 ,  0.02731164,  0.02486573,  0.02226895,\n",
       "        0.01899432,  0.01652185,  0.01474993,  0.01260592,  0.01073446,\n",
       "        0.00852893,  0.00602754,  0.00377563,  0.00231015,  0.00164808,\n",
       "        0.00168078,  0.00049926, -0.00087675, -0.00179876, -0.00180609,\n",
       "       -0.00088707, -0.00223535, -0.00411695, -0.00500783, -0.00471367,\n",
       "       -0.00429984, -0.0046059 , -0.00421336, -0.00402156, -0.00297168,\n",
       "       -0.00431902,  0.00181679]), array([ 0.00000000e+00,  0.00000000e+00,  0.00000000e+00,  0.00000000e+00,\n",
       "        0.00000000e+00,  0.00000000e+00,  0.00000000e+00,  0.00000000e+00,\n",
       "        0.00000000e+00,  0.00000000e+00,  0.00000000e+00,  0.00000000e+00,\n",
       "        0.00000000e+00,  0.00000000e+00,  0.00000000e+00,  0.00000000e+00,\n",
       "        0.00000000e+00,  0.00000000e+00,  0.00000000e+00,  0.00000000e+00,\n",
       "        0.00000000e+00,  1.15276954e-02,  9.49442644e-03,  1.05089262e-02,\n",
       "        1.02956465e-02,  1.01686610e-02,  1.09071315e-02,  1.03420826e-02,\n",
       "        9.67259518e-03,  1.06610397e-02,  1.14360412e-02,  1.07833816e-02,\n",
       "        1.05064979e-02,  9.94936943e-03,  7.73340942e-03,  7.21769685e-03,\n",
       "        5.78288076e-03, -1.71476301e-02, -8.12784103e-02, -1.53616777e-01,\n",
       "       -1.74179541e-01, -1.32283366e-01, -6.81140935e-02, -1.70450209e-02,\n",
       "        1.89278745e-02,  4.21832364e-02,  5.03562644e-02,  4.83315130e-02,\n",
       "        4.48302595e-02,  4.14693048e-02,  3.65456376e-02,  3.08682095e-02,\n",
       "        2.72952808e-02,  2.52160233e-02,  2.26240305e-02,  1.94668017e-02,\n",
       "        1.70797645e-02,  1.50539262e-02,  1.29261867e-02,  1.14748859e-02,\n",
       "        9.47642792e-03,  6.65696618e-03,  4.39283994e-03,  3.11036069e-03,\n",
       "        2.21141531e-03,  1.77641077e-03,  6.96429019e-04, -1.57465377e-04,\n",
       "       -1.15660070e-03, -1.65183942e-03, -8.87989293e-04, -2.06565328e-03,\n",
       "       -4.02414842e-03, -5.19775840e-03, -4.89543366e-03, -4.50454546e-03,\n",
       "       -4.69826291e-03, -3.92665376e-03, -3.64880508e-03, -2.91369148e-03,\n",
       "       -4.56975679e-03,  1.57465807e-03]), array([ 0.        ,  0.        ,  0.        ,  0.        ,  0.        ,\n",
       "        0.        ,  0.        ,  0.        ,  0.        ,  0.        ,\n",
       "        0.        ,  0.        ,  0.        ,  0.        ,  0.        ,\n",
       "        0.        ,  0.        ,  0.        ,  0.        ,  0.        ,\n",
       "        0.        ,  0.01052853,  0.008608  ,  0.00992793,  0.01004794,\n",
       "        0.00980053,  0.01050376,  0.00972504,  0.00874772,  0.00983166,\n",
       "        0.01067875,  0.01036592,  0.01023735,  0.00923462,  0.00688439,\n",
       "        0.00671812,  0.00557612, -0.01428645, -0.06912026, -0.13059301,\n",
       "       -0.1492139 , -0.11655111, -0.0644681 , -0.02157432,  0.01017704,\n",
       "        0.03163747,  0.04028011,  0.04015734,  0.03847884,  0.036609  ,\n",
       "        0.03312025,  0.02846308,  0.02564245,  0.02394843,  0.0213916 ,\n",
       "        0.01855014,  0.0164199 ,  0.01415548,  0.01217638,  0.01132074,\n",
       "        0.00969907,  0.00675124,  0.00470122,  0.00370573,  0.00252812,\n",
       "        0.00156293,  0.00072176,  0.00053642, -0.00046683, -0.00150875,\n",
       "       -0.00101279, -0.00181681, -0.00364331, -0.00505591, -0.00480901,\n",
       "       -0.00446025, -0.0044869 , -0.00336153, -0.0030408 , -0.00269732,\n",
       "       -0.00457547,  0.00115044])])"
      ]
     },
     "execution_count": 29,
     "metadata": {},
     "output_type": "execute_result"
    }
   ],
   "source": [
    "checkit"
   ]
  },
  {
   "cell_type": "code",
   "execution_count": 35,
   "id": "301be4da",
   "metadata": {},
   "outputs": [
    {
     "data": {
      "text/plain": [
       "(715, 82)"
      ]
     },
     "execution_count": 35,
     "metadata": {},
     "output_type": "execute_result"
    }
   ],
   "source": [
    "sd.neuron_data[0][0][\"neighbor_templates\"].shape"
   ]
  },
  {
   "cell_type": "code",
   "execution_count": null,
   "id": "db2814dc",
   "metadata": {},
   "outputs": [],
   "source": []
  },
  {
   "cell_type": "code",
   "execution_count": null,
   "id": "49ff9828",
   "metadata": {},
   "outputs": [],
   "source": []
  },
  {
   "cell_type": "code",
   "execution_count": null,
   "id": "8a879c3a",
   "metadata": {},
   "outputs": [],
   "source": []
  },
  {
   "cell_type": "code",
   "execution_count": 12,
   "id": "3926c20e",
   "metadata": {},
   "outputs": [],
   "source": [
    "def plot_inset(axs, k, ch, position, temp_chs, temp_pos, templates, filename, nelec=2, ylim_margin=0):\n",
    "    axs.set_title(f\"{filename} cluster {k} channel {ch} {position}\")\n",
    "    assert len(temp_chs) == len(temp_pos) == len(templates), \"Input length should be the same!\"\n",
    "    nums = len(temp_chs)\n",
    "    pitch = 17.5\n",
    "    axs.scatter(position[0], position[1], linewidth=10, alpha=0.2, color='grey')\n",
    "    axs.text(position[0], position[1], str(position), color=\"g\", fontsize=12)\n",
    "    # set same scaling to the insets\n",
    "    index = temp_chs.index(ch)\n",
    "    ylim_min = min(templates[index])\n",
    "    ylim_max = max(templates[index])\n",
    "    # choose channels that are close to the center channel\n",
    "    for i in range(nums):\n",
    "        chn_pos = temp_pos[i]\n",
    "        if position[0] - nelec * pitch <= chn_pos[0] <= position[0] + nelec * pitch \\\n",
    "                and position[1] - nelec * pitch <= chn_pos[1] <= position[1] + nelec * pitch:\n",
    "            # axs.scatter(chn_pos[0], chn_pos[1], color='w')\n",
    "            axin = axs.inset_axes([chn_pos[0]-5, chn_pos[1]-5, 15, 20], transform=axs.transData)\n",
    "            axin.plot(templates[i], color='k', linewidth=2, alpha=0.7)\n",
    "            axin.set_ylim([ylim_min - ylim_margin, ylim_max + ylim_margin])\n",
    "            axin.set_axis_off()\n",
    "    # axs.legend(loc=\"upper right\", fontsize=12)\n",
    "    # axs.xaxis.set_visible(False)\n",
    "    # axs.yaxis.set_visible(False)\n",
    "    axs.set_xlim(position[0]-1.5*nelec*pitch, position[0]+1.5*nelec*pitch)\n",
    "    axs.set_ylim(position[1]-1.5*nelec*pitch, position[1]+1.5*nelec*pitch)\n",
    "    axs.invert_yaxis()\n",
    "    return axs"
   ]
  },
  {
   "cell_type": "code",
   "execution_count": 31,
   "id": "06750b2e",
   "metadata": {},
   "outputs": [
    {
     "name": "stderr",
     "output_type": "stream",
     "text": [
      "/tmp/ipykernel_940399/143676880.py:1: DeprecationWarning: Call to deprecated function (or staticmethod) neuron_data. (Use NeuronAttributes instead of neuron_data, with the function load_spike_data())\n",
      "  data= sd.neuron_data[0][3]\n"
     ]
    }
   ],
   "source": [
    "data= sd.neuron_data[0][3]"
   ]
  },
  {
   "cell_type": "code",
   "execution_count": 18,
   "id": "72981cf5",
   "metadata": {},
   "outputs": [
    {
     "ename": "AssertionError",
     "evalue": "Input length should be the same!",
     "output_type": "error",
     "traceback": [
      "\u001b[0;31m---------------------------------------------------------------------------\u001b[0m",
      "\u001b[0;31mAssertionError\u001b[0m                            Traceback (most recent call last)",
      "Cell \u001b[0;32mIn[18], line 2\u001b[0m\n\u001b[1;32m      1\u001b[0m fig, axs \u001b[38;5;241m=\u001b[39m plt\u001b[38;5;241m.\u001b[39msubplots(\u001b[38;5;241m1\u001b[39m, \u001b[38;5;241m1\u001b[39m, figsize\u001b[38;5;241m=\u001b[39m(\u001b[38;5;241m8\u001b[39m, \u001b[38;5;241m8\u001b[39m))\n\u001b[0;32m----> 2\u001b[0m \u001b[43mplot_inset\u001b[49m\u001b[43m(\u001b[49m\u001b[43maxs\u001b[49m\u001b[43m,\u001b[49m\u001b[43m \u001b[49m\u001b[43mk\u001b[49m\u001b[38;5;241;43m=\u001b[39;49m\u001b[38;5;28;43mid\u001b[39;49m\u001b[43m,\u001b[49m\u001b[43m \u001b[49m\u001b[43mch\u001b[49m\u001b[38;5;241;43m=\u001b[39;49m\u001b[43mdata\u001b[49m\u001b[43m[\u001b[49m\u001b[38;5;124;43m\"\u001b[39;49m\u001b[38;5;124;43mchannel\u001b[39;49m\u001b[38;5;124;43m\"\u001b[39;49m\u001b[43m]\u001b[49m\u001b[43m,\u001b[49m\n\u001b[1;32m      3\u001b[0m \u001b[43m                        \u001b[49m\u001b[43mposition\u001b[49m\u001b[38;5;241;43m=\u001b[39;49m\u001b[43mdata\u001b[49m\u001b[43m[\u001b[49m\u001b[38;5;124;43m\"\u001b[39;49m\u001b[38;5;124;43mposition\u001b[39;49m\u001b[38;5;124;43m\"\u001b[39;49m\u001b[43m]\u001b[49m\u001b[43m,\u001b[49m\n\u001b[1;32m      4\u001b[0m \u001b[43m                        \u001b[49m\u001b[43mtemp_chs\u001b[49m\u001b[38;5;241;43m=\u001b[39;49m\u001b[38;5;28;43mlist\u001b[39;49m\u001b[43m(\u001b[49m\u001b[43mdata\u001b[49m\u001b[43m[\u001b[49m\u001b[38;5;124;43m\"\u001b[39;49m\u001b[38;5;124;43mneighbor_channels\u001b[39;49m\u001b[38;5;124;43m\"\u001b[39;49m\u001b[43m]\u001b[49m\u001b[43m)\u001b[49m\u001b[43m,\u001b[49m\n\u001b[1;32m      5\u001b[0m \u001b[43m                        \u001b[49m\u001b[43mtemp_pos\u001b[49m\u001b[38;5;241;43m=\u001b[39;49m\u001b[43mdata\u001b[49m\u001b[43m[\u001b[49m\u001b[38;5;124;43m\"\u001b[39;49m\u001b[38;5;124;43mneighbor_positions\u001b[39;49m\u001b[38;5;124;43m\"\u001b[39;49m\u001b[43m]\u001b[49m\u001b[43m,\u001b[49m\n\u001b[1;32m      6\u001b[0m \u001b[43m                        \u001b[49m\u001b[43mtemplates\u001b[49m\u001b[38;5;241;43m=\u001b[39;49m\u001b[43mdata\u001b[49m\u001b[43m[\u001b[49m\u001b[38;5;124;43m\"\u001b[39;49m\u001b[38;5;124;43mneighbor_templates\u001b[39;49m\u001b[38;5;124;43m\"\u001b[39;49m\u001b[43m]\u001b[49m\u001b[43m,\u001b[49m\n\u001b[1;32m      7\u001b[0m \u001b[43m                        \u001b[49m\u001b[43mfilename\u001b[49m\u001b[38;5;241;43m=\u001b[39;49m\u001b[38;5;124;43mf\u001b[39;49m\u001b[38;5;124;43m\"\u001b[39;49m\u001b[38;5;132;43;01m{\u001b[39;49;00m\u001b[38;5;28;43mid\u001b[39;49m\u001b[38;5;132;43;01m}\u001b[39;49;00m\u001b[38;5;124;43m\"\u001b[39;49m\u001b[43m,\u001b[49m\u001b[43m \u001b[49m\u001b[43mnelec\u001b[49m\u001b[38;5;241;43m=\u001b[39;49m\u001b[38;5;241;43m2\u001b[39;49m\u001b[43m)\u001b[49m\n",
      "Cell \u001b[0;32mIn[12], line 3\u001b[0m, in \u001b[0;36mplot_inset\u001b[0;34m(axs, k, ch, position, temp_chs, temp_pos, templates, filename, nelec, ylim_margin)\u001b[0m\n\u001b[1;32m      1\u001b[0m \u001b[38;5;28;01mdef\u001b[39;00m \u001b[38;5;21mplot_inset\u001b[39m(axs, k, ch, position, temp_chs, temp_pos, templates, filename, nelec\u001b[38;5;241m=\u001b[39m\u001b[38;5;241m2\u001b[39m, ylim_margin\u001b[38;5;241m=\u001b[39m\u001b[38;5;241m0\u001b[39m):\n\u001b[1;32m      2\u001b[0m     axs\u001b[38;5;241m.\u001b[39mset_title(\u001b[38;5;124mf\u001b[39m\u001b[38;5;124m\"\u001b[39m\u001b[38;5;132;01m{\u001b[39;00mfilename\u001b[38;5;132;01m}\u001b[39;00m\u001b[38;5;124m cluster \u001b[39m\u001b[38;5;132;01m{\u001b[39;00mk\u001b[38;5;132;01m}\u001b[39;00m\u001b[38;5;124m channel \u001b[39m\u001b[38;5;132;01m{\u001b[39;00mch\u001b[38;5;132;01m}\u001b[39;00m\u001b[38;5;124m \u001b[39m\u001b[38;5;132;01m{\u001b[39;00mposition\u001b[38;5;132;01m}\u001b[39;00m\u001b[38;5;124m\"\u001b[39m)\n\u001b[0;32m----> 3\u001b[0m     \u001b[38;5;28;01massert\u001b[39;00m \u001b[38;5;28mlen\u001b[39m(temp_chs) \u001b[38;5;241m==\u001b[39m \u001b[38;5;28mlen\u001b[39m(temp_pos) \u001b[38;5;241m==\u001b[39m \u001b[38;5;28mlen\u001b[39m(templates), \u001b[38;5;124m\"\u001b[39m\u001b[38;5;124mInput length should be the same!\u001b[39m\u001b[38;5;124m\"\u001b[39m\n\u001b[1;32m      4\u001b[0m     nums \u001b[38;5;241m=\u001b[39m \u001b[38;5;28mlen\u001b[39m(temp_chs)\n\u001b[1;32m      5\u001b[0m     pitch \u001b[38;5;241m=\u001b[39m \u001b[38;5;241m17.5\u001b[39m\n",
      "\u001b[0;31mAssertionError\u001b[0m: Input length should be the same!"
     ]
    },
    {
     "data": {
      "image/png": "[encoded data removed]",
      "text/plain": [
       "<Figure size 800x800 with 1 Axes>"
      ]
     },
     "metadata": {},
     "output_type": "display_data"
    }
   ],
   "source": [
    "fig, axs = plt.subplots(1, 1, figsize=(8, 8))\n",
    "plot_inset(axs, k=id, ch=data[\"channel\"],\n",
    "                        position=data[\"position\"],\n",
    "                        temp_chs=list(data[\"neighbor_channels\"]),\n",
    "                        temp_pos=data[\"neighbor_positions\"],\n",
    "                        templates=data[\"neighbor_templates\"],\n",
    "                        filename=f\"{id}\", nelec=2)"
   ]
  },
  {
   "cell_type": "code",
   "execution_count": 42,
   "id": "278d5bf3",
   "metadata": {},
   "outputs": [
    {
     "data": {
      "text/plain": [
       "[165, 254, 21, 218, 263, 33, 198, 119, 53, 17, 135, 412]"
      ]
     },
     "execution_count": 42,
     "metadata": {},
     "output_type": "execute_result"
    }
   ],
   "source": [
    "list(data[\"neighbor_channels\"])"
   ]
  },
  {
   "cell_type": "code",
   "execution_count": 33,
   "id": "03a0ef70",
   "metadata": {},
   "outputs": [
    {
     "data": {
      "text/plain": [
       "12"
      ]
     },
     "execution_count": 33,
     "metadata": {},
     "output_type": "execute_result"
    }
   ],
   "source": [
    "len(temp_chs)"
   ]
  },
  {
   "cell_type": "code",
   "execution_count": 39,
   "id": "aadc2545",
   "metadata": {},
   "outputs": [
    {
     "data": {
      "text/plain": [
       "[(1015.0, 1277.5),\n",
       " (1015.0, 1347.5),\n",
       " (1015.0, 1312.5),\n",
       " (980.0, 1277.5),\n",
       " (980.0, 1312.5),\n",
       " (1050.0, 1277.5),\n",
       " (1050.0, 1347.5),\n",
       " (1050.0, 1312.5),\n",
       " (1050.0, 1242.5),\n",
       " (1085.0, 1312.5),\n",
       " (1050.0, 1382.5),\n",
       " (1085.0, 1347.5)]"
      ]
     },
     "execution_count": 39,
     "metadata": {},
     "output_type": "execute_result"
    }
   ],
   "source": [
    "data[\"neighbor_positions\"]"
   ]
  },
  {
   "cell_type": "code",
   "execution_count": 50,
   "id": "cf71209a",
   "metadata": {},
   "outputs": [
    {
     "data": {
      "text/plain": [
       "array([[ 0.00000000e+00,  0.00000000e+00,  0.00000000e+00, ...,\n",
       "        -2.84090842e-12, -3.09405926e-12, -6.42157296e-12],\n",
       "       [ 0.00000000e+00,  0.00000000e+00,  0.00000000e+00, ...,\n",
       "        -2.95855338e-12, -3.23479484e-12, -6.72801738e-12],\n",
       "       [ 0.00000000e+00,  0.00000000e+00,  0.00000000e+00, ...,\n",
       "        -3.04293581e-12, -3.31323608e-12, -6.87548912e-12],\n",
       "       ...,\n",
       "       [ 0.00000000e+00,  0.00000000e+00,  0.00000000e+00, ...,\n",
       "        -2.37133747e-03, -2.78732520e-03, -5.65304965e-03],\n",
       "       [ 0.00000000e+00,  0.00000000e+00,  0.00000000e+00, ...,\n",
       "        -2.11709095e-03, -2.64269073e-03, -5.46379307e-03],\n",
       "       [ 0.00000000e+00,  0.00000000e+00,  0.00000000e+00, ...,\n",
       "        -3.42702971e-03, -3.59401221e-03, -6.98718032e-03]])"
      ]
     },
     "execution_count": 50,
     "metadata": {},
     "output_type": "execute_result"
    }
   ],
   "source": [
    "data[\"neighbor_templates\"]"
   ]
  },
  {
   "cell_type": "code",
   "execution_count": 36,
   "id": "56c0337b",
   "metadata": {},
   "outputs": [
    {
     "data": {
      "text/plain": [
       "(715, 82)"
      ]
     },
     "execution_count": 36,
     "metadata": {},
     "output_type": "execute_result"
    }
   ],
   "source": [
    "data[\"neighbor_templates\"].shape"
   ]
  },
  {
   "cell_type": "code",
   "execution_count": 49,
   "id": "dbe7ea37",
   "metadata": {},
   "outputs": [
    {
     "data": {
      "text/plain": [
       "array([ 0.00000000e+00,  0.00000000e+00,  0.00000000e+00,  0.00000000e+00,\n",
       "        0.00000000e+00,  0.00000000e+00,  0.00000000e+00,  0.00000000e+00,\n",
       "        0.00000000e+00,  0.00000000e+00,  0.00000000e+00,  0.00000000e+00,\n",
       "        0.00000000e+00,  0.00000000e+00,  0.00000000e+00,  0.00000000e+00,\n",
       "        0.00000000e+00,  0.00000000e+00,  0.00000000e+00,  0.00000000e+00,\n",
       "        0.00000000e+00,  4.12510793e-12,  2.16970863e-11,  1.86856084e-11,\n",
       "        2.15818343e-11,  2.39873624e-11,  2.47391890e-11,  2.78036411e-11,\n",
       "        2.91410464e-11,  2.86023466e-11,  3.07585520e-11,  3.33887459e-11,\n",
       "        3.22038877e-11,  3.42848004e-11,  3.99690929e-11,  3.83495430e-11,\n",
       "        4.34058384e-11,  5.96726269e-11,  2.71750696e-11, -1.13798157e-10,\n",
       "       -2.88927432e-10, -3.14991613e-10, -1.90847094e-10, -8.53636300e-11,\n",
       "       -2.51273663e-11,  1.28387058e-11,  2.68547243e-11,  3.41376752e-11,\n",
       "        2.90702418e-11,  2.60139744e-11,  2.13010401e-11,  1.59292337e-11,\n",
       "        1.29150905e-11,  1.25530126e-11,  1.39100028e-11,  1.66742830e-11,\n",
       "        2.03655377e-11,  2.33909255e-11,  2.56995753e-11,  2.69268746e-11,\n",
       "        2.70527418e-11,  2.66385334e-11,  2.57853286e-11,  2.39852698e-11,\n",
       "        2.10767036e-11,  1.84017261e-11,  1.65153060e-11,  1.49331089e-11,\n",
       "        1.30116484e-11,  1.09334045e-11,  9.04830424e-12,  7.01995866e-12,\n",
       "        5.13850368e-12,  3.96904530e-12,  2.78728040e-12,  9.32739881e-13,\n",
       "       -6.17804348e-13, -1.50718579e-12, -1.64934740e-12, -2.84090842e-12,\n",
       "       -3.09405926e-12, -6.42157296e-12])"
      ]
     },
     "execution_count": 49,
     "metadata": {},
     "output_type": "execute_result"
    }
   ],
   "source": [
    "data['template']"
   ]
  },
  {
   "cell_type": "code",
   "execution_count": 46,
   "id": "88d1538e",
   "metadata": {},
   "outputs": [
    {
     "data": {
      "text/plain": [
       "[<matplotlib.lines.Line2D at 0x7f9ebcc4ad40>]"
      ]
     },
     "execution_count": 46,
     "metadata": {},
     "output_type": "execute_result"
    },
    {
     "data": {
      "image/png": "[encoded data removed]",
      "text/plain": [
       "<Figure size 640x480 with 1 Axes>"
      ]
     },
     "metadata": {},
     "output_type": "display_data"
    }
   ],
   "source": [
    "\n",
    "\n",
    "plt.plot(data['template'] )"
   ]
  },
  {
   "cell_type": "code",
   "execution_count": null,
   "id": "6125523f",
   "metadata": {},
   "outputs": [],
   "source": []
  },
  {
   "cell_type": "code",
   "execution_count": null,
   "id": "c25f85fb",
   "metadata": {},
   "outputs": [],
   "source": []
  },
  {
   "cell_type": "code",
   "execution_count": 51,
   "id": "ffd6caae",
   "metadata": {},
   "outputs": [
    {
     "name": "stderr",
     "output_type": "stream",
     "text": [
      "/tmp/ipykernel_940399/3042750079.py:1: DeprecationWarning: Call to deprecated function (or staticmethod) neuron_data. (Use NeuronAttributes instead of neuron_data, with the function load_spike_data())\n",
      "  sd.neuron_data[0][3][\"template\"]\n"
     ]
    },
    {
     "data": {
      "text/plain": [
       "array([ 0.00000000e+00,  0.00000000e+00,  0.00000000e+00,  0.00000000e+00,\n",
       "        0.00000000e+00,  0.00000000e+00,  0.00000000e+00,  0.00000000e+00,\n",
       "        0.00000000e+00,  0.00000000e+00,  0.00000000e+00,  0.00000000e+00,\n",
       "        0.00000000e+00,  0.00000000e+00,  0.00000000e+00,  0.00000000e+00,\n",
       "        0.00000000e+00,  0.00000000e+00,  0.00000000e+00,  0.00000000e+00,\n",
       "        0.00000000e+00,  4.12510793e-12,  2.16970863e-11,  1.86856084e-11,\n",
       "        2.15818343e-11,  2.39873624e-11,  2.47391890e-11,  2.78036411e-11,\n",
       "        2.91410464e-11,  2.86023466e-11,  3.07585520e-11,  3.33887459e-11,\n",
       "        3.22038877e-11,  3.42848004e-11,  3.99690929e-11,  3.83495430e-11,\n",
       "        4.34058384e-11,  5.96726269e-11,  2.71750696e-11, -1.13798157e-10,\n",
       "       -2.88927432e-10, -3.14991613e-10, -1.90847094e-10, -8.53636300e-11,\n",
       "       -2.51273663e-11,  1.28387058e-11,  2.68547243e-11,  3.41376752e-11,\n",
       "        2.90702418e-11,  2.60139744e-11,  2.13010401e-11,  1.59292337e-11,\n",
       "        1.29150905e-11,  1.25530126e-11,  1.39100028e-11,  1.66742830e-11,\n",
       "        2.03655377e-11,  2.33909255e-11,  2.56995753e-11,  2.69268746e-11,\n",
       "        2.70527418e-11,  2.66385334e-11,  2.57853286e-11,  2.39852698e-11,\n",
       "        2.10767036e-11,  1.84017261e-11,  1.65153060e-11,  1.49331089e-11,\n",
       "        1.30116484e-11,  1.09334045e-11,  9.04830424e-12,  7.01995866e-12,\n",
       "        5.13850368e-12,  3.96904530e-12,  2.78728040e-12,  9.32739881e-13,\n",
       "       -6.17804348e-13, -1.50718579e-12, -1.64934740e-12, -2.84090842e-12,\n",
       "       -3.09405926e-12, -6.42157296e-12])"
      ]
     },
     "execution_count": 51,
     "metadata": {},
     "output_type": "execute_result"
    }
   ],
   "source": []
  },
  {
   "cell_type": "code",
   "execution_count": null,
   "id": "ed5a65d6",
   "metadata": {},
   "outputs": [],
   "source": []
  },
  {
   "cell_type": "code",
   "execution_count": null,
   "id": "5103fcaf",
   "metadata": {},
   "outputs": [],
   "source": []
  },
  {
   "cell_type": "code",
   "execution_count": 37,
   "id": "622c52e7",
   "metadata": {},
   "outputs": [
    {
     "data": {
      "text/plain": [
       "{'cluster_id': 3,\n",
       " 'channel': 165,\n",
       " 'position': (1015.0, 1277.5),\n",
       " 'amplitudes': [20.406145095825195,\n",
       "  22.812875747680664,\n",
       "  20.809246063232422,\n",
       "  21.1033878326416,\n",
       "  21.92420196533203,\n",
       "  20.592599868774414,\n",
       "  22.432586669921875,\n",
       "  21.350122451782227,\n",
       "  20.862245559692383,\n",
       "  22.27748680114746,\n",
       "  22.106035232543945,\n",
       "  20.747154235839844,\n",
       "  25.55288314819336,\n",
       "  22.02715301513672,\n",
       "  21.100419998168945,\n",
       "  23.60101890563965,\n",
       "  19.99726676940918,\n",
       "  22.531204223632812,\n",
       "  24.265216827392578,\n",
       "  20.76258087158203,\n",
       "  20.450368881225586,\n",
       "  22.507816314697266,\n",
       "  21.114120483398438,\n",
       "  18.968345642089844,\n",
       "  21.5631160736084,\n",
       "  21.0008544921875,\n",
       "  23.11899185180664,\n",
       "  23.965288162231445,\n",
       "  20.007793426513672,\n",
       "  22.01596450805664,\n",
       "  20.59709358215332,\n",
       "  17.10990333557129,\n",
       "  19.805618286132812,\n",
       "  21.60978889465332,\n",
       "  17.481853485107422,\n",
       "  22.95480728149414,\n",
       "  22.408187866210938,\n",
       "  18.66384506225586,\n",
       "  20.195411682128906,\n",
       "  21.95633888244629,\n",
       "  22.489301681518555,\n",
       "  22.15978240966797,\n",
       "  19.110456466674805,\n",
       "  20.539039611816406,\n",
       "  21.65327262878418,\n",
       "  22.19257164001465,\n",
       "  21.226694107055664,\n",
       "  22.204532623291016,\n",
       "  20.21434783935547,\n",
       "  21.52970314025879,\n",
       "  13.032995223999023,\n",
       "  24.266124725341797,\n",
       "  23.256624221801758,\n",
       "  18.953622817993164,\n",
       "  18.339515686035156,\n",
       "  19.690631866455078,\n",
       "  19.264793395996094,\n",
       "  22.309980392456055,\n",
       "  21.69072914123535,\n",
       "  22.717321395874023,\n",
       "  19.79742431640625,\n",
       "  23.618192672729492,\n",
       "  21.94428825378418,\n",
       "  16.57613754272461,\n",
       "  21.239850997924805,\n",
       "  21.10782814025879,\n",
       "  22.060195922851562,\n",
       "  21.359758377075195,\n",
       "  22.665328979492188,\n",
       "  21.616119384765625,\n",
       "  22.331212997436523,\n",
       "  23.35234260559082,\n",
       "  19.416818618774414,\n",
       "  22.05762481689453,\n",
       "  19.81928062438965,\n",
       "  26.171043395996094,\n",
       "  23.530906677246094,\n",
       "  24.84038543701172,\n",
       "  23.031925201416016,\n",
       "  21.961830139160156,\n",
       "  23.008888244628906,\n",
       "  22.697185516357422,\n",
       "  18.027528762817383,\n",
       "  24.473766326904297,\n",
       "  22.277755737304688,\n",
       "  22.252771377563477,\n",
       "  22.798227310180664,\n",
       "  19.780370712280273,\n",
       "  21.31865119934082,\n",
       "  22.495594024658203,\n",
       "  20.034622192382812,\n",
       "  24.99116325378418,\n",
       "  23.97992515563965,\n",
       "  26.140666961669922,\n",
       "  19.25014877319336,\n",
       "  21.814449310302734,\n",
       "  25.880874633789062,\n",
       "  21.780651092529297,\n",
       "  23.97939682006836,\n",
       "  21.986278533935547,\n",
       "  21.390932083129883,\n",
       "  24.71434211730957,\n",
       "  23.272624969482422,\n",
       "  19.763853073120117,\n",
       "  24.304746627807617,\n",
       "  22.07512664794922,\n",
       "  23.769535064697266,\n",
       "  18.6513614654541,\n",
       "  21.0780029296875,\n",
       "  20.908477783203125,\n",
       "  24.042144775390625,\n",
       "  23.014867782592773,\n",
       "  19.994726181030273,\n",
       "  18.518878936767578,\n",
       "  22.803539276123047,\n",
       "  20.755985260009766,\n",
       "  21.425586700439453,\n",
       "  21.5876407623291,\n",
       "  21.22999382019043,\n",
       "  17.009187698364258,\n",
       "  21.100160598754883,\n",
       "  20.1218204498291,\n",
       "  22.586088180541992,\n",
       "  20.952787399291992,\n",
       "  23.33883285522461,\n",
       "  20.790266036987305,\n",
       "  22.8924503326416,\n",
       "  24.48086929321289,\n",
       "  24.60139274597168,\n",
       "  20.093955993652344,\n",
       "  21.975194931030273,\n",
       "  22.274097442626953,\n",
       "  21.59427833557129,\n",
       "  21.695283889770508,\n",
       "  20.90652084350586,\n",
       "  22.83534049987793,\n",
       "  21.52971839904785,\n",
       "  20.156042098999023,\n",
       "  20.235931396484375,\n",
       "  21.830570220947266,\n",
       "  24.062915802001953,\n",
       "  24.868497848510742,\n",
       "  19.10491180419922,\n",
       "  23.321382522583008,\n",
       "  25.420501708984375,\n",
       "  20.073867797851562,\n",
       "  21.739112854003906,\n",
       "  19.411914825439453,\n",
       "  25.358295440673828,\n",
       "  23.514488220214844,\n",
       "  24.988821029663086,\n",
       "  18.623498916625977,\n",
       "  20.43501853942871,\n",
       "  23.074804306030273,\n",
       "  24.64444351196289,\n",
       "  20.353572845458984,\n",
       "  20.051929473876953,\n",
       "  21.386127471923828,\n",
       "  21.32848358154297,\n",
       "  21.82449722290039,\n",
       "  21.484111785888672,\n",
       "  20.913854598999023,\n",
       "  25.08920669555664,\n",
       "  23.13671875,\n",
       "  20.79712677001953,\n",
       "  25.474376678466797,\n",
       "  19.267972946166992,\n",
       "  24.211896896362305,\n",
       "  22.37142562866211,\n",
       "  20.022632598876953,\n",
       "  22.25124740600586,\n",
       "  24.098102569580078,\n",
       "  20.90921401977539,\n",
       "  18.56786346435547,\n",
       "  22.686904907226562,\n",
       "  19.530628204345703,\n",
       "  23.47673797607422,\n",
       "  21.216581344604492,\n",
       "  21.53105926513672,\n",
       "  22.234188079833984,\n",
       "  22.521682739257812,\n",
       "  21.513124465942383,\n",
       "  22.017013549804688,\n",
       "  21.919702529907227,\n",
       "  19.94348907470703,\n",
       "  23.169099807739258,\n",
       "  20.41252326965332,\n",
       "  23.71332550048828,\n",
       "  23.366283416748047,\n",
       "  22.4941349029541,\n",
       "  22.334489822387695,\n",
       "  20.789396286010742,\n",
       "  22.93789291381836,\n",
       "  23.398984909057617,\n",
       "  23.608139038085938,\n",
       "  22.101030349731445,\n",
       "  24.47802734375,\n",
       "  22.32561683654785,\n",
       "  19.201452255249023,\n",
       "  21.68018913269043,\n",
       "  19.442031860351562,\n",
       "  25.108482360839844,\n",
       "  22.655622482299805,\n",
       "  23.1505184173584,\n",
       "  24.24855613708496,\n",
       "  22.278301239013672,\n",
       "  18.009902954101562,\n",
       "  24.637157440185547,\n",
       "  21.0953311920166,\n",
       "  20.7973690032959,\n",
       "  23.056745529174805,\n",
       "  21.32724380493164,\n",
       "  19.81086540222168,\n",
       "  22.436290740966797,\n",
       "  24.75944709777832,\n",
       "  20.9810791015625,\n",
       "  22.968990325927734,\n",
       "  24.218212127685547,\n",
       "  18.81345558166504,\n",
       "  20.9272403717041,\n",
       "  24.87775230407715,\n",
       "  22.504667282104492,\n",
       "  22.266592025756836,\n",
       "  22.686904907226562,\n",
       "  24.567174911499023,\n",
       "  23.723386764526367,\n",
       "  26.100709915161133,\n",
       "  25.48280143737793,\n",
       "  18.987823486328125,\n",
       "  20.413780212402344,\n",
       "  19.745311737060547,\n",
       "  23.553272247314453,\n",
       "  24.44252586364746,\n",
       "  23.68412208557129,\n",
       "  20.893539428710938,\n",
       "  23.135744094848633,\n",
       "  25.481430053710938,\n",
       "  19.489288330078125,\n",
       "  21.46626091003418,\n",
       "  20.90778350830078,\n",
       "  26.755491256713867,\n",
       "  21.00279426574707,\n",
       "  24.461807250976562,\n",
       "  23.83339500427246,\n",
       "  23.60572624206543,\n",
       "  23.925800323486328,\n",
       "  20.98211669921875,\n",
       "  23.881155014038086,\n",
       "  23.576168060302734,\n",
       "  22.985979080200195,\n",
       "  23.73787498474121,\n",
       "  22.42423439025879,\n",
       "  19.909048080444336,\n",
       "  22.319908142089844,\n",
       "  25.17531394958496,\n",
       "  22.970067977905273,\n",
       "  19.7552433013916,\n",
       "  23.2657413482666,\n",
       "  21.54644775390625,\n",
       "  18.494422912597656,\n",
       "  25.125864028930664,\n",
       "  20.93117904663086,\n",
       "  21.48418426513672,\n",
       "  25.217411041259766,\n",
       "  19.559946060180664,\n",
       "  21.043973922729492,\n",
       "  21.800922393798828,\n",
       "  23.44978141784668,\n",
       "  20.505517959594727,\n",
       "  21.916107177734375,\n",
       "  26.408111572265625,\n",
       "  24.768144607543945,\n",
       "  21.08598518371582,\n",
       "  24.727842330932617,\n",
       "  19.894437789916992,\n",
       "  20.5438289642334,\n",
       "  19.70252227783203,\n",
       "  22.88303565979004,\n",
       "  20.772123336791992,\n",
       "  21.9000301361084,\n",
       "  17.521358489990234,\n",
       "  20.346168518066406,\n",
       "  22.77785873413086,\n",
       "  19.24896240234375,\n",
       "  20.887557983398438,\n",
       "  21.959909439086914,\n",
       "  21.348215103149414,\n",
       "  25.323884963989258,\n",
       "  22.70559310913086,\n",
       "  24.9271183013916,\n",
       "  20.74834632873535,\n",
       "  21.601285934448242,\n",
       "  27.64962387084961,\n",
       "  25.114606857299805,\n",
       "  23.676191329956055,\n",
       "  21.729251861572266,\n",
       "  19.47728729248047,\n",
       "  19.195737838745117,\n",
       "  22.200965881347656,\n",
       "  20.383024215698242,\n",
       "  20.31932258605957,\n",
       "  31.023862838745117,\n",
       "  19.82102394104004,\n",
       "  22.711164474487305,\n",
       "  21.07566261291504,\n",
       "  19.897396087646484,\n",
       "  18.568115234375,\n",
       "  25.114656448364258,\n",
       "  22.538890838623047,\n",
       "  21.86595916748047,\n",
       "  21.000099182128906,\n",
       "  23.292255401611328,\n",
       "  23.038707733154297,\n",
       "  21.980531692504883,\n",
       "  19.628047943115234,\n",
       "  19.03040885925293,\n",
       "  22.45368194580078,\n",
       "  19.33795928955078,\n",
       "  20.981027603149414,\n",
       "  21.940637588500977,\n",
       "  20.33055877685547,\n",
       "  17.888715744018555,\n",
       "  22.76526641845703,\n",
       "  23.131134033203125,\n",
       "  19.026880264282227,\n",
       "  21.14080238342285,\n",
       "  21.876052856445312,\n",
       "  18.334373474121094,\n",
       "  22.196571350097656,\n",
       "  23.744112014770508,\n",
       "  21.933595657348633,\n",
       "  22.793428421020508,\n",
       "  20.619644165039062,\n",
       "  23.871440887451172,\n",
       "  23.238500595092773,\n",
       "  24.32091522216797,\n",
       "  21.63897132873535,\n",
       "  21.775291442871094,\n",
       "  21.6412410736084,\n",
       "  19.7188663482666,\n",
       "  24.050220489501953,\n",
       "  21.57272720336914,\n",
       "  21.317041397094727,\n",
       "  22.996736526489258,\n",
       "  21.100332260131836,\n",
       "  21.94756317138672,\n",
       "  20.129253387451172,\n",
       "  22.050983428955078,\n",
       "  20.842546463012695,\n",
       "  26.399948120117188,\n",
       "  22.42025375366211,\n",
       "  22.8126220703125,\n",
       "  21.979707717895508,\n",
       "  13.07116413116455,\n",
       "  21.82193946838379,\n",
       "  22.761442184448242,\n",
       "  24.853551864624023,\n",
       "  23.729900360107422,\n",
       "  15.011978149414062,\n",
       "  22.319059371948242,\n",
       "  22.993362426757812,\n",
       "  23.103382110595703,\n",
       "  24.396800994873047,\n",
       "  18.700908660888672,\n",
       "  24.80091667175293,\n",
       "  22.298828125,\n",
       "  23.042470932006836,\n",
       "  21.19675636291504,\n",
       "  22.51028823852539,\n",
       "  21.486848831176758,\n",
       "  20.963863372802734,\n",
       "  22.536272048950195,\n",
       "  21.255949020385742,\n",
       "  18.86484146118164,\n",
       "  19.226642608642578,\n",
       "  18.004474639892578,\n",
       "  18.029661178588867,\n",
       "  20.326622009277344,\n",
       "  20.244672775268555,\n",
       "  22.78545379638672,\n",
       "  21.55675506591797,\n",
       "  22.536436080932617,\n",
       "  25.751005172729492,\n",
       "  19.81246566772461,\n",
       "  23.544063568115234,\n",
       "  19.621517181396484,\n",
       "  18.005287170410156,\n",
       "  17.61223793029785,\n",
       "  28.9862003326416,\n",
       "  16.843595504760742,\n",
       "  20.99468994140625,\n",
       "  18.24386215209961,\n",
       "  17.819238662719727,\n",
       "  22.14691162109375,\n",
       "  24.571107864379883,\n",
       "  25.347326278686523,\n",
       "  22.920581817626953,\n",
       "  22.912893295288086,\n",
       "  21.646181106567383,\n",
       "  23.23303985595703,\n",
       "  21.241910934448242,\n",
       "  18.989564895629883,\n",
       "  22.342975616455078,\n",
       "  22.054832458496094,\n",
       "  24.24222183227539,\n",
       "  23.07855796813965,\n",
       "  22.109359741210938,\n",
       "  20.235685348510742,\n",
       "  21.708267211914062,\n",
       "  23.1865291595459,\n",
       "  20.461700439453125,\n",
       "  20.71074676513672,\n",
       "  20.47314453125,\n",
       "  21.375234603881836,\n",
       "  22.714723587036133,\n",
       "  23.49420738220215,\n",
       "  23.075489044189453,\n",
       "  24.322174072265625,\n",
       "  21.497238159179688,\n",
       "  18.207929611206055,\n",
       "  19.266082763671875,\n",
       "  20.78486442565918,\n",
       "  22.931055068969727,\n",
       "  20.208757400512695,\n",
       "  21.96377944946289,\n",
       "  21.159818649291992,\n",
       "  21.96613883972168,\n",
       "  22.3823299407959,\n",
       "  22.67230796813965,\n",
       "  22.147066116333008,\n",
       "  20.238037109375,\n",
       "  21.18911361694336,\n",
       "  21.88088607788086,\n",
       "  25.458253860473633,\n",
       "  20.492403030395508,\n",
       "  18.489879608154297,\n",
       "  25.360942840576172,\n",
       "  22.04930877685547,\n",
       "  21.85016441345215,\n",
       "  24.18545150756836,\n",
       "  15.87680721282959,\n",
       "  23.098100662231445,\n",
       "  21.496986389160156,\n",
       "  18.932876586914062,\n",
       "  21.534255981445312,\n",
       "  23.331520080566406,\n",
       "  22.861282348632812,\n",
       "  24.333059310913086,\n",
       "  21.095142364501953,\n",
       "  20.623485565185547,\n",
       "  23.776514053344727,\n",
       "  24.958267211914062,\n",
       "  18.4925479888916,\n",
       "  21.97903060913086,\n",
       "  20.94310188293457,\n",
       "  19.56493377685547,\n",
       "  20.371803283691406,\n",
       "  24.78741455078125,\n",
       "  22.444766998291016,\n",
       "  23.16474723815918,\n",
       "  21.475589752197266,\n",
       "  23.89430046081543,\n",
       "  20.47097396850586,\n",
       "  21.106679916381836,\n",
       "  23.966575622558594,\n",
       "  20.890621185302734,\n",
       "  18.659954071044922,\n",
       "  20.01157569885254,\n",
       "  20.880407333374023,\n",
       "  20.21272087097168,\n",
       "  21.508956909179688,\n",
       "  21.39486312866211,\n",
       "  18.551401138305664,\n",
       "  23.83991813659668,\n",
       "  22.030967712402344,\n",
       "  21.637311935424805,\n",
       "  24.97280502319336,\n",
       "  22.53954315185547,\n",
       "  24.211103439331055,\n",
       "  12.279552459716797,\n",
       "  18.806926727294922,\n",
       "  12.866496086120605,\n",
       "  18.85419464111328,\n",
       "  20.593782424926758,\n",
       "  24.340604782104492,\n",
       "  22.431381225585938,\n",
       "  22.683629989624023,\n",
       "  23.141464233398438,\n",
       "  21.202007293701172,\n",
       "  21.723073959350586,\n",
       "  21.47738265991211,\n",
       "  21.893299102783203,\n",
       "  19.548053741455078,\n",
       "  23.716644287109375,\n",
       "  24.290372848510742,\n",
       "  21.68927001953125,\n",
       "  22.02490234375,\n",
       "  19.639184951782227,\n",
       "  21.546968460083008,\n",
       "  24.876449584960938,\n",
       "  20.074722290039062,\n",
       "  21.39457893371582,\n",
       "  13.70589542388916,\n",
       "  21.88288688659668,\n",
       "  23.365327835083008,\n",
       "  20.80133819580078,\n",
       "  21.84511947631836,\n",
       "  23.269760131835938,\n",
       "  21.713102340698242,\n",
       "  21.755666732788086,\n",
       "  22.936729431152344,\n",
       "  21.185102462768555,\n",
       "  20.6660213470459,\n",
       "  23.837560653686523,\n",
       "  23.565217971801758,\n",
       "  22.3981990814209,\n",
       "  21.38007164001465,\n",
       "  21.824033737182617,\n",
       "  19.057109832763672,\n",
       "  23.038150787353516,\n",
       "  22.664997100830078,\n",
       "  22.68173599243164,\n",
       "  22.276123046875,\n",
       "  12.5201997756958,\n",
       "  22.014055252075195,\n",
       "  22.377775192260742,\n",
       "  24.026145935058594,\n",
       "  19.27145767211914,\n",
       "  20.903772354125977,\n",
       "  21.238557815551758,\n",
       "  22.02479362487793,\n",
       "  20.932720184326172,\n",
       "  21.49597930908203,\n",
       "  21.28651237487793,\n",
       "  21.118389129638672,\n",
       "  23.61568832397461,\n",
       "  19.721010208129883,\n",
       "  22.640920639038086,\n",
       "  19.704463958740234,\n",
       "  23.359539031982422,\n",
       "  23.17029571533203,\n",
       "  21.874805450439453,\n",
       "  21.091026306152344,\n",
       "  19.451553344726562,\n",
       "  24.668386459350586,\n",
       "  20.5781307220459,\n",
       "  22.356395721435547,\n",
       "  19.448671340942383,\n",
       "  21.29330825805664,\n",
       "  19.471420288085938,\n",
       "  18.553836822509766,\n",
       "  21.388675689697266,\n",
       "  23.869232177734375,\n",
       "  20.506311416625977,\n",
       "  24.96714973449707,\n",
       "  22.81008529663086,\n",
       "  19.060640335083008,\n",
       "  21.256608963012695,\n",
       "  23.413816452026367,\n",
       "  23.68463706970215,\n",
       "  20.53815460205078,\n",
       "  23.371265411376953,\n",
       "  21.877206802368164,\n",
       "  24.6121768951416,\n",
       "  24.489450454711914,\n",
       "  22.01459312438965,\n",
       "  22.62708854675293,\n",
       "  24.822282791137695,\n",
       "  20.565673828125,\n",
       "  23.30305290222168,\n",
       "  21.319286346435547,\n",
       "  23.78923988342285,\n",
       "  23.29901123046875,\n",
       "  22.978126525878906,\n",
       "  21.073843002319336,\n",
       "  22.733909606933594,\n",
       "  22.925033569335938,\n",
       "  16.73414421081543,\n",
       "  23.547819137573242,\n",
       "  27.28950309753418,\n",
       "  23.797489166259766,\n",
       "  22.233083724975586,\n",
       "  18.528165817260742,\n",
       "  24.450746536254883,\n",
       "  24.102773666381836,\n",
       "  22.017791748046875,\n",
       "  18.858463287353516,\n",
       "  23.140464782714844,\n",
       "  21.040119171142578,\n",
       "  18.355243682861328,\n",
       "  23.954965591430664,\n",
       "  23.164196014404297,\n",
       "  19.836973190307617,\n",
       "  21.986129760742188,\n",
       "  21.910127639770508,\n",
       "  25.303363800048828,\n",
       "  23.009706497192383,\n",
       "  21.38995361328125,\n",
       "  23.097116470336914,\n",
       "  17.651222229003906,\n",
       "  16.72531509399414,\n",
       "  23.10201072692871,\n",
       "  20.4925479888916,\n",
       "  22.54188346862793,\n",
       "  23.248014450073242,\n",
       "  21.060876846313477,\n",
       "  21.383325576782227,\n",
       "  22.31993865966797,\n",
       "  20.428077697753906,\n",
       "  23.695629119873047,\n",
       "  22.064424514770508,\n",
       "  23.28453826904297,\n",
       "  19.5552921295166,\n",
       "  21.45673942565918,\n",
       "  23.066207885742188,\n",
       "  24.263628005981445,\n",
       "  12.844671249389648,\n",
       "  22.328359603881836,\n",
       "  19.548765182495117,\n",
       "  23.40568733215332,\n",
       "  20.451114654541016,\n",
       "  22.351442337036133,\n",
       "  17.19667625427246,\n",
       "  24.66295623779297,\n",
       "  24.066736221313477,\n",
       "  19.41187858581543,\n",
       "  22.13277244567871,\n",
       "  22.901933670043945,\n",
       "  21.042072296142578,\n",
       "  20.825092315673828,\n",
       "  22.948856353759766,\n",
       "  23.921804428100586,\n",
       "  20.243722915649414,\n",
       "  19.475854873657227,\n",
       "  18.348718643188477,\n",
       "  14.698978424072266,\n",
       "  19.384151458740234,\n",
       "  24.992328643798828,\n",
       "  23.391510009765625,\n",
       "  21.649837493896484,\n",
       "  21.088459014892578,\n",
       "  24.590717315673828,\n",
       "  24.75640106201172,\n",
       "  20.93018913269043,\n",
       "  19.427831649780273,\n",
       "  23.382890701293945,\n",
       "  19.816974639892578,\n",
       "  19.843116760253906,\n",
       "  18.781402587890625,\n",
       "  19.364646911621094,\n",
       "  18.088193893432617,\n",
       "  21.430145263671875,\n",
       "  22.80622100830078,\n",
       "  18.726360321044922,\n",
       "  19.388429641723633,\n",
       "  24.37934684753418,\n",
       "  25.463869094848633,\n",
       "  22.299793243408203,\n",
       "  20.4077091217041,\n",
       "  23.588607788085938],\n",
       " 'template': array([ 0.00000000e+00,  0.00000000e+00,  0.00000000e+00,  0.00000000e+00,\n",
       "         0.00000000e+00,  0.00000000e+00,  0.00000000e+00,  0.00000000e+00,\n",
       "         0.00000000e+00,  0.00000000e+00,  0.00000000e+00,  0.00000000e+00,\n",
       "         0.00000000e+00,  0.00000000e+00,  0.00000000e+00,  0.00000000e+00,\n",
       "         0.00000000e+00,  0.00000000e+00,  0.00000000e+00,  0.00000000e+00,\n",
       "         0.00000000e+00,  4.12510793e-12,  2.16970863e-11,  1.86856084e-11,\n",
       "         2.15818343e-11,  2.39873624e-11,  2.47391890e-11,  2.78036411e-11,\n",
       "         2.91410464e-11,  2.86023466e-11,  3.07585520e-11,  3.33887459e-11,\n",
       "         3.22038877e-11,  3.42848004e-11,  3.99690929e-11,  3.83495430e-11,\n",
       "         4.34058384e-11,  5.96726269e-11,  2.71750696e-11, -1.13798157e-10,\n",
       "        -2.88927432e-10, -3.14991613e-10, -1.90847094e-10, -8.53636300e-11,\n",
       "        -2.51273663e-11,  1.28387058e-11,  2.68547243e-11,  3.41376752e-11,\n",
       "         2.90702418e-11,  2.60139744e-11,  2.13010401e-11,  1.59292337e-11,\n",
       "         1.29150905e-11,  1.25530126e-11,  1.39100028e-11,  1.66742830e-11,\n",
       "         2.03655377e-11,  2.33909255e-11,  2.56995753e-11,  2.69268746e-11,\n",
       "         2.70527418e-11,  2.66385334e-11,  2.57853286e-11,  2.39852698e-11,\n",
       "         2.10767036e-11,  1.84017261e-11,  1.65153060e-11,  1.49331089e-11,\n",
       "         1.30116484e-11,  1.09334045e-11,  9.04830424e-12,  7.01995866e-12,\n",
       "         5.13850368e-12,  3.96904530e-12,  2.78728040e-12,  9.32739881e-13,\n",
       "        -6.17804348e-13, -1.50718579e-12, -1.64934740e-12, -2.84090842e-12,\n",
       "        -3.09405926e-12, -6.42157296e-12]),\n",
       " 'neighbor_channels': array([165, 254,  21, 218, 263,  33, 198, 119,  53,  17, 135, 412],\n",
       "       dtype=int32),\n",
       " 'neighbor_positions': [(1015.0, 1277.5),\n",
       "  (1015.0, 1347.5),\n",
       "  (1015.0, 1312.5),\n",
       "  (980.0, 1277.5),\n",
       "  (980.0, 1312.5),\n",
       "  (1050.0, 1277.5),\n",
       "  (1050.0, 1347.5),\n",
       "  (1050.0, 1312.5),\n",
       "  (1050.0, 1242.5),\n",
       "  (1085.0, 1312.5),\n",
       "  (1050.0, 1382.5),\n",
       "  (1085.0, 1347.5)],\n",
       " 'neighbor_templates': array([[ 0.00000000e+00,  0.00000000e+00,  0.00000000e+00, ...,\n",
       "         -2.84090842e-12, -3.09405926e-12, -6.42157296e-12],\n",
       "        [ 0.00000000e+00,  0.00000000e+00,  0.00000000e+00, ...,\n",
       "         -2.95855338e-12, -3.23479484e-12, -6.72801738e-12],\n",
       "        [ 0.00000000e+00,  0.00000000e+00,  0.00000000e+00, ...,\n",
       "         -3.04293581e-12, -3.31323608e-12, -6.87548912e-12],\n",
       "        ...,\n",
       "        [ 0.00000000e+00,  0.00000000e+00,  0.00000000e+00, ...,\n",
       "         -2.37133747e-03, -2.78732520e-03, -5.65304965e-03],\n",
       "        [ 0.00000000e+00,  0.00000000e+00,  0.00000000e+00, ...,\n",
       "         -2.11709095e-03, -2.64269073e-03, -5.46379307e-03],\n",
       "        [ 0.00000000e+00,  0.00000000e+00,  0.00000000e+00, ...,\n",
       "         -3.42702971e-03, -3.59401221e-03, -6.98718032e-03]])}"
      ]
     },
     "execution_count": 37,
     "metadata": {},
     "output_type": "execute_result"
    }
   ],
   "source": [
    "data"
   ]
  },
  {
   "cell_type": "code",
   "execution_count": null,
   "id": "4995639f",
   "metadata": {},
   "outputs": [],
   "source": []
  },
  {
   "cell_type": "code",
   "execution_count": null,
   "id": "085577c9",
   "metadata": {},
   "outputs": [],
   "source": []
  },
  {
   "cell_type": "code",
   "execution_count": null,
   "id": "759564f7",
   "metadata": {},
   "outputs": [],
   "source": [
    "sd.neuron_data[\"1\"]"
   ]
  },
  {
   "cell_type": "code",
   "execution_count": null,
   "id": "966cf3d2",
   "metadata": {},
   "outputs": [],
   "source": []
  },
  {
   "cell_type": "code",
   "execution_count": null,
   "id": "54fb5170",
   "metadata": {},
   "outputs": [],
   "source": []
  },
  {
   "cell_type": "code",
   "execution_count": null,
   "id": "18915a29",
   "metadata": {},
   "outputs": [],
   "source": []
  },
  {
   "cell_type": "code",
   "execution_count": null,
   "id": "4044e229",
   "metadata": {},
   "outputs": [],
   "source": []
  },
  {
   "cell_type": "code",
   "execution_count": null,
   "id": "71d82fd2",
   "metadata": {},
   "outputs": [],
   "source": []
  },
  {
   "cell_type": "code",
   "execution_count": null,
   "id": "2639edc2",
   "metadata": {},
   "outputs": [],
   "source": []
  }
 ],
 "metadata": {
  "hide_input": false,
  "kernelspec": {
   "display_name": "Python 3 (ipykernel)",
   "language": "python",
   "name": "python3"
  },
  "language_info": {
   "codemirror_mode": {
    "name": "ipython",
    "version": 3
   },
   "file_extension": ".py",
   "mimetype": "text/x-python",
   "name": "python",
   "nbconvert_exporter": "python",
   "pygments_lexer": "ipython3",
   "version": "3.10.0"
  },
  "toc": {
   "base_numbering": 1,
   "nav_menu": {},
   "number_sections": true,
   "sideBar": true,
   "skip_h1_title": false,
   "title_cell": "Table of Contents",
   "title_sidebar": "Contents",
   "toc_cell": false,
   "toc_position": {},
   "toc_section_display": true,
   "toc_window_display": false
  },
  "varInspector": {
   "cols": {
    "lenName": 16,
    "lenType": 16,
    "lenVar": 40
   },
   "kernels_config": {
    "python": {
     "delete_cmd_postfix": "",
     "delete_cmd_prefix": "del ",
     "library": "var_list.py",
     "varRefreshCmd": "print(var_dic_list())"
    },
    "r": {
     "delete_cmd_postfix": ") ",
     "delete_cmd_prefix": "rm(",
     "library": "var_list.r",
     "varRefreshCmd": "cat(var_dic_list()) "
    }
   },
   "types_to_exclude": [
    "module",
    "function",
    "builtin_function_or_method",
    "instance",
    "_Feature"
   ],
   "window_display": false
  }
 },
 "nbformat": 4,
 "nbformat_minor": 5
}

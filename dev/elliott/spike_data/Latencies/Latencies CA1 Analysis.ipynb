{
 "cells": [
  {
   "cell_type": "markdown",
   "id": "c9d2eca8",
   "metadata": {},
   "source": [
    "<font size=7> Latencies - CA1 Analysis"
   ]
  },
  {
   "cell_type": "markdown",
   "id": "530aab61",
   "metadata": {},
   "source": [
    "**Results**\n",
    "\n",
    "Good Connections: (37, 81), (76, 66), (79, 103), (121, 103), (130, 9), (138, 81)"
   ]
  },
  {
   "cell_type": "markdown",
   "id": "c8b157c5",
   "metadata": {},
   "source": [
    "# Set Up Notebook"
   ]
  },
  {
   "cell_type": "markdown",
   "id": "50526508",
   "metadata": {},
   "source": [
    "import stuff"
   ]
  },
  {
   "cell_type": "code",
   "execution_count": null,
   "id": "0d7cb0dd",
   "metadata": {},
   "outputs": [],
   "source": [
    "import pickle"
   ]
  },
  {
   "cell_type": "markdown",
   "id": "7a0c9bc3",
   "metadata": {},
   "source": [
    "load source code"
   ]
  },
  {
   "cell_type": "markdown",
   "id": "963917b8",
   "metadata": {},
   "source": [
    "load source code"
   ]
  },
  {
   "cell_type": "code",
   "execution_count": 1,
   "id": "e89f0c85",
   "metadata": {},
   "outputs": [],
   "source": [
    "%run Latencies_Source_Code.ipynb"
   ]
  },
  {
   "cell_type": "markdown",
   "id": "3e3e049e-d5df-4a08-94cb-eada0fc16e98",
   "metadata": {},
   "source": [
    "read data function"
   ]
  },
  {
   "cell_type": "code",
   "execution_count": 2,
   "id": "138335f0-2c2f-4191-955f-9b04605b232b",
   "metadata": {},
   "outputs": [],
   "source": [
    "\n"
   ]
  },
  {
   "cell_type": "code",
   "execution_count": 5,
   "id": "5d98b562-9003-4c04-83fb-3a74da442910",
   "metadata": {},
   "outputs": [],
   "source": [
    "import io\n",
    "import zipfile\n",
    "from typing import List, Tuple\n",
    "\n",
    "def read_phy_files(path: str, fs=20000.0):\n",
    "    \"\"\"\n",
    "    :param path: a s3 or local path to a zip of phy files.\n",
    "    :return: SpikeData class with a list of spike time lists and neuron_data.\n",
    "            neuron_data = {0: neuron_dict, 1: config_dict}\n",
    "            neuron_dict = {\"new_cluster_id\": {\"channel\": c, \"position\": (x, y),\n",
    "                            \"amplitudes\": [a0, a1, an], \"template\": [t0, t1, tn],\n",
    "                            \"neighbor_channels\": [c0, c1, cn],\n",
    "                            \"neighbor_positions\": [(x0, y0), (x1, y1), (xn,yn)],\n",
    "                            \"neighbor_templates\": [[t00, t01, t0n], [tn0, tn1, tnn]}}\n",
    "            config_dict = {chn: pos}\n",
    "    \"\"\"\n",
    "    assert path[-3:] == 'zip', 'Only zip files supported!'\n",
    "    import braingeneers.utils.smart_open_braingeneers as smart_open\n",
    "    with smart_open.open(path, 'rb') as f0:\n",
    "        f = io.BytesIO(f0.read())\n",
    "\n",
    "        with zipfile.ZipFile(f, 'r') as f_zip:\n",
    "            assert 'params.py' in f_zip.namelist(), \"Wrong spike sorting output.\"\n",
    "            with io.TextIOWrapper(f_zip.open('params.py'), encoding='utf-8') as params:\n",
    "                for line in params:\n",
    "                    if \"sample_rate\" in line:\n",
    "                        fs = float(line.split()[-1])\n",
    "            clusters = np.load(f_zip.open('spike_clusters.npy')).squeeze()\n",
    "            templates = np.load(f_zip.open('templates.npy'))  # (cluster_id, samples, channel_id)\n",
    "            channels = np.load(f_zip.open('channel_map.npy')).squeeze()\n",
    "            templates_w = np.load(f_zip.open('templates.npy'))\n",
    "            wmi = np.load(f_zip.open('whitening_mat_inv.npy'))\n",
    "            spike_templates = np.load(f_zip.open('spike_templates.npy')).squeeze()\n",
    "            spike_times = np.load(f_zip.open('spike_times.npy')).squeeze() / fs * 1e3  # in ms\n",
    "            positions = np.load(f_zip.open('channel_positions.npy'))\n",
    "            amplitudes = np.load(f_zip.open(\"amplitudes.npy\")).squeeze()\n",
    "            if 'cluster_info.tsv' in f_zip.namelist():\n",
    "                cluster_info = pd.read_csv(f_zip.open('cluster_info.tsv'), sep='\\t')\n",
    "                cluster_id = np.array(cluster_info['cluster_id'])\n",
    "                # select clusters using curation label, remove units labeled as \"noise\"\n",
    "                # find the best channel by amplitude\n",
    "                labeled_clusters = cluster_id[cluster_info['group'] != \"noise\"]\n",
    "            else:\n",
    "                labeled_clusters = np.unique(clusters)\n",
    "\n",
    "    df = pd.DataFrame({\"clusters\": clusters, \"spikeTimes\": spike_times, \"amplitudes\": amplitudes})\n",
    "    cluster_agg = df.groupby(\"clusters\").agg({\"spikeTimes\": lambda x: list(x),\n",
    "                                              \"amplitudes\": lambda x: list(x)})\n",
    "    cluster_agg = cluster_agg[cluster_agg.index.isin(labeled_clusters)]\n",
    "\n",
    "    cls_temp = dict(zip(clusters, spike_templates))\n",
    "    neuron_dict = dict.fromkeys(np.arange(len(labeled_clusters)), None)\n",
    "\n",
    "    # un-whitten the templates before finding the best channel\n",
    "    templates = np.dot(templates_w, wmi)\n",
    "\n",
    "    neuron_attributes = []\n",
    "    for i in range(len(labeled_clusters)):\n",
    "        c = labeled_clusters[i]\n",
    "        temp = templates[cls_temp[c]]\n",
    "        amp = np.max(temp, axis=0) - np.min(temp, axis=0)\n",
    "        sorted_idx = [ind for _, ind in sorted(zip(amp, np.arange(len(amp))))]\n",
    "        nbgh_chan_idx = sorted_idx[::-1][:12]\n",
    "        nbgh_temps = temp.transpose()[nbgh_chan_idx]\n",
    "        best_chan_temp = nbgh_temps[0]\n",
    "        nbgh_channels = channels[nbgh_chan_idx]\n",
    "        nbgh_postions = [tuple(positions[idx]) for idx in nbgh_chan_idx]\n",
    "        best_channel = nbgh_channels[0]\n",
    "        best_position = nbgh_postions[0]\n",
    "        # neighbor_templates = dict(zip(nbgh_postions, nbgh_temps))\n",
    "        cls_amp = cluster_agg[\"amplitudes\"][c]\n",
    "        neuron_dict[i] = {\"cluster_id\": c, \"channel\": best_channel, \"position\": best_position,\n",
    "                          \"amplitudes\": cls_amp, \"template\": best_chan_temp,\n",
    "                          \"neighbor_channels\": nbgh_channels, \"neighbor_positions\": nbgh_postions,\n",
    "                          \"neighbor_templates\": nbgh_temps}\n",
    "        neuron_attributes.append(\n",
    "            NeuronAttributes(\n",
    "                cluster_id=c,\n",
    "                channel=best_channel,\n",
    "                position=best_position,\n",
    "                amplitudes=cluster_agg[\"amplitudes\"][c],\n",
    "                template=best_chan_temp,\n",
    "                templates=templates[cls_temp[c]].T,\n",
    "                label=cluster_info['group'][cluster_info['cluster_id'] == c].values[0],\n",
    "                neighbor_channels=channels[nbgh_chan_idx],\n",
    "                neighbor_positions=[tuple(positions[idx]) for idx in nbgh_chan_idx],\n",
    "                neighbor_templates=[templates[cls_temp[c]].T[n] for n in nbgh_chan_idx]\n",
    "            )\n",
    "        )\n",
    "\n",
    "    config_dict = dict(zip(channels, positions))\n",
    "    neuron_data = {0: neuron_dict}\n",
    "    metadata = {0: config_dict}\n",
    "    spikedata = SpikeData(list(cluster_agg[\"spikeTimes\"]), neuron_data=neuron_data, metadata=metadata, neuron_attributes=neuron_attributes)\n",
    "    return spikedata\n",
    "\n",
    "class NeuronAttributes:\n",
    "    cluster_id: int\n",
    "    channel: np.ndarray\n",
    "    position: Tuple[float, float]\n",
    "    amplitudes: List[float]\n",
    "    template: np.ndarray\n",
    "    templates: np.ndarray\n",
    "    label: str\n",
    "\n",
    "    # These lists are the same length and correspond to each other\n",
    "    neighbor_channels: np.ndarray\n",
    "    neighbor_positions: List[Tuple[float, float]]\n",
    "    neighbor_templates: List[np.ndarray]\n",
    "\n",
    "    def __init__(self, *args, **kwargs):\n",
    "        self.cluster_id = kwargs.pop(\"cluster_id\")\n",
    "        self.channel = kwargs.pop(\"channel\")\n",
    "        self.position = kwargs.pop(\"position\")\n",
    "        self.amplitudes = kwargs.pop(\"amplitudes\")\n",
    "        self.template = kwargs.pop(\"template\")\n",
    "        self.templates = kwargs.pop(\"templates\")\n",
    "        self.label = kwargs.pop(\"label\")\n",
    "        self.neighbor_channels = kwargs.pop(\"neighbor_channels\")\n",
    "        self.neighbor_positions = kwargs.pop(\"neighbor_positions\")\n",
    "        self.neighbor_templates = kwargs.pop(\"neighbor_templates\")\n",
    "        for key, value in kwargs.items():\n",
    "            setattr(self, key, value)\n",
    "\n",
    "    def add_attribute(self, key, value):\n",
    "        setattr(self, key, value)\n",
    "\n",
    "    def list_attributes(self):\n",
    "        return [attr for attr in dir(self) if not attr.startswith('__') and not callable(getattr(self, attr))]\n"
   ]
  },
  {
   "cell_type": "code",
   "execution_count": null,
   "id": "92d6a514-0437-4f00-87e3-816c652f8519",
   "metadata": {},
   "outputs": [],
   "source": []
  },
  {
   "cell_type": "code",
   "execution_count": null,
   "id": "cb64691c-e223-4c06-9c1a-e7f6ebfb2c97",
   "metadata": {},
   "outputs": [],
   "source": []
  },
  {
   "cell_type": "markdown",
   "id": "5ae97c71",
   "metadata": {},
   "source": [
    "load data"
   ]
  },
  {
   "cell_type": "code",
   "execution_count": 12,
   "id": "cdc0ba6b",
   "metadata": {},
   "outputs": [],
   "source": [
    "sd = read_phy_files(f\"/workspaces/human_hippocampus/data/ephys/2023-04-02-e-hc328_unperturbed/derived/kilosort2/hc3_28_hckcr1_chip16835_plated34_2_rec4_2_curated.zip\") \n"
   ]
  },
  {
   "cell_type": "code",
   "execution_count": 13,
   "metadata": {},
   "outputs": [
    {
     "data": {
      "text/plain": [
       "140"
      ]
     },
     "execution_count": 13,
     "metadata": {},
     "output_type": "execute_result"
    }
   ],
   "source": [
    "sd.N"
   ]
  },
  {
   "cell_type": "markdown",
   "id": "9eb8d67c",
   "metadata": {},
   "source": [
    "load latencies, as curated by Tom"
   ]
  },
  {
   "cell_type": "code",
   "execution_count": 4,
   "id": "00aba63a",
   "metadata": {},
   "outputs": [],
   "source": [
    "file = open('/home/jovyan/work/Human_Hippocampus/data/saved_latencies/2023-04-02-e-hc328.pkl', 'rb')\n",
    "all_latencies = pickle.load(file)\n",
    "file.close()"
   ]
  },
  {
   "cell_type": "code",
   "execution_count": 5,
   "id": "b9e9ad33",
   "metadata": {},
   "outputs": [],
   "source": [
    "pairs_lates_directed = all_latencies[\"pairs_lates\"]"
   ]
  },
  {
   "cell_type": "code",
   "execution_count": 6,
   "id": "90aab7f7",
   "metadata": {},
   "outputs": [
    {
     "data": {
      "text/plain": [
       "54"
      ]
     },
     "execution_count": 6,
     "metadata": {},
     "output_type": "execute_result"
    }
   ],
   "source": [
    "len(pairs_lates_directed)"
   ]
  },
  {
   "cell_type": "markdown",
   "id": "c0729ec9",
   "metadata": {},
   "source": [
    "clean latencies"
   ]
  },
  {
   "cell_type": "code",
   "execution_count": 7,
   "id": "2516cc39",
   "metadata": {},
   "outputs": [],
   "source": [
    "pairs_lates_clean = {}\n",
    "for pair, lates_i in pairs_lates_directed.items():\n",
    "    percent_pos = np.sum(lates_i > 0) / len(lates_i)\n",
    "    if percent_pos > .65:\n",
    "        pairs_lates_clean[pair]=lates_i"
   ]
  },
  {
   "cell_type": "code",
   "execution_count": 8,
   "id": "76d41dea",
   "metadata": {},
   "outputs": [],
   "source": [
    "pairs_lates_list = list(pairs_lates_clean.items())"
   ]
  },
  {
   "cell_type": "markdown",
   "id": "01c3444b",
   "metadata": {},
   "source": [
    "# Make Plots"
   ]
  },
  {
   "cell_type": "markdown",
   "id": "1e5ec000",
   "metadata": {},
   "source": [
    "## Grouped Latencies"
   ]
  },
  {
   "cell_type": "markdown",
   "id": "51a89718",
   "metadata": {},
   "source": [
    "Plot all latencies curated by Tom"
   ]
  },
  {
   "cell_type": "code",
   "execution_count": 9,
   "id": "2c7545fa",
   "metadata": {},
   "outputs": [
    {
     "name": "stderr",
     "output_type": "stream",
     "text": [
      "/tmp/ipykernel_940399/3022611541.py:5: DeprecationWarning: Call to deprecated function (or staticmethod) neuron_data. (Use NeuronAttributes instead of neuron_data, with the function load_spike_data())\n",
      "  for neuron in sd.neuron_data[0].values():\n",
      "/tmp/ipykernel_940399/3022611541.py:51: UserWarning: Setting the 'color' property will override the edgecolor or facecolor properties.\n",
      "  arrow = FancyArrow(\n"
     ]
    },
    {
     "name": "stdout",
     "output_type": "stream",
     "text": [
      "27\n"
     ]
    },
    {
     "data": {
      "image/png": "[encoded data removed]",
      "text/plain": [
       "<Figure size 800x800 with 1 Axes>"
      ]
     },
     "metadata": {},
     "output_type": "display_data"
    }
   ],
   "source": [
    "plotLatencyLayoutGroups(sd, pairs_lates_clean )"
   ]
  },
  {
   "cell_type": "markdown",
   "id": "f02750c6",
   "metadata": {},
   "source": [
    "## Individual Pair Analysis"
   ]
  },
  {
   "cell_type": "code",
   "execution_count": 9,
   "id": "6236937d",
   "metadata": {},
   "outputs": [],
   "source": [
    "isis = sd.interspike_intervals()\n",
    "firing_rates = calculate_mean_firing_rates(sd)\n",
    "sttc = sd.spike_time_tilings()"
   ]
  },
  {
   "cell_type": "code",
   "execution_count": 10,
   "id": "74a26c36",
   "metadata": {},
   "outputs": [
    {
     "data": {
      "application/vnd.jupyter.widget-view+json": {
       "model_id": "0c493312c99141eab9e2f0914f77d2a5",
       "version_major": 2,
       "version_minor": 0
      },
      "text/plain": [
       "interactive(children=(IntSlider(value=13, description='num', max=26), Button(description='Run Interact', style…"
      ]
     },
     "metadata": {},
     "output_type": "display_data"
    },
    {
     "data": {
      "text/plain": [
       "<function __main__.plotLatencyPairAnalysis(num)>"
      ]
     },
     "execution_count": 10,
     "metadata": {},
     "output_type": "execute_result"
    }
   ],
   "source": [
    "interact_manual( plotLatencyPairAnalysis, num=(0,(len(pairs_lates_clean)-1) ))"
   ]
  },
  {
   "cell_type": "markdown",
   "id": "d082384f",
   "metadata": {},
   "source": [
    "# Clean Latency by ms"
   ]
  },
  {
   "cell_type": "code",
   "execution_count": null,
   "metadata": {},
   "outputs": [],
   "source": []
  },
  {
   "cell_type": "markdown",
   "id": "1fe439c9",
   "metadata": {},
   "source": [
    "Here we only keep the latencies above whose median latency is between 2-10ms"
   ]
  },
  {
   "cell_type": "code",
   "execution_count": 11,
   "id": "3a8a98cf",
   "metadata": {},
   "outputs": [],
   "source": [
    "pairs_lates_clean2 = {}\n",
    "for pair, lates_i in pairs_lates_clean.items():\n",
    "    if abs(np.median(lates_i))>1:\n",
    "        pairs_lates_clean2[pair]=lates_i"
   ]
  },
  {
   "cell_type": "code",
   "execution_count": 27,
   "id": "7cc2c190",
   "metadata": {},
   "outputs": [
    {
     "data": {
      "text/plain": [
       "dict_keys([(37, 81), (76, 66), (79, 103), (121, 103), (130, 9), (138, 81)])"
      ]
     },
     "execution_count": 27,
     "metadata": {},
     "output_type": "execute_result"
    }
   ],
   "source": [
    "pairs_lates_clean2.keys()"
   ]
  },
  {
   "cell_type": "code",
   "execution_count": 12,
   "id": "64a26162",
   "metadata": {},
   "outputs": [
    {
     "name": "stderr",
     "output_type": "stream",
     "text": [
      "/tmp/ipykernel_943595/3022611541.py:5: DeprecationWarning: Call to deprecated function (or staticmethod) neuron_data. (Use NeuronAttributes instead of neuron_data, with the function load_spike_data())\n",
      "  for neuron in sd.neuron_data[0].values():\n",
      "/tmp/ipykernel_943595/3022611541.py:51: UserWarning: Setting the 'color' property will override the edgecolor or facecolor properties.\n",
      "  arrow = FancyArrow(\n"
     ]
    },
    {
     "name": "stdout",
     "output_type": "stream",
     "text": [
      "6\n"
     ]
    },
    {
     "data": {
      "image/png": "[encoded data removed]",
      "text/plain": [
       "<Figure size 800x800 with 1 Axes>"
      ]
     },
     "metadata": {},
     "output_type": "display_data"
    }
   ],
   "source": [
    "plotLatencyLayoutGroups(sd, pairs_lates_clean2 )"
   ]
  },
  {
   "cell_type": "markdown",
   "id": "70f74717",
   "metadata": {},
   "source": [
    "# View STTC"
   ]
  },
  {
   "cell_type": "code",
   "execution_count": 13,
   "id": "fd8a33c6",
   "metadata": {},
   "outputs": [],
   "source": [
    "sttc_clean = []\n",
    "for key in pairs_lates_clean.keys():\n",
    "    sttc_clean.append(sttc[key[0]][key[1]])"
   ]
  },
  {
   "cell_type": "code",
   "execution_count": 14,
   "id": "9d0fd1a8",
   "metadata": {},
   "outputs": [
    {
     "data": {
      "text/plain": [
       "(array([5., 4., 1., 2., 2., 0., 3., 3., 3., 4.]),\n",
       " array([0.21866745, 0.2968007 , 0.37493396, 0.45306721, 0.53120047,\n",
       "        0.60933372, 0.68746698, 0.76560023, 0.84373349, 0.92186674,\n",
       "        1.        ]),\n",
       " <BarContainer object of 10 artists>)"
      ]
     },
     "execution_count": 14,
     "metadata": {},
     "output_type": "execute_result"
    },
    {
     "data": {
      "image/png": "[encoded data removed]",
      "text/plain": [
       "<Figure size 640x480 with 1 Axes>"
      ]
     },
     "metadata": {},
     "output_type": "display_data"
    }
   ],
   "source": [
    "plt.hist(sttc_clean)"
   ]
  },
  {
   "cell_type": "code",
   "execution_count": 26,
   "id": "64d0fee0",
   "metadata": {},
   "outputs": [
    {
     "name": "stdout",
     "output_type": "stream",
     "text": [
      "Total number of directed pairs -- 27\n"
     ]
    }
   ],
   "source": [
    "print(\"Total number of directed pairs --\", len(sttc_clean))"
   ]
  },
  {
   "cell_type": "code",
   "execution_count": 20,
   "id": "91ac6f61",
   "metadata": {},
   "outputs": [
    {
     "name": "stdout",
     "output_type": "stream",
     "text": [
      "minimum STTC from directed pairs:  0.21866744872390137\n"
     ]
    }
   ],
   "source": [
    "print(\"minimum STTC from directed pairs: \",min(sttc_clean) )"
   ]
  },
  {
   "cell_type": "code",
   "execution_count": 25,
   "id": "972bc208",
   "metadata": {},
   "outputs": [
    {
     "name": "stdout",
     "output_type": "stream",
     "text": [
      "Total STTC's above 0.2 -- 141.0\n"
     ]
    }
   ],
   "source": [
    "print( \"Total STTC's above 0.2 --\",np.sum(sttc>.2)/2 )"
   ]
  },
  {
   "cell_type": "markdown",
   "id": "fa4a53df",
   "metadata": {},
   "source": [
    "# General Latency Pair Analysis"
   ]
  },
  {
   "cell_type": "code",
   "execution_count": null,
   "id": "4bdb10b4",
   "metadata": {},
   "outputs": [],
   "source": [
    "def plotLatencyPairAnalysis(num):\n",
    "    \n",
    "    import warnings\n",
    "    warnings.filterwarnings(\"ignore\")\n",
    "\n",
    "    # Layout Plot\n",
    "    pairs_lates_list = list(pairs_lates_clean.items())\n",
    "    to_graph = {pairs_lates_list[num][0]:pairs_lates_list[num][1]}\n",
    "    plotLatencyPairFootprint(sd,to_graph)\n",
    "    \n",
    "    # Summary Stats\n",
    "    start_i = pairs_lates_list[num][0][0]\n",
    "    end_i = pairs_lates_list[num][0][1]\n",
    "    latencies = pairs_lates_list[num][1]\n",
    "    \n",
    "    print( \"Number of Latencies\", len(latencies) )\n",
    "    print( \"Mean Latency\", round(np.mean(latencies), 3) )\n",
    "    print( \"Median Latency\", round(np.median(latencies), 3) )\n",
    "    #print( \"Latency Probability\", {round(100*(len(lates_filtered)/len(lates_raw)))})\n",
    "    print(\"STTC\", sttc[start_i][end_i])\n",
    "    print(\"Diptest P-val\", round( diptest.diptest(latencies)[1] , 3) )\n",
    "    print( \"Latency Probability\", round(len(latencies)/len(sd.train[start_i]), 3) )\n",
    "    print(\".\")\n",
    "    print( \"Sender Neuron\", start_i)\n",
    "    print( \"Sender   Firing Rate\", round(firing_rates[start_i], 3) )\n",
    "    print(\".\")\n",
    "    print(\"Receiver Neuron\", end_i)\n",
    "    print( \"Receiver Firing Rate\", round(firing_rates[end_i], 3) )\n",
    "    \n",
    "    # Plot other graphs\n",
    "    figs, plots = plt.subplots(nrows=3,ncols=2,figsize=(14,10))\n",
    "\n",
    "    mean_latency = np.mean(latencies)     # Get mean and SD\n",
    "    std_latency = np.std(latencies)\n",
    "    cutoff = 2 * std_latency           # remove outliers\n",
    "    lates_filtered = [latency for latency in latencies if abs(latency - mean_latency) <= cutoff]\n",
    "    plots[0,0].hist(lates_filtered, bins=12, alpha=0.7, label='Latency')\n",
    "    plots[0,0].axvline(mean_latency, color='red', linestyle='dashed', linewidth=2, label='Mean')\n",
    "    plots[0,0].axvline(mean_latency - std_latency, color='green', linestyle='dashed', linewidth=2, label='Std -')\n",
    "    plots[0,0].axvline(mean_latency + std_latency, color='green', linestyle='dashed', linewidth=2, label='Std +')\n",
    "    plots[0,0].axvline(0, color='black', linestyle='dashed', linewidth=0.5, label='Std +')\n",
    "    plots[0,0].set_xlim(-1*(abs(mean_latency)+cutoff), abs(mean_latency) + cutoff) \n",
    "    plots[0,0].set_xlabel(\"Latency (ms)\")\n",
    "    plots[0,0].set_ylabel(\"Count\")\n",
    "    plots[0,0].set_title(f\"Fancy Latency Histogram\")\n",
    "    plots[0,0].legend()\n",
    "\n",
    "    plots[0,1].hist(latencies, bins=12)\n",
    "    plots[0,1].set_title(\"Latency Histogram\")\n",
    "    plots[0,1].set_xlabel(\"Latency (ms)\")\n",
    "    plots[0,1].set_ylabel(\"Count\")\n",
    "\n",
    "    plots[1,0].hist(isis[start_i], bins=50);\n",
    "    plots[1,0].set_title(\"Sender ISI\")\n",
    "    plots[1,0].set_xlabel(\"Time bin(ms)\")\n",
    "    plots[1,0].set_ylabel(\"ISI count\")\n",
    "\n",
    "    plots[1,1].hist(isis[end_i], bins=50);\n",
    "    plots[1,1].set_title(\"Receiver ISI\")\n",
    "    plots[1,1].set_xlabel(\"Time bin(ms)\")\n",
    "    plots[1,1].set_ylabel(\"ISI count\")\n",
    "    \n",
    "    \n",
    "    plots[2,0].plot( sd.neuron_data[0][start_i][\"template\"] )\n",
    "    plots[2,0].set_title(\"Sender Spike Waveform\")\n",
    "    plots[2,0].set_xlabel(\"\")\n",
    "    plots[2,0].set_ylabel(\"\")\n",
    "    \n",
    "    plots[2,1].plot( sd.neuron_data[0][end_i][\"template\"] )\n",
    "    plots[2,1].set_title(\"Receiver Spike Waveform\")\n",
    "    plots[2,1].set_xlabel(\"\")\n",
    "    plots[2,1].set_ylabel(\"\")\n",
    "    "
   ]
  },
  {
   "cell_type": "code",
   "execution_count": null,
   "id": "61b23872",
   "metadata": {},
   "outputs": [],
   "source": []
  },
  {
   "cell_type": "code",
   "execution_count": null,
   "id": "0cea2d86",
   "metadata": {},
   "outputs": [],
   "source": []
  },
  {
   "cell_type": "code",
   "execution_count": null,
   "id": "771ba073",
   "metadata": {},
   "outputs": [],
   "source": []
  },
  {
   "cell_type": "code",
   "execution_count": null,
   "id": "4193daa3",
   "metadata": {},
   "outputs": [],
   "source": []
  },
  {
   "cell_type": "code",
   "execution_count": null,
   "id": "f3fd2ad5",
   "metadata": {},
   "outputs": [],
   "source": []
  },
  {
   "cell_type": "code",
   "execution_count": null,
   "id": "54fb5170",
   "metadata": {},
   "outputs": [],
   "source": []
  },
  {
   "cell_type": "code",
   "execution_count": null,
   "id": "18915a29",
   "metadata": {},
   "outputs": [],
   "source": []
  },
  {
   "cell_type": "code",
   "execution_count": null,
   "id": "4044e229",
   "metadata": {},
   "outputs": [],
   "source": []
  },
  {
   "cell_type": "code",
   "execution_count": null,
   "id": "71d82fd2",
   "metadata": {},
   "outputs": [],
   "source": []
  },
  {
   "cell_type": "code",
   "execution_count": null,
   "id": "2639edc2",
   "metadata": {},
   "outputs": [],
   "source": []
  }
 ],
 "metadata": {
  "hide_input": false,
  "kernelspec": {
   "display_name": "Python 3 (ipykernel)",
   "language": "python",
   "name": "python3"
  },
  "language_info": {
   "codemirror_mode": {
    "name": "ipython",
    "version": 3
   },
   "file_extension": ".py",
   "mimetype": "text/x-python",
   "name": "python",
   "nbconvert_exporter": "python",
   "pygments_lexer": "ipython3",
   "version": "3.10.0"
  },
  "toc": {
   "base_numbering": 1,
   "nav_menu": {},
   "number_sections": true,
   "sideBar": true,
   "skip_h1_title": false,
   "title_cell": "Table of Contents",
   "title_sidebar": "Contents",
   "toc_cell": false,
   "toc_position": {},
   "toc_section_display": true,
   "toc_window_display": false
  },
  "varInspector": {
   "cols": {
    "lenName": 16,
    "lenType": 16,
    "lenVar": 40
   },
   "kernels_config": {
    "python": {
     "delete_cmd_postfix": "",
     "delete_cmd_prefix": "del ",
     "library": "var_list.py",
     "varRefreshCmd": "print(var_dic_list())"
    },
    "r": {
     "delete_cmd_postfix": ") ",
     "delete_cmd_prefix": "rm(",
     "library": "var_list.r",
     "varRefreshCmd": "cat(var_dic_list()) "
    }
   },
   "types_to_exclude": [
    "module",
    "function",
    "builtin_function_or_method",
    "instance",
    "_Feature"
   ],
   "window_display": false
  }
 },
 "nbformat": 4,
 "nbformat_minor": 5
}

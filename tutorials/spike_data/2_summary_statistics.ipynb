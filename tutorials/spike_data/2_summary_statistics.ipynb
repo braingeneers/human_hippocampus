{
 "cells": [
  {
   "cell_type": "markdown",
   "metadata": {},
   "source": [
    "<font size=7> Summary Statistics"
   ]
  },
  {
   "cell_type": "code",
   "execution_count": 10,
   "metadata": {},
   "outputs": [],
   "source": [
    "import os\n",
    "from human_hip.spike_data import summary_UUID\n",
    "from ipywidgets import interact_manual"
   ]
  },
  {
   "cell_type": "markdown",
   "metadata": {},
   "source": [
    "Here we run som summary statistics on the spiked data for our **4** datasets of interest. For each dataset, we only consider the dataset which contain no drugs or pertubations. We also only consider the datasets that were curated to our liking. To get these summary statistics, we used the app below."
   ]
  },
  {
   "cell_type": "markdown",
   "metadata": {},
   "source": [
    "**Adult Dentat Gyrus** \n",
    "\n",
    "* Filename: hc11.1_plated-11.1_chip-16753_rec_11.2.22AM-immediate_curated.zip:\n",
    "* Number of spikes:  49667\n",
    "* Length:  418 seconds\n",
    "* Number of Neurons:  87\n",
    "* Average Firing Rate:  1.36\n",
    "* Coefficient of Variation:  0.546\n",
    "\n",
    "<font color=\"orange\">Other Notes-- the file, `hc11.1_plated-11.1_chip-16753_rec_11.2.22AM-immediate_curated_neg.zip` (unused) is basically the same thing, but with half the neurons (40 removed).</font> .</font> \n",
    "\n",
    "**Infant Dentate Gyrus**\n",
    "\n",
    "* Filename: hc9.19_chp-16849_plated-10.19.22_rec10.19.22_curated.zip:\n",
    "* Number of spikes:  31673\n",
    "* Length:  1269 seconds\n",
    "* Number of Neurons:  20\n",
    "* Average Firing Rate:  1.25\n",
    "* Coefficient of Variation:  1.304\n",
    "\n",
    "<font color=\"orange\">Other Notes-- the file, `hc9.19_chp-16849_plated-10.19.22_rec10.20.22_curated.zip` Looks potentially promissing but was not readable.</font> \n",
    "\n",
    "**?Anterior? CA1**\n",
    "\n",
    "* Filename: hc3.28_hckcr1_chip16835_plated34.2_rec4.2_curated.zip\n",
    "* Number of spikes:  113477\n",
    "* Length:  398 seconds\n",
    "* Number of Neurons:  140\n",
    "* Average Firing Rate:  2.04\n",
    "* Coefficient of Variation:  0.837\n",
    "\n",
    "<font color=\"orange\">Other Notes-- the file, `hc3.28_hckcr1_chip16835_plated34.2_rec4.2_curated_s1.zip` (unused) is basically the same thing, but with 4 less neurons.</font> \n",
    "\n",
    "**?Posterior? CA1 Region**  \n",
    "\n",
    "* Filename: hc5.2_chip18790_baseline_rec5.10.23_curated.zip:\n",
    "* Number of spikes:  21773\n",
    "* Length:  107 seconds\n",
    "* Number of Neurons:  101\n",
    "* Average Firing Rate:  2.01\n",
    "* Coefficient of Variation:  0.595\n",
    "\n",
    "<font color=\"orange\">Other Notes-- the file,`hc5.2_chip18790_baseline_rec5.10.23_curated_s1.zip` (unused) is basically the same thing, but with 1 less neuron.</font> \n",
    "\n",
    "\n"
   ]
  },
  {
   "cell_type": "markdown",
   "metadata": {},
   "source": [
    "## Text Summary"
   ]
  },
  {
   "cell_type": "markdown",
   "metadata": {},
   "source": [
    "This function produces a summerary of all <b>curated</b> recordings in a folder. The information provided is as follows:\n",
    "   - Name of the file from which we are displaying recording data\n",
    "   - Number of spikes in the recording over all Neural Units\n",
    "   - Length of recording in Seconds \n",
    "   - Number of Neural Units in recording deemed significant after curation\n",
    "   - Averarge firing rate of tissue sample in spikes per second\n",
    "   - Coefficent of Variation for recording, values being close to 1 signifying random firing and smaller values signifying less randomness in firing patterns\n",
    "   \n",
    "To use this function, run the cell below and use the interact widget to select the folder you wish to analyse, then hit the <b>Run Interact</b> button to display the information. Displays in order of appearance in directory. "
   ]
  },
  {
   "cell_type": "code",
   "execution_count": 12,
   "metadata": {},
   "outputs": [
    {
     "data": {
      "application/vnd.jupyter.widget-view+json": {
       "model_id": "0367498c07c2497ea360efc743702512",
       "version_major": 2,
       "version_minor": 0
      },
      "text/plain": [
       "interactive(children=(Dropdown(description='folder_name', options=('2023-05-10-e-hc52_18790', '2022-10-20-e-',…"
      ]
     },
     "metadata": {},
     "output_type": "display_data"
    },
    {
     "data": {
      "text/plain": [
       "<function __main__.summary_UUID(folder_name, data_path='/workspaces/human_hippocampus/data/ephys')>"
      ]
     },
     "execution_count": 12,
     "metadata": {},
     "output_type": "execute_result"
    }
   ],
   "source": [
    "data_folders = os.listdir(\"/workspaces/human_hippocampus/data/ephys/\")\n",
    "interact_manual( summary_UUID, folder_name=data_folders ) "
   ]
  },
  {
   "cell_type": "markdown",
   "metadata": {},
   "source": [
    "## Basic Plots"
   ]
  },
  {
   "cell_type": "markdown",
   "metadata": {},
   "source": [
    "This function provides two figures from a selected <b>curated</b> recording. The first figure is comprised of four subplots that depict the distrobution of interspike intervals, the distrobution of neural unit firing rate as a histogram and also ploted onto the neuron layout, and finally the spike raster of the first 30 seconds of the recording with the firing rate drawn over it. The second figure is the individual interspike intervals of the first 8 Neural Units. If there are less than 8 units in a curated sample the plot will display the total amount of units along with a warning that the Neural Unit count is under 8. To use this function, run the cell below and use the interact widget to select the file you wish to analyse, then hit the <b>Run Interact</b> button to display the figures."
   ]
  },
  {
   "cell_type": "code",
   "execution_count": 4,
   "metadata": {},
   "outputs": [
    {
     "ename": "NameError",
     "evalue": "name 'filenames' is not defined",
     "output_type": "error",
     "traceback": [
      "\u001b[0;31m---------------------------------------------------------------------------\u001b[0m",
      "\u001b[0;31mNameError\u001b[0m                                 Traceback (most recent call last)",
      "\u001b[1;32m/workspaces/human_hippocampus/tutorials/spike_data/2_summary_statistics.ipynb Cell 15\u001b[0m line \u001b[0;36m1\n\u001b[0;32m----> <a href='vscode-notebook-cell://codespaces%2Borganic-guide-77vwxvrpx5rcrjrv/workspaces/human_hippocampus/tutorials/spike_data/2_summary_statistics.ipynb#X41sdnNjb2RlLXJlbW90ZQ%3D%3D?line=0'>1</a>\u001b[0m interact_manual( summary_UUID, filename\u001b[39m=\u001b[39mfilenames)\n",
      "\u001b[0;31mNameError\u001b[0m: name 'filenames' is not defined"
     ]
    }
   ],
   "source": [
    "interact_manual( summary_UUID, filename=filenames)"
   ]
  },
  {
   "cell_type": "code",
   "execution_count": null,
   "metadata": {},
   "outputs": [],
   "source": []
  },
  {
   "cell_type": "code",
   "execution_count": null,
   "metadata": {},
   "outputs": [],
   "source": []
  },
  {
   "cell_type": "markdown",
   "metadata": {},
   "source": [
    "# <font color=\"brown\"> OLD = Load datasets"
   ]
  },
  {
   "cell_type": "markdown",
   "metadata": {},
   "source": [
    "Load dentate gyrus data"
   ]
  },
  {
   "cell_type": "code",
   "execution_count": 23,
   "metadata": {},
   "outputs": [],
   "source": [
    "sd_dg = read_phy_files( \"/workspaces/human_hippocampus/data/ephys/2022-11-02-e-Hc11.1-chip16753/derived/kilosort2/hc11.1_plated-11.1_chip-16753_rec_11.2.22AM-immediate_curated.zip\" )\n"
   ]
  },
  {
   "cell_type": "markdown",
   "metadata": {},
   "source": [
    "Load Ca1 Data"
   ]
  },
  {
   "cell_type": "code",
   "execution_count": 24,
   "metadata": {},
   "outputs": [],
   "source": [
    "file = open('/workspaces/human_hippocampus/data/ephys/2023-04-02-e-hc328_unperturbed/StitchedDataUpdated.pkl', 'rb' )\n",
    "sd_ca1 = pickle.load(file)\n",
    "file.close()"
   ]
  },
  {
   "cell_type": "markdown",
   "metadata": {},
   "source": [
    "load unknown data"
   ]
  },
  {
   "cell_type": "code",
   "execution_count": 26,
   "metadata": {},
   "outputs": [],
   "source": [
    "file = open('/workspaces/human_hippocampus/data/ephys/2023-05-10-e-hc52_18790_unperturbed/5-10-23s1-CutData.pkl', 'rb' )\n",
    "sd_na = pickle.load(file)\n",
    "file.close()"
   ]
  },
  {
   "cell_type": "markdown",
   "metadata": {},
   "source": [
    "# Analyse data"
   ]
  },
  {
   "cell_type": "code",
   "execution_count": null,
   "metadata": {},
   "outputs": [],
   "source": []
  },
  {
   "cell_type": "code",
   "execution_count": null,
   "metadata": {},
   "outputs": [],
   "source": []
  },
  {
   "cell_type": "code",
   "execution_count": null,
   "metadata": {},
   "outputs": [],
   "source": []
  },
  {
   "cell_type": "code",
   "execution_count": null,
   "metadata": {},
   "outputs": [],
   "source": []
  },
  {
   "cell_type": "code",
   "execution_count": null,
   "metadata": {},
   "outputs": [],
   "source": []
  },
  {
   "cell_type": "code",
   "execution_count": null,
   "metadata": {},
   "outputs": [],
   "source": []
  },
  {
   "cell_type": "code",
   "execution_count": null,
   "metadata": {},
   "outputs": [],
   "source": []
  },
  {
   "cell_type": "code",
   "execution_count": null,
   "metadata": {},
   "outputs": [],
   "source": []
  }
 ],
 "metadata": {
  "kernelspec": {
   "display_name": "Python 3 (ipykernel)",
   "language": "python",
   "name": "python3"
  },
  "language_info": {
   "codemirror_mode": {
    "name": "ipython",
    "version": 3
   },
   "file_extension": ".py",
   "mimetype": "text/x-python",
   "name": "python",
   "nbconvert_exporter": "python",
   "pygments_lexer": "ipython3",
   "version": "3.10.0"
  }
 },
 "nbformat": 4,
 "nbformat_minor": 2
}

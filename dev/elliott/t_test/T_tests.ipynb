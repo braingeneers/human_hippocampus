{
 "cells": [
  {
   "cell_type": "markdown",
   "metadata": {},
   "source": [
    "<font size=7> T-Tests"
   ]
  },
  {
   "cell_type": "markdown",
   "metadata": {},
   "source": [
    "<font color=\"red\">\n",
    "\n",
    "**To Do**\n",
    "* Read wiki article on T-test\n",
    "* Read one sample t-test article\n",
    "* put in data for first example\n",
    "* run T test"
   ]
  },
  {
   "cell_type": "markdown",
   "metadata": {},
   "source": [
    "# Summary"
   ]
  },
  {
   "cell_type": "markdown",
   "metadata": {},
   "source": [
    "This notebook implements T-tests on the data collected from students who took one of the two classes.  This is for an education paper being submitted to eNeuro. The reviewers asked us to perform some statistical analysis on our survey data. An example of a survey question from the Math of Mind class is shown below. \n",
    "\n"
   ]
  },
  {
   "cell_type": "markdown",
   "metadata": {},
   "source": [
    "<div><img src=\"example_student_response.png\" width=\"500\"/></div>"
   ]
  },
  {
   "cell_type": "markdown",
   "metadata": {},
   "source": [
    "![fail](example_student_response.png)"
   ]
  },
  {
   "cell_type": "markdown",
   "metadata": {},
   "source": [
    "We are implementing a 1-sample T-Test"
   ]
  },
  {
   "cell_type": "markdown",
   "metadata": {},
   "source": [
    "The question we are attempting to answer is, \"In which survey questions are student responses statistically different from neutral?\" To get analyzable distributions, we label student responses, \"Strongly Disagree\" to \"Strongly Agree,\" from -2 to 2. We then do a T-test to show significance. For the T-test, we must compare the mean and standard deviation of the survey data to a \"null\" distribution. I will define the null to have mean 0, and a standard deviation that's the same as the corresponding survey data. This approach is somewhat hand-wavy. For this paper it's probably sufficient though."
   ]
  },
  {
   "cell_type": "markdown",
   "metadata": {},
   "source": [
    "**References**\n",
    "* [T-Test wiki](https://en.wikipedia.org/wiki/Student%27s_t-test)\n",
    "* [1 sample T-test description](https://www.jmp.com/en_us/statistics-knowledge-portal/t-test/one-sample-t-test.html)"
   ]
  },
  {
   "cell_type": "markdown",
   "metadata": {},
   "source": [
    "# <font color=\"orchid\"> T-Tests"
   ]
  },
  {
   "cell_type": "markdown",
   "metadata": {},
   "source": [
    "## <font color=\"orchid\"> Set up Data and code"
   ]
  },
  {
   "cell_type": "markdown",
   "metadata": {},
   "source": [
    "import packages for analysis"
   ]
  },
  {
   "cell_type": "code",
   "execution_count": 2,
   "metadata": {},
   "outputs": [],
   "source": [
    "# import packages for analysis\n",
    "from scipy import stats\n",
    "import numpy as np\n",
    "from matplotlib import pyplot as plt"
   ]
  },
  {
   "cell_type": "markdown",
   "metadata": {},
   "source": [
    "set general parameters"
   ]
  },
  {
   "cell_type": "code",
   "execution_count": 4,
   "metadata": {},
   "outputs": [],
   "source": [
    "num_students_math = 24 # number of students in the math of mind class\n",
    "num_students_bio = 10 # number of students in the highschool class\n",
    "survey_range = np.array([-2,-1,0,1,2]) # range of survey responses from \"strongly disagree\" to \"strongly agree\""
   ]
  },
  {
   "cell_type": "markdown",
   "metadata": {},
   "source": [
    "example data"
   ]
  },
  {
   "cell_type": "code",
   "execution_count": 5,
   "metadata": {},
   "outputs": [],
   "source": [
    "questions = [\"I am interested in the application of mathematics in biological processes\", \"fake data\"]\n",
    "\n",
    "survey_results = np.array([[16,6,2,0,0], [6,4,4,4,6]])"
   ]
  },
  {
   "cell_type": "markdown",
   "metadata": {},
   "source": [
    "proccess data fro t-test"
   ]
  },
  {
   "cell_type": "code",
   "execution_count": 6,
   "metadata": {},
   "outputs": [],
   "source": [
    "# create an array by repeating the numbers in survery_range by the corresponding number in survey_results\n",
    "survey_data =[]\n",
    "for i in range(len(survey_results)):\n",
    "    survey_data.append( np.repeat(survey_range, survey_results[i]) )"
   ]
  },
  {
   "cell_type": "markdown",
   "metadata": {},
   "source": [
    "function to run t-test"
   ]
  },
  {
   "cell_type": "code",
   "execution_count": 9,
   "metadata": {},
   "outputs": [],
   "source": [
    "# wrtie a function that does a T-test\n",
    "def t_test(data, questions):\n",
    "    for i in range(len(questions)):\n",
    "        print(questions[i])\n",
    "        print(\"Mean: \", np.mean(data[i]))\n",
    "        print(\"Standard Deviation: \", np.std(data[i]))\n",
    "        print(\"Standard Error: \", np.std(data[i])/np.sqrt(len(data[i])))\n",
    "        print(\"Median: \", np.median(data[i]))\n",
    "        print(\"Mode: \", stats.mode(data[i])[0] )\n",
    "        print(\"Range: \", np.max(data[i]) - np.min(data[i]))\n",
    "        print(\"Variance: \", np.var(data[i]))\n",
    "        print(\"Skewness: \", stats.skew(data[i]))\n",
    "        print(\"Kurtosis: \", stats.kurtosis(data[i]))\n",
    "        print(\"T-Test: \", stats.ttest_1samp(data[i], 0))\n",
    "        print(\"Wilcox: \", stats.wilcoxon(survey_data[i], zero_method='wilcox', correction=False))\n",
    "        print(\"\")\n"
   ]
  },
  {
   "cell_type": "markdown",
   "metadata": {},
   "source": [
    "## <font color=\"orchid\">Run Code\n"
   ]
  },
  {
   "cell_type": "markdown",
   "metadata": {},
   "source": [
    "run t-test"
   ]
  },
  {
   "cell_type": "code",
   "execution_count": 10,
   "metadata": {},
   "outputs": [
    {
     "name": "stdout",
     "output_type": "stream",
     "text": [
      "I am interested in the application of mathematics in biological processes\n",
      "Mean:  -1.5833333333333333\n",
      "Standard Deviation:  0.6400954789890506\n",
      "Standard Error:  0.13065894251546376\n",
      "Median:  -2.0\n",
      "Mode:  -2\n",
      "Range:  2\n",
      "Variance:  0.40972222222222215\n",
      "Skewness:  1.2665836424236083\n",
      "Kurtosis:  0.4119505889112327\n",
      "T-Test:  TtestResult(statistic=-11.862917582084185, pvalue=2.778826173484555e-11, df=23)\n",
      "P-Value:  2.778826173484555e-11\n",
      "\n",
      "fake data\n",
      "Mean:  0.0\n",
      "Standard Deviation:  1.5275252316519468\n",
      "Standard Error:  0.3118047822311618\n",
      "Median:  0.0\n",
      "Mode:  -2\n",
      "Range:  4\n",
      "Variance:  2.3333333333333335\n",
      "Skewness:  0.0\n",
      "Kurtosis:  -1.4693877551020411\n",
      "T-Test:  TtestResult(statistic=0.0, pvalue=1.0, df=23)\n",
      "P-Value:  1.0\n",
      "\n"
     ]
    }
   ],
   "source": [
    "t_test(survey_data, questions)"
   ]
  },
  {
   "cell_type": "markdown",
   "metadata": {},
   "source": [
    "# <font color=\"green\"> Wilcoxon Rank Test"
   ]
  },
  {
   "cell_type": "markdown",
   "metadata": {},
   "source": [
    "We run the wilcoxon signed rank test for one sample median 0, so that we have a non-parametric test."
   ]
  },
  {
   "cell_type": "markdown",
   "metadata": {},
   "source": [
    "**Refenrences**\n",
    "* [Wilcox wiki](https://en.wikipedia.org/wiki/Wilcoxon_signed-rank_test)\n",
    "* [Video Tutorial](https://www.youtube.com/watch?v=PGiXtngX3YQ)"
   ]
  },
  {
   "cell_type": "code",
   "execution_count": 12,
   "metadata": {},
   "outputs": [
    {
     "data": {
      "text/plain": [
       "[array([-2, -2, -2, -2, -2, -2, -2, -2, -2, -2, -2, -2, -2, -2, -2, -2, -1,\n",
       "        -1, -1, -1, -1, -1,  0,  0]),\n",
       " array([-2, -2, -2, -2, -2, -2, -1, -1, -1, -1,  0,  0,  0,  0,  1,  1,  1,\n",
       "         1,  2,  2,  2,  2,  2,  2])]"
      ]
     },
     "execution_count": 12,
     "metadata": {},
     "output_type": "execute_result"
    }
   ],
   "source": [
    "survey_data"
   ]
  },
  {
   "cell_type": "code",
   "execution_count": 14,
   "metadata": {},
   "outputs": [
    {
     "data": {
      "text/plain": [
       "WilcoxonResult(statistic=105.0, pvalue=1.0)"
      ]
     },
     "execution_count": 14,
     "metadata": {},
     "output_type": "execute_result"
    }
   ],
   "source": [
    "# run the wilcoxon signed rank test, one-sample, median 0,  on the survey_data\n",
    "stats.wilcoxon(survey_data[1], zero_method='wilcox', correction=False)\n"
   ]
  },
  {
   "cell_type": "code",
   "execution_count": null,
   "metadata": {},
   "outputs": [],
   "source": []
  },
  {
   "cell_type": "code",
   "execution_count": null,
   "metadata": {},
   "outputs": [],
   "source": []
  }
 ],
 "metadata": {
  "kernelspec": {
   "display_name": "Python 3 (ipykernel)",
   "language": "python",
   "name": "python3"
  },
  "language_info": {
   "codemirror_mode": {
    "name": "ipython",
    "version": 3
   },
   "file_extension": ".py",
   "mimetype": "text/x-python",
   "name": "python",
   "nbconvert_exporter": "python",
   "pygments_lexer": "ipython3",
   "version": "3.10.0"
  }
 },
 "nbformat": 4,
 "nbformat_minor": 2
}

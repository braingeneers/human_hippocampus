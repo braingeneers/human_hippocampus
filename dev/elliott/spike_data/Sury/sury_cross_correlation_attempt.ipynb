{
 "cells": [
  {
   "cell_type": "markdown",
   "metadata": {},
   "source": [
    "<font size=7> Sury Cross Correlation Attempt"
   ]
  },
  {
   "cell_type": "markdown",
   "metadata": {},
   "source": [
    "I attempt to get Sury's code for analyzing connectivity working."
   ]
  },
  {
   "cell_type": "code",
   "execution_count": 1,
   "metadata": {},
   "outputs": [],
   "source": [
    "import numpy as np\n",
    "import matplotlib.pyplot as plt\n",
    "from scipy.ndimage import gaussian_filter1d\n",
    "from scipy import signal\n",
    "import math\n",
    "from scipy.sparse import csr_array"
   ]
  },
  {
   "cell_type": "code",
   "execution_count": 2,
   "metadata": {},
   "outputs": [],
   "source": [
    "import pickle\n",
    "from human_hip.spike_data import curate_latencies, plot_raster_latency_pairs, plot_vector_layout, plot_latency_dist_hist, plot_latency_angle_hist\n",
    "from human_hip.animate import animate_latencies"
   ]
  },
  {
   "cell_type": "code",
   "execution_count": 3,
   "metadata": {},
   "outputs": [],
   "source": [
    "with open(\"/workspaces/human_hippocampus/data/ephys/2023-12-03-e-Hc112823_avv9hckcr1/curated_base_acqm.pkl\", \"rb\") as filename:\n",
    "    spike_data = pickle.load(filename)"
   ]
  },
  {
   "cell_type": "code",
   "execution_count": 4,
   "metadata": {},
   "outputs": [],
   "source": [
    "with open( 'curate_latencies_good_pairs.pkl' , 'rb') as my_file:\n",
    "    good_pairs = pickle.load(my_file)"
   ]
  },
  {
   "cell_type": "markdown",
   "metadata": {},
   "source": [
    "# Look at latencies"
   ]
  },
  {
   "cell_type": "code",
   "execution_count": null,
   "metadata": {},
   "outputs": [],
   "source": []
  },
  {
   "cell_type": "code",
   "execution_count": null,
   "metadata": {},
   "outputs": [],
   "source": []
  },
  {
   "cell_type": "code",
   "execution_count": null,
   "metadata": {},
   "outputs": [],
   "source": []
  },
  {
   "cell_type": "markdown",
   "metadata": {},
   "source": [
    "# <font color=\"brown\">Sury's Code"
   ]
  },
  {
   "cell_type": "code",
   "execution_count": null,
   "metadata": {},
   "outputs": [],
   "source": [
    "def ccg(bt1, bt2, ccg_win=[-10, 10], t_lags_shift=0):\n",
    "    left_edge, right_edge = np.subtract(ccg_win, t_lags_shift)\n",
    "    lags = np.arange(ccg_win[0], ccg_win[1] + 1)\n",
    "    pad_width = min(max(-left_edge, 0), max(right_edge, 0))\n",
    "    bt2_pad = np.pad(bt2, pad_width=pad_width, mode='constant')\n",
    "    cross_corr = signal.fftconvolve(bt2_pad, bt1[::-1], mode=\"valid\")\n",
    "    return np.round(cross_corr), lags\n",
    "\n",
    "\n",
    "def p_fast(n, lambda_):\n",
    "    \"\"\"\n",
    "    A poisson estimation of the probability of observing n or more events\n",
    "    \"\"\"\n",
    "    ## take log to make sure the factorial does not overflow\n",
    "    # add poisson_var when x = 0, 1, take log after calculation to avoid log(0)\n",
    "    if n > 1:\n",
    "        poisson_01 = [np.exp(-lambda_)*lambda_**x/math.factorial(x) for x in [0, 1]]\n",
    "        poisson_res = [np.exp(-lambda_ + x*math.log(lambda_) - math.log(math.factorial(x))) for x in range(2, n)]\n",
    "        poisson_var = poisson_01 + poisson_res\n",
    "    else:\n",
    "        poisson_var = [np.exp(-lambda_)*lambda_**x/math.factorial(x) for x in range(n)]\n",
    "    continuity_correction = np.exp((math.log(0.5) - lambda_ + n*math.log(lambda_)) - math.log(math.factorial(n)))\n",
    "    return 1 - np.sum(poisson_var) - continuity_correction\n",
    "\n",
    "\n",
    "def functional_pair(spike_data, binary_bin_size=0.001, ccg_win=[-50, 50],\n",
    "                    func_latency=5, func_prob=0.00001, verbose=True):\n",
    "    \"\"\"\n",
    "    Note: the input spike times are in seconds!\n",
    "    \"\"\"\n",
    "    train = spike_data[\"train\"]\n",
    "    neuron_data = spike_data[\"neuron_data\"]\n",
    "    unit_count = len(train)\n",
    "    sparse_train = sparse_train(train, bin_size=binary_bin_size)\n",
    "    \n",
    "    if unit_count < 2:\n",
    "        return (0, 0), {}\n",
    "    for i in range(unit_count-1):\n",
    "        for j in range(i+1, unit_count):\n",
    "            counts, lags = ccg(sparse_train[i],\n",
    "                            sparse_train[j],\n",
    "                            ccg_win=ccg_win)\n",
    "            max_ind = np.argmax(counts)\n",
    "            latency = lags[max_ind]\n",
    "            if latency >= -func_latency and latency <= func_latency:\n",
    "                if max_ind != np.diff(ccg_win)//2:\n",
    "                    ccg_smth = gaussian_filter1d(counts, sigma=10)   \n",
    "                    # ccg_smth = utils.hollow_gaussian_filter(counts, sigma=10) \n",
    "                    lambda_slow_peak = ccg_smth[max_ind]\n",
    "                    ccg_peak = int(counts[max_ind])\n",
    "                    # estimate p_fast\n",
    "                    p_fast_est = p_fast(ccg_peak, lambda_slow_peak)\n",
    "                    if verbose:\n",
    "                        print(f\"Putative functional pair {i}, {j}\")\n",
    "                        print(f\"Cross correlation latency: {latency} ms, counts: {ccg_peak}, smoothed counts: {lambda_slow_peak}\")\n",
    "                        print(f\"p_fast: {p_fast_est}\")\n",
    "                    if p_fast_est <= func_prob:    # test with func_prob = 10e-5\n",
    "                        yield (i, j), {\"latency\": latency,\n",
    "                                    \"p_fast\": p_fast_est,\n",
    "                                    \"ccg\": counts,\n",
    "                                    \"lags\": lags,\n",
    "                                    \"ccg_smth\": ccg_smth}\n",
    "\n",
    "\n",
    "# test\n",
    "func_pairs = {}\n",
    "for (i, j), value in functional_pair():\n",
    "    lags, counts, ccg_smth = value[\"lags\"], value[\"ccg\"], value[\"ccg_smth\"]\n",
    "    latency, p_fast = value[\"latency\"], value[\"p_fast\"]\n",
    "    ccg_peak = np.max(counts)\n",
    "    fig, axs = plt.subplots(figsize=(5, 3), tight_layout=True)\n",
    "    plt.suptitle(f\"ccg_unit_{i}_{j}\")\n",
    "    axs.bar(lags, counts, label=f\"p_fast={p_fast:.3g} \\n count={ccg_peak}\")\n",
    "    axs.plot(lags, ccg_smth, color=\"red\")\n",
    "    axs.axvline(0, linestyle=\"--\", color=\"black\")\n",
    "    axs.scatter(latency, ccg_peak, color=\"red\", marker=\"x\", label=f\"latency={latency}\")\n",
    "    axs.legend()\n",
    "    axs.set_xlabel(\"Lags (ms)\")\n",
    "    axs.set_ylabel(\"Counts\")\n",
    "    plt.savefig(f\"ccg_unit_{i}_{j}.png\")\n",
    "    plt.close()\n",
    "    func_pairs[(i, j)] = value\n",
    "\n",
    "np.savez(\"func_pairs.npz\", func_pairs=func_pairs)"
   ]
  },
  {
   "cell_type": "markdown",
   "metadata": {},
   "source": [
    "# <font color=\"blue\"> sparse_train"
   ]
  },
  {
   "cell_type": "markdown",
   "metadata": {},
   "source": [
    "<font color=\"blue\"> Creates a raster-like matrix where each column is 1 ms. Displays whether or not a spike occured at that time."
   ]
  },
  {
   "cell_type": "markdown",
   "metadata": {},
   "source": [
    "<font color=\"red\"> Code creates a matrix that is far to large to be implementable. Trying to find a solution around using it."
   ]
  },
  {
   "cell_type": "code",
   "execution_count": 5,
   "metadata": {},
   "outputs": [],
   "source": [
    "def sparse_train(spike_train: list, bin_size=0.001):\n",
    "    \"\"\"\n",
    "    create a sparse matrix for the input spike trains\n",
    "    with a given bin size\n",
    "    \"\"\"\n",
    "    num = len(spike_train)\n",
    "    length = np.max([t[-1] for t in spike_train])\n",
    "    indices = np.hstack([np.ceil(ts / bin_size) - 1\n",
    "                         for ts in spike_train]).astype(int)\n",
    "    units = np.hstack([0] + [len(ts) for ts in spike_train])\n",
    "    indptr = np.cumsum(units)\n",
    "    values = np.ones_like(indices)\n",
    "    length = int(np.ceil(length / bin_size))\n",
    "    np.clip(indices, 0, length - 1, out=indices)\n",
    "    return csr_array((values, indices, indptr), shape=(num, length)) #.toarray()\n",
    "\n"
   ]
  },
  {
   "cell_type": "markdown",
   "metadata": {},
   "source": [
    "# <font color=\"blue\"> CCG"
   ]
  },
  {
   "cell_type": "markdown",
   "metadata": {},
   "source": [
    "<font color=\"blue\" >computes the cross correlation between two neurons. Returns..."
   ]
  },
  {
   "cell_type": "code",
   "execution_count": 6,
   "metadata": {},
   "outputs": [],
   "source": [
    "def ccg(bt1, bt2, ccg_win=[-10, 10], t_lags_shift=0):\n",
    "    left_edge, right_edge = np.subtract(ccg_win, t_lags_shift)\n",
    "    lags = np.arange(ccg_win[0], ccg_win[1] + 1)\n",
    "    pad_width = min(max(-left_edge, 0), max(right_edge, 0))\n",
    "    bt2_pad = np.pad(bt2, pad_width=pad_width, mode='constant')\n",
    "    cross_corr = signal.fftconvolve(bt2_pad, bt1[::-1], mode=\"valid\")\n",
    "    return np.round(cross_corr), lags"
   ]
  },
  {
   "cell_type": "markdown",
   "metadata": {},
   "source": [
    "# <font color=\"brown\"> 1 pair"
   ]
  },
  {
   "cell_type": "markdown",
   "metadata": {},
   "source": [
    "<font color=\"brown\"> figuring out function"
   ]
  },
  {
   "cell_type": "code",
   "execution_count": 7,
   "metadata": {},
   "outputs": [],
   "source": [
    "i= good_pairs[0,0]\n",
    "j= good_pairs[0,1]"
   ]
  },
  {
   "cell_type": "code",
   "execution_count": 8,
   "metadata": {},
   "outputs": [
    {
     "name": "stderr",
     "output_type": "stream",
     "text": [
      "/tmp/ipykernel_30625/1076234412.py:2: DeprecationWarning: Call to deprecated function (or staticmethod) neuron_data. (Use NeuronAttributes instead of neuron_data, with the function load_spike_data())\n",
      "  neuron_data = spike_data.neuron_data[0]\n"
     ]
    }
   ],
   "source": [
    "train = spike_data.train\n",
    "neuron_data = spike_data.neuron_data[0]    \n",
    "unit_count = len(train)\n",
    "sparse_train = sparse_train(train)"
   ]
  },
  {
   "cell_type": "code",
   "execution_count": 9,
   "metadata": {},
   "outputs": [],
   "source": [
    "bt1 = sparse_train[[i],:].toarray()[0]\n",
    "bt2 = sparse_train[[j],:].toarray()[0] \n",
    "ccg_win=[-10, 10]\n",
    "t_lags_shift=0"
   ]
  },
  {
   "cell_type": "code",
   "execution_count": 10,
   "metadata": {},
   "outputs": [],
   "source": [
    "left_edge, right_edge = np.subtract(ccg_win, t_lags_shift)\n",
    "lags = np.arange(ccg_win[0], ccg_win[1] + 1)\n",
    "pad_width = min(max(-left_edge, 0), max(right_edge, 0))\n",
    "bt2_pad = np.pad(bt2, pad_width=pad_width, mode='constant')\n"
   ]
  },
  {
   "cell_type": "code",
   "execution_count": 13,
   "metadata": {},
   "outputs": [
    {
     "ename": "",
     "evalue": "",
     "output_type": "error",
     "traceback": [
      "\u001b[1;31mCannot execute code, session has been disposed. Please try restarting the Kernel."
     ]
    },
    {
     "ename": "",
     "evalue": "",
     "output_type": "error",
     "traceback": [
      "\u001b[1;31mThe Kernel crashed while executing code in the the current cell or a previous cell. Please review the code in the cell(s) to identify a possible cause of the failure. Click <a href='https://aka.ms/vscodeJupyterKernelCrash'>here</a> for more info. View Jupyter <a href='command:jupyter.viewOutput'>log</a> for further details."
     ]
    }
   ],
   "source": [
    "cross_corr = signal.oaconvolve(bt2_pad, bt1[::-1], mode=\"valid\")"
   ]
  },
  {
   "cell_type": "code",
   "execution_count": null,
   "metadata": {},
   "outputs": [],
   "source": []
  },
  {
   "cell_type": "code",
   "execution_count": null,
   "metadata": {},
   "outputs": [],
   "source": []
  },
  {
   "cell_type": "code",
   "execution_count": 12,
   "metadata": {},
   "outputs": [
    {
     "data": {
      "text/plain": [
       "<function scipy.signal._signaltools.oaconvolve(in1, in2, mode='full', axes=None)>"
      ]
     },
     "execution_count": 12,
     "metadata": {},
     "output_type": "execute_result"
    }
   ],
   "source": [
    "signal.oaconvolve()"
   ]
  },
  {
   "cell_type": "code",
   "execution_count": null,
   "metadata": {},
   "outputs": [],
   "source": []
  },
  {
   "cell_type": "code",
   "execution_count": 11,
   "metadata": {},
   "outputs": [],
   "source": [
    "del bt2\n"
   ]
  },
  {
   "cell_type": "code",
   "execution_count": 12,
   "metadata": {},
   "outputs": [
    {
     "ename": "",
     "evalue": "",
     "output_type": "error",
     "traceback": [
      "\u001b[1;31mCannot execute code, session has been disposed. Please try restarting the Kernel."
     ]
    },
    {
     "ename": "",
     "evalue": "",
     "output_type": "error",
     "traceback": [
      "\u001b[1;31mThe Kernel crashed while executing code in the the current cell or a previous cell. Please review the code in the cell(s) to identify a possible cause of the failure. Click <a href='https://aka.ms/vscodeJupyterKernelCrash'>here</a> for more info. View Jupyter <a href='command:jupyter.viewOutput'>log</a> for further details."
     ]
    }
   ],
   "source": [
    "cross_corr = signal.fftconvolve(bt2_pad, bt1[::-1], mode=\"valid\")"
   ]
  },
  {
   "cell_type": "code",
   "execution_count": null,
   "metadata": {},
   "outputs": [],
   "source": []
  },
  {
   "cell_type": "code",
   "execution_count": null,
   "metadata": {},
   "outputs": [],
   "source": []
  },
  {
   "cell_type": "code",
   "execution_count": null,
   "metadata": {},
   "outputs": [],
   "source": [
    "cross_corr = signal.fftconvolve(bt2_pad, bt1[::-1], mode=\"valid\")"
   ]
  },
  {
   "cell_type": "code",
   "execution_count": 47,
   "metadata": {},
   "outputs": [
    {
     "data": {
      "text/plain": [
       "array([0, 0, 0, ..., 0, 0, 0])"
      ]
     },
     "execution_count": 47,
     "metadata": {},
     "output_type": "execute_result"
    }
   ],
   "source": [
    "bt1[::-1]"
   ]
  },
  {
   "cell_type": "code",
   "execution_count": 43,
   "metadata": {},
   "outputs": [
    {
     "data": {
      "text/plain": [
       "array([0, 0, 0, ..., 0, 0, 0])"
      ]
     },
     "execution_count": 43,
     "metadata": {},
     "output_type": "execute_result"
    }
   ],
   "source": [
    "bt2[0]"
   ]
  },
  {
   "cell_type": "code",
   "execution_count": 46,
   "metadata": {},
   "outputs": [
    {
     "data": {
      "text/plain": [
       "array([0, 0, 0, ..., 0, 0, 0])"
      ]
     },
     "execution_count": 46,
     "metadata": {},
     "output_type": "execute_result"
    }
   ],
   "source": [
    "bt2_pad"
   ]
  },
  {
   "cell_type": "code",
   "execution_count": 36,
   "metadata": {},
   "outputs": [
    {
     "ename": "MemoryError",
     "evalue": "Unable to allocate 42.7 GiB for an array with shape (21, 273148870) and data type int64",
     "output_type": "error",
     "traceback": [
      "\u001b[0;31m---------------------------------------------------------------------------\u001b[0m",
      "\u001b[0;31mMemoryError\u001b[0m                               Traceback (most recent call last)",
      "\u001b[1;32m/workspaces/human_hippocampus/tutorials/experiments/dentate_gyrus/hc112823/no_drug_1/sury_cross_correlation_attempt.ipynb Cell 24\u001b[0m line \u001b[0;36m1\n\u001b[0;32m----> <a href='vscode-notebook-cell://codespaces%2Bzany-orbit-qv76x79p55r2457q/workspaces/human_hippocampus/tutorials/experiments/dentate_gyrus/hc112823/no_drug_1/sury_cross_correlation_attempt.ipynb#Y106sdnNjb2RlLXJlbW90ZQ%3D%3D?line=0'>1</a>\u001b[0m counts, lags \u001b[39m=\u001b[39m ccg( sparse_train[[i],:]\u001b[39m.\u001b[39;49mtoarray(), sparse_train[[j],:]\u001b[39m.\u001b[39;49mtoarray()  )\n",
      "\u001b[1;32m/workspaces/human_hippocampus/tutorials/experiments/dentate_gyrus/hc112823/no_drug_1/sury_cross_correlation_attempt.ipynb Cell 24\u001b[0m line \u001b[0;36m5\n\u001b[1;32m      <a href='vscode-notebook-cell://codespaces%2Bzany-orbit-qv76x79p55r2457q/workspaces/human_hippocampus/tutorials/experiments/dentate_gyrus/hc112823/no_drug_1/sury_cross_correlation_attempt.ipynb#Y106sdnNjb2RlLXJlbW90ZQ%3D%3D?line=2'>3</a>\u001b[0m lags \u001b[39m=\u001b[39m np\u001b[39m.\u001b[39marange(ccg_win[\u001b[39m0\u001b[39m], ccg_win[\u001b[39m1\u001b[39m] \u001b[39m+\u001b[39m \u001b[39m1\u001b[39m)\n\u001b[1;32m      <a href='vscode-notebook-cell://codespaces%2Bzany-orbit-qv76x79p55r2457q/workspaces/human_hippocampus/tutorials/experiments/dentate_gyrus/hc112823/no_drug_1/sury_cross_correlation_attempt.ipynb#Y106sdnNjb2RlLXJlbW90ZQ%3D%3D?line=3'>4</a>\u001b[0m pad_width \u001b[39m=\u001b[39m \u001b[39mmin\u001b[39m(\u001b[39mmax\u001b[39m(\u001b[39m-\u001b[39mleft_edge, \u001b[39m0\u001b[39m), \u001b[39mmax\u001b[39m(right_edge, \u001b[39m0\u001b[39m))\n\u001b[0;32m----> <a href='vscode-notebook-cell://codespaces%2Bzany-orbit-qv76x79p55r2457q/workspaces/human_hippocampus/tutorials/experiments/dentate_gyrus/hc112823/no_drug_1/sury_cross_correlation_attempt.ipynb#Y106sdnNjb2RlLXJlbW90ZQ%3D%3D?line=4'>5</a>\u001b[0m bt2_pad \u001b[39m=\u001b[39m np\u001b[39m.\u001b[39;49mpad(bt2, pad_width\u001b[39m=\u001b[39;49mpad_width, mode\u001b[39m=\u001b[39;49m\u001b[39m'\u001b[39;49m\u001b[39mconstant\u001b[39;49m\u001b[39m'\u001b[39;49m)\n\u001b[1;32m      <a href='vscode-notebook-cell://codespaces%2Bzany-orbit-qv76x79p55r2457q/workspaces/human_hippocampus/tutorials/experiments/dentate_gyrus/hc112823/no_drug_1/sury_cross_correlation_attempt.ipynb#Y106sdnNjb2RlLXJlbW90ZQ%3D%3D?line=5'>6</a>\u001b[0m cross_corr \u001b[39m=\u001b[39m signal\u001b[39m.\u001b[39mfftconvolve(bt2_pad, bt1[::\u001b[39m-\u001b[39m\u001b[39m1\u001b[39m], mode\u001b[39m=\u001b[39m\u001b[39m\"\u001b[39m\u001b[39mvalid\u001b[39m\u001b[39m\"\u001b[39m)\n\u001b[1;32m      <a href='vscode-notebook-cell://codespaces%2Bzany-orbit-qv76x79p55r2457q/workspaces/human_hippocampus/tutorials/experiments/dentate_gyrus/hc112823/no_drug_1/sury_cross_correlation_attempt.ipynb#Y106sdnNjb2RlLXJlbW90ZQ%3D%3D?line=6'>7</a>\u001b[0m \u001b[39mreturn\u001b[39;00m np\u001b[39m.\u001b[39mround(cross_corr), lags\n",
      "File \u001b[0;32m/srv/conda/envs/notebook/lib/python3.10/site-packages/numpy/lib/arraypad.py:798\u001b[0m, in \u001b[0;36mpad\u001b[0;34m(array, pad_width, mode, **kwargs)\u001b[0m\n\u001b[1;32m    793\u001b[0m stat_functions \u001b[39m=\u001b[39m {\u001b[39m\"\u001b[39m\u001b[39mmaximum\u001b[39m\u001b[39m\"\u001b[39m: np\u001b[39m.\u001b[39mamax, \u001b[39m\"\u001b[39m\u001b[39mminimum\u001b[39m\u001b[39m\"\u001b[39m: np\u001b[39m.\u001b[39mamin,\n\u001b[1;32m    794\u001b[0m                   \u001b[39m\"\u001b[39m\u001b[39mmean\u001b[39m\u001b[39m\"\u001b[39m: np\u001b[39m.\u001b[39mmean, \u001b[39m\"\u001b[39m\u001b[39mmedian\u001b[39m\u001b[39m\"\u001b[39m: np\u001b[39m.\u001b[39mmedian}\n\u001b[1;32m    796\u001b[0m \u001b[39m# Create array with final shape and original values\u001b[39;00m\n\u001b[1;32m    797\u001b[0m \u001b[39m# (padded area is undefined)\u001b[39;00m\n\u001b[0;32m--> 798\u001b[0m padded, original_area_slice \u001b[39m=\u001b[39m _pad_simple(array, pad_width)\n\u001b[1;32m    799\u001b[0m \u001b[39m# And prepare iteration over all dimensions\u001b[39;00m\n\u001b[1;32m    800\u001b[0m \u001b[39m# (zipping may be more readable than using enumerate)\u001b[39;00m\n\u001b[1;32m    801\u001b[0m axes \u001b[39m=\u001b[39m \u001b[39mrange\u001b[39m(padded\u001b[39m.\u001b[39mndim)\n",
      "File \u001b[0;32m/srv/conda/envs/notebook/lib/python3.10/site-packages/numpy/lib/arraypad.py:114\u001b[0m, in \u001b[0;36m_pad_simple\u001b[0;34m(array, pad_width, fill_value)\u001b[0m\n\u001b[1;32m    109\u001b[0m new_shape \u001b[39m=\u001b[39m \u001b[39mtuple\u001b[39m(\n\u001b[1;32m    110\u001b[0m     left \u001b[39m+\u001b[39m size \u001b[39m+\u001b[39m right\n\u001b[1;32m    111\u001b[0m     \u001b[39mfor\u001b[39;00m size, (left, right) \u001b[39min\u001b[39;00m \u001b[39mzip\u001b[39m(array\u001b[39m.\u001b[39mshape, pad_width)\n\u001b[1;32m    112\u001b[0m )\n\u001b[1;32m    113\u001b[0m order \u001b[39m=\u001b[39m \u001b[39m'\u001b[39m\u001b[39mF\u001b[39m\u001b[39m'\u001b[39m \u001b[39mif\u001b[39;00m array\u001b[39m.\u001b[39mflags\u001b[39m.\u001b[39mfnc \u001b[39melse\u001b[39;00m \u001b[39m'\u001b[39m\u001b[39mC\u001b[39m\u001b[39m'\u001b[39m  \u001b[39m# Fortran and not also C-order\u001b[39;00m\n\u001b[0;32m--> 114\u001b[0m padded \u001b[39m=\u001b[39m np\u001b[39m.\u001b[39;49mempty(new_shape, dtype\u001b[39m=\u001b[39;49marray\u001b[39m.\u001b[39;49mdtype, order\u001b[39m=\u001b[39;49morder)\n\u001b[1;32m    116\u001b[0m \u001b[39mif\u001b[39;00m fill_value \u001b[39mis\u001b[39;00m \u001b[39mnot\u001b[39;00m \u001b[39mNone\u001b[39;00m:\n\u001b[1;32m    117\u001b[0m     padded\u001b[39m.\u001b[39mfill(fill_value)\n",
      "\u001b[0;31mMemoryError\u001b[0m: Unable to allocate 42.7 GiB for an array with shape (21, 273148870) and data type int64"
     ]
    }
   ],
   "source": [
    "counts, lags = ccg( sparse_train[[i],:].toarray(), sparse_train[[j],:].toarray()  )"
   ]
  },
  {
   "cell_type": "code",
   "execution_count": null,
   "metadata": {},
   "outputs": [],
   "source": []
  },
  {
   "cell_type": "code",
   "execution_count": null,
   "metadata": {},
   "outputs": [],
   "source": []
  },
  {
   "cell_type": "code",
   "execution_count": null,
   "metadata": {},
   "outputs": [],
   "source": []
  },
  {
   "cell_type": "code",
   "execution_count": null,
   "metadata": {},
   "outputs": [],
   "source": []
  },
  {
   "cell_type": "code",
   "execution_count": 32,
   "metadata": {},
   "outputs": [],
   "source": [
    "ccg_win=[-10, 10]\n",
    "t_lags_shift=0\n",
    "left_edge, right_edge = np.subtract(ccg_win, t_lags_shift) # -10, 10\n",
    "lags = np.arange(ccg_win[0], ccg_win[1] + 1)  # -10, -9, -8, ..., 9, 10\n",
    "pad_width = min(max(-left_edge, 0), max(right_edge, 0)) # 10\n"
   ]
  },
  {
   "cell_type": "code",
   "execution_count": 33,
   "metadata": {},
   "outputs": [
    {
     "ename": "NameError",
     "evalue": "name 'bt2' is not defined",
     "output_type": "error",
     "traceback": [
      "\u001b[0;31m---------------------------------------------------------------------------\u001b[0m",
      "\u001b[0;31mNameError\u001b[0m                                 Traceback (most recent call last)",
      "\u001b[1;32m/workspaces/human_hippocampus/tutorials/experiments/dentate_gyrus/hc112823/no_drug_1/sury_cross_correlation_attempt.ipynb Cell 17\u001b[0m line \u001b[0;36m1\n\u001b[0;32m----> <a href='vscode-notebook-cell://codespaces%2Bzany-orbit-qv76x79p55r2457q/workspaces/human_hippocampus/tutorials/experiments/dentate_gyrus/hc112823/no_drug_1/sury_cross_correlation_attempt.ipynb#Y115sdnNjb2RlLXJlbW90ZQ%3D%3D?line=0'>1</a>\u001b[0m bt2_pad \u001b[39m=\u001b[39m np\u001b[39m.\u001b[39mpad(bt2, pad_width\u001b[39m=\u001b[39mpad_width, mode\u001b[39m=\u001b[39m\u001b[39m'\u001b[39m\u001b[39mconstant\u001b[39m\u001b[39m'\u001b[39m)\n",
      "\u001b[0;31mNameError\u001b[0m: name 'bt2' is not defined"
     ]
    }
   ],
   "source": [
    "bt2_pad = np.pad(bt2, pad_width=pad_width, mode='constant')"
   ]
  },
  {
   "cell_type": "code",
   "execution_count": 22,
   "metadata": {},
   "outputs": [],
   "source": []
  },
  {
   "cell_type": "code",
   "execution_count": null,
   "metadata": {},
   "outputs": [],
   "source": []
  },
  {
   "cell_type": "code",
   "execution_count": null,
   "metadata": {},
   "outputs": [],
   "source": []
  },
  {
   "cell_type": "code",
   "execution_count": null,
   "metadata": {},
   "outputs": [],
   "source": []
  },
  {
   "cell_type": "code",
   "execution_count": null,
   "metadata": {},
   "outputs": [],
   "source": []
  },
  {
   "cell_type": "code",
   "execution_count": null,
   "metadata": {},
   "outputs": [],
   "source": []
  },
  {
   "cell_type": "markdown",
   "metadata": {},
   "source": [
    "# <font color=\"blue\">functional_pair"
   ]
  },
  {
   "cell_type": "code",
   "execution_count": 12,
   "metadata": {},
   "outputs": [],
   "source": [
    "train = spike_data.train"
   ]
  },
  {
   "cell_type": "code",
   "execution_count": 7,
   "metadata": {},
   "outputs": [
    {
     "name": "stderr",
     "output_type": "stream",
     "text": [
      "/tmp/ipykernel_17876/1076234412.py:2: DeprecationWarning: Call to deprecated function (or staticmethod) neuron_data. (Use NeuronAttributes instead of neuron_data, with the function load_spike_data())\n",
      "  neuron_data = spike_data.neuron_data[0]\n"
     ]
    }
   ],
   "source": [
    "train = spike_data.train\n",
    "neuron_data = spike_data.neuron_data[0]    \n",
    "unit_count = len(train)\n",
    "sparse_train = sparse_train(train)"
   ]
  },
  {
   "cell_type": "code",
   "execution_count": 15,
   "metadata": {},
   "outputs": [],
   "source": [
    "#get a row from the sparse_train matrix\n",
    "check = sparse_train[[0],:].toarray()"
   ]
  },
  {
   "cell_type": "code",
   "execution_count": 19,
   "metadata": {},
   "outputs": [
    {
     "data": {
      "text/plain": [
       "3557"
      ]
     },
     "execution_count": 19,
     "metadata": {},
     "output_type": "execute_result"
    }
   ],
   "source": [
    "np.sum(check)"
   ]
  },
  {
   "cell_type": "code",
   "execution_count": null,
   "metadata": {},
   "outputs": [],
   "source": []
  },
  {
   "cell_type": "code",
   "execution_count": null,
   "metadata": {},
   "outputs": [],
   "source": []
  },
  {
   "cell_type": "code",
   "execution_count": null,
   "metadata": {},
   "outputs": [],
   "source": []
  },
  {
   "cell_type": "code",
   "execution_count": null,
   "metadata": {},
   "outputs": [],
   "source": [
    "\n",
    "def functional_pair(spike_data, binary_bin_size=0.001, ccg_win=[-50, 50],\n",
    "                    func_latency=5, func_prob=0.00001, verbose=True):\n",
    "    \"\"\"\n",
    "    Note: the input spike times are in seconds!\n",
    "    \"\"\"\n",
    "    train = spike_data.train\n",
    "    neuron_data = spike_data.neuron_data[0]    \n",
    "    unit_count = len(train)\n",
    "    sparse_train = sparse_train(train, bin_size=binary_bin_size)\n",
    "    \n",
    "    if unit_count < 2:\n",
    "        return (0, 0), {}\n",
    "    for i in range(unit_count-1):\n",
    "        for j in range(i+1, unit_count):\n",
    "            counts, lags = ccg(sparse_train[i],\n",
    "                            sparse_train[j],\n",
    "                            ccg_win=ccg_win)\n",
    "            max_ind = np.argmax(counts)\n",
    "            latency = lags[max_ind]\n",
    "            if latency >= -func_latency and latency <= func_latency:\n",
    "                if max_ind != np.diff(ccg_win)//2:\n",
    "                    ccg_smth = gaussian_filter1d(counts, sigma=10)   \n",
    "                    # ccg_smth = utils.hollow_gaussian_filter(counts, sigma=10) \n",
    "                    lambda_slow_peak = ccg_smth[max_ind]\n",
    "                    ccg_peak = int(counts[max_ind])\n",
    "                    # estimate p_fast\n",
    "                    p_fast_est = p_fast(ccg_peak, lambda_slow_peak)\n",
    "                    if verbose:\n",
    "                        print(f\"Putative functional pair {i}, {j}\")\n",
    "                        print(f\"Cross correlation latency: {latency} ms, counts: {ccg_peak}, smoothed counts: {lambda_slow_peak}\")\n",
    "                        print(f\"p_fast: {p_fast_est}\")\n",
    "                    if p_fast_est <= func_prob:    # test with func_prob = 10e-5\n",
    "                        yield (i, j), {\"latency\": latency,\n",
    "                                    \"p_fast\": p_fast_est,\n",
    "                                    \"ccg\": counts,\n",
    "                                    \"lags\": lags,\n",
    "                                    \"ccg_smth\": ccg_smth}\n"
   ]
  },
  {
   "cell_type": "code",
   "execution_count": null,
   "metadata": {},
   "outputs": [],
   "source": []
  },
  {
   "cell_type": "code",
   "execution_count": null,
   "metadata": {},
   "outputs": [],
   "source": []
  },
  {
   "cell_type": "code",
   "execution_count": null,
   "metadata": {},
   "outputs": [],
   "source": []
  },
  {
   "cell_type": "code",
   "execution_count": null,
   "metadata": {},
   "outputs": [],
   "source": []
  },
  {
   "cell_type": "code",
   "execution_count": null,
   "metadata": {},
   "outputs": [],
   "source": []
  },
  {
   "cell_type": "code",
   "execution_count": null,
   "metadata": {},
   "outputs": [],
   "source": []
  },
  {
   "cell_type": "code",
   "execution_count": null,
   "metadata": {},
   "outputs": [],
   "source": []
  },
  {
   "cell_type": "code",
   "execution_count": null,
   "metadata": {},
   "outputs": [],
   "source": []
  }
 ],
 "metadata": {
  "kernelspec": {
   "display_name": "notebook",
   "language": "python",
   "name": "python3"
  },
  "language_info": {
   "codemirror_mode": {
    "name": "ipython",
    "version": 3
   },
   "file_extension": ".py",
   "mimetype": "text/x-python",
   "name": "python",
   "nbconvert_exporter": "python",
   "pygments_lexer": "ipython3",
   "version": "3.10.0"
  }
 },
 "nbformat": 4,
 "nbformat_minor": 2
}

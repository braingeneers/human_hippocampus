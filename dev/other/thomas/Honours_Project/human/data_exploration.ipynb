{
 "cells": [
  {
   "cell_type": "markdown",
   "metadata": {},
   "source": [
    "## Imports"
   ]
  },
  {
   "cell_type": "code",
   "execution_count": 3,
   "metadata": {},
   "outputs": [],
   "source": [
    "# Standard library imports\n",
    "import os\n",
    "import random\n",
    "import pickle\n",
    "\n",
    "# Data analysis packages\n",
    "import numpy as np\n",
    "import pandas as pd\n",
    "from scipy.signal import correlate, correlation_lags\n",
    "from scipy.ndimage import gaussian_filter1d\n",
    "from scipy.stats import norm\n",
    "\n",
    "# Visualization packages\n",
    "import matplotlib.pyplot as plt\n",
    "import matplotlib.patches as patches\n",
    "from matplotlib.patches import FancyArrow, Patch, Circle\n",
    "import matplotlib.colors as mcolors\n",
    "from matplotlib.colors import LinearSegmentedColormap\n",
    "from matplotlib.lines import Line2D\n",
    "\n",
    "# Image processing packages\n",
    "import imageio\n",
    "from PIL import Image, ImageSequence\n",
    "\n",
    "# Braingeneers packages for analysis\n",
    "import braingeneers\n",
    "import braingeneers.data.datasets_electrophysiology as ephys\n",
    "from braingeneers.analysis.analysis import SpikeData, read_phy_files, load_spike_data, burst_detection, randomize_raster\n",
    "\n",
    "import diptest\n",
    "\n",
    "import pickle\n",
    "\n",
    "from human_hip import spike_data"
   ]
  },
  {
   "cell_type": "markdown",
   "metadata": {},
   "source": [
    "# Helper functions"
   ]
  },
  {
   "cell_type": "code",
   "execution_count": 2,
   "metadata": {},
   "outputs": [],
   "source": [
    "def unpickle_object(filename):\n",
    "    \"\"\"\n",
    "    Deserializes and returns an object from a file using the pickle protocol.\n",
    "\n",
    "    Parameters:\n",
    "    - filename: The name of the file from which the object will be loaded.\n",
    "\n",
    "    Returns:\n",
    "    - The Python object deserialized from the file.\n",
    "    \"\"\"\n",
    "    with open(filename, 'rb') as file:\n",
    "        obj = pickle.load(file)\n",
    "    return obj\n",
    "\n",
    "def position_to_grid(pos):\n",
    "    # Modify this function based on your grid conversion logic\n",
    "    return pos[0], pos[1]  # Example conversion\n",
    "\n",
    "def transform_neuron_data(sd):\n",
    "    original_data = sd.neuron_data\n",
    "    transformed_neuron_data = {'positions': {}}\n",
    "\n",
    "    for top_level_key, clusters in original_data.items():\n",
    "        for cluster_id, cluster_info in clusters.items():\n",
    "            grid_pos = position_to_grid(cluster_info['position'])\n",
    "            transformed_neuron_data['positions'][cluster_id] = {'position': grid_pos}\n",
    "\n",
    "    return SpikeData(train=sd.train, length=sd.length, neuron_data=transformed_neuron_data)"
   ]
  },
  {
   "cell_type": "markdown",
   "metadata": {},
   "source": [
    "## Data"
   ]
  },
  {
   "cell_type": "code",
   "execution_count": 5,
   "metadata": {},
   "outputs": [
    {
     "name": "stderr",
     "output_type": "stream",
     "text": [
      "/tmp/ipykernel_6914/2811429721.py:1: DeprecationWarning: Call to deprecated function (or staticmethod) read_phy_files. (Prefer load_spike_data()) -- Deprecated since version 0.1.13.\n",
      "  sd1 = read_phy_files('data/hc3.28_hckcr1_chip16835_plated34.2_rec4.2_curated.zip')\n"
     ]
    }
   ],
   "source": [
    "sd1 = read_phy_files('data/hc3.28_hckcr1_chip16835_plated34.2_rec4.2_curated.zip')"
   ]
  },
  {
   "cell_type": "code",
   "execution_count": 6,
   "metadata": {},
   "outputs": [
    {
     "name": "stdout",
     "output_type": "stream",
     "text": [
      "Number of spikes:  113477\n",
      "Length:  398 seconds\n",
      "Number of Neurons:  140\n",
      "Average Firing Rate:  2.04\n",
      "Coefficient of Variation:  0.837\n"
     ]
    }
   ],
   "source": [
    "spike_data.text_summary(sd1)"
   ]
  }
 ],
 "metadata": {
  "kernelspec": {
   "display_name": "notebook",
   "language": "python",
   "name": "python3"
  },
  "language_info": {
   "codemirror_mode": {
    "name": "ipython",
    "version": 3
   },
   "file_extension": ".py",
   "mimetype": "text/x-python",
   "name": "python",
   "nbconvert_exporter": "python",
   "pygments_lexer": "ipython3",
   "version": "3.10.0"
  }
 },
 "nbformat": 4,
 "nbformat_minor": 2
}

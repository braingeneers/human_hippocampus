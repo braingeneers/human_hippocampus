{
 "cells": [
  {
   "cell_type": "markdown",
   "id": "4197760f",
   "metadata": {},
   "source": [
    "<font size=7>WetAI Controller"
   ]
  },
  {
   "cell_type": "markdown",
   "id": "84c96187",
   "metadata": {
    "cell_style": "center"
   },
   "source": [
    "This example code is used to control Sampad's equipment through WetAI. It is meant to eventually replace the Google collab code he created."
   ]
  },
  {
   "cell_type": "markdown",
   "id": "b8b98840",
   "metadata": {},
   "source": [
    "# Edits made to computer"
   ]
  },
  {
   "cell_type": "markdown",
   "id": "e036b75d",
   "metadata": {},
   "source": [
    "Put any change y made your computer's OS here"
   ]
  },
  {
   "cell_type": "code",
   "execution_count": null,
   "id": "752b6472",
   "metadata": {},
   "outputs": [],
   "source": [
    "# pip install example_pacakge"
   ]
  },
  {
   "cell_type": "markdown",
   "id": "8b11ae52",
   "metadata": {},
   "source": [
    "# Example Code"
   ]
  },
  {
   "cell_type": "markdown",
   "id": "b4639a6a",
   "metadata": {},
   "source": [
    "Import the braingeneers example package"
   ]
  },
  {
   "cell_type": "code",
   "execution_count": 1,
   "id": "5c015981",
   "metadata": {},
   "outputs": [],
   "source": [
    "from braingeneers.iot import messaging\n",
    "import uuid\n",
    "import json"
   ]
  },
  {
   "cell_type": "markdown",
   "id": "3c741bd4",
   "metadata": {},
   "source": [
    "Read text from a file"
   ]
  },
  {
   "cell_type": "code",
   "execution_count": 2,
   "id": "bfba00ce",
   "metadata": {},
   "outputs": [
    {
     "data": {
      "text/plain": [
       "'[\"This file is used as an example of how text can be sent from a file over IoT.\\\\n\", \"The WetAI Controller .ipynb file sends the text written here over to the device.\"]'"
      ]
     },
     "execution_count": 2,
     "metadata": {},
     "output_type": "execute_result"
    }
   ],
   "source": [
    "with open(\"example.txt\") as file:\n",
    "    lines = file.readlines()\n",
    "    message = json.dumps(lines)\n",
    "message"
   ]
  },
  {
   "cell_type": "markdown",
   "id": "e3aa0636",
   "metadata": {},
   "source": [
    "Send a message to sampad's device"
   ]
  },
  {
   "cell_type": "code",
   "execution_count": 3,
   "id": "cf517ed4",
   "metadata": {},
   "outputs": [],
   "source": [
    "mb = messaging.MessageBroker(str(uuid.uuid4))\n",
    "mb.publish_message(topic=\"Sampad_Device\", message={\"message\":message})"
   ]
  },
  {
   "cell_type": "code",
   "execution_count": null,
   "id": "aeebbf0e",
   "metadata": {},
   "outputs": [],
   "source": [
    "#mb.shutdown()"
   ]
  },
  {
   "cell_type": "markdown",
   "id": "19e079cc",
   "metadata": {},
   "source": [
    "# Real Code"
   ]
  },
  {
   "cell_type": "code",
   "execution_count": null,
   "id": "eed5da39",
   "metadata": {},
   "outputs": [],
   "source": []
  },
  {
   "cell_type": "code",
   "execution_count": null,
   "id": "ee488be0",
   "metadata": {},
   "outputs": [],
   "source": []
  },
  {
   "cell_type": "markdown",
   "id": "9f38a04b",
   "metadata": {},
   "source": [
    "# Example interfaces"
   ]
  },
  {
   "cell_type": "code",
   "execution_count": null,
   "id": "bbd7d002",
   "metadata": {},
   "outputs": [],
   "source": [
    "import ipywidgets as widgets"
   ]
  },
  {
   "cell_type": "code",
   "execution_count": null,
   "id": "1ec2b599",
   "metadata": {},
   "outputs": [],
   "source": [
    "from IPython.core.display import HTML, display, Javascript, clear_output\n",
    "from ipywidgets import interact, interactive, fixed, interact_manual"
   ]
  },
  {
   "cell_type": "markdown",
   "id": "8c6ab315",
   "metadata": {},
   "source": [
    "## Creating a basic check box"
   ]
  },
  {
   "cell_type": "code",
   "execution_count": null,
   "id": "b1be4d97",
   "metadata": {},
   "outputs": [],
   "source": [
    "w_example = widgets.Checkbox(\n",
    "    value=False,\n",
    "    description='Check me',\n",
    "    disabled=False\n",
    ")"
   ]
  },
  {
   "cell_type": "code",
   "execution_count": null,
   "id": "9f9bb914",
   "metadata": {},
   "outputs": [],
   "source": [
    "w_example"
   ]
  },
  {
   "cell_type": "code",
   "execution_count": null,
   "id": "0c19178a",
   "metadata": {},
   "outputs": [],
   "source": [
    "w_example.value"
   ]
  },
  {
   "cell_type": "markdown",
   "id": "cc6a9925",
   "metadata": {},
   "source": [
    "## Adding a function to a checkbox"
   ]
  },
  {
   "cell_type": "code",
   "execution_count": null,
   "id": "2923936c",
   "metadata": {},
   "outputs": [],
   "source": [
    "@interact( checker=True ) \n",
    "#@interact_manual( checker=True ) \n",
    "def f(checker):\n",
    "    print(checker)"
   ]
  },
  {
   "cell_type": "code",
   "execution_count": null,
   "id": "e6b65465",
   "metadata": {},
   "outputs": [],
   "source": []
  },
  {
   "cell_type": "code",
   "execution_count": null,
   "id": "9a99f6e3",
   "metadata": {},
   "outputs": [],
   "source": []
  },
  {
   "cell_type": "code",
   "execution_count": null,
   "id": "74ad4cbe",
   "metadata": {},
   "outputs": [],
   "source": []
  }
 ],
 "metadata": {
  "hide_input": false,
  "kernelspec": {
   "display_name": "Python 3 (ipykernel)",
   "language": "python",
   "name": "python3"
  },
  "language_info": {
   "codemirror_mode": {
    "name": "ipython",
    "version": 3
   },
   "file_extension": ".py",
   "mimetype": "text/x-python",
   "name": "python",
   "nbconvert_exporter": "python",
   "pygments_lexer": "ipython3",
   "version": "3.9.7"
  },
  "toc": {
   "base_numbering": 1,
   "nav_menu": {},
   "number_sections": false,
   "sideBar": true,
   "skip_h1_title": false,
   "title_cell": "Table of Contents",
   "title_sidebar": "Contents",
   "toc_cell": false,
   "toc_position": {},
   "toc_section_display": true,
   "toc_window_display": false
  }
 },
 "nbformat": 4,
 "nbformat_minor": 5
}

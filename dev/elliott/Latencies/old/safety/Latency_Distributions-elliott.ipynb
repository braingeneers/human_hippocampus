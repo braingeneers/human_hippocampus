{
 "cells": [
  {
   "cell_type": "code",
   "execution_count": 1,
   "id": "9390d0b6",
   "metadata": {},
   "outputs": [],
   "source": [
    "import os\n",
    "import re\n",
    "import glob\n",
    "import random\n",
    "import numpy as np\n",
    "import scipy\n",
    "import scipy.io as sio\n",
    "import scipy.ndimage as ndimage\n",
    "import pandas as pd\n",
    "import matplotlib.pyplot as plt\n",
    "import matplotlib.colors as mcolors\n",
    "import matplotlib.patches as patches\n",
    "from matplotlib.lines import Line2D\n",
    "from PIL import Image\n",
    "from ipywidgets import interact, interactive, fixed, interact_manual\n",
    "import braingeneers\n",
    "import braingeneers.data.datasets_electrophysiology as ephys\n",
    "from braingeneers.analysis.analysis import SpikeData, read_phy_files, randomize_raster\n",
    "from matplotlib.colors import LinearSegmentedColormap\n",
    "from scipy.ndimage import gaussian_filter1d"
   ]
  },
  {
   "cell_type": "code",
   "execution_count": 2,
   "id": "a8d5b1a0",
   "metadata": {},
   "outputs": [],
   "source": [
    "import pickle\n",
    "file = open('/home/jovyan/work/Human_Hippocampus/StitchedDataUpdated.pkl', 'rb')\n",
    "stitched_data = pickle.load(file)\n",
    "file.close()"
   ]
  },
  {
   "cell_type": "code",
   "execution_count": 4,
   "id": "395ada95",
   "metadata": {},
   "outputs": [],
   "source": [
    "sd = stitched_data"
   ]
  },
  {
   "cell_type": "code",
   "execution_count": null,
   "id": "9c35ac66",
   "metadata": {},
   "outputs": [],
   "source": [
    "def find_sttc_above_threshold(sd, threshold=0.3):\n",
    "    sttc = np.zeros((sd.N, sd.N))\n",
    "    for i in range(sd.N):\n",
    "        for j in range(sd.N):\n",
    "            sttc[i][j] = sd.spike_time_tiling(i, j)\n",
    "\n",
    "    # Set diagonal values to -1\n",
    "    np.fill_diagonal(sttc, -1)\n",
    "\n",
    "    # Create a mask to filter STTC values above the given threshold\n",
    "    mask = sttc > threshold\n",
    "\n",
    "    # Find the indices of neuron pairs with STTC above the threshold\n",
    "    neuron_pairs = np.transpose(np.where(mask))\n",
    "\n",
    "    return neuron_pairs"
   ]
  },
  {
   "cell_type": "code",
   "execution_count": null,
   "id": "9c5b2a1a",
   "metadata": {},
   "outputs": [],
   "source": [
    "def find_suitable_pairs(sd, sttc_thresh=0.3, num_threshold):\n",
    "    sttc = spike_time_tiling(sd)\n",
    "    # Set diagonal values to -1\n",
    "    np.fill_diagonal(sttc, -1)\n",
    "\n",
    "    # Create a mask to filter STTC values above the given threshold\n",
    "    mask = sttc > threshold\n",
    "\n",
    "    # Find the indices of neuron pairs with STTC above the threshold\n",
    "    neuron_pairs = np.transpose(np.where(mask))\n",
    "    \n",
    "    if neuron_pairs"
   ]
  },
  {
   "cell_type": "code",
   "execution_count": null,
   "id": "e7138894",
   "metadata": {},
   "outputs": [],
   "source": [
    "def plot_latency_histograms_for_random_pairs(sd, threshold=0.3, num_random_pairs=4):\n",
    "    neuron_pairs = find_sttc_above_threshold(sd, threshold)\n",
    "\n",
    "    # Get 'num_random_pairs' random indices to choose random neuron pairs\n",
    "    random_indices = np.random.choice(neuron_pairs.shape[0], num_random_pairs, replace=False)\n",
    "    random_neuron_pairs = neuron_pairs[random_indices]\n",
    "\n",
    "    fig, axs = plt.subplots(2, 2, figsize=(12, 10))\n",
    "    axs = axs.ravel()\n",
    "\n",
    "    for i, neuron_pair in enumerate(random_neuron_pairs):\n",
    "        neuron1, neuron2 = neuron_pair\n",
    "        lates_n1 = sd.latencies_to_index(neuron1)\n",
    "        lates_raw = lates_n1[neuron2]\n",
    "        lates = list(filter(lambda x: x < 10 and x > -10, lates_raw))\n",
    "\n",
    "        mean_latency = np.mean(lates)\n",
    "        std_latency = np.std(lates)\n",
    "\n",
    "        axs[i].hist(lates, bins=10, alpha=0.7, label='Latency')\n",
    "        axs[i].axvline(mean_latency, color='red', linestyle='dashed', linewidth=2, label='Mean')\n",
    "        axs[i].axvline(mean_latency - std_latency, color='green', linestyle='dashed', linewidth=2, label='Std -')\n",
    "        axs[i].axvline(mean_latency + std_latency, color='green', linestyle='dashed', linewidth=2, label='Std +')\n",
    "\n",
    "        axs[i].set_xlabel(\"Latency (ms)\")\n",
    "        axs[i].set_ylabel(\"Number of spike pairs\")\n",
    "        axs[i].set_title(f\"Latency Histogram - Neuron Pair {neuron1} and {neuron2}\")\n",
    "        axs[i].legend()\n",
    "\n",
    "    plt.tight_layout()\n",
    "    plt.show()\n",
    "\n",
    "# Call the function with your SpikeData object, the desired STTC threshold, and the number of random pairs to plot\n",
    "plot_latency_histograms_for_random_pairs(sd, threshold=0.3, num_random_pairs=4)"
   ]
  },
  {
   "cell_type": "code",
   "execution_count": null,
   "id": "77045f0d",
   "metadata": {},
   "outputs": [],
   "source": []
  }
 ],
 "metadata": {
  "hide_input": false,
  "kernelspec": {
   "display_name": "Python 3 (ipykernel)",
   "language": "python",
   "name": "python3"
  },
  "language_info": {
   "codemirror_mode": {
    "name": "ipython",
    "version": 3
   },
   "file_extension": ".py",
   "mimetype": "text/x-python",
   "name": "python",
   "nbconvert_exporter": "python",
   "pygments_lexer": "ipython3",
   "version": "3.10.10"
  },
  "toc": {
   "base_numbering": 1,
   "nav_menu": {},
   "number_sections": true,
   "sideBar": true,
   "skip_h1_title": false,
   "title_cell": "Table of Contents",
   "title_sidebar": "Contents",
   "toc_cell": false,
   "toc_position": {},
   "toc_section_display": true,
   "toc_window_display": false
  },
  "varInspector": {
   "cols": {
    "lenName": 16,
    "lenType": 16,
    "lenVar": 40
   },
   "kernels_config": {
    "python": {
     "delete_cmd_postfix": "",
     "delete_cmd_prefix": "del ",
     "library": "var_list.py",
     "varRefreshCmd": "print(var_dic_list())"
    },
    "r": {
     "delete_cmd_postfix": ") ",
     "delete_cmd_prefix": "rm(",
     "library": "var_list.r",
     "varRefreshCmd": "cat(var_dic_list()) "
    }
   },
   "types_to_exclude": [
    "module",
    "function",
    "builtin_function_or_method",
    "instance",
    "_Feature"
   ],
   "window_display": false
  }
 },
 "nbformat": 4,
 "nbformat_minor": 5
}

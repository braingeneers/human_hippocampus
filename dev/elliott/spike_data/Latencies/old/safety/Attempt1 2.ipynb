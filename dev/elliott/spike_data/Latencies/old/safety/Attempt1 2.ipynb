{
 "cells": [
  {
   "cell_type": "markdown",
   "id": "9e4b3b15",
   "metadata": {},
   "source": [
    "<font size=7>Latencies Analysis - Attempt 1"
   ]
  },
  {
   "cell_type": "markdown",
   "id": "d342918d",
   "metadata": {},
   "source": [
    "# Set Up Notebook\n"
   ]
  },
  {
   "cell_type": "markdown",
   "id": "411f570b",
   "metadata": {},
   "source": [
    "## Import stuff"
   ]
  },
  {
   "cell_type": "markdown",
   "id": "c7a91e2f",
   "metadata": {},
   "source": [
    "import stuff"
   ]
  },
  {
   "cell_type": "code",
   "execution_count": 1,
   "id": "4b14e532",
   "metadata": {},
   "outputs": [],
   "source": [
    "import pytz\n",
    "import numpy as np                                                    # Packages for data analysis\n",
    "import pandas as pd\n",
    "import random as rand\n",
    "import matplotlib.pyplot as plt\n",
    "import matplotlib.colors as mcolors\n",
    "import matplotlib.patches as patches\n",
    "from matplotlib.patches import Patch, Circle\n",
    "from matplotlib.lines import Line2D\n",
    "from scipy.ndimage import gaussian_filter1d\n",
    "import pickle\n",
    "from datetime import datetime\n",
    "import braingeneers                                                   # Braingeneers code\n",
    "from braingeneers.analysis.analysis import SpikeData, read_phy_files, load_spike_data, burst_detection, randomize_raster\n",
    "import braingeneers.data.datasets_electrophysiology as ephys\n",
    "import ipywidgets as ipw\n",
    "from ipywidgets import interact, interactive, fixed, interact_manual  # package for interactive widgets from IPython.display import HTML, display, Javascript, clear_output,\n",
    "from IPython.display import HTML, display, Javascript, clear_output\n",
    "from matplotlib.patches import FancyArrow"
   ]
  },
  {
   "cell_type": "markdown",
   "id": "b86657d2",
   "metadata": {},
   "source": [
    "## load data"
   ]
  },
  {
   "cell_type": "code",
   "execution_count": 2,
   "id": "85e0ef4e",
   "metadata": {},
   "outputs": [
    {
     "name": "stderr",
     "output_type": "stream",
     "text": [
      "/tmp/ipykernel_114970/2224013165.py:1: DeprecationWarning: Call to deprecated function (or staticmethod) read_phy_files. (Prefer load_spike_data()) -- Deprecated since version 0.1.13.\n",
      "  sd = read_phy_files(f\"/home/jovyan/work/Human_Hippocampus/data/ephys/2023-04-02-e-hc328_unperturbed/derived/kilosort2/hc3.28_hckcr1_chip16835_plated34.2_rec4.2_curated.zip\")\n"
     ]
    }
   ],
   "source": [
    "sd = read_phy_files(f\"/home/jovyan/work/Human_Hippocampus/data/ephys/2023-04-02-e-hc328_unperturbed/derived/kilosort2/hc3.28_hckcr1_chip16835_plated34.2_rec4.2_curated.zip\") \n"
   ]
  },
  {
   "cell_type": "code",
   "execution_count": 3,
   "id": "f716ee28",
   "metadata": {},
   "outputs": [],
   "source": [
    "file = open('/home/jovyan/work/Human_Hippocampus/data/saved_latencies/2023-04-02-e-hc328.pkl', 'rb')\n",
    "all_latencies = pickle.load(file)\n",
    "file.close()"
   ]
  },
  {
   "cell_type": "markdown",
   "id": "e3b53bfd",
   "metadata": {},
   "source": [
    "## Clean Latencies"
   ]
  },
  {
   "cell_type": "code",
   "execution_count": 4,
   "id": "8a9763b9",
   "metadata": {},
   "outputs": [],
   "source": [
    "pairs_lates_directed = all_latencies[\"pairs_lates\"]"
   ]
  },
  {
   "cell_type": "markdown",
   "id": "a9773c7f",
   "metadata": {},
   "source": [
    "clean data"
   ]
  },
  {
   "cell_type": "code",
   "execution_count": 5,
   "id": "39b06214",
   "metadata": {},
   "outputs": [],
   "source": [
    "pairs_lates_clean = {}\n",
    "for pair, lates_i in pairs_lates_directed.items():\n",
    "    percent_pos = np.sum(lates_i > 0) / len(lates_i)\n",
    "    if percent_pos > .65:\n",
    "        pairs_lates_clean[pair]=lates_i"
   ]
  },
  {
   "cell_type": "code",
   "execution_count": 6,
   "id": "dc55983b",
   "metadata": {},
   "outputs": [],
   "source": [
    "pairs_lates_list = list(pairs_lates_clean.items())"
   ]
  },
  {
   "cell_type": "markdown",
   "id": "96566a42",
   "metadata": {},
   "source": [
    "# Helper Functions"
   ]
  },
  {
   "cell_type": "markdown",
   "id": "8a4ecf1f",
   "metadata": {},
   "source": [
    "## Make Plot"
   ]
  },
  {
   "cell_type": "markdown",
   "id": "c4152138",
   "metadata": {},
   "source": [
    "Plot any sum of latencies provided to it. Input is a dictionary with the key is the latency pair and the value are the latencies"
   ]
  },
  {
   "cell_type": "code",
   "execution_count": 7,
   "id": "4a2fc98e",
   "metadata": {},
   "outputs": [],
   "source": [
    "def plotLatencies( pairs_lates_directed ):\n",
    "    \n",
    "    # Scatter plot of neurons\n",
    "    plt.figure(figsize=(8, 8))\n",
    "    neuron_x = []\n",
    "    neuron_y = []\n",
    "    for neuron in sd.neuron_data[0].values():\n",
    "        neuron_x.append(neuron['position'][0])\n",
    "        neuron_y.append(neuron['position'][1])\n",
    "    plt.scatter(neuron_x, neuron_y, alpha=0.15, c='grey')\n",
    "\n",
    "    # Plot Latencies\n",
    "    for pair, entries in pairs_lates_directed.items():\n",
    "        start_i = pair[0]\n",
    "        end_i = pair[1]\n",
    "        arrow = FancyArrow(\n",
    "            neuron_x[end_i], neuron_y[end_i],\n",
    "            neuron_x[start_i] - neuron_x[end_i], neuron_y[start_i] - neuron_y[end_i],\n",
    "            length_includes_head=True, head_width=25,\n",
    "            linewidth=1, color=\"red\", alpha=0.7, edgecolor=\"red\", facecolor=\"red\")\n",
    "        plt.gca().add_patch(arrow)\n",
    "\n",
    "    plt.xlabel('um')\n",
    "    plt.ylabel('um')\n",
    "    plt.title(\"Directionality plot\")\n",
    "    plt.show()"
   ]
  },
  {
   "cell_type": "markdown",
   "id": "a652f821",
   "metadata": {},
   "source": [
    "### <font color=\"brown\">Old Code"
   ]
  },
  {
   "cell_type": "raw",
   "id": "eb1d49e0",
   "metadata": {},
   "source": [
    "neuron_x = []\n",
    "neuron_y = []\n",
    "for neuron in sd.neuron_data[0].values():\n",
    "    neuron_x.append(neuron['position'][0])\n",
    "    neuron_y.append(neuron['position'][1])\n",
    "\n",
    "import numpy as np\n",
    "import matplotlib.pyplot as plt\n",
    "from matplotlib.patches import FancyArrow\n",
    "\n",
    "# Assuming you have 'pairs_lates_directed' dictionary and neuron_x, neuron_y arrays\n",
    "# pairs_lates_directed = { (pair): np.array(entries), ... }\n",
    "# neuron_x = ...  # Your x-coordinates\n",
    "# neuron_y = ...  # Your y-coordinates\n",
    "\n",
    "direction_threshold = 0.65\n",
    "\n",
    "plt.figure(figsize=(8, 8))\n",
    "\n",
    "plt.scatter(neuron_x, neuron_y, alpha=0.15, c='grey')\n",
    "\n",
    "count=0\n",
    "for pair, entries in pairs_lates_directed.items():\n",
    "    lates_i = np.array(entries)\n",
    "    \n",
    "    if len(lates_i) == 0:\n",
    "        continue\n",
    "    \n",
    "    percent_neg = np.sum(lates_i < 0) / len(lates_i)\n",
    "    percent_pos = np.sum(lates_i > 0) / len(lates_i)\n",
    "    \n",
    "    # Check the direction and conditions\n",
    "    is_pos = np.median(lates_i) > 0\n",
    "    if is_pos and percent_pos > direction_threshold:\n",
    "        count +=1\n",
    "        start_i = pair[0]\n",
    "        end_i = pair[1]\n",
    "        \n",
    "        arrow_color = \"black\"\n",
    "        if neuron_y[start_i] < 500 or neuron_y[end_i] < 500:\n",
    "            arrow_color = \"green\"\n",
    "            \n",
    "        if neuron_x[start_i] < neuron_x[end_i] and (neuron_y[start_i] > 500 or neuron_y[end_i] > 500):\n",
    "            arrow_color = \"red\"\n",
    "        \n",
    "        if neuron_x[start_i] > neuron_x[end_i] and (neuron_y[start_i] > 500 or neuron_y[end_i] > 500):\n",
    "            arrow_color = \"blue\"\n",
    "            \n",
    "        arrow = FancyArrow(\n",
    "            neuron_x[end_i], neuron_y[end_i],\n",
    "            neuron_x[start_i] - neuron_x[end_i], neuron_y[start_i] - neuron_y[end_i],\n",
    "            length_includes_head=True, head_width=25,\n",
    "            linewidth=1, color=arrow_color, alpha=0.7, edgecolor=arrow_color, facecolor=arrow_color)\n",
    "        plt.gca().add_patch(arrow)\n",
    "\n",
    "plt.xlabel('um')\n",
    "plt.ylabel('um')\n",
    "plt.title(\"Directionality plot\")\n",
    "print(count)\n",
    "plt.show()"
   ]
  },
  {
   "cell_type": "markdown",
   "id": "88710449",
   "metadata": {},
   "source": [
    "## Get firing rates"
   ]
  },
  {
   "cell_type": "code",
   "execution_count": 8,
   "id": "8c119763",
   "metadata": {},
   "outputs": [],
   "source": [
    "def calculate_mean_firing_rates(spike_data):\n",
    "    mean_firing_rates = []\n",
    "    for neuron_spikes in spike_data.train:\n",
    "        num_spikes = len(neuron_spikes)\n",
    "        time_duration = spike_data.length / 1000  # Assuming spike times are in milliseconds\n",
    "        firing_rate = num_spikes / time_duration\n",
    "        mean_firing_rates.append(firing_rate)\n",
    "    return np.array(mean_firing_rates)"
   ]
  },
  {
   "cell_type": "code",
   "execution_count": 9,
   "id": "9c7dcb31",
   "metadata": {},
   "outputs": [],
   "source": [
    "firing_rates = calculate_mean_firing_rates(sd)"
   ]
  },
  {
   "cell_type": "markdown",
   "id": "b66b849b",
   "metadata": {},
   "source": [
    "## Get ISIS"
   ]
  },
  {
   "cell_type": "code",
   "execution_count": 10,
   "id": "0c01e720",
   "metadata": {},
   "outputs": [],
   "source": [
    "isis = sd.interspike_intervals()"
   ]
  },
  {
   "cell_type": "markdown",
   "id": "ea53fd66",
   "metadata": {},
   "source": [
    "## Create Latency Histogram"
   ]
  },
  {
   "cell_type": "code",
   "execution_count": 11,
   "id": "e12a19f9",
   "metadata": {},
   "outputs": [],
   "source": [
    "def plot_latency_histograms_for_random_pairs(lates):\n",
    "    \n",
    "    mean_latency = np.mean(latencies)     # Get mean and SD\n",
    "    std_latency = np.std(latencies)\n",
    "    cutoff = 2 * std_latency           # remove outliers\n",
    "    lates_filtered = [latency for latency in latencies if abs(latency - mean_latency) <= cutoff]\n",
    "    plots[1,1].hist(lates_filtered, bins=12, alpha=0.7, label='Latency')\n",
    "    plots[1,1].axvline(mean_latency, color='red', linestyle='dashed', linewidth=2, label='Mean')\n",
    "    plots[1,1].axvline(mean_latency - std_latency, color='green', linestyle='dashed', linewidth=2, label='Std -')\n",
    "    plots[1,1].axvline(mean_latency + std_latency, color='green', linestyle='dashed', linewidth=2, label='Std +')\n",
    "    plots[1,1].axvline(0, color='black', linestyle='dashed', linewidth=0.5, label='Std +')\n",
    "    axs[i].set_xlim(-1*(abs(mean_latency)+cutoff), abs(mean_latency) + cutoff) \n",
    "    plots[1,1].set_xlabel(\"Latency (ms)\")\n",
    "    plots[1,1].set_ylabel(\"Count\")\n",
    "    plots[1,1].set_title(f\"Latency Histogram - Neuron Pair {neuron1} and {neuron2}\")\n",
    "    plots[1,1].legend()\n"
   ]
  },
  {
   "cell_type": "code",
   "execution_count": null,
   "id": "26c5b492",
   "metadata": {},
   "outputs": [],
   "source": []
  },
  {
   "cell_type": "code",
   "execution_count": null,
   "id": "f72eb62e",
   "metadata": {},
   "outputs": [],
   "source": []
  },
  {
   "cell_type": "code",
   "execution_count": null,
   "id": "84e15d3b",
   "metadata": {},
   "outputs": [],
   "source": []
  },
  {
   "cell_type": "markdown",
   "id": "4d51d0b1",
   "metadata": {},
   "source": [
    "# Create Latency Layout Plot"
   ]
  },
  {
   "cell_type": "markdown",
   "id": "df17e1d1",
   "metadata": {},
   "source": [
    "## Interactive plot"
   ]
  },
  {
   "cell_type": "code",
   "execution_count": 12,
   "id": "e3f4ed5f",
   "metadata": {},
   "outputs": [
    {
     "ename": "NameError",
     "evalue": "name 'num' is not defined",
     "output_type": "error",
     "traceback": [
      "\u001b[0;31m---------------------------------------------------------------------------\u001b[0m",
      "\u001b[0;31mNameError\u001b[0m                                 Traceback (most recent call last)",
      "Cell \u001b[0;32mIn[12], line 1\u001b[0m\n\u001b[0;32m----> 1\u001b[0m pairs_lates_list[\u001b[43mnum\u001b[49m]\n",
      "\u001b[0;31mNameError\u001b[0m: name 'num' is not defined"
     ]
    }
   ],
   "source": [
    "#pairs_lates_list[num]"
   ]
  },
  {
   "cell_type": "code",
   "execution_count": 13,
   "id": "d43344e6",
   "metadata": {},
   "outputs": [],
   "source": [
    "def plotLatency(num):\n",
    "    # Layout Plot\n",
    "    pairs_lates_list = list(pairs_lates_clean.items())\n",
    "    to_graph = {pairs_lates_list[num][0]:pairs_lates_list[num][1]}\n",
    "    plotLatencies(to_graph)\n",
    "    \n",
    "    # Summary Stats\n",
    "    start_i = pairs_lates_list[num][0][0]\n",
    "    end_i = pairs_lates_list[num][0][1]\n",
    "    latencies = pairs_lates_list[num][1]\n",
    "    \n",
    "    print( \"Number of Latencies\", len(latencies) )\n",
    "    print( \"Median Latency\", np.median(latencies) )\n",
    "    #print( \"Latency Probability\", {round(100*(len(lates_filtered)/len(lates_raw)))})\n",
    "    print(\".\")\n",
    "    print( \"Sender Neuron\", start_i)\n",
    "    print( \"Sender   Firing Rate\", firing_rates[start_i] )\n",
    "    print(\".\")\n",
    "    print(\"Receiver Neuron\", end_i)\n",
    "    print( \"Receiver Firing Rate\", firing_rates[end_i] )\n",
    "    \n",
    "    # Plot other graphs\n",
    "    figs, plots = plt.subplots(nrows=2,ncols=2,figsize=(14,10))\n",
    "\n",
    "    mean_latency = np.mean(latencies)     # Get mean and SD\n",
    "    std_latency = np.std(latencies)\n",
    "    cutoff = 2 * std_latency           # remove outliers\n",
    "    lates_filtered = [latency for latency in latencies if abs(latency - mean_latency) <= cutoff]\n",
    "    plots[0,0].hist(lates_filtered, bins=12, alpha=0.7, label='Latency')\n",
    "    plots[0,0].axvline(mean_latency, color='red', linestyle='dashed', linewidth=2, label='Mean')\n",
    "    plots[0,0].axvline(mean_latency - std_latency, color='green', linestyle='dashed', linewidth=2, label='Std -')\n",
    "    plots[0,0].axvline(mean_latency + std_latency, color='green', linestyle='dashed', linewidth=2, label='Std +')\n",
    "    plots[0,0].axvline(0, color='black', linestyle='dashed', linewidth=0.5, label='Std +')\n",
    "    plots[0,0].set_xlim(-1*(abs(mean_latency)+cutoff), abs(mean_latency) + cutoff) \n",
    "    plots[0,0].set_xlabel(\"Latency (ms)\")\n",
    "    plots[0,0].set_ylabel(\"Count\")\n",
    "    plots[0,0].set_title(f\"Fancy Latency Histogram\")\n",
    "    plots[0,0].legend()\n",
    "\n",
    "    plots[0,1].hist(latencies, bins=12)\n",
    "    plots[0,1].set_title(\"Latency Histogram\")\n",
    "    plots[0,1].set_xlabel(\"Latency (ms)\")\n",
    "    plots[0,1].set_ylabel(\"Count\")\n",
    "\n",
    "    plots[1,0].hist(isis[start_i], bins=50);\n",
    "    plots[1,0].set_title(\"Sender ISI\")\n",
    "    plots[1,0].set_xlabel(\"Time bin(ms)\")\n",
    "    plots[1,0].set_ylabel(\"ISI count\")\n",
    "\n",
    "    plots[1,1].hist(isis[end_i], bins=50);\n",
    "    plots[1,1].set_title(\"Receiver ISI\")\n",
    "    plots[1,1].set_xlabel(\"Time bin(ms)\")\n",
    "    plots[1,1].set_ylabel(\"ISI count\")\n"
   ]
  },
  {
   "cell_type": "code",
   "execution_count": 14,
   "id": "85605931",
   "metadata": {
    "scrolled": false
   },
   "outputs": [
    {
     "data": {
      "application/vnd.jupyter.widget-view+json": {
       "model_id": "4185ef2a91964c889b9414fb08c3a61f",
       "version_major": 2,
       "version_minor": 0
      },
      "text/plain": [
       "interactive(children=(IntSlider(value=13, description='num', max=26), Button(description='Run Interact', style…"
      ]
     },
     "metadata": {},
     "output_type": "display_data"
    },
    {
     "data": {
      "text/plain": [
       "<function __main__.plotLatency(num)>"
      ]
     },
     "execution_count": 14,
     "metadata": {},
     "output_type": "execute_result"
    }
   ],
   "source": [
    "interact_manual( plotLatency, num=(0,(len(pairs_lates_clean)-1) ))"
   ]
  },
  {
   "cell_type": "markdown",
   "id": "3f3a0923",
   "metadata": {},
   "source": [
    "# Analyze Individual Pair"
   ]
  },
  {
   "cell_type": "code",
   "execution_count": 12,
   "id": "f2d4dc39",
   "metadata": {},
   "outputs": [],
   "source": [
    "num = 25"
   ]
  },
  {
   "cell_type": "code",
   "execution_count": 29,
   "id": "618e397f",
   "metadata": {},
   "outputs": [],
   "source": [
    "start_i = pairs_lates_list[num][0][0]\n",
    "end_i = pairs_lates_list[num][0][1]\n",
    "latencies = pairs_lates_list[num][1]"
   ]
  },
  {
   "cell_type": "code",
   "execution_count": 44,
   "id": "d2e66182",
   "metadata": {},
   "outputs": [
    {
     "name": "stdout",
     "output_type": "stream",
     "text": [
      "Number of Latencies 135\n",
      ".\n",
      "Sender Neuron 138\n",
      "Sender   Firing Rate 1.677388687494829\n",
      ".\n",
      "Receiver Neuron 81\n",
      "Receiver Firing Rate 1.1199331656028348\n"
     ]
    }
   ],
   "source": [
    "print( \"Number of Latencies\", len(latencies) )\n",
    "print(\".\")\n",
    "print( \"Sender Neuron\", start_i)\n",
    "print( \"Sender   Firing Rate\", firing_rates[start_i] )\n",
    "print(\".\")\n",
    "print(\"Receiver Neuron\", end_i)\n",
    "print( \"Receiver Firing Rate\", firing_rates[end_i] )"
   ]
  },
  {
   "cell_type": "code",
   "execution_count": 63,
   "id": "0b25115c",
   "metadata": {},
   "outputs": [
    {
     "data": {
      "text/plain": [
       "Text(0, 0.5, 'ISI count')"
      ]
     },
     "execution_count": 63,
     "metadata": {},
     "output_type": "execute_result"
    },
    {
     "data": {
      "image/png": "[encoded data removed]",
      "text/plain": [
       "<Figure size 1400x1000 with 4 Axes>"
      ]
     },
     "metadata": {},
     "output_type": "display_data"
    }
   ],
   "source": [
    "figs, plots = plt.subplots(nrows=2,ncols=2,figsize=(14,10))\n",
    "\n",
    "mean_latency = np.mean(latencies)     # Get mean and SD\n",
    "std_latency = np.std(latencies)\n",
    "cutoff = 2 * std_latency           # remove outliers\n",
    "lates_filtered = [latency for latency in latencies if abs(latency - mean_latency) <= cutoff]\n",
    "plots[0,0].hist(lates_filtered, bins=12, alpha=0.7, label='Latency')\n",
    "plots[0,0].axvline(mean_latency, color='red', linestyle='dashed', linewidth=2, label='Mean')\n",
    "plots[0,0].axvline(mean_latency - std_latency, color='green', linestyle='dashed', linewidth=2, label='Std -')\n",
    "plots[0,0].axvline(mean_latency + std_latency, color='green', linestyle='dashed', linewidth=2, label='Std +')\n",
    "plots[0,0].axvline(0, color='black', linestyle='dashed', linewidth=0.5, label='Std +')\n",
    "plots[0,0].set_xlim(-1*(abs(mean_latency)+cutoff), abs(mean_latency) + cutoff) \n",
    "plots[0,0].set_xlabel(\"Latency (ms)\")\n",
    "plots[0,0].set_ylabel(\"Count\")\n",
    "plots[0,0].set_title(f\"Fancy Latency Histogram\")\n",
    "plots[0,0].legend()\n",
    "\n",
    "plots[0,1].hist(latencies)\n",
    "plots[0,1].set_title(\"Latency Histogram\")\n",
    "plots[0,1].set_xlabel(\"Latency (ms)\")\n",
    "plots[0,1].set_ylabel(\"Count\")\n",
    "\n",
    "plots[1,0].hist(isis[start_i], bins=50);\n",
    "plots[1,0].set_title(\"Sender ISI\")\n",
    "plots[1,0].set_xlabel(\"Time bin(ms)\")\n",
    "plots[1,0].set_ylabel(\"ISI count\")\n",
    "\n",
    "plots[1,1].hist(isis[end_i], bins=50);\n",
    "plots[1,1].set_title(\"Receiver ISI\")\n",
    "plots[1,1].set_xlabel(\"Time bin(ms)\")\n",
    "plots[1,1].set_ylabel(\"ISI count\")\n",
    "\n"
   ]
  },
  {
   "cell_type": "code",
   "execution_count": null,
   "id": "b6438670",
   "metadata": {},
   "outputs": [],
   "source": []
  },
  {
   "cell_type": "code",
   "execution_count": null,
   "id": "f26ec3fa",
   "metadata": {},
   "outputs": [],
   "source": []
  },
  {
   "cell_type": "code",
   "execution_count": null,
   "id": "a209c40e",
   "metadata": {},
   "outputs": [],
   "source": []
  },
  {
   "cell_type": "code",
   "execution_count": null,
   "id": "1d4f58ef",
   "metadata": {},
   "outputs": [],
   "source": []
  },
  {
   "cell_type": "code",
   "execution_count": null,
   "id": "d9452b05",
   "metadata": {},
   "outputs": [],
   "source": []
  },
  {
   "cell_type": "code",
   "execution_count": null,
   "id": "c89f4ce1",
   "metadata": {},
   "outputs": [],
   "source": []
  },
  {
   "cell_type": "code",
   "execution_count": null,
   "id": "5e56d039",
   "metadata": {},
   "outputs": [],
   "source": []
  },
  {
   "cell_type": "code",
   "execution_count": null,
   "id": "6b157ffc",
   "metadata": {},
   "outputs": [],
   "source": []
  },
  {
   "cell_type": "code",
   "execution_count": null,
   "id": "0b110f54",
   "metadata": {},
   "outputs": [],
   "source": []
  },
  {
   "cell_type": "code",
   "execution_count": null,
   "id": "8e35d868",
   "metadata": {},
   "outputs": [],
   "source": []
  },
  {
   "cell_type": "markdown",
   "id": "574f8a85",
   "metadata": {},
   "source": [
    "# Analyze individual arrows"
   ]
  },
  {
   "cell_type": "code",
   "execution_count": null,
   "id": "91877227",
   "metadata": {},
   "outputs": [],
   "source": []
  },
  {
   "cell_type": "code",
   "execution_count": null,
   "id": "5ae1c70c",
   "metadata": {},
   "outputs": [],
   "source": []
  },
  {
   "cell_type": "code",
   "execution_count": null,
   "id": "a3126543",
   "metadata": {},
   "outputs": [],
   "source": []
  },
  {
   "cell_type": "code",
   "execution_count": null,
   "id": "9f5c57be",
   "metadata": {},
   "outputs": [],
   "source": []
  },
  {
   "cell_type": "code",
   "execution_count": null,
   "id": "dd7eadf6",
   "metadata": {},
   "outputs": [],
   "source": []
  },
  {
   "cell_type": "code",
   "execution_count": null,
   "id": "31713a40",
   "metadata": {},
   "outputs": [],
   "source": []
  },
  {
   "cell_type": "code",
   "execution_count": null,
   "id": "5b370e2c",
   "metadata": {},
   "outputs": [],
   "source": []
  },
  {
   "cell_type": "markdown",
   "id": "7b039e18",
   "metadata": {},
   "source": [
    "# Analyze Subgroups spike rasters <font color=\"red\"> - not done"
   ]
  },
  {
   "cell_type": "code",
   "execution_count": null,
   "id": "5522005c",
   "metadata": {},
   "outputs": [],
   "source": []
  },
  {
   "cell_type": "code",
   "execution_count": null,
   "id": "bca7d00c",
   "metadata": {},
   "outputs": [],
   "source": []
  },
  {
   "cell_type": "code",
   "execution_count": null,
   "id": "3e792814",
   "metadata": {},
   "outputs": [],
   "source": []
  },
  {
   "cell_type": "code",
   "execution_count": null,
   "id": "323eaa0e",
   "metadata": {},
   "outputs": [],
   "source": []
  }
 ],
 "metadata": {
  "hide_input": false,
  "kernelspec": {
   "display_name": "Python 3 (ipykernel)",
   "language": "python",
   "name": "python3"
  },
  "language_info": {
   "codemirror_mode": {
    "name": "ipython",
    "version": 3
   },
   "file_extension": ".py",
   "mimetype": "text/x-python",
   "name": "python",
   "nbconvert_exporter": "python",
   "pygments_lexer": "ipython3",
   "version": "3.10.10"
  },
  "toc": {
   "base_numbering": 1,
   "nav_menu": {},
   "number_sections": true,
   "sideBar": true,
   "skip_h1_title": false,
   "title_cell": "Table of Contents",
   "title_sidebar": "Contents",
   "toc_cell": false,
   "toc_position": {},
   "toc_section_display": true,
   "toc_window_display": false
  },
  "varInspector": {
   "cols": {
    "lenName": 16,
    "lenType": 16,
    "lenVar": 40
   },
   "kernels_config": {
    "python": {
     "delete_cmd_postfix": "",
     "delete_cmd_prefix": "del ",
     "library": "var_list.py",
     "varRefreshCmd": "print(var_dic_list())"
    },
    "r": {
     "delete_cmd_postfix": ") ",
     "delete_cmd_prefix": "rm(",
     "library": "var_list.r",
     "varRefreshCmd": "cat(var_dic_list()) "
    }
   },
   "types_to_exclude": [
    "module",
    "function",
    "builtin_function_or_method",
    "instance",
    "_Feature"
   ],
   "window_display": false
  }
 },
 "nbformat": 4,
 "nbformat_minor": 5
}

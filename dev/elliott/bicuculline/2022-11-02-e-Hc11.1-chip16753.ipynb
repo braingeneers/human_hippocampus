{
 "cells": [
  {
   "cell_type": "markdown",
   "metadata": {},
   "source": [
    "<font size=7> 2022-11-02-e-Hc11.1-chip16753 - Bicuculline Analysis"
   ]
  },
  {
   "cell_type": "markdown",
   "metadata": {},
   "source": [
    "<font color=\"red\"> None of the Data is curated"
   ]
  },
  {
   "cell_type": "markdown",
   "metadata": {},
   "source": [
    "Inspect Bicuculline Data"
   ]
  },
  {
   "cell_type": "code",
   "execution_count": 1,
   "metadata": {},
   "outputs": [],
   "source": [
    "\n",
    "import matplotlib.pyplot as plt\n",
    "import numpy as np\n",
    "import pickle\n",
    "from braingeneers.analysis.analysis import SpikeData\n",
    "from human_hip.basics import read_phy_files, raster_plot, raster_fancy_plot"
   ]
  },
  {
   "cell_type": "markdown",
   "metadata": {},
   "source": [
    "# Recording - hc11.1_plated-11.1_chip-16753_rec_11.2.22AM-immediate_D_phy"
   ]
  },
  {
   "cell_type": "code",
   "execution_count": 2,
   "metadata": {},
   "outputs": [
    {
     "ename": "UnboundLocalError",
     "evalue": "local variable 'cluster_info' referenced before assignment",
     "output_type": "error",
     "traceback": [
      "\u001b[0;31m---------------------------------------------------------------------------\u001b[0m",
      "\u001b[0;31mUnboundLocalError\u001b[0m                         Traceback (most recent call last)",
      "\u001b[1;32m/workspaces/human_hippocampus/dev/elliott/bicuculline/2022-11-02-e-Hc11.1-chip16753.ipynb Cell 6\u001b[0m line \u001b[0;36m1\n\u001b[0;32m----> <a href='vscode-notebook-cell://codespaces%2Borganic-guide-77vwxvrpx5rcrjrv/workspaces/human_hippocampus/dev/elliott/bicuculline/2022-11-02-e-Hc11.1-chip16753.ipynb#X13sdnNjb2RlLXJlbW90ZQ%3D%3D?line=0'>1</a>\u001b[0m sd \u001b[39m=\u001b[39m read_phy_files(\u001b[39m\"\u001b[39;49m\u001b[39m/workspaces/human_hippocampus/data/ephys/2022-11-02-e-Hc11.1-chip16753/derived/kilosort2/hc11.1_plated-11.1_chip-16753_rec_11.2.22AM-immediate_D_phy.zip\u001b[39;49m\u001b[39m\"\u001b[39;49m)\n",
      "File \u001b[0;32m/workspaces/human_hippocampus/src/human_hip/basics/read_phy_files.py:96\u001b[0m, in \u001b[0;36mread_phy_files\u001b[0;34m(path, fs)\u001b[0m\n\u001b[1;32m     83\u001b[0m     cls_amp \u001b[39m=\u001b[39m cluster_agg[\u001b[39m\"\u001b[39m\u001b[39mamplitudes\u001b[39m\u001b[39m\"\u001b[39m][c]\n\u001b[1;32m     84\u001b[0m     neuron_dict[i] \u001b[39m=\u001b[39m {\u001b[39m\"\u001b[39m\u001b[39mcluster_id\u001b[39m\u001b[39m\"\u001b[39m: c, \u001b[39m\"\u001b[39m\u001b[39mchannel\u001b[39m\u001b[39m\"\u001b[39m: best_channel, \u001b[39m\"\u001b[39m\u001b[39mposition\u001b[39m\u001b[39m\"\u001b[39m: best_position,\n\u001b[1;32m     85\u001b[0m                       \u001b[39m\"\u001b[39m\u001b[39mamplitudes\u001b[39m\u001b[39m\"\u001b[39m: cls_amp, \u001b[39m\"\u001b[39m\u001b[39mtemplate\u001b[39m\u001b[39m\"\u001b[39m: best_chan_temp,\n\u001b[1;32m     86\u001b[0m                       \u001b[39m\"\u001b[39m\u001b[39mneighbor_channels\u001b[39m\u001b[39m\"\u001b[39m: nbgh_channels, \u001b[39m\"\u001b[39m\u001b[39mneighbor_positions\u001b[39m\u001b[39m\"\u001b[39m: nbgh_postions,\n\u001b[1;32m     87\u001b[0m                       \u001b[39m\"\u001b[39m\u001b[39mneighbor_templates\u001b[39m\u001b[39m\"\u001b[39m: nbgh_temps}\n\u001b[1;32m     88\u001b[0m     neuron_attributes\u001b[39m.\u001b[39mappend(\n\u001b[1;32m     89\u001b[0m         NeuronAttributes(\n\u001b[1;32m     90\u001b[0m             cluster_id\u001b[39m=\u001b[39mc,\n\u001b[1;32m     91\u001b[0m             channel\u001b[39m=\u001b[39mbest_channel,\n\u001b[1;32m     92\u001b[0m             position\u001b[39m=\u001b[39mbest_position,\n\u001b[1;32m     93\u001b[0m             amplitudes\u001b[39m=\u001b[39mcluster_agg[\u001b[39m\"\u001b[39m\u001b[39mamplitudes\u001b[39m\u001b[39m\"\u001b[39m][c],\n\u001b[1;32m     94\u001b[0m             template\u001b[39m=\u001b[39mbest_chan_temp,\n\u001b[1;32m     95\u001b[0m             templates\u001b[39m=\u001b[39mtemplates[cls_temp[c]]\u001b[39m.\u001b[39mT,\n\u001b[0;32m---> 96\u001b[0m             label\u001b[39m=\u001b[39mcluster_info[\u001b[39m'\u001b[39m\u001b[39mgroup\u001b[39m\u001b[39m'\u001b[39m][cluster_info[\u001b[39m'\u001b[39m\u001b[39mcluster_id\u001b[39m\u001b[39m'\u001b[39m] \u001b[39m==\u001b[39m c]\u001b[39m.\u001b[39mvalues[\u001b[39m0\u001b[39m],\n\u001b[1;32m     97\u001b[0m             neighbor_channels\u001b[39m=\u001b[39mchannels[nbgh_chan_idx],\n\u001b[1;32m     98\u001b[0m             neighbor_positions\u001b[39m=\u001b[39m[\u001b[39mtuple\u001b[39m(positions[idx]) \u001b[39mfor\u001b[39;00m idx \u001b[39min\u001b[39;00m nbgh_chan_idx],\n\u001b[1;32m     99\u001b[0m             neighbor_templates\u001b[39m=\u001b[39m[templates[cls_temp[c]]\u001b[39m.\u001b[39mT[n] \u001b[39mfor\u001b[39;00m n \u001b[39min\u001b[39;00m nbgh_chan_idx]\n\u001b[1;32m    100\u001b[0m         )\n\u001b[1;32m    101\u001b[0m     )\n\u001b[1;32m    103\u001b[0m config_dict \u001b[39m=\u001b[39m \u001b[39mdict\u001b[39m(\u001b[39mzip\u001b[39m(channels, positions))\n\u001b[1;32m    104\u001b[0m neuron_data \u001b[39m=\u001b[39m {\u001b[39m0\u001b[39m: neuron_dict}\n",
      "\u001b[0;31mUnboundLocalError\u001b[0m: local variable 'cluster_info' referenced before assignment"
     ]
    }
   ],
   "source": [
    "sd = read_phy_files(\"/workspaces/human_hippocampus/data/ephys/2022-11-02-e-Hc11.1-chip16753/derived/kilosort2/hc11.1_plated-11.1_chip-16753_rec_11.2.22AM-immediate_D_phy.zip\")\n"
   ]
  },
  {
   "cell_type": "code",
   "execution_count": null,
   "metadata": {},
   "outputs": [],
   "source": []
  },
  {
   "cell_type": "code",
   "execution_count": null,
   "metadata": {},
   "outputs": [],
   "source": []
  },
  {
   "cell_type": "code",
   "execution_count": null,
   "metadata": {},
   "outputs": [],
   "source": [
    "\"/workspaces/human_hippocampus/data/ephys/2022-11-02-e-Hc11.1-chip16753/derived/kilosort2/hc11.1_plated-11.1_chip-16753_rec_11.2.22AM-immediate_D_phy.zip\""
   ]
  }
 ],
 "metadata": {
  "kernelspec": {
   "display_name": "notebook",
   "language": "python",
   "name": "python3"
  },
  "language_info": {
   "codemirror_mode": {
    "name": "ipython",
    "version": 3
   },
   "file_extension": ".py",
   "mimetype": "text/x-python",
   "name": "python",
   "nbconvert_exporter": "python",
   "pygments_lexer": "ipython3",
   "version": "3.10.0"
  }
 },
 "nbformat": 4,
 "nbformat_minor": 2
}

{
 "cells": [
  {
   "cell_type": "code",
   "execution_count": 1,
   "id": "ce0df7fa",
   "metadata": {},
   "outputs": [
    {
     "name": "stdout",
     "output_type": "stream",
     "text": [
      "Loading: Eigendecomposition_Source_Code.ipynb...\n",
      "Done at: 2023/08/17 18:28:16\n"
     ]
    }
   ],
   "source": [
    "%run \"Eigendecomposition_Source_Code.ipynb\""
   ]
  },
  {
   "cell_type": "code",
   "execution_count": 2,
   "id": "7697fb0e",
   "metadata": {},
   "outputs": [],
   "source": [
    "import pickle\n",
    "file1 = open('/home/jovyan/work/Human_Hippocampus/StitchedDataUpdated.pkl', 'rb')\n",
    "stitched_data = pickle.load(file1)\n",
    "file1.close()\n",
    "sds=[stitched_data]\n",
    "\n",
    "file2 = open('/home/jovyan/work/Human_Hippocampus/Pairs_and_Lates_Directed.pkl', 'rb')\n",
    "data = pickle.load(file2)\n",
    "pairs_lates_dict = data[\"pairs_lates\"]\n",
    "file2.close()"
   ]
  },
  {
   "cell_type": "code",
   "execution_count": 3,
   "id": "c50a8d28",
   "metadata": {},
   "outputs": [],
   "source": [
    "pairs_lates_directed = pairs_lates_dict\n",
    "from matplotlib.patches import FancyArrow"
   ]
  },
  {
   "cell_type": "code",
   "execution_count": 9,
   "id": "c1b7d029",
   "metadata": {},
   "outputs": [],
   "source": [
    "def EigenDirection(sd, selection):\n",
    "    #corr = correlation(sd)\n",
    "    sttc = get_sttc(sd)\n",
    "    #Wcorr, Ucorr = eigenvalues_eigenvectors(corr)\n",
    "    Wsttc, Usttc = eigenvalues_eigenvectors(sttc)\n",
    "    \n",
    "    neuron_x = []\n",
    "    neuron_y = []\n",
    "    \n",
    "    for neuron in sd.neuron_data[0].values(): # Plots neurons on a 2-d space, representing their positions on the array\n",
    "        neuron_x.append(neuron['position'][0])\n",
    "\n",
    "        neuron_y.append(neuron['position'][1])\n",
    "        \n",
    "    plt.figure(figsize=(7,5)) \n",
    "    ax = plt.axes()\n",
    "    ax.set_facecolor(\"grey\")\n",
    "    \n",
    "    \n",
    "    plt.scatter(neuron_x,neuron_y, c=Usttc[:,selection], cmap = plot_color) # color each plotted neuron according to the values of the eigenvector\n",
    "    \n",
    "    ####----------------------------------------------------------\n",
    "    #\n",
    "    # INSERT ARROW CODE HERE\n",
    "    #\n",
    "    ####----------------------------------------------------------\n",
    "    \n",
    "    direction_threshold = 0.65\n",
    "    \n",
    "    for pair, entries in pairs_lates_directed.items():\n",
    "        lates_i = np.array(entries)\n",
    "\n",
    "        if len(lates_i) == 0:\n",
    "            continue\n",
    "\n",
    "        percent_neg = np.sum(lates_i < 0) / len(lates_i)\n",
    "        percent_pos = np.sum(lates_i > 0) / len(lates_i)\n",
    "\n",
    "        # Check the direction and conditions\n",
    "        is_pos = np.median(lates_i) > 0\n",
    "        if is_pos and percent_pos > direction_threshold:\n",
    "            start_i = pair[0]\n",
    "            end_i = pair[1]\n",
    "\n",
    "            arrow_color = \"black\"\n",
    "            alpha_upd = 0\n",
    "#             if neuron_y[start_i] < 500 or neuron_y[end_i] < 500:\n",
    "#                 arrow_color = \"lime\"\n",
    "#                 alpha_upd = 0.7\n",
    "\n",
    "            if neuron_x[start_i] < neuron_x[end_i] and (neuron_y[start_i] > 500 or neuron_y[end_i] > 500):\n",
    "                arrow_color = \"r\"\n",
    "                alpha_upd = 0.7\n",
    "\n",
    "            if neuron_x[start_i] > neuron_x[end_i] and (neuron_y[start_i] > 500 or neuron_y[end_i] > 500):\n",
    "                arrow_color = \"blue\"\n",
    "                alpha_upd = 0.7\n",
    "\n",
    "            arrow = FancyArrow(\n",
    "                neuron_x[end_i], neuron_y[end_i],\n",
    "                neuron_x[start_i] - neuron_x[end_i], neuron_y[start_i] - neuron_y[end_i],\n",
    "                length_includes_head=True, head_width=25,\n",
    "                linewidth=1, color=arrow_color, alpha=alpha_upd, edgecolor=arrow_color, facecolor=arrow_color)\n",
    "            plt.gca().add_patch(arrow)\n",
    "    \n",
    "    plt.xlabel('um')\n",
    "    plt.ylabel('um')\n",
    "    plt.colorbar(label=\"Eigen Component Value\")\n",
    "    plt.title(\"Eigenvector & Directionality\")\n",
    "    \n",
    "    return"
   ]
  },
  {
   "cell_type": "code",
   "execution_count": 10,
   "id": "64c09184",
   "metadata": {},
   "outputs": [
    {
     "data": {
      "application/vnd.jupyter.widget-view+json": {
       "model_id": "a0c5d47ecb874e99bb16ed3036a676e2",
       "version_major": 2,
       "version_minor": 0
      },
      "text/plain": [
       "interactive(children=(Dropdown(description='sd', options=(<braingeneers.analysis.analysis.SpikeData object at …"
      ]
     },
     "metadata": {},
     "output_type": "display_data"
    },
    {
     "data": {
      "text/plain": [
       "<function __main__.EigenDirection(sd, selection)>"
      ]
     },
     "execution_count": 10,
     "metadata": {},
     "output_type": "execute_result"
    }
   ],
   "source": [
    "interact_manual(EigenDirection, sd=sds, selection=(0,10))"
   ]
  },
  {
   "cell_type": "code",
   "execution_count": null,
   "id": "ee31f065",
   "metadata": {},
   "outputs": [],
   "source": []
  }
 ],
 "metadata": {
  "hide_input": false,
  "kernelspec": {
   "display_name": "Python 3 (ipykernel)",
   "language": "python",
   "name": "python3"
  },
  "language_info": {
   "codemirror_mode": {
    "name": "ipython",
    "version": 3
   },
   "file_extension": ".py",
   "mimetype": "text/x-python",
   "name": "python",
   "nbconvert_exporter": "python",
   "pygments_lexer": "ipython3",
   "version": "3.10.10"
  },
  "toc": {
   "base_numbering": 1,
   "nav_menu": {},
   "number_sections": true,
   "sideBar": true,
   "skip_h1_title": false,
   "title_cell": "Table of Contents",
   "title_sidebar": "Contents",
   "toc_cell": false,
   "toc_position": {},
   "toc_section_display": true,
   "toc_window_display": false
  },
  "varInspector": {
   "cols": {
    "lenName": 16,
    "lenType": 16,
    "lenVar": 40
   },
   "kernels_config": {
    "python": {
     "delete_cmd_postfix": "",
     "delete_cmd_prefix": "del ",
     "library": "var_list.py",
     "varRefreshCmd": "print(var_dic_list())"
    },
    "r": {
     "delete_cmd_postfix": ") ",
     "delete_cmd_prefix": "rm(",
     "library": "var_list.r",
     "varRefreshCmd": "cat(var_dic_list()) "
    }
   },
   "types_to_exclude": [
    "module",
    "function",
    "builtin_function_or_method",
    "instance",
    "_Feature"
   ],
   "window_display": false
  }
 },
 "nbformat": 4,
 "nbformat_minor": 5
}

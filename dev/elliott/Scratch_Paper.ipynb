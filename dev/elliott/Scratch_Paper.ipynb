{
 "cells": [
  {
   "cell_type": "markdown",
   "id": "a071bbaa",
   "metadata": {},
   "source": [
    "<font size=7> Scratch Paper"
   ]
  },
  {
   "cell_type": "markdown",
   "id": "478e8286",
   "metadata": {},
   "source": [
    "We make some dummy data that we are pretending is the firing rate for 50 neurons."
   ]
  },
  {
   "cell_type": "markdown",
   "id": "785d56d3",
   "metadata": {},
   "source": [
    "# Average matrices"
   ]
  },
  {
   "cell_type": "code",
   "execution_count": 1,
   "id": "3456da94",
   "metadata": {},
   "outputs": [],
   "source": [
    "import numpy as np"
   ]
  },
  {
   "cell_type": "code",
   "execution_count": 2,
   "id": "281b393e",
   "metadata": {},
   "outputs": [],
   "source": [
    "neo1 = np.random.normal(30, 10, 50 )"
   ]
  },
  {
   "cell_type": "code",
   "execution_count": 6,
   "id": "8ffafb86",
   "metadata": {},
   "outputs": [],
   "source": [
    "neo1=np.array([[1,2,3],[1,2,3],[1,2,3]])\n",
    "neo2= np.array([[1,1,1],[1,1,1],[1,1,1]])"
   ]
  },
  {
   "cell_type": "code",
   "execution_count": null,
   "id": "011af04a",
   "metadata": {},
   "outputs": [],
   "source": []
  },
  {
   "cell_type": "code",
   "execution_count": 9,
   "id": "098d3fe4",
   "metadata": {},
   "outputs": [
    {
     "data": {
      "text/plain": [
       "array([[1. , 1.5, 2. ],\n",
       "       [1. , 1.5, 2. ],\n",
       "       [1. , 1.5, 2. ]])"
      ]
     },
     "execution_count": 9,
     "metadata": {},
     "output_type": "execute_result"
    }
   ],
   "source": [
    "np.median( np.array([ neo1, neo2 ]), axis=0 )"
   ]
  },
  {
   "cell_type": "code",
   "execution_count": null,
   "id": "9740b40a",
   "metadata": {},
   "outputs": [],
   "source": []
  },
  {
   "cell_type": "code",
   "execution_count": null,
   "id": "f2596613",
   "metadata": {},
   "outputs": [],
   "source": []
  },
  {
   "cell_type": "code",
   "execution_count": null,
   "id": "ad103e25",
   "metadata": {},
   "outputs": [],
   "source": []
  },
  {
   "cell_type": "code",
   "execution_count": null,
   "id": "dbab8fcd",
   "metadata": {},
   "outputs": [],
   "source": []
  },
  {
   "cell_type": "markdown",
   "id": "07cfc9d0",
   "metadata": {},
   "source": [
    "# Old Stuff"
   ]
  },
  {
   "cell_type": "code",
   "execution_count": null,
   "id": "d00365fd",
   "metadata": {},
   "outputs": [],
   "source": []
  },
  {
   "cell_type": "code",
   "execution_count": 9,
   "id": "50f07f5c",
   "metadata": {},
   "outputs": [],
   "source": [
    "import numpy as np"
   ]
  },
  {
   "cell_type": "code",
   "execution_count": 10,
   "id": "ae90c50d",
   "metadata": {},
   "outputs": [],
   "source": [
    "samples = np.random.normal(30, 10, 50 )"
   ]
  },
  {
   "cell_type": "markdown",
   "id": "ad99b290",
   "metadata": {},
   "source": [
    "Below is the supposed firing rate calculate for each neuron"
   ]
  },
  {
   "cell_type": "code",
   "execution_count": 11,
   "id": "596e4b69",
   "metadata": {},
   "outputs": [
    {
     "data": {
      "text/plain": [
       "array([14.55505386, 27.5161827 , 24.23890139, 13.07729519, 34.93667839,\n",
       "       38.60281461, 65.94794754, 27.94639096, 36.70129271, 32.0898767 ,\n",
       "       27.33935961, 23.93796413, 19.67297129, 28.44610531, 42.09218853,\n",
       "       38.24662509, 35.51655845,  5.35595273, 39.19322898, 48.71311485,\n",
       "       25.37570965, 20.17371829, 20.26499632, 42.36173345, 26.31833878,\n",
       "       40.39831948, 34.18299196, 31.99440381, 42.30398859, 40.60159494,\n",
       "       37.68702617, 27.19569785, 21.19447059, 25.71227603,  8.52986646,\n",
       "       33.83683302, 34.40416513, 28.74191579, 11.02356141, 48.02468693,\n",
       "       43.30215415, 23.01869196, 22.9661299 , 16.21950194, 51.16229766,\n",
       "       31.2028943 , 57.6572411 , 34.7985045 , 12.94617944, 37.01170858])"
      ]
     },
     "execution_count": 11,
     "metadata": {},
     "output_type": "execute_result"
    }
   ],
   "source": [
    "samples"
   ]
  },
  {
   "cell_type": "markdown",
   "id": "42e62eb0",
   "metadata": {},
   "source": [
    "We plot a histogram of the firing rates"
   ]
  },
  {
   "cell_type": "code",
   "execution_count": 12,
   "id": "937ab256",
   "metadata": {},
   "outputs": [],
   "source": [
    "import matplotlib.pyplot as plt"
   ]
  },
  {
   "cell_type": "code",
   "execution_count": 14,
   "id": "97725593",
   "metadata": {},
   "outputs": [
    {
     "data": {
      "text/plain": [
       "(array([ 3.,  4.,  6., 11.,  9.,  8.,  4.,  3.,  1.,  1.]),\n",
       " array([ 5.35595273, 11.41515221, 17.47435169, 23.53355117, 29.59275065,\n",
       "        35.65195014, 41.71114962, 47.7703491 , 53.82954858, 59.88874806,\n",
       "        65.94794754]),\n",
       " <BarContainer object of 10 artists>)"
      ]
     },
     "execution_count": 14,
     "metadata": {},
     "output_type": "execute_result"
    },
    {
     "data": {
      "image/png": "[encoded data removed]",
      "text/plain": [
       "<Figure size 640x480 with 1 Axes>"
      ]
     },
     "metadata": {},
     "output_type": "display_data"
    }
   ],
   "source": [
    "plt.hist( samples)"
   ]
  },
  {
   "cell_type": "code",
   "execution_count": null,
   "id": "eb881057",
   "metadata": {},
   "outputs": [],
   "source": []
  },
  {
   "cell_type": "code",
   "execution_count": null,
   "id": "7574fac6",
   "metadata": {},
   "outputs": [],
   "source": []
  },
  {
   "cell_type": "code",
   "execution_count": null,
   "id": "c3f4eb7e",
   "metadata": {},
   "outputs": [],
   "source": []
  },
  {
   "cell_type": "code",
   "execution_count": null,
   "id": "aa65b7a0",
   "metadata": {},
   "outputs": [],
   "source": []
  },
  {
   "cell_type": "code",
   "execution_count": null,
   "id": "c69d097b",
   "metadata": {},
   "outputs": [],
   "source": []
  }
 ],
 "metadata": {
  "hide_input": false,
  "kernelspec": {
   "display_name": "Python 3 (ipykernel)",
   "language": "python",
   "name": "python3"
  },
  "language_info": {
   "codemirror_mode": {
    "name": "ipython",
    "version": 3
   },
   "file_extension": ".py",
   "mimetype": "text/x-python",
   "name": "python",
   "nbconvert_exporter": "python",
   "pygments_lexer": "ipython3",
   "version": "3.10.10"
  },
  "toc": {
   "base_numbering": 1,
   "nav_menu": {},
   "number_sections": true,
   "sideBar": true,
   "skip_h1_title": false,
   "title_cell": "Table of Contents",
   "title_sidebar": "Contents",
   "toc_cell": false,
   "toc_position": {},
   "toc_section_display": true,
   "toc_window_display": false
  },
  "varInspector": {
   "cols": {
    "lenName": 16,
    "lenType": 16,
    "lenVar": 40
   },
   "kernels_config": {
    "python": {
     "delete_cmd_postfix": "",
     "delete_cmd_prefix": "del ",
     "library": "var_list.py",
     "varRefreshCmd": "print(var_dic_list())"
    },
    "r": {
     "delete_cmd_postfix": ") ",
     "delete_cmd_prefix": "rm(",
     "library": "var_list.r",
     "varRefreshCmd": "cat(var_dic_list()) "
    }
   },
   "types_to_exclude": [
    "module",
    "function",
    "builtin_function_or_method",
    "instance",
    "_Feature"
   ],
   "window_display": false
  }
 },
 "nbformat": 4,
 "nbformat_minor": 5
}

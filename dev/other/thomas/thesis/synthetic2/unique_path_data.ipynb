{
 "cells": [
  {
   "cell_type": "markdown",
   "metadata": {},
   "source": [
    "## Imports"
   ]
  },
  {
   "cell_type": "code",
   "execution_count": 1,
   "metadata": {},
   "outputs": [],
   "source": [
    "# Standard library imports\n",
    "import os\n",
    "import random\n",
    "import pickle\n",
    "\n",
    "# Data analysis packages\n",
    "import numpy as np\n",
    "import pandas as pd\n",
    "from scipy.signal import correlate, correlation_lags\n",
    "from scipy.ndimage import gaussian_filter1d\n",
    "\n",
    "# Visualization packages\n",
    "import matplotlib.pyplot as plt\n",
    "import matplotlib.patches as patches\n",
    "from matplotlib.patches import FancyArrow, Patch, Circle\n",
    "import matplotlib.colors as mcolors\n",
    "from matplotlib.colors import LinearSegmentedColormap\n",
    "from matplotlib.lines import Line2D\n",
    "\n",
    "# Image processing packages\n",
    "import imageio\n",
    "from PIL import Image, ImageSequence\n",
    "\n",
    "# Braingeneers packages for analysis\n",
    "import braingeneers\n",
    "import braingeneers.data.datasets_electrophysiology as ephys\n",
    "from braingeneers.analysis.analysis import SpikeData, read_phy_files, load_spike_data, burst_detection, randomize_raster"
   ]
  },
  {
   "cell_type": "markdown",
   "metadata": {},
   "source": [
    "# Helper Functions"
   ]
  },
  {
   "cell_type": "code",
   "execution_count": 2,
   "metadata": {},
   "outputs": [],
   "source": [
    "# Function to get neuron positions\n",
    "def get_neuron_positions(spike_data):\n",
    "    # Extract neuron positions from spike_data\n",
    "    neuron_x = []\n",
    "    neuron_y = []\n",
    "    for neuron in spike_data.neuron_data['positions'].values():\n",
    "        neuron_x.append(neuron['position'][0])\n",
    "        neuron_y.append(neuron['position'][1])\n",
    "    neuron_positions = np.array([neuron_x, neuron_y]).T\n",
    "    return neuron_positions\n",
    "\n",
    "def calculate_mean_firing_rates(spike_data):\n",
    "    mean_firing_rates = []\n",
    "    for neuron_spikes in spike_data.train:\n",
    "        num_spikes = len(neuron_spikes)\n",
    "        time_duration = spike_data.length / 1000  # Assuming spike times are in milliseconds\n",
    "        firing_rate = num_spikes / time_duration\n",
    "        mean_firing_rates.append(firing_rate)\n",
    "\n",
    "    return np.array(mean_firing_rates)\n",
    "\n",
    "def plot_raster(sd, title):\n",
    "    idces, times = sd.idces_times()\n",
    "    # Adjust the figsize parameter to change the figure size; (width, height) in inches\n",
    "    fig, ax = plt.subplots(figsize=(10, 6))  # Example: 10 inches wide by 6 inches tall\n",
    "\n",
    "    ax.scatter(times/1000, idces, marker='|', s=1)\n",
    "    ax.set_xlabel(\"Time(s)\")\n",
    "    ax.set_ylabel('Unit #')\n",
    "    ax.set_title(title)\n",
    "    plt.show()\n",
    "\n",
    "def firing_plotter(sd, global_min_rate, global_max_rate):\n",
    "    # Custom colormap from pale red/pink to dark red/black\n",
    "    colors = [\"#ffcccb\", \"#ff6961\", \"#ff5c5c\", \"#ff1c00\", \"#bf0000\", \"#800000\", \"#400000\", \"#000000\"]\n",
    "    cmap_name = \"custom_red_black\"\n",
    "    n_bins = 100  # More bins will give us a finer gradient\n",
    "    cm = LinearSegmentedColormap.from_list(cmap_name, colors, N=n_bins)\n",
    "\n",
    "    firing_rates = calculate_mean_firing_rates(sd)\n",
    "    neuron_x, neuron_y = [], []\n",
    "    # Extract neuron positions\n",
    "    for i, neuron in sd.neuron_data['positions'].items():\n",
    "        neuron_x.append(neuron['position'][0])\n",
    "        neuron_y.append(neuron['position'][1])\n",
    "\n",
    "    plt.figure(figsize=(8, 6))\n",
    "    # Plotting a small pale blue square at each neuron position\n",
    "    plt.scatter(neuron_x, neuron_y, s=10, c='#add8e6', marker='s', alpha=0.6)\n",
    "    scatter = plt.scatter(neuron_x, neuron_y, s=firing_rates*1.5, c=firing_rates, alpha=0.6, cmap=cm, vmin=global_min_rate, vmax=75)\n",
    "\n",
    "    # Creating dummy plots for the legend\n",
    "    for rate in [20, 40, 60]:  # Example firing rates\n",
    "        plt.scatter([], [], s=rate*1.5, c='gray', alpha=0.6, label=f'{rate} Hz')\n",
    "\n",
    "    plt.title(\"Animation of Firing Rates for Synthetic Wave-Propagation Data\")\n",
    "    plt.xlabel(\"X Position\")\n",
    "    plt.ylabel(\"Y Position\")\n",
    "    plt.colorbar(scatter, label='Firing Rate (Hz)')\n",
    "    plt.gca().invert_yaxis()\n",
    "\n",
    "    # Adding the legend for sizes with title\n",
    "    plt.legend(scatterpoints=1, frameon=False, labelspacing=1, title='Firing Rate', loc='upper right')\n",
    "\n",
    "    # plt.show()"
   ]
  },
  {
   "cell_type": "markdown",
   "metadata": {},
   "source": [
    "## Data Generator"
   ]
  },
  {
   "cell_type": "code",
   "execution_count": 33,
   "metadata": {},
   "outputs": [],
   "source": [
    "def generate_loop_wave_data(total_duration_ms, num_loops, rows, cols, overlap_duration_ms, break_duration_ms):\n",
    "    N_channels = rows * cols\n",
    "    adjusted_total_duration_ms = total_duration_ms - (break_duration_ms * (num_loops - 1))\n",
    "    loop_duration_ms = adjusted_total_duration_ms / num_loops\n",
    "\n",
    "    center_x, center_y = (rows - 1) / 2, (cols - 1) / 2\n",
    "    max_distance = np.sqrt((center_x) ** 2 + (center_y) ** 2)\n",
    "    circle_radius = max_distance / 2  # Assuming the circle is at half the max distance\n",
    "    thickness = 2  # Thickness of the circle in neurons\n",
    "\n",
    "    # Initialize positions\n",
    "    positions = [(x, y) for x in range(rows) for y in range(cols)]\n",
    "    distances = [np.sqrt((x - center_x) ** 2 + (y - center_y) ** 2) for x, y in positions]\n",
    "    angles = [np.arctan2(y - center_y, x - center_x) for x, y in positions]\n",
    "\n",
    "    # Filter positions for those on the circle and sort them by angle\n",
    "    circle_positions = [(index, pos, dist, angle) for index, (pos, dist, angle) in enumerate(zip(positions, distances, angles))\n",
    "                        if circle_radius - thickness <= dist <= circle_radius + thickness]\n",
    "    circle_positions_sorted = sorted(circle_positions, key=lambda x: x[3])  # Sort by angle\n",
    "\n",
    "    # Initialize train with empty lists for each channel\n",
    "    train_loop_wave = [[] for _ in range(N_channels)]\n",
    "\n",
    "    # Generate spike times for neurons on the circle\n",
    "    for loop in range(num_loops):\n",
    "        loop_start = loop * (loop_duration_ms + break_duration_ms)\n",
    "        for i, (neuron_index, _, _, _) in enumerate(circle_positions_sorted):\n",
    "            # Calculate firing time based on position in sequence\n",
    "            position_in_sequence = i / len(circle_positions_sorted)\n",
    "            firing_time_within_loop = position_in_sequence * (loop_duration_ms - overlap_duration_ms)\n",
    "            spike_time_start = loop_start + firing_time_within_loop\n",
    "            spike_time_end = spike_time_start + overlap_duration_ms\n",
    "            spike_times = np.linspace(spike_time_start, spike_time_end, int(overlap_duration_ms / 10))\n",
    "\n",
    "            train_loop_wave[neuron_index].extend(spike_times)\n",
    "\n",
    "    # Convert lists to numpy arrays\n",
    "    train_loop_wave = [np.array(times) for times in train_loop_wave]\n",
    "\n",
    "    # Initialize neuron_data with positions\n",
    "    neuron_data = {'positions': {i: {'position': positions[i]} for i in range(N_channels)}}\n",
    "\n",
    "    # Assume SpikeData is defined elsewhere\n",
    "    spike_data_loop_wave = SpikeData(train=train_loop_wave, N=N_channels, length=total_duration_ms, neuron_data=neuron_data)\n",
    "\n",
    "    return spike_data_loop_wave"
   ]
  },
  {
   "cell_type": "markdown",
   "metadata": {},
   "source": [
    "## Data"
   ]
  },
  {
   "cell_type": "code",
   "execution_count": 34,
   "metadata": {},
   "outputs": [],
   "source": [
    "overlap_spike_data = generate_loop_wave_data(\n",
    "    total_duration_ms=60 * 1000,  # 60 seconds in milliseconds\n",
    "    num_loops=10,\n",
    "    rows=16,\n",
    "    cols=16,\n",
    "    overlap_duration_ms=100,\n",
    "    break_duration_ms=2000\n",
    ")\n",
    "\n",
    "# overlap_spike_data = generate_overlap_spiral_data(\n",
    "#     total_duration_ms=60 * 1000,  # 60 seconds in milliseconds\n",
    "#     num_propagations=10,\n",
    "#     rows=16,\n",
    "#     cols=16,\n",
    "#     overlap_duration_ms=100,\n",
    "#     break_duration_ms=2000,\n",
    "#     angular_step_degrees=45\n",
    "# )\n",
    "\n",
    "# overlap_spike_data = generate_drawing_circle_data(\n",
    "#     total_duration_ms=60 * 1000,  # 60 seconds in milliseconds\n",
    "#     num_propagations=10,\n",
    "#     rows=16,\n",
    "#     cols=16,\n",
    "#     overlap_duration_ms=100,\n",
    "#     break_duration_ms=2000 \n",
    "#      # 5 seconds\n",
    "# )\n",
    "\n",
    "# overlap_spike_data = generate_overlap_spike_data(\n",
    "#     total_duration_ms=60 * 1000,  # 60 seconds in milliseconds\n",
    "#     num_propagations=10,\n",
    "#     rows=16,\n",
    "#     cols=16,\n",
    "#     overlap_duration_ms=100,\n",
    "#     break_duration_ms=2000 \n",
    "#      # 5 seconds\n",
    "# )"
   ]
  },
  {
   "cell_type": "code",
   "execution_count": 35,
   "metadata": {},
   "outputs": [
    {
     "data": {
      "image/png": "[encoded data removed]",
      "text/plain": [
       "<Figure size 1000x600 with 1 Axes>"
      ]
     },
     "metadata": {},
     "output_type": "display_data"
    }
   ],
   "source": [
    "plot_raster(overlap_spike_data, \"Random Overlap Circle Data\")"
   ]
  },
  {
   "cell_type": "code",
   "execution_count": 32,
   "metadata": {},
   "outputs": [],
   "source": [
    "# Save the spikedata with pickle\n",
    "with open('data/loop_overlap_spike_data.pkl', 'wb') as f:\n",
    "    pickle.dump(overlap_spike_data, f)"
   ]
  }
 ],
 "metadata": {
  "kernelspec": {
   "display_name": "notebook",
   "language": "python",
   "name": "python3"
  },
  "language_info": {
   "codemirror_mode": {
    "name": "ipython",
    "version": 3
   },
   "file_extension": ".py",
   "mimetype": "text/x-python",
   "name": "python",
   "nbconvert_exporter": "python",
   "pygments_lexer": "ipython3",
   "version": "3.10.0"
  }
 },
 "nbformat": 4,
 "nbformat_minor": 2
}

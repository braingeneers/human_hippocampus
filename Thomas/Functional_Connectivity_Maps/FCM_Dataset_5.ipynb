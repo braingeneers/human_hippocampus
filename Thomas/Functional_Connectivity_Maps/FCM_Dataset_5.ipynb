{
 "cells": [
  {
   "cell_type": "markdown",
   "id": "13091a68",
   "metadata": {},
   "source": [
    "# Error mesage"
   ]
  },
  {
   "cell_type": "markdown",
   "id": "a6b46e1a",
   "metadata": {},
   "source": [
    "This code shows that an error occures when we try to run the function  `fcm.FCM_Plotter`"
   ]
  },
  {
   "cell_type": "code",
   "execution_count": 1,
   "id": "1642e288",
   "metadata": {},
   "outputs": [],
   "source": [
    "import os\n",
    "import re\n",
    "import glob\n",
    "import random\n",
    "import numpy as np\n",
    "import scipy\n",
    "import scipy.io as sio\n",
    "import scipy.ndimage as ndimage\n",
    "from scipy.ndimage import gaussian_filter1d\n",
    "import pandas as pd\n",
    "import matplotlib.pyplot as plt\n",
    "import matplotlib.colors as mcolors\n",
    "import matplotlib.patches as patches\n",
    "from matplotlib.patches import Patch, Circle\n",
    "from matplotlib.lines import Line2D\n",
    "from PIL import Image\n",
    "import ipywidgets as ipw\n",
    "from ipywidgets import interact, interactive, fixed, interact_manual  # package for interactive widgets \n",
    "import braingeneers                                                   # Braingeneers code\n",
    "from braingeneers.analysis.analysis import SpikeData, read_phy_files\n",
    "import braingeneers.data.datasets_electrophysiology as ephys\n",
    "from IPython.display import HTML, display, Javascript, clear_output"
   ]
  },
  {
   "cell_type": "code",
   "execution_count": 2,
   "id": "7a342d59",
   "metadata": {},
   "outputs": [],
   "source": [
    "import fcm_fix"
   ]
  },
  {
   "cell_type": "code",
   "execution_count": 3,
   "id": "f24fa965",
   "metadata": {},
   "outputs": [],
   "source": [
    "file = '/home/jovyan/work/Experiment/data/ephys/2023-04-02-hc328_rec/derived/kilosort2/2023_04_02_hc328_5_curated.zip'"
   ]
  },
  {
   "cell_type": "code",
   "execution_count": 4,
   "id": "d764fee8",
   "metadata": {
    "scrolled": true
   },
   "outputs": [
    {
     "name": "stderr",
     "output_type": "stream",
     "text": [
      "/tmp/ipykernel_19043/1125946852.py:1: DeprecationWarning: Call to deprecated function (or staticmethod) read_phy_files. (Prefer load_spike_data()) -- Deprecated since version 0.1.13.\n",
      "  sd = read_phy_files(file)\n"
     ]
    }
   ],
   "source": [
    "sd = read_phy_files(file)"
   ]
  },
  {
   "cell_type": "code",
   "execution_count": 5,
   "id": "64715dc2",
   "metadata": {},
   "outputs": [
    {
     "data": {
      "text/plain": [
       "70078.40000000001"
      ]
     },
     "execution_count": 5,
     "metadata": {},
     "output_type": "execute_result"
    }
   ],
   "source": [
    "sd.length"
   ]
  },
  {
   "cell_type": "code",
   "execution_count": 7,
   "id": "6a3c6e37",
   "metadata": {},
   "outputs": [],
   "source": [
    "fcm_fix.FCM_Plotter(file, 0, 70, \"Functional Connectivity Map (2023_04_02_hc328_5_curated.zip)\", 0.2, 50, 0.5, \"yes\")"
   ]
  },
  {
   "cell_type": "code",
   "execution_count": null,
   "id": "a0cd0381",
   "metadata": {},
   "outputs": [],
   "source": []
  }
 ],
 "metadata": {
  "hide_input": false,
  "kernelspec": {
   "display_name": "Python 3 (ipykernel)",
   "language": "python",
   "name": "python3"
  },
  "language_info": {
   "codemirror_mode": {
    "name": "ipython",
    "version": 3
   },
   "file_extension": ".py",
   "mimetype": "text/x-python",
   "name": "python",
   "nbconvert_exporter": "python",
   "pygments_lexer": "ipython3",
   "version": "3.10.10"
  },
  "toc": {
   "base_numbering": 1,
   "nav_menu": {},
   "number_sections": true,
   "sideBar": true,
   "skip_h1_title": false,
   "title_cell": "Table of Contents",
   "title_sidebar": "Contents",
   "toc_cell": false,
   "toc_position": {},
   "toc_section_display": true,
   "toc_window_display": false
  },
  "varInspector": {
   "cols": {
    "lenName": 16,
    "lenType": 16,
    "lenVar": 40
   },
   "kernels_config": {
    "python": {
     "delete_cmd_postfix": "",
     "delete_cmd_prefix": "del ",
     "library": "var_list.py",
     "varRefreshCmd": "print(var_dic_list())"
    },
    "r": {
     "delete_cmd_postfix": ") ",
     "delete_cmd_prefix": "rm(",
     "library": "var_list.r",
     "varRefreshCmd": "cat(var_dic_list()) "
    }
   },
   "types_to_exclude": [
    "module",
    "function",
    "builtin_function_or_method",
    "instance",
    "_Feature"
   ],
   "window_display": false
  }
 },
 "nbformat": 4,
 "nbformat_minor": 5
}

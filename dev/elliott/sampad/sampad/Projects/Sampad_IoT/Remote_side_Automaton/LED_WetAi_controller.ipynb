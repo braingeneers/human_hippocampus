{
 "cells": [
  {
   "cell_type": "markdown",
   "id": "4197760f",
   "metadata": {},
   "source": [
    "<font size=7>WetAI Controller"
   ]
  },
  {
   "cell_type": "markdown",
   "id": "84c96187",
   "metadata": {
    "cell_style": "center"
   },
   "source": [
    "This example code is used to control Sampad's equipment through WetAI. It is meant to eventually replace the Google collab code he created."
   ]
  },
  {
   "cell_type": "markdown",
   "id": "b8b98840",
   "metadata": {},
   "source": [
    "# Edits made to computer"
   ]
  },
  {
   "cell_type": "markdown",
   "id": "e036b75d",
   "metadata": {},
   "source": [
    "Put any change you made your computer's OS here"
   ]
  },
  {
   "cell_type": "code",
   "execution_count": null,
   "id": "752b6472",
   "metadata": {},
   "outputs": [],
   "source": [
    "# pip install example_pacakge"
   ]
  },
  {
   "cell_type": "markdown",
   "id": "8b11ae52",
   "metadata": {},
   "source": [
    "# LED control from WetAi"
   ]
  },
  {
   "cell_type": "markdown",
   "id": "b4639a6a",
   "metadata": {},
   "source": [
    "Import the braingeneers example package"
   ]
  },
  {
   "cell_type": "code",
   "execution_count": null,
   "id": "5c015981",
   "metadata": {},
   "outputs": [],
   "source": [
    "from braingeneers.iot import messaging\n",
    "import uuid\n",
    "import json"
   ]
  },
  {
   "cell_type": "markdown",
   "id": "9df27af5",
   "metadata": {},
   "source": [
    "Import widgets"
   ]
  },
  {
   "cell_type": "code",
   "execution_count": null,
   "id": "7ff3114e",
   "metadata": {},
   "outputs": [],
   "source": [
    "import ipywidgets as widgets"
   ]
  },
  {
   "cell_type": "markdown",
   "id": "041e8a90",
   "metadata": {},
   "source": [
    "Check boxes"
   ]
  },
  {
   "cell_type": "code",
   "execution_count": null,
   "id": "dc68a669",
   "metadata": {},
   "outputs": [],
   "source": [
    "LED1 = widgets.Checkbox(\n",
    "    value=False,\n",
    "    description='LED 1',\n",
    "    disabled=False\n",
    ")\n",
    "\n",
    "LED2 = widgets.Checkbox(\n",
    "    value=False,\n",
    "    description='LED 2',\n",
    "    disabled=False\n",
    ")"
   ]
  },
  {
   "cell_type": "code",
   "execution_count": null,
   "id": "6a5e510f",
   "metadata": {},
   "outputs": [],
   "source": [
    "display(LED1)\n",
    "display(LED2)"
   ]
  },
  {
   "cell_type": "code",
   "execution_count": null,
   "id": "60a3605c",
   "metadata": {},
   "outputs": [],
   "source": [
    "message = \"{};{}\".format(LED1,LED2)\n",
    "message"
   ]
  },
  {
   "cell_type": "markdown",
   "id": "e3aa0636",
   "metadata": {},
   "source": [
    "Send a message to sampad's device"
   ]
  },
  {
   "cell_type": "code",
   "execution_count": null,
   "id": "cf517ed4",
   "metadata": {},
   "outputs": [],
   "source": [
    "mb = messaging.MessageBroker(str(uuid.uuid4))\n",
    "mb.publish_message(topic=\"Sampad_Device\", message={\"message\":message})"
   ]
  },
  {
   "cell_type": "code",
   "execution_count": null,
   "id": "aeebbf0e",
   "metadata": {},
   "outputs": [],
   "source": [
    "mb.shutdown()"
   ]
  }
 ],
 "metadata": {
  "hide_input": false,
  "kernelspec": {
   "display_name": "Python 3 (ipykernel)",
   "language": "python",
   "name": "python3"
  },
  "language_info": {
   "codemirror_mode": {
    "name": "ipython",
    "version": 3
   },
   "file_extension": ".py",
   "mimetype": "text/x-python",
   "name": "python",
   "nbconvert_exporter": "python",
   "pygments_lexer": "ipython3",
   "version": "3.9.7"
  },
  "toc": {
   "base_numbering": 1,
   "nav_menu": {},
   "number_sections": false,
   "sideBar": true,
   "skip_h1_title": false,
   "title_cell": "Table of Contents",
   "title_sidebar": "Contents",
   "toc_cell": false,
   "toc_position": {},
   "toc_section_display": true,
   "toc_window_display": false
  }
 },
 "nbformat": 4,
 "nbformat_minor": 5
}

{
 "cells": [
  {
   "cell_type": "code",
   "execution_count": null,
   "metadata": {},
   "outputs": [],
   "source": []
  },
  {
   "cell_type": "markdown",
   "metadata": {},
   "source": [
    "**Infant Dentate Gyrus**\n",
    "\n",
    "* Filename: hc9.19_chp-16849_plated-10.19.22_rec10.19.22_curated.zip:\n",
    "* Number of spikes:  31673\n",
    "* Length:  1269 seconds\n",
    "* Number of Neurons:  20\n",
    "* Average Firing Rate:  1.25\n",
    "* Coefficient of Variation:  1.304\n",
    "\n",
    "<font color=\"orange\">Other Notes-- the file, `hc9.19_chp-16849_plated-10.19.22_rec10.20.22_curated.zip` Looks potentially promissing but was not readable.</font> "
   ]
  },
  {
   "cell_type": "code",
   "execution_count": null,
   "metadata": {},
   "outputs": [],
   "source": []
  }
 ],
 "metadata": {
  "kernelspec": {
   "display_name": "notebook",
   "language": "python",
   "name": "python3"
  },
  "language_info": {
   "codemirror_mode": {
    "name": "ipython",
    "version": 3
   },
   "file_extension": ".py",
   "mimetype": "text/x-python",
   "name": "python",
   "nbconvert_exporter": "python",
   "pygments_lexer": "ipython3",
   "version": "3.10.0"
  }
 },
 "nbformat": 4,
 "nbformat_minor": 2
}

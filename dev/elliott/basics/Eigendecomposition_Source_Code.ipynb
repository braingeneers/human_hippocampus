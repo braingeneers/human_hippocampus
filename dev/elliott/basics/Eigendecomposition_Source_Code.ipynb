{
 "cells": [
  {
   "cell_type": "markdown",
   "id": "e5a07158",
   "metadata": {},
   "source": [
    "<font size=8 face=\"Courier\"><b>Eigendecomposition Source Code"
   ]
  },
  {
   "cell_type": "code",
   "execution_count": null,
   "id": "934ee1d8",
   "metadata": {},
   "outputs": [],
   "source": [
    "print(\"Loading: Eigendecomposition_Source_Code.ipynb...\")"
   ]
  },
  {
   "cell_type": "markdown",
   "id": "eb45b671",
   "metadata": {},
   "source": [
    "To do:\n",
    "\n",
    "- Add comments to rotation code<font color=\"green\"> --Done!\n",
    "- Create randomized first 5 randomized eigenvectors plot in both neuron layout view and eigenvector plots (basis)<font color=\"green\"> --Done!\n",
    "- add seed option for randomizer<font color=\"green\"> --Done!"
   ]
  },
  {
   "cell_type": "markdown",
   "id": "52251ee8",
   "metadata": {},
   "source": [
    "# <font color=\"gray\">Import Stuff"
   ]
  },
  {
   "cell_type": "code",
   "execution_count": null,
   "id": "a38417cc",
   "metadata": {},
   "outputs": [],
   "source": [
    "import pytz\n",
    "import numpy as np                                                    # Packages for data analysis\n",
    "import pandas as pd\n",
    "import random as rand\n",
    "import matplotlib.pyplot as plt\n",
    "import matplotlib.colors as mcolors\n",
    "import matplotlib.patches as patches\n",
    "from matplotlib.patches import Patch, Circle\n",
    "from matplotlib.lines import Line2D\n",
    "from scipy.ndimage import gaussian_filter1d\n",
    "from datetime import datetime\n",
    "import braingeneers                                                   # Braingeneers code\n",
    "from braingeneers.analysis.analysis import SpikeData, read_phy_files, load_spike_data, burst_detection, randomize_raster\n",
    "import braingeneers.data.datasets_electrophysiology as ephys\n",
    "import ipywidgets as ipw\n",
    "from ipywidgets import interact, interactive, fixed, interact_manual  # package for interactive widgets from IPython.display import HTML, display, Javascript, clear_output,\n",
    "from IPython.display import HTML, display, Javascript, clear_output"
   ]
  },
  {
   "cell_type": "code",
   "execution_count": null,
   "id": "f798ab93",
   "metadata": {},
   "outputs": [],
   "source": [
    "data_folders = !ls /home/jovyan/work/Human_Hippocampus/data/ephys"
   ]
  },
  {
   "cell_type": "code",
   "execution_count": null,
   "id": "850ba841",
   "metadata": {},
   "outputs": [],
   "source": [
    "Timezone = pytz.timezone(\"America/Los_Angeles\")"
   ]
  },
  {
   "cell_type": "code",
   "execution_count": null,
   "id": "3acbfc78",
   "metadata": {},
   "outputs": [],
   "source": [
    "# OTHER PATHS:\n",
    "# 2023-04-03-hc328b_ChR2\n",
    "# 2023-04-04-e-hc328_hckcr1-2_040423_recs\n",
    "# 2023-04-05-e-hc328_040523\n",
    "# 2023-05-09-e-hc52_18763\n",
    "# 2023-05-10-e-hc52_18790"
   ]
  },
  {
   "cell_type": "markdown",
   "id": "4d862c46",
   "metadata": {},
   "source": [
    "# <font color=\"blue\">Settings"
   ]
  },
  {
   "cell_type": "markdown",
   "id": "0a272195",
   "metadata": {},
   "source": [
    "Loads recording (ephys) data from a set of paths"
   ]
  },
  {
   "cell_type": "code",
   "execution_count": null,
   "id": "327cef78",
   "metadata": {},
   "outputs": [],
   "source": [
    "def loadData(FolderName):\n",
    "    global folder;\n",
    "    folder = FolderName\n",
    "    filesTemp = !ls /home/jovyan/work/Human_Hippocampus/data/ephys/{folder}/derived/kilosort2/*curated*\n",
    "    \n",
    "    files = []\n",
    "    for file in filesTemp: \n",
    "        namescomp = file.split(f\"/home/jovyan/work/Human_Hippocampus/data/ephys/{folder}/derived/kilosort2/\")\n",
    "        files.append(str(namescomp[1]))\n",
    "    \n",
    "    interact_manual( loadFile, FileName=files )\n",
    "    "
   ]
  },
  {
   "cell_type": "code",
   "execution_count": null,
   "id": "847b2e1e",
   "metadata": {},
   "outputs": [],
   "source": [
    "def loadFile(FileName):\n",
    "    global file; global sd;\n",
    "    \n",
    "    file = FileName\n",
    "    print(f\"Loading {file} from dataset: {folder}...\")\n",
    "    #experiment = \"help\"\n",
    "    #sd = load_spike_data(folder, basepath='../data/')\n",
    "    #sd = load_spike_data(f\"../data/ephys/{folder}/derived/kilosort2/{file}\")\n",
    "    #sd = load_spike_data(folder, experiment=file, basepath=f'../data/ephys/')\n",
    "    sd = read_phy_files(f\"../data/ephys/{folder}/derived/kilosort2/{file}\") \n",
    "    \n",
    "    now = datetime.now(Timezone)\n",
    "    printNow = now.strftime(\"%Y/%m/%d %H:%M:%S\")\n",
    "\n",
    "    print(f\"Done at: {printNow}\")"
   ]
  },
  {
   "cell_type": "code",
   "execution_count": null,
   "id": "11f6ccf3",
   "metadata": {},
   "outputs": [],
   "source": [
    "#interact_manual( loadData, FolderName=data_folders)"
   ]
  },
  {
   "cell_type": "markdown",
   "id": "e8cc7871",
   "metadata": {},
   "source": [
    "Allows user to select display color "
   ]
  },
  {
   "cell_type": "code",
   "execution_count": null,
   "id": "3b495d24",
   "metadata": {},
   "outputs": [],
   "source": [
    "#Default Color Selection:\n",
    "plot_color = \"magma\""
   ]
  },
  {
   "cell_type": "code",
   "execution_count": null,
   "id": "c987aeab",
   "metadata": {},
   "outputs": [],
   "source": [
    "colors = ['viridis', 'plasma', 'inferno', 'magma', 'cividis', 'binary', 'bone', 'pink', 'spring', 'summer', 'autumn', 'winter', 'cool', 'Wistia', 'hot', 'afmhot', 'RdBu']"
   ]
  },
  {
   "cell_type": "markdown",
   "id": "a73702f8",
   "metadata": {},
   "source": [
    "other color schecmes can be found at https://matplotlib.org/stable/tutorials/colors/colormaps.html"
   ]
  },
  {
   "cell_type": "code",
   "execution_count": null,
   "id": "2e6850f2",
   "metadata": {},
   "outputs": [],
   "source": [
    "def ColorSelect(selection):\n",
    "    global plot_color;\n",
    "    plot_color = selection\n",
    "    print(f'color selection: {plot_color}')"
   ]
  },
  {
   "cell_type": "code",
   "execution_count": null,
   "id": "2c523826",
   "metadata": {},
   "outputs": [],
   "source": [
    "#interact_manual( ColorSelect, selection=colors )"
   ]
  },
  {
   "cell_type": "markdown",
   "id": "fe7a22dc",
   "metadata": {},
   "source": [
    "# Functions"
   ]
  },
  {
   "cell_type": "code",
   "execution_count": null,
   "id": "d36aed67",
   "metadata": {},
   "outputs": [],
   "source": [
    "### Scratch Functions (cleanup later)\n",
    "\n",
    "def correlation(sd):\n",
    "    # Correlation\n",
    "    corr = np.zeros((sd.N,sd.N)) #inds by inds\n",
    "    \n",
    "    dense_raster = sd.raster(bin_size=1) # in ms\n",
    "    sigma = 5                            # Blur it\n",
    "    dense_raster = gaussian_filter1d(dense_raster.astype(float),sigma=sigma)\n",
    "    corr=np.corrcoef( dense_raster )\n",
    "        \n",
    "    return corr;\n",
    "    \n",
    "def plot_raster(sd, title=\"Spike Raster\", l1=-10, l2=False, xsize=10, ysize=6, analize=False):\n",
    "    if l2==False:\n",
    "        l2 = sd.length / 1000 + 10\n",
    "    \n",
    "    idces, times = sd.idces_times()\n",
    "    \n",
    "    if analize == True:\n",
    "        # Get population rate for everything\n",
    "        pop_rate = sd.binned(bin_size=1)  # in ms\n",
    "        # Lets smooth this to make it neater\n",
    "        sigma = 5\n",
    "        pop_rate_smooth = gaussian_filter1d(pop_rate.astype(float), sigma=sigma)\n",
    "        t = np.linspace(0, sd.length, pop_rate.shape[0]) / 1000\n",
    "\n",
    "        # Determine the stop_time if it's not provided\n",
    "        if l2 is None:\n",
    "            l2 = t[-1]\n",
    "\n",
    "        # Filter times and idces within the specified start and stop times\n",
    "        mask = (times >= l1 * 1000) & (times <= l2 * 1000)\n",
    "        times = times[mask]\n",
    "        idces = idces[mask]\n",
    "\n",
    "    fig, ax = plt.subplots(figsize=(xsize, ysize))\n",
    "    fig.suptitle(title)\n",
    "    ax.scatter(times/1000,idces,marker='|',s=1)\n",
    "    \n",
    "    if analize == True:\n",
    "        ax2 = ax.twinx()\n",
    "        ax2.plot(t, pop_rate_smooth, c='r')\n",
    "        ax2.set_ylabel('Firing Rate')\n",
    "        \n",
    "    ax.set_xlabel(\"Time(s)\")\n",
    "    ax.set_ylabel('Unit #')\n",
    "    plt.xlim(l1, l2)\n",
    "    plt.show()\n",
    "    \n",
    "def eigenvalues_eigenvectors(A):\n",
    "    W, U = np.linalg.eigh(A)\n",
    "    # The rank of A can be no greater than the smaller of its\n",
    "    # dimensions, so cut off the returned values there.\n",
    "    rank = min(*A.shape)\n",
    "    U = U[:,-rank:]\n",
    "    sgn = (-1)**(U[0,:] < 0)\n",
    "    # Also reverse the order of the eigenvalues because eigh()\n",
    "    # returns them in ascending order but descending makes more sense.\n",
    "    return W[-rank:][::-1], (U*sgn[np.newaxis,:])[:, ::-1]\n",
    "\n",
    "def toeplitz(M):\n",
    "    K = M.shape[0]\n",
    "    topz = np.zeros_like(M)\n",
    "    for i in range(1 - K, K):\n",
    "        meantopz = np.mean(np.diagonal(M, offset=i))\n",
    "        topz += np.eye(K, K, k=i) * meantopz\n",
    "        topz += np.eye(K, K, k=-i) * meantopz\n",
    "    return topz\n",
    "        \n",
    "def get_sttc(sd):\n",
    "    sttc = sd.spike_time_tilings()\n",
    "    return sttc\n",
    "    \n",
    "def reconstruct(W, U, rank):\n",
    "    Wd = np.diag(W[:rank])\n",
    "    Ur = U[:, :rank]\n",
    "    return Ur @ Wd @ Ur.T\n",
    "    \n",
    "def reconstruction_errors(A, ranks):\n",
    "    norm = np.linalg.norm(A)\n",
    "    W, U = eigenvalues_eigenvectors(A)\n",
    "    return np.array([\n",
    "        np.linalg.norm( reconstruct(W, U, rank) - A) / norm\n",
    "        for rank in ranks])\n",
    "\n",
    "def calculate_mean_firing_rates(spike_data):\n",
    "    mean_firing_rates = []\n",
    "    for neuron_spikes in spike_data.train:\n",
    "        num_spikes = len(neuron_spikes)\n",
    "        time_duration = spike_data.length / 1000  # Assuming spike times are in milliseconds\n",
    "        firing_rate = num_spikes / time_duration\n",
    "        mean_firing_rates.append(firing_rate)\n",
    "    return np.array(mean_firing_rates)"
   ]
  },
  {
   "cell_type": "markdown",
   "id": "7415c31c",
   "metadata": {},
   "source": [
    "# Subplots"
   ]
  },
  {
   "cell_type": "markdown",
   "id": "410e651c",
   "metadata": {},
   "source": [
    "Main command that plots all subplots:"
   ]
  },
  {
   "cell_type": "markdown",
   "id": "05652a79",
   "metadata": {},
   "source": [
    "## Correlation Methods Plot"
   ]
  },
  {
   "cell_type": "code",
   "execution_count": null,
   "id": "b9d493b1",
   "metadata": {},
   "outputs": [],
   "source": [
    "def corrMethPlots(Corr, STTC):\n",
    "    fig, plot = plt.subplot_mosaic(\"AB\", figsize=(14,7)) \n",
    "    \n",
    "    # Plot Correlation Matrix\n",
    "    pltA = plot[\"A\"].imshow(Corr, cmap=plot_color) # plot STTC matrix\n",
    "    plot[\"A\"].set_title(\"Correlation\")\n",
    "    plot[\"A\"].set_xlabel(\"Neuron index\")\n",
    "    plot[\"A\"].set_ylabel(\"Neuron index\" )\n",
    "    fig.colorbar(pltA, ax=plot[\"A\"], shrink=0.7)\n",
    "\n",
    "    # Plot STTC matrix\n",
    "    pltB = plot[\"B\"].imshow(STTC, cmap=plot_color) # plot STTC matrix\n",
    "    plot[\"B\"].set_title(\"STTC\")\n",
    "    plot[\"B\"].set_xlabel(\"Neuron index\")\n",
    "    plot[\"B\"].set_ylabel(\"Neuron index\" )\n",
    "    fig.colorbar(pltB, ax=plot[\"B\"], shrink=0.7)"
   ]
  },
  {
   "cell_type": "markdown",
   "id": "2050297e",
   "metadata": {},
   "source": [
    "## Eigenvector Analysis"
   ]
  },
  {
   "cell_type": "code",
   "execution_count": null,
   "id": "bdfad58e",
   "metadata": {},
   "outputs": [],
   "source": [
    "def EigenvectorAnalysis(corr, sttc):\n",
    "    \"\"\"figLayout = \n",
    "                AAABBB\n",
    "                CCCDDD\n",
    "                CCCDDD\n",
    "                CCCDDD\n",
    "                \"\"\"\n",
    "    \n",
    "    figLayout = \"\"\"\n",
    "                AABB\n",
    "                CCDD\n",
    "                CCDD\n",
    "                \"\"\"\n",
    "    \n",
    "    fig, plot = plt.subplot_mosaic(figLayout, figsize=(16,8))\n",
    "    fig.tight_layout(pad=5.0)\n",
    "    \n",
    "    # Plot Correlation basis\n",
    "    plot[\"A\"].stem(corr[:,0])\n",
    "    plot[\"A\"].set_xlabel('Observation Dimension')\n",
    "    plot[\"A\"].set_title('First Eigenvector of Correlation')    \n",
    "    \n",
    "    # Plot STTC basis\n",
    "    plot[\"B\"].stem(sttc[:,0])\n",
    "    plot[\"B\"].set_xlabel('Observation Dimension')\n",
    "    plot[\"B\"].set_title('First Eigenvector of STTC')    \n",
    "    \n",
    "    # Plot Correlation Matrix\n",
    "    pltC = plot[\"C\"].imshow(corr[:,:2*len(corr)].T, interpolation='none', cmap=plot_color)\n",
    "    #plot[\"A\"].gca().set_aspect('auto')\n",
    "    plot[\"C\"].set_ylabel('Eigenvector Number')\n",
    "    plot[\"C\"].set_xlabel('Observation Dimension')\n",
    "    plot[\"C\"].set_title('Eigenvectors of Correlation')\n",
    "    fig.colorbar(pltC, ax=plot[\"C\"], shrink=0.7)\n",
    "    \n",
    "    # Plot STTC matrix\n",
    "    pltD = plot[\"D\"].imshow(sttc[:,:2*len(sttc)].T, interpolation='none', cmap=plot_color)\n",
    "    #plot[\"B\"].gca().set_aspect('auto')\n",
    "    plot[\"D\"].set_ylabel('Eigenvector Number')\n",
    "    plot[\"D\"].set_xlabel('Observation Dimension')\n",
    "    plot[\"D\"].set_title('Eigenvectors of STTC')\n",
    "    fig.colorbar(pltD, ax=plot[\"D\"], shrink=0.7)"
   ]
  },
  {
   "cell_type": "markdown",
   "id": "b2849339",
   "metadata": {},
   "source": [
    "### <font color =\"green\"> Specialized Functions"
   ]
  },
  {
   "cell_type": "code",
   "execution_count": null,
   "id": "f0127d51",
   "metadata": {
    "code_folding": []
   },
   "outputs": [],
   "source": [
    "def plot_evectmatrix(corr, sttc):\n",
    "    fig, plot = plt.subplot_mosaic(\"AB\", figsize=(14,7))\n",
    "    \n",
    "    # Plot Correlation Matrix\n",
    "    pltA = plot[\"A\"].imshow(corr[:,:2*len(corr)].T, interpolation='none', cmap=plot_color)\n",
    "    #plot[\"A\"].gca().set_aspect('auto')\n",
    "    plot[\"A\"].set_ylabel('Eigenvector Number')\n",
    "    plot[\"A\"].set_xlabel('Observation Dimension')\n",
    "    plot[\"A\"].set_title('Eigenvectors of Correlation')\n",
    "    fig.colorbar(pltA, ax=plot[\"A\"], shrink=0.7)\n",
    "    \n",
    "    # Plot STTC matrix\n",
    "    pltA = plot[\"B\"].imshow(sttc[:,:2*len(sttc)].T, interpolation='none', cmap=plot_color)\n",
    "    #plot[\"B\"].gca().set_aspect('auto')\n",
    "    plot[\"B\"].set_ylabel('Eigenvector Number')\n",
    "    plot[\"B\"].set_xlabel('Observation Dimension')\n",
    "    plot[\"B\"].set_title('Eigenvectors of STTC')\n",
    "    fig.colorbar(pltA, ax=plot[\"B\"], shrink=0.7)"
   ]
  },
  {
   "cell_type": "code",
   "execution_count": null,
   "id": "5028743f",
   "metadata": {},
   "outputs": [],
   "source": [
    "def plot_basis(method):\n",
    "    \n",
    "    if method == \"Correlation\":\n",
    "        Corr = correlation(sd)\n",
    "        Wcorr, Ucorr = eigenvalues_eigenvectors(Corr)\n",
    "        A = Ucorr\n",
    "    else:\n",
    "        STTC = get_sttc(sd)\n",
    "        Wsttc, Usttc = eigenvalues_eigenvectors(STTC)\n",
    "        A = Usttc\n",
    "        \n",
    "    plt.figure(figsize=(6,8))\n",
    "    for i in range(5):\n",
    "        if i: plt.xticks([])\n",
    "        plt.subplot(5, 1, i+1)\n",
    "        plt.stem(A[:,i])\n",
    "    plt.xlabel('Observation Dimension')\n",
    "    plt.suptitle('First 5 Eigenvectors', y=0.92)    "
   ]
  },
  {
   "cell_type": "markdown",
   "id": "c86617ab",
   "metadata": {},
   "source": [
    "## Principle Component Analysis"
   ]
  },
  {
   "cell_type": "code",
   "execution_count": null,
   "id": "bf4b004d",
   "metadata": {},
   "outputs": [],
   "source": [
    "def PCAplots(corr, sttc):\n",
    "    plt.figure(figsize=(7,5))\n",
    "    plt.scatter(corr[0], corr[1]) # first two eigenvectors of correlation \n",
    "    plt.scatter(sttc[0], sttc[1]) # first two eigenvectors of STTC\n",
    "    plt.legend([\"Correlation Eigenvectors\", \"STTC Eigenvectors\"])\n",
    "    plt.title(\"Principle Components Analysis of Correlation Methods\")\n",
    "    plt.xlabel(\"PC1\")\n",
    "    plt.ylabel(\"PC2\")"
   ]
  },
  {
   "cell_type": "markdown",
   "id": "9f8ba263",
   "metadata": {},
   "source": [
    "## Reconstructions"
   ]
  },
  {
   "cell_type": "code",
   "execution_count": null,
   "id": "d6bda71c",
   "metadata": {},
   "outputs": [],
   "source": [
    "def ReconstructPlots(Wcorr, Wsttc, Corr, STTC):\n",
    "    fig, plot = plt.subplot_mosaic(\"AB\", figsize=(15,5)) \n",
    "    \n",
    "    # Eigenvalue spectrum ---------------------------------------------------------\n",
    "    index = 1 + np.arange(len(Wcorr))\n",
    "    plot[\"A\"].semilogy(index, Wcorr, label='Correlation')\n",
    "    plot[\"A\"].plot(index, Wsttc, label='STTC')\n",
    "    plot[\"A\"].set_title('Eigenvalue Spectrum')\n",
    "    plot[\"A\"].set_xlabel('Index')\n",
    "    plot[\"A\"].set_ylabel('Eigenvalue')\n",
    "    plot[\"A\"].axvline(len(Wcorr)+1, ls=':', c='k')\n",
    "    plot[\"A\"].legend(loc=\"upper right\");\n",
    "    \n",
    "    # Reconstruction Error --------------------------------------------------------\n",
    "    errs_corr = reconstruction_errors(Corr, range(len(Corr)))      # Correlation\n",
    "    errs_sttc = reconstruction_errors(STTC , range(len(STTC)))     # STTC   \n",
    "    \n",
    "    plot[\"B\"].plot(errs_corr, label='Correlation Matrix')          # Correlation\n",
    "    plot[\"B\"].plot(errs_sttc, label='STTC Matrix')                 # STTC\n",
    "    \n",
    "    plot[\"B\"].set_title(\"Reconstruction Error of Correlation Methods\")\n",
    "    plot[\"B\"].set_xlabel('Components Used in Reconstruction')\n",
    "    plot[\"B\"].set_ylabel('Relative Reconstruction Error')\n",
    "    plot[\"B\"].legend(loc=\"upper right\");\n",
    "    fig.show()"
   ]
  },
  {
   "cell_type": "markdown",
   "id": "05cd56d1",
   "metadata": {},
   "source": [
    "## Eigenvector Layout"
   ]
  },
  {
   "cell_type": "code",
   "execution_count": null,
   "id": "4f5e6a4d",
   "metadata": {},
   "outputs": [],
   "source": [
    "def evectLayout(sd, vect, threshold=0):\n",
    "    #x = electrode_mapping.x.values\n",
    "    #y = electrode_mapping.y.values\n",
    "\n",
    "    sttc = sd.spike_time_tilings()\n",
    "    firing_rates = calculate_mean_firing_rates(sd)\n",
    "    \n",
    "    neuron_x = []\n",
    "    neuron_y = []\n",
    "    #neuron_amp = []\n",
    "    for neuron in sd.neuron_data[0].values(): # Plots neurons on a 2-d space, representing their positions on the array\n",
    "    #     print(\"x,y:\",neuron['position'])\n",
    "        neuron_x.append(neuron['position'][0])\n",
    "\n",
    "        neuron_y.append(neuron['position'][1])\n",
    "        #neuron_amp.append(np.mean(neuron['amplitudes']))\n",
    "\n",
    "    # \n",
    "    plt.figure(figsize=(7,5)) \n",
    "    ax = plt.axes()\n",
    "    ax.set_facecolor(\"grey\")\n",
    "    #plt.scatter(neuron_x,neuron_y, s=neuron_amp, c=vect, cmap = plot_color) # color each plotted neuron according to the values of the eigenvector\n",
    "    plt.scatter(neuron_x,neuron_y, s=firing_rates*20, c=vect, cmap = plot_color) # color each plotted neuron according to the values of the eigenvector\n",
    "   \n",
    "    \n",
    "    for i in range(sttc.shape[0]): # plot connectivity lines between neurons\n",
    "        for j in range(sttc.shape[1]):\n",
    "\n",
    "            # Only need to do upper triangle since sttc' = sttc\n",
    "            if i<=j: continue\n",
    "\n",
    "            if sttc[i,j] < threshold : continue\n",
    "\n",
    "            #Position of neuron i\n",
    "            ix,iy = sd.neuron_data[0][i]['position']\n",
    "            jx,jy = sd.neuron_data[0][j]['position']\n",
    "\n",
    "            # Plot line between the points, linewidth is the sttc\n",
    "            plt.plot([ix,jx],[iy,jy], linewidth=sttc[i,j],c='k')\n",
    "            \n",
    "    plt.xlabel('um')\n",
    "    plt.ylabel('um')\n",
    "    plt.title(\"Neuron layout\")\n",
    "    plt.colorbar()\n",
    "    plt.show()"
   ]
  },
  {
   "cell_type": "markdown",
   "id": "55e1bbdf",
   "metadata": {},
   "source": [
    "### <font color=\"blue\"> Eigenvector Layout Settings"
   ]
  },
  {
   "cell_type": "code",
   "execution_count": null,
   "id": "8e1d5146",
   "metadata": {},
   "outputs": [],
   "source": [
    "method_options = [\"Correlation\", \"Spike Time Tiling\"]"
   ]
  },
  {
   "cell_type": "code",
   "execution_count": null,
   "id": "dc62adf2",
   "metadata": {
    "code_folding": []
   },
   "outputs": [],
   "source": [
    "def EigenvectorLayout(Method):\n",
    "    global ELayout_usemethod;\n",
    "    \n",
    "    if Method == \"Correlation\":\n",
    "        Corr = correlation(sd)\n",
    "        Wcorr, Ucorr = eigenvalues_eigenvectors(Corr)\n",
    "        ELayout_usemethod = Ucorr\n",
    "    else:\n",
    "        STTC = get_sttc(sd)\n",
    "        Wsttc, Usttc = eigenvalues_eigenvectors(STTC)\n",
    "        ELayout_usemethod = Usttc\n",
    "        \n",
    "    interact_manual( vectorSelect, Vector=(0,len(ELayout_usemethod),1), thresholdIn=(0,1,0.01)) "
   ]
  },
  {
   "cell_type": "code",
   "execution_count": null,
   "id": "7c1537f7",
   "metadata": {},
   "outputs": [],
   "source": [
    "def vectorSelect(Vector, thresholdIn):\n",
    "    evectLayout(sd, ELayout_usemethod[:,Vector], thresholdIn)"
   ]
  },
  {
   "cell_type": "code",
   "execution_count": null,
   "id": "b4683c95",
   "metadata": {},
   "outputs": [],
   "source": [
    "def vectorSelectV2(Vector):\n",
    "    evectLayout(sd, ELayout_usemethod[:,Vector])"
   ]
  },
  {
   "cell_type": "markdown",
   "id": "2b312c18",
   "metadata": {},
   "source": [
    "# <font color=\"red\">Random Permutations"
   ]
  },
  {
   "cell_type": "markdown",
   "id": "2af0874e",
   "metadata": {},
   "source": [
    "### Randomizers"
   ]
  },
  {
   "cell_type": "code",
   "execution_count": null,
   "id": "49c1ec70",
   "metadata": {},
   "outputs": [],
   "source": [
    "def random_rotation(sd, seedIn=np.random.randint(0, 1000000000)): #seed=np.random.randint(0, 10000)\n",
    "    # Randomizes a dataset while perseving an underlying structure by stitching sections of the train together at random points\n",
    "    RotatedTrain = []\n",
    "    TrainDat = sd.train\n",
    "    \n",
    "    np.random.seed(seedIn) # set random seed to seedIn\n",
    "    seeds = [np.random.randint(0, 1000000000) for _ in range(len(TrainDat))] # creat array of randomized seeds from seedIn\n",
    "    i = 0\n",
    "    \n",
    "    for neuron in TrainDat: # Loop through indiv neurons in train\n",
    "        neuronTrain = []\n",
    "        rand.seed(seeds[i]) # set random seed to one of seedIn's generated vals\n",
    "        i += 1\n",
    "        alpha = rand.randrange(1, len(neuron)) # Select random index\n",
    "        \n",
    "        index = alpha\n",
    "        prevtime = 0 # global time\n",
    "        while index < len(neuron): # Loop through neurons after alpha\n",
    "            firingInst = neuron[index] - neuron[index - 1] # calculate firing time difference\n",
    "            firingInst += prevtime # add difference to global time\n",
    "            neuronTrain.append(firingInst)\n",
    "            prevtime = firingInst # update global time\n",
    "            index += 1\n",
    "        index = 0\n",
    "        splitEndVal = neuronTrain[-1] # get last time value of the split\n",
    "        while index < alpha: # Loop through before alpha\n",
    "            neuronTrain.append(neuron[index] + splitEndVal) # add times of pre-alpha neurons to the last time value and append \n",
    "            index += 1\n",
    "        \n",
    "        RotatedTrain.append(np.array(neuronTrain))\n",
    "    return SpikeData(RotatedTrain, length=sd.length, N=sd.N, \n",
    "                         metadata=sd.metadata, neuron_data=sd.neuron_data,\n",
    "                         neuron_attributes=sd.neuron_attributes) # convert to spikedata object and return"
   ]
  },
  {
   "cell_type": "code",
   "execution_count": null,
   "id": "57254567",
   "metadata": {},
   "outputs": [],
   "source": [
    "def random_shuffle(sd, seedIn=np.random.randint(0, 1000000000)): #seed=np.random.randint(0, 10000)\n",
    "    # Randomizes a dataset while perseving an underlying structure by swaping firing times between neurons\n",
    "    Rastered = sd.raster(bin_size=1) # get spikedata's raster\n",
    "    RasterT = np.transpose(Rastered) # transpose raster to look at individual time slices\n",
    "    shuffleT = []\n",
    "    dt=1.0\n",
    "  \n",
    "    np.random.seed(seedIn) # set random seed to seedIn\n",
    "    seeds = [np.random.randint(0, 1000000000) for _ in range(len(RasterT))] # creat array of randomized seeds from seedIn\n",
    "    i = 0\n",
    "    \n",
    "    for timeslice in RasterT:\n",
    "        randslice = np.copy(timeslice) \n",
    "        np.random.seed(seeds[i]) # set local seed to a seedIn generated value for randomized shuffle\n",
    "        i += 1\n",
    "        np.random.shuffle(randslice) # shuffle timeslice\n",
    "        shuffleT.append(randslice) \n",
    "        \n",
    "    ShuffleRaster = np.transpose(shuffleT) # re-transpose raster to get origional orientation \n",
    "    idces, times = np.nonzero(ShuffleRaster)\n",
    "    \n",
    "    return SpikeData(idces, times*dt, length=sd.length, N=sd.N, \n",
    "                         metadata=sd.metadata, neuron_data=sd.neuron_data,\n",
    "                         neuron_attributes=sd.neuron_attributes)"
   ]
  },
  {
   "cell_type": "code",
   "execution_count": null,
   "id": "4d5e087e",
   "metadata": {},
   "outputs": [],
   "source": [
    "def KennethHarris(sd, dt=1.0, seed=None):\n",
    "        '''\n",
    "        Create a new SpikeData object which preserves the population\n",
    "        rate and mean firing rate of each neuron in an existing\n",
    "        SpikeData by randomly reallocating all spike times to different\n",
    "        neurons at a resolution given by dt.\n",
    "        '''\n",
    "        # Collect the spikes of the original Spikedata and define a new\n",
    "        # \"randomized spike matrix\" to store them in.\n",
    "        sm = sd.sparse_raster(dt)\n",
    "\n",
    "        idces, times = np.nonzero(randomize_raster(sm, seed))\n",
    "        return SpikeData(idces, times*dt, length=sd.length, N=sd.N,\n",
    "                         metadata=sd.metadata, neuron_data=sd.neuron_data,\n",
    "                         neuron_attributes=sd.neuron_attributes)"
   ]
  },
  {
   "cell_type": "markdown",
   "id": "e45db4af",
   "metadata": {},
   "source": [
    "### <font color=\"green\">Plot Random Matricies"
   ]
  },
  {
   "cell_type": "code",
   "execution_count": null,
   "id": "9bdea577",
   "metadata": {},
   "outputs": [],
   "source": [
    "def randomPlots(corr, sttc, toep, rcorr, rsttc, rtoep, randMethod):\n",
    "    figLayout = \"\"\" \n",
    "                ABC\n",
    "                DEF\n",
    "                \"\"\"\n",
    "    \n",
    "    fig, plot = plt.subplot_mosaic(figLayout, figsize=(18, 9))\n",
    "    fig.tight_layout(pad=5.0)\n",
    "    \n",
    "    # Original Plots ------------------------------------------------------------------------------\n",
    "    # Plot Correlation \n",
    "    pltA=plot[\"A\"].imshow(corr[:,:2*len(corr)].T, interpolation='none', cmap=plot_color) \n",
    "    plot[\"A\"].set_title(\"Correlation Eigenvectors\")\n",
    "    plot[\"A\"].set_ylabel('Eigenvector Number')\n",
    "    plot[\"A\"].set_xlabel('Observation Dimension')\n",
    "    fig.colorbar(pltA, ax=plot[\"A\"])\n",
    "    \n",
    "    # Plot Spike Time Tiling\n",
    "    pltB=plot[\"B\"].imshow(sttc[:,:2*len(sttc)].T, interpolation='none', cmap=plot_color) \n",
    "    plot[\"B\"].set_title(\"STTC Eigenvectors\")\n",
    "    plot[\"B\"].set_ylabel('Eigenvector Number')\n",
    "    plot[\"B\"].set_xlabel('Observation Dimension')\n",
    "    fig.colorbar(pltA, ax=plot[\"B\"])\n",
    "    \n",
    "    # Plot Toeplitz \n",
    "    pltC=plot[\"C\"].imshow(toep[:,:2*len(toep)].T, interpolation='none', cmap=plot_color) \n",
    "    plot[\"C\"].set_title(\"Toeplitz Eigenvectors\")\n",
    "    plot[\"C\"].set_ylabel('Eigenvector Number')\n",
    "    plot[\"C\"].set_xlabel('Observation Dimension')\n",
    "    fig.colorbar(pltA, ax=plot[\"C\"])\n",
    "    \n",
    "    # Random Plots --------------------------------------------------------------------------------\n",
    "    # Plot Random Correlation \n",
    "    pltD=plot[\"D\"].imshow(rcorr[:,:2*len(rcorr)].T, interpolation='none', cmap=plot_color) \n",
    "    plot[\"D\"].set_title(\"Random Correlation Eigenvectors\")\n",
    "    plot[\"D\"].set_ylabel('Eigenvector Number')\n",
    "    plot[\"D\"].set_xlabel('Observation Dimension')\n",
    "    fig.colorbar(pltA, ax=plot[\"D\"])\n",
    "    \n",
    "    # Plot Random STTC\n",
    "    pltE=plot[\"E\"].imshow(rsttc[:,:2*len(rsttc)].T, interpolation='none', cmap=plot_color) \n",
    "    plot[\"E\"].set_title(\"Random STTC Eigenvectors\")\n",
    "    plot[\"E\"].set_ylabel('Eigenvector Number')\n",
    "    plot[\"E\"].set_xlabel('Observation Dimension')\n",
    "    fig.colorbar(pltA, ax=plot[\"E\"])\n",
    "    \n",
    "    # Plot Toeplitz\n",
    "    pltF=plot[\"F\"].imshow(rtoep[:,:2*len(rtoep)].T, interpolation='none', cmap=plot_color) \n",
    "    plot[\"F\"].set_title(\"Random Toeplitz Eigenvectors\")\n",
    "    plot[\"F\"].set_ylabel('Eigenvector Number')\n",
    "    plot[\"F\"].set_xlabel('Observation Dimension')\n",
    "    fig.colorbar(pltA, ax=plot[\"F\"])\n",
    "    \n",
    "    fileNoExt = file.split(\".zip\")[0]\n",
    "    snapshot = datetime.now(Timezone)\n",
    "    current_time = snapshot.strftime(\"%Y-%m-%d_%H-%M-%S\")\n",
    "    savepath = \"/home/jovyan/work/Human_Hippocampus/Ari/Randomization/\" + f\"{randMethod}_{fileNoExt}_from_{folder}_taken_{current_time}sec.png\"\n",
    "    #plt.savefig(savepath)"
   ]
  },
  {
   "cell_type": "code",
   "execution_count": null,
   "id": "202ca867",
   "metadata": {},
   "outputs": [],
   "source": [
    "def plotRandEvectLayout(Method): \n",
    "    global Rand_ELayout_usemethod;\n",
    "    \n",
    "    if Method == \"Correlation\":\n",
    "        Corr = correlation(rsd)\n",
    "        Wcorr, Ucorr = eigenvalues_eigenvectors(Corr)\n",
    "        Rand_ELayout_usemethod = Ucorr\n",
    "    else:\n",
    "        STTC = get_sttc(rsd)\n",
    "        Wsttc, Usttc = eigenvalues_eigenvectors(STTC)\n",
    "        Rand_ELayout_usemethod = Usttc\n",
    "        \n",
    "    interact_manual( RandVectorSelect, Vector=(0,5,1),  thresholdIn=(0,1,0.01)) "
   ]
  },
  {
   "cell_type": "code",
   "execution_count": null,
   "id": "7a47e6a6",
   "metadata": {},
   "outputs": [],
   "source": [
    "def RandVectorSelect(Vector, thresholdIn):\n",
    "    evectLayout(rsd, Rand_ELayout_usemethod[:,Vector], thresholdIn)"
   ]
  },
  {
   "cell_type": "code",
   "execution_count": null,
   "id": "fa723cec",
   "metadata": {},
   "outputs": [],
   "source": [
    "def PlotRandomBasis(): \n",
    "    Corr = correlation(sd)\n",
    "    STTC = get_sttc(sd)\n",
    "    \n",
    "    randCorr = correlation(rsd)\n",
    "    randSTTC = get_sttc(rsd)\n",
    "    \n",
    "    Wcorr, Ucorr = eigenvalues_eigenvectors(Corr)\n",
    "    Wsttc, Usttc = eigenvalues_eigenvectors(STTC)\n",
    "    \n",
    "    WRcorr, URcorr = eigenvalues_eigenvectors(randCorr)\n",
    "    WRsttc, URsttc = eigenvalues_eigenvectors(randSTTC)\n",
    "    \n",
    "    methodList = [Ucorr, URcorr, Usttc, URsttc]\n",
    "    \n",
    "    fig, plot = plt.subplots(nrows=5, ncols=4, figsize=(20,9))\n",
    "    fig.suptitle(\"First Five Eigenvectors of Data and Randomized Data\")\n",
    "    \n",
    "    for i in range(5):\n",
    "        for j in range(4):\n",
    "            plot[i, j].stem(methodList[j][:,i])\n",
    "            \n",
    "            if i==4:\n",
    "                plot[i,j].set_xlabel('Observation Dimension')\n",
    "            if i==0:\n",
    "                if j == 0:\n",
    "                    plot[i,j].set_title('Dataset Correlation ')\n",
    "                elif j == 1:\n",
    "                    plot[i,j].set_title('Random Correlation')\n",
    "                elif j == 2:\n",
    "                    plot[i,j].set_title('Dataset STTC')\n",
    "                else:\n",
    "                    plot[i,j].set_title('Random STTC')"
   ]
  },
  {
   "cell_type": "code",
   "execution_count": null,
   "id": "75791f30",
   "metadata": {},
   "outputs": [],
   "source": [
    "def PlotRandomCheck():\n",
    "    Corr = correlation(sd)\n",
    "    STTC = get_sttc(sd)\n",
    "    \n",
    "    randCorr = correlation(rsd)\n",
    "    randSTTC = get_sttc(rsd)\n",
    "    \n",
    "    figLayout = \"\"\"\n",
    "                AB\n",
    "                CD\n",
    "                \"\"\"\n",
    "    \n",
    "    fig, plot = plt.subplot_mosaic(figLayout, figsize=(14,7)) \n",
    "    fig.tight_layout(pad=5.0)\n",
    "    \n",
    "    # Plot Correlation Matrix\n",
    "    pltA = plot[\"A\"].imshow(Corr, cmap=plot_color) # plot STTC matrix\n",
    "    plot[\"A\"].set_title(\"Correlation\")\n",
    "    plot[\"A\"].set_xlabel(\"Neuron index\")\n",
    "    plot[\"A\"].set_ylabel(\"Neuron index\" )\n",
    "    fig.colorbar(pltA, ax=plot[\"A\"], shrink=0.7)\n",
    "\n",
    "    # Plot STTC matrix\n",
    "    pltB = plot[\"B\"].imshow(STTC, cmap=plot_color) # plot STTC matrix\n",
    "    plot[\"B\"].set_title(\"STTC\")\n",
    "    plot[\"B\"].set_xlabel(\"Neuron index\")\n",
    "    plot[\"B\"].set_ylabel(\"Neuron index\" )\n",
    "    fig.colorbar(pltB, ax=plot[\"B\"], shrink=0.7)\n",
    "    \n",
    "    # Plot random Correlation matrix\n",
    "    pltC = plot[\"C\"].imshow(randCorr, cmap=plot_color) # plot STTC matrix\n",
    "    plot[\"C\"].set_title(\"Random Correlation\")\n",
    "    plot[\"C\"].set_xlabel(\"Neuron index\")\n",
    "    plot[\"C\"].set_ylabel(\"Neuron index\" )\n",
    "    fig.colorbar(pltC, ax=plot[\"C\"], shrink=0.7)\n",
    "\n",
    "    # Plot random STTC matrix\n",
    "    pltD = plot[\"D\"].imshow(randSTTC, cmap=plot_color) # plot STTC matrix\n",
    "    plot[\"D\"].set_title(\"Random STTC\")\n",
    "    plot[\"D\"].set_xlabel(\"Neuron index\")\n",
    "    plot[\"D\"].set_ylabel(\"Neuron index\" )\n",
    "    fig.colorbar(pltD, ax=plot[\"D\"], shrink=0.7)"
   ]
  },
  {
   "cell_type": "markdown",
   "id": "3d9f9dec",
   "metadata": {},
   "source": [
    "### <font color=\"blue\">Random Settings"
   ]
  },
  {
   "cell_type": "code",
   "execution_count": null,
   "id": "311d248a",
   "metadata": {},
   "outputs": [],
   "source": [
    "randMethods = [\"Rotation\", \"Shuffle\", \"Kenneth Harris\"]"
   ]
  },
  {
   "cell_type": "code",
   "execution_count": null,
   "id": "845ff86c",
   "metadata": {},
   "outputs": [],
   "source": [
    "def RandomiseDataset(method, seed, resolution):\n",
    "    global rsd\n",
    "    \n",
    "    # Options Select\n",
    "    if method==\"Shuffle\":\n",
    "        rsd = random_shuffle(sd, seed)\n",
    "        #rsd = sd.randomized() \n",
    "        titleMethod = \"shuffled\"\n",
    "        \n",
    "    elif method==\"Kenneth Harris\":\n",
    "        rsd = KennethHarris(sd, dt=resolution, seed=seed)\n",
    "        titleMethod = \"KH\"\n",
    "        \n",
    "    else:\n",
    "        rsd = random_rotation(sd, seed) \n",
    "        titleMethod = \"rotated\"\n",
    "    \n",
    "    Corr = correlation(sd)\n",
    "    STTC = get_sttc(sd)\n",
    "    Toep = toeplitz(Corr)\n",
    "    \n",
    "    randCorr = correlation(rsd)\n",
    "    randSTTC = get_sttc(rsd)\n",
    "    randToep = toeplitz(randCorr)\n",
    "    \n",
    "    Wcorr, Ucorr = eigenvalues_eigenvectors(Corr)\n",
    "    Wsttc, Usttc = eigenvalues_eigenvectors(STTC)\n",
    "    Wt, Ut = eigenvalues_eigenvectors(Toep)\n",
    "    \n",
    "    WRcorr, URcorr = eigenvalues_eigenvectors(randCorr)\n",
    "    WRsttc, URsttc = eigenvalues_eigenvectors(randSTTC)\n",
    "    WRt, URt = eigenvalues_eigenvectors(randToep)\n",
    "    \n",
    "    randomPlots(Ucorr, Usttc, Ut, URcorr, URsttc, URt, titleMethod)"
   ]
  },
  {
   "cell_type": "markdown",
   "id": "23fd2238",
   "metadata": {},
   "source": [
    "# <font color=\"red\">Bookend"
   ]
  },
  {
   "cell_type": "code",
   "execution_count": null,
   "id": "42e2b1b8",
   "metadata": {},
   "outputs": [],
   "source": [
    "now = datetime.now(Timezone)\n",
    "printNow = now.strftime(\"%Y/%m/%d %H:%M:%S\")\n",
    "\n",
    "print(f\"Done at: {printNow}\")"
   ]
  }
 ],
 "metadata": {
  "hide_input": false,
  "kernelspec": {
   "display_name": "Python 3 (ipykernel)",
   "language": "python",
   "name": "python3"
  },
  "language_info": {
   "codemirror_mode": {
    "name": "ipython",
    "version": 3
   },
   "file_extension": ".py",
   "mimetype": "text/x-python",
   "name": "python",
   "nbconvert_exporter": "python",
   "pygments_lexer": "ipython3",
   "version": "3.10.10"
  },
  "toc": {
   "base_numbering": 1,
   "nav_menu": {},
   "number_sections": true,
   "sideBar": true,
   "skip_h1_title": false,
   "title_cell": "Table of Contents",
   "title_sidebar": "Contents",
   "toc_cell": false,
   "toc_position": {},
   "toc_section_display": true,
   "toc_window_display": false
  },
  "varInspector": {
   "cols": {
    "lenName": 16,
    "lenType": 16,
    "lenVar": 40
   },
   "kernels_config": {
    "python": {
     "delete_cmd_postfix": "",
     "delete_cmd_prefix": "del ",
     "library": "var_list.py",
     "varRefreshCmd": "print(var_dic_list())"
    },
    "r": {
     "delete_cmd_postfix": ") ",
     "delete_cmd_prefix": "rm(",
     "library": "var_list.r",
     "varRefreshCmd": "cat(var_dic_list()) "
    }
   },
   "types_to_exclude": [
    "module",
    "function",
    "builtin_function_or_method",
    "instance",
    "_Feature"
   ],
   "window_display": false
  }
 },
 "nbformat": 4,
 "nbformat_minor": 5
}

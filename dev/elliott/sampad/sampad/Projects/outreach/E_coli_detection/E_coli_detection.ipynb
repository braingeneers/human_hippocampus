{
 "cells": [
  {
   "cell_type": "markdown",
   "id": "4197760f",
   "metadata": {},
   "source": [
    "<font size=7>WetAI Controller"
   ]
  },
  {
   "cell_type": "markdown",
   "id": "84c96187",
   "metadata": {
    "cell_style": "split"
   },
   "source": [
    "This example code is used to control Raspberry Pi connected PDMS equipment through WetAI. \n",
    "\n",
    "This is a single cell version for ease of use"
   ]
  },
  {
   "cell_type": "code",
   "execution_count": 2,
   "id": "5c015981",
   "metadata": {},
   "outputs": [],
   "source": [
    "from braingeneers.iot import messaging\n",
    "import uuid\n",
    "import json\n",
    "import time as t\n",
    "import ipywidgets as widgets\n",
    "\n",
    "with open(\"detection_flush.txt\") as file:\n",
    "    lines = file.readlines()\n",
    "    test_file_content = json.dumps(lines)\n",
    "#print(test_file_content)\n",
    "\n",
    "result = 0\n",
    "result_struct = {}\n",
    "\n",
    "result_struct['mode'] = 3\n",
    "result_struct['param'] = test_file_content\n",
    "\n",
    "mb = messaging.MessageBroker(str(uuid.uuid4))\n",
    "mb.publish_message(topic=\"Sampad_Device\", message=result_struct)"
   ]
  },
  {
   "cell_type": "code",
   "execution_count": null,
   "id": "ef776eae",
   "metadata": {},
   "outputs": [],
   "source": []
  }
 ],
 "metadata": {
  "hide_input": false,
  "kernelspec": {
   "display_name": "Python 3 (ipykernel)",
   "language": "python",
   "name": "python3"
  },
  "language_info": {
   "codemirror_mode": {
    "name": "ipython",
    "version": 3
   },
   "file_extension": ".py",
   "mimetype": "text/x-python",
   "name": "python",
   "nbconvert_exporter": "python",
   "pygments_lexer": "ipython3",
   "version": "3.9.7"
  },
  "toc": {
   "base_numbering": 1,
   "nav_menu": {},
   "number_sections": false,
   "sideBar": true,
   "skip_h1_title": false,
   "title_cell": "Table of Contents",
   "title_sidebar": "Contents",
   "toc_cell": false,
   "toc_position": {},
   "toc_section_display": true,
   "toc_window_display": false
  },
  "widgets": {
   "application/vnd.jupyter.widget-state+json": {
    "state": {},
    "version_major": 2,
    "version_minor": 0
   }
  }
 },
 "nbformat": 4,
 "nbformat_minor": 5
}

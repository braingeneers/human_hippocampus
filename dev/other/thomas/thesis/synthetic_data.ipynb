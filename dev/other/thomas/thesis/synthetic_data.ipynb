{
 "cells": [
  {
   "cell_type": "code",
   "execution_count": 1,
   "metadata": {},
   "outputs": [],
   "source": [
    "import numpy as np                     # Packages for Data Analysis\n",
    "import pandas as pd\n",
    "import random as rand\n",
    "from scipy.signal import correlate, correlation_lags\n",
    "\n",
    "import matplotlib.pyplot as plt       # Packages for making plots\n",
    "from matplotlib.patches import FancyArrow\n",
    "import matplotlib.colors as mcolors\n",
    "import matplotlib.patches as patches\n",
    "from matplotlib.patches import Patch, Circle\n",
    "from matplotlib.lines import Line2D\n",
    "from scipy.ndimage import gaussian_filter1d\n",
    "\n",
    "import braingeneers                  # Braigneneers packages for analysis\n",
    "from braingeneers.analysis.analysis import SpikeData, read_phy_files, load_spike_data, burst_detection, randomize_raster\n",
    "import braingeneers.data.datasets_electrophysiology as ephys"
   ]
  },
  {
   "cell_type": "markdown",
   "metadata": {},
   "source": [
    "# Simulate randomized data"
   ]
  },
  {
   "cell_type": "code",
   "execution_count": 9,
   "metadata": {},
   "outputs": [],
   "source": [
    "width = 64\n",
    "N_channels = width * width\n",
    "length_ms = 120 * 1000 # 120 seconds\n",
    "average_rate = 0.5 # Average firing rate in Hz#\n",
    "\n",
    "# Generate spike times\n",
    "np.random.seed(0)\n",
    "train = []\n",
    "\n",
    "for _ in range(N_channels):\n",
    "    num_spikes = np.random.poisson(average_rate * length_ms / 1000)\n",
    "    spike_times = np.random.uniform(0, length_ms, num_spikes)\n",
    "    train.append(spike_times)\n",
    "\n",
    "spike_data = SpikeData(train)\n",
    "\n",
    "# Check some properties of the generated SpikeData object\n",
    "spike_data_info = {\n",
    "    \"Number of Channels\": spike_data.N,\n",
    "    \"Recording Length (ms)\": spike_data.length,\n",
    "    \"Example Spike Times for First Channel\": spike_data.train[0][:10]  # First 10 spikes\n",
    "}"
   ]
  },
  {
   "cell_type": "code",
   "execution_count": 10,
   "metadata": {},
   "outputs": [
    {
     "ename": "TypeError",
     "evalue": "object of type 'generator' has no len()",
     "output_type": "error",
     "traceback": [
      "\u001b[0;31m---------------------------------------------------------------------------\u001b[0m",
      "\u001b[0;31mTypeError\u001b[0m                                 Traceback (most recent call last)",
      "Cell \u001b[0;32mIn[10], line 1\u001b[0m\n\u001b[0;32m----> 1\u001b[0m \u001b[38;5;28;43mlen\u001b[39;49m\u001b[43m(\u001b[49m\u001b[43mspike_data\u001b[49m\u001b[38;5;241;43m.\u001b[39;49m\u001b[43mevents\u001b[49m\u001b[43m)\u001b[49m\n",
      "\u001b[0;31mTypeError\u001b[0m: object of type 'generator' has no len()"
     ]
    }
   ],
   "source": []
  }
 ],
 "metadata": {
  "kernelspec": {
   "display_name": "notebook",
   "language": "python",
   "name": "python3"
  },
  "language_info": {
   "codemirror_mode": {
    "name": "ipython",
    "version": 3
   },
   "file_extension": ".py",
   "mimetype": "text/x-python",
   "name": "python",
   "nbconvert_exporter": "python",
   "pygments_lexer": "ipython3",
   "version": "3.10.0"
  }
 },
 "nbformat": 4,
 "nbformat_minor": 2
}

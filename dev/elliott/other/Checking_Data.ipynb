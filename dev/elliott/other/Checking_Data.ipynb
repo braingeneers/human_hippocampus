{
 "cells": [
  {
   "cell_type": "markdown",
   "id": "331029c7",
   "metadata": {},
   "source": [
    "# Function to Load Data"
   ]
  },
  {
   "cell_type": "code",
   "execution_count": 2,
   "id": "24246f10",
   "metadata": {},
   "outputs": [],
   "source": [
    "#import fcm\n",
    "import os\n",
    "import re\n",
    "import glob\n",
    "import random\n",
    "import numpy as np\n",
    "import scipy\n",
    "import scipy.io as sio\n",
    "import scipy.ndimage as ndimage\n",
    "from scipy.ndimage import gaussian_filter1d\n",
    "import pandas as pd\n",
    "import matplotlib.pyplot as plt\n",
    "import matplotlib.colors as mcolors\n",
    "import matplotlib.patches as patches\n",
    "from matplotlib.patches import Patch, Circle\n",
    "from matplotlib.lines import Line2D\n",
    "from PIL import Image\n",
    "import ipywidgets as ipw\n",
    "from ipywidgets import interact, interactive, fixed, interact_manual  # package for interactive widgets \n",
    "import braingeneers                                                   # Braingeneers code\n",
    "from braingeneers.analysis.analysis import SpikeData, read_phy_files\n",
    "import braingeneers.data.datasets_electrophysiology as ephys\n",
    "from IPython.display import HTML, display, Javascript, clear_output"
   ]
  },
  {
   "cell_type": "code",
   "execution_count": 3,
   "id": "74e71eac",
   "metadata": {},
   "outputs": [],
   "source": [
    "import io\n",
    "import zipfile\n",
    "from typing import List, Tuple\n",
    "\n",
    "def read_phy_files(path: str, fs=20000.0):\n",
    "    \"\"\"\n",
    "    :param path: a s3 or local path to a zip of phy files.\n",
    "    :return: SpikeData class with a list of spike time lists and neuron_data.\n",
    "            neuron_data = {0: neuron_dict, 1: config_dict}\n",
    "            neuron_dict = {\"new_cluster_id\": {\"channel\": c, \"position\": (x, y),\n",
    "                            \"amplitudes\": [a0, a1, an], \"template\": [t0, t1, tn],\n",
    "                            \"neighbor_channels\": [c0, c1, cn],\n",
    "                            \"neighbor_positions\": [(x0, y0), (x1, y1), (xn,yn)],\n",
    "                            \"neighbor_templates\": [[t00, t01, t0n], [tn0, tn1, tnn]}}\n",
    "            config_dict = {chn: pos}\n",
    "    \"\"\"\n",
    "    assert path[-3:] == 'zip', 'Only zip files supported!'\n",
    "    import braingeneers.utils.smart_open_braingeneers as smart_open\n",
    "    with smart_open.open(path, 'rb') as f0:\n",
    "        f = io.BytesIO(f0.read())\n",
    "\n",
    "        with zipfile.ZipFile(f, 'r') as f_zip:\n",
    "            assert 'params.py' in f_zip.namelist(), \"Wrong spike sorting output.\"\n",
    "            with io.TextIOWrapper(f_zip.open('params.py'), encoding='utf-8') as params:\n",
    "                for line in params:\n",
    "                    if \"sample_rate\" in line:\n",
    "                        fs = float(line.split()[-1])\n",
    "            clusters = np.load(f_zip.open('spike_clusters.npy')).squeeze()\n",
    "            templates = np.load(f_zip.open('templates.npy'))  # (cluster_id, samples, channel_id)\n",
    "            channels = np.load(f_zip.open('channel_map.npy')).squeeze()\n",
    "            templates_w = np.load(f_zip.open('templates.npy'))\n",
    "            wmi = np.load(f_zip.open('whitening_mat_inv.npy'))\n",
    "            spike_templates = np.load(f_zip.open('spike_templates.npy')).squeeze()\n",
    "            spike_times = np.load(f_zip.open('spike_times.npy')).squeeze() / fs * 1e3  # in ms\n",
    "            positions = np.load(f_zip.open('channel_positions.npy'))\n",
    "            amplitudes = np.load(f_zip.open(\"amplitudes.npy\")).squeeze()\n",
    "            if 'cluster_info.tsv' in f_zip.namelist():\n",
    "                cluster_info = pd.read_csv(f_zip.open('cluster_info.tsv'), sep='\\t')\n",
    "                cluster_id = np.array(cluster_info['cluster_id'])\n",
    "                # select clusters using curation label, remove units labeled as \"noise\"\n",
    "                # find the best channel by amplitude\n",
    "                labeled_clusters = cluster_id[cluster_info['group'] != \"noise\"]\n",
    "            else:\n",
    "                labeled_clusters = np.unique(clusters)\n",
    "\n",
    "    df = pd.DataFrame({\"clusters\": clusters, \"spikeTimes\": spike_times, \"amplitudes\": amplitudes})\n",
    "    cluster_agg = df.groupby(\"clusters\").agg({\"spikeTimes\": lambda x: list(x),\n",
    "                                              \"amplitudes\": lambda x: list(x)})\n",
    "    cluster_agg = cluster_agg[cluster_agg.index.isin(labeled_clusters)]\n",
    "\n",
    "    cls_temp = dict(zip(clusters, spike_templates))\n",
    "    neuron_dict = dict.fromkeys(np.arange(len(labeled_clusters)), None)\n",
    "\n",
    "    # un-whitten the templates before finding the best channel\n",
    "    templates = np.dot(templates_w, wmi)\n",
    "\n",
    "    neuron_attributes = []\n",
    "    for i in range(len(labeled_clusters)):\n",
    "        c = labeled_clusters[i]\n",
    "        temp = templates[cls_temp[c]]\n",
    "        amp = np.max(temp, axis=0) - np.min(temp, axis=0)\n",
    "        sorted_idx = [ind for _, ind in sorted(zip(amp, np.arange(len(amp))))]\n",
    "        nbgh_chan_idx = sorted_idx[::-1][:12]\n",
    "        nbgh_temps = temp.transpose()[nbgh_chan_idx]\n",
    "        best_chan_temp = nbgh_temps[0]\n",
    "        nbgh_channels = channels[nbgh_chan_idx]\n",
    "        nbgh_postions = [tuple(positions[idx]) for idx in nbgh_chan_idx]\n",
    "        best_channel = nbgh_channels[0]\n",
    "        best_position = nbgh_postions[0]\n",
    "        # neighbor_templates = dict(zip(nbgh_postions, nbgh_temps))\n",
    "        cls_amp = cluster_agg[\"amplitudes\"][c]\n",
    "        neuron_dict[i] = {\"cluster_id\": c, \"channel\": best_channel, \"position\": best_position,\n",
    "                          \"amplitudes\": cls_amp, \"template\": best_chan_temp,\n",
    "                          \"neighbor_channels\": nbgh_channels, \"neighbor_positions\": nbgh_postions,\n",
    "                          \"neighbor_templates\": nbgh_temps}\n",
    "        neuron_attributes.append(\n",
    "            NeuronAttributes(\n",
    "                cluster_id=c,\n",
    "                channel=best_channel,\n",
    "                position=best_position,\n",
    "                amplitudes=cluster_agg[\"amplitudes\"][c],\n",
    "                template=best_chan_temp,\n",
    "                templates=templates[cls_temp[c]].T,\n",
    "                label=cluster_info['group'][cluster_info['cluster_id'] == c].values[0],\n",
    "                neighbor_channels=channels[nbgh_chan_idx],\n",
    "                neighbor_positions=[tuple(positions[idx]) for idx in nbgh_chan_idx],\n",
    "                neighbor_templates=[templates[cls_temp[c]].T[n] for n in nbgh_chan_idx]\n",
    "            )\n",
    "        )\n",
    "\n",
    "    config_dict = dict(zip(channels, positions))\n",
    "    neuron_data = {0: neuron_dict}\n",
    "    metadata = {0: config_dict}\n",
    "    spikedata = SpikeData(list(cluster_agg[\"spikeTimes\"]), neuron_data=neuron_data, metadata=metadata, neuron_attributes=neuron_attributes)\n",
    "    return spikedata\n",
    "\n",
    "class NeuronAttributes:\n",
    "    cluster_id: int\n",
    "    channel: np.ndarray\n",
    "    position: Tuple[float, float]\n",
    "    amplitudes: List[float]\n",
    "    template: np.ndarray\n",
    "    templates: np.ndarray\n",
    "    label: str\n",
    "\n",
    "    # These lists are the same length and correspond to each other\n",
    "    neighbor_channels: np.ndarray\n",
    "    neighbor_positions: List[Tuple[float, float]]\n",
    "    neighbor_templates: List[np.ndarray]\n",
    "\n",
    "    def __init__(self, *args, **kwargs):\n",
    "        self.cluster_id = kwargs.pop(\"cluster_id\")\n",
    "        self.channel = kwargs.pop(\"channel\")\n",
    "        self.position = kwargs.pop(\"position\")\n",
    "        self.amplitudes = kwargs.pop(\"amplitudes\")\n",
    "        self.template = kwargs.pop(\"template\")\n",
    "        self.templates = kwargs.pop(\"templates\")\n",
    "        self.label = kwargs.pop(\"label\")\n",
    "        self.neighbor_channels = kwargs.pop(\"neighbor_channels\")\n",
    "        self.neighbor_positions = kwargs.pop(\"neighbor_positions\")\n",
    "        self.neighbor_templates = kwargs.pop(\"neighbor_templates\")\n",
    "        for key, value in kwargs.items():\n",
    "            setattr(self, key, value)\n",
    "\n",
    "    def add_attribute(self, key, value):\n",
    "        setattr(self, key, value)\n",
    "\n",
    "    def list_attributes(self):\n",
    "        return [attr for attr in dir(self) if not attr.startswith('__') and not callable(getattr(self, attr))]"
   ]
  },
  {
   "cell_type": "code",
   "execution_count": null,
   "id": "29d2ba0b",
   "metadata": {},
   "outputs": [],
   "source": []
  },
  {
   "cell_type": "code",
   "execution_count": null,
   "id": "de566579",
   "metadata": {},
   "outputs": [],
   "source": []
  },
  {
   "cell_type": "code",
   "execution_count": null,
   "id": "e6ac9677",
   "metadata": {},
   "outputs": [],
   "source": []
  },
  {
   "cell_type": "code",
   "execution_count": null,
   "metadata": {},
   "outputs": [],
   "source": []
  },
  {
   "cell_type": "code",
   "execution_count": null,
   "id": "f360d65a",
   "metadata": {},
   "outputs": [],
   "source": []
  },
  {
   "cell_type": "code",
   "execution_count": null,
   "metadata": {},
   "outputs": [],
   "source": []
  },
  {
   "cell_type": "code",
   "execution_count": null,
   "id": "8a402c5e",
   "metadata": {},
   "outputs": [],
   "source": []
  },
  {
   "cell_type": "code",
   "execution_count": null,
   "id": "30e08476",
   "metadata": {},
   "outputs": [],
   "source": []
  },
  {
   "cell_type": "code",
   "execution_count": null,
   "id": "1fed6f37",
   "metadata": {},
   "outputs": [],
   "source": []
  },
  {
   "cell_type": "markdown",
   "id": "377bec59",
   "metadata": {},
   "source": [
    "# Code from before\n"
   ]
  },
  {
   "cell_type": "code",
   "execution_count": 1,
   "id": "524593fc",
   "metadata": {},
   "outputs": [],
   "source": [
    "#import fcm\n",
    "import os\n",
    "import re\n",
    "import glob\n",
    "import random\n",
    "import numpy as np\n",
    "import scipy\n",
    "import scipy.io as sio\n",
    "import scipy.ndimage as ndimage\n",
    "from scipy.ndimage import gaussian_filter1d\n",
    "import pandas as pd\n",
    "import matplotlib.pyplot as plt\n",
    "import matplotlib.colors as mcolors\n",
    "import matplotlib.patches as patches\n",
    "from matplotlib.patches import Patch, Circle\n",
    "from matplotlib.lines import Line2D\n",
    "from PIL import Image\n",
    "import ipywidgets as ipw\n",
    "from ipywidgets import interact, interactive, fixed, interact_manual  # package for interactive widgets \n",
    "import braingeneers                                                   # Braingeneers code\n",
    "from braingeneers.analysis.analysis import SpikeData, read_phy_files\n",
    "import braingeneers.data.datasets_electrophysiology as ephys\n",
    "from IPython.display import HTML, display, Javascript, clear_output"
   ]
  },
  {
   "cell_type": "code",
   "execution_count": 2,
   "id": "2a4acf2b",
   "metadata": {},
   "outputs": [
    {
     "name": "stdout",
     "output_type": "stream",
     "text": [
      "hello\n"
     ]
    }
   ],
   "source": [
    "print(\"hello\")"
   ]
  },
  {
   "cell_type": "code",
   "execution_count": 3,
   "id": "f6ce88c6",
   "metadata": {},
   "outputs": [],
   "source": [
    "def analyze_spike_data(sd):\n",
    "    idces_control, times_control = sd.idces_times()\n",
    "    n_neurons_control = len(sd.rates())\n",
    "\n",
    "    print(\"Number of spikes: \", len(idces_control))\n",
    "    print(\"Length: \", int(times_control[-1]/1000), \"seconds\")\n",
    "    print(\"Number of Neurons: \", n_neurons_control)\n",
    "    entire_firing_rate_control = len(idces_control) / (times_control[-1] / 1000)\n",
    "    avg_rate_control = entire_firing_rate_control / n_neurons_control\n",
    "    print(\"Average Firing Rate: \", round(avg_rate_control, 2))\n",
    "\n",
    "    isis_raw = sd.interspike_intervals()\n",
    "    # Remove all isi's greater than 100ms. As there are likely neurons not following periodic firing pattern\n",
    "    isis = []\n",
    "    for i in range(len(isis_raw)):\n",
    "        isi = isis_raw[i]\n",
    "        isis = isis + isi[isi < 100].tolist()\n",
    "\n",
    "    isi_mean = sum(isis) / len(isis)\n",
    "    isi_var = sum([((x - isi_mean) ** 2) for x in isis]) / len(isis)\n",
    "    isi_std = isi_var ** 0.5\n",
    "    cv = isi_std / isi_mean\n",
    "    print(\"Coefficient of Variation: \", round(cv,3) )"
   ]
  },
  {
   "cell_type": "code",
   "execution_count": 4,
   "id": "bb9e8714",
   "metadata": {},
   "outputs": [],
   "source": [
    "def GetTextSummary(folder_name):\n",
    "    path = f\"/home/jovyan/work/Human_Hippocampus/data/ephys/{folder_name}/derived/kilosort2/\"\n",
    "    file_extension = \"_curated.zip\"\n",
    "    spike_data_objects = {}  # Dictionary to store spike data objects\n",
    "\n",
    "    def get_last_digit(s):\n",
    "        return int(''.join(filter(str.isdigit, s))[-1])\n",
    "\n",
    "    for filename in os.listdir(path):\n",
    "        if filename.endswith(file_extension):\n",
    "            file_path = os.path.join(path, filename)\n",
    "            try:\n",
    "                sd = read_phy_files(file_path)\n",
    "                sd.original_file = filename\n",
    "                # Generating the unique name for the spike data object based on the last digit of the filename\n",
    "                sd_name = \"sd_\" + str(get_last_digit(filename))\n",
    "                spike_data_objects[sd_name] = sd\n",
    "            except:\n",
    "                print(f\"WARNING: Unable to Read < {filename} >\")\n",
    "    print(\"-----------------------------\")       \n",
    "    for sd_name in sorted(spike_data_objects.keys(), key=lambda x: int(x.split(\"_\")[-1])):\n",
    "        sd_object = spike_data_objects[sd_name]\n",
    "        #print(f\"Analyzing {sd_name}...\")\n",
    "        print(f\"Filename: {sd_object.original_file}:\")\n",
    "        analyze_spike_data(sd_object)\n",
    "        print(\"-----------------------------\")"
   ]
  },
  {
   "cell_type": "markdown",
   "id": "a89dd7ab",
   "metadata": {},
   "source": [
    "# Checking Perturbed Data"
   ]
  },
  {
   "cell_type": "markdown",
   "id": "113ae4ec",
   "metadata": {},
   "source": [
    "## Helper function"
   ]
  },
  {
   "cell_type": "code",
   "execution_count": 5,
   "id": "4971cbf9",
   "metadata": {},
   "outputs": [],
   "source": [
    "def plot_raster(sd):\n",
    "    idces, times = sd.idces_times()\n",
    "    fig, ax = plt.subplots()\n",
    "\n",
    "    ax.scatter(times/1000,idces,marker='|',s=1)\n",
    "    ax.set_xlabel(\"Time(s)\")\n",
    "    ax.set_ylabel('Unit #')\n",
    "    plt.show()"
   ]
  },
  {
   "cell_type": "markdown",
   "id": "5df2a9bb",
   "metadata": {},
   "source": [
    "## Plot spike raster"
   ]
  },
  {
   "cell_type": "code",
   "execution_count": 7,
   "id": "14aa4513",
   "metadata": {},
   "outputs": [],
   "source": [
    "from braingeneers.analysis import load_spike_data"
   ]
  },
  {
   "cell_type": "code",
   "execution_count": 13,
   "id": "d67e265a",
   "metadata": {},
   "outputs": [],
   "source": [
    "braingeneers.set_default_endpoint(\"/home/jovyan/data/ephys/2023-04-02-e-hc328_unperturbed\")"
   ]
  },
  {
   "cell_type": "code",
   "execution_count": 15,
   "id": "6bd5fb36",
   "metadata": {},
   "outputs": [
    {
     "name": "stdout",
     "output_type": "stream",
     "text": [
      "prefix: ephys/2023-04-02-e-hc328_unperturbed/derived/kilosort2/\n",
      "Using full path, experiment: hc3\n"
     ]
    }
   ],
   "source": [
    "full_path=\"/home/jovyan/data/ephys/2023-04-02-e-hc328_unperturbed/derived/kilosort2/hc3.28_hckcr1_chip16835_plated34.2_rec4.2_curated.zip\"\n",
    "sd = load_spike_data(uuid=\"2023-04-02-e-hc328_unperturbed\",full_path=full_path)\n",
    "#analyze_spike_data(sd)"
   ]
  },
  {
   "cell_type": "code",
   "execution_count": 16,
   "id": "947db878",
   "metadata": {},
   "outputs": [
    {
     "data": {
      "text/plain": [
       "3"
      ]
     },
     "execution_count": 16,
     "metadata": {},
     "output_type": "execute_result"
    }
   ],
   "source": [
    "sd.N"
   ]
  },
  {
   "cell_type": "code",
   "execution_count": 5,
   "id": "d938755d",
   "metadata": {},
   "outputs": [],
   "source": [
    "full_path=\"/home/jovyan/data/ephys/2023-04-02-e-hc328_unperturbed/derived/kilosort2/hc3.28_hckcr1_chip16835_plated34.2_rec4.2_curated.zip\"\n",
    "sd = read_phy_files( full_path )"
   ]
  },
  {
   "cell_type": "code",
   "execution_count": 6,
   "id": "1bd4ec8a",
   "metadata": {},
   "outputs": [
    {
     "data": {
      "text/plain": [
       "140"
      ]
     },
     "execution_count": 6,
     "metadata": {},
     "output_type": "execute_result"
    }
   ],
   "source": [
    "sd.N"
   ]
  },
  {
   "cell_type": "code",
   "execution_count": null,
   "id": "ec7932e7",
   "metadata": {},
   "outputs": [],
   "source": []
  },
  {
   "cell_type": "code",
   "execution_count": null,
   "id": "80225f00",
   "metadata": {},
   "outputs": [],
   "source": [
    "file_path=\"/home/jovyan/work/Human_Hippocampus/data/ephys/2023-04-02-e-hc328_unperturbed/derived/kilosort2/hc3.28_hckcr1_chip16835_plated34.2_rec4.2_curated.zip\"\n",
    "sd = read_phy_files(file_path)\n",
    "#analyze_spike_data(sd)"
   ]
  },
  {
   "cell_type": "markdown",
   "id": "093cc049",
   "metadata": {},
   "source": [
    "# <font color=\"brown\"> Scratch Paper"
   ]
  },
  {
   "cell_type": "code",
   "execution_count": 6,
   "id": "b55177f5",
   "metadata": {},
   "outputs": [
    {
     "ename": "FileNotFoundError",
     "evalue": "[Errno 2] No such file or directory: '/home/jovyan/work/Human_Hippocampus/data/ephys/2023-04-02-e-hc328_unperturbed/derived/kilosort2/hc3.28_hckcr1_chip16835_plated34.2_rec4.2_curated.zip'",
     "output_type": "error",
     "traceback": [
      "\u001b[0;31m---------------------------------------------------------------------------\u001b[0m",
      "\u001b[0;31mFileNotFoundError\u001b[0m                         Traceback (most recent call last)",
      "\u001b[1;32m/workspaces/human_hippocampus/dev/elliott/Checking_Data.ipynb Cell 18\u001b[0m line \u001b[0;36m2\n\u001b[1;32m      <a href='vscode-notebook-cell://codespaces%2Breimagined-doodle-5vg59g4x6pvf7v79/workspaces/human_hippocampus/dev/elliott/Checking_Data.ipynb#X23sdnNjb2RlLXJlbW90ZQ%3D%3D?line=0'>1</a>\u001b[0m file_path\u001b[39m=\u001b[39m\u001b[39m\"\u001b[39m\u001b[39m/home/jovyan/work/Human_Hippocampus/data/ephys/2023-04-02-e-hc328_unperturbed/derived/kilosort2/hc3.28_hckcr1_chip16835_plated34.2_rec4.2_curated.zip\u001b[39m\u001b[39m\"\u001b[39m\n\u001b[0;32m----> <a href='vscode-notebook-cell://codespaces%2Breimagined-doodle-5vg59g4x6pvf7v79/workspaces/human_hippocampus/dev/elliott/Checking_Data.ipynb#X23sdnNjb2RlLXJlbW90ZQ%3D%3D?line=1'>2</a>\u001b[0m sd \u001b[39m=\u001b[39m read_phy_files(file_path)\n\u001b[1;32m      <a href='vscode-notebook-cell://codespaces%2Breimagined-doodle-5vg59g4x6pvf7v79/workspaces/human_hippocampus/dev/elliott/Checking_Data.ipynb#X23sdnNjb2RlLXJlbW90ZQ%3D%3D?line=2'>3</a>\u001b[0m \u001b[39m#analyze_spike_data(sd)\u001b[39;00m\n",
      "File \u001b[0;32m/srv/conda/envs/notebook/lib/python3.10/site-packages/braingeneers/analysis/analysis.py:239\u001b[0m, in \u001b[0;36mread_phy_files\u001b[0;34m(path, fs)\u001b[0m\n\u001b[1;32m    237\u001b[0m \u001b[39massert\u001b[39;00m path[\u001b[39m-\u001b[39m\u001b[39m3\u001b[39m:] \u001b[39m==\u001b[39m \u001b[39m'\u001b[39m\u001b[39mzip\u001b[39m\u001b[39m'\u001b[39m, \u001b[39m'\u001b[39m\u001b[39mOnly zip files supported!\u001b[39m\u001b[39m'\u001b[39m\n\u001b[1;32m    238\u001b[0m \u001b[39mimport\u001b[39;00m \u001b[39mbraingeneers\u001b[39;00m\u001b[39m.\u001b[39;00m\u001b[39mutils\u001b[39;00m\u001b[39m.\u001b[39;00m\u001b[39msmart_open_braingeneers\u001b[39;00m \u001b[39mas\u001b[39;00m \u001b[39msmart_open\u001b[39;00m\n\u001b[0;32m--> 239\u001b[0m \u001b[39mwith\u001b[39;00m smart_open\u001b[39m.\u001b[39;49mopen(path, \u001b[39m'\u001b[39;49m\u001b[39mrb\u001b[39;49m\u001b[39m'\u001b[39;49m) \u001b[39mas\u001b[39;00m f0:\n\u001b[1;32m    240\u001b[0m     f \u001b[39m=\u001b[39m io\u001b[39m.\u001b[39mBytesIO(f0\u001b[39m.\u001b[39mread())\n\u001b[1;32m    242\u001b[0m     \u001b[39mwith\u001b[39;00m zipfile\u001b[39m.\u001b[39mZipFile(f, \u001b[39m'\u001b[39m\u001b[39mr\u001b[39m\u001b[39m'\u001b[39m) \u001b[39mas\u001b[39;00m f_zip:\n",
      "File \u001b[0;32m/srv/conda/envs/notebook/lib/python3.10/site-packages/braingeneers/utils/smart_open_braingeneers/__init__.py:14\u001b[0m, in \u001b[0;36mopen\u001b[0;34m(*args, **kwargs)\u001b[0m\n\u001b[1;32m      9\u001b[0m \u001b[39mdef\u001b[39;00m \u001b[39mopen\u001b[39m(\u001b[39m*\u001b[39margs, \u001b[39m*\u001b[39m\u001b[39m*\u001b[39mkwargs):\n\u001b[1;32m     10\u001b[0m \u001b[39m    \u001b[39m\u001b[39m\"\"\"\u001b[39;00m\n\u001b[1;32m     11\u001b[0m \u001b[39m    Simple hand off to smart_open, this explicit handoff is required because open can reference a\u001b[39;00m\n\u001b[1;32m     12\u001b[0m \u001b[39m    new function if configure.set_default_endpoint is called in the future.\u001b[39;00m\n\u001b[1;32m     13\u001b[0m \u001b[39m    \"\"\"\u001b[39;00m\n\u001b[0;32m---> 14\u001b[0m     \u001b[39mreturn\u001b[39;00m braingeneers\u001b[39m.\u001b[39;49mutils\u001b[39m.\u001b[39;49mconfigure\u001b[39m.\u001b[39;49m_open(\u001b[39m*\u001b[39;49margs, \u001b[39m*\u001b[39;49m\u001b[39m*\u001b[39;49mkwargs)\n",
      "File \u001b[0;32m/srv/conda/envs/notebook/lib/python3.10/site-packages/smart_open/smart_open_lib.py:177\u001b[0m, in \u001b[0;36mopen\u001b[0;34m(uri, mode, buffering, encoding, errors, newline, closefd, opener, compression, transport_params)\u001b[0m\n\u001b[1;32m    174\u001b[0m \u001b[39mif\u001b[39;00m transport_params \u001b[39mis\u001b[39;00m \u001b[39mNone\u001b[39;00m:\n\u001b[1;32m    175\u001b[0m     transport_params \u001b[39m=\u001b[39m {}\n\u001b[0;32m--> 177\u001b[0m fobj \u001b[39m=\u001b[39m _shortcut_open(\n\u001b[1;32m    178\u001b[0m     uri,\n\u001b[1;32m    179\u001b[0m     mode,\n\u001b[1;32m    180\u001b[0m     compression\u001b[39m=\u001b[39;49mcompression,\n\u001b[1;32m    181\u001b[0m     buffering\u001b[39m=\u001b[39;49mbuffering,\n\u001b[1;32m    182\u001b[0m     encoding\u001b[39m=\u001b[39;49mencoding,\n\u001b[1;32m    183\u001b[0m     errors\u001b[39m=\u001b[39;49merrors,\n\u001b[1;32m    184\u001b[0m     newline\u001b[39m=\u001b[39;49mnewline,\n\u001b[1;32m    185\u001b[0m )\n\u001b[1;32m    186\u001b[0m \u001b[39mif\u001b[39;00m fobj \u001b[39mis\u001b[39;00m \u001b[39mnot\u001b[39;00m \u001b[39mNone\u001b[39;00m:\n\u001b[1;32m    187\u001b[0m     \u001b[39mreturn\u001b[39;00m fobj\n",
      "File \u001b[0;32m/srv/conda/envs/notebook/lib/python3.10/site-packages/smart_open/smart_open_lib.py:363\u001b[0m, in \u001b[0;36m_shortcut_open\u001b[0;34m(uri, mode, compression, buffering, encoding, errors, newline)\u001b[0m\n\u001b[1;32m    360\u001b[0m \u001b[39mif\u001b[39;00m errors \u001b[39mand\u001b[39;00m \u001b[39m'\u001b[39m\u001b[39mb\u001b[39m\u001b[39m'\u001b[39m \u001b[39mnot\u001b[39;00m \u001b[39min\u001b[39;00m mode:\n\u001b[1;32m    361\u001b[0m     open_kwargs[\u001b[39m'\u001b[39m\u001b[39merrors\u001b[39m\u001b[39m'\u001b[39m] \u001b[39m=\u001b[39m errors\n\u001b[0;32m--> 363\u001b[0m \u001b[39mreturn\u001b[39;00m _builtin_open(local_path, mode, buffering\u001b[39m=\u001b[39;49mbuffering, \u001b[39m*\u001b[39;49m\u001b[39m*\u001b[39;49mopen_kwargs)\n",
      "\u001b[0;31mFileNotFoundError\u001b[0m: [Errno 2] No such file or directory: '/home/jovyan/work/Human_Hippocampus/data/ephys/2023-04-02-e-hc328_unperturbed/derived/kilosort2/hc3.28_hckcr1_chip16835_plated34.2_rec4.2_curated.zip'"
     ]
    }
   ],
   "source": [
    "file_path=\"/home/jovyan/work/Human_Hippocampus/data/ephys/2023-04-02-e-hc328_unperturbed/derived/kilosort2/hc3.28_hckcr1_chip16835_plated34.2_rec4.2_curated.zip\"\n",
    "sd = read_phy_files(file_path)\n",
    "#analyze_spike_data(sd)\n"
   ]
  },
  {
   "cell_type": "code",
   "execution_count": null,
   "id": "9fb1116a",
   "metadata": {},
   "outputs": [],
   "source": [
    "def plot_raster(sd, start, end ):\n",
    "    \n",
    "    idces, times = sd.idces_times()\n",
    "    #plt.figure(figsize=(20,10))\n",
    "    fig, ax = plt.subplots(figsize=(20,10))\n",
    "    \n",
    "\n",
    "    ax.scatter(times/1000,idces,marker='|',s=1)\n",
    "    ax.set_xlabel(\"Time(s)\")\n",
    "    ax.set_ylabel('Unit #')\n",
    "    plt.xlim( start, end)\n",
    "    plt.show()"
   ]
  },
  {
   "cell_type": "code",
   "execution_count": null,
   "id": "463bcf33",
   "metadata": {},
   "outputs": [],
   "source": [
    "min_start=0\n",
    "max_end = 400"
   ]
  },
  {
   "cell_type": "code",
   "execution_count": null,
   "id": "da7651df",
   "metadata": {},
   "outputs": [],
   "source": []
  },
  {
   "cell_type": "code",
   "execution_count": null,
   "id": "58f4946c",
   "metadata": {},
   "outputs": [
    {
     "data": {
      "image/png": "[encoded data removed]",
      "text/plain": [
       "<Figure size 2000x1000 with 1 Axes>"
      ]
     },
     "metadata": {},
     "output_type": "display_data"
    }
   ],
   "source": [
    "plot_raster(sd, 0,390)"
   ]
  },
  {
   "cell_type": "code",
   "execution_count": null,
   "id": "85c2d1b8",
   "metadata": {},
   "outputs": [],
   "source": []
  },
  {
   "cell_type": "code",
   "execution_count": null,
   "id": "fc618959",
   "metadata": {},
   "outputs": [],
   "source": []
  },
  {
   "cell_type": "code",
   "execution_count": null,
   "id": "5678a794",
   "metadata": {},
   "outputs": [],
   "source": []
  },
  {
   "cell_type": "code",
   "execution_count": null,
   "id": "be1deed2",
   "metadata": {},
   "outputs": [],
   "source": []
  },
  {
   "cell_type": "code",
   "execution_count": null,
   "id": "c356dfb2",
   "metadata": {},
   "outputs": [],
   "source": []
  },
  {
   "cell_type": "code",
   "execution_count": null,
   "id": "33be81e5",
   "metadata": {},
   "outputs": [],
   "source": []
  },
  {
   "cell_type": "code",
   "execution_count": null,
   "id": "8c28888a",
   "metadata": {},
   "outputs": [],
   "source": []
  },
  {
   "cell_type": "code",
   "execution_count": null,
   "id": "0350cc9d",
   "metadata": {},
   "outputs": [],
   "source": []
  }
 ],
 "metadata": {
  "hide_input": false,
  "kernelspec": {
   "display_name": "Python 3 (ipykernel)",
   "language": "python",
   "name": "python3"
  },
  "language_info": {
   "codemirror_mode": {
    "name": "ipython",
    "version": 3
   },
   "file_extension": ".py",
   "mimetype": "text/x-python",
   "name": "python",
   "nbconvert_exporter": "python",
   "pygments_lexer": "ipython3",
   "version": "3.10.0"
  },
  "toc": {
   "base_numbering": 1,
   "nav_menu": {},
   "number_sections": true,
   "sideBar": true,
   "skip_h1_title": false,
   "title_cell": "Table of Contents",
   "title_sidebar": "Contents",
   "toc_cell": false,
   "toc_position": {},
   "toc_section_display": true,
   "toc_window_display": false
  },
  "varInspector": {
   "cols": {
    "lenName": 16,
    "lenType": 16,
    "lenVar": 40
   },
   "kernels_config": {
    "python": {
     "delete_cmd_postfix": "",
     "delete_cmd_prefix": "del ",
     "library": "var_list.py",
     "varRefreshCmd": "print(var_dic_list())"
    },
    "r": {
     "delete_cmd_postfix": ") ",
     "delete_cmd_prefix": "rm(",
     "library": "var_list.r",
     "varRefreshCmd": "cat(var_dic_list()) "
    }
   },
   "types_to_exclude": [
    "module",
    "function",
    "builtin_function_or_method",
    "instance",
    "_Feature"
   ],
   "window_display": false
  }
 },
 "nbformat": 4,
 "nbformat_minor": 5
}

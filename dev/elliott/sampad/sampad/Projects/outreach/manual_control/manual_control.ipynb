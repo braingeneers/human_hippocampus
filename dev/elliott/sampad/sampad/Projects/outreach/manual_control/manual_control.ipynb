{
 "cells": [
  {
   "cell_type": "markdown",
   "id": "4197760f",
   "metadata": {},
   "source": [
    "<font size=7>WetAI Controller"
   ]
  },
  {
   "cell_type": "markdown",
   "id": "84c96187",
   "metadata": {
    "cell_style": "center"
   },
   "source": [
    "This example code is used to control Sampad's equipment through WetAI. It is meant to eventually replace the Google collab code he created."
   ]
  },
  {
   "cell_type": "markdown",
   "id": "b8b98840",
   "metadata": {},
   "source": [
    "# Edits made to computer"
   ]
  },
  {
   "cell_type": "markdown",
   "id": "e036b75d",
   "metadata": {},
   "source": [
    "Put any change you made your computer's OS here"
   ]
  },
  {
   "cell_type": "code",
   "execution_count": null,
   "id": "752b6472",
   "metadata": {
    "code_folding": []
   },
   "outputs": [],
   "source": [
    "# pip install example_pacakge"
   ]
  },
  {
   "cell_type": "markdown",
   "id": "8b11ae52",
   "metadata": {},
   "source": [
    "# LED control from WetAi"
   ]
  },
  {
   "cell_type": "markdown",
   "id": "b4639a6a",
   "metadata": {},
   "source": [
    "Import the braingeneers example package"
   ]
  },
  {
   "cell_type": "code",
   "execution_count": 1,
   "id": "5c015981",
   "metadata": {},
   "outputs": [],
   "source": [
    "from braingeneers.iot import messaging\n",
    "import uuid\n",
    "import json\n",
    "\n",
    "################### from my google colab code ###############\n",
    "import time as t"
   ]
  },
  {
   "cell_type": "markdown",
   "id": "9df27af5",
   "metadata": {},
   "source": [
    "Import widgets"
   ]
  },
  {
   "cell_type": "code",
   "execution_count": 2,
   "id": "7ff3114e",
   "metadata": {},
   "outputs": [],
   "source": [
    "import ipywidgets as widgets"
   ]
  },
  {
   "cell_type": "markdown",
   "id": "bd32fa1f",
   "metadata": {},
   "source": [
    "to upload the remote script"
   ]
  },
  {
   "cell_type": "code",
   "execution_count": 3,
   "id": "bba94666",
   "metadata": {},
   "outputs": [
    {
     "name": "stdout",
     "output_type": "stream",
     "text": [
      "[\"main\\n\", \"call circulate 1\\n\", \"end\\n\", \"\\n\", \"circulate\\n\", \"o15\\n\", \"o4\\n\", \"call wait 1\\n\", \"o3\\n\", \"o14\\n\", \"call wait 1\\n\", \"c15\\n\", \"c4\\n\", \"call wait 1\\n\", \"o15\\n\", \"o4\\n\", \"call wait 1\\n\", \"c15\\n\", \"c4\\n\", \"call wait 1\\n\", \"o13\\n\", \"o2\\n\", \"call wait 1\\n\", \"c14\\n\", \"c3\\n\", \"call wait 1\\n\", \"o10\\n\", \"call wait 1\\n\", \"o15\\n\", \"call wait 1\\n\", \"o14\\n\", \"call wait 1\\n\", \"c15\\n\", \"call wait 1\\n\", \"c14\\n\", \"call wait 1\\n\", \"call rotateCCW 1\\n\", \"call wait 1\\n\", \"call rotateCW 1\\n\", \"call wait 1\\n\", \"call rotateCCW 1\\n\", \"call wait 1\\n\", \"call rotateCW 1\\n\", \"call wait 1\\n\", \"end\\n\", \"\\n\", \"rotateCCW\\n\", \"o7\\n\", \"call wait 1\\n\", \"c2\\n\", \"call wait 1\\n\", \"o2\\n\", \"call wait 1\\n\", \"c13\\n\", \"call wait 1\\n\", \"o13\\n\", \"call wait 1\\n\", \"c10\\n\", \"call wait 1\\n\", \"o10\\n\", \"call wait 1\\n\", \"c7\\n\", \"call wait 1\\n\", \"end\\n\", \"\\n\", \"rotateCW\\n\", \"o7\\n\", \"call wait 1\\n\", \"c10\\n\", \"call wait 1\\n\", \"o10\\n\", \"call wait 1\\n\", \"c13\\n\", \"call wait 1\\n\", \"o13\\n\", \"call wait 1\\n\", \"c2\\n\", \"call wait 1\\n\", \"o2\\n\", \"call wait 1\\n\", \"c7\\n\", \"call wait 1\\n\", \"end\\n\", \"\\n\", \"wait\\n\", \"w500\\n\", \"end\\n\"]\n"
     ]
    }
   ],
   "source": [
    "with open(\"IoT_Script_EcoliStaining_R1.txt\") as file:\n",
    "    lines = file.readlines()\n",
    "    test_file_content = json.dumps(lines)\n",
    "print(test_file_content)"
   ]
  },
  {
   "cell_type": "markdown",
   "id": "041e8a90",
   "metadata": {},
   "source": [
    "Check boxes"
   ]
  },
  {
   "cell_type": "code",
   "execution_count": 4,
   "id": "dc68a669",
   "metadata": {},
   "outputs": [],
   "source": [
    "Mode_Manual_Control = widgets.Checkbox(\n",
    "    value=False,\n",
    "    description='Mode_Manual_Control',\n",
    "    disabled=False\n",
    ")\n",
    "Mode_Run_Saved_Scripts = widgets.Checkbox(\n",
    "    value=False,\n",
    "    description='Mode_Run_Saved_Scripts',\n",
    "    disabled=False\n",
    ")\n",
    "Mode_Load_Remote_Scripts = widgets.Checkbox(\n",
    "    value=False,\n",
    "    description='Mode_Load_Remote_Scripts',\n",
    "    disabled=False\n",
    ")\n",
    "Mode_EXIT = widgets.Checkbox(\n",
    "    value=False,\n",
    "    description='Mode_EXIT',\n",
    "    disabled=False\n",
    ")\n",
    "CH_1 = widgets.Checkbox(\n",
    "    value=False,\n",
    "    description='CH_1',\n",
    "    disabled=False\n",
    ")\n",
    "CH_2 = widgets.Checkbox(\n",
    "    value=False,\n",
    "    description='CH_2',\n",
    "    disabled=False\n",
    ")\n",
    "CH_3 = widgets.Checkbox(\n",
    "    value=False,\n",
    "    description='CH_3',\n",
    "    disabled=False\n",
    ")\n",
    "CH_4 = widgets.Checkbox(\n",
    "    value=False,\n",
    "    description='CH_4',\n",
    "    disabled=False\n",
    ")\n",
    "CH_5 = widgets.Checkbox(\n",
    "    value=False,\n",
    "    description='CH_5',\n",
    "    disabled=False\n",
    ")\n",
    "CH_6 = widgets.Checkbox(\n",
    "    value=False,\n",
    "    description='CH_6',\n",
    "    disabled=False\n",
    ")\n",
    "CH_7 = widgets.Checkbox(\n",
    "    value=False,\n",
    "    description='CH_7',\n",
    "    disabled=False\n",
    ")\n",
    "CH_8 = widgets.Checkbox(\n",
    "    value=False,\n",
    "    description='CH_8',\n",
    "    disabled=False\n",
    ")\n",
    "CH_9 = widgets.Checkbox(\n",
    "    value=False,\n",
    "    description='CH_9',\n",
    "    disabled=False\n",
    ")\n",
    "CH_10 = widgets.Checkbox(\n",
    "    value=False,\n",
    "    description='CH_10',\n",
    "    disabled=False\n",
    ")\n",
    "CH_11 = widgets.Checkbox(\n",
    "    value=False,\n",
    "    description='CH_11',\n",
    "    disabled=False\n",
    ")\n",
    "CH_12 = widgets.Checkbox(\n",
    "    value=False,\n",
    "    description='CH_12',\n",
    "    disabled=False\n",
    ")\n",
    "CH_13 = widgets.Checkbox(\n",
    "    value=False,\n",
    "    description='CH_13',\n",
    "    disabled=False\n",
    ")\n",
    "CH_14 = widgets.Checkbox(\n",
    "    value=False,\n",
    "    description='CH_14',\n",
    "    disabled=False\n",
    ")\n",
    "CH_15 = widgets.Checkbox(\n",
    "    value=False,\n",
    "    description='CH_15',\n",
    "    disabled=False\n",
    ")\n",
    "CH_16 = widgets.Checkbox(\n",
    "    value=False,\n",
    "    description='CH_16',\n",
    "    disabled=False\n",
    ")\n",
    "OPEN_CH_all = widgets.Checkbox(\n",
    "    value=False,\n",
    "    description='OPEN_CH_all',\n",
    "    disabled=False\n",
    ")\n",
    "CLOSE_CH_all = widgets.Checkbox(\n",
    "    value=False,\n",
    "    description='CLOSE_CH_all',\n",
    "    disabled=False\n",
    ")\n",
    "Script_1 = widgets.Checkbox(\n",
    "    value=False,\n",
    "    description='Script_1',\n",
    "    disabled=False\n",
    ")\n",
    "Script_2 = widgets.Checkbox(\n",
    "    value=False,\n",
    "    description='Script_2',\n",
    "    disabled=False\n",
    ")\n",
    "Script_3 = widgets.Checkbox(\n",
    "    value=False,\n",
    "    description='Script_3',\n",
    "    disabled=False\n",
    ")"
   ]
  },
  {
   "cell_type": "code",
   "execution_count": 5,
   "id": "6a5e510f",
   "metadata": {},
   "outputs": [
    {
     "data": {
      "application/vnd.jupyter.widget-view+json": {
       "model_id": "d6d30b1686ef4a8ba89e1aa48eabe11c",
       "version_major": 2,
       "version_minor": 0
      },
      "text/plain": [
       "Checkbox(value=False, description='Mode_Manual_Control')"
      ]
     },
     "metadata": {},
     "output_type": "display_data"
    },
    {
     "data": {
      "application/vnd.jupyter.widget-view+json": {
       "model_id": "b377356e7deb4fc4a77bb7b06408f978",
       "version_major": 2,
       "version_minor": 0
      },
      "text/plain": [
       "Checkbox(value=False, description='Mode_Run_Saved_Scripts')"
      ]
     },
     "metadata": {},
     "output_type": "display_data"
    },
    {
     "data": {
      "application/vnd.jupyter.widget-view+json": {
       "model_id": "5b722a80a570484fa167aeb57f8570e9",
       "version_major": 2,
       "version_minor": 0
      },
      "text/plain": [
       "Checkbox(value=False, description='Script_1')"
      ]
     },
     "metadata": {},
     "output_type": "display_data"
    },
    {
     "data": {
      "application/vnd.jupyter.widget-view+json": {
       "model_id": "f828ce0623134305b1ab76ec0a3022c2",
       "version_major": 2,
       "version_minor": 0
      },
      "text/plain": [
       "Checkbox(value=False, description='Script_2')"
      ]
     },
     "metadata": {},
     "output_type": "display_data"
    },
    {
     "data": {
      "application/vnd.jupyter.widget-view+json": {
       "model_id": "ee0d4e7b70d340eea6331d8770ccb6ca",
       "version_major": 2,
       "version_minor": 0
      },
      "text/plain": [
       "Checkbox(value=False, description='Script_3')"
      ]
     },
     "metadata": {},
     "output_type": "display_data"
    },
    {
     "data": {
      "application/vnd.jupyter.widget-view+json": {
       "model_id": "1a11c3efe0d547399352e0db7b00463d",
       "version_major": 2,
       "version_minor": 0
      },
      "text/plain": [
       "Checkbox(value=False, description='Mode_Load_Remote_Scripts')"
      ]
     },
     "metadata": {},
     "output_type": "display_data"
    },
    {
     "data": {
      "application/vnd.jupyter.widget-view+json": {
       "model_id": "14854924f42640b2b4260ed27c60bdde",
       "version_major": 2,
       "version_minor": 0
      },
      "text/plain": [
       "Checkbox(value=False, description='Mode_EXIT')"
      ]
     },
     "metadata": {},
     "output_type": "display_data"
    },
    {
     "data": {
      "application/vnd.jupyter.widget-view+json": {
       "model_id": "46ce68e79025470eaa2b050cb313748b",
       "version_major": 2,
       "version_minor": 0
      },
      "text/plain": [
       "Checkbox(value=False, description='OPEN_CH_all')"
      ]
     },
     "metadata": {},
     "output_type": "display_data"
    },
    {
     "data": {
      "application/vnd.jupyter.widget-view+json": {
       "model_id": "9056bb733d874a4daa2cf025a2e70943",
       "version_major": 2,
       "version_minor": 0
      },
      "text/plain": [
       "Checkbox(value=False, description='CLOSE_CH_all')"
      ]
     },
     "metadata": {},
     "output_type": "display_data"
    },
    {
     "data": {
      "application/vnd.jupyter.widget-view+json": {
       "model_id": "ab6cb061993c42ff9f46c0f1aa518985",
       "version_major": 2,
       "version_minor": 0
      },
      "text/plain": [
       "Checkbox(value=False, description='CH_1')"
      ]
     },
     "metadata": {},
     "output_type": "display_data"
    },
    {
     "data": {
      "application/vnd.jupyter.widget-view+json": {
       "model_id": "3e2aa45e5542490483188d8a7b422846",
       "version_major": 2,
       "version_minor": 0
      },
      "text/plain": [
       "Checkbox(value=False, description='CH_2')"
      ]
     },
     "metadata": {},
     "output_type": "display_data"
    },
    {
     "data": {
      "application/vnd.jupyter.widget-view+json": {
       "model_id": "87daa31717fa4fc79038bbffa7b8f6d5",
       "version_major": 2,
       "version_minor": 0
      },
      "text/plain": [
       "Checkbox(value=False, description='CH_3')"
      ]
     },
     "metadata": {},
     "output_type": "display_data"
    },
    {
     "data": {
      "application/vnd.jupyter.widget-view+json": {
       "model_id": "6a670feb88c24602b388f22453d9fdec",
       "version_major": 2,
       "version_minor": 0
      },
      "text/plain": [
       "Checkbox(value=False, description='CH_4')"
      ]
     },
     "metadata": {},
     "output_type": "display_data"
    },
    {
     "data": {
      "application/vnd.jupyter.widget-view+json": {
       "model_id": "8a843d872a584eaf996617fdd957927b",
       "version_major": 2,
       "version_minor": 0
      },
      "text/plain": [
       "Checkbox(value=False, description='CH_5')"
      ]
     },
     "metadata": {},
     "output_type": "display_data"
    },
    {
     "data": {
      "application/vnd.jupyter.widget-view+json": {
       "model_id": "1058baab75e84861a640279a15ba3087",
       "version_major": 2,
       "version_minor": 0
      },
      "text/plain": [
       "Checkbox(value=False, description='CH_6')"
      ]
     },
     "metadata": {},
     "output_type": "display_data"
    },
    {
     "data": {
      "application/vnd.jupyter.widget-view+json": {
       "model_id": "97b02ebfe88d4be2a63e3eefcdcb2fd4",
       "version_major": 2,
       "version_minor": 0
      },
      "text/plain": [
       "Checkbox(value=False, description='CH_7')"
      ]
     },
     "metadata": {},
     "output_type": "display_data"
    },
    {
     "data": {
      "application/vnd.jupyter.widget-view+json": {
       "model_id": "59742e8e70794b36972fa70c6d92ba56",
       "version_major": 2,
       "version_minor": 0
      },
      "text/plain": [
       "Checkbox(value=False, description='CH_8')"
      ]
     },
     "metadata": {},
     "output_type": "display_data"
    },
    {
     "data": {
      "application/vnd.jupyter.widget-view+json": {
       "model_id": "4c8e4bfc8f624445b29a04095af83b9b",
       "version_major": 2,
       "version_minor": 0
      },
      "text/plain": [
       "Checkbox(value=False, description='CH_9')"
      ]
     },
     "metadata": {},
     "output_type": "display_data"
    },
    {
     "data": {
      "application/vnd.jupyter.widget-view+json": {
       "model_id": "552396edc28d473faa954160afb2d05f",
       "version_major": 2,
       "version_minor": 0
      },
      "text/plain": [
       "Checkbox(value=False, description='CH_10')"
      ]
     },
     "metadata": {},
     "output_type": "display_data"
    },
    {
     "data": {
      "application/vnd.jupyter.widget-view+json": {
       "model_id": "1b87a40dbadb4c45a8f8ae4e25cf32ab",
       "version_major": 2,
       "version_minor": 0
      },
      "text/plain": [
       "Checkbox(value=False, description='CH_11')"
      ]
     },
     "metadata": {},
     "output_type": "display_data"
    },
    {
     "data": {
      "application/vnd.jupyter.widget-view+json": {
       "model_id": "7ab2886f6c8e4b8f83a5347af73b393f",
       "version_major": 2,
       "version_minor": 0
      },
      "text/plain": [
       "Checkbox(value=False, description='CH_12')"
      ]
     },
     "metadata": {},
     "output_type": "display_data"
    },
    {
     "data": {
      "application/vnd.jupyter.widget-view+json": {
       "model_id": "d83aeb2b3c36491aac7f04148a0dc6c8",
       "version_major": 2,
       "version_minor": 0
      },
      "text/plain": [
       "Checkbox(value=False, description='CH_13')"
      ]
     },
     "metadata": {},
     "output_type": "display_data"
    },
    {
     "data": {
      "application/vnd.jupyter.widget-view+json": {
       "model_id": "880eb435ac934151b54cdc98fdc23b79",
       "version_major": 2,
       "version_minor": 0
      },
      "text/plain": [
       "Checkbox(value=False, description='CH_14')"
      ]
     },
     "metadata": {},
     "output_type": "display_data"
    },
    {
     "data": {
      "application/vnd.jupyter.widget-view+json": {
       "model_id": "932d89de358849c0ab53a82e0c190563",
       "version_major": 2,
       "version_minor": 0
      },
      "text/plain": [
       "Checkbox(value=False, description='CH_15')"
      ]
     },
     "metadata": {},
     "output_type": "display_data"
    },
    {
     "data": {
      "application/vnd.jupyter.widget-view+json": {
       "model_id": "67b841d4872043e7894e3bcf30983c1d",
       "version_major": 2,
       "version_minor": 0
      },
      "text/plain": [
       "Checkbox(value=False, description='CH_16')"
      ]
     },
     "metadata": {},
     "output_type": "display_data"
    }
   ],
   "source": [
    "display(Mode_Manual_Control)\n",
    "display(Mode_Run_Saved_Scripts)\n",
    "display(Script_1)\n",
    "display(Script_2)\n",
    "display(Script_3)\n",
    "display(Mode_Load_Remote_Scripts)\n",
    "display(Mode_EXIT)\n",
    "display(OPEN_CH_all)\n",
    "display(CLOSE_CH_all)\n",
    "display(CH_1)\n",
    "display(CH_2)\n",
    "display(CH_3)\n",
    "display(CH_4)\n",
    "display(CH_5)\n",
    "display(CH_6)\n",
    "display(CH_7)\n",
    "display(CH_8)\n",
    "display(CH_9)\n",
    "display(CH_10)\n",
    "display(CH_11)\n",
    "display(CH_12)\n",
    "display(CH_13)\n",
    "display(CH_14)\n",
    "display(CH_15)\n",
    "display(CH_16)"
   ]
  },
  {
   "cell_type": "code",
   "execution_count": 14,
   "id": "2df5dd36",
   "metadata": {
    "code_folding": []
   },
   "outputs": [
    {
     "name": "stdout",
     "output_type": "stream",
     "text": [
      "[False, True, True, True, False, False, False, False, False, False, False, False, True, True, True, True]\n",
      "111000000001111\n"
     ]
    }
   ],
   "source": [
    "########################### from my google colab code#############################\n",
    "result = 0\n",
    "result_struct = {}\n",
    "\n",
    "Manual_List = [CH_1.value, CH_2.value, CH_3.value, CH_4.value, CH_5.value, CH_6.value, CH_7.value, CH_8.value, CH_9.value, CH_10.value, CH_11.value, CH_12.value, CH_13.value, CH_14.value, CH_15.value, CH_16.value]\n",
    "print(Manual_List)\n",
    "\n",
    "if (Mode_Manual_Control.value):\n",
    "    result = 0\n",
    "    if (OPEN_CH_all.value):\n",
    "        for ch in Manual_List:\n",
    "            result = (result<<1) + 1 \n",
    "            result_struct['mode'] = 1;\n",
    "            result_struct['param'] = result;\n",
    "    elif (CLOSE_CH_all.value):    \n",
    "        for ch in Manual_List:\n",
    "            result = (result<<1) + 0\n",
    "            result_struct['mode'] = 1;\n",
    "            result_struct['param'] = result;\n",
    "    else:\n",
    "        for ch in Manual_List:\n",
    "            result = (result<<1) + int(ch)\n",
    "            result_struct['mode'] = 1;\n",
    "            result_struct['param'] = result;\n",
    "            \n",
    "elif (Mode_Run_Saved_Scripts.value): #Optimize this later\n",
    "    if (Script_1.value):\n",
    "     #result = (1<<4)+2 #+2 means mode 2 - this is old and not running\n",
    "        result = (1<<4)+2\n",
    "        result_struct['mode'] = 2\n",
    "        result_struct['param'] = 1\n",
    "    elif (Script_2.value):\n",
    "        result = (2<<4)+2\n",
    "        result_struct['mode'] = 2\n",
    "        result_struct['param'] = 2\n",
    "    elif (Script_3.value):\n",
    "        result = (3<<4)+2\n",
    "        result_struct['mode'] = 2\n",
    "        result_struct['param'] = 3\n",
    "elif (Mode_Load_Remote_Scripts.value):\n",
    "    result_struct['mode'] = 3\n",
    "    result_struct['param'] = test_file_content\n",
    "elif (Mode_EXIT.value):\n",
    "    result_struct['mode'] = 0\n",
    "    result_struct['param'] = 0\n",
    "else:\n",
    "    print(\"check the manual box!!\")\n",
    "\n",
    "print(\"{0:b}\".format(result))"
   ]
  },
  {
   "cell_type": "markdown",
   "id": "e3aa0636",
   "metadata": {},
   "source": [
    "Send a message to sampad's device"
   ]
  },
  {
   "cell_type": "code",
   "execution_count": 15,
   "id": "cf517ed4",
   "metadata": {},
   "outputs": [],
   "source": [
    "mb = messaging.MessageBroker(str(uuid.uuid4))\n",
    "mb.publish_message(topic=\"Sampad_Device\", message=result_struct)"
   ]
  },
  {
   "cell_type": "code",
   "execution_count": null,
   "id": "aeebbf0e",
   "metadata": {},
   "outputs": [],
   "source": [
    "mb.shutdown()\n",
    "print(\"Shutting down from remote side\")"
   ]
  }
 ],
 "metadata": {
  "hide_input": false,
  "kernelspec": {
   "display_name": "Python 3 (ipykernel)",
   "language": "python",
   "name": "python3"
  },
  "language_info": {
   "codemirror_mode": {
    "name": "ipython",
    "version": 3
   },
   "file_extension": ".py",
   "mimetype": "text/x-python",
   "name": "python",
   "nbconvert_exporter": "python",
   "pygments_lexer": "ipython3",
   "version": "3.9.7"
  },
  "toc": {
   "base_numbering": 1,
   "nav_menu": {},
   "number_sections": false,
   "sideBar": true,
   "skip_h1_title": false,
   "title_cell": "Table of Contents",
   "title_sidebar": "Contents",
   "toc_cell": false,
   "toc_position": {},
   "toc_section_display": true,
   "toc_window_display": false
  },
  "widgets": {
   "application/vnd.jupyter.widget-state+json": {
    "state": {
     "00d25a3ab43f4b3cab94f0c318a3b2d2": {
      "model_module": "@jupyter-widgets/controls",
      "model_module_version": "1.5.0",
      "model_name": "CheckboxModel",
      "state": {
       "description": "Mode_Run_Saved_Scripts",
       "disabled": false,
       "layout": "IPY_MODEL_5313a541b8fc469185a53ea95b23cd94",
       "style": "IPY_MODEL_fc454824f9d84318bc43db9881c26ade",
       "value": false
      }
     },
     "00db42cc05fb4e91bbc2732cf3a62549": {
      "model_module": "@jupyter-widgets/controls",
      "model_module_version": "1.5.0",
      "model_name": "CheckboxModel",
      "state": {
       "description": "CH_14",
       "disabled": false,
       "layout": "IPY_MODEL_c5a4f6ae082b4bdca34cbfb2899a83b0",
       "style": "IPY_MODEL_958b720883ef4624a4170e2435e274e6",
       "value": false
      }
     },
     "012639bcfc3141908f579451d1d968e2": {
      "model_module": "@jupyter-widgets/controls",
      "model_module_version": "1.5.0",
      "model_name": "DescriptionStyleModel",
      "state": {
       "description_width": ""
      }
     },
     "01288b0362d74de18998763c81e21161": {
      "model_module": "@jupyter-widgets/controls",
      "model_module_version": "1.5.0",
      "model_name": "DescriptionStyleModel",
      "state": {
       "description_width": ""
      }
     },
     "0157c34006ca41ea8684b8f331a6613d": {
      "model_module": "@jupyter-widgets/controls",
      "model_module_version": "1.5.0",
      "model_name": "CheckboxModel",
      "state": {
       "description": "Mode_Run_Saved_Scripts",
       "disabled": false,
       "layout": "IPY_MODEL_2dbb5efdce6949dbafa8742acd3991c9",
       "style": "IPY_MODEL_ccdd3a82f44a40dba79d3d38d4a10c46",
       "value": false
      }
     },
     "01e37b6dc4a945c1a7c784612ce93c30": {
      "model_module": "@jupyter-widgets/base",
      "model_module_version": "1.2.0",
      "model_name": "LayoutModel",
      "state": {}
     },
     "0243184dc59e449c8396087478ff3690": {
      "model_module": "@jupyter-widgets/base",
      "model_module_version": "1.2.0",
      "model_name": "LayoutModel",
      "state": {}
     },
     "02650e68758743f89af5dddcf4bb2c17": {
      "model_module": "@jupyter-widgets/controls",
      "model_module_version": "1.5.0",
      "model_name": "CheckboxModel",
      "state": {
       "description": "CH_13",
       "disabled": false,
       "layout": "IPY_MODEL_a0777db61a6f484594d8d648c0de7bd9",
       "style": "IPY_MODEL_b97a340a64774ba680a20f3f4f1a8008",
       "value": false
      }
     },
     "032e882861eb450abd46d129ca8757de": {
      "model_module": "@jupyter-widgets/controls",
      "model_module_version": "1.5.0",
      "model_name": "DescriptionStyleModel",
      "state": {
       "description_width": ""
      }
     },
     "033c75896e53442caebd60fc6bbc38e9": {
      "model_module": "@jupyter-widgets/controls",
      "model_module_version": "1.5.0",
      "model_name": "CheckboxModel",
      "state": {
       "description": "Mode_EXIT",
       "disabled": false,
       "layout": "IPY_MODEL_fae727253cc34c84bcee781434255117",
       "style": "IPY_MODEL_2476c030ed504449983619b7545d3926",
       "value": false
      }
     },
     "03c8b6351aff43148dda16b545f08901": {
      "model_module": "@jupyter-widgets/controls",
      "model_module_version": "1.5.0",
      "model_name": "CheckboxModel",
      "state": {
       "description": "Mode_EXIT",
       "disabled": false,
       "layout": "IPY_MODEL_8adddc400ca947dba070375c0c91d6f0",
       "style": "IPY_MODEL_814a02a8876c4018bd6f913906ea5e59",
       "value": false
      }
     },
     "04018cbaa0fa4c8c85ee7d9808ac8ba2": {
      "model_module": "@jupyter-widgets/controls",
      "model_module_version": "1.5.0",
      "model_name": "CheckboxModel",
      "state": {
       "description": "CH_1",
       "disabled": false,
       "layout": "IPY_MODEL_2eca5116d3f14ef6af6a9ce5e83bf183",
       "style": "IPY_MODEL_907220118341462792593ef71fb4220a",
       "value": false
      }
     },
     "04717dd089114174ad1cae140573bf97": {
      "model_module": "@jupyter-widgets/controls",
      "model_module_version": "1.5.0",
      "model_name": "CheckboxModel",
      "state": {
       "description": "Mode_Run_Saved_Scripts",
       "disabled": false,
       "layout": "IPY_MODEL_6f0218675b0f41cb8470c4d198d51005",
       "style": "IPY_MODEL_7aa42ad2b9b54dd7a1974c567b7ad076",
       "value": false
      }
     },
     "048085a83d6042d49e29108c9c4c6672": {
      "model_module": "@jupyter-widgets/controls",
      "model_module_version": "1.5.0",
      "model_name": "CheckboxModel",
      "state": {
       "description": "CH_10",
       "disabled": false,
       "layout": "IPY_MODEL_d35c13ec0b4d4442a0059279a3d07e9a",
       "style": "IPY_MODEL_902c0d21b1da4f5bae36051087d5d0d5",
       "value": false
      }
     },
     "04b054029b89464bb9158b3e2fb83781": {
      "model_module": "@jupyter-widgets/controls",
      "model_module_version": "1.5.0",
      "model_name": "CheckboxModel",
      "state": {
       "description": "Script_1",
       "disabled": false,
       "layout": "IPY_MODEL_d84fe2e5242b460cb71859f2a60e5935",
       "style": "IPY_MODEL_449e94108a5946be88cb4d28083d9f28",
       "value": false
      }
     },
     "04b39ffe7e2e4506ac935b02185dbd41": {
      "model_module": "@jupyter-widgets/base",
      "model_module_version": "1.2.0",
      "model_name": "LayoutModel",
      "state": {}
     },
     "053d291a3d624c21ab806f9298a37864": {
      "model_module": "@jupyter-widgets/controls",
      "model_module_version": "1.5.0",
      "model_name": "CheckboxModel",
      "state": {
       "description": "CH_16",
       "disabled": false,
       "layout": "IPY_MODEL_a52fb788d6e64539836c8b3a8eb5f151",
       "style": "IPY_MODEL_30336c0f3af14fe6bdf55c921cd7783f",
       "value": true
      }
     },
     "0561071fafe1455db0d10bd9109b576d": {
      "model_module": "@jupyter-widgets/controls",
      "model_module_version": "1.5.0",
      "model_name": "CheckboxModel",
      "state": {
       "description": "CH_7",
       "disabled": false,
       "layout": "IPY_MODEL_0e63d2a921b443fa87415d99ad88530b",
       "style": "IPY_MODEL_8357dcc66a0b4084ab84fdd6c78c3147",
       "value": false
      }
     },
     "05759a0628454d01a39ecd77f2201407": {
      "model_module": "@jupyter-widgets/controls",
      "model_module_version": "1.5.0",
      "model_name": "CheckboxModel",
      "state": {
       "description": "Mode_Load_Remote_Scripts",
       "disabled": false,
       "layout": "IPY_MODEL_b277f4394e094f478aa4d80cc5898328",
       "style": "IPY_MODEL_11426203d885407cb606e71c4b8634bb",
       "value": false
      }
     },
     "057a217d4062471f8750dc10c044f6fd": {
      "model_module": "@jupyter-widgets/base",
      "model_module_version": "1.2.0",
      "model_name": "LayoutModel",
      "state": {}
     },
     "05afb7b78b9b469f8da2f600dbdd7880": {
      "model_module": "@jupyter-widgets/controls",
      "model_module_version": "1.5.0",
      "model_name": "DescriptionStyleModel",
      "state": {
       "description_width": ""
      }
     },
     "05d942b01bdd4636bec67062097cacce": {
      "model_module": "@jupyter-widgets/base",
      "model_module_version": "1.2.0",
      "model_name": "LayoutModel",
      "state": {}
     },
     "06024302adea4331a84fe60f36cbd9ec": {
      "model_module": "@jupyter-widgets/controls",
      "model_module_version": "1.5.0",
      "model_name": "DescriptionStyleModel",
      "state": {
       "description_width": ""
      }
     },
     "0708704d0e174d4f98cefc430a0fe0c8": {
      "model_module": "@jupyter-widgets/controls",
      "model_module_version": "1.5.0",
      "model_name": "CheckboxModel",
      "state": {
       "description": "CH_16",
       "disabled": false,
       "layout": "IPY_MODEL_2c3bba11fdd343fe858404ebe3fd6fa6",
       "style": "IPY_MODEL_baf7097663db4532be21c9adfe30e5cb",
       "value": true
      }
     },
     "074e67b8d3e645dfba016fc6a2c8e977": {
      "model_module": "@jupyter-widgets/base",
      "model_module_version": "1.2.0",
      "model_name": "LayoutModel",
      "state": {}
     },
     "08418b40a67443db948c8a1eadcc4855": {
      "model_module": "@jupyter-widgets/controls",
      "model_module_version": "1.5.0",
      "model_name": "CheckboxModel",
      "state": {
       "description": "CH_6",
       "disabled": false,
       "layout": "IPY_MODEL_1a8bb33c9f984b93b0ad5d0877c3c126",
       "style": "IPY_MODEL_bc4e1391cac941dda66b14ca7c7a24c4",
       "value": false
      }
     },
     "08819abf809441be9a88c80f9c6959ca": {
      "model_module": "@jupyter-widgets/controls",
      "model_module_version": "1.5.0",
      "model_name": "CheckboxModel",
      "state": {
       "description": "Script_3",
       "disabled": false,
       "layout": "IPY_MODEL_0c43b6ea59e644d2af4763116563f10d",
       "style": "IPY_MODEL_ef91bc02d8f9484fa48bdf622fce039d",
       "value": false
      }
     },
     "088aead1f40a421aa1fb1cba03cecac3": {
      "model_module": "@jupyter-widgets/controls",
      "model_module_version": "1.5.0",
      "model_name": "CheckboxModel",
      "state": {
       "description": "CH_16",
       "disabled": false,
       "layout": "IPY_MODEL_8714616fd2f44d34a2624111c943f8f9",
       "style": "IPY_MODEL_18567aa513c2491db59095cde3f8ad88",
       "value": true
      }
     },
     "0981889b59e54c1d90c09c4fd5f27af6": {
      "model_module": "@jupyter-widgets/controls",
      "model_module_version": "1.5.0",
      "model_name": "CheckboxModel",
      "state": {
       "description": "CH_16",
       "disabled": false,
       "layout": "IPY_MODEL_cccf8ef8948c4b43834e95f6890abd81",
       "style": "IPY_MODEL_cfa668b8ddf042bf92bec9e8d21f5aa3",
       "value": true
      }
     },
     "09d9af8c5600454284ffd5dfecb630f9": {
      "model_module": "@jupyter-widgets/controls",
      "model_module_version": "1.5.0",
      "model_name": "CheckboxModel",
      "state": {
       "description": "Mode_Run_Saved_Scripts",
       "disabled": false,
       "layout": "IPY_MODEL_fddb53e8b1b042d68a69cc715ede74f8",
       "style": "IPY_MODEL_fc85eda3cf57402bbfe7b896f1c23b6c",
       "value": false
      }
     },
     "0a06b70c466a4f10bf8394c7fd1f8ed7": {
      "model_module": "@jupyter-widgets/base",
      "model_module_version": "1.2.0",
      "model_name": "LayoutModel",
      "state": {}
     },
     "0ac4d5c63331499ca46e73f8dcdb3ab7": {
      "model_module": "@jupyter-widgets/controls",
      "model_module_version": "1.5.0",
      "model_name": "CheckboxModel",
      "state": {
       "description": "CH_5",
       "disabled": false,
       "layout": "IPY_MODEL_1e082338af4f41da84a1c2d3f4f47953",
       "style": "IPY_MODEL_bbd68d718f3b444f936c98c75a8db888",
       "value": false
      }
     },
     "0aede43f19734e8aadf71cfc4c61c44d": {
      "model_module": "@jupyter-widgets/controls",
      "model_module_version": "1.5.0",
      "model_name": "DescriptionStyleModel",
      "state": {
       "description_width": ""
      }
     },
     "0b0d32478d2c469d9281439aaea975f4": {
      "model_module": "@jupyter-widgets/controls",
      "model_module_version": "1.5.0",
      "model_name": "DescriptionStyleModel",
      "state": {
       "description_width": ""
      }
     },
     "0b3e6cbdfec444ee9ae7f81d0f9b8089": {
      "model_module": "@jupyter-widgets/base",
      "model_module_version": "1.2.0",
      "model_name": "LayoutModel",
      "state": {}
     },
     "0b59a481d09d46c2a0e0f97e6cbb4884": {
      "model_module": "@jupyter-widgets/base",
      "model_module_version": "1.2.0",
      "model_name": "LayoutModel",
      "state": {}
     },
     "0b69e65d079f4762ac6f3552554c4aea": {
      "model_module": "@jupyter-widgets/controls",
      "model_module_version": "1.5.0",
      "model_name": "CheckboxModel",
      "state": {
       "description": "CLOSE_CH_all",
       "disabled": false,
       "layout": "IPY_MODEL_c01ed1406afe42958b7d8b24cad03394",
       "style": "IPY_MODEL_d97ca37697264288a5e0102a99763337",
       "value": false
      }
     },
     "0b97c616052443c6839305cc828f7e47": {
      "model_module": "@jupyter-widgets/base",
      "model_module_version": "1.2.0",
      "model_name": "LayoutModel",
      "state": {}
     },
     "0b9f2b9890a8429899122ee5c40508be": {
      "model_module": "@jupyter-widgets/controls",
      "model_module_version": "1.5.0",
      "model_name": "CheckboxModel",
      "state": {
       "description": "CH_11",
       "disabled": false,
       "layout": "IPY_MODEL_5f58c1d42c144711bc5c5bfce7f9483d",
       "style": "IPY_MODEL_7e6a60b4fdfa4493a13fa3ae3a8af969",
       "value": false
      }
     },
     "0bee1826deec4083a17317289303f51d": {
      "model_module": "@jupyter-widgets/base",
      "model_module_version": "1.2.0",
      "model_name": "LayoutModel",
      "state": {}
     },
     "0c3298cebe6a4104bf7ebc4910ed0985": {
      "model_module": "@jupyter-widgets/controls",
      "model_module_version": "1.5.0",
      "model_name": "DescriptionStyleModel",
      "state": {
       "description_width": ""
      }
     },
     "0c4256fddcaa4db6bce6cb69f74a9b7a": {
      "model_module": "@jupyter-widgets/base",
      "model_module_version": "1.2.0",
      "model_name": "LayoutModel",
      "state": {}
     },
     "0c42e4a6f0d448ceb946b588006ea447": {
      "model_module": "@jupyter-widgets/controls",
      "model_module_version": "1.5.0",
      "model_name": "DescriptionStyleModel",
      "state": {
       "description_width": ""
      }
     },
     "0c43b6ea59e644d2af4763116563f10d": {
      "model_module": "@jupyter-widgets/base",
      "model_module_version": "1.2.0",
      "model_name": "LayoutModel",
      "state": {}
     },
     "0c5f277d5f6d44e8a6d724fa7c97f820": {
      "model_module": "@jupyter-widgets/base",
      "model_module_version": "1.2.0",
      "model_name": "LayoutModel",
      "state": {}
     },
     "0c88c8b686d7464a9edb8be0a940e95b": {
      "model_module": "@jupyter-widgets/base",
      "model_module_version": "1.2.0",
      "model_name": "LayoutModel",
      "state": {}
     },
     "0c9671341dab42d9870c142680aed63c": {
      "model_module": "@jupyter-widgets/controls",
      "model_module_version": "1.5.0",
      "model_name": "DescriptionStyleModel",
      "state": {
       "description_width": ""
      }
     },
     "0cc4751c017d4b0ea7740daabdb50348": {
      "model_module": "@jupyter-widgets/controls",
      "model_module_version": "1.5.0",
      "model_name": "DescriptionStyleModel",
      "state": {
       "description_width": ""
      }
     },
     "0cec05c39b8a45a894967eaee89dad19": {
      "model_module": "@jupyter-widgets/controls",
      "model_module_version": "1.5.0",
      "model_name": "DescriptionStyleModel",
      "state": {
       "description_width": ""
      }
     },
     "0d021f32a1da46228802cb4cf2a78327": {
      "model_module": "@jupyter-widgets/controls",
      "model_module_version": "1.5.0",
      "model_name": "DescriptionStyleModel",
      "state": {
       "description_width": ""
      }
     },
     "0da78e0e6d274991a2684911ceac14f7": {
      "model_module": "@jupyter-widgets/controls",
      "model_module_version": "1.5.0",
      "model_name": "DescriptionStyleModel",
      "state": {
       "description_width": ""
      }
     },
     "0dcc4940f96b4e16ace15cb25bbc1dc2": {
      "model_module": "@jupyter-widgets/controls",
      "model_module_version": "1.5.0",
      "model_name": "CheckboxModel",
      "state": {
       "description": "CH_13",
       "disabled": false,
       "layout": "IPY_MODEL_f5977c11f9b74159b3292808da2f1e61",
       "style": "IPY_MODEL_3404c27293f8424c881022d5de322298",
       "value": true
      }
     },
     "0e487820e9c44fddb60c9fd0aaab9ba2": {
      "model_module": "@jupyter-widgets/controls",
      "model_module_version": "1.5.0",
      "model_name": "CheckboxModel",
      "state": {
       "description": "Mode_Load_Remote_Scripts",
       "disabled": false,
       "layout": "IPY_MODEL_e4f5cafd93254e6a9799e9c72ae61502",
       "style": "IPY_MODEL_d276838334fe451d87c65714428720f2",
       "value": false
      }
     },
     "0e63d2a921b443fa87415d99ad88530b": {
      "model_module": "@jupyter-widgets/base",
      "model_module_version": "1.2.0",
      "model_name": "LayoutModel",
      "state": {}
     },
     "0e962ffce0cb40f2be2c3d99d86fc865": {
      "model_module": "@jupyter-widgets/controls",
      "model_module_version": "1.5.0",
      "model_name": "CheckboxModel",
      "state": {
       "description": "CH_4",
       "disabled": false,
       "layout": "IPY_MODEL_54aefe72f9ee4f21a47f375582568bbd",
       "style": "IPY_MODEL_edceb7921c6a4cfb9ae0e687c5cc395c",
       "value": true
      }
     },
     "0eb510cd56324d5fb1e23133eabcc4c4": {
      "model_module": "@jupyter-widgets/controls",
      "model_module_version": "1.5.0",
      "model_name": "DescriptionStyleModel",
      "state": {
       "description_width": ""
      }
     },
     "0ed1a5a9e54843639a6ce1a8fb45e8d2": {
      "model_module": "@jupyter-widgets/controls",
      "model_module_version": "1.5.0",
      "model_name": "DescriptionStyleModel",
      "state": {
       "description_width": ""
      }
     },
     "0ee811cd4982494fbe744848dbf22c71": {
      "model_module": "@jupyter-widgets/base",
      "model_module_version": "1.2.0",
      "model_name": "LayoutModel",
      "state": {}
     },
     "0f615fe793494e1b9a23fa06b4c0d2c9": {
      "model_module": "@jupyter-widgets/base",
      "model_module_version": "1.2.0",
      "model_name": "LayoutModel",
      "state": {}
     },
     "0f8bced09d664926aef2246e307674ad": {
      "model_module": "@jupyter-widgets/controls",
      "model_module_version": "1.5.0",
      "model_name": "CheckboxModel",
      "state": {
       "description": "CH_5",
       "disabled": false,
       "layout": "IPY_MODEL_d91f16b344c243c1b0ae552e4da7948c",
       "style": "IPY_MODEL_29a8ad18e6ab4ffa974ed9304ab52abe",
       "value": false
      }
     },
     "0fa06b4502334ea6b2334a1775f1f40c": {
      "model_module": "@jupyter-widgets/base",
      "model_module_version": "1.2.0",
      "model_name": "LayoutModel",
      "state": {}
     },
     "1028b0a848234bb5bf3ac88cd6934e5a": {
      "model_module": "@jupyter-widgets/controls",
      "model_module_version": "1.5.0",
      "model_name": "CheckboxModel",
      "state": {
       "description": "Script_2",
       "disabled": false,
       "layout": "IPY_MODEL_489c4667fcef4d65bde4239ef9f4a394",
       "style": "IPY_MODEL_38bd0cbcb5d54cf1a049862221b266c5",
       "value": false
      }
     },
     "105cb0a32e6a4ef0b253892f8b8df364": {
      "model_module": "@jupyter-widgets/base",
      "model_module_version": "1.2.0",
      "model_name": "LayoutModel",
      "state": {}
     },
     "1092fa3c9d364479b6415283ec3d5c33": {
      "model_module": "@jupyter-widgets/base",
      "model_module_version": "1.2.0",
      "model_name": "LayoutModel",
      "state": {}
     },
     "10c42179f0e9476a9e07156660c1290a": {
      "model_module": "@jupyter-widgets/controls",
      "model_module_version": "1.5.0",
      "model_name": "CheckboxModel",
      "state": {
       "description": "Mode_EXIT",
       "disabled": false,
       "layout": "IPY_MODEL_deb254557c6a4a0c832ea9e9fec847e7",
       "style": "IPY_MODEL_0cec05c39b8a45a894967eaee89dad19",
       "value": false
      }
     },
     "10c8034015f645d8b731d26b118e8255": {
      "model_module": "@jupyter-widgets/base",
      "model_module_version": "1.2.0",
      "model_name": "LayoutModel",
      "state": {}
     },
     "11426203d885407cb606e71c4b8634bb": {
      "model_module": "@jupyter-widgets/controls",
      "model_module_version": "1.5.0",
      "model_name": "DescriptionStyleModel",
      "state": {
       "description_width": ""
      }
     },
     "118876960eb14bc8a1ab84c2c1f6d642": {
      "model_module": "@jupyter-widgets/controls",
      "model_module_version": "1.5.0",
      "model_name": "CheckboxModel",
      "state": {
       "description": "Mode_Load_Remote_Scripts",
       "disabled": false,
       "layout": "IPY_MODEL_f67084db0a544a70801457221311c09e",
       "style": "IPY_MODEL_77e5719f25714e0fbbf6862133ff2bfc",
       "value": false
      }
     },
     "11d74d1efc6c4750afd501c334bd388b": {
      "model_module": "@jupyter-widgets/controls",
      "model_module_version": "1.5.0",
      "model_name": "DescriptionStyleModel",
      "state": {
       "description_width": ""
      }
     },
     "11e822da0a674e3c93678d8fb74f365e": {
      "model_module": "@jupyter-widgets/controls",
      "model_module_version": "1.5.0",
      "model_name": "DescriptionStyleModel",
      "state": {
       "description_width": ""
      }
     },
     "12007468bb444bc4826937cd9d926387": {
      "model_module": "@jupyter-widgets/controls",
      "model_module_version": "1.5.0",
      "model_name": "CheckboxModel",
      "state": {
       "description": "CH_8",
       "disabled": false,
       "layout": "IPY_MODEL_9656bb7b05a148e7b0306d283ab89e2e",
       "style": "IPY_MODEL_4643d95eb8664ca1a6e8c86d71bbf181",
       "value": true
      }
     },
     "1210b8620850471bb21a0dbadd397804": {
      "model_module": "@jupyter-widgets/controls",
      "model_module_version": "1.5.0",
      "model_name": "CheckboxModel",
      "state": {
       "description": "Mode_Run_Saved_Scripts",
       "disabled": false,
       "layout": "IPY_MODEL_93d38efdda534baab65eade89924afa8",
       "style": "IPY_MODEL_ed68b7c9ad5943c1a7cdb98832dda529",
       "value": false
      }
     },
     "125519dc7d3d4397b328143deb8a1ffa": {
      "model_module": "@jupyter-widgets/controls",
      "model_module_version": "1.5.0",
      "model_name": "CheckboxModel",
      "state": {
       "description": "CH_15",
       "disabled": false,
       "layout": "IPY_MODEL_8a6a2b812a1f45fea4dd71f7fcd3f4fb",
       "style": "IPY_MODEL_8d21052074874998a49d1d99cef4ebec",
       "value": false
      }
     },
     "1269868b9bfa476a89a1ae63942a1616": {
      "model_module": "@jupyter-widgets/controls",
      "model_module_version": "1.5.0",
      "model_name": "CheckboxModel",
      "state": {
       "description": "Mode_Run_Saved_Scripts",
       "disabled": false,
       "layout": "IPY_MODEL_c878d7add3324b47a6b80333e74dee71",
       "style": "IPY_MODEL_e415d07dd6f949899366396656d29030",
       "value": false
      }
     },
     "1279635adcce491aad7bf1930f32c6e6": {
      "model_module": "@jupyter-widgets/controls",
      "model_module_version": "1.5.0",
      "model_name": "CheckboxModel",
      "state": {
       "description": "CH_5",
       "disabled": false,
       "layout": "IPY_MODEL_441b07ba302d435d9300c8233cdfe972",
       "style": "IPY_MODEL_5b3b29f81c75410286483d2d6e1f492b",
       "value": false
      }
     },
     "12bcd7cf6fc849678f24fcbace639ff9": {
      "model_module": "@jupyter-widgets/controls",
      "model_module_version": "1.5.0",
      "model_name": "DescriptionStyleModel",
      "state": {
       "description_width": ""
      }
     },
     "1360c8d7f6754d4a940d0581e3fa4caa": {
      "model_module": "@jupyter-widgets/controls",
      "model_module_version": "1.5.0",
      "model_name": "DescriptionStyleModel",
      "state": {
       "description_width": ""
      }
     },
     "13bc7a2bb45b436aac27c02bd9228a06": {
      "model_module": "@jupyter-widgets/controls",
      "model_module_version": "1.5.0",
      "model_name": "CheckboxModel",
      "state": {
       "description": "CH_5",
       "disabled": false,
       "layout": "IPY_MODEL_04b39ffe7e2e4506ac935b02185dbd41",
       "style": "IPY_MODEL_312c284ac012420ea69b0e88a882ac8b",
       "value": false
      }
     },
     "13c3793490cf4bea9764c57c39a5b2c3": {
      "model_module": "@jupyter-widgets/base",
      "model_module_version": "1.2.0",
      "model_name": "LayoutModel",
      "state": {}
     },
     "140574c61a37472fb4c2bd23f6f5322a": {
      "model_module": "@jupyter-widgets/controls",
      "model_module_version": "1.5.0",
      "model_name": "CheckboxModel",
      "state": {
       "description": "CH_8",
       "disabled": false,
       "layout": "IPY_MODEL_f9bfbbf6361347539e587c09f63999a1",
       "style": "IPY_MODEL_6e632f37d7c343c7bb9023f4be9e242d",
       "value": false
      }
     },
     "1467164d0e274c14ad0f57910595788b": {
      "model_module": "@jupyter-widgets/controls",
      "model_module_version": "1.5.0",
      "model_name": "DescriptionStyleModel",
      "state": {
       "description_width": ""
      }
     },
     "1495559e8472415180b9576f516ac48a": {
      "model_module": "@jupyter-widgets/controls",
      "model_module_version": "1.5.0",
      "model_name": "CheckboxModel",
      "state": {
       "description": "CH_7",
       "disabled": false,
       "layout": "IPY_MODEL_a1a249aca0a14b1c97aac94836257f0c",
       "style": "IPY_MODEL_9133490d0e1143b1810fefc9bbb5ba2e",
       "value": false
      }
     },
     "14b7d1dbe7bc4d3aa1a24ec13c1d7390": {
      "model_module": "@jupyter-widgets/base",
      "model_module_version": "1.2.0",
      "model_name": "LayoutModel",
      "state": {}
     },
     "14c1fa1021cd43a18d1ba06177971143": {
      "model_module": "@jupyter-widgets/base",
      "model_module_version": "1.2.0",
      "model_name": "LayoutModel",
      "state": {}
     },
     "14ce2d1f73d3477cb118a02168b57fc8": {
      "model_module": "@jupyter-widgets/controls",
      "model_module_version": "1.5.0",
      "model_name": "CheckboxModel",
      "state": {
       "description": "CH_6",
       "disabled": false,
       "layout": "IPY_MODEL_d7683e518a4a4eb1944e0789bd1344ad",
       "style": "IPY_MODEL_3fa69858ee3347c2893e9af2f65445e4",
       "value": false
      }
     },
     "15a274b84cc646f29879d563e8ef01bc": {
      "model_module": "@jupyter-widgets/base",
      "model_module_version": "1.2.0",
      "model_name": "LayoutModel",
      "state": {}
     },
     "15def0e8405e4b878ff9bd98bcdadb42": {
      "model_module": "@jupyter-widgets/base",
      "model_module_version": "1.2.0",
      "model_name": "LayoutModel",
      "state": {}
     },
     "160e8b46933b4e649790c2e7833c2306": {
      "model_module": "@jupyter-widgets/controls",
      "model_module_version": "1.5.0",
      "model_name": "CheckboxModel",
      "state": {
       "description": "Mode_Manual_Control",
       "disabled": false,
       "layout": "IPY_MODEL_f72b4687594d4fd182c48b94ffc9c95c",
       "style": "IPY_MODEL_ebde24136f82407a9e503d2269aeed62",
       "value": true
      }
     },
     "163fc8b8ca524f988ec86bcdfe82ad7f": {
      "model_module": "@jupyter-widgets/controls",
      "model_module_version": "1.5.0",
      "model_name": "CheckboxModel",
      "state": {
       "description": "CH_8",
       "disabled": false,
       "layout": "IPY_MODEL_57731eee6ca54871aa2fd0be62579453",
       "style": "IPY_MODEL_332aef6eb22f4721b3d4757a948cb7ad",
       "value": false
      }
     },
     "167bce53cc18465191abd5eb9cde447c": {
      "model_module": "@jupyter-widgets/controls",
      "model_module_version": "1.5.0",
      "model_name": "DescriptionStyleModel",
      "state": {
       "description_width": ""
      }
     },
     "1692e3afbbc5482f804b244133661267": {
      "model_module": "@jupyter-widgets/controls",
      "model_module_version": "1.5.0",
      "model_name": "CheckboxModel",
      "state": {
       "description": "CH_3",
       "disabled": false,
       "layout": "IPY_MODEL_0f615fe793494e1b9a23fa06b4c0d2c9",
       "style": "IPY_MODEL_2cb4ff4a2c7543b28773c185a611a04e",
       "value": false
      }
     },
     "16d47a6f33c7433e8370fbde94bb6603": {
      "model_module": "@jupyter-widgets/base",
      "model_module_version": "1.2.0",
      "model_name": "LayoutModel",
      "state": {}
     },
     "16d7951053fb49809d303ba31a90931a": {
      "model_module": "@jupyter-widgets/controls",
      "model_module_version": "1.5.0",
      "model_name": "DescriptionStyleModel",
      "state": {
       "description_width": ""
      }
     },
     "16db84bdc5b84d798068442acfd9b3e7": {
      "model_module": "@jupyter-widgets/controls",
      "model_module_version": "1.5.0",
      "model_name": "DescriptionStyleModel",
      "state": {
       "description_width": ""
      }
     },
     "174afd3e1f684bc2b6a7095e9e35fbe6": {
      "model_module": "@jupyter-widgets/controls",
      "model_module_version": "1.5.0",
      "model_name": "CheckboxModel",
      "state": {
       "description": "Mode_Load_Remote_Scripts",
       "disabled": false,
       "layout": "IPY_MODEL_ed2d05099600464da5440838e270e817",
       "style": "IPY_MODEL_480566b34c3b4d819b4386f5f233522f",
       "value": false
      }
     },
     "175e0f8d9016456faf7cd53d12f0aa0a": {
      "model_module": "@jupyter-widgets/base",
      "model_module_version": "1.2.0",
      "model_name": "LayoutModel",
      "state": {}
     },
     "18567aa513c2491db59095cde3f8ad88": {
      "model_module": "@jupyter-widgets/controls",
      "model_module_version": "1.5.0",
      "model_name": "DescriptionStyleModel",
      "state": {
       "description_width": ""
      }
     },
     "1863b9738fa8487f820cf27108975056": {
      "model_module": "@jupyter-widgets/controls",
      "model_module_version": "1.5.0",
      "model_name": "CheckboxModel",
      "state": {
       "description": "CH_7",
       "disabled": false,
       "layout": "IPY_MODEL_e0454fc6930c4cffa7bfcf471f91452d",
       "style": "IPY_MODEL_999a7f8f355141a4a1edac46783bab9b",
       "value": true
      }
     },
     "18c10aa3442b48d995d2c6a53b583796": {
      "model_module": "@jupyter-widgets/base",
      "model_module_version": "1.2.0",
      "model_name": "LayoutModel",
      "state": {}
     },
     "19003107c4414b50b06c1fb99edf34a5": {
      "model_module": "@jupyter-widgets/controls",
      "model_module_version": "1.5.0",
      "model_name": "CheckboxModel",
      "state": {
       "description": "Script_3",
       "disabled": false,
       "layout": "IPY_MODEL_df6ec2de2bb24da38bff9b32b81b1676",
       "style": "IPY_MODEL_b82c1cbe6d6342c39138ea6a9d933247",
       "value": false
      }
     },
     "19951773a9ca403b9a663f1555d97f23": {
      "model_module": "@jupyter-widgets/controls",
      "model_module_version": "1.5.0",
      "model_name": "DescriptionStyleModel",
      "state": {
       "description_width": ""
      }
     },
     "1a1cecd301da4c5f905d80a80080e82c": {
      "model_module": "@jupyter-widgets/controls",
      "model_module_version": "1.5.0",
      "model_name": "DescriptionStyleModel",
      "state": {
       "description_width": ""
      }
     },
     "1a23baf98b83423aad6e19736e3bf108": {
      "model_module": "@jupyter-widgets/controls",
      "model_module_version": "1.5.0",
      "model_name": "DescriptionStyleModel",
      "state": {
       "description_width": ""
      }
     },
     "1a8bb33c9f984b93b0ad5d0877c3c126": {
      "model_module": "@jupyter-widgets/base",
      "model_module_version": "1.2.0",
      "model_name": "LayoutModel",
      "state": {}
     },
     "1ac316c13bfb406e9efb3d706e882ca9": {
      "model_module": "@jupyter-widgets/controls",
      "model_module_version": "1.5.0",
      "model_name": "CheckboxModel",
      "state": {
       "description": "Script_2",
       "disabled": false,
       "layout": "IPY_MODEL_95c96faa88a9418386c66f50c4a9b090",
       "style": "IPY_MODEL_47abdbaa2f104ed6b2de6ec053f0063a",
       "value": false
      }
     },
     "1ace9c0dbea647a1a21f4c807059ff49": {
      "model_module": "@jupyter-widgets/base",
      "model_module_version": "1.2.0",
      "model_name": "LayoutModel",
      "state": {}
     },
     "1af7f56053624e55b54a6bd2c592a7da": {
      "model_module": "@jupyter-widgets/controls",
      "model_module_version": "1.5.0",
      "model_name": "CheckboxModel",
      "state": {
       "description": "CH_9",
       "disabled": false,
       "layout": "IPY_MODEL_9162be0af6434aac9696fb9f871f8813",
       "style": "IPY_MODEL_c6b14580f213484da25c2f34d785298c",
       "value": false
      }
     },
     "1b08c3e64ce54000aa6aa5c414a3cbb5": {
      "model_module": "@jupyter-widgets/controls",
      "model_module_version": "1.5.0",
      "model_name": "DescriptionStyleModel",
      "state": {
       "description_width": ""
      }
     },
     "1b3f646e107e4b7c80579ed4c3fdcdc4": {
      "model_module": "@jupyter-widgets/controls",
      "model_module_version": "1.5.0",
      "model_name": "DescriptionStyleModel",
      "state": {
       "description_width": ""
      }
     },
     "1b45ac00126f425ba453ed528de250a1": {
      "model_module": "@jupyter-widgets/controls",
      "model_module_version": "1.5.0",
      "model_name": "CheckboxModel",
      "state": {
       "description": "CH_6",
       "disabled": false,
       "layout": "IPY_MODEL_63661faa4fd7434d9374ff51dbb9c951",
       "style": "IPY_MODEL_16d7951053fb49809d303ba31a90931a",
       "value": false
      }
     },
     "1b95b1afd29c45f8b77d7baec93d86ec": {
      "model_module": "@jupyter-widgets/controls",
      "model_module_version": "1.5.0",
      "model_name": "DescriptionStyleModel",
      "state": {
       "description_width": ""
      }
     },
     "1ba9d99ddf0b4237859fab67e6393593": {
      "model_module": "@jupyter-widgets/controls",
      "model_module_version": "1.5.0",
      "model_name": "DescriptionStyleModel",
      "state": {
       "description_width": ""
      }
     },
     "1bcd6146e90a4ce589c94914ffa110a2": {
      "model_module": "@jupyter-widgets/controls",
      "model_module_version": "1.5.0",
      "model_name": "CheckboxModel",
      "state": {
       "description": "CH_10",
       "disabled": false,
       "layout": "IPY_MODEL_f7d11c04660e49349ba85e76b2c1c886",
       "style": "IPY_MODEL_32649665ad304e82b47464eb3e46ea59",
       "value": false
      }
     },
     "1bd06861fec546f380c7fb4ee1e1c72f": {
      "model_module": "@jupyter-widgets/controls",
      "model_module_version": "1.5.0",
      "model_name": "CheckboxModel",
      "state": {
       "description": "OPEN_CH_all",
       "disabled": false,
       "layout": "IPY_MODEL_e709773017fa45f5bf442d2ec9a52196",
       "style": "IPY_MODEL_438a82bb65da446ebc78d05c8d88869c",
       "value": false
      }
     },
     "1be06af71d0d42bbad53cb6312c2ce52": {
      "model_module": "@jupyter-widgets/base",
      "model_module_version": "1.2.0",
      "model_name": "LayoutModel",
      "state": {}
     },
     "1be7158970864ead84c3f3b78a5c5900": {
      "model_module": "@jupyter-widgets/controls",
      "model_module_version": "1.5.0",
      "model_name": "DescriptionStyleModel",
      "state": {
       "description_width": ""
      }
     },
     "1bef0149a65d46ccb8627b5a95336de2": {
      "model_module": "@jupyter-widgets/base",
      "model_module_version": "1.2.0",
      "model_name": "LayoutModel",
      "state": {}
     },
     "1c031a410b9f44aea05f65c04f4e1aac": {
      "model_module": "@jupyter-widgets/base",
      "model_module_version": "1.2.0",
      "model_name": "LayoutModel",
      "state": {}
     },
     "1c06d25f017845ceaf2a08c5ea3a0df5": {
      "model_module": "@jupyter-widgets/controls",
      "model_module_version": "1.5.0",
      "model_name": "CheckboxModel",
      "state": {
       "description": "CH_2",
       "disabled": false,
       "layout": "IPY_MODEL_c36aa424dd1a481b9ec5f675f22aefe2",
       "style": "IPY_MODEL_c757208e225b46d08d1b945fe3e9204f",
       "value": true
      }
     },
     "1c77c26d61d64a94950931cbf2082199": {
      "model_module": "@jupyter-widgets/base",
      "model_module_version": "1.2.0",
      "model_name": "LayoutModel",
      "state": {}
     },
     "1c81aab1f3b648d3ae00eeceb09d0ff7": {
      "model_module": "@jupyter-widgets/base",
      "model_module_version": "1.2.0",
      "model_name": "LayoutModel",
      "state": {}
     },
     "1c941fe3bfc14a20a740a4562370b702": {
      "model_module": "@jupyter-widgets/base",
      "model_module_version": "1.2.0",
      "model_name": "LayoutModel",
      "state": {}
     },
     "1cbd42d14f894bb3bfa54eb5131943b5": {
      "model_module": "@jupyter-widgets/controls",
      "model_module_version": "1.5.0",
      "model_name": "CheckboxModel",
      "state": {
       "description": "CH_14",
       "disabled": false,
       "layout": "IPY_MODEL_3f27e846affa4c0b8bae9e8d031330f9",
       "style": "IPY_MODEL_393ddc9a4e20406ab2d6d01574fe03f2",
       "value": true
      }
     },
     "1cbd4d37e292492db59858cf63928c9a": {
      "model_module": "@jupyter-widgets/controls",
      "model_module_version": "1.5.0",
      "model_name": "CheckboxModel",
      "state": {
       "description": "CH_12",
       "disabled": false,
       "layout": "IPY_MODEL_551496fabb0e43d9bbb20d25e7ff7c1b",
       "style": "IPY_MODEL_a6458f05e9944c12863eb9834c469a01",
       "value": false
      }
     },
     "1cbde0b1b0dc4af9ba66f458904caea4": {
      "model_module": "@jupyter-widgets/controls",
      "model_module_version": "1.5.0",
      "model_name": "DescriptionStyleModel",
      "state": {
       "description_width": ""
      }
     },
     "1cc729d4cc7f42e7b1164d2112c735de": {
      "model_module": "@jupyter-widgets/controls",
      "model_module_version": "1.5.0",
      "model_name": "CheckboxModel",
      "state": {
       "description": "CH_10",
       "disabled": false,
       "layout": "IPY_MODEL_4a752e59a0d341659cca9a7ff97b7186",
       "style": "IPY_MODEL_11d74d1efc6c4750afd501c334bd388b",
       "value": false
      }
     },
     "1d1d4ff83c7a49f1aa2015b62957b061": {
      "model_module": "@jupyter-widgets/controls",
      "model_module_version": "1.5.0",
      "model_name": "DescriptionStyleModel",
      "state": {
       "description_width": ""
      }
     },
     "1d1fbd4076374cbeb91653f770057c97": {
      "model_module": "@jupyter-widgets/controls",
      "model_module_version": "1.5.0",
      "model_name": "DescriptionStyleModel",
      "state": {
       "description_width": ""
      }
     },
     "1d8cd0d43f3d45e48edf54d9f8c15bf3": {
      "model_module": "@jupyter-widgets/base",
      "model_module_version": "1.2.0",
      "model_name": "LayoutModel",
      "state": {}
     },
     "1dc2ea56693e4c3ea48b41c9ac7a7623": {
      "model_module": "@jupyter-widgets/base",
      "model_module_version": "1.2.0",
      "model_name": "LayoutModel",
      "state": {}
     },
     "1e082338af4f41da84a1c2d3f4f47953": {
      "model_module": "@jupyter-widgets/base",
      "model_module_version": "1.2.0",
      "model_name": "LayoutModel",
      "state": {}
     },
     "1e85e8db2eaf47a2af8333b35cdac90e": {
      "model_module": "@jupyter-widgets/controls",
      "model_module_version": "1.5.0",
      "model_name": "CheckboxModel",
      "state": {
       "description": "CH_8",
       "disabled": false,
       "layout": "IPY_MODEL_0c88c8b686d7464a9edb8be0a940e95b",
       "style": "IPY_MODEL_46baa5a93a294f95ba1fce293ea0e97a",
       "value": false
      }
     },
     "1ea3ef75350f41d4bea710f4ad7094b6": {
      "model_module": "@jupyter-widgets/controls",
      "model_module_version": "1.5.0",
      "model_name": "DescriptionStyleModel",
      "state": {
       "description_width": ""
      }
     },
     "1fe587084cfc4dcfa81b5a0e5641bb21": {
      "model_module": "@jupyter-widgets/base",
      "model_module_version": "1.2.0",
      "model_name": "LayoutModel",
      "state": {}
     },
     "20b6052cc76e4be58d4af30910559eb4": {
      "model_module": "@jupyter-widgets/base",
      "model_module_version": "1.2.0",
      "model_name": "LayoutModel",
      "state": {}
     },
     "2127f7eea7c44b588f04a2078a3a5c6b": {
      "model_module": "@jupyter-widgets/base",
      "model_module_version": "1.2.0",
      "model_name": "LayoutModel",
      "state": {}
     },
     "212f1e22be814c0cac6c2f96f298e34c": {
      "model_module": "@jupyter-widgets/controls",
      "model_module_version": "1.5.0",
      "model_name": "CheckboxModel",
      "state": {
       "description": "Mode_Manual_Control",
       "disabled": false,
       "layout": "IPY_MODEL_6c2bf41ecf8f4d27aca3126434cabb30",
       "style": "IPY_MODEL_3c52e8b1ddb644e69202ddaa5975469b",
       "value": true
      }
     },
     "21aae069e4a842219aa2d23c602c985b": {
      "model_module": "@jupyter-widgets/controls",
      "model_module_version": "1.5.0",
      "model_name": "DescriptionStyleModel",
      "state": {
       "description_width": ""
      }
     },
     "21cf1318b7b84ad4bb3cc33b0c278a07": {
      "model_module": "@jupyter-widgets/base",
      "model_module_version": "1.2.0",
      "model_name": "LayoutModel",
      "state": {}
     },
     "222ff518c9f6468e9de6bcf4ec6ac132": {
      "model_module": "@jupyter-widgets/controls",
      "model_module_version": "1.5.0",
      "model_name": "CheckboxModel",
      "state": {
       "description": "OPEN_CH_all",
       "disabled": false,
       "layout": "IPY_MODEL_44411b198d164993b235fdcb3207a2b6",
       "style": "IPY_MODEL_6de75d26a6144753b5afe176eb5cfcdb",
       "value": false
      }
     },
     "223af2de377a48bb80b56c1c35af871d": {
      "model_module": "@jupyter-widgets/base",
      "model_module_version": "1.2.0",
      "model_name": "LayoutModel",
      "state": {}
     },
     "22956ac631f246d58c16a6d53eecfbc5": {
      "model_module": "@jupyter-widgets/base",
      "model_module_version": "1.2.0",
      "model_name": "LayoutModel",
      "state": {}
     },
     "22a8133053e14003a15c4979f54b379d": {
      "model_module": "@jupyter-widgets/base",
      "model_module_version": "1.2.0",
      "model_name": "LayoutModel",
      "state": {}
     },
     "22f068852f1d4b0c87b969c3d724ae79": {
      "model_module": "@jupyter-widgets/controls",
      "model_module_version": "1.5.0",
      "model_name": "CheckboxModel",
      "state": {
       "description": "CH_9",
       "disabled": false,
       "layout": "IPY_MODEL_ec8935b06766432da7e8397dd0201470",
       "style": "IPY_MODEL_ed93903f38a24605a92a6f0bef128d22",
       "value": false
      }
     },
     "2348b6c5d0a64e68b24e47140e0182d7": {
      "model_module": "@jupyter-widgets/controls",
      "model_module_version": "1.5.0",
      "model_name": "CheckboxModel",
      "state": {
       "description": "CH_5",
       "disabled": false,
       "layout": "IPY_MODEL_cc78354a6a42448f900875b4c4d58cdb",
       "style": "IPY_MODEL_0ed1a5a9e54843639a6ce1a8fb45e8d2",
       "value": false
      }
     },
     "237402e87b3b464f9fd28327674c82a0": {
      "model_module": "@jupyter-widgets/controls",
      "model_module_version": "1.5.0",
      "model_name": "CheckboxModel",
      "state": {
       "description": "CH_14",
       "disabled": false,
       "layout": "IPY_MODEL_97e83cb8bf404ffab685649d034d492d",
       "style": "IPY_MODEL_99c37bcdfe3342e2b1bff60558b0edbb",
       "value": false
      }
     },
     "245a416c6b4e470e925ef59e5ae5127f": {
      "model_module": "@jupyter-widgets/controls",
      "model_module_version": "1.5.0",
      "model_name": "CheckboxModel",
      "state": {
       "description": "OPEN_CH_all",
       "disabled": false,
       "layout": "IPY_MODEL_b53c062d0f9f4b729b29781d97994bd3",
       "style": "IPY_MODEL_c00607d38a0147b887125534d4136f38",
       "value": true
      }
     },
     "246fd07d5a1840189137001e7e16d069": {
      "model_module": "@jupyter-widgets/base",
      "model_module_version": "1.2.0",
      "model_name": "LayoutModel",
      "state": {}
     },
     "2476c030ed504449983619b7545d3926": {
      "model_module": "@jupyter-widgets/controls",
      "model_module_version": "1.5.0",
      "model_name": "DescriptionStyleModel",
      "state": {
       "description_width": ""
      }
     },
     "2488a1943c64461d91d930d2b9d5404d": {
      "model_module": "@jupyter-widgets/base",
      "model_module_version": "1.2.0",
      "model_name": "LayoutModel",
      "state": {}
     },
     "257022692d3d4702ac993bd6a8363555": {
      "model_module": "@jupyter-widgets/base",
      "model_module_version": "1.2.0",
      "model_name": "LayoutModel",
      "state": {}
     },
     "25a94609c0694b96a540902f4628ec23": {
      "model_module": "@jupyter-widgets/base",
      "model_module_version": "1.2.0",
      "model_name": "LayoutModel",
      "state": {}
     },
     "25fc0964f3d64243a0e64d49a1265ac9": {
      "model_module": "@jupyter-widgets/base",
      "model_module_version": "1.2.0",
      "model_name": "LayoutModel",
      "state": {}
     },
     "26342b61b8784ab494869c4abc0e79bf": {
      "model_module": "@jupyter-widgets/controls",
      "model_module_version": "1.5.0",
      "model_name": "DescriptionStyleModel",
      "state": {
       "description_width": ""
      }
     },
     "26a266320b704e7e84026c3fa38430c7": {
      "model_module": "@jupyter-widgets/controls",
      "model_module_version": "1.5.0",
      "model_name": "CheckboxModel",
      "state": {
       "description": "Mode_EXIT",
       "disabled": false,
       "layout": "IPY_MODEL_37630b6cfb164a86b0df7fa6fbbd5ca5",
       "style": "IPY_MODEL_e2d5296101a44333b26eb33eb2bcb17b",
       "value": false
      }
     },
     "271903d36ac04794bf14dfa608717954": {
      "model_module": "@jupyter-widgets/controls",
      "model_module_version": "1.5.0",
      "model_name": "CheckboxModel",
      "state": {
       "description": "CH_16",
       "disabled": false,
       "layout": "IPY_MODEL_6aad020890f84aa88fdf06518b8b1d19",
       "style": "IPY_MODEL_3b6213e3b0de493085b9b4559383b50f",
       "value": false
      }
     },
     "2744eb027c9948e38c74259b1728eef7": {
      "model_module": "@jupyter-widgets/controls",
      "model_module_version": "1.5.0",
      "model_name": "DescriptionStyleModel",
      "state": {
       "description_width": ""
      }
     },
     "277863c7febf44dfaf7ae184120d05e3": {
      "model_module": "@jupyter-widgets/controls",
      "model_module_version": "1.5.0",
      "model_name": "CheckboxModel",
      "state": {
       "description": "Mode_EXIT",
       "disabled": false,
       "layout": "IPY_MODEL_fba1eb93998a4bc491bc774901d14c36",
       "style": "IPY_MODEL_4f67fa30ed2c4b77afc7b411194e76af",
       "value": false
      }
     },
     "277e1b2c30294c95a0f162600b574349": {
      "model_module": "@jupyter-widgets/base",
      "model_module_version": "1.2.0",
      "model_name": "LayoutModel",
      "state": {}
     },
     "27a787ba7b7c4225acf7ad2f00228e0e": {
      "model_module": "@jupyter-widgets/controls",
      "model_module_version": "1.5.0",
      "model_name": "DescriptionStyleModel",
      "state": {
       "description_width": ""
      }
     },
     "27b9d1a080504c018f56215d6cd4a204": {
      "model_module": "@jupyter-widgets/controls",
      "model_module_version": "1.5.0",
      "model_name": "CheckboxModel",
      "state": {
       "description": "CH_5",
       "disabled": false,
       "layout": "IPY_MODEL_de9588e2231b4b63a6cdb8c2540d1dc0",
       "style": "IPY_MODEL_fe7714dac60941939b01fe270f79eb6b",
       "value": false
      }
     },
     "27c360948c984d9196d217c19dbf8f4d": {
      "model_module": "@jupyter-widgets/controls",
      "model_module_version": "1.5.0",
      "model_name": "DescriptionStyleModel",
      "state": {
       "description_width": ""
      }
     },
     "27c441f7d5944a5ea41b387012a840a9": {
      "model_module": "@jupyter-widgets/controls",
      "model_module_version": "1.5.0",
      "model_name": "CheckboxModel",
      "state": {
       "description": "Mode_Manual_Control",
       "disabled": false,
       "layout": "IPY_MODEL_8d63028cbb8e4d638a0c125027469d3b",
       "style": "IPY_MODEL_44ca1cef9c2b4684893780528c7c56cc",
       "value": true
      }
     },
     "27f923dd8c8a49ff926e13c22fc35c87": {
      "model_module": "@jupyter-widgets/controls",
      "model_module_version": "1.5.0",
      "model_name": "CheckboxModel",
      "state": {
       "description": "CH_12",
       "disabled": false,
       "layout": "IPY_MODEL_73a8c3d61ff0490cb95bd79009c9a9c3",
       "style": "IPY_MODEL_692a5f080af84228812f2ee1af0ade01",
       "value": false
      }
     },
     "28ddf884c0684e868f91f4370e5abd99": {
      "model_module": "@jupyter-widgets/base",
      "model_module_version": "1.2.0",
      "model_name": "LayoutModel",
      "state": {}
     },
     "291bc77a3a264713918e86b99e12f3ad": {
      "model_module": "@jupyter-widgets/controls",
      "model_module_version": "1.5.0",
      "model_name": "DescriptionStyleModel",
      "state": {
       "description_width": ""
      }
     },
     "293c19e625bc4179b71c1e6a402b9757": {
      "model_module": "@jupyter-widgets/controls",
      "model_module_version": "1.5.0",
      "model_name": "DescriptionStyleModel",
      "state": {
       "description_width": ""
      }
     },
     "293dff14fa48411693a35f9e9a5239e5": {
      "model_module": "@jupyter-widgets/controls",
      "model_module_version": "1.5.0",
      "model_name": "DescriptionStyleModel",
      "state": {
       "description_width": ""
      }
     },
     "2955e63d850d4015a7e9e74b3fe82ca0": {
      "model_module": "@jupyter-widgets/controls",
      "model_module_version": "1.5.0",
      "model_name": "CheckboxModel",
      "state": {
       "description": "Script_1",
       "disabled": false,
       "layout": "IPY_MODEL_1c031a410b9f44aea05f65c04f4e1aac",
       "style": "IPY_MODEL_ee6d8dfc44f243e0bae1f41508a0c46f",
       "value": false
      }
     },
     "29a8ad18e6ab4ffa974ed9304ab52abe": {
      "model_module": "@jupyter-widgets/controls",
      "model_module_version": "1.5.0",
      "model_name": "DescriptionStyleModel",
      "state": {
       "description_width": ""
      }
     },
     "29d95e1af5d44b83a42a96acb7a1c833": {
      "model_module": "@jupyter-widgets/controls",
      "model_module_version": "1.5.0",
      "model_name": "CheckboxModel",
      "state": {
       "description": "Script_2",
       "disabled": false,
       "layout": "IPY_MODEL_4a66ee94ff4842369a4aa28c4201ec30",
       "style": "IPY_MODEL_72aef0ce19d04678bf512a0fb4174c91",
       "value": false
      }
     },
     "2a497156486b4cc685d70c62491f2e6c": {
      "model_module": "@jupyter-widgets/base",
      "model_module_version": "1.2.0",
      "model_name": "LayoutModel",
      "state": {}
     },
     "2abfdb702a7f4643bb1d87de8d9f3bc0": {
      "model_module": "@jupyter-widgets/controls",
      "model_module_version": "1.5.0",
      "model_name": "DescriptionStyleModel",
      "state": {
       "description_width": ""
      }
     },
     "2b2136c89db342549194b66cefb3bcdb": {
      "model_module": "@jupyter-widgets/base",
      "model_module_version": "1.2.0",
      "model_name": "LayoutModel",
      "state": {}
     },
     "2b90941a324f4066ab49c485073f1c40": {
      "model_module": "@jupyter-widgets/controls",
      "model_module_version": "1.5.0",
      "model_name": "CheckboxModel",
      "state": {
       "description": "CH_12",
       "disabled": false,
       "layout": "IPY_MODEL_4d9cb54162334049bac7b58b9d74a99b",
       "style": "IPY_MODEL_1cbde0b1b0dc4af9ba66f458904caea4",
       "value": false
      }
     },
     "2bb923ba8529492ab80b89b286c5f336": {
      "model_module": "@jupyter-widgets/controls",
      "model_module_version": "1.5.0",
      "model_name": "CheckboxModel",
      "state": {
       "description": "CH_5",
       "disabled": false,
       "layout": "IPY_MODEL_34aa2ef07a7a4bffa097dfffcb96884a",
       "style": "IPY_MODEL_4fd7abaf854240d798484065d39402cd",
       "value": false
      }
     },
     "2c11d9659b7c404f893c58d5db7fe1f0": {
      "model_module": "@jupyter-widgets/base",
      "model_module_version": "1.2.0",
      "model_name": "LayoutModel",
      "state": {}
     },
     "2c3bba11fdd343fe858404ebe3fd6fa6": {
      "model_module": "@jupyter-widgets/base",
      "model_module_version": "1.2.0",
      "model_name": "LayoutModel",
      "state": {}
     },
     "2c426ab8fadd482290fc0108dc583a00": {
      "model_module": "@jupyter-widgets/controls",
      "model_module_version": "1.5.0",
      "model_name": "DescriptionStyleModel",
      "state": {
       "description_width": ""
      }
     },
     "2c8cf2783f3e4b35b5bb4c27790d1e9a": {
      "model_module": "@jupyter-widgets/controls",
      "model_module_version": "1.5.0",
      "model_name": "DescriptionStyleModel",
      "state": {
       "description_width": ""
      }
     },
     "2cab69003d2246c0a960c8ac8853be97": {
      "model_module": "@jupyter-widgets/base",
      "model_module_version": "1.2.0",
      "model_name": "LayoutModel",
      "state": {}
     },
     "2cb4ff4a2c7543b28773c185a611a04e": {
      "model_module": "@jupyter-widgets/controls",
      "model_module_version": "1.5.0",
      "model_name": "DescriptionStyleModel",
      "state": {
       "description_width": ""
      }
     },
     "2cdf4092fe584d10a6d3eb6affa383f4": {
      "model_module": "@jupyter-widgets/base",
      "model_module_version": "1.2.0",
      "model_name": "LayoutModel",
      "state": {}
     },
     "2d082a1339664b76bcd3d4fb16567c8a": {
      "model_module": "@jupyter-widgets/controls",
      "model_module_version": "1.5.0",
      "model_name": "DescriptionStyleModel",
      "state": {
       "description_width": ""
      }
     },
     "2d65ddc14b1e4267be401e6ac8bed9ad": {
      "model_module": "@jupyter-widgets/controls",
      "model_module_version": "1.5.0",
      "model_name": "CheckboxModel",
      "state": {
       "description": "Mode_EXIT",
       "disabled": false,
       "layout": "IPY_MODEL_dd121639e4b94cbc803b70bbef3424ae",
       "style": "IPY_MODEL_6835fcc7464846a3a0b02a296c086b6a",
       "value": false
      }
     },
     "2dbb5efdce6949dbafa8742acd3991c9": {
      "model_module": "@jupyter-widgets/base",
      "model_module_version": "1.2.0",
      "model_name": "LayoutModel",
      "state": {}
     },
     "2dfbb8b5d83645eeb492dd2d218101ed": {
      "model_module": "@jupyter-widgets/controls",
      "model_module_version": "1.5.0",
      "model_name": "DescriptionStyleModel",
      "state": {
       "description_width": ""
      }
     },
     "2e21f4ca42c841119477a4bc175c34b2": {
      "model_module": "@jupyter-widgets/controls",
      "model_module_version": "1.5.0",
      "model_name": "CheckboxModel",
      "state": {
       "description": "CH_14",
       "disabled": false,
       "layout": "IPY_MODEL_b760aad296ea448494a4e71ebe334465",
       "style": "IPY_MODEL_27c360948c984d9196d217c19dbf8f4d",
       "value": false
      }
     },
     "2e61f201796545ec891639044bee5490": {
      "model_module": "@jupyter-widgets/base",
      "model_module_version": "1.2.0",
      "model_name": "LayoutModel",
      "state": {}
     },
     "2eca5116d3f14ef6af6a9ce5e83bf183": {
      "model_module": "@jupyter-widgets/base",
      "model_module_version": "1.2.0",
      "model_name": "LayoutModel",
      "state": {}
     },
     "2ed34bf586cb44ab9d64dbffc3581809": {
      "model_module": "@jupyter-widgets/controls",
      "model_module_version": "1.5.0",
      "model_name": "CheckboxModel",
      "state": {
       "description": "CH_9",
       "disabled": false,
       "layout": "IPY_MODEL_37a17b082e864039a06071ce9b97bc76",
       "style": "IPY_MODEL_9861169e13904fbc9f7f0dd55fcf9b75",
       "value": false
      }
     },
     "2eee445ddeb342e89cf97f2ff6bec38e": {
      "model_module": "@jupyter-widgets/controls",
      "model_module_version": "1.5.0",
      "model_name": "CheckboxModel",
      "state": {
       "description": "CH_2",
       "disabled": false,
       "layout": "IPY_MODEL_599af1b3f1aa4fac8f0ba055e0a9f8ae",
       "style": "IPY_MODEL_5c091091c7d8497abbfb01ae308456ea",
       "value": true
      }
     },
     "2f17b4036de84301a4c7b5baa4524712": {
      "model_module": "@jupyter-widgets/base",
      "model_module_version": "1.2.0",
      "model_name": "LayoutModel",
      "state": {}
     },
     "2f34286c5fb6438591692bd1242ddd2a": {
      "model_module": "@jupyter-widgets/controls",
      "model_module_version": "1.5.0",
      "model_name": "DescriptionStyleModel",
      "state": {
       "description_width": ""
      }
     },
     "2f8465e56ddf4c899312b5963bd47f2e": {
      "model_module": "@jupyter-widgets/controls",
      "model_module_version": "1.5.0",
      "model_name": "DescriptionStyleModel",
      "state": {
       "description_width": ""
      }
     },
     "2f91499a0d1d45cfa5d97e299eae5c3e": {
      "model_module": "@jupyter-widgets/controls",
      "model_module_version": "1.5.0",
      "model_name": "CheckboxModel",
      "state": {
       "description": "Script_2",
       "disabled": false,
       "layout": "IPY_MODEL_64e3421b475a4806b26285fe38f95e7c",
       "style": "IPY_MODEL_ac775b42924c4c65aa4f06e980863e01",
       "value": false
      }
     },
     "2f9eaedcfb7146f8930da65738017bd0": {
      "model_module": "@jupyter-widgets/base",
      "model_module_version": "1.2.0",
      "model_name": "LayoutModel",
      "state": {}
     },
     "2fc0b5b2cf9843459f6f768029e049bf": {
      "model_module": "@jupyter-widgets/controls",
      "model_module_version": "1.5.0",
      "model_name": "CheckboxModel",
      "state": {
       "description": "CH_10",
       "disabled": false,
       "layout": "IPY_MODEL_ff83b4a37a5e4286a6df183cc0e1d481",
       "style": "IPY_MODEL_b8cf2543209949b9a230533247f590f1",
       "value": false
      }
     },
     "2fe2b8daaf2b48909fd2ab803a0857ac": {
      "model_module": "@jupyter-widgets/controls",
      "model_module_version": "1.5.0",
      "model_name": "DescriptionStyleModel",
      "state": {
       "description_width": ""
      }
     },
     "2fedd36020184066be8667ba4b1ed5f2": {
      "model_module": "@jupyter-widgets/controls",
      "model_module_version": "1.5.0",
      "model_name": "DescriptionStyleModel",
      "state": {
       "description_width": ""
      }
     },
     "30094fa7744849679b53c8e5c260c41a": {
      "model_module": "@jupyter-widgets/controls",
      "model_module_version": "1.5.0",
      "model_name": "CheckboxModel",
      "state": {
       "description": "CH_1",
       "disabled": false,
       "layout": "IPY_MODEL_afe753b851b64f9cbc29e3b83c108c4f",
       "style": "IPY_MODEL_72825c34b40b4343b2a04500afbef7d4",
       "value": false
      }
     },
     "30336c0f3af14fe6bdf55c921cd7783f": {
      "model_module": "@jupyter-widgets/controls",
      "model_module_version": "1.5.0",
      "model_name": "DescriptionStyleModel",
      "state": {
       "description_width": ""
      }
     },
     "3051bb916ae145ffa9e0a9949d2b7916": {
      "model_module": "@jupyter-widgets/controls",
      "model_module_version": "1.5.0",
      "model_name": "CheckboxModel",
      "state": {
       "description": "CH_8",
       "disabled": false,
       "layout": "IPY_MODEL_0c5f277d5f6d44e8a6d724fa7c97f820",
       "style": "IPY_MODEL_cbb99b15b55747208ca5a8ea5e5565a1",
       "value": true
      }
     },
     "306f52e8ee4440a2ad3568a6e345a9bc": {
      "model_module": "@jupyter-widgets/base",
      "model_module_version": "1.2.0",
      "model_name": "LayoutModel",
      "state": {}
     },
     "30cb93357f2548c98e8beb4d5d206394": {
      "model_module": "@jupyter-widgets/controls",
      "model_module_version": "1.5.0",
      "model_name": "DescriptionStyleModel",
      "state": {
       "description_width": ""
      }
     },
     "310f904e91ad421e8b1217d0a8f8a871": {
      "model_module": "@jupyter-widgets/controls",
      "model_module_version": "1.5.0",
      "model_name": "DescriptionStyleModel",
      "state": {
       "description_width": ""
      }
     },
     "3127bd727fc84cb3b9b84abacbd156f4": {
      "model_module": "@jupyter-widgets/controls",
      "model_module_version": "1.5.0",
      "model_name": "DescriptionStyleModel",
      "state": {
       "description_width": ""
      }
     },
     "312c284ac012420ea69b0e88a882ac8b": {
      "model_module": "@jupyter-widgets/controls",
      "model_module_version": "1.5.0",
      "model_name": "DescriptionStyleModel",
      "state": {
       "description_width": ""
      }
     },
     "318a529e90ca4308b466adc225e28091": {
      "model_module": "@jupyter-widgets/base",
      "model_module_version": "1.2.0",
      "model_name": "LayoutModel",
      "state": {}
     },
     "320236cc2c3746e9a3bbbee30242bed2": {
      "model_module": "@jupyter-widgets/controls",
      "model_module_version": "1.5.0",
      "model_name": "CheckboxModel",
      "state": {
       "description": "CH_7",
       "disabled": false,
       "layout": "IPY_MODEL_b9e164097fc548408339dec616ca653f",
       "style": "IPY_MODEL_ebfd3db1164643d5b2d0ff75daeca1ad",
       "value": false
      }
     },
     "320327fbaced4f44b208d213cd52f39e": {
      "model_module": "@jupyter-widgets/base",
      "model_module_version": "1.2.0",
      "model_name": "LayoutModel",
      "state": {}
     },
     "3224c9dfb3e042399cfe1dea1d7113b7": {
      "model_module": "@jupyter-widgets/base",
      "model_module_version": "1.2.0",
      "model_name": "LayoutModel",
      "state": {}
     },
     "323f5820a8c347bd8a2aa986db914726": {
      "model_module": "@jupyter-widgets/base",
      "model_module_version": "1.2.0",
      "model_name": "LayoutModel",
      "state": {}
     },
     "3249b16718e24ec39299c5383da6d125": {
      "model_module": "@jupyter-widgets/controls",
      "model_module_version": "1.5.0",
      "model_name": "CheckboxModel",
      "state": {
       "description": "CH_9",
       "disabled": false,
       "layout": "IPY_MODEL_f1a1ce04e9f94632a2669370fad9ffca",
       "style": "IPY_MODEL_b355666891cc4891ace7a36623bd656f",
       "value": false
      }
     },
     "325f6e7f40ea4a7aba6217d39d991e88": {
      "model_module": "@jupyter-widgets/base",
      "model_module_version": "1.2.0",
      "model_name": "LayoutModel",
      "state": {}
     },
     "32649665ad304e82b47464eb3e46ea59": {
      "model_module": "@jupyter-widgets/controls",
      "model_module_version": "1.5.0",
      "model_name": "DescriptionStyleModel",
      "state": {
       "description_width": ""
      }
     },
     "32932235b9bb4d939c7996537c46c06f": {
      "model_module": "@jupyter-widgets/base",
      "model_module_version": "1.2.0",
      "model_name": "LayoutModel",
      "state": {}
     },
     "32b37bd95cc64e9bba015b385657a123": {
      "model_module": "@jupyter-widgets/base",
      "model_module_version": "1.2.0",
      "model_name": "LayoutModel",
      "state": {}
     },
     "332aef6eb22f4721b3d4757a948cb7ad": {
      "model_module": "@jupyter-widgets/controls",
      "model_module_version": "1.5.0",
      "model_name": "DescriptionStyleModel",
      "state": {
       "description_width": ""
      }
     },
     "33e5b2abf59344eb82eb82a4f7908f20": {
      "model_module": "@jupyter-widgets/controls",
      "model_module_version": "1.5.0",
      "model_name": "DescriptionStyleModel",
      "state": {
       "description_width": ""
      }
     },
     "33fd796eb9494cdebfad1a3fdf72767c": {
      "model_module": "@jupyter-widgets/base",
      "model_module_version": "1.2.0",
      "model_name": "LayoutModel",
      "state": {}
     },
     "3404c27293f8424c881022d5de322298": {
      "model_module": "@jupyter-widgets/controls",
      "model_module_version": "1.5.0",
      "model_name": "DescriptionStyleModel",
      "state": {
       "description_width": ""
      }
     },
     "34438fe334f24afaa6d0c0d5a4398c12": {
      "model_module": "@jupyter-widgets/controls",
      "model_module_version": "1.5.0",
      "model_name": "DescriptionStyleModel",
      "state": {
       "description_width": ""
      }
     },
     "34705d90ce4f4ccc83b10dfa074f8bbb": {
      "model_module": "@jupyter-widgets/controls",
      "model_module_version": "1.5.0",
      "model_name": "CheckboxModel",
      "state": {
       "description": "CH_13",
       "disabled": false,
       "layout": "IPY_MODEL_d1c13b471bed4d2189f3fa354cc2faec",
       "style": "IPY_MODEL_94fe90d08f4a45f5a16ab813768c8d21",
       "value": false
      }
     },
     "34aa2ef07a7a4bffa097dfffcb96884a": {
      "model_module": "@jupyter-widgets/base",
      "model_module_version": "1.2.0",
      "model_name": "LayoutModel",
      "state": {}
     },
     "35416f7c5bfd4a92aa295057ff058b94": {
      "model_module": "@jupyter-widgets/controls",
      "model_module_version": "1.5.0",
      "model_name": "DescriptionStyleModel",
      "state": {
       "description_width": ""
      }
     },
     "358039671faf4108a05d4ac6ba818f32": {
      "model_module": "@jupyter-widgets/controls",
      "model_module_version": "1.5.0",
      "model_name": "DescriptionStyleModel",
      "state": {
       "description_width": ""
      }
     },
     "35abae5c32454335a5ae63514d9b1bae": {
      "model_module": "@jupyter-widgets/base",
      "model_module_version": "1.2.0",
      "model_name": "LayoutModel",
      "state": {}
     },
     "35abc54791df4fa3b618ed802ee49a13": {
      "model_module": "@jupyter-widgets/controls",
      "model_module_version": "1.5.0",
      "model_name": "CheckboxModel",
      "state": {
       "description": "CLOSE_CH_all",
       "disabled": false,
       "layout": "IPY_MODEL_386eb13ad15d431cb2be55fd1657df9d",
       "style": "IPY_MODEL_d207f94d49f34134923cc78ba3d3ec4b",
       "value": false
      }
     },
     "35c4b8b8c4514d8b914b431cd2bba650": {
      "model_module": "@jupyter-widgets/controls",
      "model_module_version": "1.5.0",
      "model_name": "DescriptionStyleModel",
      "state": {
       "description_width": ""
      }
     },
     "35d70fb6d8d04cfa94a528815e83ba01": {
      "model_module": "@jupyter-widgets/controls",
      "model_module_version": "1.5.0",
      "model_name": "DescriptionStyleModel",
      "state": {
       "description_width": ""
      }
     },
     "3610a8f90aa44d0d8d9b22d7c1a5a58a": {
      "model_module": "@jupyter-widgets/base",
      "model_module_version": "1.2.0",
      "model_name": "LayoutModel",
      "state": {}
     },
     "3644ecef32764018b1af05f012bb28fd": {
      "model_module": "@jupyter-widgets/controls",
      "model_module_version": "1.5.0",
      "model_name": "DescriptionStyleModel",
      "state": {
       "description_width": ""
      }
     },
     "369c9ecd23ef42dca3caa9e2d00c9734": {
      "model_module": "@jupyter-widgets/controls",
      "model_module_version": "1.5.0",
      "model_name": "CheckboxModel",
      "state": {
       "description": "CH_6",
       "disabled": false,
       "layout": "IPY_MODEL_678f118f85a24509b815142f5ec8e477",
       "style": "IPY_MODEL_33e5b2abf59344eb82eb82a4f7908f20",
       "value": false
      }
     },
     "36e7e8b743aa4c0c945c88df6a9d7cce": {
      "model_module": "@jupyter-widgets/controls",
      "model_module_version": "1.5.0",
      "model_name": "CheckboxModel",
      "state": {
       "description": "CH_4",
       "disabled": false,
       "layout": "IPY_MODEL_feaffc6f1a7b4a3480680f69d60f3131",
       "style": "IPY_MODEL_c253691a8cd0420d9af217e7b77a12e4",
       "value": false
      }
     },
     "36fb4b7e4b57435089c8162e80fe564e": {
      "model_module": "@jupyter-widgets/controls",
      "model_module_version": "1.5.0",
      "model_name": "CheckboxModel",
      "state": {
       "description": "CH_5",
       "disabled": false,
       "layout": "IPY_MODEL_3e21248328114fa8b4152da1b2146dc1",
       "style": "IPY_MODEL_b302f26f3e264594a7f24b40270c6fb6",
       "value": false
      }
     },
     "37082677909f452c93cfd1212b8aa484": {
      "model_module": "@jupyter-widgets/controls",
      "model_module_version": "1.5.0",
      "model_name": "DescriptionStyleModel",
      "state": {
       "description_width": ""
      }
     },
     "372c8d3fd52a4dac80225b1c1ee5d6f7": {
      "model_module": "@jupyter-widgets/controls",
      "model_module_version": "1.5.0",
      "model_name": "DescriptionStyleModel",
      "state": {
       "description_width": ""
      }
     },
     "37630b6cfb164a86b0df7fa6fbbd5ca5": {
      "model_module": "@jupyter-widgets/base",
      "model_module_version": "1.2.0",
      "model_name": "LayoutModel",
      "state": {}
     },
     "379100ff175641d7b0492533b1dd44b2": {
      "model_module": "@jupyter-widgets/controls",
      "model_module_version": "1.5.0",
      "model_name": "CheckboxModel",
      "state": {
       "description": "CH_12",
       "disabled": false,
       "layout": "IPY_MODEL_b51be4fb189e4bcf92ed1b756f19d9fd",
       "style": "IPY_MODEL_f4c2dec9f4c242398ad01e1206758f2b",
       "value": false
      }
     },
     "37a17b082e864039a06071ce9b97bc76": {
      "model_module": "@jupyter-widgets/base",
      "model_module_version": "1.2.0",
      "model_name": "LayoutModel",
      "state": {}
     },
     "37b2de01024d4a3cb0e5ee77c02adb59": {
      "model_module": "@jupyter-widgets/controls",
      "model_module_version": "1.5.0",
      "model_name": "CheckboxModel",
      "state": {
       "description": "CH_14",
       "disabled": false,
       "layout": "IPY_MODEL_a5f78794a6cf4ba6b9aa9ece7fbd47b4",
       "style": "IPY_MODEL_624ecb01b2fb45f6b03d9ba3e39daabe",
       "value": false
      }
     },
     "386eb13ad15d431cb2be55fd1657df9d": {
      "model_module": "@jupyter-widgets/base",
      "model_module_version": "1.2.0",
      "model_name": "LayoutModel",
      "state": {}
     },
     "3892e99c89d64427bdb7a86c594c2abe": {
      "model_module": "@jupyter-widgets/base",
      "model_module_version": "1.2.0",
      "model_name": "LayoutModel",
      "state": {}
     },
     "38bd0cbcb5d54cf1a049862221b266c5": {
      "model_module": "@jupyter-widgets/controls",
      "model_module_version": "1.5.0",
      "model_name": "DescriptionStyleModel",
      "state": {
       "description_width": ""
      }
     },
     "38f1cb481b11419284e2817667dc58b1": {
      "model_module": "@jupyter-widgets/controls",
      "model_module_version": "1.5.0",
      "model_name": "DescriptionStyleModel",
      "state": {
       "description_width": ""
      }
     },
     "393ddc9a4e20406ab2d6d01574fe03f2": {
      "model_module": "@jupyter-widgets/controls",
      "model_module_version": "1.5.0",
      "model_name": "DescriptionStyleModel",
      "state": {
       "description_width": ""
      }
     },
     "3a239cd9e6544a86baa55c692c0355f8": {
      "model_module": "@jupyter-widgets/controls",
      "model_module_version": "1.5.0",
      "model_name": "DescriptionStyleModel",
      "state": {
       "description_width": ""
      }
     },
     "3a30de3b513b43968688f12686388fbe": {
      "model_module": "@jupyter-widgets/controls",
      "model_module_version": "1.5.0",
      "model_name": "DescriptionStyleModel",
      "state": {
       "description_width": ""
      }
     },
     "3aca3dbab7614b96b29e40eb32798a88": {
      "model_module": "@jupyter-widgets/controls",
      "model_module_version": "1.5.0",
      "model_name": "DescriptionStyleModel",
      "state": {
       "description_width": ""
      }
     },
     "3aef068c3f5c408d953f1028650058bd": {
      "model_module": "@jupyter-widgets/controls",
      "model_module_version": "1.5.0",
      "model_name": "CheckboxModel",
      "state": {
       "description": "Mode_Load_Remote_Scripts",
       "disabled": false,
       "layout": "IPY_MODEL_fccc618a2b3f4e30bbda625938a4722c",
       "style": "IPY_MODEL_8211764a0bf14e0aaadbda9fd5d353ce",
       "value": false
      }
     },
     "3b0b1ad9755241d0bcff63b4594844bc": {
      "model_module": "@jupyter-widgets/controls",
      "model_module_version": "1.5.0",
      "model_name": "CheckboxModel",
      "state": {
       "description": "CLOSE_CH_all",
       "disabled": false,
       "layout": "IPY_MODEL_433ed69eb6954f31b9870cced71c6e8e",
       "style": "IPY_MODEL_0c3298cebe6a4104bf7ebc4910ed0985",
       "value": false
      }
     },
     "3b111307007d44ac94dbe02d3da4fea8": {
      "model_module": "@jupyter-widgets/controls",
      "model_module_version": "1.5.0",
      "model_name": "CheckboxModel",
      "state": {
       "description": "CH_10",
       "disabled": false,
       "layout": "IPY_MODEL_1d8cd0d43f3d45e48edf54d9f8c15bf3",
       "style": "IPY_MODEL_b09d27d3cc0e404b85533c1b40dcdf01",
       "value": false
      }
     },
     "3b2b837d839e4513ab55212b08932f5b": {
      "model_module": "@jupyter-widgets/controls",
      "model_module_version": "1.5.0",
      "model_name": "CheckboxModel",
      "state": {
       "description": "CH_15",
       "disabled": false,
       "layout": "IPY_MODEL_431bf88eae8c4b05aa3da766fa9537d0",
       "style": "IPY_MODEL_aba5b493132d44118af1eeb09e8549a4",
       "value": true
      }
     },
     "3b5a29a58e1d40908dafa99cfc233ab7": {
      "model_module": "@jupyter-widgets/controls",
      "model_module_version": "1.5.0",
      "model_name": "CheckboxModel",
      "state": {
       "description": "Mode_Run_Saved_Scripts",
       "disabled": false,
       "layout": "IPY_MODEL_1ace9c0dbea647a1a21f4c807059ff49",
       "style": "IPY_MODEL_e76493fdc33841888f958440c381b5dc",
       "value": false
      }
     },
     "3b6213e3b0de493085b9b4559383b50f": {
      "model_module": "@jupyter-widgets/controls",
      "model_module_version": "1.5.0",
      "model_name": "DescriptionStyleModel",
      "state": {
       "description_width": ""
      }
     },
     "3b6956ce3c3f47008c7d8904bbdb8969": {
      "model_module": "@jupyter-widgets/base",
      "model_module_version": "1.2.0",
      "model_name": "LayoutModel",
      "state": {}
     },
     "3b910265b86245f7b7d417a46ea5c472": {
      "model_module": "@jupyter-widgets/controls",
      "model_module_version": "1.5.0",
      "model_name": "DescriptionStyleModel",
      "state": {
       "description_width": ""
      }
     },
     "3b9977af07dc4c5f8312ce9c9c3921c4": {
      "model_module": "@jupyter-widgets/controls",
      "model_module_version": "1.5.0",
      "model_name": "CheckboxModel",
      "state": {
       "description": "Mode_Load_Remote_Scripts",
       "disabled": false,
       "layout": "IPY_MODEL_32932235b9bb4d939c7996537c46c06f",
       "style": "IPY_MODEL_467e46330f7245d5abde8f70587393b6",
       "value": false
      }
     },
     "3bb2d48a6db34d8c87212e7a8cd5a17d": {
      "model_module": "@jupyter-widgets/controls",
      "model_module_version": "1.5.0",
      "model_name": "CheckboxModel",
      "state": {
       "description": "CH_8",
       "disabled": false,
       "layout": "IPY_MODEL_1c81aab1f3b648d3ae00eeceb09d0ff7",
       "style": "IPY_MODEL_59067705fb1944e0aa13ecaa25b560c1",
       "value": false
      }
     },
     "3c0900b57c3b45f1aa9f4310629c67ea": {
      "model_module": "@jupyter-widgets/controls",
      "model_module_version": "1.5.0",
      "model_name": "DescriptionStyleModel",
      "state": {
       "description_width": ""
      }
     },
     "3c1dab1d9f084d1595289bd99cd9069e": {
      "model_module": "@jupyter-widgets/base",
      "model_module_version": "1.2.0",
      "model_name": "LayoutModel",
      "state": {}
     },
     "3c46130238044ec7b8a2c6232b6b3722": {
      "model_module": "@jupyter-widgets/controls",
      "model_module_version": "1.5.0",
      "model_name": "DescriptionStyleModel",
      "state": {
       "description_width": ""
      }
     },
     "3c52e8b1ddb644e69202ddaa5975469b": {
      "model_module": "@jupyter-widgets/controls",
      "model_module_version": "1.5.0",
      "model_name": "DescriptionStyleModel",
      "state": {
       "description_width": ""
      }
     },
     "3c7350aa86af4ae884a0b4895a42382b": {
      "model_module": "@jupyter-widgets/base",
      "model_module_version": "1.2.0",
      "model_name": "LayoutModel",
      "state": {}
     },
     "3c83a09dab694ba1bc2902b83591dfc3": {
      "model_module": "@jupyter-widgets/controls",
      "model_module_version": "1.5.0",
      "model_name": "DescriptionStyleModel",
      "state": {
       "description_width": ""
      }
     },
     "3cb5253fe348436b9c2a3b7a660b5dd3": {
      "model_module": "@jupyter-widgets/controls",
      "model_module_version": "1.5.0",
      "model_name": "DescriptionStyleModel",
      "state": {
       "description_width": ""
      }
     },
     "3d14e5c9c3dd41229563fedcaaef4211": {
      "model_module": "@jupyter-widgets/controls",
      "model_module_version": "1.5.0",
      "model_name": "DescriptionStyleModel",
      "state": {
       "description_width": ""
      }
     },
     "3d3b9d99726b498295430f82a7bbba0d": {
      "model_module": "@jupyter-widgets/controls",
      "model_module_version": "1.5.0",
      "model_name": "CheckboxModel",
      "state": {
       "description": "Script_3",
       "disabled": false,
       "layout": "IPY_MODEL_8b705b868b7049aeaaa82a78de5f62de",
       "style": "IPY_MODEL_d073e60eaa02470eafc975b8bc0d14a5",
       "value": false
      }
     },
     "3d5f4e6c4b204a1b8b9b5743d0e3626f": {
      "model_module": "@jupyter-widgets/controls",
      "model_module_version": "1.5.0",
      "model_name": "CheckboxModel",
      "state": {
       "description": "Mode_EXIT",
       "disabled": false,
       "layout": "IPY_MODEL_aa5748651304486c91108a838fd36bf9",
       "style": "IPY_MODEL_c1621d30edc74b13b7b1d5d4eddc041c",
       "value": false
      }
     },
     "3d77ca5cb548456b96527e9137c041fd": {
      "model_module": "@jupyter-widgets/controls",
      "model_module_version": "1.5.0",
      "model_name": "CheckboxModel",
      "state": {
       "description": "CLOSE_CH_all",
       "disabled": false,
       "layout": "IPY_MODEL_4da7df7ee699415aabf9982f7b101acf",
       "style": "IPY_MODEL_3a30de3b513b43968688f12686388fbe",
       "value": false
      }
     },
     "3d87a3c990c245c4983c77468ad778ff": {
      "model_module": "@jupyter-widgets/base",
      "model_module_version": "1.2.0",
      "model_name": "LayoutModel",
      "state": {}
     },
     "3e21248328114fa8b4152da1b2146dc1": {
      "model_module": "@jupyter-widgets/base",
      "model_module_version": "1.2.0",
      "model_name": "LayoutModel",
      "state": {}
     },
     "3e4cd5f523af4efea41516d72b583252": {
      "model_module": "@jupyter-widgets/controls",
      "model_module_version": "1.5.0",
      "model_name": "DescriptionStyleModel",
      "state": {
       "description_width": ""
      }
     },
     "3e8a992a3aa345409d45305093191f65": {
      "model_module": "@jupyter-widgets/controls",
      "model_module_version": "1.5.0",
      "model_name": "DescriptionStyleModel",
      "state": {
       "description_width": ""
      }
     },
     "3ecd5916d1ee44a4acd1ffe3abb82f49": {
      "model_module": "@jupyter-widgets/controls",
      "model_module_version": "1.5.0",
      "model_name": "CheckboxModel",
      "state": {
       "description": "CH_1",
       "disabled": false,
       "layout": "IPY_MODEL_35abae5c32454335a5ae63514d9b1bae",
       "style": "IPY_MODEL_0cc4751c017d4b0ea7740daabdb50348",
       "value": false
      }
     },
     "3f0755a27e0a4f88b489e505264e3d20": {
      "model_module": "@jupyter-widgets/base",
      "model_module_version": "1.2.0",
      "model_name": "LayoutModel",
      "state": {}
     },
     "3f0d7881e2bf493fb6842cdac5176d98": {
      "model_module": "@jupyter-widgets/controls",
      "model_module_version": "1.5.0",
      "model_name": "CheckboxModel",
      "state": {
       "description": "CH_11",
       "disabled": false,
       "layout": "IPY_MODEL_680e980dfafc46b6865d5c07dba396ad",
       "style": "IPY_MODEL_2abfdb702a7f4643bb1d87de8d9f3bc0",
       "value": true
      }
     },
     "3f27e846affa4c0b8bae9e8d031330f9": {
      "model_module": "@jupyter-widgets/base",
      "model_module_version": "1.2.0",
      "model_name": "LayoutModel",
      "state": {}
     },
     "3f8dd5118e4541569203da840dc5055e": {
      "model_module": "@jupyter-widgets/controls",
      "model_module_version": "1.5.0",
      "model_name": "CheckboxModel",
      "state": {
       "description": "CH_1",
       "disabled": false,
       "layout": "IPY_MODEL_9d5ddc5410754c1e817c4a3fcf882457",
       "style": "IPY_MODEL_9eb40e64eb6d44eeb49d00006fe8f821",
       "value": true
      }
     },
     "3fa69858ee3347c2893e9af2f65445e4": {
      "model_module": "@jupyter-widgets/controls",
      "model_module_version": "1.5.0",
      "model_name": "DescriptionStyleModel",
      "state": {
       "description_width": ""
      }
     },
     "4054b102b1604a4abf783e4d336beba2": {
      "model_module": "@jupyter-widgets/controls",
      "model_module_version": "1.5.0",
      "model_name": "DescriptionStyleModel",
      "state": {
       "description_width": ""
      }
     },
     "4070b4c2e1ba484f974a791cfeeab70a": {
      "model_module": "@jupyter-widgets/controls",
      "model_module_version": "1.5.0",
      "model_name": "CheckboxModel",
      "state": {
       "description": "CH_9",
       "disabled": false,
       "layout": "IPY_MODEL_7e66e25723e64f008e74522b0244de3b",
       "style": "IPY_MODEL_b3bd0691d94641f5b5a1c91e14f4dd63",
       "value": true
      }
     },
     "40723b2e8ded4d5d9a1d8a004f7602b2": {
      "model_module": "@jupyter-widgets/base",
      "model_module_version": "1.2.0",
      "model_name": "LayoutModel",
      "state": {}
     },
     "40aae98bd08b43bea01a83259d122dcb": {
      "model_module": "@jupyter-widgets/base",
      "model_module_version": "1.2.0",
      "model_name": "LayoutModel",
      "state": {}
     },
     "40d977e6f58e44998fc625662645bcee": {
      "model_module": "@jupyter-widgets/controls",
      "model_module_version": "1.5.0",
      "model_name": "CheckboxModel",
      "state": {
       "description": "CH_16",
       "disabled": false,
       "layout": "IPY_MODEL_ab08cf15ef204bde8a33c094c17f3e47",
       "style": "IPY_MODEL_3644ecef32764018b1af05f012bb28fd",
       "value": true
      }
     },
     "412e2e037b0749f399b6a909799e2783": {
      "model_module": "@jupyter-widgets/controls",
      "model_module_version": "1.5.0",
      "model_name": "DescriptionStyleModel",
      "state": {
       "description_width": ""
      }
     },
     "4161604dd13242cb85c69485005a82c0": {
      "model_module": "@jupyter-widgets/controls",
      "model_module_version": "1.5.0",
      "model_name": "CheckboxModel",
      "state": {
       "description": "CH_3",
       "disabled": false,
       "layout": "IPY_MODEL_325f6e7f40ea4a7aba6217d39d991e88",
       "style": "IPY_MODEL_5a9629e58d8140e0bd565fde058acf18",
       "value": false
      }
     },
     "419de5838fb74e79a6f48e6d989dfab6": {
      "model_module": "@jupyter-widgets/controls",
      "model_module_version": "1.5.0",
      "model_name": "DescriptionStyleModel",
      "state": {
       "description_width": ""
      }
     },
     "41a54f7f5e354830a0d2c18e99f5bbe1": {
      "model_module": "@jupyter-widgets/base",
      "model_module_version": "1.2.0",
      "model_name": "LayoutModel",
      "state": {}
     },
     "4205436d783f4d5ebac3e8a224ef41fe": {
      "model_module": "@jupyter-widgets/controls",
      "model_module_version": "1.5.0",
      "model_name": "DescriptionStyleModel",
      "state": {
       "description_width": ""
      }
     },
     "42830213aeae4fe6b2563e46ffa91331": {
      "model_module": "@jupyter-widgets/controls",
      "model_module_version": "1.5.0",
      "model_name": "DescriptionStyleModel",
      "state": {
       "description_width": ""
      }
     },
     "4293c7f09469487fb009866bf491a53a": {
      "model_module": "@jupyter-widgets/controls",
      "model_module_version": "1.5.0",
      "model_name": "CheckboxModel",
      "state": {
       "description": "Script_2",
       "disabled": false,
       "layout": "IPY_MODEL_46979721963f462fb29c035e2cb635f0",
       "style": "IPY_MODEL_30cb93357f2548c98e8beb4d5d206394",
       "value": false
      }
     },
     "42cac86455a64916b330ba5660d41cbd": {
      "model_module": "@jupyter-widgets/base",
      "model_module_version": "1.2.0",
      "model_name": "LayoutModel",
      "state": {}
     },
     "4310a895f6ca482d944e7fc13eacb8ab": {
      "model_module": "@jupyter-widgets/controls",
      "model_module_version": "1.5.0",
      "model_name": "CheckboxModel",
      "state": {
       "description": "CH_12",
       "disabled": false,
       "layout": "IPY_MODEL_effe4c3d937b43748a55c453269e842d",
       "style": "IPY_MODEL_7a0dfa71205c4d19b41c62df9a5c361c",
       "value": false
      }
     },
     "431bf88eae8c4b05aa3da766fa9537d0": {
      "model_module": "@jupyter-widgets/base",
      "model_module_version": "1.2.0",
      "model_name": "LayoutModel",
      "state": {}
     },
     "4335a7ecce96413b82af57bc5200d2fb": {
      "model_module": "@jupyter-widgets/controls",
      "model_module_version": "1.5.0",
      "model_name": "CheckboxModel",
      "state": {
       "description": "CH_7",
       "disabled": false,
       "layout": "IPY_MODEL_5d3a49a400494cb49fc085f7f3b6e891",
       "style": "IPY_MODEL_e191faa5fe3e4a92898d68dd2c2eb672",
       "value": false
      }
     },
     "433ed69eb6954f31b9870cced71c6e8e": {
      "model_module": "@jupyter-widgets/base",
      "model_module_version": "1.2.0",
      "model_name": "LayoutModel",
      "state": {}
     },
     "4365d51a9eec4982bfc8d5ce180e170d": {
      "model_module": "@jupyter-widgets/controls",
      "model_module_version": "1.5.0",
      "model_name": "CheckboxModel",
      "state": {
       "description": "CH_12",
       "disabled": false,
       "layout": "IPY_MODEL_4df2a79bfccd4c2f838682292f7cbc6f",
       "style": "IPY_MODEL_8ee6e351a9754e2bb764862a071b9e93",
       "value": false
      }
     },
     "438a82bb65da446ebc78d05c8d88869c": {
      "model_module": "@jupyter-widgets/controls",
      "model_module_version": "1.5.0",
      "model_name": "DescriptionStyleModel",
      "state": {
       "description_width": ""
      }
     },
     "441b07ba302d435d9300c8233cdfe972": {
      "model_module": "@jupyter-widgets/base",
      "model_module_version": "1.2.0",
      "model_name": "LayoutModel",
      "state": {}
     },
     "44409c0384c341df8a72d9f0a1b16a0f": {
      "model_module": "@jupyter-widgets/controls",
      "model_module_version": "1.5.0",
      "model_name": "CheckboxModel",
      "state": {
       "description": "Script_3",
       "disabled": false,
       "layout": "IPY_MODEL_5aa8ef09a06f4e6187eb6e7def5629bf",
       "style": "IPY_MODEL_5f8fdc0be9f6458b9c52a70abca13f03",
       "value": false
      }
     },
     "44411b198d164993b235fdcb3207a2b6": {
      "model_module": "@jupyter-widgets/base",
      "model_module_version": "1.2.0",
      "model_name": "LayoutModel",
      "state": {}
     },
     "44695e44ac7e4d14976822aed619dff0": {
      "model_module": "@jupyter-widgets/controls",
      "model_module_version": "1.5.0",
      "model_name": "CheckboxModel",
      "state": {
       "description": "Script_3",
       "disabled": false,
       "layout": "IPY_MODEL_59db988c006d4b17b61646c92438002b",
       "style": "IPY_MODEL_91cea1dbc0a34d7b85d8348bf830121f",
       "value": false
      }
     },
     "449e94108a5946be88cb4d28083d9f28": {
      "model_module": "@jupyter-widgets/controls",
      "model_module_version": "1.5.0",
      "model_name": "DescriptionStyleModel",
      "state": {
       "description_width": ""
      }
     },
     "44ca1cef9c2b4684893780528c7c56cc": {
      "model_module": "@jupyter-widgets/controls",
      "model_module_version": "1.5.0",
      "model_name": "DescriptionStyleModel",
      "state": {
       "description_width": ""
      }
     },
     "454cd2df42d0437f85e3731be3738269": {
      "model_module": "@jupyter-widgets/controls",
      "model_module_version": "1.5.0",
      "model_name": "DescriptionStyleModel",
      "state": {
       "description_width": ""
      }
     },
     "4591f8dd0f2b4b65a1c7c82b74e1b176": {
      "model_module": "@jupyter-widgets/controls",
      "model_module_version": "1.5.0",
      "model_name": "CheckboxModel",
      "state": {
       "description": "Script_1",
       "disabled": false,
       "layout": "IPY_MODEL_9c652f36f56a482f896f732f4741d3d9",
       "style": "IPY_MODEL_57c6409164a340d8b991306d1e4f43b3",
       "value": false
      }
     },
     "45b6676abeb64517b894076ab4aec0f6": {
      "model_module": "@jupyter-widgets/controls",
      "model_module_version": "1.5.0",
      "model_name": "CheckboxModel",
      "state": {
       "description": "Mode_EXIT",
       "disabled": false,
       "layout": "IPY_MODEL_4b47f453e9714b519e7471decd4c2141",
       "style": "IPY_MODEL_6610bc3e1ef0410180363ab6fca98e1f",
       "value": false
      }
     },
     "45e6a4647ce74cf7a66acc6ee03ce2d6": {
      "model_module": "@jupyter-widgets/controls",
      "model_module_version": "1.5.0",
      "model_name": "CheckboxModel",
      "state": {
       "description": "CH_9",
       "disabled": false,
       "layout": "IPY_MODEL_b327f705f33f470e9076d9d93d77cc7f",
       "style": "IPY_MODEL_a994d6576e3e48c48ea7312062200671",
       "value": false
      }
     },
     "46134bb6471d40ad96e9f2f6f32fcf2c": {
      "model_module": "@jupyter-widgets/controls",
      "model_module_version": "1.5.0",
      "model_name": "CheckboxModel",
      "state": {
       "description": "CH_11",
       "disabled": false,
       "layout": "IPY_MODEL_0fa06b4502334ea6b2334a1775f1f40c",
       "style": "IPY_MODEL_35d70fb6d8d04cfa94a528815e83ba01",
       "value": false
      }
     },
     "4643d95eb8664ca1a6e8c86d71bbf181": {
      "model_module": "@jupyter-widgets/controls",
      "model_module_version": "1.5.0",
      "model_name": "DescriptionStyleModel",
      "state": {
       "description_width": ""
      }
     },
     "465b8f4e490d42ca98f6cc93c85de46e": {
      "model_module": "@jupyter-widgets/base",
      "model_module_version": "1.2.0",
      "model_name": "LayoutModel",
      "state": {}
     },
     "46616a1c02ef43758d5e635f42ecc213": {
      "model_module": "@jupyter-widgets/base",
      "model_module_version": "1.2.0",
      "model_name": "LayoutModel",
      "state": {}
     },
     "467e46330f7245d5abde8f70587393b6": {
      "model_module": "@jupyter-widgets/controls",
      "model_module_version": "1.5.0",
      "model_name": "DescriptionStyleModel",
      "state": {
       "description_width": ""
      }
     },
     "46979721963f462fb29c035e2cb635f0": {
      "model_module": "@jupyter-widgets/base",
      "model_module_version": "1.2.0",
      "model_name": "LayoutModel",
      "state": {}
     },
     "469e2387bbfb4a1eb18d224f4eff236f": {
      "model_module": "@jupyter-widgets/base",
      "model_module_version": "1.2.0",
      "model_name": "LayoutModel",
      "state": {}
     },
     "46af5f2bfa244825b7910e2d9025f6f2": {
      "model_module": "@jupyter-widgets/base",
      "model_module_version": "1.2.0",
      "model_name": "LayoutModel",
      "state": {}
     },
     "46baa5a93a294f95ba1fce293ea0e97a": {
      "model_module": "@jupyter-widgets/controls",
      "model_module_version": "1.5.0",
      "model_name": "DescriptionStyleModel",
      "state": {
       "description_width": ""
      }
     },
     "4723cadf55ce4fb0ac88fa72493602fc": {
      "model_module": "@jupyter-widgets/base",
      "model_module_version": "1.2.0",
      "model_name": "LayoutModel",
      "state": {}
     },
     "479ea2cacace489dbb513189b746923e": {
      "model_module": "@jupyter-widgets/controls",
      "model_module_version": "1.5.0",
      "model_name": "CheckboxModel",
      "state": {
       "description": "CH_16",
       "disabled": false,
       "layout": "IPY_MODEL_63da236f0f534e62abbe902835f12b39",
       "style": "IPY_MODEL_2d082a1339664b76bcd3d4fb16567c8a",
       "value": true
      }
     },
     "47abdbaa2f104ed6b2de6ec053f0063a": {
      "model_module": "@jupyter-widgets/controls",
      "model_module_version": "1.5.0",
      "model_name": "DescriptionStyleModel",
      "state": {
       "description_width": ""
      }
     },
     "480566b34c3b4d819b4386f5f233522f": {
      "model_module": "@jupyter-widgets/controls",
      "model_module_version": "1.5.0",
      "model_name": "DescriptionStyleModel",
      "state": {
       "description_width": ""
      }
     },
     "484a8d94615847cca80ca3998ff8c469": {
      "model_module": "@jupyter-widgets/base",
      "model_module_version": "1.2.0",
      "model_name": "LayoutModel",
      "state": {}
     },
     "4889d84cb383477a93ad2106df9bf3b7": {
      "model_module": "@jupyter-widgets/controls",
      "model_module_version": "1.5.0",
      "model_name": "DescriptionStyleModel",
      "state": {
       "description_width": ""
      }
     },
     "489c4667fcef4d65bde4239ef9f4a394": {
      "model_module": "@jupyter-widgets/base",
      "model_module_version": "1.2.0",
      "model_name": "LayoutModel",
      "state": {}
     },
     "48a1fd0045e545c68e9f9054489fc9fa": {
      "model_module": "@jupyter-widgets/controls",
      "model_module_version": "1.5.0",
      "model_name": "DescriptionStyleModel",
      "state": {
       "description_width": ""
      }
     },
     "48ab8dd4b9144006bcc4ae362d9beab7": {
      "model_module": "@jupyter-widgets/controls",
      "model_module_version": "1.5.0",
      "model_name": "CheckboxModel",
      "state": {
       "description": "Script_1",
       "disabled": false,
       "layout": "IPY_MODEL_9e316dc6e0fe4c75b0cce186da76a902",
       "style": "IPY_MODEL_79a86ea0c19c4dcfa5e0bb5dd405e803",
       "value": false
      }
     },
     "48e9c289811e4170805851bdc9d078a4": {
      "model_module": "@jupyter-widgets/controls",
      "model_module_version": "1.5.0",
      "model_name": "DescriptionStyleModel",
      "state": {
       "description_width": ""
      }
     },
     "490925f3ff2f4cb18518febf4cf8e023": {
      "model_module": "@jupyter-widgets/controls",
      "model_module_version": "1.5.0",
      "model_name": "CheckboxModel",
      "state": {
       "description": "CLOSE_CH_all",
       "disabled": false,
       "layout": "IPY_MODEL_e44132c55da5422292b72e967a8f725c",
       "style": "IPY_MODEL_aec0bdd97ca24c05b7a3d89b68ee94b1",
       "value": false
      }
     },
     "4915a7d85b7d42bab2c58fd6af5c04a7": {
      "model_module": "@jupyter-widgets/controls",
      "model_module_version": "1.5.0",
      "model_name": "CheckboxModel",
      "state": {
       "description": "CH_3",
       "disabled": false,
       "layout": "IPY_MODEL_aef5ff51225c49b6862d0593c33347ab",
       "style": "IPY_MODEL_4dcc46a5118d483b807e72e46b091d8e",
       "value": false
      }
     },
     "496153614a8440f599ab51cc5f5136ab": {
      "model_module": "@jupyter-widgets/base",
      "model_module_version": "1.2.0",
      "model_name": "LayoutModel",
      "state": {}
     },
     "499ab30c533f415b9b9cfec5241735be": {
      "model_module": "@jupyter-widgets/controls",
      "model_module_version": "1.5.0",
      "model_name": "CheckboxModel",
      "state": {
       "description": "CH_16",
       "disabled": false,
       "layout": "IPY_MODEL_6a56458046f444a5b59729b95cbdc4c7",
       "style": "IPY_MODEL_e39de4a036bb411e8e7eed206acd7d70",
       "value": false
      }
     },
     "4a092c3c0bb9428c9142bb56d49b0f21": {
      "model_module": "@jupyter-widgets/base",
      "model_module_version": "1.2.0",
      "model_name": "LayoutModel",
      "state": {}
     },
     "4a66ee94ff4842369a4aa28c4201ec30": {
      "model_module": "@jupyter-widgets/base",
      "model_module_version": "1.2.0",
      "model_name": "LayoutModel",
      "state": {}
     },
     "4a752e59a0d341659cca9a7ff97b7186": {
      "model_module": "@jupyter-widgets/base",
      "model_module_version": "1.2.0",
      "model_name": "LayoutModel",
      "state": {}
     },
     "4ac866aaa06a4089a5b2e04939cdbf08": {
      "model_module": "@jupyter-widgets/controls",
      "model_module_version": "1.5.0",
      "model_name": "DescriptionStyleModel",
      "state": {
       "description_width": ""
      }
     },
     "4acc1dc023f8411996ec4c459fb63680": {
      "model_module": "@jupyter-widgets/controls",
      "model_module_version": "1.5.0",
      "model_name": "CheckboxModel",
      "state": {
       "description": "CH_15",
       "disabled": false,
       "layout": "IPY_MODEL_4bad6028f87d45ee95073a7c360a6559",
       "style": "IPY_MODEL_97c037f459714e3a90adb3ea41f93b60",
       "value": true
      }
     },
     "4af04e43b060486289f654eb4c20d5da": {
      "model_module": "@jupyter-widgets/controls",
      "model_module_version": "1.5.0",
      "model_name": "DescriptionStyleModel",
      "state": {
       "description_width": ""
      }
     },
     "4b1471273f534420b0da0fa246acf813": {
      "model_module": "@jupyter-widgets/base",
      "model_module_version": "1.2.0",
      "model_name": "LayoutModel",
      "state": {}
     },
     "4b47f453e9714b519e7471decd4c2141": {
      "model_module": "@jupyter-widgets/base",
      "model_module_version": "1.2.0",
      "model_name": "LayoutModel",
      "state": {}
     },
     "4b56e92632eb4b52bff372035cde8dde": {
      "model_module": "@jupyter-widgets/controls",
      "model_module_version": "1.5.0",
      "model_name": "CheckboxModel",
      "state": {
       "description": "CH_4",
       "disabled": false,
       "layout": "IPY_MODEL_7b1c7f8d194f41478718339222ecd96c",
       "style": "IPY_MODEL_e81a888f293a474f86389ce6a6b5e05f",
       "value": true
      }
     },
     "4bad6028f87d45ee95073a7c360a6559": {
      "model_module": "@jupyter-widgets/base",
      "model_module_version": "1.2.0",
      "model_name": "LayoutModel",
      "state": {}
     },
     "4c3dc55e89ad46b5ac5aa185c98ff323": {
      "model_module": "@jupyter-widgets/base",
      "model_module_version": "1.2.0",
      "model_name": "LayoutModel",
      "state": {}
     },
     "4c55e9f15c6e4f14b4de63644a98580c": {
      "model_module": "@jupyter-widgets/controls",
      "model_module_version": "1.5.0",
      "model_name": "DescriptionStyleModel",
      "state": {
       "description_width": ""
      }
     },
     "4c750c33c49c477e9081a65ffde9f499": {
      "model_module": "@jupyter-widgets/base",
      "model_module_version": "1.2.0",
      "model_name": "LayoutModel",
      "state": {}
     },
     "4d5cb27db2104d2481238af6a21638ce": {
      "model_module": "@jupyter-widgets/controls",
      "model_module_version": "1.5.0",
      "model_name": "DescriptionStyleModel",
      "state": {
       "description_width": ""
      }
     },
     "4d9448e50bf9448e8bb1ac7ff49768b7": {
      "model_module": "@jupyter-widgets/controls",
      "model_module_version": "1.5.0",
      "model_name": "CheckboxModel",
      "state": {
       "description": "CH_3",
       "disabled": false,
       "layout": "IPY_MODEL_6de4a1b2a0054bf0acca0707504a3c23",
       "style": "IPY_MODEL_9392698b023b4f01872336a1e662a4bc",
       "value": false
      }
     },
     "4d9cb54162334049bac7b58b9d74a99b": {
      "model_module": "@jupyter-widgets/base",
      "model_module_version": "1.2.0",
      "model_name": "LayoutModel",
      "state": {}
     },
     "4da7df7ee699415aabf9982f7b101acf": {
      "model_module": "@jupyter-widgets/base",
      "model_module_version": "1.2.0",
      "model_name": "LayoutModel",
      "state": {}
     },
     "4db92e95398b4d11ad33d46d270b2a6d": {
      "model_module": "@jupyter-widgets/base",
      "model_module_version": "1.2.0",
      "model_name": "LayoutModel",
      "state": {}
     },
     "4dcc46a5118d483b807e72e46b091d8e": {
      "model_module": "@jupyter-widgets/controls",
      "model_module_version": "1.5.0",
      "model_name": "DescriptionStyleModel",
      "state": {
       "description_width": ""
      }
     },
     "4df2a79bfccd4c2f838682292f7cbc6f": {
      "model_module": "@jupyter-widgets/base",
      "model_module_version": "1.2.0",
      "model_name": "LayoutModel",
      "state": {}
     },
     "4dfa26b1e10b420b974c7cf34f13ef9b": {
      "model_module": "@jupyter-widgets/base",
      "model_module_version": "1.2.0",
      "model_name": "LayoutModel",
      "state": {}
     },
     "4e0d56d6f11c432ba449ef3bc37fc390": {
      "model_module": "@jupyter-widgets/controls",
      "model_module_version": "1.5.0",
      "model_name": "CheckboxModel",
      "state": {
       "description": "Script_2",
       "disabled": false,
       "layout": "IPY_MODEL_54819dc7bb7a4d1ca68ae3d4986d761b",
       "style": "IPY_MODEL_c5e02b9203f14d8bb9ad5d483bfb4989",
       "value": false
      }
     },
     "4e5b8237041147c68cd85ccf158419d2": {
      "model_module": "@jupyter-widgets/controls",
      "model_module_version": "1.5.0",
      "model_name": "CheckboxModel",
      "state": {
       "description": "Mode_EXIT",
       "disabled": false,
       "layout": "IPY_MODEL_c7c9bd9782ec4b46b333d756c5264e13",
       "style": "IPY_MODEL_ee4867ea3262499e913462cec4bb707e",
       "value": false
      }
     },
     "4f2a7cad1f044f9ab8c60f15ccd32272": {
      "model_module": "@jupyter-widgets/controls",
      "model_module_version": "1.5.0",
      "model_name": "DescriptionStyleModel",
      "state": {
       "description_width": ""
      }
     },
     "4f67fa30ed2c4b77afc7b411194e76af": {
      "model_module": "@jupyter-widgets/controls",
      "model_module_version": "1.5.0",
      "model_name": "DescriptionStyleModel",
      "state": {
       "description_width": ""
      }
     },
     "4f74b292666f411b98f29a3058486567": {
      "model_module": "@jupyter-widgets/controls",
      "model_module_version": "1.5.0",
      "model_name": "CheckboxModel",
      "state": {
       "description": "CH_7",
       "disabled": false,
       "layout": "IPY_MODEL_14c1fa1021cd43a18d1ba06177971143",
       "style": "IPY_MODEL_1b08c3e64ce54000aa6aa5c414a3cbb5",
       "value": true
      }
     },
     "4fd7abaf854240d798484065d39402cd": {
      "model_module": "@jupyter-widgets/controls",
      "model_module_version": "1.5.0",
      "model_name": "DescriptionStyleModel",
      "state": {
       "description_width": ""
      }
     },
     "4fdb875148724cbb9dc512e71fe100a1": {
      "model_module": "@jupyter-widgets/controls",
      "model_module_version": "1.5.0",
      "model_name": "CheckboxModel",
      "state": {
       "description": "CH_7",
       "disabled": false,
       "layout": "IPY_MODEL_bb980d0c2ee0487bafc554bf8823ba49",
       "style": "IPY_MODEL_c48a810972bd4074a9dc83f58de074ab",
       "value": false
      }
     },
     "5024af174f4b41b48a27a4cc16e996d0": {
      "model_module": "@jupyter-widgets/controls",
      "model_module_version": "1.5.0",
      "model_name": "CheckboxModel",
      "state": {
       "description": "Mode_Manual_Control",
       "disabled": false,
       "layout": "IPY_MODEL_8140301e78ec43de89737216ba2d084d",
       "style": "IPY_MODEL_310f904e91ad421e8b1217d0a8f8a871",
       "value": true
      }
     },
     "506815fd254f4ac7acf2ea296d16594d": {
      "model_module": "@jupyter-widgets/controls",
      "model_module_version": "1.5.0",
      "model_name": "CheckboxModel",
      "state": {
       "description": "Script_1",
       "disabled": false,
       "layout": "IPY_MODEL_c66b0a13c4eb44e6b979df68a621cb36",
       "style": "IPY_MODEL_48e9c289811e4170805851bdc9d078a4",
       "value": false
      }
     },
     "50cbe1ddd3ea4e5e9186e00e2cf35a91": {
      "model_module": "@jupyter-widgets/controls",
      "model_module_version": "1.5.0",
      "model_name": "CheckboxModel",
      "state": {
       "description": "CH_12",
       "disabled": false,
       "layout": "IPY_MODEL_ebe9d6111f2145f3a277c77d1162f5c3",
       "style": "IPY_MODEL_8d2da89a1f194b7bb78ea70185899716",
       "value": true
      }
     },
     "517f4ce6fdcf4f23bb12649c2e010d94": {
      "model_module": "@jupyter-widgets/controls",
      "model_module_version": "1.5.0",
      "model_name": "CheckboxModel",
      "state": {
       "description": "OPEN_CH_all",
       "disabled": false,
       "layout": "IPY_MODEL_9fad11effa434745a3bffae0ddaf39d6",
       "style": "IPY_MODEL_a3ebacccaa084e87a3145e16277c2b26",
       "value": false
      }
     },
     "519ee40fb2464bc6b0364927f98b4195": {
      "model_module": "@jupyter-widgets/controls",
      "model_module_version": "1.5.0",
      "model_name": "CheckboxModel",
      "state": {
       "description": "CH_13",
       "disabled": false,
       "layout": "IPY_MODEL_0b3e6cbdfec444ee9ae7f81d0f9b8089",
       "style": "IPY_MODEL_e260c49b283e4ded80e3114ae9425229",
       "value": true
      }
     },
     "52226a2601fa4407833e15f35097d595": {
      "model_module": "@jupyter-widgets/controls",
      "model_module_version": "1.5.0",
      "model_name": "CheckboxModel",
      "state": {
       "description": "OPEN_CH_all",
       "disabled": false,
       "layout": "IPY_MODEL_8ab38944c27b4914b6817a5b33d24ff2",
       "style": "IPY_MODEL_88b6990fa4544541bcebbf04ac8aafd6",
       "value": false
      }
     },
     "5261d8372b6a486aa8e04d3bd9e5ba6c": {
      "model_module": "@jupyter-widgets/controls",
      "model_module_version": "1.5.0",
      "model_name": "CheckboxModel",
      "state": {
       "description": "CH_12",
       "disabled": false,
       "layout": "IPY_MODEL_3892e99c89d64427bdb7a86c594c2abe",
       "style": "IPY_MODEL_c501432e82a948fabfdf9ca795de9f0a",
       "value": false
      }
     },
     "5313a541b8fc469185a53ea95b23cd94": {
      "model_module": "@jupyter-widgets/base",
      "model_module_version": "1.2.0",
      "model_name": "LayoutModel",
      "state": {}
     },
     "537272e4bada4dc38397a8330c984876": {
      "model_module": "@jupyter-widgets/base",
      "model_module_version": "1.2.0",
      "model_name": "LayoutModel",
      "state": {}
     },
     "53ec1eff19ae4a9e805481c4de83180a": {
      "model_module": "@jupyter-widgets/controls",
      "model_module_version": "1.5.0",
      "model_name": "CheckboxModel",
      "state": {
       "description": "CH_4",
       "disabled": false,
       "layout": "IPY_MODEL_2e61f201796545ec891639044bee5490",
       "style": "IPY_MODEL_70dfcb68e8e44fc2b31d3eaa83dec752",
       "value": false
      }
     },
     "53ee80dfad424348a2a4d010bbd83e53": {
      "model_module": "@jupyter-widgets/controls",
      "model_module_version": "1.5.0",
      "model_name": "DescriptionStyleModel",
      "state": {
       "description_width": ""
      }
     },
     "5420a281eb3546ef8fbee66e8ef49c88": {
      "model_module": "@jupyter-widgets/base",
      "model_module_version": "1.2.0",
      "model_name": "LayoutModel",
      "state": {}
     },
     "54819dc7bb7a4d1ca68ae3d4986d761b": {
      "model_module": "@jupyter-widgets/base",
      "model_module_version": "1.2.0",
      "model_name": "LayoutModel",
      "state": {}
     },
     "54aefe72f9ee4f21a47f375582568bbd": {
      "model_module": "@jupyter-widgets/base",
      "model_module_version": "1.2.0",
      "model_name": "LayoutModel",
      "state": {}
     },
     "550af1b9c6224c419f50a67af136b7eb": {
      "model_module": "@jupyter-widgets/controls",
      "model_module_version": "1.5.0",
      "model_name": "DescriptionStyleModel",
      "state": {
       "description_width": ""
      }
     },
     "551496fabb0e43d9bbb20d25e7ff7c1b": {
      "model_module": "@jupyter-widgets/base",
      "model_module_version": "1.2.0",
      "model_name": "LayoutModel",
      "state": {}
     },
     "55200ffc22c24633842253d81b586023": {
      "model_module": "@jupyter-widgets/controls",
      "model_module_version": "1.5.0",
      "model_name": "DescriptionStyleModel",
      "state": {
       "description_width": ""
      }
     },
     "5534cab81872439082a114543231c96e": {
      "model_module": "@jupyter-widgets/controls",
      "model_module_version": "1.5.0",
      "model_name": "CheckboxModel",
      "state": {
       "description": "Mode_Manual_Control",
       "disabled": false,
       "layout": "IPY_MODEL_8ac44fdcb3364a19ba3dbf7607c72dab",
       "style": "IPY_MODEL_34438fe334f24afaa6d0c0d5a4398c12",
       "value": false
      }
     },
     "55457010be624796b4e3a977c7f51a31": {
      "model_module": "@jupyter-widgets/base",
      "model_module_version": "1.2.0",
      "model_name": "LayoutModel",
      "state": {}
     },
     "55a5f280dd0e4f60a3ec43c1d763a1a1": {
      "model_module": "@jupyter-widgets/base",
      "model_module_version": "1.2.0",
      "model_name": "LayoutModel",
      "state": {}
     },
     "55a88136ec2643cf9c220e6a57f2a2da": {
      "model_module": "@jupyter-widgets/controls",
      "model_module_version": "1.5.0",
      "model_name": "DescriptionStyleModel",
      "state": {
       "description_width": ""
      }
     },
     "55f45f6ecd0044c6b924ed2593553775": {
      "model_module": "@jupyter-widgets/controls",
      "model_module_version": "1.5.0",
      "model_name": "DescriptionStyleModel",
      "state": {
       "description_width": ""
      }
     },
     "5653189234f0461698bf7b2e8f8b37b5": {
      "model_module": "@jupyter-widgets/controls",
      "model_module_version": "1.5.0",
      "model_name": "CheckboxModel",
      "state": {
       "description": "CH_9",
       "disabled": false,
       "layout": "IPY_MODEL_0ee811cd4982494fbe744848dbf22c71",
       "style": "IPY_MODEL_bba516b45e0c4fd4bdcf4b136bcf63fc",
       "value": true
      }
     },
     "565a1b07a12d4725937051da8f2a5d7e": {
      "model_module": "@jupyter-widgets/controls",
      "model_module_version": "1.5.0",
      "model_name": "DescriptionStyleModel",
      "state": {
       "description_width": ""
      }
     },
     "568fb46796a54dce9b4769655d7d9230": {
      "model_module": "@jupyter-widgets/controls",
      "model_module_version": "1.5.0",
      "model_name": "CheckboxModel",
      "state": {
       "description": "CH_1",
       "disabled": false,
       "layout": "IPY_MODEL_a6d30018921747259c7072ad3540feb7",
       "style": "IPY_MODEL_358039671faf4108a05d4ac6ba818f32",
       "value": false
      }
     },
     "56cb7f181c0e4b258194c2cefd666ad7": {
      "model_module": "@jupyter-widgets/controls",
      "model_module_version": "1.5.0",
      "model_name": "DescriptionStyleModel",
      "state": {
       "description_width": ""
      }
     },
     "570c10dee30d42f5afb86a9dc22e0326": {
      "model_module": "@jupyter-widgets/controls",
      "model_module_version": "1.5.0",
      "model_name": "CheckboxModel",
      "state": {
       "description": "Script_1",
       "disabled": false,
       "layout": "IPY_MODEL_28ddf884c0684e868f91f4370e5abd99",
       "style": "IPY_MODEL_42830213aeae4fe6b2563e46ffa91331",
       "value": false
      }
     },
     "5756757bc6e645ba85691d2bfa37b1cd": {
      "model_module": "@jupyter-widgets/base",
      "model_module_version": "1.2.0",
      "model_name": "LayoutModel",
      "state": {}
     },
     "5762476b8c5a440a83f3a3168515c454": {
      "model_module": "@jupyter-widgets/controls",
      "model_module_version": "1.5.0",
      "model_name": "DescriptionStyleModel",
      "state": {
       "description_width": ""
      }
     },
     "57731eee6ca54871aa2fd0be62579453": {
      "model_module": "@jupyter-widgets/base",
      "model_module_version": "1.2.0",
      "model_name": "LayoutModel",
      "state": {}
     },
     "57c6409164a340d8b991306d1e4f43b3": {
      "model_module": "@jupyter-widgets/controls",
      "model_module_version": "1.5.0",
      "model_name": "DescriptionStyleModel",
      "state": {
       "description_width": ""
      }
     },
     "57eb10f085b24647977917d31e9c7585": {
      "model_module": "@jupyter-widgets/controls",
      "model_module_version": "1.5.0",
      "model_name": "DescriptionStyleModel",
      "state": {
       "description_width": ""
      }
     },
     "5861329e0cb149a18269e8a7e1b97f3b": {
      "model_module": "@jupyter-widgets/base",
      "model_module_version": "1.2.0",
      "model_name": "LayoutModel",
      "state": {}
     },
     "5881bbb46ab94160850abed3f3ca7015": {
      "model_module": "@jupyter-widgets/controls",
      "model_module_version": "1.5.0",
      "model_name": "CheckboxModel",
      "state": {
       "description": "Script_2",
       "disabled": false,
       "layout": "IPY_MODEL_323f5820a8c347bd8a2aa986db914726",
       "style": "IPY_MODEL_9a1d068c93d043fda00b03e70d72b81e",
       "value": false
      }
     },
     "58bdfda9508c4371a72990ac6949cb74": {
      "model_module": "@jupyter-widgets/controls",
      "model_module_version": "1.5.0",
      "model_name": "CheckboxModel",
      "state": {
       "description": "CH_14",
       "disabled": false,
       "layout": "IPY_MODEL_ec1db9123dc743fd97bd3881ec5c9df9",
       "style": "IPY_MODEL_2c8cf2783f3e4b35b5bb4c27790d1e9a",
       "value": false
      }
     },
     "59067705fb1944e0aa13ecaa25b560c1": {
      "model_module": "@jupyter-widgets/controls",
      "model_module_version": "1.5.0",
      "model_name": "DescriptionStyleModel",
      "state": {
       "description_width": ""
      }
     },
     "593545d7e0cc43d9903b1c7551244417": {
      "model_module": "@jupyter-widgets/base",
      "model_module_version": "1.2.0",
      "model_name": "LayoutModel",
      "state": {}
     },
     "593c483671ec4289b1c4d50715f9c309": {
      "model_module": "@jupyter-widgets/controls",
      "model_module_version": "1.5.0",
      "model_name": "CheckboxModel",
      "state": {
       "description": "CH_13",
       "disabled": false,
       "layout": "IPY_MODEL_3c7350aa86af4ae884a0b4895a42382b",
       "style": "IPY_MODEL_9e910ca2390644c1b20db9be23159a11",
       "value": true
      }
     },
     "596fde5e2b214b7db28a74639f8e7aa1": {
      "model_module": "@jupyter-widgets/controls",
      "model_module_version": "1.5.0",
      "model_name": "CheckboxModel",
      "state": {
       "description": "CH_11",
       "disabled": false,
       "layout": "IPY_MODEL_b647f911fa2643cb9f0f64c8343cc3d2",
       "style": "IPY_MODEL_bb664f86639e4be19b0ec6f7f651c1c1",
       "value": false
      }
     },
     "599af1b3f1aa4fac8f0ba055e0a9f8ae": {
      "model_module": "@jupyter-widgets/base",
      "model_module_version": "1.2.0",
      "model_name": "LayoutModel",
      "state": {}
     },
     "59db988c006d4b17b61646c92438002b": {
      "model_module": "@jupyter-widgets/base",
      "model_module_version": "1.2.0",
      "model_name": "LayoutModel",
      "state": {}
     },
     "59f82110126a4ff4a22ef1a2403d49e9": {
      "model_module": "@jupyter-widgets/controls",
      "model_module_version": "1.5.0",
      "model_name": "CheckboxModel",
      "state": {
       "description": "CH_11",
       "disabled": false,
       "layout": "IPY_MODEL_af803e9903e342d881bc62ea812d93c1",
       "style": "IPY_MODEL_293dff14fa48411693a35f9e9a5239e5",
       "value": true
      }
     },
     "5a50ad07570d4a4692a212c2392e2f1f": {
      "model_module": "@jupyter-widgets/base",
      "model_module_version": "1.2.0",
      "model_name": "LayoutModel",
      "state": {}
     },
     "5a9629e58d8140e0bd565fde058acf18": {
      "model_module": "@jupyter-widgets/controls",
      "model_module_version": "1.5.0",
      "model_name": "DescriptionStyleModel",
      "state": {
       "description_width": ""
      }
     },
     "5aa8ef09a06f4e6187eb6e7def5629bf": {
      "model_module": "@jupyter-widgets/base",
      "model_module_version": "1.2.0",
      "model_name": "LayoutModel",
      "state": {}
     },
     "5ac2b6056954499695f4e9b4b650acb5": {
      "model_module": "@jupyter-widgets/controls",
      "model_module_version": "1.5.0",
      "model_name": "DescriptionStyleModel",
      "state": {
       "description_width": ""
      }
     },
     "5b3b29f81c75410286483d2d6e1f492b": {
      "model_module": "@jupyter-widgets/controls",
      "model_module_version": "1.5.0",
      "model_name": "DescriptionStyleModel",
      "state": {
       "description_width": ""
      }
     },
     "5ba32e6114734fae9bb818fedab73cd0": {
      "model_module": "@jupyter-widgets/controls",
      "model_module_version": "1.5.0",
      "model_name": "CheckboxModel",
      "state": {
       "description": "CH_3",
       "disabled": false,
       "layout": "IPY_MODEL_15def0e8405e4b878ff9bd98bcdadb42",
       "style": "IPY_MODEL_c224537fb8b04a5f86408715fe0a1bb3",
       "value": false
      }
     },
     "5c091091c7d8497abbfb01ae308456ea": {
      "model_module": "@jupyter-widgets/controls",
      "model_module_version": "1.5.0",
      "model_name": "DescriptionStyleModel",
      "state": {
       "description_width": ""
      }
     },
     "5c331f8f34cd4623bccbd298be6f4292": {
      "model_module": "@jupyter-widgets/controls",
      "model_module_version": "1.5.0",
      "model_name": "CheckboxModel",
      "state": {
       "description": "CH_3",
       "disabled": false,
       "layout": "IPY_MODEL_3f0755a27e0a4f88b489e505264e3d20",
       "style": "IPY_MODEL_1a23baf98b83423aad6e19736e3bf108",
       "value": true
      }
     },
     "5c4703e5509d49eaba794cc3bde5b7bf": {
      "model_module": "@jupyter-widgets/controls",
      "model_module_version": "1.5.0",
      "model_name": "CheckboxModel",
      "state": {
       "description": "Script_1",
       "disabled": false,
       "layout": "IPY_MODEL_d077511445e34aa1b1a03df178a9d9cd",
       "style": "IPY_MODEL_ed849934e45344f3825f3ca0377e9766",
       "value": false
      }
     },
     "5cbc90d8fbc8465697f090f60acaad8e": {
      "model_module": "@jupyter-widgets/controls",
      "model_module_version": "1.5.0",
      "model_name": "CheckboxModel",
      "state": {
       "description": "Script_1",
       "disabled": false,
       "layout": "IPY_MODEL_86c9f302b4f64116b22de71a82ac4fcc",
       "style": "IPY_MODEL_f9dcf5c5193c41fdb03c4eca9d795dc5",
       "value": false
      }
     },
     "5d0dbbd021cc4b05b264b8e9649b35fa": {
      "model_module": "@jupyter-widgets/controls",
      "model_module_version": "1.5.0",
      "model_name": "CheckboxModel",
      "state": {
       "description": "CH_15",
       "disabled": false,
       "layout": "IPY_MODEL_7b602100ce0944a19a71ba22aaba553d",
       "style": "IPY_MODEL_f6530c7e10ea464ab8859f003e3fedb7",
       "value": false
      }
     },
     "5d3a49a400494cb49fc085f7f3b6e891": {
      "model_module": "@jupyter-widgets/base",
      "model_module_version": "1.2.0",
      "model_name": "LayoutModel",
      "state": {}
     },
     "5e748fb522ce4e3fadb46da2bd461095": {
      "model_module": "@jupyter-widgets/base",
      "model_module_version": "1.2.0",
      "model_name": "LayoutModel",
      "state": {}
     },
     "5e829182d4fa4fcaaa13b1534b7e7a31": {
      "model_module": "@jupyter-widgets/controls",
      "model_module_version": "1.5.0",
      "model_name": "DescriptionStyleModel",
      "state": {
       "description_width": ""
      }
     },
     "5ee64feaa35d4c40a5e1f614dc3642ed": {
      "model_module": "@jupyter-widgets/base",
      "model_module_version": "1.2.0",
      "model_name": "LayoutModel",
      "state": {}
     },
     "5ef19c5bde7d46b4a594caaf8c487970": {
      "model_module": "@jupyter-widgets/controls",
      "model_module_version": "1.5.0",
      "model_name": "CheckboxModel",
      "state": {
       "description": "Script_1",
       "disabled": false,
       "layout": "IPY_MODEL_246fd07d5a1840189137001e7e16d069",
       "style": "IPY_MODEL_4205436d783f4d5ebac3e8a224ef41fe",
       "value": false
      }
     },
     "5f47b129f1eb4e4fb928f505198a4ba3": {
      "model_module": "@jupyter-widgets/base",
      "model_module_version": "1.2.0",
      "model_name": "LayoutModel",
      "state": {}
     },
     "5f58c1d42c144711bc5c5bfce7f9483d": {
      "model_module": "@jupyter-widgets/base",
      "model_module_version": "1.2.0",
      "model_name": "LayoutModel",
      "state": {}
     },
     "5f62db2ce5ac4790a720386e235a4bba": {
      "model_module": "@jupyter-widgets/controls",
      "model_module_version": "1.5.0",
      "model_name": "CheckboxModel",
      "state": {
       "description": "CH_10",
       "disabled": false,
       "layout": "IPY_MODEL_277e1b2c30294c95a0f162600b574349",
       "style": "IPY_MODEL_aa1721c0f4e34de2a16d3fc56ce3745c",
       "value": false
      }
     },
     "5f78ff53994443e3923a633d28a8a63b": {
      "model_module": "@jupyter-widgets/base",
      "model_module_version": "1.2.0",
      "model_name": "LayoutModel",
      "state": {}
     },
     "5f8fdc0be9f6458b9c52a70abca13f03": {
      "model_module": "@jupyter-widgets/controls",
      "model_module_version": "1.5.0",
      "model_name": "DescriptionStyleModel",
      "state": {
       "description_width": ""
      }
     },
     "5ff54eacc86d4b75b1dc8ac1b757fa26": {
      "model_module": "@jupyter-widgets/controls",
      "model_module_version": "1.5.0",
      "model_name": "DescriptionStyleModel",
      "state": {
       "description_width": ""
      }
     },
     "5ff637cb416e4a55b4a9cd40dfe18655": {
      "model_module": "@jupyter-widgets/controls",
      "model_module_version": "1.5.0",
      "model_name": "DescriptionStyleModel",
      "state": {
       "description_width": ""
      }
     },
     "6016033d8e4e4044a1065d137fbe4c9b": {
      "model_module": "@jupyter-widgets/controls",
      "model_module_version": "1.5.0",
      "model_name": "CheckboxModel",
      "state": {
       "description": "CH_6",
       "disabled": false,
       "layout": "IPY_MODEL_a393beca73a94db8854f79960e5def0a",
       "style": "IPY_MODEL_a73b37757bc64105b5da70b28209df5a",
       "value": false
      }
     },
     "6069f3dbc25548e78926bd7f9c12d05f": {
      "model_module": "@jupyter-widgets/controls",
      "model_module_version": "1.5.0",
      "model_name": "DescriptionStyleModel",
      "state": {
       "description_width": ""
      }
     },
     "60806fdc468c472c93fad9178ac08d07": {
      "model_module": "@jupyter-widgets/base",
      "model_module_version": "1.2.0",
      "model_name": "LayoutModel",
      "state": {}
     },
     "61091669abaa42918205152c49d1962d": {
      "model_module": "@jupyter-widgets/controls",
      "model_module_version": "1.5.0",
      "model_name": "CheckboxModel",
      "state": {
       "description": "OPEN_CH_all",
       "disabled": false,
       "layout": "IPY_MODEL_a29c4ad0d9f74ede93122d70ddbc81fd",
       "style": "IPY_MODEL_fc8ee47d364b4a74a728251916478b62",
       "value": true
      }
     },
     "6183c1e7e0b149119e96f760ca6d4bf3": {
      "model_module": "@jupyter-widgets/base",
      "model_module_version": "1.2.0",
      "model_name": "LayoutModel",
      "state": {}
     },
     "61b533ce35c14fe0b04e1502319ed572": {
      "model_module": "@jupyter-widgets/controls",
      "model_module_version": "1.5.0",
      "model_name": "DescriptionStyleModel",
      "state": {
       "description_width": ""
      }
     },
     "61b5c5c933e74568ab86b66256108ce1": {
      "model_module": "@jupyter-widgets/controls",
      "model_module_version": "1.5.0",
      "model_name": "CheckboxModel",
      "state": {
       "description": "CH_11",
       "disabled": false,
       "layout": "IPY_MODEL_90aa6e306d3844cc8c546bae3a35f1c9",
       "style": "IPY_MODEL_26342b61b8784ab494869c4abc0e79bf",
       "value": false
      }
     },
     "61c9554015114a808383696fa388d141": {
      "model_module": "@jupyter-widgets/controls",
      "model_module_version": "1.5.0",
      "model_name": "CheckboxModel",
      "state": {
       "description": "CH_15",
       "disabled": false,
       "layout": "IPY_MODEL_6183c1e7e0b149119e96f760ca6d4bf3",
       "style": "IPY_MODEL_d0088547dc314ae39295110bf1385067",
       "value": false
      }
     },
     "621ad9139fce47579de6851555d4f607": {
      "model_module": "@jupyter-widgets/controls",
      "model_module_version": "1.5.0",
      "model_name": "DescriptionStyleModel",
      "state": {
       "description_width": ""
      }
     },
     "6243dc3f75f04bd58ea494cfbd329de9": {
      "model_module": "@jupyter-widgets/controls",
      "model_module_version": "1.5.0",
      "model_name": "CheckboxModel",
      "state": {
       "description": "CH_6",
       "disabled": false,
       "layout": "IPY_MODEL_c08248c5d36346208fdccad714a9d3e7",
       "style": "IPY_MODEL_d10786bc43474f728f6f966b31ad2cb7",
       "value": true
      }
     },
     "624ecb01b2fb45f6b03d9ba3e39daabe": {
      "model_module": "@jupyter-widgets/controls",
      "model_module_version": "1.5.0",
      "model_name": "DescriptionStyleModel",
      "state": {
       "description_width": ""
      }
     },
     "628ae817fa2048018fc0b59af041cb08": {
      "model_module": "@jupyter-widgets/controls",
      "model_module_version": "1.5.0",
      "model_name": "CheckboxModel",
      "state": {
       "description": "Script_3",
       "disabled": false,
       "layout": "IPY_MODEL_78f72426d1264d2ab4630109f6d34b12",
       "style": "IPY_MODEL_ed0001e40e09410ba7108e0011c5d794",
       "value": false
      }
     },
     "62a14f08aed84f77b69a26ab78565c66": {
      "model_module": "@jupyter-widgets/base",
      "model_module_version": "1.2.0",
      "model_name": "LayoutModel",
      "state": {}
     },
     "62b3f0f5e29f4834981b2fe09b2debe8": {
      "model_module": "@jupyter-widgets/controls",
      "model_module_version": "1.5.0",
      "model_name": "CheckboxModel",
      "state": {
       "description": "CH_15",
       "disabled": false,
       "layout": "IPY_MODEL_ed3e8269658d42a480706e2bf30c1110",
       "style": "IPY_MODEL_f1fdcdd6c7bc4b2198ea9172dcfac88a",
       "value": false
      }
     },
     "63034f9fe3f54a6d815202c3264b5782": {
      "model_module": "@jupyter-widgets/controls",
      "model_module_version": "1.5.0",
      "model_name": "DescriptionStyleModel",
      "state": {
       "description_width": ""
      }
     },
     "63107d16e54b4c98b9ec30e969275d8c": {
      "model_module": "@jupyter-widgets/controls",
      "model_module_version": "1.5.0",
      "model_name": "DescriptionStyleModel",
      "state": {
       "description_width": ""
      }
     },
     "6343e8bbc6a04494acd0b31fda205f23": {
      "model_module": "@jupyter-widgets/controls",
      "model_module_version": "1.5.0",
      "model_name": "DescriptionStyleModel",
      "state": {
       "description_width": ""
      }
     },
     "63661faa4fd7434d9374ff51dbb9c951": {
      "model_module": "@jupyter-widgets/base",
      "model_module_version": "1.2.0",
      "model_name": "LayoutModel",
      "state": {}
     },
     "63da236f0f534e62abbe902835f12b39": {
      "model_module": "@jupyter-widgets/base",
      "model_module_version": "1.2.0",
      "model_name": "LayoutModel",
      "state": {}
     },
     "647f273124574adbb7c066f63fc4b936": {
      "model_module": "@jupyter-widgets/controls",
      "model_module_version": "1.5.0",
      "model_name": "CheckboxModel",
      "state": {
       "description": "CH_12",
       "disabled": false,
       "layout": "IPY_MODEL_b424ade890074f508c6add9cbb7fe505",
       "style": "IPY_MODEL_bff4b982e611425a98d9454171e3ad12",
       "value": false
      }
     },
     "64a54e0560ae40788e259cdbb4e47ae0": {
      "model_module": "@jupyter-widgets/base",
      "model_module_version": "1.2.0",
      "model_name": "LayoutModel",
      "state": {}
     },
     "64e3421b475a4806b26285fe38f95e7c": {
      "model_module": "@jupyter-widgets/base",
      "model_module_version": "1.2.0",
      "model_name": "LayoutModel",
      "state": {}
     },
     "659ad3c88cf64460b22ae51c8b47b255": {
      "model_module": "@jupyter-widgets/controls",
      "model_module_version": "1.5.0",
      "model_name": "CheckboxModel",
      "state": {
       "description": "CLOSE_CH_all",
       "disabled": false,
       "layout": "IPY_MODEL_696dc44ad2294c1c9edc3e0890b6ffa8",
       "style": "IPY_MODEL_e96dd607ff194d5d8259d4f01490d4f3",
       "value": false
      }
     },
     "65aa2acd6f704d25a18316d3a5191168": {
      "model_module": "@jupyter-widgets/controls",
      "model_module_version": "1.5.0",
      "model_name": "CheckboxModel",
      "state": {
       "description": "CLOSE_CH_all",
       "disabled": false,
       "layout": "IPY_MODEL_f6d27d23250a4e22b2a81dc9862d6891",
       "style": "IPY_MODEL_bf838b03f90d47a28a160a97cf4ca232",
       "value": false
      }
     },
     "6610bc3e1ef0410180363ab6fca98e1f": {
      "model_module": "@jupyter-widgets/controls",
      "model_module_version": "1.5.0",
      "model_name": "DescriptionStyleModel",
      "state": {
       "description_width": ""
      }
     },
     "662796c5a1ec4df1bd0e69712b3e31cd": {
      "model_module": "@jupyter-widgets/base",
      "model_module_version": "1.2.0",
      "model_name": "LayoutModel",
      "state": {}
     },
     "663f4348e4b3475fb14fb2633c4e1111": {
      "model_module": "@jupyter-widgets/controls",
      "model_module_version": "1.5.0",
      "model_name": "DescriptionStyleModel",
      "state": {
       "description_width": ""
      }
     },
     "678f118f85a24509b815142f5ec8e477": {
      "model_module": "@jupyter-widgets/base",
      "model_module_version": "1.2.0",
      "model_name": "LayoutModel",
      "state": {}
     },
     "67e861db9cfd425db0d8ef6e253e705d": {
      "model_module": "@jupyter-widgets/controls",
      "model_module_version": "1.5.0",
      "model_name": "CheckboxModel",
      "state": {
       "description": "CH_14",
       "disabled": false,
       "layout": "IPY_MODEL_a6520629e6fc494a95cb10c3bc11c241",
       "style": "IPY_MODEL_8420942877bf4161b6ddc031d8398ba2",
       "value": false
      }
     },
     "680e980dfafc46b6865d5c07dba396ad": {
      "model_module": "@jupyter-widgets/base",
      "model_module_version": "1.2.0",
      "model_name": "LayoutModel",
      "state": {}
     },
     "6829d7b6859543e68671ee200a0dcc8a": {
      "model_module": "@jupyter-widgets/controls",
      "model_module_version": "1.5.0",
      "model_name": "DescriptionStyleModel",
      "state": {
       "description_width": ""
      }
     },
     "6832db90715344d8a6047719e4b2b1b4": {
      "model_module": "@jupyter-widgets/base",
      "model_module_version": "1.2.0",
      "model_name": "LayoutModel",
      "state": {}
     },
     "6835fcc7464846a3a0b02a296c086b6a": {
      "model_module": "@jupyter-widgets/controls",
      "model_module_version": "1.5.0",
      "model_name": "DescriptionStyleModel",
      "state": {
       "description_width": ""
      }
     },
     "68834061f28f485d85462407a6125bde": {
      "model_module": "@jupyter-widgets/controls",
      "model_module_version": "1.5.0",
      "model_name": "DescriptionStyleModel",
      "state": {
       "description_width": ""
      }
     },
     "689c709d8d484d46a5adcf02726159e8": {
      "model_module": "@jupyter-widgets/controls",
      "model_module_version": "1.5.0",
      "model_name": "CheckboxModel",
      "state": {
       "description": "CH_16",
       "disabled": false,
       "layout": "IPY_MODEL_64a54e0560ae40788e259cdbb4e47ae0",
       "style": "IPY_MODEL_0aede43f19734e8aadf71cfc4c61c44d",
       "value": true
      }
     },
     "68f7f2c6bbf44f799493318f6f771a2f": {
      "model_module": "@jupyter-widgets/base",
      "model_module_version": "1.2.0",
      "model_name": "LayoutModel",
      "state": {}
     },
     "692a5f080af84228812f2ee1af0ade01": {
      "model_module": "@jupyter-widgets/controls",
      "model_module_version": "1.5.0",
      "model_name": "DescriptionStyleModel",
      "state": {
       "description_width": ""
      }
     },
     "696dc44ad2294c1c9edc3e0890b6ffa8": {
      "model_module": "@jupyter-widgets/base",
      "model_module_version": "1.2.0",
      "model_name": "LayoutModel",
      "state": {}
     },
     "6a2d40cd4faf409687ed59725d3a0050": {
      "model_module": "@jupyter-widgets/controls",
      "model_module_version": "1.5.0",
      "model_name": "CheckboxModel",
      "state": {
       "description": "CH_9",
       "disabled": false,
       "layout": "IPY_MODEL_6c9029d5ecb14f46afb2c472cd6bcf5a",
       "style": "IPY_MODEL_767bf4d589fb48e19f9629fa7fb2a0a1",
       "value": false
      }
     },
     "6a56458046f444a5b59729b95cbdc4c7": {
      "model_module": "@jupyter-widgets/base",
      "model_module_version": "1.2.0",
      "model_name": "LayoutModel",
      "state": {}
     },
     "6a76febfb3fd4ca683db4c2cab130262": {
      "model_module": "@jupyter-widgets/controls",
      "model_module_version": "1.5.0",
      "model_name": "CheckboxModel",
      "state": {
       "description": "CH_11",
       "disabled": false,
       "layout": "IPY_MODEL_97ffe42ad9a84c0f8d3fed63034479aa",
       "style": "IPY_MODEL_82f4b6a7e962400786cdf822e2255e16",
       "value": false
      }
     },
     "6aad020890f84aa88fdf06518b8b1d19": {
      "model_module": "@jupyter-widgets/base",
      "model_module_version": "1.2.0",
      "model_name": "LayoutModel",
      "state": {}
     },
     "6aba361089d149c6a9ee9d8290f142c8": {
      "model_module": "@jupyter-widgets/controls",
      "model_module_version": "1.5.0",
      "model_name": "DescriptionStyleModel",
      "state": {
       "description_width": ""
      }
     },
     "6adf03448c394d179f5ac2f9619b3008": {
      "model_module": "@jupyter-widgets/base",
      "model_module_version": "1.2.0",
      "model_name": "LayoutModel",
      "state": {}
     },
     "6afeb5a50d96459a809ae3da1ab0830e": {
      "model_module": "@jupyter-widgets/controls",
      "model_module_version": "1.5.0",
      "model_name": "CheckboxModel",
      "state": {
       "description": "Mode_Run_Saved_Scripts",
       "disabled": false,
       "layout": "IPY_MODEL_d06b460ca45f46fdb89eee72fd0171b3",
       "style": "IPY_MODEL_bda23296c071440094683e01b91b387b",
       "value": false
      }
     },
     "6b3150f88415474abe064dc7bda97d36": {
      "model_module": "@jupyter-widgets/controls",
      "model_module_version": "1.5.0",
      "model_name": "DescriptionStyleModel",
      "state": {
       "description_width": ""
      }
     },
     "6b3ff9d3e26343db9a28f85a95eb5bda": {
      "model_module": "@jupyter-widgets/controls",
      "model_module_version": "1.5.0",
      "model_name": "CheckboxModel",
      "state": {
       "description": "CH_4",
       "disabled": false,
       "layout": "IPY_MODEL_f099e972a04441f986d1bf47479692f0",
       "style": "IPY_MODEL_c2641ea062ef4f228c2302c365d50cad",
       "value": false
      }
     },
     "6bf486e0f0ff44898ea77ac2d348108d": {
      "model_module": "@jupyter-widgets/controls",
      "model_module_version": "1.5.0",
      "model_name": "DescriptionStyleModel",
      "state": {
       "description_width": ""
      }
     },
     "6bf51fdfd614441ab412b4a35e85018d": {
      "model_module": "@jupyter-widgets/controls",
      "model_module_version": "1.5.0",
      "model_name": "DescriptionStyleModel",
      "state": {
       "description_width": ""
      }
     },
     "6c2bf41ecf8f4d27aca3126434cabb30": {
      "model_module": "@jupyter-widgets/base",
      "model_module_version": "1.2.0",
      "model_name": "LayoutModel",
      "state": {}
     },
     "6c486cdbb62544448af551363a1c900b": {
      "model_module": "@jupyter-widgets/controls",
      "model_module_version": "1.5.0",
      "model_name": "CheckboxModel",
      "state": {
       "description": "CH_15",
       "disabled": false,
       "layout": "IPY_MODEL_0243184dc59e449c8396087478ff3690",
       "style": "IPY_MODEL_372c8d3fd52a4dac80225b1c1ee5d6f7",
       "value": true
      }
     },
     "6c6716b382884a06b76af6e9e32d4709": {
      "model_module": "@jupyter-widgets/controls",
      "model_module_version": "1.5.0",
      "model_name": "CheckboxModel",
      "state": {
       "description": "CH_10",
       "disabled": false,
       "layout": "IPY_MODEL_d57808af0b724121af8fe4ae57ecc0b6",
       "style": "IPY_MODEL_9ee893e3de7d4a8f9b9b401184f4c032",
       "value": false
      }
     },
     "6c9029d5ecb14f46afb2c472cd6bcf5a": {
      "model_module": "@jupyter-widgets/base",
      "model_module_version": "1.2.0",
      "model_name": "LayoutModel",
      "state": {}
     },
     "6cbe483612af473c8a075ee00ba35991": {
      "model_module": "@jupyter-widgets/controls",
      "model_module_version": "1.5.0",
      "model_name": "CheckboxModel",
      "state": {
       "description": "CH_1",
       "disabled": false,
       "layout": "IPY_MODEL_6eda4ca4a28d405e96c596cbf4ae4248",
       "style": "IPY_MODEL_9290d70289c04acbb10fadd2307fb893",
       "value": false
      }
     },
     "6cefe4914bac44a6a09e5574830c55b2": {
      "model_module": "@jupyter-widgets/controls",
      "model_module_version": "1.5.0",
      "model_name": "CheckboxModel",
      "state": {
       "description": "CH_3",
       "disabled": false,
       "layout": "IPY_MODEL_1c77c26d61d64a94950931cbf2082199",
       "style": "IPY_MODEL_ae535607b0084560baf34a96cdf2e719",
       "value": false
      }
     },
     "6cf9c92e875e4f0ca490e35d8bbee1f6": {
      "model_module": "@jupyter-widgets/controls",
      "model_module_version": "1.5.0",
      "model_name": "CheckboxModel",
      "state": {
       "description": "CH_10",
       "disabled": false,
       "layout": "IPY_MODEL_f4a156d7d9bd4eaebcdab58fdcac60fb",
       "style": "IPY_MODEL_a70bca96b05f441ebe7d44ecb08b94e4",
       "value": true
      }
     },
     "6d3a26a15259410fa65c2830185a4f69": {
      "model_module": "@jupyter-widgets/controls",
      "model_module_version": "1.5.0",
      "model_name": "CheckboxModel",
      "state": {
       "description": "OPEN_CH_all",
       "disabled": false,
       "layout": "IPY_MODEL_057a217d4062471f8750dc10c044f6fd",
       "style": "IPY_MODEL_11e822da0a674e3c93678d8fb74f365e",
       "value": false
      }
     },
     "6d672712b12f425d9e884a917e78d61e": {
      "model_module": "@jupyter-widgets/controls",
      "model_module_version": "1.5.0",
      "model_name": "DescriptionStyleModel",
      "state": {
       "description_width": ""
      }
     },
     "6d6f78f3348448aa9f332868ab2e7066": {
      "model_module": "@jupyter-widgets/controls",
      "model_module_version": "1.5.0",
      "model_name": "CheckboxModel",
      "state": {
       "description": "CH_14",
       "disabled": false,
       "layout": "IPY_MODEL_2f9eaedcfb7146f8930da65738017bd0",
       "style": "IPY_MODEL_9ceff537ddd44137a21b31e54f0a2c4d",
       "value": false
      }
     },
     "6dc7812004f94dcebec881046271e70f": {
      "model_module": "@jupyter-widgets/controls",
      "model_module_version": "1.5.0",
      "model_name": "CheckboxModel",
      "state": {
       "description": "Mode_EXIT",
       "disabled": false,
       "layout": "IPY_MODEL_320327fbaced4f44b208d213cd52f39e",
       "style": "IPY_MODEL_21aae069e4a842219aa2d23c602c985b",
       "value": false
      }
     },
     "6de4a1b2a0054bf0acca0707504a3c23": {
      "model_module": "@jupyter-widgets/base",
      "model_module_version": "1.2.0",
      "model_name": "LayoutModel",
      "state": {}
     },
     "6de75d26a6144753b5afe176eb5cfcdb": {
      "model_module": "@jupyter-widgets/controls",
      "model_module_version": "1.5.0",
      "model_name": "DescriptionStyleModel",
      "state": {
       "description_width": ""
      }
     },
     "6dfc4a02e2af4f148b004c977bf5fcf7": {
      "model_module": "@jupyter-widgets/base",
      "model_module_version": "1.2.0",
      "model_name": "LayoutModel",
      "state": {}
     },
     "6e2484d7948e4bcb90cbb4e5503b3624": {
      "model_module": "@jupyter-widgets/controls",
      "model_module_version": "1.5.0",
      "model_name": "CheckboxModel",
      "state": {
       "description": "CH_1",
       "disabled": false,
       "layout": "IPY_MODEL_15a274b84cc646f29879d563e8ef01bc",
       "style": "IPY_MODEL_6bf51fdfd614441ab412b4a35e85018d",
       "value": true
      }
     },
     "6e3c744ef5da474791fdff9807b277d8": {
      "model_module": "@jupyter-widgets/controls",
      "model_module_version": "1.5.0",
      "model_name": "DescriptionStyleModel",
      "state": {
       "description_width": ""
      }
     },
     "6e632f37d7c343c7bb9023f4be9e242d": {
      "model_module": "@jupyter-widgets/controls",
      "model_module_version": "1.5.0",
      "model_name": "DescriptionStyleModel",
      "state": {
       "description_width": ""
      }
     },
     "6ec8e5b0264d44d5a14f371de9c3d7b6": {
      "model_module": "@jupyter-widgets/controls",
      "model_module_version": "1.5.0",
      "model_name": "CheckboxModel",
      "state": {
       "description": "CH_4",
       "disabled": false,
       "layout": "IPY_MODEL_ab00d2e980e14c2e80dac9beb7b10b0f",
       "style": "IPY_MODEL_8e05f14bb8064388a60c07470adb6e23",
       "value": true
      }
     },
     "6ecbcb2871174b67b6110ff18120982c": {
      "model_module": "@jupyter-widgets/controls",
      "model_module_version": "1.5.0",
      "model_name": "DescriptionStyleModel",
      "state": {
       "description_width": ""
      }
     },
     "6eda4ca4a28d405e96c596cbf4ae4248": {
      "model_module": "@jupyter-widgets/base",
      "model_module_version": "1.2.0",
      "model_name": "LayoutModel",
      "state": {}
     },
     "6ef0cc2094fa4899a56e29daa05d2d3d": {
      "model_module": "@jupyter-widgets/controls",
      "model_module_version": "1.5.0",
      "model_name": "CheckboxModel",
      "state": {
       "description": "CH_14",
       "disabled": false,
       "layout": "IPY_MODEL_fa46dfdef60949a08d429532a7492cad",
       "style": "IPY_MODEL_eace8f942fda45ae8d4ed8fc733553cb",
       "value": true
      }
     },
     "6f0218675b0f41cb8470c4d198d51005": {
      "model_module": "@jupyter-widgets/base",
      "model_module_version": "1.2.0",
      "model_name": "LayoutModel",
      "state": {}
     },
     "6f315d2c6b104cc69aa69f3e9cb820fa": {
      "model_module": "@jupyter-widgets/controls",
      "model_module_version": "1.5.0",
      "model_name": "CheckboxModel",
      "state": {
       "description": "CH_13",
       "disabled": false,
       "layout": "IPY_MODEL_c7c8773733e4423eaea8af1ac7bb4c69",
       "style": "IPY_MODEL_55f45f6ecd0044c6b924ed2593553775",
       "value": true
      }
     },
     "6fb857774c394030935ae603a111a0c9": {
      "model_module": "@jupyter-widgets/controls",
      "model_module_version": "1.5.0",
      "model_name": "CheckboxModel",
      "state": {
       "description": "CH_12",
       "disabled": false,
       "layout": "IPY_MODEL_cf72bfce6fc947159f5420f145576f60",
       "style": "IPY_MODEL_c1eca20111bd483cb6a55325f026b713",
       "value": false
      }
     },
     "700b755c1e0a4de9bff5d799388ea312": {
      "model_module": "@jupyter-widgets/controls",
      "model_module_version": "1.5.0",
      "model_name": "CheckboxModel",
      "state": {
       "description": "CH_14",
       "disabled": false,
       "layout": "IPY_MODEL_ca05e0703b444e2e9e60c8faf509ac3d",
       "style": "IPY_MODEL_b1e2adb63d22409996455dced8d02bd7",
       "value": false
      }
     },
     "70544b2921de4800927a069482e42b20": {
      "model_module": "@jupyter-widgets/controls",
      "model_module_version": "1.5.0",
      "model_name": "DescriptionStyleModel",
      "state": {
       "description_width": ""
      }
     },
     "7068cb4675fe4e1a9295b75758571105": {
      "model_module": "@jupyter-widgets/base",
      "model_module_version": "1.2.0",
      "model_name": "LayoutModel",
      "state": {}
     },
     "70dfcb68e8e44fc2b31d3eaa83dec752": {
      "model_module": "@jupyter-widgets/controls",
      "model_module_version": "1.5.0",
      "model_name": "DescriptionStyleModel",
      "state": {
       "description_width": ""
      }
     },
     "712cafe32a734d84a1f2f91107991cfa": {
      "model_module": "@jupyter-widgets/controls",
      "model_module_version": "1.5.0",
      "model_name": "CheckboxModel",
      "state": {
       "description": "CH_5",
       "disabled": false,
       "layout": "IPY_MODEL_8e3b52fff55441c7a86d5fc247021742",
       "style": "IPY_MODEL_bd6dcf9e1e8348d3917fffee44843cb2",
       "value": false
      }
     },
     "713ab018afb74d6c91b964760adf7c07": {
      "model_module": "@jupyter-widgets/base",
      "model_module_version": "1.2.0",
      "model_name": "LayoutModel",
      "state": {}
     },
     "71600bc54f9340108769de60dc22898b": {
      "model_module": "@jupyter-widgets/controls",
      "model_module_version": "1.5.0",
      "model_name": "DescriptionStyleModel",
      "state": {
       "description_width": ""
      }
     },
     "719435083aca4c42beafb497ed2429ab": {
      "model_module": "@jupyter-widgets/controls",
      "model_module_version": "1.5.0",
      "model_name": "CheckboxModel",
      "state": {
       "description": "CH_15",
       "disabled": false,
       "layout": "IPY_MODEL_fd4a8c76c6634abd869f11894ad5670e",
       "style": "IPY_MODEL_78632520e47f407d8e99408cbe0e61a0",
       "value": false
      }
     },
     "7224d2fdc4934c339f96f8a30d41f79f": {
      "model_module": "@jupyter-widgets/controls",
      "model_module_version": "1.5.0",
      "model_name": "DescriptionStyleModel",
      "state": {
       "description_width": ""
      }
     },
     "72825c34b40b4343b2a04500afbef7d4": {
      "model_module": "@jupyter-widgets/controls",
      "model_module_version": "1.5.0",
      "model_name": "DescriptionStyleModel",
      "state": {
       "description_width": ""
      }
     },
     "72947b61f51f4dceac9c250db7901083": {
      "model_module": "@jupyter-widgets/controls",
      "model_module_version": "1.5.0",
      "model_name": "CheckboxModel",
      "state": {
       "description": "CH_6",
       "disabled": false,
       "layout": "IPY_MODEL_4b1471273f534420b0da0fa246acf813",
       "style": "IPY_MODEL_2c426ab8fadd482290fc0108dc583a00",
       "value": false
      }
     },
     "72aef0ce19d04678bf512a0fb4174c91": {
      "model_module": "@jupyter-widgets/controls",
      "model_module_version": "1.5.0",
      "model_name": "DescriptionStyleModel",
      "state": {
       "description_width": ""
      }
     },
     "733a7d292d674f80b79fb7bad647269e": {
      "model_module": "@jupyter-widgets/controls",
      "model_module_version": "1.5.0",
      "model_name": "DescriptionStyleModel",
      "state": {
       "description_width": ""
      }
     },
     "733bd7ee02fa47aeb8497a1dfcb4e163": {
      "model_module": "@jupyter-widgets/base",
      "model_module_version": "1.2.0",
      "model_name": "LayoutModel",
      "state": {}
     },
     "73a8c3d61ff0490cb95bd79009c9a9c3": {
      "model_module": "@jupyter-widgets/base",
      "model_module_version": "1.2.0",
      "model_name": "LayoutModel",
      "state": {}
     },
     "742daa72f1e74efea90d66806dfe245c": {
      "model_module": "@jupyter-widgets/base",
      "model_module_version": "1.2.0",
      "model_name": "LayoutModel",
      "state": {}
     },
     "75176ce5982140c193d25ae1595858b0": {
      "model_module": "@jupyter-widgets/controls",
      "model_module_version": "1.5.0",
      "model_name": "CheckboxModel",
      "state": {
       "description": "CH_1",
       "disabled": false,
       "layout": "IPY_MODEL_5f78ff53994443e3923a633d28a8a63b",
       "style": "IPY_MODEL_0b0d32478d2c469d9281439aaea975f4",
       "value": true
      }
     },
     "7590f47cdf7f422caf9475fd191e45b1": {
      "model_module": "@jupyter-widgets/controls",
      "model_module_version": "1.5.0",
      "model_name": "DescriptionStyleModel",
      "state": {
       "description_width": ""
      }
     },
     "75beae7b08ee44fb9815b69dfe5d0f16": {
      "model_module": "@jupyter-widgets/controls",
      "model_module_version": "1.5.0",
      "model_name": "CheckboxModel",
      "state": {
       "description": "Script_1",
       "disabled": false,
       "layout": "IPY_MODEL_8d8b68c0b05d4a438bb3e122174ab5c0",
       "style": "IPY_MODEL_71600bc54f9340108769de60dc22898b",
       "value": false
      }
     },
     "7606231c02574b1f936ea881c1b5b040": {
      "model_module": "@jupyter-widgets/controls",
      "model_module_version": "1.5.0",
      "model_name": "CheckboxModel",
      "state": {
       "description": "Script_3",
       "disabled": false,
       "layout": "IPY_MODEL_fe60aec44b4941ea9fb21667d165fda3",
       "style": "IPY_MODEL_3e8a992a3aa345409d45305093191f65",
       "value": false
      }
     },
     "767bf4d589fb48e19f9629fa7fb2a0a1": {
      "model_module": "@jupyter-widgets/controls",
      "model_module_version": "1.5.0",
      "model_name": "DescriptionStyleModel",
      "state": {
       "description_width": ""
      }
     },
     "769a21f729ed40ee809e85e18a825054": {
      "model_module": "@jupyter-widgets/controls",
      "model_module_version": "1.5.0",
      "model_name": "CheckboxModel",
      "state": {
       "description": "OPEN_CH_all",
       "disabled": false,
       "layout": "IPY_MODEL_4c3dc55e89ad46b5ac5aa185c98ff323",
       "style": "IPY_MODEL_12bcd7cf6fc849678f24fcbace639ff9",
       "value": false
      }
     },
     "76cc1ce188214d898f00b045478d32e1": {
      "model_module": "@jupyter-widgets/controls",
      "model_module_version": "1.5.0",
      "model_name": "CheckboxModel",
      "state": {
       "description": "CH_14",
       "disabled": false,
       "layout": "IPY_MODEL_e59d772c56c649cebff3fe6d8407fbab",
       "style": "IPY_MODEL_68834061f28f485d85462407a6125bde",
       "value": false
      }
     },
     "7773c8255a584dfcaf56675745cd8f34": {
      "model_module": "@jupyter-widgets/base",
      "model_module_version": "1.2.0",
      "model_name": "LayoutModel",
      "state": {}
     },
     "777d73bfffef4b69b8ef18263952640e": {
      "model_module": "@jupyter-widgets/controls",
      "model_module_version": "1.5.0",
      "model_name": "DescriptionStyleModel",
      "state": {
       "description_width": ""
      }
     },
     "779106325ae1489baee51b58ff90729a": {
      "model_module": "@jupyter-widgets/controls",
      "model_module_version": "1.5.0",
      "model_name": "DescriptionStyleModel",
      "state": {
       "description_width": ""
      }
     },
     "7798e38217654107924aa55f2cfd7d08": {
      "model_module": "@jupyter-widgets/controls",
      "model_module_version": "1.5.0",
      "model_name": "DescriptionStyleModel",
      "state": {
       "description_width": ""
      }
     },
     "77e5719f25714e0fbbf6862133ff2bfc": {
      "model_module": "@jupyter-widgets/controls",
      "model_module_version": "1.5.0",
      "model_name": "DescriptionStyleModel",
      "state": {
       "description_width": ""
      }
     },
     "78632520e47f407d8e99408cbe0e61a0": {
      "model_module": "@jupyter-widgets/controls",
      "model_module_version": "1.5.0",
      "model_name": "DescriptionStyleModel",
      "state": {
       "description_width": ""
      }
     },
     "7870b09d10104eebb12906662502dc43": {
      "model_module": "@jupyter-widgets/controls",
      "model_module_version": "1.5.0",
      "model_name": "CheckboxModel",
      "state": {
       "description": "CH_11",
       "disabled": false,
       "layout": "IPY_MODEL_be7164a3143d4b1eaff567f6d1cac9ca",
       "style": "IPY_MODEL_3c83a09dab694ba1bc2902b83591dfc3",
       "value": false
      }
     },
     "78772df2db9c4be489079d969f5187b1": {
      "model_module": "@jupyter-widgets/controls",
      "model_module_version": "1.5.0",
      "model_name": "CheckboxModel",
      "state": {
       "description": "Mode_Run_Saved_Scripts",
       "disabled": false,
       "layout": "IPY_MODEL_2b2136c89db342549194b66cefb3bcdb",
       "style": "IPY_MODEL_8b7159e0cfbc46a6b0acc164a599ba9e",
       "value": false
      }
     },
     "78c2eaff67364a3d87eb1626c2a13147": {
      "model_module": "@jupyter-widgets/base",
      "model_module_version": "1.2.0",
      "model_name": "LayoutModel",
      "state": {}
     },
     "78f72426d1264d2ab4630109f6d34b12": {
      "model_module": "@jupyter-widgets/base",
      "model_module_version": "1.2.0",
      "model_name": "LayoutModel",
      "state": {}
     },
     "79846f7c53d346029ff2a26b22cf5643": {
      "model_module": "@jupyter-widgets/controls",
      "model_module_version": "1.5.0",
      "model_name": "DescriptionStyleModel",
      "state": {
       "description_width": ""
      }
     },
     "79a86ea0c19c4dcfa5e0bb5dd405e803": {
      "model_module": "@jupyter-widgets/controls",
      "model_module_version": "1.5.0",
      "model_name": "DescriptionStyleModel",
      "state": {
       "description_width": ""
      }
     },
     "79ceb16e54134f1b98252f29d7bdf26d": {
      "model_module": "@jupyter-widgets/controls",
      "model_module_version": "1.5.0",
      "model_name": "CheckboxModel",
      "state": {
       "description": "CLOSE_CH_all",
       "disabled": false,
       "layout": "IPY_MODEL_7e2598420b944c7d96eeee80ef2caa64",
       "style": "IPY_MODEL_3c46130238044ec7b8a2c6232b6b3722",
       "value": false
      }
     },
     "79ebd3f5132b45e191ad11c445d76684": {
      "model_module": "@jupyter-widgets/base",
      "model_module_version": "1.2.0",
      "model_name": "LayoutModel",
      "state": {}
     },
     "7a0dfa71205c4d19b41c62df9a5c361c": {
      "model_module": "@jupyter-widgets/controls",
      "model_module_version": "1.5.0",
      "model_name": "DescriptionStyleModel",
      "state": {
       "description_width": ""
      }
     },
     "7a29a87e52774f6182e91628ea2a21cc": {
      "model_module": "@jupyter-widgets/controls",
      "model_module_version": "1.5.0",
      "model_name": "DescriptionStyleModel",
      "state": {
       "description_width": ""
      }
     },
     "7aa42ad2b9b54dd7a1974c567b7ad076": {
      "model_module": "@jupyter-widgets/controls",
      "model_module_version": "1.5.0",
      "model_name": "DescriptionStyleModel",
      "state": {
       "description_width": ""
      }
     },
     "7b18c3a562c640deae2d2c03a19e54b4": {
      "model_module": "@jupyter-widgets/base",
      "model_module_version": "1.2.0",
      "model_name": "LayoutModel",
      "state": {}
     },
     "7b1c7f8d194f41478718339222ecd96c": {
      "model_module": "@jupyter-widgets/base",
      "model_module_version": "1.2.0",
      "model_name": "LayoutModel",
      "state": {}
     },
     "7b2305a4743f47388864a73d40272650": {
      "model_module": "@jupyter-widgets/base",
      "model_module_version": "1.2.0",
      "model_name": "LayoutModel",
      "state": {}
     },
     "7b602100ce0944a19a71ba22aaba553d": {
      "model_module": "@jupyter-widgets/base",
      "model_module_version": "1.2.0",
      "model_name": "LayoutModel",
      "state": {}
     },
     "7b7f190f87cd4b798f1335364cc9c4a7": {
      "model_module": "@jupyter-widgets/controls",
      "model_module_version": "1.5.0",
      "model_name": "DescriptionStyleModel",
      "state": {
       "description_width": ""
      }
     },
     "7b90c167f6a8443c8b37bbf272f4cbfe": {
      "model_module": "@jupyter-widgets/controls",
      "model_module_version": "1.5.0",
      "model_name": "CheckboxModel",
      "state": {
       "description": "CLOSE_CH_all",
       "disabled": false,
       "layout": "IPY_MODEL_dbc476ffb63a4ad9b5b0032e752e4505",
       "style": "IPY_MODEL_291bc77a3a264713918e86b99e12f3ad",
       "value": false
      }
     },
     "7baaa8cb1a384fa7806c3ddd2c7b3c6f": {
      "model_module": "@jupyter-widgets/base",
      "model_module_version": "1.2.0",
      "model_name": "LayoutModel",
      "state": {}
     },
     "7bfa1b57e7644a8b8273e9f829ea7dce": {
      "model_module": "@jupyter-widgets/base",
      "model_module_version": "1.2.0",
      "model_name": "LayoutModel",
      "state": {}
     },
     "7cafdd84ddc74818bd2be1064aa5f5ba": {
      "model_module": "@jupyter-widgets/controls",
      "model_module_version": "1.5.0",
      "model_name": "CheckboxModel",
      "state": {
       "description": "CH_16",
       "disabled": false,
       "layout": "IPY_MODEL_fd6707e4e915480b8b7dff318b980af6",
       "style": "IPY_MODEL_e020172cc2eb44078586b56d9efc4b82",
       "value": false
      }
     },
     "7ceb503ea4af4c4f8d805f6bd8eae39a": {
      "model_module": "@jupyter-widgets/base",
      "model_module_version": "1.2.0",
      "model_name": "LayoutModel",
      "state": {}
     },
     "7d641897968e42a3a824a939a2d00037": {
      "model_module": "@jupyter-widgets/base",
      "model_module_version": "1.2.0",
      "model_name": "LayoutModel",
      "state": {}
     },
     "7dbd47f413ab4a0da16e707086b400da": {
      "model_module": "@jupyter-widgets/controls",
      "model_module_version": "1.5.0",
      "model_name": "DescriptionStyleModel",
      "state": {
       "description_width": ""
      }
     },
     "7def4543949748ec8ab2f49fdb9028a0": {
      "model_module": "@jupyter-widgets/controls",
      "model_module_version": "1.5.0",
      "model_name": "CheckboxModel",
      "state": {
       "description": "CH_8",
       "disabled": false,
       "layout": "IPY_MODEL_2127f7eea7c44b588f04a2078a3a5c6b",
       "style": "IPY_MODEL_37082677909f452c93cfd1212b8aa484",
       "value": false
      }
     },
     "7e2598420b944c7d96eeee80ef2caa64": {
      "model_module": "@jupyter-widgets/base",
      "model_module_version": "1.2.0",
      "model_name": "LayoutModel",
      "state": {}
     },
     "7e39de37908d45ad8328ff4cc28aad18": {
      "model_module": "@jupyter-widgets/controls",
      "model_module_version": "1.5.0",
      "model_name": "CheckboxModel",
      "state": {
       "description": "OPEN_CH_all",
       "disabled": false,
       "layout": "IPY_MODEL_e567f22aa26948e3b29829f130a9347b",
       "style": "IPY_MODEL_ca4f55de2fe0469695bd66096c88ac32",
       "value": false
      }
     },
     "7e66e25723e64f008e74522b0244de3b": {
      "model_module": "@jupyter-widgets/base",
      "model_module_version": "1.2.0",
      "model_name": "LayoutModel",
      "state": {}
     },
     "7e6a60b4fdfa4493a13fa3ae3a8af969": {
      "model_module": "@jupyter-widgets/controls",
      "model_module_version": "1.5.0",
      "model_name": "DescriptionStyleModel",
      "state": {
       "description_width": ""
      }
     },
     "7e80d247e88048c7a30f7f5e69bf6fbb": {
      "model_module": "@jupyter-widgets/controls",
      "model_module_version": "1.5.0",
      "model_name": "DescriptionStyleModel",
      "state": {
       "description_width": ""
      }
     },
     "7e94fbae63f64bf78598c59febedf027": {
      "model_module": "@jupyter-widgets/base",
      "model_module_version": "1.2.0",
      "model_name": "LayoutModel",
      "state": {}
     },
     "7e96fab3938d4242980f6058c7f82b67": {
      "model_module": "@jupyter-widgets/controls",
      "model_module_version": "1.5.0",
      "model_name": "CheckboxModel",
      "state": {
       "description": "Script_3",
       "disabled": false,
       "layout": "IPY_MODEL_bed0e7c7b007492e880729901694976a",
       "style": "IPY_MODEL_8097fe65785f47f2a906245733fe421d",
       "value": false
      }
     },
     "7efe6a53b02b4f29928be330e81be30b": {
      "model_module": "@jupyter-widgets/controls",
      "model_module_version": "1.5.0",
      "model_name": "CheckboxModel",
      "state": {
       "description": "CH_13",
       "disabled": false,
       "layout": "IPY_MODEL_40aae98bd08b43bea01a83259d122dcb",
       "style": "IPY_MODEL_4054b102b1604a4abf783e4d336beba2",
       "value": false
      }
     },
     "7f40466af2c44238992351b5d94ee768": {
      "model_module": "@jupyter-widgets/base",
      "model_module_version": "1.2.0",
      "model_name": "LayoutModel",
      "state": {}
     },
     "7f687da01379414ea760bac52ab7fa97": {
      "model_module": "@jupyter-widgets/controls",
      "model_module_version": "1.5.0",
      "model_name": "CheckboxModel",
      "state": {
       "description": "Script_2",
       "disabled": false,
       "layout": "IPY_MODEL_3224c9dfb3e042399cfe1dea1d7113b7",
       "style": "IPY_MODEL_0c9671341dab42d9870c142680aed63c",
       "value": false
      }
     },
     "7f835a0cfe0245f8a16d827afb43ff48": {
      "model_module": "@jupyter-widgets/controls",
      "model_module_version": "1.5.0",
      "model_name": "CheckboxModel",
      "state": {
       "description": "CH_6",
       "disabled": false,
       "layout": "IPY_MODEL_e5d1ff3d290b4943ad6ed2a87334b871",
       "style": "IPY_MODEL_f6372198be494ee6a786ea9cf46d365d",
       "value": false
      }
     },
     "7fc9db4d423f49ef8178a82c42f7626a": {
      "model_module": "@jupyter-widgets/controls",
      "model_module_version": "1.5.0",
      "model_name": "CheckboxModel",
      "state": {
       "description": "CH_7",
       "disabled": false,
       "layout": "IPY_MODEL_33fd796eb9494cdebfad1a3fdf72767c",
       "style": "IPY_MODEL_5762476b8c5a440a83f3a3168515c454",
       "value": false
      }
     },
     "7fe17076e959479fb4aefb3e5a2ff83c": {
      "model_module": "@jupyter-widgets/base",
      "model_module_version": "1.2.0",
      "model_name": "LayoutModel",
      "state": {}
     },
     "800d0fad792349faab840e3f9b02f4a6": {
      "model_module": "@jupyter-widgets/controls",
      "model_module_version": "1.5.0",
      "model_name": "CheckboxModel",
      "state": {
       "description": "CH_16",
       "disabled": false,
       "layout": "IPY_MODEL_223af2de377a48bb80b56c1c35af871d",
       "style": "IPY_MODEL_d2b5ba138a6c4c6e8cc08839d7b1707b",
       "value": true
      }
     },
     "801f346ecc844f588a06759a62b4d2e7": {
      "model_module": "@jupyter-widgets/base",
      "model_module_version": "1.2.0",
      "model_name": "LayoutModel",
      "state": {}
     },
     "8097fe65785f47f2a906245733fe421d": {
      "model_module": "@jupyter-widgets/controls",
      "model_module_version": "1.5.0",
      "model_name": "DescriptionStyleModel",
      "state": {
       "description_width": ""
      }
     },
     "8140301e78ec43de89737216ba2d084d": {
      "model_module": "@jupyter-widgets/base",
      "model_module_version": "1.2.0",
      "model_name": "LayoutModel",
      "state": {}
     },
     "814a02a8876c4018bd6f913906ea5e59": {
      "model_module": "@jupyter-widgets/controls",
      "model_module_version": "1.5.0",
      "model_name": "DescriptionStyleModel",
      "state": {
       "description_width": ""
      }
     },
     "8211764a0bf14e0aaadbda9fd5d353ce": {
      "model_module": "@jupyter-widgets/controls",
      "model_module_version": "1.5.0",
      "model_name": "DescriptionStyleModel",
      "state": {
       "description_width": ""
      }
     },
     "821ffa56429740248f5a54ae8ceb2c95": {
      "model_module": "@jupyter-widgets/controls",
      "model_module_version": "1.5.0",
      "model_name": "CheckboxModel",
      "state": {
       "description": "OPEN_CH_all",
       "disabled": false,
       "layout": "IPY_MODEL_d268f79de49c4f1b82b3a65c9900fd14",
       "style": "IPY_MODEL_da0b9ed9dcf6490a91cbc481fc883626",
       "value": false
      }
     },
     "82f4b6a7e962400786cdf822e2255e16": {
      "model_module": "@jupyter-widgets/controls",
      "model_module_version": "1.5.0",
      "model_name": "DescriptionStyleModel",
      "state": {
       "description_width": ""
      }
     },
     "8357dcc66a0b4084ab84fdd6c78c3147": {
      "model_module": "@jupyter-widgets/controls",
      "model_module_version": "1.5.0",
      "model_name": "DescriptionStyleModel",
      "state": {
       "description_width": ""
      }
     },
     "83fb8cf55f61413ba67b56ee06fde91c": {
      "model_module": "@jupyter-widgets/controls",
      "model_module_version": "1.5.0",
      "model_name": "CheckboxModel",
      "state": {
       "description": "Mode_EXIT",
       "disabled": false,
       "layout": "IPY_MODEL_fd444ec66d79469aaaf9113709753776",
       "style": "IPY_MODEL_e161b8ab35d146c2b4604f2262e30014",
       "value": false
      }
     },
     "8411fd63d07141eea635e94afae8f965": {
      "model_module": "@jupyter-widgets/controls",
      "model_module_version": "1.5.0",
      "model_name": "CheckboxModel",
      "state": {
       "description": "CH_10",
       "disabled": false,
       "layout": "IPY_MODEL_f5421513828a410ca3ff29b1f258e697",
       "style": "IPY_MODEL_c11d264045454a4aa5401f9d32309a4a",
       "value": true
      }
     },
     "8420942877bf4161b6ddc031d8398ba2": {
      "model_module": "@jupyter-widgets/controls",
      "model_module_version": "1.5.0",
      "model_name": "DescriptionStyleModel",
      "state": {
       "description_width": ""
      }
     },
     "85c7c1f4ad554ba5a16c2760535824db": {
      "model_module": "@jupyter-widgets/controls",
      "model_module_version": "1.5.0",
      "model_name": "CheckboxModel",
      "state": {
       "description": "CH_2",
       "disabled": false,
       "layout": "IPY_MODEL_a8f1ca6ec2854b738c837254471bac63",
       "style": "IPY_MODEL_777d73bfffef4b69b8ef18263952640e",
       "value": false
      }
     },
     "867494bd4f004ea08f44689eb8c83e93": {
      "model_module": "@jupyter-widgets/controls",
      "model_module_version": "1.5.0",
      "model_name": "DescriptionStyleModel",
      "state": {
       "description_width": ""
      }
     },
     "86b72e0eb8fa40d78205bf86eca1233a": {
      "model_module": "@jupyter-widgets/controls",
      "model_module_version": "1.5.0",
      "model_name": "CheckboxModel",
      "state": {
       "description": "CH_5",
       "disabled": false,
       "layout": "IPY_MODEL_e44943a5733e4d2084cf46432554e461",
       "style": "IPY_MODEL_01288b0362d74de18998763c81e21161",
       "value": false
      }
     },
     "86c9f302b4f64116b22de71a82ac4fcc": {
      "model_module": "@jupyter-widgets/base",
      "model_module_version": "1.2.0",
      "model_name": "LayoutModel",
      "state": {}
     },
     "86d5f1a0a06f494ba457628e77f51429": {
      "model_module": "@jupyter-widgets/controls",
      "model_module_version": "1.5.0",
      "model_name": "CheckboxModel",
      "state": {
       "description": "CH_15",
       "disabled": false,
       "layout": "IPY_MODEL_05d942b01bdd4636bec67062097cacce",
       "style": "IPY_MODEL_be10a42cd14e4f2fa9bb7bcd9b50b531",
       "value": false
      }
     },
     "86f78c2f8a4548138275198e871132b4": {
      "model_module": "@jupyter-widgets/controls",
      "model_module_version": "1.5.0",
      "model_name": "CheckboxModel",
      "state": {
       "description": "CH_8",
       "disabled": false,
       "layout": "IPY_MODEL_bdd78b4ac3c54dff924a106cd8414746",
       "style": "IPY_MODEL_1b3f646e107e4b7c80579ed4c3fdcdc4",
       "value": false
      }
     },
     "8714616fd2f44d34a2624111c943f8f9": {
      "model_module": "@jupyter-widgets/base",
      "model_module_version": "1.2.0",
      "model_name": "LayoutModel",
      "state": {}
     },
     "88432a4648fc4ca497828c3fc917a44d": {
      "model_module": "@jupyter-widgets/controls",
      "model_module_version": "1.5.0",
      "model_name": "CheckboxModel",
      "state": {
       "description": "Script_1",
       "disabled": false,
       "layout": "IPY_MODEL_7fe17076e959479fb4aefb3e5a2ff83c",
       "style": "IPY_MODEL_733a7d292d674f80b79fb7bad647269e",
       "value": false
      }
     },
     "88b6990fa4544541bcebbf04ac8aafd6": {
      "model_module": "@jupyter-widgets/controls",
      "model_module_version": "1.5.0",
      "model_name": "DescriptionStyleModel",
      "state": {
       "description_width": ""
      }
     },
     "88d84026257a45959146ca1150fe1cc6": {
      "model_module": "@jupyter-widgets/controls",
      "model_module_version": "1.5.0",
      "model_name": "CheckboxModel",
      "state": {
       "description": "CH_2",
       "disabled": false,
       "layout": "IPY_MODEL_5861329e0cb149a18269e8a7e1b97f3b",
       "style": "IPY_MODEL_6343e8bbc6a04494acd0b31fda205f23",
       "value": true
      }
     },
     "8919869f4513432da1ed979e82e0fac7": {
      "model_module": "@jupyter-widgets/base",
      "model_module_version": "1.2.0",
      "model_name": "LayoutModel",
      "state": {}
     },
     "892ea5ee5577446aaa96da7993365947": {
      "model_module": "@jupyter-widgets/controls",
      "model_module_version": "1.5.0",
      "model_name": "DescriptionStyleModel",
      "state": {
       "description_width": ""
      }
     },
     "899439bad0e94011a07c9ec00e2ac66b": {
      "model_module": "@jupyter-widgets/base",
      "model_module_version": "1.2.0",
      "model_name": "LayoutModel",
      "state": {}
     },
     "8a200d1b15174d7eb2ec7c71fd186ecd": {
      "model_module": "@jupyter-widgets/controls",
      "model_module_version": "1.5.0",
      "model_name": "CheckboxModel",
      "state": {
       "description": "CH_10",
       "disabled": false,
       "layout": "IPY_MODEL_3d87a3c990c245c4983c77468ad778ff",
       "style": "IPY_MODEL_419de5838fb74e79a6f48e6d989dfab6",
       "value": false
      }
     },
     "8a28af9f46b140218fbc077d9251114f": {
      "model_module": "@jupyter-widgets/base",
      "model_module_version": "1.2.0",
      "model_name": "LayoutModel",
      "state": {}
     },
     "8a5e136f8e54474d981c146670f1cd9a": {
      "model_module": "@jupyter-widgets/controls",
      "model_module_version": "1.5.0",
      "model_name": "DescriptionStyleModel",
      "state": {
       "description_width": ""
      }
     },
     "8a6a2b812a1f45fea4dd71f7fcd3f4fb": {
      "model_module": "@jupyter-widgets/base",
      "model_module_version": "1.2.0",
      "model_name": "LayoutModel",
      "state": {}
     },
     "8a8317cd9216498d9618669a350edca5": {
      "model_module": "@jupyter-widgets/controls",
      "model_module_version": "1.5.0",
      "model_name": "DescriptionStyleModel",
      "state": {
       "description_width": ""
      }
     },
     "8ab38944c27b4914b6817a5b33d24ff2": {
      "model_module": "@jupyter-widgets/base",
      "model_module_version": "1.2.0",
      "model_name": "LayoutModel",
      "state": {}
     },
     "8ac44fdcb3364a19ba3dbf7607c72dab": {
      "model_module": "@jupyter-widgets/base",
      "model_module_version": "1.2.0",
      "model_name": "LayoutModel",
      "state": {}
     },
     "8adddc400ca947dba070375c0c91d6f0": {
      "model_module": "@jupyter-widgets/base",
      "model_module_version": "1.2.0",
      "model_name": "LayoutModel",
      "state": {}
     },
     "8b705b868b7049aeaaa82a78de5f62de": {
      "model_module": "@jupyter-widgets/base",
      "model_module_version": "1.2.0",
      "model_name": "LayoutModel",
      "state": {}
     },
     "8b7159e0cfbc46a6b0acc164a599ba9e": {
      "model_module": "@jupyter-widgets/controls",
      "model_module_version": "1.5.0",
      "model_name": "DescriptionStyleModel",
      "state": {
       "description_width": ""
      }
     },
     "8ba31b71d7b2477496279e2e4f32c8a7": {
      "model_module": "@jupyter-widgets/controls",
      "model_module_version": "1.5.0",
      "model_name": "CheckboxModel",
      "state": {
       "description": "Script_1",
       "disabled": false,
       "layout": "IPY_MODEL_7773c8255a584dfcaf56675745cd8f34",
       "style": "IPY_MODEL_9fbb05f80cc54a9ebacfd648d25a2020",
       "value": false
      }
     },
     "8c248489f84b4a8484f49f6b2e207048": {
      "model_module": "@jupyter-widgets/controls",
      "model_module_version": "1.5.0",
      "model_name": "DescriptionStyleModel",
      "state": {
       "description_width": ""
      }
     },
     "8c4c2d0f4f1d4853a228054ac541255a": {
      "model_module": "@jupyter-widgets/base",
      "model_module_version": "1.2.0",
      "model_name": "LayoutModel",
      "state": {}
     },
     "8ca7fcb9efa84ee3b5c59fffcd2ff41c": {
      "model_module": "@jupyter-widgets/base",
      "model_module_version": "1.2.0",
      "model_name": "LayoutModel",
      "state": {}
     },
     "8caafbdf404b4d0daa4fa276aa29f223": {
      "model_module": "@jupyter-widgets/controls",
      "model_module_version": "1.5.0",
      "model_name": "DescriptionStyleModel",
      "state": {
       "description_width": ""
      }
     },
     "8cb79764060c4576b0234408eb1ff0f1": {
      "model_module": "@jupyter-widgets/controls",
      "model_module_version": "1.5.0",
      "model_name": "CheckboxModel",
      "state": {
       "description": "CH_14",
       "disabled": false,
       "layout": "IPY_MODEL_6dfc4a02e2af4f148b004c977bf5fcf7",
       "style": "IPY_MODEL_8f1b5fae7ae245d3be04e274681e9b94",
       "value": true
      }
     },
     "8d21052074874998a49d1d99cef4ebec": {
      "model_module": "@jupyter-widgets/controls",
      "model_module_version": "1.5.0",
      "model_name": "DescriptionStyleModel",
      "state": {
       "description_width": ""
      }
     },
     "8d2da89a1f194b7bb78ea70185899716": {
      "model_module": "@jupyter-widgets/controls",
      "model_module_version": "1.5.0",
      "model_name": "DescriptionStyleModel",
      "state": {
       "description_width": ""
      }
     },
     "8d3a91c72dbf45f4bb50c133c8531ffd": {
      "model_module": "@jupyter-widgets/controls",
      "model_module_version": "1.5.0",
      "model_name": "DescriptionStyleModel",
      "state": {
       "description_width": ""
      }
     },
     "8d63028cbb8e4d638a0c125027469d3b": {
      "model_module": "@jupyter-widgets/base",
      "model_module_version": "1.2.0",
      "model_name": "LayoutModel",
      "state": {}
     },
     "8d712001206745c2bd4921ab0df06dd5": {
      "model_module": "@jupyter-widgets/controls",
      "model_module_version": "1.5.0",
      "model_name": "CheckboxModel",
      "state": {
       "description": "CLOSE_CH_all",
       "disabled": false,
       "layout": "IPY_MODEL_90fe9041d8824eebbf2a5905a1649ebb",
       "style": "IPY_MODEL_ff1f5757472444d2ac65da290beb4d5f",
       "value": false
      }
     },
     "8d8b68c0b05d4a438bb3e122174ab5c0": {
      "model_module": "@jupyter-widgets/base",
      "model_module_version": "1.2.0",
      "model_name": "LayoutModel",
      "state": {}
     },
     "8e05f14bb8064388a60c07470adb6e23": {
      "model_module": "@jupyter-widgets/controls",
      "model_module_version": "1.5.0",
      "model_name": "DescriptionStyleModel",
      "state": {
       "description_width": ""
      }
     },
     "8e29ef8f258c4c489509b8995997b1b7": {
      "model_module": "@jupyter-widgets/controls",
      "model_module_version": "1.5.0",
      "model_name": "DescriptionStyleModel",
      "state": {
       "description_width": ""
      }
     },
     "8e33b129c4bb456db8a3cab0589b7c18": {
      "model_module": "@jupyter-widgets/controls",
      "model_module_version": "1.5.0",
      "model_name": "CheckboxModel",
      "state": {
       "description": "Mode_Run_Saved_Scripts",
       "disabled": false,
       "layout": "IPY_MODEL_7068cb4675fe4e1a9295b75758571105",
       "style": "IPY_MODEL_a3327f31028d424a8e2a1a7b9df24a7f",
       "value": false
      }
     },
     "8e3b52fff55441c7a86d5fc247021742": {
      "model_module": "@jupyter-widgets/base",
      "model_module_version": "1.2.0",
      "model_name": "LayoutModel",
      "state": {}
     },
     "8e601c36061145f88a007a6472470079": {
      "model_module": "@jupyter-widgets/controls",
      "model_module_version": "1.5.0",
      "model_name": "CheckboxModel",
      "state": {
       "description": "CLOSE_CH_all",
       "disabled": false,
       "layout": "IPY_MODEL_16d47a6f33c7433e8370fbde94bb6603",
       "style": "IPY_MODEL_3c0900b57c3b45f1aa9f4310629c67ea",
       "value": false
      }
     },
     "8edbefbb44e243fab6eaed83ac9dba2d": {
      "model_module": "@jupyter-widgets/base",
      "model_module_version": "1.2.0",
      "model_name": "LayoutModel",
      "state": {}
     },
     "8ee6e351a9754e2bb764862a071b9e93": {
      "model_module": "@jupyter-widgets/controls",
      "model_module_version": "1.5.0",
      "model_name": "DescriptionStyleModel",
      "state": {
       "description_width": ""
      }
     },
     "8f1b5fae7ae245d3be04e274681e9b94": {
      "model_module": "@jupyter-widgets/controls",
      "model_module_version": "1.5.0",
      "model_name": "DescriptionStyleModel",
      "state": {
       "description_width": ""
      }
     },
     "8fcb58452bbc45388e0c2bb55e3c2a8c": {
      "model_module": "@jupyter-widgets/controls",
      "model_module_version": "1.5.0",
      "model_name": "CheckboxModel",
      "state": {
       "description": "CH_2",
       "disabled": false,
       "layout": "IPY_MODEL_cc055b25dd734275b8bc3f0759a5824c",
       "style": "IPY_MODEL_012639bcfc3141908f579451d1d968e2",
       "value": false
      }
     },
     "902c0d21b1da4f5bae36051087d5d0d5": {
      "model_module": "@jupyter-widgets/controls",
      "model_module_version": "1.5.0",
      "model_name": "DescriptionStyleModel",
      "state": {
       "description_width": ""
      }
     },
     "9050e88a7ac64972bdff1c8829f57867": {
      "model_module": "@jupyter-widgets/base",
      "model_module_version": "1.2.0",
      "model_name": "LayoutModel",
      "state": {}
     },
     "90637392745343a087bec5eebb5deacc": {
      "model_module": "@jupyter-widgets/controls",
      "model_module_version": "1.5.0",
      "model_name": "DescriptionStyleModel",
      "state": {
       "description_width": ""
      }
     },
     "906c61f1316347d799471c914779f7aa": {
      "model_module": "@jupyter-widgets/controls",
      "model_module_version": "1.5.0",
      "model_name": "DescriptionStyleModel",
      "state": {
       "description_width": ""
      }
     },
     "907220118341462792593ef71fb4220a": {
      "model_module": "@jupyter-widgets/controls",
      "model_module_version": "1.5.0",
      "model_name": "DescriptionStyleModel",
      "state": {
       "description_width": ""
      }
     },
     "908ab2c037f5408dbee11251e359d938": {
      "model_module": "@jupyter-widgets/base",
      "model_module_version": "1.2.0",
      "model_name": "LayoutModel",
      "state": {}
     },
     "9097383c5c9c43d8b677af460a2711c5": {
      "model_module": "@jupyter-widgets/controls",
      "model_module_version": "1.5.0",
      "model_name": "CheckboxModel",
      "state": {
       "description": "CH_5",
       "disabled": false,
       "layout": "IPY_MODEL_5420a281eb3546ef8fbee66e8ef49c88",
       "style": "IPY_MODEL_7dbd47f413ab4a0da16e707086b400da",
       "value": false
      }
     },
     "90aa6e306d3844cc8c546bae3a35f1c9": {
      "model_module": "@jupyter-widgets/base",
      "model_module_version": "1.2.0",
      "model_name": "LayoutModel",
      "state": {}
     },
     "90d7eefcf8284773a28f92ef82f57867": {
      "model_module": "@jupyter-widgets/controls",
      "model_module_version": "1.5.0",
      "model_name": "CheckboxModel",
      "state": {
       "description": "Mode_Manual_Control",
       "disabled": false,
       "layout": "IPY_MODEL_d085b3841b2947c093c3e912d2055d12",
       "style": "IPY_MODEL_57eb10f085b24647977917d31e9c7585",
       "value": true
      }
     },
     "90f724e3d4484dcb90140ab2c01e5dc5": {
      "model_module": "@jupyter-widgets/base",
      "model_module_version": "1.2.0",
      "model_name": "LayoutModel",
      "state": {}
     },
     "90fe9041d8824eebbf2a5905a1649ebb": {
      "model_module": "@jupyter-widgets/base",
      "model_module_version": "1.2.0",
      "model_name": "LayoutModel",
      "state": {}
     },
     "9103b9c082404adf8a7a87d058136254": {
      "model_module": "@jupyter-widgets/controls",
      "model_module_version": "1.5.0",
      "model_name": "DescriptionStyleModel",
      "state": {
       "description_width": ""
      }
     },
     "912b529ecc9e448fb283f683f015a246": {
      "model_module": "@jupyter-widgets/controls",
      "model_module_version": "1.5.0",
      "model_name": "CheckboxModel",
      "state": {
       "description": "CH_7",
       "disabled": false,
       "layout": "IPY_MODEL_1bef0149a65d46ccb8627b5a95336de2",
       "style": "IPY_MODEL_b87a6f51e735428bba3bdffab4b07585",
       "value": false
      }
     },
     "912b75e6997445de8d19343656fca78d": {
      "model_module": "@jupyter-widgets/base",
      "model_module_version": "1.2.0",
      "model_name": "LayoutModel",
      "state": {}
     },
     "9133490d0e1143b1810fefc9bbb5ba2e": {
      "model_module": "@jupyter-widgets/controls",
      "model_module_version": "1.5.0",
      "model_name": "DescriptionStyleModel",
      "state": {
       "description_width": ""
      }
     },
     "9162be0af6434aac9696fb9f871f8813": {
      "model_module": "@jupyter-widgets/base",
      "model_module_version": "1.2.0",
      "model_name": "LayoutModel",
      "state": {}
     },
     "91cea1dbc0a34d7b85d8348bf830121f": {
      "model_module": "@jupyter-widgets/controls",
      "model_module_version": "1.5.0",
      "model_name": "DescriptionStyleModel",
      "state": {
       "description_width": ""
      }
     },
     "922f997fcc014a04913fd5f85f9c2e8d": {
      "model_module": "@jupyter-widgets/controls",
      "model_module_version": "1.5.0",
      "model_name": "CheckboxModel",
      "state": {
       "description": "CLOSE_CH_all",
       "disabled": false,
       "layout": "IPY_MODEL_e57274cc682d4b36956d95a971ba8f70",
       "style": "IPY_MODEL_a84399416a604da58151fbee8a71d6da",
       "value": false
      }
     },
     "9290d70289c04acbb10fadd2307fb893": {
      "model_module": "@jupyter-widgets/controls",
      "model_module_version": "1.5.0",
      "model_name": "DescriptionStyleModel",
      "state": {
       "description_width": ""
      }
     },
     "9392698b023b4f01872336a1e662a4bc": {
      "model_module": "@jupyter-widgets/controls",
      "model_module_version": "1.5.0",
      "model_name": "DescriptionStyleModel",
      "state": {
       "description_width": ""
      }
     },
     "93a312ba7bf14e65b655c31cc1a9eaf1": {
      "model_module": "@jupyter-widgets/controls",
      "model_module_version": "1.5.0",
      "model_name": "CheckboxModel",
      "state": {
       "description": "Mode_Manual_Control",
       "disabled": false,
       "layout": "IPY_MODEL_9cb80a8bc5204a83b2d5d55d82afbe52",
       "style": "IPY_MODEL_e519bd2d6b5f4d0e863ed33327615dcd",
       "value": false
      }
     },
     "93abf60bc3b5450f9af89aa7366dbb4b": {
      "model_module": "@jupyter-widgets/controls",
      "model_module_version": "1.5.0",
      "model_name": "CheckboxModel",
      "state": {
       "description": "CH_4",
       "disabled": false,
       "layout": "IPY_MODEL_a21b1e8eba424ff9a1dc33a0999d2447",
       "style": "IPY_MODEL_4af04e43b060486289f654eb4c20d5da",
       "value": false
      }
     },
     "93c7992a9d944fbcb63864faa27b0857": {
      "model_module": "@jupyter-widgets/controls",
      "model_module_version": "1.5.0",
      "model_name": "CheckboxModel",
      "state": {
       "description": "Script_1",
       "disabled": false,
       "layout": "IPY_MODEL_21cf1318b7b84ad4bb3cc33b0c278a07",
       "style": "IPY_MODEL_aef51ea2494b4f0c8e253b4d5b8a63fe",
       "value": false
      }
     },
     "93d38efdda534baab65eade89924afa8": {
      "model_module": "@jupyter-widgets/base",
      "model_module_version": "1.2.0",
      "model_name": "LayoutModel",
      "state": {}
     },
     "93ee6a5fd76d4ad2afe212693d231e37": {
      "model_module": "@jupyter-widgets/base",
      "model_module_version": "1.2.0",
      "model_name": "LayoutModel",
      "state": {}
     },
     "93f4a1e0ea9243aab6ed18f5c2d01a0d": {
      "model_module": "@jupyter-widgets/controls",
      "model_module_version": "1.5.0",
      "model_name": "DescriptionStyleModel",
      "state": {
       "description_width": ""
      }
     },
     "9429e632347d4226836c0059dfb51c3a": {
      "model_module": "@jupyter-widgets/base",
      "model_module_version": "1.2.0",
      "model_name": "LayoutModel",
      "state": {}
     },
     "9438c45bb31841e4b2e2f7f0962d463f": {
      "model_module": "@jupyter-widgets/controls",
      "model_module_version": "1.5.0",
      "model_name": "CheckboxModel",
      "state": {
       "description": "Mode_Manual_Control",
       "disabled": false,
       "layout": "IPY_MODEL_7ceb503ea4af4c4f8d805f6bd8eae39a",
       "style": "IPY_MODEL_d13832b22fa842af96c286caa4a8cbc8",
       "value": true
      }
     },
     "946485a7a17e40fda2ed929575e4429f": {
      "model_module": "@jupyter-widgets/base",
      "model_module_version": "1.2.0",
      "model_name": "LayoutModel",
      "state": {}
     },
     "94bdb6943d9c4cd29834e855a539a7cc": {
      "model_module": "@jupyter-widgets/controls",
      "model_module_version": "1.5.0",
      "model_name": "CheckboxModel",
      "state": {
       "description": "CH_6",
       "disabled": false,
       "layout": "IPY_MODEL_b87bccb672c44c30bf3777c5000af22b",
       "style": "IPY_MODEL_27a787ba7b7c4225acf7ad2f00228e0e",
       "value": false
      }
     },
     "94be548e217c43899e18239f976d315b": {
      "model_module": "@jupyter-widgets/controls",
      "model_module_version": "1.5.0",
      "model_name": "DescriptionStyleModel",
      "state": {
       "description_width": ""
      }
     },
     "94fe90d08f4a45f5a16ab813768c8d21": {
      "model_module": "@jupyter-widgets/controls",
      "model_module_version": "1.5.0",
      "model_name": "DescriptionStyleModel",
      "state": {
       "description_width": ""
      }
     },
     "9559066323a54961aadc4e56013e44b3": {
      "model_module": "@jupyter-widgets/base",
      "model_module_version": "1.2.0",
      "model_name": "LayoutModel",
      "state": {}
     },
     "9571a996653f4f85b8d4b7da5c74455d": {
      "model_module": "@jupyter-widgets/base",
      "model_module_version": "1.2.0",
      "model_name": "LayoutModel",
      "state": {}
     },
     "958b720883ef4624a4170e2435e274e6": {
      "model_module": "@jupyter-widgets/controls",
      "model_module_version": "1.5.0",
      "model_name": "DescriptionStyleModel",
      "state": {
       "description_width": ""
      }
     },
     "95adf60e41d54e278d1a4aded6526301": {
      "model_module": "@jupyter-widgets/controls",
      "model_module_version": "1.5.0",
      "model_name": "CheckboxModel",
      "state": {
       "description": "CH_9",
       "disabled": false,
       "layout": "IPY_MODEL_55457010be624796b4e3a977c7f51a31",
       "style": "IPY_MODEL_a4f752c0353a44038902ed2cbcf19aa8",
       "value": false
      }
     },
     "95c96faa88a9418386c66f50c4a9b090": {
      "model_module": "@jupyter-widgets/base",
      "model_module_version": "1.2.0",
      "model_name": "LayoutModel",
      "state": {}
     },
     "95d07779c1ae49e383995826b1c7bb52": {
      "model_module": "@jupyter-widgets/controls",
      "model_module_version": "1.5.0",
      "model_name": "DescriptionStyleModel",
      "state": {
       "description_width": ""
      }
     },
     "9656bb7b05a148e7b0306d283ab89e2e": {
      "model_module": "@jupyter-widgets/base",
      "model_module_version": "1.2.0",
      "model_name": "LayoutModel",
      "state": {}
     },
     "96caaf6c60804c2582feae48d4bf44f9": {
      "model_module": "@jupyter-widgets/controls",
      "model_module_version": "1.5.0",
      "model_name": "DescriptionStyleModel",
      "state": {
       "description_width": ""
      }
     },
     "96fb335760df4b198a7db13ada3a2608": {
      "model_module": "@jupyter-widgets/controls",
      "model_module_version": "1.5.0",
      "model_name": "DescriptionStyleModel",
      "state": {
       "description_width": ""
      }
     },
     "9712a1d565294b7aaa6757ae92c0e055": {
      "model_module": "@jupyter-widgets/controls",
      "model_module_version": "1.5.0",
      "model_name": "CheckboxModel",
      "state": {
       "description": "CH_3",
       "disabled": false,
       "layout": "IPY_MODEL_662796c5a1ec4df1bd0e69712b3e31cd",
       "style": "IPY_MODEL_16db84bdc5b84d798068442acfd9b3e7",
       "value": false
      }
     },
     "9719062a12804498add8dd5b3b4b9049": {
      "model_module": "@jupyter-widgets/base",
      "model_module_version": "1.2.0",
      "model_name": "LayoutModel",
      "state": {}
     },
     "972cca7e355b408d9ff365a6befbab62": {
      "model_module": "@jupyter-widgets/controls",
      "model_module_version": "1.5.0",
      "model_name": "DescriptionStyleModel",
      "state": {
       "description_width": ""
      }
     },
     "974a2578c64f47ed9ecca048bcea21e5": {
      "model_module": "@jupyter-widgets/controls",
      "model_module_version": "1.5.0",
      "model_name": "CheckboxModel",
      "state": {
       "description": "CH_8",
       "disabled": false,
       "layout": "IPY_MODEL_6adf03448c394d179f5ac2f9619b3008",
       "style": "IPY_MODEL_98903d043e88466b8d4998864c6c0b0a",
       "value": false
      }
     },
     "97c037f459714e3a90adb3ea41f93b60": {
      "model_module": "@jupyter-widgets/controls",
      "model_module_version": "1.5.0",
      "model_name": "DescriptionStyleModel",
      "state": {
       "description_width": ""
      }
     },
     "97e83cb8bf404ffab685649d034d492d": {
      "model_module": "@jupyter-widgets/base",
      "model_module_version": "1.2.0",
      "model_name": "LayoutModel",
      "state": {}
     },
     "97ffe42ad9a84c0f8d3fed63034479aa": {
      "model_module": "@jupyter-widgets/base",
      "model_module_version": "1.2.0",
      "model_name": "LayoutModel",
      "state": {}
     },
     "9861169e13904fbc9f7f0dd55fcf9b75": {
      "model_module": "@jupyter-widgets/controls",
      "model_module_version": "1.5.0",
      "model_name": "DescriptionStyleModel",
      "state": {
       "description_width": ""
      }
     },
     "98903d043e88466b8d4998864c6c0b0a": {
      "model_module": "@jupyter-widgets/controls",
      "model_module_version": "1.5.0",
      "model_name": "DescriptionStyleModel",
      "state": {
       "description_width": ""
      }
     },
     "998bea7d29b741bfac0e0a58139de776": {
      "model_module": "@jupyter-widgets/controls",
      "model_module_version": "1.5.0",
      "model_name": "CheckboxModel",
      "state": {
       "description": "CH_1",
       "disabled": false,
       "layout": "IPY_MODEL_79ebd3f5132b45e191ad11c445d76684",
       "style": "IPY_MODEL_fe3cc026add246e6b0e8431d3bfce66c",
       "value": false
      }
     },
     "999a7f8f355141a4a1edac46783bab9b": {
      "model_module": "@jupyter-widgets/controls",
      "model_module_version": "1.5.0",
      "model_name": "DescriptionStyleModel",
      "state": {
       "description_width": ""
      }
     },
     "99c37bcdfe3342e2b1bff60558b0edbb": {
      "model_module": "@jupyter-widgets/controls",
      "model_module_version": "1.5.0",
      "model_name": "DescriptionStyleModel",
      "state": {
       "description_width": ""
      }
     },
     "99dece1f67f84213834c0336e897f31e": {
      "model_module": "@jupyter-widgets/controls",
      "model_module_version": "1.5.0",
      "model_name": "CheckboxModel",
      "state": {
       "description": "CH_4",
       "disabled": false,
       "layout": "IPY_MODEL_2488a1943c64461d91d930d2b9d5404d",
       "style": "IPY_MODEL_96caaf6c60804c2582feae48d4bf44f9",
       "value": true
      }
     },
     "9a1d068c93d043fda00b03e70d72b81e": {
      "model_module": "@jupyter-widgets/controls",
      "model_module_version": "1.5.0",
      "model_name": "DescriptionStyleModel",
      "state": {
       "description_width": ""
      }
     },
     "9a6e29974b57424f8e5c8e1c30e752bb": {
      "model_module": "@jupyter-widgets/controls",
      "model_module_version": "1.5.0",
      "model_name": "CheckboxModel",
      "state": {
       "description": "Mode_Load_Remote_Scripts",
       "disabled": false,
       "layout": "IPY_MODEL_daaf952aaf7347ceba34fa02bbcb30a3",
       "style": "IPY_MODEL_c89a762fed4f4ae489f708bfaa4ff306",
       "value": false
      }
     },
     "9a70f7bb98784b89815d49db68e613a4": {
      "model_module": "@jupyter-widgets/base",
      "model_module_version": "1.2.0",
      "model_name": "LayoutModel",
      "state": {}
     },
     "9abe5c7c4c674b0db60f15069e6ba62e": {
      "model_module": "@jupyter-widgets/controls",
      "model_module_version": "1.5.0",
      "model_name": "CheckboxModel",
      "state": {
       "description": "CH_10",
       "disabled": false,
       "layout": "IPY_MODEL_bfc3106a71a84ab5a8a6087bab664756",
       "style": "IPY_MODEL_5ff54eacc86d4b75b1dc8ac1b757fa26",
       "value": true
      }
     },
     "9ac9d9091a62417e9dffd4b7fad3ce4a": {
      "model_module": "@jupyter-widgets/controls",
      "model_module_version": "1.5.0",
      "model_name": "CheckboxModel",
      "state": {
       "description": "Script_2",
       "disabled": false,
       "layout": "IPY_MODEL_a4103a68283e4090802b0bdfbde75afb",
       "style": "IPY_MODEL_0c42e4a6f0d448ceb946b588006ea447",
       "value": false
      }
     },
     "9b75085d27594e2780b515a519198118": {
      "model_module": "@jupyter-widgets/controls",
      "model_module_version": "1.5.0",
      "model_name": "CheckboxModel",
      "state": {
       "description": "CH_15",
       "disabled": false,
       "layout": "IPY_MODEL_8ca7fcb9efa84ee3b5c59fffcd2ff41c",
       "style": "IPY_MODEL_05afb7b78b9b469f8da2f600dbdd7880",
       "value": true
      }
     },
     "9b923d5195954e73ba9a85c064681601": {
      "model_module": "@jupyter-widgets/controls",
      "model_module_version": "1.5.0",
      "model_name": "DescriptionStyleModel",
      "state": {
       "description_width": ""
      }
     },
     "9c1876745fee48c0bedae6017fd25bc0": {
      "model_module": "@jupyter-widgets/controls",
      "model_module_version": "1.5.0",
      "model_name": "CheckboxModel",
      "state": {
       "description": "CH_1",
       "disabled": false,
       "layout": "IPY_MODEL_5756757bc6e645ba85691d2bfa37b1cd",
       "style": "IPY_MODEL_b0317719f94a4ca9b01cd5426374fa7e",
       "value": true
      }
     },
     "9c652f36f56a482f896f732f4741d3d9": {
      "model_module": "@jupyter-widgets/base",
      "model_module_version": "1.2.0",
      "model_name": "LayoutModel",
      "state": {}
     },
     "9c956c1bd80b411f9ee2ec0487705669": {
      "model_module": "@jupyter-widgets/controls",
      "model_module_version": "1.5.0",
      "model_name": "DescriptionStyleModel",
      "state": {
       "description_width": ""
      }
     },
     "9cb80a8bc5204a83b2d5d55d82afbe52": {
      "model_module": "@jupyter-widgets/base",
      "model_module_version": "1.2.0",
      "model_name": "LayoutModel",
      "state": {}
     },
     "9ceff537ddd44137a21b31e54f0a2c4d": {
      "model_module": "@jupyter-widgets/controls",
      "model_module_version": "1.5.0",
      "model_name": "DescriptionStyleModel",
      "state": {
       "description_width": ""
      }
     },
     "9d5ddc5410754c1e817c4a3fcf882457": {
      "model_module": "@jupyter-widgets/base",
      "model_module_version": "1.2.0",
      "model_name": "LayoutModel",
      "state": {}
     },
     "9e12092daea04e0bba0f011acb110452": {
      "model_module": "@jupyter-widgets/controls",
      "model_module_version": "1.5.0",
      "model_name": "CheckboxModel",
      "state": {
       "description": "CH_8",
       "disabled": false,
       "layout": "IPY_MODEL_c3a6c36e967448b99daf3448976b2dd6",
       "style": "IPY_MODEL_0da78e0e6d274991a2684911ceac14f7",
       "value": true
      }
     },
     "9e316dc6e0fe4c75b0cce186da76a902": {
      "model_module": "@jupyter-widgets/base",
      "model_module_version": "1.2.0",
      "model_name": "LayoutModel",
      "state": {}
     },
     "9e39c1909f6c4d2abd5a239cf7d20f07": {
      "model_module": "@jupyter-widgets/controls",
      "model_module_version": "1.5.0",
      "model_name": "CheckboxModel",
      "state": {
       "description": "CH_11",
       "disabled": false,
       "layout": "IPY_MODEL_cc5db67247dd46b5a40953ff0024d21f",
       "style": "IPY_MODEL_96fb335760df4b198a7db13ada3a2608",
       "value": false
      }
     },
     "9e3cfc513ff74c998ffd28ef623484aa": {
      "model_module": "@jupyter-widgets/controls",
      "model_module_version": "1.5.0",
      "model_name": "CheckboxModel",
      "state": {
       "description": "CH_10",
       "disabled": false,
       "layout": "IPY_MODEL_4db92e95398b4d11ad33d46d270b2a6d",
       "style": "IPY_MODEL_454cd2df42d0437f85e3731be3738269",
       "value": false
      }
     },
     "9e64bcf51b2f4fcfa63ebbdc8212ccf1": {
      "model_module": "@jupyter-widgets/controls",
      "model_module_version": "1.5.0",
      "model_name": "DescriptionStyleModel",
      "state": {
       "description_width": ""
      }
     },
     "9e76c13171764d3cb242edc6df3bd458": {
      "model_module": "@jupyter-widgets/controls",
      "model_module_version": "1.5.0",
      "model_name": "CheckboxModel",
      "state": {
       "description": "CH_7",
       "disabled": false,
       "layout": "IPY_MODEL_c50d20fd39934d5eb84d3b2facafb4ab",
       "style": "IPY_MODEL_c5ca974434fd4b328b95c58f61edd43c",
       "value": true
      }
     },
     "9e910ca2390644c1b20db9be23159a11": {
      "model_module": "@jupyter-widgets/controls",
      "model_module_version": "1.5.0",
      "model_name": "DescriptionStyleModel",
      "state": {
       "description_width": ""
      }
     },
     "9eb40e64eb6d44eeb49d00006fe8f821": {
      "model_module": "@jupyter-widgets/controls",
      "model_module_version": "1.5.0",
      "model_name": "DescriptionStyleModel",
      "state": {
       "description_width": ""
      }
     },
     "9ecbc0a981704504b9ccc17d4323ceb6": {
      "model_module": "@jupyter-widgets/base",
      "model_module_version": "1.2.0",
      "model_name": "LayoutModel",
      "state": {}
     },
     "9ee893e3de7d4a8f9b9b401184f4c032": {
      "model_module": "@jupyter-widgets/controls",
      "model_module_version": "1.5.0",
      "model_name": "DescriptionStyleModel",
      "state": {
       "description_width": ""
      }
     },
     "9f152460632a47e286de87baf89bf772": {
      "model_module": "@jupyter-widgets/controls",
      "model_module_version": "1.5.0",
      "model_name": "CheckboxModel",
      "state": {
       "description": "CH_9",
       "disabled": false,
       "layout": "IPY_MODEL_c80b75bd05d64526b64fa9139a2eb2ee",
       "style": "IPY_MODEL_f214745606ae4557a8a5b4c8601f83d1",
       "value": false
      }
     },
     "9f23f32b1f5f4be7928763768e11c8d6": {
      "model_module": "@jupyter-widgets/controls",
      "model_module_version": "1.5.0",
      "model_name": "DescriptionStyleModel",
      "state": {
       "description_width": ""
      }
     },
     "9f5420c4dba64dbc964f1f9c46c01ca3": {
      "model_module": "@jupyter-widgets/controls",
      "model_module_version": "1.5.0",
      "model_name": "DescriptionStyleModel",
      "state": {
       "description_width": ""
      }
     },
     "9fa6233d641b4db096264cbd8d5a0f88": {
      "model_module": "@jupyter-widgets/controls",
      "model_module_version": "1.5.0",
      "model_name": "CheckboxModel",
      "state": {
       "description": "Script_3",
       "disabled": false,
       "layout": "IPY_MODEL_946485a7a17e40fda2ed929575e4429f",
       "style": "IPY_MODEL_d083f1c70d7b4056923e05e1ed2a9bfe",
       "value": false
      }
     },
     "9fad11effa434745a3bffae0ddaf39d6": {
      "model_module": "@jupyter-widgets/base",
      "model_module_version": "1.2.0",
      "model_name": "LayoutModel",
      "state": {}
     },
     "9fbb05f80cc54a9ebacfd648d25a2020": {
      "model_module": "@jupyter-widgets/controls",
      "model_module_version": "1.5.0",
      "model_name": "DescriptionStyleModel",
      "state": {
       "description_width": ""
      }
     },
     "9fdb6e88400c44fd9bd1bf2a5fb765c4": {
      "model_module": "@jupyter-widgets/controls",
      "model_module_version": "1.5.0",
      "model_name": "CheckboxModel",
      "state": {
       "description": "CH_7",
       "disabled": false,
       "layout": "IPY_MODEL_713ab018afb74d6c91b964760adf7c07",
       "style": "IPY_MODEL_2f8465e56ddf4c899312b5963bd47f2e",
       "value": false
      }
     },
     "9ff3279848a5459591925b66f79302d2": {
      "model_module": "@jupyter-widgets/controls",
      "model_module_version": "1.5.0",
      "model_name": "CheckboxModel",
      "state": {
       "description": "Mode_Manual_Control",
       "disabled": false,
       "layout": "IPY_MODEL_acba088197654ddda850c092f94e2cc7",
       "style": "IPY_MODEL_1b95b1afd29c45f8b77d7baec93d86ec",
       "value": true
      }
     },
     "a05b9bf073f546348fc9c28e54600d53": {
      "model_module": "@jupyter-widgets/controls",
      "model_module_version": "1.5.0",
      "model_name": "CheckboxModel",
      "state": {
       "description": "Mode_Load_Remote_Scripts",
       "disabled": false,
       "layout": "IPY_MODEL_d53be94d0d2248ae9ba3921ea0115090",
       "style": "IPY_MODEL_4ac866aaa06a4089a5b2e04939cdbf08",
       "value": false
      }
     },
     "a0651ffd0c6b4276b61934f4f618d3c4": {
      "model_module": "@jupyter-widgets/controls",
      "model_module_version": "1.5.0",
      "model_name": "CheckboxModel",
      "state": {
       "description": "CH_3",
       "disabled": false,
       "layout": "IPY_MODEL_9559066323a54961aadc4e56013e44b3",
       "style": "IPY_MODEL_972cca7e355b408d9ff365a6befbab62",
       "value": false
      }
     },
     "a0777db61a6f484594d8d648c0de7bd9": {
      "model_module": "@jupyter-widgets/base",
      "model_module_version": "1.2.0",
      "model_name": "LayoutModel",
      "state": {}
     },
     "a0a309c56c6d44b686186264e5776c3b": {
      "model_module": "@jupyter-widgets/controls",
      "model_module_version": "1.5.0",
      "model_name": "CheckboxModel",
      "state": {
       "description": "CH_5",
       "disabled": false,
       "layout": "IPY_MODEL_484a8d94615847cca80ca3998ff8c469",
       "style": "IPY_MODEL_d01bb32b30fb4bb88194122a54878394",
       "value": false
      }
     },
     "a0aaddc37b1342aba0970cd0735df075": {
      "model_module": "@jupyter-widgets/controls",
      "model_module_version": "1.5.0",
      "model_name": "CheckboxModel",
      "state": {
       "description": "Script_3",
       "disabled": false,
       "layout": "IPY_MODEL_46af5f2bfa244825b7910e2d9025f6f2",
       "style": "IPY_MODEL_0d021f32a1da46228802cb4cf2a78327",
       "value": false
      }
     },
     "a0adcc44cfe0438fada952e17269c5a2": {
      "model_module": "@jupyter-widgets/controls",
      "model_module_version": "1.5.0",
      "model_name": "CheckboxModel",
      "state": {
       "description": "CH_16",
       "disabled": false,
       "layout": "IPY_MODEL_2cdf4092fe584d10a6d3eb6affa383f4",
       "style": "IPY_MODEL_55a88136ec2643cf9c220e6a57f2a2da",
       "value": true
      }
     },
     "a1a249aca0a14b1c97aac94836257f0c": {
      "model_module": "@jupyter-widgets/base",
      "model_module_version": "1.2.0",
      "model_name": "LayoutModel",
      "state": {}
     },
     "a20a1f1ffecb4f47bc548c5634c96c88": {
      "model_module": "@jupyter-widgets/controls",
      "model_module_version": "1.5.0",
      "model_name": "CheckboxModel",
      "state": {
       "description": "CH_14",
       "disabled": false,
       "layout": "IPY_MODEL_18c10aa3442b48d995d2c6a53b583796",
       "style": "IPY_MODEL_f9a2c83d35dc4dc791e2b7cbbbaa4ad4",
       "value": true
      }
     },
     "a2119e5eab554f95bf5d954b09caf8d8": {
      "model_module": "@jupyter-widgets/controls",
      "model_module_version": "1.5.0",
      "model_name": "CheckboxModel",
      "state": {
       "description": "CH_3",
       "disabled": false,
       "layout": "IPY_MODEL_306f52e8ee4440a2ad3568a6e345a9bc",
       "style": "IPY_MODEL_e5d98cc2a7da476cac6f4ab141b37013",
       "value": false
      }
     },
     "a21b1e8eba424ff9a1dc33a0999d2447": {
      "model_module": "@jupyter-widgets/base",
      "model_module_version": "1.2.0",
      "model_name": "LayoutModel",
      "state": {}
     },
     "a22b66f8c3924ecdbbaf317d2e12e258": {
      "model_module": "@jupyter-widgets/controls",
      "model_module_version": "1.5.0",
      "model_name": "CheckboxModel",
      "state": {
       "description": "Mode_Manual_Control",
       "disabled": false,
       "layout": "IPY_MODEL_e0acb902daf345259595b8f93931ffc8",
       "style": "IPY_MODEL_bab492725d06489fb5cfe8204efb294d",
       "value": true
      }
     },
     "a29c4ad0d9f74ede93122d70ddbc81fd": {
      "model_module": "@jupyter-widgets/base",
      "model_module_version": "1.2.0",
      "model_name": "LayoutModel",
      "state": {}
     },
     "a2d0c88fb5884c758c890c0d8b56c081": {
      "model_module": "@jupyter-widgets/controls",
      "model_module_version": "1.5.0",
      "model_name": "CheckboxModel",
      "state": {
       "description": "CH_6",
       "disabled": false,
       "layout": "IPY_MODEL_ee531d9e17164b13bb00f767174ef1cb",
       "style": "IPY_MODEL_61b533ce35c14fe0b04e1502319ed572",
       "value": false
      }
     },
     "a2de695295474b2c82359e7dc737d460": {
      "model_module": "@jupyter-widgets/controls",
      "model_module_version": "1.5.0",
      "model_name": "CheckboxModel",
      "state": {
       "description": "Mode_Load_Remote_Scripts",
       "disabled": false,
       "layout": "IPY_MODEL_465b8f4e490d42ca98f6cc93c85de46e",
       "style": "IPY_MODEL_c5873fe7e94b4753adad15ca22412654",
       "value": false
      }
     },
     "a3327f31028d424a8e2a1a7b9df24a7f": {
      "model_module": "@jupyter-widgets/controls",
      "model_module_version": "1.5.0",
      "model_name": "DescriptionStyleModel",
      "state": {
       "description_width": ""
      }
     },
     "a392f5b0a8814e8a939212e70684b5c5": {
      "model_module": "@jupyter-widgets/controls",
      "model_module_version": "1.5.0",
      "model_name": "CheckboxModel",
      "state": {
       "description": "Script_1",
       "disabled": false,
       "layout": "IPY_MODEL_ce7aade852df42e194d08ddd410b0ea3",
       "style": "IPY_MODEL_5e829182d4fa4fcaaa13b1534b7e7a31",
       "value": false
      }
     },
     "a393beca73a94db8854f79960e5def0a": {
      "model_module": "@jupyter-widgets/base",
      "model_module_version": "1.2.0",
      "model_name": "LayoutModel",
      "state": {}
     },
     "a3ebacccaa084e87a3145e16277c2b26": {
      "model_module": "@jupyter-widgets/controls",
      "model_module_version": "1.5.0",
      "model_name": "DescriptionStyleModel",
      "state": {
       "description_width": ""
      }
     },
     "a4103a68283e4090802b0bdfbde75afb": {
      "model_module": "@jupyter-widgets/base",
      "model_module_version": "1.2.0",
      "model_name": "LayoutModel",
      "state": {}
     },
     "a4340a9474194e1dad213015443e4e22": {
      "model_module": "@jupyter-widgets/controls",
      "model_module_version": "1.5.0",
      "model_name": "DescriptionStyleModel",
      "state": {
       "description_width": ""
      }
     },
     "a43dfa5ebba547dd977f29d8c70fa3e6": {
      "model_module": "@jupyter-widgets/controls",
      "model_module_version": "1.5.0",
      "model_name": "CheckboxModel",
      "state": {
       "description": "CH_13",
       "disabled": false,
       "layout": "IPY_MODEL_93ee6a5fd76d4ad2afe212693d231e37",
       "style": "IPY_MODEL_1d1fbd4076374cbeb91653f770057c97",
       "value": true
      }
     },
     "a4414986a3fa441e9e6620357c8ace7e": {
      "model_module": "@jupyter-widgets/controls",
      "model_module_version": "1.5.0",
      "model_name": "DescriptionStyleModel",
      "state": {
       "description_width": ""
      }
     },
     "a467c1d7a255400f96a51ee57121f279": {
      "model_module": "@jupyter-widgets/controls",
      "model_module_version": "1.5.0",
      "model_name": "CheckboxModel",
      "state": {
       "description": "CH_10",
       "disabled": false,
       "layout": "IPY_MODEL_4c750c33c49c477e9081a65ffde9f499",
       "style": "IPY_MODEL_412e2e037b0749f399b6a909799e2783",
       "value": true
      }
     },
     "a4a716749be5497f82848e19b06d29a1": {
      "model_module": "@jupyter-widgets/controls",
      "model_module_version": "1.5.0",
      "model_name": "CheckboxModel",
      "state": {
       "description": "CH_16",
       "disabled": false,
       "layout": "IPY_MODEL_7bfa1b57e7644a8b8273e9f829ea7dce",
       "style": "IPY_MODEL_8c248489f84b4a8484f49f6b2e207048",
       "value": false
      }
     },
     "a4f752c0353a44038902ed2cbcf19aa8": {
      "model_module": "@jupyter-widgets/controls",
      "model_module_version": "1.5.0",
      "model_name": "DescriptionStyleModel",
      "state": {
       "description_width": ""
      }
     },
     "a52fb788d6e64539836c8b3a8eb5f151": {
      "model_module": "@jupyter-widgets/base",
      "model_module_version": "1.2.0",
      "model_name": "LayoutModel",
      "state": {}
     },
     "a58f3a63aed641cfbd6aa7b6624f695c": {
      "model_module": "@jupyter-widgets/base",
      "model_module_version": "1.2.0",
      "model_name": "LayoutModel",
      "state": {}
     },
     "a5f78794a6cf4ba6b9aa9ece7fbd47b4": {
      "model_module": "@jupyter-widgets/base",
      "model_module_version": "1.2.0",
      "model_name": "LayoutModel",
      "state": {}
     },
     "a61938f23cca4b809b9ceedfcaa63e06": {
      "model_module": "@jupyter-widgets/controls",
      "model_module_version": "1.5.0",
      "model_name": "CheckboxModel",
      "state": {
       "description": "CH_16",
       "disabled": false,
       "layout": "IPY_MODEL_20b6052cc76e4be58d4af30910559eb4",
       "style": "IPY_MODEL_9f5420c4dba64dbc964f1f9c46c01ca3",
       "value": false
      }
     },
     "a63afc75f02047adaa6c18135ad216d0": {
      "model_module": "@jupyter-widgets/controls",
      "model_module_version": "1.5.0",
      "model_name": "CheckboxModel",
      "state": {
       "description": "CH_9",
       "disabled": false,
       "layout": "IPY_MODEL_55a5f280dd0e4f60a3ec43c1d763a1a1",
       "style": "IPY_MODEL_9103b9c082404adf8a7a87d058136254",
       "value": true
      }
     },
     "a6458f05e9944c12863eb9834c469a01": {
      "model_module": "@jupyter-widgets/controls",
      "model_module_version": "1.5.0",
      "model_name": "DescriptionStyleModel",
      "state": {
       "description_width": ""
      }
     },
     "a6520629e6fc494a95cb10c3bc11c241": {
      "model_module": "@jupyter-widgets/base",
      "model_module_version": "1.2.0",
      "model_name": "LayoutModel",
      "state": {}
     },
     "a6a08dcff7124f0fa420cdf7969ac562": {
      "model_module": "@jupyter-widgets/controls",
      "model_module_version": "1.5.0",
      "model_name": "CheckboxModel",
      "state": {
       "description": "CH_2",
       "disabled": false,
       "layout": "IPY_MODEL_4dfa26b1e10b420b974c7cf34f13ef9b",
       "style": "IPY_MODEL_bb770503b3a941c0ac581a961aed0e2d",
       "value": true
      }
     },
     "a6d30018921747259c7072ad3540feb7": {
      "model_module": "@jupyter-widgets/base",
      "model_module_version": "1.2.0",
      "model_name": "LayoutModel",
      "state": {}
     },
     "a6ebde794594411ead1a2ae89334704a": {
      "model_module": "@jupyter-widgets/base",
      "model_module_version": "1.2.0",
      "model_name": "LayoutModel",
      "state": {}
     },
     "a70bca96b05f441ebe7d44ecb08b94e4": {
      "model_module": "@jupyter-widgets/controls",
      "model_module_version": "1.5.0",
      "model_name": "DescriptionStyleModel",
      "state": {
       "description_width": ""
      }
     },
     "a73b37757bc64105b5da70b28209df5a": {
      "model_module": "@jupyter-widgets/controls",
      "model_module_version": "1.5.0",
      "model_name": "DescriptionStyleModel",
      "state": {
       "description_width": ""
      }
     },
     "a7ac8270e075411c991db229bc21cdd7": {
      "model_module": "@jupyter-widgets/controls",
      "model_module_version": "1.5.0",
      "model_name": "CheckboxModel",
      "state": {
       "description": "Mode_EXIT",
       "disabled": false,
       "layout": "IPY_MODEL_469e2387bbfb4a1eb18d224f4eff236f",
       "style": "IPY_MODEL_6d672712b12f425d9e884a917e78d61e",
       "value": false
      }
     },
     "a84399416a604da58151fbee8a71d6da": {
      "model_module": "@jupyter-widgets/controls",
      "model_module_version": "1.5.0",
      "model_name": "DescriptionStyleModel",
      "state": {
       "description_width": ""
      }
     },
     "a860490978d24a748c9c675ec79f9856": {
      "model_module": "@jupyter-widgets/controls",
      "model_module_version": "1.5.0",
      "model_name": "DescriptionStyleModel",
      "state": {
       "description_width": ""
      }
     },
     "a88c1be9f6d8487189b8d9c6e70ed134": {
      "model_module": "@jupyter-widgets/controls",
      "model_module_version": "1.5.0",
      "model_name": "CheckboxModel",
      "state": {
       "description": "CH_4",
       "disabled": false,
       "layout": "IPY_MODEL_3610a8f90aa44d0d8d9b22d7c1a5a58a",
       "style": "IPY_MODEL_c3f7e76ebf574b6baaa828145cf10390",
       "value": false
      }
     },
     "a8ac58b76cac46f5833a7b3ea4e02d61": {
      "model_module": "@jupyter-widgets/base",
      "model_module_version": "1.2.0",
      "model_name": "LayoutModel",
      "state": {}
     },
     "a8f14be742ff42f88cc59b20f8b17a24": {
      "model_module": "@jupyter-widgets/controls",
      "model_module_version": "1.5.0",
      "model_name": "CheckboxModel",
      "state": {
       "description": "CH_3",
       "disabled": false,
       "layout": "IPY_MODEL_1c941fe3bfc14a20a740a4562370b702",
       "style": "IPY_MODEL_2744eb027c9948e38c74259b1728eef7",
       "value": false
      }
     },
     "a8f1ca6ec2854b738c837254471bac63": {
      "model_module": "@jupyter-widgets/base",
      "model_module_version": "1.2.0",
      "model_name": "LayoutModel",
      "state": {}
     },
     "a994d6576e3e48c48ea7312062200671": {
      "model_module": "@jupyter-widgets/controls",
      "model_module_version": "1.5.0",
      "model_name": "DescriptionStyleModel",
      "state": {
       "description_width": ""
      }
     },
     "aa1721c0f4e34de2a16d3fc56ce3745c": {
      "model_module": "@jupyter-widgets/controls",
      "model_module_version": "1.5.0",
      "model_name": "DescriptionStyleModel",
      "state": {
       "description_width": ""
      }
     },
     "aa56260de026489799120a35dd004b89": {
      "model_module": "@jupyter-widgets/base",
      "model_module_version": "1.2.0",
      "model_name": "LayoutModel",
      "state": {}
     },
     "aa5748651304486c91108a838fd36bf9": {
      "model_module": "@jupyter-widgets/base",
      "model_module_version": "1.2.0",
      "model_name": "LayoutModel",
      "state": {}
     },
     "aab8c8127e5240598c8e5ed9e9b5cedc": {
      "model_module": "@jupyter-widgets/base",
      "model_module_version": "1.2.0",
      "model_name": "LayoutModel",
      "state": {}
     },
     "aacdabc878d34c44a2895772b31afc7e": {
      "model_module": "@jupyter-widgets/controls",
      "model_module_version": "1.5.0",
      "model_name": "DescriptionStyleModel",
      "state": {
       "description_width": ""
      }
     },
     "ab00d2e980e14c2e80dac9beb7b10b0f": {
      "model_module": "@jupyter-widgets/base",
      "model_module_version": "1.2.0",
      "model_name": "LayoutModel",
      "state": {}
     },
     "ab08cf15ef204bde8a33c094c17f3e47": {
      "model_module": "@jupyter-widgets/base",
      "model_module_version": "1.2.0",
      "model_name": "LayoutModel",
      "state": {}
     },
     "aba5b493132d44118af1eeb09e8549a4": {
      "model_module": "@jupyter-widgets/controls",
      "model_module_version": "1.5.0",
      "model_name": "DescriptionStyleModel",
      "state": {
       "description_width": ""
      }
     },
     "ac775b42924c4c65aa4f06e980863e01": {
      "model_module": "@jupyter-widgets/controls",
      "model_module_version": "1.5.0",
      "model_name": "DescriptionStyleModel",
      "state": {
       "description_width": ""
      }
     },
     "acba088197654ddda850c092f94e2cc7": {
      "model_module": "@jupyter-widgets/base",
      "model_module_version": "1.2.0",
      "model_name": "LayoutModel",
      "state": {}
     },
     "ae4b446ae8124406901c2f6d48fc1030": {
      "model_module": "@jupyter-widgets/controls",
      "model_module_version": "1.5.0",
      "model_name": "CheckboxModel",
      "state": {
       "description": "CH_6",
       "disabled": false,
       "layout": "IPY_MODEL_3b6956ce3c3f47008c7d8904bbdb8969",
       "style": "IPY_MODEL_7e80d247e88048c7a30f7f5e69bf6fbb",
       "value": false
      }
     },
     "ae535607b0084560baf34a96cdf2e719": {
      "model_module": "@jupyter-widgets/controls",
      "model_module_version": "1.5.0",
      "model_name": "DescriptionStyleModel",
      "state": {
       "description_width": ""
      }
     },
     "aec0bdd97ca24c05b7a3d89b68ee94b1": {
      "model_module": "@jupyter-widgets/controls",
      "model_module_version": "1.5.0",
      "model_name": "DescriptionStyleModel",
      "state": {
       "description_width": ""
      }
     },
     "aef03465aef54b42bd4dfb2431bf3785": {
      "model_module": "@jupyter-widgets/base",
      "model_module_version": "1.2.0",
      "model_name": "LayoutModel",
      "state": {}
     },
     "aef51ea2494b4f0c8e253b4d5b8a63fe": {
      "model_module": "@jupyter-widgets/controls",
      "model_module_version": "1.5.0",
      "model_name": "DescriptionStyleModel",
      "state": {
       "description_width": ""
      }
     },
     "aef5ff51225c49b6862d0593c33347ab": {
      "model_module": "@jupyter-widgets/base",
      "model_module_version": "1.2.0",
      "model_name": "LayoutModel",
      "state": {}
     },
     "af1f1228ad1145bba85d28e52406f09a": {
      "model_module": "@jupyter-widgets/controls",
      "model_module_version": "1.5.0",
      "model_name": "DescriptionStyleModel",
      "state": {
       "description_width": ""
      }
     },
     "af803e9903e342d881bc62ea812d93c1": {
      "model_module": "@jupyter-widgets/base",
      "model_module_version": "1.2.0",
      "model_name": "LayoutModel",
      "state": {}
     },
     "afce6ef9090346a09aab134aa5642842": {
      "model_module": "@jupyter-widgets/controls",
      "model_module_version": "1.5.0",
      "model_name": "CheckboxModel",
      "state": {
       "description": "CH_8",
       "disabled": false,
       "layout": "IPY_MODEL_6832db90715344d8a6047719e4b2b1b4",
       "style": "IPY_MODEL_c71c9eec99c14aafbb9f07c1121941f4",
       "value": false
      }
     },
     "afe753b851b64f9cbc29e3b83c108c4f": {
      "model_module": "@jupyter-widgets/base",
      "model_module_version": "1.2.0",
      "model_name": "LayoutModel",
      "state": {}
     },
     "b0317719f94a4ca9b01cd5426374fa7e": {
      "model_module": "@jupyter-widgets/controls",
      "model_module_version": "1.5.0",
      "model_name": "DescriptionStyleModel",
      "state": {
       "description_width": ""
      }
     },
     "b036542458eb4c8297586472f2f6a536": {
      "model_module": "@jupyter-widgets/controls",
      "model_module_version": "1.5.0",
      "model_name": "CheckboxModel",
      "state": {
       "description": "OPEN_CH_all",
       "disabled": false,
       "layout": "IPY_MODEL_7e94fbae63f64bf78598c59febedf027",
       "style": "IPY_MODEL_032e882861eb450abd46d129ca8757de",
       "value": false
      }
     },
     "b09d27d3cc0e404b85533c1b40dcdf01": {
      "model_module": "@jupyter-widgets/controls",
      "model_module_version": "1.5.0",
      "model_name": "DescriptionStyleModel",
      "state": {
       "description_width": ""
      }
     },
     "b1ca7cb1508c478897b58890564b0204": {
      "model_module": "@jupyter-widgets/controls",
      "model_module_version": "1.5.0",
      "model_name": "CheckboxModel",
      "state": {
       "description": "CH_4",
       "disabled": false,
       "layout": "IPY_MODEL_a6ebde794594411ead1a2ae89334704a",
       "style": "IPY_MODEL_faba234f862a42248f7a778207094a6f",
       "value": true
      }
     },
     "b1e2adb63d22409996455dced8d02bd7": {
      "model_module": "@jupyter-widgets/controls",
      "model_module_version": "1.5.0",
      "model_name": "DescriptionStyleModel",
      "state": {
       "description_width": ""
      }
     },
     "b211def1063848af9d584a25098480b5": {
      "model_module": "@jupyter-widgets/controls",
      "model_module_version": "1.5.0",
      "model_name": "CheckboxModel",
      "state": {
       "description": "CLOSE_CH_all",
       "disabled": false,
       "layout": "IPY_MODEL_b4d44d94749a453085a474eee0623171",
       "style": "IPY_MODEL_3a239cd9e6544a86baa55c692c0355f8",
       "value": false
      }
     },
     "b22537bb20744c9fbab65f60ad8fdc13": {
      "model_module": "@jupyter-widgets/controls",
      "model_module_version": "1.5.0",
      "model_name": "CheckboxModel",
      "state": {
       "description": "CH_7",
       "disabled": false,
       "layout": "IPY_MODEL_22956ac631f246d58c16a6d53eecfbc5",
       "style": "IPY_MODEL_6069f3dbc25548e78926bd7f9c12d05f",
       "value": false
      }
     },
     "b277661e92974057a5ab8f1d1ebe2706": {
      "model_module": "@jupyter-widgets/controls",
      "model_module_version": "1.5.0",
      "model_name": "DescriptionStyleModel",
      "state": {
       "description_width": ""
      }
     },
     "b277f4394e094f478aa4d80cc5898328": {
      "model_module": "@jupyter-widgets/base",
      "model_module_version": "1.2.0",
      "model_name": "LayoutModel",
      "state": {}
     },
     "b28ff65963da4158a4351bd9e8932889": {
      "model_module": "@jupyter-widgets/controls",
      "model_module_version": "1.5.0",
      "model_name": "CheckboxModel",
      "state": {
       "description": "CH_13",
       "disabled": false,
       "layout": "IPY_MODEL_13c3793490cf4bea9764c57c39a5b2c3",
       "style": "IPY_MODEL_6bf486e0f0ff44898ea77ac2d348108d",
       "value": true
      }
     },
     "b2cfc49de4c245209677a511ac9cbd96": {
      "model_module": "@jupyter-widgets/controls",
      "model_module_version": "1.5.0",
      "model_name": "CheckboxModel",
      "state": {
       "description": "CH_2",
       "disabled": false,
       "layout": "IPY_MODEL_c66e9229c4ed49e48ff2b38e24459a49",
       "style": "IPY_MODEL_3d14e5c9c3dd41229563fedcaaef4211",
       "value": true
      }
     },
     "b302f26f3e264594a7f24b40270c6fb6": {
      "model_module": "@jupyter-widgets/controls",
      "model_module_version": "1.5.0",
      "model_name": "DescriptionStyleModel",
      "state": {
       "description_width": ""
      }
     },
     "b327f705f33f470e9076d9d93d77cc7f": {
      "model_module": "@jupyter-widgets/base",
      "model_module_version": "1.2.0",
      "model_name": "LayoutModel",
      "state": {}
     },
     "b35021f5ce9f4360b3bad85f0ed98fd8": {
      "model_module": "@jupyter-widgets/base",
      "model_module_version": "1.2.0",
      "model_name": "LayoutModel",
      "state": {}
     },
     "b355666891cc4891ace7a36623bd656f": {
      "model_module": "@jupyter-widgets/controls",
      "model_module_version": "1.5.0",
      "model_name": "DescriptionStyleModel",
      "state": {
       "description_width": ""
      }
     },
     "b381cb819e81418386d9b347d08d61d7": {
      "model_module": "@jupyter-widgets/controls",
      "model_module_version": "1.5.0",
      "model_name": "DescriptionStyleModel",
      "state": {
       "description_width": ""
      }
     },
     "b3b73fc5d62343638389e9674d5906a0": {
      "model_module": "@jupyter-widgets/controls",
      "model_module_version": "1.5.0",
      "model_name": "CheckboxModel",
      "state": {
       "description": "Script_2",
       "disabled": false,
       "layout": "IPY_MODEL_9571a996653f4f85b8d4b7da5c74455d",
       "style": "IPY_MODEL_ca93c229bf154a0db573d830912accb2",
       "value": false
      }
     },
     "b3bd0691d94641f5b5a1c91e14f4dd63": {
      "model_module": "@jupyter-widgets/controls",
      "model_module_version": "1.5.0",
      "model_name": "DescriptionStyleModel",
      "state": {
       "description_width": ""
      }
     },
     "b424ade890074f508c6add9cbb7fe505": {
      "model_module": "@jupyter-widgets/base",
      "model_module_version": "1.2.0",
      "model_name": "LayoutModel",
      "state": {}
     },
     "b4d44d94749a453085a474eee0623171": {
      "model_module": "@jupyter-widgets/base",
      "model_module_version": "1.2.0",
      "model_name": "LayoutModel",
      "state": {}
     },
     "b51be4fb189e4bcf92ed1b756f19d9fd": {
      "model_module": "@jupyter-widgets/base",
      "model_module_version": "1.2.0",
      "model_name": "LayoutModel",
      "state": {}
     },
     "b53c062d0f9f4b729b29781d97994bd3": {
      "model_module": "@jupyter-widgets/base",
      "model_module_version": "1.2.0",
      "model_name": "LayoutModel",
      "state": {}
     },
     "b647f911fa2643cb9f0f64c8343cc3d2": {
      "model_module": "@jupyter-widgets/base",
      "model_module_version": "1.2.0",
      "model_name": "LayoutModel",
      "state": {}
     },
     "b6810edc2ed1455cb6b194cc965875c2": {
      "model_module": "@jupyter-widgets/base",
      "model_module_version": "1.2.0",
      "model_name": "LayoutModel",
      "state": {}
     },
     "b689d2a6fd3f41a893df70f8d03760af": {
      "model_module": "@jupyter-widgets/controls",
      "model_module_version": "1.5.0",
      "model_name": "CheckboxModel",
      "state": {
       "description": "CH_15",
       "disabled": false,
       "layout": "IPY_MODEL_5a50ad07570d4a4692a212c2392e2f1f",
       "style": "IPY_MODEL_63107d16e54b4c98b9ec30e969275d8c",
       "value": true
      }
     },
     "b760aad296ea448494a4e71ebe334465": {
      "model_module": "@jupyter-widgets/base",
      "model_module_version": "1.2.0",
      "model_name": "LayoutModel",
      "state": {}
     },
     "b7783def7df344f0bf8fd372ef79772c": {
      "model_module": "@jupyter-widgets/controls",
      "model_module_version": "1.5.0",
      "model_name": "DescriptionStyleModel",
      "state": {
       "description_width": ""
      }
     },
     "b78308f1720d445a9ab9280644d0d812": {
      "model_module": "@jupyter-widgets/controls",
      "model_module_version": "1.5.0",
      "model_name": "CheckboxModel",
      "state": {
       "description": "Mode_Manual_Control",
       "disabled": false,
       "layout": "IPY_MODEL_733bd7ee02fa47aeb8497a1dfcb4e163",
       "style": "IPY_MODEL_19951773a9ca403b9a663f1555d97f23",
       "value": true
      }
     },
     "b7c5ef8053604657b300d116dbf0b479": {
      "model_module": "@jupyter-widgets/controls",
      "model_module_version": "1.5.0",
      "model_name": "CheckboxModel",
      "state": {
       "description": "CH_9",
       "disabled": false,
       "layout": "IPY_MODEL_7b18c3a562c640deae2d2c03a19e54b4",
       "style": "IPY_MODEL_550af1b9c6224c419f50a67af136b7eb",
       "value": false
      }
     },
     "b82c1cbe6d6342c39138ea6a9d933247": {
      "model_module": "@jupyter-widgets/controls",
      "model_module_version": "1.5.0",
      "model_name": "DescriptionStyleModel",
      "state": {
       "description_width": ""
      }
     },
     "b87a6f51e735428bba3bdffab4b07585": {
      "model_module": "@jupyter-widgets/controls",
      "model_module_version": "1.5.0",
      "model_name": "DescriptionStyleModel",
      "state": {
       "description_width": ""
      }
     },
     "b87bccb672c44c30bf3777c5000af22b": {
      "model_module": "@jupyter-widgets/base",
      "model_module_version": "1.2.0",
      "model_name": "LayoutModel",
      "state": {}
     },
     "b8a8905596ed46d1b616d756ee9feb00": {
      "model_module": "@jupyter-widgets/base",
      "model_module_version": "1.2.0",
      "model_name": "LayoutModel",
      "state": {}
     },
     "b8cf2543209949b9a230533247f590f1": {
      "model_module": "@jupyter-widgets/controls",
      "model_module_version": "1.5.0",
      "model_name": "DescriptionStyleModel",
      "state": {
       "description_width": ""
      }
     },
     "b8d503e8c086458e89dcbab994483940": {
      "model_module": "@jupyter-widgets/controls",
      "model_module_version": "1.5.0",
      "model_name": "CheckboxModel",
      "state": {
       "description": "Script_3",
       "disabled": false,
       "layout": "IPY_MODEL_7b2305a4743f47388864a73d40272650",
       "style": "IPY_MODEL_1a1cecd301da4c5f905d80a80080e82c",
       "value": false
      }
     },
     "b915a9e1dbc54441ba8f2200d30516c8": {
      "model_module": "@jupyter-widgets/controls",
      "model_module_version": "1.5.0",
      "model_name": "CheckboxModel",
      "state": {
       "description": "CH_2",
       "disabled": false,
       "layout": "IPY_MODEL_d0c3a4bdb4c544ffbee6ed9e899666e8",
       "style": "IPY_MODEL_6b3150f88415474abe064dc7bda97d36",
       "value": false
      }
     },
     "b969aa0baad6412f91df0fea616d2efb": {
      "model_module": "@jupyter-widgets/controls",
      "model_module_version": "1.5.0",
      "model_name": "CheckboxModel",
      "state": {
       "description": "CH_15",
       "disabled": false,
       "layout": "IPY_MODEL_dd4d0f58ae734750a295b85d30175cc2",
       "style": "IPY_MODEL_56cb7f181c0e4b258194c2cefd666ad7",
       "value": true
      }
     },
     "b97a340a64774ba680a20f3f4f1a8008": {
      "model_module": "@jupyter-widgets/controls",
      "model_module_version": "1.5.0",
      "model_name": "DescriptionStyleModel",
      "state": {
       "description_width": ""
      }
     },
     "b9a3a31fb38943ab9c0b9bad8283119d": {
      "model_module": "@jupyter-widgets/controls",
      "model_module_version": "1.5.0",
      "model_name": "CheckboxModel",
      "state": {
       "description": "OPEN_CH_all",
       "disabled": false,
       "layout": "IPY_MODEL_1be06af71d0d42bbad53cb6312c2ce52",
       "style": "IPY_MODEL_f51ece7e4a834c649bcf99dcfa5488a9",
       "value": true
      }
     },
     "b9e164097fc548408339dec616ca653f": {
      "model_module": "@jupyter-widgets/base",
      "model_module_version": "1.2.0",
      "model_name": "LayoutModel",
      "state": {}
     },
     "ba9737ecd5634bfeb907763cab155356": {
      "model_module": "@jupyter-widgets/controls",
      "model_module_version": "1.5.0",
      "model_name": "CheckboxModel",
      "state": {
       "description": "CLOSE_CH_all",
       "disabled": false,
       "layout": "IPY_MODEL_7f40466af2c44238992351b5d94ee768",
       "style": "IPY_MODEL_621ad9139fce47579de6851555d4f607",
       "value": false
      }
     },
     "bab492725d06489fb5cfe8204efb294d": {
      "model_module": "@jupyter-widgets/controls",
      "model_module_version": "1.5.0",
      "model_name": "DescriptionStyleModel",
      "state": {
       "description_width": ""
      }
     },
     "baf7097663db4532be21c9adfe30e5cb": {
      "model_module": "@jupyter-widgets/controls",
      "model_module_version": "1.5.0",
      "model_name": "DescriptionStyleModel",
      "state": {
       "description_width": ""
      }
     },
     "baf98531e714440aba349e46d76c401b": {
      "model_module": "@jupyter-widgets/controls",
      "model_module_version": "1.5.0",
      "model_name": "DescriptionStyleModel",
      "state": {
       "description_width": ""
      }
     },
     "bb1a376c55d8465fb86a3e070202588c": {
      "model_module": "@jupyter-widgets/controls",
      "model_module_version": "1.5.0",
      "model_name": "CheckboxModel",
      "state": {
       "description": "CH_2",
       "disabled": false,
       "layout": "IPY_MODEL_dc8486d38fe2474f92f2796636db9cb5",
       "style": "IPY_MODEL_7224d2fdc4934c339f96f8a30d41f79f",
       "value": true
      }
     },
     "bb5983d2445941d0ae07282620767da0": {
      "model_module": "@jupyter-widgets/controls",
      "model_module_version": "1.5.0",
      "model_name": "CheckboxModel",
      "state": {
       "description": "CH_4",
       "disabled": false,
       "layout": "IPY_MODEL_aab8c8127e5240598c8e5ed9e9b5cedc",
       "style": "IPY_MODEL_70544b2921de4800927a069482e42b20",
       "value": false
      }
     },
     "bb5ffe48e98945c2bb830856941fa642": {
      "model_module": "@jupyter-widgets/base",
      "model_module_version": "1.2.0",
      "model_name": "LayoutModel",
      "state": {}
     },
     "bb664f86639e4be19b0ec6f7f651c1c1": {
      "model_module": "@jupyter-widgets/controls",
      "model_module_version": "1.5.0",
      "model_name": "DescriptionStyleModel",
      "state": {
       "description_width": ""
      }
     },
     "bb770503b3a941c0ac581a961aed0e2d": {
      "model_module": "@jupyter-widgets/controls",
      "model_module_version": "1.5.0",
      "model_name": "DescriptionStyleModel",
      "state": {
       "description_width": ""
      }
     },
     "bb980d0c2ee0487bafc554bf8823ba49": {
      "model_module": "@jupyter-widgets/base",
      "model_module_version": "1.2.0",
      "model_name": "LayoutModel",
      "state": {}
     },
     "bba516b45e0c4fd4bdcf4b136bcf63fc": {
      "model_module": "@jupyter-widgets/controls",
      "model_module_version": "1.5.0",
      "model_name": "DescriptionStyleModel",
      "state": {
       "description_width": ""
      }
     },
     "bbaec743861f4331816c2702f4b8c1b7": {
      "model_module": "@jupyter-widgets/controls",
      "model_module_version": "1.5.0",
      "model_name": "CheckboxModel",
      "state": {
       "description": "CH_11",
       "disabled": false,
       "layout": "IPY_MODEL_074e67b8d3e645dfba016fc6a2c8e977",
       "style": "IPY_MODEL_6aba361089d149c6a9ee9d8290f142c8",
       "value": false
      }
     },
     "bbaf365e1f584401bd4c7e99db13b2f3": {
      "model_module": "@jupyter-widgets/controls",
      "model_module_version": "1.5.0",
      "model_name": "CheckboxModel",
      "state": {
       "description": "Script_3",
       "disabled": false,
       "layout": "IPY_MODEL_537272e4bada4dc38397a8330c984876",
       "style": "IPY_MODEL_1467164d0e274c14ad0f57910595788b",
       "value": false
      }
     },
     "bbd68d718f3b444f936c98c75a8db888": {
      "model_module": "@jupyter-widgets/controls",
      "model_module_version": "1.5.0",
      "model_name": "DescriptionStyleModel",
      "state": {
       "description_width": ""
      }
     },
     "bbec5c02177d43afac4a31ce3b77186f": {
      "model_module": "@jupyter-widgets/controls",
      "model_module_version": "1.5.0",
      "model_name": "DescriptionStyleModel",
      "state": {
       "description_width": ""
      }
     },
     "bbf567b604b34136b8ee50a22f66f166": {
      "model_module": "@jupyter-widgets/controls",
      "model_module_version": "1.5.0",
      "model_name": "CheckboxModel",
      "state": {
       "description": "Mode_Run_Saved_Scripts",
       "disabled": false,
       "layout": "IPY_MODEL_593545d7e0cc43d9903b1c7551244417",
       "style": "IPY_MODEL_af1f1228ad1145bba85d28e52406f09a",
       "value": false
      }
     },
     "bc0d131eed4e43abbb2f70b654e9ceb0": {
      "model_module": "@jupyter-widgets/controls",
      "model_module_version": "1.5.0",
      "model_name": "CheckboxModel",
      "state": {
       "description": "CH_14",
       "disabled": false,
       "layout": "IPY_MODEL_46616a1c02ef43758d5e635f42ecc213",
       "style": "IPY_MODEL_b381cb819e81418386d9b347d08d61d7",
       "value": false
      }
     },
     "bc4e1391cac941dda66b14ca7c7a24c4": {
      "model_module": "@jupyter-widgets/controls",
      "model_module_version": "1.5.0",
      "model_name": "DescriptionStyleModel",
      "state": {
       "description_width": ""
      }
     },
     "bcfc77a9609046239c105eaf5399131c": {
      "model_module": "@jupyter-widgets/controls",
      "model_module_version": "1.5.0",
      "model_name": "DescriptionStyleModel",
      "state": {
       "description_width": ""
      }
     },
     "bd268642165341d1a83c387acea5013f": {
      "model_module": "@jupyter-widgets/controls",
      "model_module_version": "1.5.0",
      "model_name": "DescriptionStyleModel",
      "state": {
       "description_width": ""
      }
     },
     "bd62493daccc43379e7375f0e17f1794": {
      "model_module": "@jupyter-widgets/controls",
      "model_module_version": "1.5.0",
      "model_name": "CheckboxModel",
      "state": {
       "description": "Mode_Load_Remote_Scripts",
       "disabled": false,
       "layout": "IPY_MODEL_dfc69ff519e2423cb5fb1e6b50080166",
       "style": "IPY_MODEL_f07a8f2c0a0c4e1981dcecaede518f79",
       "value": false
      }
     },
     "bd6dcf9e1e8348d3917fffee44843cb2": {
      "model_module": "@jupyter-widgets/controls",
      "model_module_version": "1.5.0",
      "model_name": "DescriptionStyleModel",
      "state": {
       "description_width": ""
      }
     },
     "bd8de2a7fe354a99b469b2cdb4f961e7": {
      "model_module": "@jupyter-widgets/controls",
      "model_module_version": "1.5.0",
      "model_name": "DescriptionStyleModel",
      "state": {
       "description_width": ""
      }
     },
     "bda23296c071440094683e01b91b387b": {
      "model_module": "@jupyter-widgets/controls",
      "model_module_version": "1.5.0",
      "model_name": "DescriptionStyleModel",
      "state": {
       "description_width": ""
      }
     },
     "bdd78b4ac3c54dff924a106cd8414746": {
      "model_module": "@jupyter-widgets/base",
      "model_module_version": "1.2.0",
      "model_name": "LayoutModel",
      "state": {}
     },
     "be10a42cd14e4f2fa9bb7bcd9b50b531": {
      "model_module": "@jupyter-widgets/controls",
      "model_module_version": "1.5.0",
      "model_name": "DescriptionStyleModel",
      "state": {
       "description_width": ""
      }
     },
     "be7164a3143d4b1eaff567f6d1cac9ca": {
      "model_module": "@jupyter-widgets/base",
      "model_module_version": "1.2.0",
      "model_name": "LayoutModel",
      "state": {}
     },
     "bed0e7c7b007492e880729901694976a": {
      "model_module": "@jupyter-widgets/base",
      "model_module_version": "1.2.0",
      "model_name": "LayoutModel",
      "state": {}
     },
     "bef83a056b7340f98bed9da44e16336b": {
      "model_module": "@jupyter-widgets/controls",
      "model_module_version": "1.5.0",
      "model_name": "CheckboxModel",
      "state": {
       "description": "Script_2",
       "disabled": false,
       "layout": "IPY_MODEL_496153614a8440f599ab51cc5f5136ab",
       "style": "IPY_MODEL_6829d7b6859543e68671ee200a0dcc8a",
       "value": false
      }
     },
     "bf611679dbb24464a982db887a3fef65": {
      "model_module": "@jupyter-widgets/base",
      "model_module_version": "1.2.0",
      "model_name": "LayoutModel",
      "state": {}
     },
     "bf838b03f90d47a28a160a97cf4ca232": {
      "model_module": "@jupyter-widgets/controls",
      "model_module_version": "1.5.0",
      "model_name": "DescriptionStyleModel",
      "state": {
       "description_width": ""
      }
     },
     "bfc3106a71a84ab5a8a6087bab664756": {
      "model_module": "@jupyter-widgets/base",
      "model_module_version": "1.2.0",
      "model_name": "LayoutModel",
      "state": {}
     },
     "bff4b982e611425a98d9454171e3ad12": {
      "model_module": "@jupyter-widgets/controls",
      "model_module_version": "1.5.0",
      "model_name": "DescriptionStyleModel",
      "state": {
       "description_width": ""
      }
     },
     "c00607d38a0147b887125534d4136f38": {
      "model_module": "@jupyter-widgets/controls",
      "model_module_version": "1.5.0",
      "model_name": "DescriptionStyleModel",
      "state": {
       "description_width": ""
      }
     },
     "c01ed1406afe42958b7d8b24cad03394": {
      "model_module": "@jupyter-widgets/base",
      "model_module_version": "1.2.0",
      "model_name": "LayoutModel",
      "state": {}
     },
     "c059f2162be84734bb17b06b318bcd63": {
      "model_module": "@jupyter-widgets/controls",
      "model_module_version": "1.5.0",
      "model_name": "CheckboxModel",
      "state": {
       "description": "CH_3",
       "disabled": false,
       "layout": "IPY_MODEL_5ee64feaa35d4c40a5e1f614dc3642ed",
       "style": "IPY_MODEL_1ea3ef75350f41d4bea710f4ad7094b6",
       "value": true
      }
     },
     "c08248c5d36346208fdccad714a9d3e7": {
      "model_module": "@jupyter-widgets/base",
      "model_module_version": "1.2.0",
      "model_name": "LayoutModel",
      "state": {}
     },
     "c1007cbbba4949efa8e9bdedebbfa7e9": {
      "model_module": "@jupyter-widgets/controls",
      "model_module_version": "1.5.0",
      "model_name": "CheckboxModel",
      "state": {
       "description": "CH_11",
       "disabled": false,
       "layout": "IPY_MODEL_742daa72f1e74efea90d66806dfe245c",
       "style": "IPY_MODEL_ebf4d758f56445908d96ffc930cd2c60",
       "value": true
      }
     },
     "c11d264045454a4aa5401f9d32309a4a": {
      "model_module": "@jupyter-widgets/controls",
      "model_module_version": "1.5.0",
      "model_name": "DescriptionStyleModel",
      "state": {
       "description_width": ""
      }
     },
     "c1621d30edc74b13b7b1d5d4eddc041c": {
      "model_module": "@jupyter-widgets/controls",
      "model_module_version": "1.5.0",
      "model_name": "DescriptionStyleModel",
      "state": {
       "description_width": ""
      }
     },
     "c192c355606043adb661e9b377f51e80": {
      "model_module": "@jupyter-widgets/controls",
      "model_module_version": "1.5.0",
      "model_name": "CheckboxModel",
      "state": {
       "description": "CH_12",
       "disabled": false,
       "layout": "IPY_MODEL_c85eeada0e144af89e4417ca4b5d04d5",
       "style": "IPY_MODEL_f1e8a0063f5c4e3eb55c6d0217d0337b",
       "value": false
      }
     },
     "c1eca20111bd483cb6a55325f026b713": {
      "model_module": "@jupyter-widgets/controls",
      "model_module_version": "1.5.0",
      "model_name": "DescriptionStyleModel",
      "state": {
       "description_width": ""
      }
     },
     "c224537fb8b04a5f86408715fe0a1bb3": {
      "model_module": "@jupyter-widgets/controls",
      "model_module_version": "1.5.0",
      "model_name": "DescriptionStyleModel",
      "state": {
       "description_width": ""
      }
     },
     "c253691a8cd0420d9af217e7b77a12e4": {
      "model_module": "@jupyter-widgets/controls",
      "model_module_version": "1.5.0",
      "model_name": "DescriptionStyleModel",
      "state": {
       "description_width": ""
      }
     },
     "c2641ea062ef4f228c2302c365d50cad": {
      "model_module": "@jupyter-widgets/controls",
      "model_module_version": "1.5.0",
      "model_name": "DescriptionStyleModel",
      "state": {
       "description_width": ""
      }
     },
     "c35ee11a61234fbeb2f9e34aa9bc7200": {
      "model_module": "@jupyter-widgets/controls",
      "model_module_version": "1.5.0",
      "model_name": "CheckboxModel",
      "state": {
       "description": "CH_14",
       "disabled": false,
       "layout": "IPY_MODEL_9429e632347d4226836c0059dfb51c3a",
       "style": "IPY_MODEL_3127bd727fc84cb3b9b84abacbd156f4",
       "value": false
      }
     },
     "c36aa424dd1a481b9ec5f675f22aefe2": {
      "model_module": "@jupyter-widgets/base",
      "model_module_version": "1.2.0",
      "model_name": "LayoutModel",
      "state": {}
     },
     "c3a6c36e967448b99daf3448976b2dd6": {
      "model_module": "@jupyter-widgets/base",
      "model_module_version": "1.2.0",
      "model_name": "LayoutModel",
      "state": {}
     },
     "c3f7e76ebf574b6baaa828145cf10390": {
      "model_module": "@jupyter-widgets/controls",
      "model_module_version": "1.5.0",
      "model_name": "DescriptionStyleModel",
      "state": {
       "description_width": ""
      }
     },
     "c435b8440f7043a0a5169f0ffc99b2cc": {
      "model_module": "@jupyter-widgets/controls",
      "model_module_version": "1.5.0",
      "model_name": "CheckboxModel",
      "state": {
       "description": "CH_2",
       "disabled": false,
       "layout": "IPY_MODEL_318a529e90ca4308b466adc225e28091",
       "style": "IPY_MODEL_da076dbedeb449398660846422ba6e08",
       "value": true
      }
     },
     "c48a810972bd4074a9dc83f58de074ab": {
      "model_module": "@jupyter-widgets/controls",
      "model_module_version": "1.5.0",
      "model_name": "DescriptionStyleModel",
      "state": {
       "description_width": ""
      }
     },
     "c501432e82a948fabfdf9ca795de9f0a": {
      "model_module": "@jupyter-widgets/controls",
      "model_module_version": "1.5.0",
      "model_name": "DescriptionStyleModel",
      "state": {
       "description_width": ""
      }
     },
     "c50d20fd39934d5eb84d3b2facafb4ab": {
      "model_module": "@jupyter-widgets/base",
      "model_module_version": "1.2.0",
      "model_name": "LayoutModel",
      "state": {}
     },
     "c51d0d4591f14122b57b9a04125fa20a": {
      "model_module": "@jupyter-widgets/controls",
      "model_module_version": "1.5.0",
      "model_name": "CheckboxModel",
      "state": {
       "description": "CH_13",
       "disabled": false,
       "layout": "IPY_MODEL_de6d246208154cd7b67ed966853f6da4",
       "style": "IPY_MODEL_35c4b8b8c4514d8b914b431cd2bba650",
       "value": true
      }
     },
     "c53dd40253e74f87bff8d61673970f05": {
      "model_module": "@jupyter-widgets/base",
      "model_module_version": "1.2.0",
      "model_name": "LayoutModel",
      "state": {}
     },
     "c5873fe7e94b4753adad15ca22412654": {
      "model_module": "@jupyter-widgets/controls",
      "model_module_version": "1.5.0",
      "model_name": "DescriptionStyleModel",
      "state": {
       "description_width": ""
      }
     },
     "c5a4f6ae082b4bdca34cbfb2899a83b0": {
      "model_module": "@jupyter-widgets/base",
      "model_module_version": "1.2.0",
      "model_name": "LayoutModel",
      "state": {}
     },
     "c5b276fce4e9496b914704b5f0b6e8cf": {
      "model_module": "@jupyter-widgets/controls",
      "model_module_version": "1.5.0",
      "model_name": "DescriptionStyleModel",
      "state": {
       "description_width": ""
      }
     },
     "c5ca974434fd4b328b95c58f61edd43c": {
      "model_module": "@jupyter-widgets/controls",
      "model_module_version": "1.5.0",
      "model_name": "DescriptionStyleModel",
      "state": {
       "description_width": ""
      }
     },
     "c5e02b9203f14d8bb9ad5d483bfb4989": {
      "model_module": "@jupyter-widgets/controls",
      "model_module_version": "1.5.0",
      "model_name": "DescriptionStyleModel",
      "state": {
       "description_width": ""
      }
     },
     "c61209f48b1a47368f628951d4ee8422": {
      "model_module": "@jupyter-widgets/base",
      "model_module_version": "1.2.0",
      "model_name": "LayoutModel",
      "state": {}
     },
     "c623fe1740c6454aa7ac3c4af4387747": {
      "model_module": "@jupyter-widgets/controls",
      "model_module_version": "1.5.0",
      "model_name": "CheckboxModel",
      "state": {
       "description": "CH_8",
       "disabled": false,
       "layout": "IPY_MODEL_aef03465aef54b42bd4dfb2431bf3785",
       "style": "IPY_MODEL_2f34286c5fb6438591692bd1242ddd2a",
       "value": false
      }
     },
     "c64077803f7e48cb915107b9a99041ea": {
      "model_module": "@jupyter-widgets/controls",
      "model_module_version": "1.5.0",
      "model_name": "CheckboxModel",
      "state": {
       "description": "CH_5",
       "disabled": false,
       "layout": "IPY_MODEL_8a28af9f46b140218fbc077d9251114f",
       "style": "IPY_MODEL_3b910265b86245f7b7d417a46ea5c472",
       "value": true
      }
     },
     "c66b0a13c4eb44e6b979df68a621cb36": {
      "model_module": "@jupyter-widgets/base",
      "model_module_version": "1.2.0",
      "model_name": "LayoutModel",
      "state": {}
     },
     "c66e9229c4ed49e48ff2b38e24459a49": {
      "model_module": "@jupyter-widgets/base",
      "model_module_version": "1.2.0",
      "model_name": "LayoutModel",
      "state": {}
     },
     "c6b14580f213484da25c2f34d785298c": {
      "model_module": "@jupyter-widgets/controls",
      "model_module_version": "1.5.0",
      "model_name": "DescriptionStyleModel",
      "state": {
       "description_width": ""
      }
     },
     "c704f211609a4175a69ca9a70da8c822": {
      "model_module": "@jupyter-widgets/base",
      "model_module_version": "1.2.0",
      "model_name": "LayoutModel",
      "state": {}
     },
     "c71c9eec99c14aafbb9f07c1121941f4": {
      "model_module": "@jupyter-widgets/controls",
      "model_module_version": "1.5.0",
      "model_name": "DescriptionStyleModel",
      "state": {
       "description_width": ""
      }
     },
     "c757208e225b46d08d1b945fe3e9204f": {
      "model_module": "@jupyter-widgets/controls",
      "model_module_version": "1.5.0",
      "model_name": "DescriptionStyleModel",
      "state": {
       "description_width": ""
      }
     },
     "c7c8773733e4423eaea8af1ac7bb4c69": {
      "model_module": "@jupyter-widgets/base",
      "model_module_version": "1.2.0",
      "model_name": "LayoutModel",
      "state": {}
     },
     "c7c9bd9782ec4b46b333d756c5264e13": {
      "model_module": "@jupyter-widgets/base",
      "model_module_version": "1.2.0",
      "model_name": "LayoutModel",
      "state": {}
     },
     "c80b75bd05d64526b64fa9139a2eb2ee": {
      "model_module": "@jupyter-widgets/base",
      "model_module_version": "1.2.0",
      "model_name": "LayoutModel",
      "state": {}
     },
     "c85eeada0e144af89e4417ca4b5d04d5": {
      "model_module": "@jupyter-widgets/base",
      "model_module_version": "1.2.0",
      "model_name": "LayoutModel",
      "state": {}
     },
     "c878d7add3324b47a6b80333e74dee71": {
      "model_module": "@jupyter-widgets/base",
      "model_module_version": "1.2.0",
      "model_name": "LayoutModel",
      "state": {}
     },
     "c89a762fed4f4ae489f708bfaa4ff306": {
      "model_module": "@jupyter-widgets/controls",
      "model_module_version": "1.5.0",
      "model_name": "DescriptionStyleModel",
      "state": {
       "description_width": ""
      }
     },
     "c98c71bbd0cf4d38aa6fb7f40134c97d": {
      "model_module": "@jupyter-widgets/controls",
      "model_module_version": "1.5.0",
      "model_name": "CheckboxModel",
      "state": {
       "description": "Mode_Manual_Control",
       "disabled": false,
       "layout": "IPY_MODEL_25a94609c0694b96a540902f4628ec23",
       "style": "IPY_MODEL_2fe2b8daaf2b48909fd2ab803a0857ac",
       "value": true
      }
     },
     "c9d98ad56a4943e096aac8c9a196f5a8": {
      "model_module": "@jupyter-widgets/base",
      "model_module_version": "1.2.0",
      "model_name": "LayoutModel",
      "state": {}
     },
     "ca05e0703b444e2e9e60c8faf509ac3d": {
      "model_module": "@jupyter-widgets/base",
      "model_module_version": "1.2.0",
      "model_name": "LayoutModel",
      "state": {}
     },
     "ca38716061d741ce96506a808196629d": {
      "model_module": "@jupyter-widgets/controls",
      "model_module_version": "1.5.0",
      "model_name": "CheckboxModel",
      "state": {
       "description": "CH_7",
       "disabled": false,
       "layout": "IPY_MODEL_1fe587084cfc4dcfa81b5a0e5641bb21",
       "style": "IPY_MODEL_bd268642165341d1a83c387acea5013f",
       "value": true
      }
     },
     "ca4f55de2fe0469695bd66096c88ac32": {
      "model_module": "@jupyter-widgets/controls",
      "model_module_version": "1.5.0",
      "model_name": "DescriptionStyleModel",
      "state": {
       "description_width": ""
      }
     },
     "ca64988acf58458f81c878b19cc47b79": {
      "model_module": "@jupyter-widgets/controls",
      "model_module_version": "1.5.0",
      "model_name": "DescriptionStyleModel",
      "state": {
       "description_width": ""
      }
     },
     "ca68f91771574842bb48c18bb7e3c740": {
      "model_module": "@jupyter-widgets/controls",
      "model_module_version": "1.5.0",
      "model_name": "CheckboxModel",
      "state": {
       "description": "CH_2",
       "disabled": false,
       "layout": "IPY_MODEL_cf7b7c00da7a4004ab980900e8b7cad1",
       "style": "IPY_MODEL_bcfc77a9609046239c105eaf5399131c",
       "value": true
      }
     },
     "ca6dc49e190e4fa79bd1eb1951b54edd": {
      "model_module": "@jupyter-widgets/controls",
      "model_module_version": "1.5.0",
      "model_name": "CheckboxModel",
      "state": {
       "description": "CH_9",
       "disabled": false,
       "layout": "IPY_MODEL_78c2eaff67364a3d87eb1626c2a13147",
       "style": "IPY_MODEL_3aca3dbab7614b96b29e40eb32798a88",
       "value": false
      }
     },
     "ca6dd6b4ae4b4f0f8e72b765bde50154": {
      "model_module": "@jupyter-widgets/controls",
      "model_module_version": "1.5.0",
      "model_name": "CheckboxModel",
      "state": {
       "description": "Mode_EXIT",
       "disabled": false,
       "layout": "IPY_MODEL_b8a8905596ed46d1b616d756ee9feb00",
       "style": "IPY_MODEL_d4d369885eda4329a1befd803054b138",
       "value": false
      }
     },
     "ca81a2f9cf794f2fa4220f6b5ff66f3a": {
      "model_module": "@jupyter-widgets/base",
      "model_module_version": "1.2.0",
      "model_name": "LayoutModel",
      "state": {}
     },
     "ca93c229bf154a0db573d830912accb2": {
      "model_module": "@jupyter-widgets/controls",
      "model_module_version": "1.5.0",
      "model_name": "DescriptionStyleModel",
      "state": {
       "description_width": ""
      }
     },
     "cb02cce03fed411ba32aa0fe6dd2f847": {
      "model_module": "@jupyter-widgets/controls",
      "model_module_version": "1.5.0",
      "model_name": "DescriptionStyleModel",
      "state": {
       "description_width": ""
      }
     },
     "cb12a06e36cc4d81ac43e15fabf8b060": {
      "model_module": "@jupyter-widgets/controls",
      "model_module_version": "1.5.0",
      "model_name": "CheckboxModel",
      "state": {
       "description": "Mode_Manual_Control",
       "disabled": false,
       "layout": "IPY_MODEL_2f17b4036de84301a4c7b5baa4524712",
       "style": "IPY_MODEL_da9fde0570994cbe84c3b19dc120c93a",
       "value": true
      }
     },
     "cb71c0c72ee94302a7f35fcdc753ceed": {
      "model_module": "@jupyter-widgets/controls",
      "model_module_version": "1.5.0",
      "model_name": "CheckboxModel",
      "state": {
       "description": "CH_9",
       "disabled": false,
       "layout": "IPY_MODEL_c53dd40253e74f87bff8d61673970f05",
       "style": "IPY_MODEL_d2e60ed3b0f84cd385c9534b86feb051",
       "value": false
      }
     },
     "cbb99b15b55747208ca5a8ea5e5565a1": {
      "model_module": "@jupyter-widgets/controls",
      "model_module_version": "1.5.0",
      "model_name": "DescriptionStyleModel",
      "state": {
       "description_width": ""
      }
     },
     "cbe50cbd13214e849b9e98fdf487eab9": {
      "model_module": "@jupyter-widgets/controls",
      "model_module_version": "1.5.0",
      "model_name": "CheckboxModel",
      "state": {
       "description": "OPEN_CH_all",
       "disabled": false,
       "layout": "IPY_MODEL_4723cadf55ce4fb0ac88fa72493602fc",
       "style": "IPY_MODEL_7798e38217654107924aa55f2cfd7d08",
       "value": false
      }
     },
     "cc055b25dd734275b8bc3f0759a5824c": {
      "model_module": "@jupyter-widgets/base",
      "model_module_version": "1.2.0",
      "model_name": "LayoutModel",
      "state": {}
     },
     "cc5db67247dd46b5a40953ff0024d21f": {
      "model_module": "@jupyter-widgets/base",
      "model_module_version": "1.2.0",
      "model_name": "LayoutModel",
      "state": {}
     },
     "cc78354a6a42448f900875b4c4d58cdb": {
      "model_module": "@jupyter-widgets/base",
      "model_module_version": "1.2.0",
      "model_name": "LayoutModel",
      "state": {}
     },
     "cccf8ef8948c4b43834e95f6890abd81": {
      "model_module": "@jupyter-widgets/base",
      "model_module_version": "1.2.0",
      "model_name": "LayoutModel",
      "state": {}
     },
     "ccdd3a82f44a40dba79d3d38d4a10c46": {
      "model_module": "@jupyter-widgets/controls",
      "model_module_version": "1.5.0",
      "model_name": "DescriptionStyleModel",
      "state": {
       "description_width": ""
      }
     },
     "cdcbb9ca1f824dc9b27c56a3903cfd0c": {
      "model_module": "@jupyter-widgets/controls",
      "model_module_version": "1.5.0",
      "model_name": "CheckboxModel",
      "state": {
       "description": "CH_8",
       "disabled": false,
       "layout": "IPY_MODEL_9050e88a7ac64972bdff1c8829f57867",
       "style": "IPY_MODEL_0eb510cd56324d5fb1e23133eabcc4c4",
       "value": false
      }
     },
     "ce7aade852df42e194d08ddd410b0ea3": {
      "model_module": "@jupyter-widgets/base",
      "model_module_version": "1.2.0",
      "model_name": "LayoutModel",
      "state": {}
     },
     "cec5519c3ef84264ac925bb2b995f822": {
      "model_module": "@jupyter-widgets/controls",
      "model_module_version": "1.5.0",
      "model_name": "CheckboxModel",
      "state": {
       "description": "Mode_Run_Saved_Scripts",
       "disabled": false,
       "layout": "IPY_MODEL_22a8133053e14003a15c4979f54b379d",
       "style": "IPY_MODEL_53ee80dfad424348a2a4d010bbd83e53",
       "value": false
      }
     },
     "cf0a8b4b79db4e67b02b7e1930241935": {
      "model_module": "@jupyter-widgets/controls",
      "model_module_version": "1.5.0",
      "model_name": "DescriptionStyleModel",
      "state": {
       "description_width": ""
      }
     },
     "cf4aac8c06cb4ee2a61d498e17f35d42": {
      "model_module": "@jupyter-widgets/controls",
      "model_module_version": "1.5.0",
      "model_name": "CheckboxModel",
      "state": {
       "description": "CH_3",
       "disabled": false,
       "layout": "IPY_MODEL_f452d1a44ea84cf6a458fe54c3aca1a9",
       "style": "IPY_MODEL_38f1cb481b11419284e2817667dc58b1",
       "value": true
      }
     },
     "cf655e4bf75d4023b1d2ea819b6e436c": {
      "model_module": "@jupyter-widgets/controls",
      "model_module_version": "1.5.0",
      "model_name": "CheckboxModel",
      "state": {
       "description": "CH_13",
       "disabled": false,
       "layout": "IPY_MODEL_105cb0a32e6a4ef0b253892f8b8df364",
       "style": "IPY_MODEL_8d3a91c72dbf45f4bb50c133c8531ffd",
       "value": false
      }
     },
     "cf6df047aa664aeabffba541c02484c9": {
      "model_module": "@jupyter-widgets/controls",
      "model_module_version": "1.5.0",
      "model_name": "CheckboxModel",
      "state": {
       "description": "Mode_Run_Saved_Scripts",
       "disabled": false,
       "layout": "IPY_MODEL_8919869f4513432da1ed979e82e0fac7",
       "style": "IPY_MODEL_7a29a87e52774f6182e91628ea2a21cc",
       "value": false
      }
     },
     "cf72bfce6fc947159f5420f145576f60": {
      "model_module": "@jupyter-widgets/base",
      "model_module_version": "1.2.0",
      "model_name": "LayoutModel",
      "state": {}
     },
     "cf7b7c00da7a4004ab980900e8b7cad1": {
      "model_module": "@jupyter-widgets/base",
      "model_module_version": "1.2.0",
      "model_name": "LayoutModel",
      "state": {}
     },
     "cfa668b8ddf042bf92bec9e8d21f5aa3": {
      "model_module": "@jupyter-widgets/controls",
      "model_module_version": "1.5.0",
      "model_name": "DescriptionStyleModel",
      "state": {
       "description_width": ""
      }
     },
     "cfbdd16c397f4653b8ef3ec3a0c557ef": {
      "model_module": "@jupyter-widgets/controls",
      "model_module_version": "1.5.0",
      "model_name": "CheckboxModel",
      "state": {
       "description": "CH_2",
       "disabled": false,
       "layout": "IPY_MODEL_41a54f7f5e354830a0d2c18e99f5bbe1",
       "style": "IPY_MODEL_93f4a1e0ea9243aab6ed18f5c2d01a0d",
       "value": false
      }
     },
     "d0088547dc314ae39295110bf1385067": {
      "model_module": "@jupyter-widgets/controls",
      "model_module_version": "1.5.0",
      "model_name": "DescriptionStyleModel",
      "state": {
       "description_width": ""
      }
     },
     "d00c7489311b47aeb9858e936dda56d4": {
      "model_module": "@jupyter-widgets/base",
      "model_module_version": "1.2.0",
      "model_name": "LayoutModel",
      "state": {}
     },
     "d019081c7c4143cb9e5982fd2941a751": {
      "model_module": "@jupyter-widgets/controls",
      "model_module_version": "1.5.0",
      "model_name": "CheckboxModel",
      "state": {
       "description": "CH_5",
       "disabled": false,
       "layout": "IPY_MODEL_4a092c3c0bb9428c9142bb56d49b0f21",
       "style": "IPY_MODEL_7b7f190f87cd4b798f1335364cc9c4a7",
       "value": false
      }
     },
     "d01bb32b30fb4bb88194122a54878394": {
      "model_module": "@jupyter-widgets/controls",
      "model_module_version": "1.5.0",
      "model_name": "DescriptionStyleModel",
      "state": {
       "description_width": ""
      }
     },
     "d06b460ca45f46fdb89eee72fd0171b3": {
      "model_module": "@jupyter-widgets/base",
      "model_module_version": "1.2.0",
      "model_name": "LayoutModel",
      "state": {}
     },
     "d073e60eaa02470eafc975b8bc0d14a5": {
      "model_module": "@jupyter-widgets/controls",
      "model_module_version": "1.5.0",
      "model_name": "DescriptionStyleModel",
      "state": {
       "description_width": ""
      }
     },
     "d077511445e34aa1b1a03df178a9d9cd": {
      "model_module": "@jupyter-widgets/base",
      "model_module_version": "1.2.0",
      "model_name": "LayoutModel",
      "state": {}
     },
     "d083f1c70d7b4056923e05e1ed2a9bfe": {
      "model_module": "@jupyter-widgets/controls",
      "model_module_version": "1.5.0",
      "model_name": "DescriptionStyleModel",
      "state": {
       "description_width": ""
      }
     },
     "d085b3841b2947c093c3e912d2055d12": {
      "model_module": "@jupyter-widgets/base",
      "model_module_version": "1.2.0",
      "model_name": "LayoutModel",
      "state": {}
     },
     "d0c3a4bdb4c544ffbee6ed9e899666e8": {
      "model_module": "@jupyter-widgets/base",
      "model_module_version": "1.2.0",
      "model_name": "LayoutModel",
      "state": {}
     },
     "d0c8767db5d743ea893a963e393fab21": {
      "model_module": "@jupyter-widgets/controls",
      "model_module_version": "1.5.0",
      "model_name": "CheckboxModel",
      "state": {
       "description": "Mode_Load_Remote_Scripts",
       "disabled": false,
       "layout": "IPY_MODEL_fa7c4b0a784d4f35a19d5783e1c4bcf0",
       "style": "IPY_MODEL_1ba9d99ddf0b4237859fab67e6393593",
       "value": false
      }
     },
     "d10786bc43474f728f6f966b31ad2cb7": {
      "model_module": "@jupyter-widgets/controls",
      "model_module_version": "1.5.0",
      "model_name": "DescriptionStyleModel",
      "state": {
       "description_width": ""
      }
     },
     "d13832b22fa842af96c286caa4a8cbc8": {
      "model_module": "@jupyter-widgets/controls",
      "model_module_version": "1.5.0",
      "model_name": "DescriptionStyleModel",
      "state": {
       "description_width": ""
      }
     },
     "d1c13b471bed4d2189f3fa354cc2faec": {
      "model_module": "@jupyter-widgets/base",
      "model_module_version": "1.2.0",
      "model_name": "LayoutModel",
      "state": {}
     },
     "d207f94d49f34134923cc78ba3d3ec4b": {
      "model_module": "@jupyter-widgets/controls",
      "model_module_version": "1.5.0",
      "model_name": "DescriptionStyleModel",
      "state": {
       "description_width": ""
      }
     },
     "d268f79de49c4f1b82b3a65c9900fd14": {
      "model_module": "@jupyter-widgets/base",
      "model_module_version": "1.2.0",
      "model_name": "LayoutModel",
      "state": {}
     },
     "d276838334fe451d87c65714428720f2": {
      "model_module": "@jupyter-widgets/controls",
      "model_module_version": "1.5.0",
      "model_name": "DescriptionStyleModel",
      "state": {
       "description_width": ""
      }
     },
     "d29379e137d14a3c87325082214c23b8": {
      "model_module": "@jupyter-widgets/controls",
      "model_module_version": "1.5.0",
      "model_name": "CheckboxModel",
      "state": {
       "description": "Script_3",
       "disabled": false,
       "layout": "IPY_MODEL_9719062a12804498add8dd5b3b4b9049",
       "style": "IPY_MODEL_4d5cb27db2104d2481238af6a21638ce",
       "value": false
      }
     },
     "d2b5ba138a6c4c6e8cc08839d7b1707b": {
      "model_module": "@jupyter-widgets/controls",
      "model_module_version": "1.5.0",
      "model_name": "DescriptionStyleModel",
      "state": {
       "description_width": ""
      }
     },
     "d2e60ed3b0f84cd385c9534b86feb051": {
      "model_module": "@jupyter-widgets/controls",
      "model_module_version": "1.5.0",
      "model_name": "DescriptionStyleModel",
      "state": {
       "description_width": ""
      }
     },
     "d35c13ec0b4d4442a0059279a3d07e9a": {
      "model_module": "@jupyter-widgets/base",
      "model_module_version": "1.2.0",
      "model_name": "LayoutModel",
      "state": {}
     },
     "d3caa81331bb4a56ac3a5181ccb6f18d": {
      "model_module": "@jupyter-widgets/controls",
      "model_module_version": "1.5.0",
      "model_name": "DescriptionStyleModel",
      "state": {
       "description_width": ""
      }
     },
     "d4d369885eda4329a1befd803054b138": {
      "model_module": "@jupyter-widgets/controls",
      "model_module_version": "1.5.0",
      "model_name": "DescriptionStyleModel",
      "state": {
       "description_width": ""
      }
     },
     "d53be94d0d2248ae9ba3921ea0115090": {
      "model_module": "@jupyter-widgets/base",
      "model_module_version": "1.2.0",
      "model_name": "LayoutModel",
      "state": {}
     },
     "d57808af0b724121af8fe4ae57ecc0b6": {
      "model_module": "@jupyter-widgets/base",
      "model_module_version": "1.2.0",
      "model_name": "LayoutModel",
      "state": {}
     },
     "d58849bc3b65495ea96ba627b38e36aa": {
      "model_module": "@jupyter-widgets/controls",
      "model_module_version": "1.5.0",
      "model_name": "CheckboxModel",
      "state": {
       "description": "CH_6",
       "disabled": false,
       "layout": "IPY_MODEL_7baaa8cb1a384fa7806c3ddd2c7b3c6f",
       "style": "IPY_MODEL_f1dc18a7c71f42838e6c7754c4b43d61",
       "value": false
      }
     },
     "d7683e518a4a4eb1944e0789bd1344ad": {
      "model_module": "@jupyter-widgets/base",
      "model_module_version": "1.2.0",
      "model_name": "LayoutModel",
      "state": {}
     },
     "d81f10f0bbf34afeb095a71f5c472c7e": {
      "model_module": "@jupyter-widgets/controls",
      "model_module_version": "1.5.0",
      "model_name": "CheckboxModel",
      "state": {
       "description": "CH_7",
       "disabled": false,
       "layout": "IPY_MODEL_801f346ecc844f588a06759a62b4d2e7",
       "style": "IPY_MODEL_b7783def7df344f0bf8fd372ef79772c",
       "value": false
      }
     },
     "d832ec565fee4945913d9006a150ba9b": {
      "model_module": "@jupyter-widgets/controls",
      "model_module_version": "1.5.0",
      "model_name": "CheckboxModel",
      "state": {
       "description": "CH_16",
       "disabled": false,
       "layout": "IPY_MODEL_8c4c2d0f4f1d4853a228054ac541255a",
       "style": "IPY_MODEL_906c61f1316347d799471c914779f7aa",
       "value": true
      }
     },
     "d84fe2e5242b460cb71859f2a60e5935": {
      "model_module": "@jupyter-widgets/base",
      "model_module_version": "1.2.0",
      "model_name": "LayoutModel",
      "state": {}
     },
     "d858b66082114a8d95e8a1c4cddc02cf": {
      "model_module": "@jupyter-widgets/controls",
      "model_module_version": "1.5.0",
      "model_name": "CheckboxModel",
      "state": {
       "description": "OPEN_CH_all",
       "disabled": false,
       "layout": "IPY_MODEL_f96b554df26945adb7f98000d5d6b89d",
       "style": "IPY_MODEL_d89ed4be58d941ab9c38a55b5500086e",
       "value": false
      }
     },
     "d89ed4be58d941ab9c38a55b5500086e": {
      "model_module": "@jupyter-widgets/controls",
      "model_module_version": "1.5.0",
      "model_name": "DescriptionStyleModel",
      "state": {
       "description_width": ""
      }
     },
     "d8a3c6a4aef74a41a1e73f39c1747481": {
      "model_module": "@jupyter-widgets/controls",
      "model_module_version": "1.5.0",
      "model_name": "CheckboxModel",
      "state": {
       "description": "Mode_Manual_Control",
       "disabled": false,
       "layout": "IPY_MODEL_c9d98ad56a4943e096aac8c9a196f5a8",
       "style": "IPY_MODEL_4c55e9f15c6e4f14b4de63644a98580c",
       "value": true
      }
     },
     "d8cf5a648ebf415ab20eba44ce8560fd": {
      "model_module": "@jupyter-widgets/controls",
      "model_module_version": "1.5.0",
      "model_name": "CheckboxModel",
      "state": {
       "description": "CH_12",
       "disabled": false,
       "layout": "IPY_MODEL_908ab2c037f5408dbee11251e359d938",
       "style": "IPY_MODEL_63034f9fe3f54a6d815202c3264b5782",
       "value": false
      }
     },
     "d8f3055559fd4175a26bb6fffe08e6eb": {
      "model_module": "@jupyter-widgets/base",
      "model_module_version": "1.2.0",
      "model_name": "LayoutModel",
      "state": {}
     },
     "d91f16b344c243c1b0ae552e4da7948c": {
      "model_module": "@jupyter-widgets/base",
      "model_module_version": "1.2.0",
      "model_name": "LayoutModel",
      "state": {}
     },
     "d97ca37697264288a5e0102a99763337": {
      "model_module": "@jupyter-widgets/controls",
      "model_module_version": "1.5.0",
      "model_name": "DescriptionStyleModel",
      "state": {
       "description_width": ""
      }
     },
     "da076dbedeb449398660846422ba6e08": {
      "model_module": "@jupyter-widgets/controls",
      "model_module_version": "1.5.0",
      "model_name": "DescriptionStyleModel",
      "state": {
       "description_width": ""
      }
     },
     "da0b9ed9dcf6490a91cbc481fc883626": {
      "model_module": "@jupyter-widgets/controls",
      "model_module_version": "1.5.0",
      "model_name": "DescriptionStyleModel",
      "state": {
       "description_width": ""
      }
     },
     "da95595132554fe1b268b09181c86691": {
      "model_module": "@jupyter-widgets/base",
      "model_module_version": "1.2.0",
      "model_name": "LayoutModel",
      "state": {}
     },
     "da9fde0570994cbe84c3b19dc120c93a": {
      "model_module": "@jupyter-widgets/controls",
      "model_module_version": "1.5.0",
      "model_name": "DescriptionStyleModel",
      "state": {
       "description_width": ""
      }
     },
     "daaf952aaf7347ceba34fa02bbcb30a3": {
      "model_module": "@jupyter-widgets/base",
      "model_module_version": "1.2.0",
      "model_name": "LayoutModel",
      "state": {}
     },
     "dab6d2b5f8d04315868f34a873c4c4d8": {
      "model_module": "@jupyter-widgets/controls",
      "model_module_version": "1.5.0",
      "model_name": "CheckboxModel",
      "state": {
       "description": "CH_4",
       "disabled": false,
       "layout": "IPY_MODEL_2cab69003d2246c0a960c8ac8853be97",
       "style": "IPY_MODEL_9e64bcf51b2f4fcfa63ebbdc8212ccf1",
       "value": false
      }
     },
     "dae08bfe2042437990206825bba0ccd7": {
      "model_module": "@jupyter-widgets/controls",
      "model_module_version": "1.5.0",
      "model_name": "DescriptionStyleModel",
      "state": {
       "description_width": ""
      }
     },
     "daf1715a09e640f890bc35ef4657b1da": {
      "model_module": "@jupyter-widgets/base",
      "model_module_version": "1.2.0",
      "model_name": "LayoutModel",
      "state": {}
     },
     "dafeb0f72d6e42419f61121689e548d4": {
      "model_module": "@jupyter-widgets/controls",
      "model_module_version": "1.5.0",
      "model_name": "CheckboxModel",
      "state": {
       "description": "CH_9",
       "disabled": false,
       "layout": "IPY_MODEL_c61209f48b1a47368f628951d4ee8422",
       "style": "IPY_MODEL_6ecbcb2871174b67b6110ff18120982c",
       "value": false
      }
     },
     "db0d1a41ad0247c19ca5f8195df6640a": {
      "model_module": "@jupyter-widgets/controls",
      "model_module_version": "1.5.0",
      "model_name": "CheckboxModel",
      "state": {
       "description": "CH_2",
       "disabled": false,
       "layout": "IPY_MODEL_e53e37c90d3543f0818726e03326c044",
       "style": "IPY_MODEL_48a1fd0045e545c68e9f9054489fc9fa",
       "value": false
      }
     },
     "db862dd959b04cffa2a7268a30d428e6": {
      "model_module": "@jupyter-widgets/controls",
      "model_module_version": "1.5.0",
      "model_name": "CheckboxModel",
      "state": {
       "description": "CH_3",
       "disabled": false,
       "layout": "IPY_MODEL_10c8034015f645d8b731d26b118e8255",
       "style": "IPY_MODEL_8caafbdf404b4d0daa4fa276aa29f223",
       "value": false
      }
     },
     "dbc476ffb63a4ad9b5b0032e752e4505": {
      "model_module": "@jupyter-widgets/base",
      "model_module_version": "1.2.0",
      "model_name": "LayoutModel",
      "state": {}
     },
     "dc8486d38fe2474f92f2796636db9cb5": {
      "model_module": "@jupyter-widgets/base",
      "model_module_version": "1.2.0",
      "model_name": "LayoutModel",
      "state": {}
     },
     "dc917213995c465f9e938402ea1c903f": {
      "model_module": "@jupyter-widgets/controls",
      "model_module_version": "1.5.0",
      "model_name": "CheckboxModel",
      "state": {
       "description": "Script_2",
       "disabled": false,
       "layout": "IPY_MODEL_ee27c8d7d4dc4fc4b36d96ea19c6ff39",
       "style": "IPY_MODEL_8a8317cd9216498d9618669a350edca5",
       "value": false
      }
     },
     "dd121639e4b94cbc803b70bbef3424ae": {
      "model_module": "@jupyter-widgets/base",
      "model_module_version": "1.2.0",
      "model_name": "LayoutModel",
      "state": {}
     },
     "dd3a3d7473444800962e952a3e6c9467": {
      "model_module": "@jupyter-widgets/controls",
      "model_module_version": "1.5.0",
      "model_name": "CheckboxModel",
      "state": {
       "description": "CH_1",
       "disabled": false,
       "layout": "IPY_MODEL_0b59a481d09d46c2a0e0f97e6cbb4884",
       "style": "IPY_MODEL_8a5e136f8e54474d981c146670f1cd9a",
       "value": true
      }
     },
     "dd4d0f58ae734750a295b85d30175cc2": {
      "model_module": "@jupyter-widgets/base",
      "model_module_version": "1.2.0",
      "model_name": "LayoutModel",
      "state": {}
     },
     "ddcd52e46a8041e189726f6317434397": {
      "model_module": "@jupyter-widgets/controls",
      "model_module_version": "1.5.0",
      "model_name": "CheckboxModel",
      "state": {
       "description": "Mode_Run_Saved_Scripts",
       "disabled": false,
       "layout": "IPY_MODEL_ca81a2f9cf794f2fa4220f6b5ff66f3a",
       "style": "IPY_MODEL_baf98531e714440aba349e46d76c401b",
       "value": false
      }
     },
     "de4143c589b743e08f891a4e2eebcbe9": {
      "model_module": "@jupyter-widgets/controls",
      "model_module_version": "1.5.0",
      "model_name": "CheckboxModel",
      "state": {
       "description": "CH_1",
       "disabled": false,
       "layout": "IPY_MODEL_d00c7489311b47aeb9858e936dda56d4",
       "style": "IPY_MODEL_d3caa81331bb4a56ac3a5181ccb6f18d",
       "value": false
      }
     },
     "de6d246208154cd7b67ed966853f6da4": {
      "model_module": "@jupyter-widgets/base",
      "model_module_version": "1.2.0",
      "model_name": "LayoutModel",
      "state": {}
     },
     "de9588e2231b4b63a6cdb8c2540d1dc0": {
      "model_module": "@jupyter-widgets/base",
      "model_module_version": "1.2.0",
      "model_name": "LayoutModel",
      "state": {}
     },
     "deb254557c6a4a0c832ea9e9fec847e7": {
      "model_module": "@jupyter-widgets/base",
      "model_module_version": "1.2.0",
      "model_name": "LayoutModel",
      "state": {}
     },
     "defd40ceed914f329b38e6621e256949": {
      "model_module": "@jupyter-widgets/controls",
      "model_module_version": "1.5.0",
      "model_name": "CheckboxModel",
      "state": {
       "description": "CLOSE_CH_all",
       "disabled": false,
       "layout": "IPY_MODEL_fab120f7c21545d49ebec9658719d32d",
       "style": "IPY_MODEL_e30f0b36ce114f3aba2e26ba4871c2f5",
       "value": false
      }
     },
     "df6ec2de2bb24da38bff9b32b81b1676": {
      "model_module": "@jupyter-widgets/base",
      "model_module_version": "1.2.0",
      "model_name": "LayoutModel",
      "state": {}
     },
     "df6fff6d323848b4a8173e18ae9edf75": {
      "model_module": "@jupyter-widgets/base",
      "model_module_version": "1.2.0",
      "model_name": "LayoutModel",
      "state": {}
     },
     "dfa746279a644e1f81a7f2f4ca7278e4": {
      "model_module": "@jupyter-widgets/controls",
      "model_module_version": "1.5.0",
      "model_name": "CheckboxModel",
      "state": {
       "description": "CH_6",
       "disabled": false,
       "layout": "IPY_MODEL_9ecbc0a981704504b9ccc17d4323ceb6",
       "style": "IPY_MODEL_a4340a9474194e1dad213015443e4e22",
       "value": false
      }
     },
     "dfafde82f53b450ca3967dfed31dd073": {
      "model_module": "@jupyter-widgets/controls",
      "model_module_version": "1.5.0",
      "model_name": "CheckboxModel",
      "state": {
       "description": "Mode_Load_Remote_Scripts",
       "disabled": false,
       "layout": "IPY_MODEL_25fc0964f3d64243a0e64d49a1265ac9",
       "style": "IPY_MODEL_1be7158970864ead84c3f3b78a5c5900",
       "value": false
      }
     },
     "dfc69ff519e2423cb5fb1e6b50080166": {
      "model_module": "@jupyter-widgets/base",
      "model_module_version": "1.2.0",
      "model_name": "LayoutModel",
      "state": {}
     },
     "dffb827f4f0c4e0b8050dbf7af45fd9b": {
      "model_module": "@jupyter-widgets/controls",
      "model_module_version": "1.5.0",
      "model_name": "DescriptionStyleModel",
      "state": {
       "description_width": ""
      }
     },
     "e020172cc2eb44078586b56d9efc4b82": {
      "model_module": "@jupyter-widgets/controls",
      "model_module_version": "1.5.0",
      "model_name": "DescriptionStyleModel",
      "state": {
       "description_width": ""
      }
     },
     "e0454fc6930c4cffa7bfcf471f91452d": {
      "model_module": "@jupyter-widgets/base",
      "model_module_version": "1.2.0",
      "model_name": "LayoutModel",
      "state": {}
     },
     "e0a95da70d0841bcb67d6bf4d5d78abf": {
      "model_module": "@jupyter-widgets/controls",
      "model_module_version": "1.5.0",
      "model_name": "CheckboxModel",
      "state": {
       "description": "CH_10",
       "disabled": false,
       "layout": "IPY_MODEL_a8ac58b76cac46f5833a7b3ea4e02d61",
       "style": "IPY_MODEL_565a1b07a12d4725937051da8f2a5d7e",
       "value": false
      }
     },
     "e0acb902daf345259595b8f93931ffc8": {
      "model_module": "@jupyter-widgets/base",
      "model_module_version": "1.2.0",
      "model_name": "LayoutModel",
      "state": {}
     },
     "e10e2c78385f4e29954d4dbe88c3727d": {
      "model_module": "@jupyter-widgets/controls",
      "model_module_version": "1.5.0",
      "model_name": "CheckboxModel",
      "state": {
       "description": "CH_13",
       "disabled": false,
       "layout": "IPY_MODEL_f83d569a38a748c2b597cd2339247661",
       "style": "IPY_MODEL_bbec5c02177d43afac4a31ce3b77186f",
       "value": false
      }
     },
     "e12867c64b5641a3bad1f25cf71dd3b3": {
      "model_module": "@jupyter-widgets/controls",
      "model_module_version": "1.5.0",
      "model_name": "CheckboxModel",
      "state": {
       "description": "Mode_Run_Saved_Scripts",
       "disabled": false,
       "layout": "IPY_MODEL_0a06b70c466a4f10bf8394c7fd1f8ed7",
       "style": "IPY_MODEL_95d07779c1ae49e383995826b1c7bb52",
       "value": false
      }
     },
     "e161b8ab35d146c2b4604f2262e30014": {
      "model_module": "@jupyter-widgets/controls",
      "model_module_version": "1.5.0",
      "model_name": "DescriptionStyleModel",
      "state": {
       "description_width": ""
      }
     },
     "e191faa5fe3e4a92898d68dd2c2eb672": {
      "model_module": "@jupyter-widgets/controls",
      "model_module_version": "1.5.0",
      "model_name": "DescriptionStyleModel",
      "state": {
       "description_width": ""
      }
     },
     "e260c49b283e4ded80e3114ae9425229": {
      "model_module": "@jupyter-widgets/controls",
      "model_module_version": "1.5.0",
      "model_name": "DescriptionStyleModel",
      "state": {
       "description_width": ""
      }
     },
     "e2a0282511fe453ea8961e582c79728b": {
      "model_module": "@jupyter-widgets/controls",
      "model_module_version": "1.5.0",
      "model_name": "CheckboxModel",
      "state": {
       "description": "CH_11",
       "disabled": false,
       "layout": "IPY_MODEL_40723b2e8ded4d5d9a1d8a004f7602b2",
       "style": "IPY_MODEL_fefe46cd42214e68b499324ea148d212",
       "value": true
      }
     },
     "e2d5296101a44333b26eb33eb2bcb17b": {
      "model_module": "@jupyter-widgets/controls",
      "model_module_version": "1.5.0",
      "model_name": "DescriptionStyleModel",
      "state": {
       "description_width": ""
      }
     },
     "e30ccaa8b63a4890999cba538e800786": {
      "model_module": "@jupyter-widgets/controls",
      "model_module_version": "1.5.0",
      "model_name": "CheckboxModel",
      "state": {
       "description": "CH_13",
       "disabled": false,
       "layout": "IPY_MODEL_2c11d9659b7c404f893c58d5db7fe1f0",
       "style": "IPY_MODEL_892ea5ee5577446aaa96da7993365947",
       "value": false
      }
     },
     "e30f0b36ce114f3aba2e26ba4871c2f5": {
      "model_module": "@jupyter-widgets/controls",
      "model_module_version": "1.5.0",
      "model_name": "DescriptionStyleModel",
      "state": {
       "description_width": ""
      }
     },
     "e39de4a036bb411e8e7eed206acd7d70": {
      "model_module": "@jupyter-widgets/controls",
      "model_module_version": "1.5.0",
      "model_name": "DescriptionStyleModel",
      "state": {
       "description_width": ""
      }
     },
     "e3e211ef428e4e2da89fb68289b3e530": {
      "model_module": "@jupyter-widgets/controls",
      "model_module_version": "1.5.0",
      "model_name": "CheckboxModel",
      "state": {
       "description": "Script_2",
       "disabled": false,
       "layout": "IPY_MODEL_257022692d3d4702ac993bd6a8363555",
       "style": "IPY_MODEL_2fedd36020184066be8667ba4b1ed5f2",
       "value": false
      }
     },
     "e415d07dd6f949899366396656d29030": {
      "model_module": "@jupyter-widgets/controls",
      "model_module_version": "1.5.0",
      "model_name": "DescriptionStyleModel",
      "state": {
       "description_width": ""
      }
     },
     "e44132c55da5422292b72e967a8f725c": {
      "model_module": "@jupyter-widgets/base",
      "model_module_version": "1.2.0",
      "model_name": "LayoutModel",
      "state": {}
     },
     "e44943a5733e4d2084cf46432554e461": {
      "model_module": "@jupyter-widgets/base",
      "model_module_version": "1.2.0",
      "model_name": "LayoutModel",
      "state": {}
     },
     "e44cd5d421504f3697531c7ab38d8024": {
      "model_module": "@jupyter-widgets/controls",
      "model_module_version": "1.5.0",
      "model_name": "CheckboxModel",
      "state": {
       "description": "CH_12",
       "disabled": false,
       "layout": "IPY_MODEL_f28b684952374873839927ab6876e914",
       "style": "IPY_MODEL_6e3c744ef5da474791fdff9807b277d8",
       "value": false
      }
     },
     "e4f5cafd93254e6a9799e9c72ae61502": {
      "model_module": "@jupyter-widgets/base",
      "model_module_version": "1.2.0",
      "model_name": "LayoutModel",
      "state": {}
     },
     "e519bd2d6b5f4d0e863ed33327615dcd": {
      "model_module": "@jupyter-widgets/controls",
      "model_module_version": "1.5.0",
      "model_name": "DescriptionStyleModel",
      "state": {
       "description_width": ""
      }
     },
     "e53e37c90d3543f0818726e03326c044": {
      "model_module": "@jupyter-widgets/base",
      "model_module_version": "1.2.0",
      "model_name": "LayoutModel",
      "state": {}
     },
     "e567f22aa26948e3b29829f130a9347b": {
      "model_module": "@jupyter-widgets/base",
      "model_module_version": "1.2.0",
      "model_name": "LayoutModel",
      "state": {}
     },
     "e57274cc682d4b36956d95a971ba8f70": {
      "model_module": "@jupyter-widgets/base",
      "model_module_version": "1.2.0",
      "model_name": "LayoutModel",
      "state": {}
     },
     "e59d772c56c649cebff3fe6d8407fbab": {
      "model_module": "@jupyter-widgets/base",
      "model_module_version": "1.2.0",
      "model_name": "LayoutModel",
      "state": {}
     },
     "e5d1ff3d290b4943ad6ed2a87334b871": {
      "model_module": "@jupyter-widgets/base",
      "model_module_version": "1.2.0",
      "model_name": "LayoutModel",
      "state": {}
     },
     "e5d98cc2a7da476cac6f4ab141b37013": {
      "model_module": "@jupyter-widgets/controls",
      "model_module_version": "1.5.0",
      "model_name": "DescriptionStyleModel",
      "state": {
       "description_width": ""
      }
     },
     "e6b9deaa54a84ed29389369a40c43fda": {
      "model_module": "@jupyter-widgets/controls",
      "model_module_version": "1.5.0",
      "model_name": "CheckboxModel",
      "state": {
       "description": "CH_4",
       "disabled": false,
       "layout": "IPY_MODEL_2a497156486b4cc685d70c62491f2e6c",
       "style": "IPY_MODEL_b277661e92974057a5ab8f1d1ebe2706",
       "value": true
      }
     },
     "e6e542df4c364c419c9c853d2c090748": {
      "model_module": "@jupyter-widgets/controls",
      "model_module_version": "1.5.0",
      "model_name": "CheckboxModel",
      "state": {
       "description": "Mode_EXIT",
       "disabled": false,
       "layout": "IPY_MODEL_5f47b129f1eb4e4fb928f505198a4ba3",
       "style": "IPY_MODEL_3e4cd5f523af4efea41516d72b583252",
       "value": false
      }
     },
     "e703ff1a5f8147449b4a4c2b86856c1f": {
      "model_module": "@jupyter-widgets/controls",
      "model_module_version": "1.5.0",
      "model_name": "CheckboxModel",
      "state": {
       "description": "Mode_EXIT",
       "disabled": false,
       "layout": "IPY_MODEL_912b75e6997445de8d19343656fca78d",
       "style": "IPY_MODEL_4889d84cb383477a93ad2106df9bf3b7",
       "value": false
      }
     },
     "e709773017fa45f5bf442d2ec9a52196": {
      "model_module": "@jupyter-widgets/base",
      "model_module_version": "1.2.0",
      "model_name": "LayoutModel",
      "state": {}
     },
     "e76493fdc33841888f958440c381b5dc": {
      "model_module": "@jupyter-widgets/controls",
      "model_module_version": "1.5.0",
      "model_name": "DescriptionStyleModel",
      "state": {
       "description_width": ""
      }
     },
     "e81a888f293a474f86389ce6a6b5e05f": {
      "model_module": "@jupyter-widgets/controls",
      "model_module_version": "1.5.0",
      "model_name": "DescriptionStyleModel",
      "state": {
       "description_width": ""
      }
     },
     "e82cce4c556344679c0d995149eee9ec": {
      "model_module": "@jupyter-widgets/base",
      "model_module_version": "1.2.0",
      "model_name": "LayoutModel",
      "state": {}
     },
     "e881031a0b3341849523838e4eb413cc": {
      "model_module": "@jupyter-widgets/controls",
      "model_module_version": "1.5.0",
      "model_name": "CheckboxModel",
      "state": {
       "description": "CH_15",
       "disabled": false,
       "layout": "IPY_MODEL_42cac86455a64916b330ba5660d41cbd",
       "style": "IPY_MODEL_c5b276fce4e9496b914704b5f0b6e8cf",
       "value": false
      }
     },
     "e96dd607ff194d5d8259d4f01490d4f3": {
      "model_module": "@jupyter-widgets/controls",
      "model_module_version": "1.5.0",
      "model_name": "DescriptionStyleModel",
      "state": {
       "description_width": ""
      }
     },
     "ea8397decd234aa6b3f263340452de09": {
      "model_module": "@jupyter-widgets/controls",
      "model_module_version": "1.5.0",
      "model_name": "CheckboxModel",
      "state": {
       "description": "CH_1",
       "disabled": false,
       "layout": "IPY_MODEL_da95595132554fe1b268b09181c86691",
       "style": "IPY_MODEL_3cb5253fe348436b9c2a3b7a660b5dd3",
       "value": false
      }
     },
     "eace8f942fda45ae8d4ed8fc733553cb": {
      "model_module": "@jupyter-widgets/controls",
      "model_module_version": "1.5.0",
      "model_name": "DescriptionStyleModel",
      "state": {
       "description_width": ""
      }
     },
     "ebc7c066ee9b43108f7a5446dadd3663": {
      "model_module": "@jupyter-widgets/controls",
      "model_module_version": "1.5.0",
      "model_name": "CheckboxModel",
      "state": {
       "description": "Script_2",
       "disabled": false,
       "layout": "IPY_MODEL_df6fff6d323848b4a8173e18ae9edf75",
       "style": "IPY_MODEL_293c19e625bc4179b71c1e6a402b9757",
       "value": false
      }
     },
     "ebcef5c512b14de69d3d6ab17060a2c6": {
      "model_module": "@jupyter-widgets/controls",
      "model_module_version": "1.5.0",
      "model_name": "CheckboxModel",
      "state": {
       "description": "CH_13",
       "disabled": false,
       "layout": "IPY_MODEL_a58f3a63aed641cfbd6aa7b6624f695c",
       "style": "IPY_MODEL_aacdabc878d34c44a2895772b31afc7e",
       "value": false
      }
     },
     "ebd4f011dd174dfd89abe8a3a96fe941": {
      "model_module": "@jupyter-widgets/controls",
      "model_module_version": "1.5.0",
      "model_name": "CheckboxModel",
      "state": {
       "description": "Script_2",
       "disabled": false,
       "layout": "IPY_MODEL_175e0f8d9016456faf7cd53d12f0aa0a",
       "style": "IPY_MODEL_5ff637cb416e4a55b4a9cd40dfe18655",
       "value": false
      }
     },
     "ebde24136f82407a9e503d2269aeed62": {
      "model_module": "@jupyter-widgets/controls",
      "model_module_version": "1.5.0",
      "model_name": "DescriptionStyleModel",
      "state": {
       "description_width": ""
      }
     },
     "ebe9d6111f2145f3a277c77d1162f5c3": {
      "model_module": "@jupyter-widgets/base",
      "model_module_version": "1.2.0",
      "model_name": "LayoutModel",
      "state": {}
     },
     "ebf4d758f56445908d96ffc930cd2c60": {
      "model_module": "@jupyter-widgets/controls",
      "model_module_version": "1.5.0",
      "model_name": "DescriptionStyleModel",
      "state": {
       "description_width": ""
      }
     },
     "ebfd3db1164643d5b2d0ff75daeca1ad": {
      "model_module": "@jupyter-widgets/controls",
      "model_module_version": "1.5.0",
      "model_name": "DescriptionStyleModel",
      "state": {
       "description_width": ""
      }
     },
     "ec1db9123dc743fd97bd3881ec5c9df9": {
      "model_module": "@jupyter-widgets/base",
      "model_module_version": "1.2.0",
      "model_name": "LayoutModel",
      "state": {}
     },
     "ec8935b06766432da7e8397dd0201470": {
      "model_module": "@jupyter-widgets/base",
      "model_module_version": "1.2.0",
      "model_name": "LayoutModel",
      "state": {}
     },
     "eca40536a1534569baebe4e1d3371e72": {
      "model_module": "@jupyter-widgets/controls",
      "model_module_version": "1.5.0",
      "model_name": "CheckboxModel",
      "state": {
       "description": "CH_3",
       "disabled": false,
       "layout": "IPY_MODEL_d8f3055559fd4175a26bb6fffe08e6eb",
       "style": "IPY_MODEL_90637392745343a087bec5eebb5deacc",
       "value": true
      }
     },
     "ece32d85f6824137bc2839e1364ea5cf": {
      "model_module": "@jupyter-widgets/controls",
      "model_module_version": "1.5.0",
      "model_name": "CheckboxModel",
      "state": {
       "description": "CH_4",
       "disabled": false,
       "layout": "IPY_MODEL_9a70f7bb98784b89815d49db68e613a4",
       "style": "IPY_MODEL_55200ffc22c24633842253d81b586023",
       "value": false
      }
     },
     "ed0001e40e09410ba7108e0011c5d794": {
      "model_module": "@jupyter-widgets/controls",
      "model_module_version": "1.5.0",
      "model_name": "DescriptionStyleModel",
      "state": {
       "description_width": ""
      }
     },
     "ed2d05099600464da5440838e270e817": {
      "model_module": "@jupyter-widgets/base",
      "model_module_version": "1.2.0",
      "model_name": "LayoutModel",
      "state": {}
     },
     "ed3e8269658d42a480706e2bf30c1110": {
      "model_module": "@jupyter-widgets/base",
      "model_module_version": "1.2.0",
      "model_name": "LayoutModel",
      "state": {}
     },
     "ed68b7c9ad5943c1a7cdb98832dda529": {
      "model_module": "@jupyter-widgets/controls",
      "model_module_version": "1.5.0",
      "model_name": "DescriptionStyleModel",
      "state": {
       "description_width": ""
      }
     },
     "ed849934e45344f3825f3ca0377e9766": {
      "model_module": "@jupyter-widgets/controls",
      "model_module_version": "1.5.0",
      "model_name": "DescriptionStyleModel",
      "state": {
       "description_width": ""
      }
     },
     "ed93903f38a24605a92a6f0bef128d22": {
      "model_module": "@jupyter-widgets/controls",
      "model_module_version": "1.5.0",
      "model_name": "DescriptionStyleModel",
      "state": {
       "description_width": ""
      }
     },
     "edceb7921c6a4cfb9ae0e687c5cc395c": {
      "model_module": "@jupyter-widgets/controls",
      "model_module_version": "1.5.0",
      "model_name": "DescriptionStyleModel",
      "state": {
       "description_width": ""
      }
     },
     "ee27c8d7d4dc4fc4b36d96ea19c6ff39": {
      "model_module": "@jupyter-widgets/base",
      "model_module_version": "1.2.0",
      "model_name": "LayoutModel",
      "state": {}
     },
     "ee3416eaf644492a933364298c3ee649": {
      "model_module": "@jupyter-widgets/controls",
      "model_module_version": "1.5.0",
      "model_name": "CheckboxModel",
      "state": {
       "description": "CH_15",
       "disabled": false,
       "layout": "IPY_MODEL_32b37bd95cc64e9bba015b385657a123",
       "style": "IPY_MODEL_94be548e217c43899e18239f976d315b",
       "value": false
      }
     },
     "ee4867ea3262499e913462cec4bb707e": {
      "model_module": "@jupyter-widgets/controls",
      "model_module_version": "1.5.0",
      "model_name": "DescriptionStyleModel",
      "state": {
       "description_width": ""
      }
     },
     "ee531d9e17164b13bb00f767174ef1cb": {
      "model_module": "@jupyter-widgets/base",
      "model_module_version": "1.2.0",
      "model_name": "LayoutModel",
      "state": {}
     },
     "ee6d8dfc44f243e0bae1f41508a0c46f": {
      "model_module": "@jupyter-widgets/controls",
      "model_module_version": "1.5.0",
      "model_name": "DescriptionStyleModel",
      "state": {
       "description_width": ""
      }
     },
     "eef9b481a8984766b02d76ecae2786b7": {
      "model_module": "@jupyter-widgets/controls",
      "model_module_version": "1.5.0",
      "model_name": "DescriptionStyleModel",
      "state": {
       "description_width": ""
      }
     },
     "ef12a1c40de043ad811f497161b1bac0": {
      "model_module": "@jupyter-widgets/base",
      "model_module_version": "1.2.0",
      "model_name": "LayoutModel",
      "state": {}
     },
     "ef30796b8eda44748fb1d801bfb48225": {
      "model_module": "@jupyter-widgets/controls",
      "model_module_version": "1.5.0",
      "model_name": "CheckboxModel",
      "state": {
       "description": "CH_7",
       "disabled": false,
       "layout": "IPY_MODEL_aa56260de026489799120a35dd004b89",
       "style": "IPY_MODEL_9b923d5195954e73ba9a85c064681601",
       "value": false
      }
     },
     "ef4381841ff944ddb5601ac1111aeae3": {
      "model_module": "@jupyter-widgets/controls",
      "model_module_version": "1.5.0",
      "model_name": "CheckboxModel",
      "state": {
       "description": "Mode_Load_Remote_Scripts",
       "disabled": false,
       "layout": "IPY_MODEL_899439bad0e94011a07c9ec00e2ac66b",
       "style": "IPY_MODEL_1360c8d7f6754d4a940d0581e3fa4caa",
       "value": false
      }
     },
     "ef58f0187e3647d4946d31bbe7b4a851": {
      "model_module": "@jupyter-widgets/controls",
      "model_module_version": "1.5.0",
      "model_name": "CheckboxModel",
      "state": {
       "description": "CH_11",
       "disabled": false,
       "layout": "IPY_MODEL_0c4256fddcaa4db6bce6cb69f74a9b7a",
       "style": "IPY_MODEL_2dfbb8b5d83645eeb492dd2d218101ed",
       "value": false
      }
     },
     "ef91bc02d8f9484fa48bdf622fce039d": {
      "model_module": "@jupyter-widgets/controls",
      "model_module_version": "1.5.0",
      "model_name": "DescriptionStyleModel",
      "state": {
       "description_width": ""
      }
     },
     "efd2227338d94ad7b07b11baba125ac9": {
      "model_module": "@jupyter-widgets/controls",
      "model_module_version": "1.5.0",
      "model_name": "CheckboxModel",
      "state": {
       "description": "Script_3",
       "disabled": false,
       "layout": "IPY_MODEL_14b7d1dbe7bc4d3aa1a24ec13c1d7390",
       "style": "IPY_MODEL_79846f7c53d346029ff2a26b22cf5643",
       "value": false
      }
     },
     "efd546f21d1c43f48078a8e4b1db8609": {
      "model_module": "@jupyter-widgets/controls",
      "model_module_version": "1.5.0",
      "model_name": "CheckboxModel",
      "state": {
       "description": "CH_1",
       "disabled": false,
       "layout": "IPY_MODEL_60806fdc468c472c93fad9178ac08d07",
       "style": "IPY_MODEL_8e29ef8f258c4c489509b8995997b1b7",
       "value": false
      }
     },
     "effe4c3d937b43748a55c453269e842d": {
      "model_module": "@jupyter-widgets/base",
      "model_module_version": "1.2.0",
      "model_name": "LayoutModel",
      "state": {}
     },
     "f07a8f2c0a0c4e1981dcecaede518f79": {
      "model_module": "@jupyter-widgets/controls",
      "model_module_version": "1.5.0",
      "model_name": "DescriptionStyleModel",
      "state": {
       "description_width": ""
      }
     },
     "f099e972a04441f986d1bf47479692f0": {
      "model_module": "@jupyter-widgets/base",
      "model_module_version": "1.2.0",
      "model_name": "LayoutModel",
      "state": {}
     },
     "f1a1ce04e9f94632a2669370fad9ffca": {
      "model_module": "@jupyter-widgets/base",
      "model_module_version": "1.2.0",
      "model_name": "LayoutModel",
      "state": {}
     },
     "f1dc18a7c71f42838e6c7754c4b43d61": {
      "model_module": "@jupyter-widgets/controls",
      "model_module_version": "1.5.0",
      "model_name": "DescriptionStyleModel",
      "state": {
       "description_width": ""
      }
     },
     "f1e8a0063f5c4e3eb55c6d0217d0337b": {
      "model_module": "@jupyter-widgets/controls",
      "model_module_version": "1.5.0",
      "model_name": "DescriptionStyleModel",
      "state": {
       "description_width": ""
      }
     },
     "f1fdcdd6c7bc4b2198ea9172dcfac88a": {
      "model_module": "@jupyter-widgets/controls",
      "model_module_version": "1.5.0",
      "model_name": "DescriptionStyleModel",
      "state": {
       "description_width": ""
      }
     },
     "f214745606ae4557a8a5b4c8601f83d1": {
      "model_module": "@jupyter-widgets/controls",
      "model_module_version": "1.5.0",
      "model_name": "DescriptionStyleModel",
      "state": {
       "description_width": ""
      }
     },
     "f28b684952374873839927ab6876e914": {
      "model_module": "@jupyter-widgets/base",
      "model_module_version": "1.2.0",
      "model_name": "LayoutModel",
      "state": {}
     },
     "f2a6f008b3314e24b8af3599236be2ba": {
      "model_module": "@jupyter-widgets/controls",
      "model_module_version": "1.5.0",
      "model_name": "CheckboxModel",
      "state": {
       "description": "CH_12",
       "disabled": false,
       "layout": "IPY_MODEL_5e748fb522ce4e3fadb46da2bd461095",
       "style": "IPY_MODEL_5ac2b6056954499695f4e9b4b650acb5",
       "value": false
      }
     },
     "f310dc7110a54abaabd920c553eb7bfe": {
      "model_module": "@jupyter-widgets/controls",
      "model_module_version": "1.5.0",
      "model_name": "CheckboxModel",
      "state": {
       "description": "Mode_Load_Remote_Scripts",
       "disabled": false,
       "layout": "IPY_MODEL_1dc2ea56693e4c3ea48b41c9ac7a7623",
       "style": "IPY_MODEL_4f2a7cad1f044f9ab8c60f15ccd32272",
       "value": false
      }
     },
     "f31f4f596dc04047b4ddda3d08e411cb": {
      "model_module": "@jupyter-widgets/controls",
      "model_module_version": "1.5.0",
      "model_name": "CheckboxModel",
      "state": {
       "description": "CH_4",
       "disabled": false,
       "layout": "IPY_MODEL_f5e881362c684f55afde78fb21c6f3a5",
       "style": "IPY_MODEL_dffb827f4f0c4e0b8050dbf7af45fd9b",
       "value": false
      }
     },
     "f38142f2c98a435eb421592b02a388dc": {
      "model_module": "@jupyter-widgets/controls",
      "model_module_version": "1.5.0",
      "model_name": "CheckboxModel",
      "state": {
       "description": "CH_6",
       "disabled": false,
       "layout": "IPY_MODEL_1092fa3c9d364479b6415283ec3d5c33",
       "style": "IPY_MODEL_a860490978d24a748c9c675ec79f9856",
       "value": false
      }
     },
     "f3ebd3b0690d4e2fab3a3500b38b97d4": {
      "model_module": "@jupyter-widgets/controls",
      "model_module_version": "1.5.0",
      "model_name": "CheckboxModel",
      "state": {
       "description": "CH_8",
       "disabled": false,
       "layout": "IPY_MODEL_b6810edc2ed1455cb6b194cc965875c2",
       "style": "IPY_MODEL_ca64988acf58458f81c878b19cc47b79",
       "value": false
      }
     },
     "f3fdc2f3965f42e491da54cf2781efb0": {
      "model_module": "@jupyter-widgets/controls",
      "model_module_version": "1.5.0",
      "model_name": "CheckboxModel",
      "state": {
       "description": "CH_15",
       "disabled": false,
       "layout": "IPY_MODEL_bf611679dbb24464a982db887a3fef65",
       "style": "IPY_MODEL_cb02cce03fed411ba32aa0fe6dd2f847",
       "value": false
      }
     },
     "f452d1a44ea84cf6a458fe54c3aca1a9": {
      "model_module": "@jupyter-widgets/base",
      "model_module_version": "1.2.0",
      "model_name": "LayoutModel",
      "state": {}
     },
     "f47a8ba2931845a98c3022e25d928050": {
      "model_module": "@jupyter-widgets/controls",
      "model_module_version": "1.5.0",
      "model_name": "CheckboxModel",
      "state": {
       "description": "CH_12",
       "disabled": false,
       "layout": "IPY_MODEL_01e37b6dc4a945c1a7c784612ce93c30",
       "style": "IPY_MODEL_167bce53cc18465191abd5eb9cde447c",
       "value": false
      }
     },
     "f4a156d7d9bd4eaebcdab58fdcac60fb": {
      "model_module": "@jupyter-widgets/base",
      "model_module_version": "1.2.0",
      "model_name": "LayoutModel",
      "state": {}
     },
     "f4c2dec9f4c242398ad01e1206758f2b": {
      "model_module": "@jupyter-widgets/controls",
      "model_module_version": "1.5.0",
      "model_name": "DescriptionStyleModel",
      "state": {
       "description_width": ""
      }
     },
     "f511b40be9364b349d6f22c8be9bde59": {
      "model_module": "@jupyter-widgets/controls",
      "model_module_version": "1.5.0",
      "model_name": "CheckboxModel",
      "state": {
       "description": "CH_6",
       "disabled": false,
       "layout": "IPY_MODEL_7d641897968e42a3a824a939a2d00037",
       "style": "IPY_MODEL_a4414986a3fa441e9e6620357c8ace7e",
       "value": false
      }
     },
     "f51ece7e4a834c649bcf99dcfa5488a9": {
      "model_module": "@jupyter-widgets/controls",
      "model_module_version": "1.5.0",
      "model_name": "DescriptionStyleModel",
      "state": {
       "description_width": ""
      }
     },
     "f5421513828a410ca3ff29b1f258e697": {
      "model_module": "@jupyter-widgets/base",
      "model_module_version": "1.2.0",
      "model_name": "LayoutModel",
      "state": {}
     },
     "f5977c11f9b74159b3292808da2f1e61": {
      "model_module": "@jupyter-widgets/base",
      "model_module_version": "1.2.0",
      "model_name": "LayoutModel",
      "state": {}
     },
     "f5e881362c684f55afde78fb21c6f3a5": {
      "model_module": "@jupyter-widgets/base",
      "model_module_version": "1.2.0",
      "model_name": "LayoutModel",
      "state": {}
     },
     "f6372198be494ee6a786ea9cf46d365d": {
      "model_module": "@jupyter-widgets/controls",
      "model_module_version": "1.5.0",
      "model_name": "DescriptionStyleModel",
      "state": {
       "description_width": ""
      }
     },
     "f6530c7e10ea464ab8859f003e3fedb7": {
      "model_module": "@jupyter-widgets/controls",
      "model_module_version": "1.5.0",
      "model_name": "DescriptionStyleModel",
      "state": {
       "description_width": ""
      }
     },
     "f67084db0a544a70801457221311c09e": {
      "model_module": "@jupyter-widgets/base",
      "model_module_version": "1.2.0",
      "model_name": "LayoutModel",
      "state": {}
     },
     "f6a627d240c4453b8cbecab239161869": {
      "model_module": "@jupyter-widgets/base",
      "model_module_version": "1.2.0",
      "model_name": "LayoutModel",
      "state": {}
     },
     "f6c4751ee0f845cba06b537d10f49dd7": {
      "model_module": "@jupyter-widgets/controls",
      "model_module_version": "1.5.0",
      "model_name": "CheckboxModel",
      "state": {
       "description": "CH_11",
       "disabled": false,
       "layout": "IPY_MODEL_0b97c616052443c6839305cc828f7e47",
       "style": "IPY_MODEL_eef9b481a8984766b02d76ecae2786b7",
       "value": true
      }
     },
     "f6d27d23250a4e22b2a81dc9862d6891": {
      "model_module": "@jupyter-widgets/base",
      "model_module_version": "1.2.0",
      "model_name": "LayoutModel",
      "state": {}
     },
     "f72b4687594d4fd182c48b94ffc9c95c": {
      "model_module": "@jupyter-widgets/base",
      "model_module_version": "1.2.0",
      "model_name": "LayoutModel",
      "state": {}
     },
     "f7d11c04660e49349ba85e76b2c1c886": {
      "model_module": "@jupyter-widgets/base",
      "model_module_version": "1.2.0",
      "model_name": "LayoutModel",
      "state": {}
     },
     "f7e0f241395b4f6c828ead9f03749a18": {
      "model_module": "@jupyter-widgets/controls",
      "model_module_version": "1.5.0",
      "model_name": "CheckboxModel",
      "state": {
       "description": "CH_1",
       "disabled": false,
       "layout": "IPY_MODEL_90f724e3d4484dcb90140ab2c01e5dc5",
       "style": "IPY_MODEL_bd8de2a7fe354a99b469b2cdb4f961e7",
       "value": false
      }
     },
     "f7e1a2a3507a4cedae9373b2f8dab314": {
      "model_module": "@jupyter-widgets/controls",
      "model_module_version": "1.5.0",
      "model_name": "CheckboxModel",
      "state": {
       "description": "Script_1",
       "disabled": false,
       "layout": "IPY_MODEL_bb5ffe48e98945c2bb830856941fa642",
       "style": "IPY_MODEL_06024302adea4331a84fe60f36cbd9ec",
       "value": false
      }
     },
     "f7fb6a5ab40f4db093a7c58d67063e96": {
      "model_module": "@jupyter-widgets/controls",
      "model_module_version": "1.5.0",
      "model_name": "CheckboxModel",
      "state": {
       "description": "CH_11",
       "disabled": false,
       "layout": "IPY_MODEL_62a14f08aed84f77b69a26ab78565c66",
       "style": "IPY_MODEL_dae08bfe2042437990206825bba0ccd7",
       "value": false
      }
     },
     "f83d569a38a748c2b597cd2339247661": {
      "model_module": "@jupyter-widgets/base",
      "model_module_version": "1.2.0",
      "model_name": "LayoutModel",
      "state": {}
     },
     "f854a1369ac945558f21ae38014cf8a3": {
      "model_module": "@jupyter-widgets/controls",
      "model_module_version": "1.5.0",
      "model_name": "CheckboxModel",
      "state": {
       "description": "OPEN_CH_all",
       "disabled": false,
       "layout": "IPY_MODEL_e82cce4c556344679c0d995149eee9ec",
       "style": "IPY_MODEL_867494bd4f004ea08f44689eb8c83e93",
       "value": false
      }
     },
     "f8b6400ffc834906a289bc066592eea1": {
      "model_module": "@jupyter-widgets/controls",
      "model_module_version": "1.5.0",
      "model_name": "DescriptionStyleModel",
      "state": {
       "description_width": ""
      }
     },
     "f90425b241544d90a7e98a5b26366bef": {
      "model_module": "@jupyter-widgets/controls",
      "model_module_version": "1.5.0",
      "model_name": "CheckboxModel",
      "state": {
       "description": "Mode_Load_Remote_Scripts",
       "disabled": false,
       "layout": "IPY_MODEL_3c1dab1d9f084d1595289bd99cd9069e",
       "style": "IPY_MODEL_1d1d4ff83c7a49f1aa2015b62957b061",
       "value": false
      }
     },
     "f9223ba4fa654752ba834c31c867667f": {
      "model_module": "@jupyter-widgets/controls",
      "model_module_version": "1.5.0",
      "model_name": "CheckboxModel",
      "state": {
       "description": "Script_3",
       "disabled": false,
       "layout": "IPY_MODEL_f6a627d240c4453b8cbecab239161869",
       "style": "IPY_MODEL_35416f7c5bfd4a92aa295057ff058b94",
       "value": false
      }
     },
     "f96b554df26945adb7f98000d5d6b89d": {
      "model_module": "@jupyter-widgets/base",
      "model_module_version": "1.2.0",
      "model_name": "LayoutModel",
      "state": {}
     },
     "f9a2c83d35dc4dc791e2b7cbbbaa4ad4": {
      "model_module": "@jupyter-widgets/controls",
      "model_module_version": "1.5.0",
      "model_name": "DescriptionStyleModel",
      "state": {
       "description_width": ""
      }
     },
     "f9bfbbf6361347539e587c09f63999a1": {
      "model_module": "@jupyter-widgets/base",
      "model_module_version": "1.2.0",
      "model_name": "LayoutModel",
      "state": {}
     },
     "f9dcf5c5193c41fdb03c4eca9d795dc5": {
      "model_module": "@jupyter-widgets/controls",
      "model_module_version": "1.5.0",
      "model_name": "DescriptionStyleModel",
      "state": {
       "description_width": ""
      }
     },
     "fa32a8adab3d412c8a8e4fdcbecbd460": {
      "model_module": "@jupyter-widgets/controls",
      "model_module_version": "1.5.0",
      "model_name": "CheckboxModel",
      "state": {
       "description": "CH_8",
       "disabled": false,
       "layout": "IPY_MODEL_c704f211609a4175a69ca9a70da8c822",
       "style": "IPY_MODEL_7590f47cdf7f422caf9475fd191e45b1",
       "value": false
      }
     },
     "fa46dfdef60949a08d429532a7492cad": {
      "model_module": "@jupyter-widgets/base",
      "model_module_version": "1.2.0",
      "model_name": "LayoutModel",
      "state": {}
     },
     "fa7c4b0a784d4f35a19d5783e1c4bcf0": {
      "model_module": "@jupyter-widgets/base",
      "model_module_version": "1.2.0",
      "model_name": "LayoutModel",
      "state": {}
     },
     "fab120f7c21545d49ebec9658719d32d": {
      "model_module": "@jupyter-widgets/base",
      "model_module_version": "1.2.0",
      "model_name": "LayoutModel",
      "state": {}
     },
     "faba234f862a42248f7a778207094a6f": {
      "model_module": "@jupyter-widgets/controls",
      "model_module_version": "1.5.0",
      "model_name": "DescriptionStyleModel",
      "state": {
       "description_width": ""
      }
     },
     "fae727253cc34c84bcee781434255117": {
      "model_module": "@jupyter-widgets/base",
      "model_module_version": "1.2.0",
      "model_name": "LayoutModel",
      "state": {}
     },
     "faf58013c2024ef394fd780000a06f66": {
      "model_module": "@jupyter-widgets/controls",
      "model_module_version": "1.5.0",
      "model_name": "CheckboxModel",
      "state": {
       "description": "CH_2",
       "disabled": false,
       "layout": "IPY_MODEL_8edbefbb44e243fab6eaed83ac9dba2d",
       "style": "IPY_MODEL_f8b6400ffc834906a289bc066592eea1",
       "value": false
      }
     },
     "fb71f1897b994d6fb3a28871105b8f7d": {
      "model_module": "@jupyter-widgets/controls",
      "model_module_version": "1.5.0",
      "model_name": "CheckboxModel",
      "state": {
       "description": "Mode_Manual_Control",
       "disabled": false,
       "layout": "IPY_MODEL_b35021f5ce9f4360b3bad85f0ed98fd8",
       "style": "IPY_MODEL_9f23f32b1f5f4be7928763768e11c8d6",
       "value": true
      }
     },
     "fba1eb93998a4bc491bc774901d14c36": {
      "model_module": "@jupyter-widgets/base",
      "model_module_version": "1.2.0",
      "model_name": "LayoutModel",
      "state": {}
     },
     "fc454824f9d84318bc43db9881c26ade": {
      "model_module": "@jupyter-widgets/controls",
      "model_module_version": "1.5.0",
      "model_name": "DescriptionStyleModel",
      "state": {
       "description_width": ""
      }
     },
     "fc85eda3cf57402bbfe7b896f1c23b6c": {
      "model_module": "@jupyter-widgets/controls",
      "model_module_version": "1.5.0",
      "model_name": "DescriptionStyleModel",
      "state": {
       "description_width": ""
      }
     },
     "fc8ee47d364b4a74a728251916478b62": {
      "model_module": "@jupyter-widgets/controls",
      "model_module_version": "1.5.0",
      "model_name": "DescriptionStyleModel",
      "state": {
       "description_width": ""
      }
     },
     "fccc618a2b3f4e30bbda625938a4722c": {
      "model_module": "@jupyter-widgets/base",
      "model_module_version": "1.2.0",
      "model_name": "LayoutModel",
      "state": {}
     },
     "fd089f3776c64d788a8628640b04a8b9": {
      "model_module": "@jupyter-widgets/controls",
      "model_module_version": "1.5.0",
      "model_name": "CheckboxModel",
      "state": {
       "description": "CH_2",
       "disabled": false,
       "layout": "IPY_MODEL_daf1715a09e640f890bc35ef4657b1da",
       "style": "IPY_MODEL_9c956c1bd80b411f9ee2ec0487705669",
       "value": false
      }
     },
     "fd444ec66d79469aaaf9113709753776": {
      "model_module": "@jupyter-widgets/base",
      "model_module_version": "1.2.0",
      "model_name": "LayoutModel",
      "state": {}
     },
     "fd4a8c76c6634abd869f11894ad5670e": {
      "model_module": "@jupyter-widgets/base",
      "model_module_version": "1.2.0",
      "model_name": "LayoutModel",
      "state": {}
     },
     "fd6707e4e915480b8b7dff318b980af6": {
      "model_module": "@jupyter-widgets/base",
      "model_module_version": "1.2.0",
      "model_name": "LayoutModel",
      "state": {}
     },
     "fddb53e8b1b042d68a69cc715ede74f8": {
      "model_module": "@jupyter-widgets/base",
      "model_module_version": "1.2.0",
      "model_name": "LayoutModel",
      "state": {}
     },
     "fe3cc026add246e6b0e8431d3bfce66c": {
      "model_module": "@jupyter-widgets/controls",
      "model_module_version": "1.5.0",
      "model_name": "DescriptionStyleModel",
      "state": {
       "description_width": ""
      }
     },
     "fe60aec44b4941ea9fb21667d165fda3": {
      "model_module": "@jupyter-widgets/base",
      "model_module_version": "1.2.0",
      "model_name": "LayoutModel",
      "state": {}
     },
     "fe7714dac60941939b01fe270f79eb6b": {
      "model_module": "@jupyter-widgets/controls",
      "model_module_version": "1.5.0",
      "model_name": "DescriptionStyleModel",
      "state": {
       "description_width": ""
      }
     },
     "fe838127b5bc44218da84527e14d7365": {
      "model_module": "@jupyter-widgets/controls",
      "model_module_version": "1.5.0",
      "model_name": "CheckboxModel",
      "state": {
       "description": "CH_13",
       "disabled": false,
       "layout": "IPY_MODEL_0bee1826deec4083a17317289303f51d",
       "style": "IPY_MODEL_779106325ae1489baee51b58ff90729a",
       "value": true
      }
     },
     "feaffc6f1a7b4a3480680f69d60f3131": {
      "model_module": "@jupyter-widgets/base",
      "model_module_version": "1.2.0",
      "model_name": "LayoutModel",
      "state": {}
     },
     "fefe46cd42214e68b499324ea148d212": {
      "model_module": "@jupyter-widgets/controls",
      "model_module_version": "1.5.0",
      "model_name": "DescriptionStyleModel",
      "state": {
       "description_width": ""
      }
     },
     "ff1f5757472444d2ac65da290beb4d5f": {
      "model_module": "@jupyter-widgets/controls",
      "model_module_version": "1.5.0",
      "model_name": "DescriptionStyleModel",
      "state": {
       "description_width": ""
      }
     },
     "ff51c1a19cb246878eeb5196d4b1bb96": {
      "model_module": "@jupyter-widgets/controls",
      "model_module_version": "1.5.0",
      "model_name": "CheckboxModel",
      "state": {
       "description": "CH_10",
       "disabled": false,
       "layout": "IPY_MODEL_68f7f2c6bbf44f799493318f6f771a2f",
       "style": "IPY_MODEL_cf0a8b4b79db4e67b02b7e1930241935",
       "value": true
      }
     },
     "ff56efc144214a40a945bc8a6a9572c5": {
      "model_module": "@jupyter-widgets/controls",
      "model_module_version": "1.5.0",
      "model_name": "CheckboxModel",
      "state": {
       "description": "CH_5",
       "disabled": false,
       "layout": "IPY_MODEL_ef12a1c40de043ad811f497161b1bac0",
       "style": "IPY_MODEL_663f4348e4b3475fb14fb2633c4e1111",
       "value": false
      }
     },
     "ff83b4a37a5e4286a6df183cc0e1d481": {
      "model_module": "@jupyter-widgets/base",
      "model_module_version": "1.2.0",
      "model_name": "LayoutModel",
      "state": {}
     }
    },
    "version_major": 2,
    "version_minor": 0
   }
  }
 },
 "nbformat": 4,
 "nbformat_minor": 5
}

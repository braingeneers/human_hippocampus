{
 "cells": [
  {
   "cell_type": "markdown",
   "metadata": {},
   "source": [
    "## Imports"
   ]
  },
  {
   "cell_type": "code",
   "execution_count": 1,
   "metadata": {},
   "outputs": [],
   "source": [
    "# Standard library imports\n",
    "import os\n",
    "import random\n",
    "import pickle\n",
    "import math\n",
    "\n",
    "# Data analysis packages\n",
    "import numpy as np\n",
    "import pandas as pd\n",
    "from scipy.signal import correlate, correlation_lags\n",
    "from scipy.ndimage import gaussian_filter1d\n",
    "\n",
    "# Visualization packages\n",
    "import matplotlib.pyplot as plt\n",
    "import matplotlib.patches as patches\n",
    "from matplotlib.patches import FancyArrow, Patch, Circle\n",
    "import matplotlib.colors as mcolors\n",
    "from matplotlib.colors import LinearSegmentedColormap\n",
    "from matplotlib.lines import Line2D\n",
    "\n",
    "# Image processing packages\n",
    "import imageio\n",
    "from PIL import Image, ImageSequence\n",
    "\n",
    "# Braingeneers packages for analysis\n",
    "import braingeneers\n",
    "import braingeneers.data.datasets_electrophysiology as ephys\n",
    "from braingeneers.analysis.analysis import SpikeData, read_phy_files, load_spike_data, burst_detection, randomize_raster"
   ]
  },
  {
   "cell_type": "markdown",
   "metadata": {},
   "source": [
    "## Data"
   ]
  },
  {
   "cell_type": "code",
   "execution_count": 2,
   "metadata": {},
   "outputs": [
    {
     "name": "stderr",
     "output_type": "stream",
     "text": [
      "/tmp/ipykernel_4022/2003972835.py:1: DeprecationWarning: Call to deprecated function (or staticmethod) read_phy_files. (Prefer load_spike_data()) -- Deprecated since version 0.1.13.\n",
      "  dataset1 = read_phy_files('/workspaces/human_hippocampus/data/ephys/2023-04-02-e-hc328_unperturbed/derived/kilosort2/hc3.28_hckcr1_chip16835_plated34.2_rec4.2_curated.zip')\n"
     ]
    }
   ],
   "source": [
    "dataset1 = read_phy_files('/workspaces/human_hippocampus/data/ephys/2023-04-02-e-hc328_unperturbed/derived/kilosort2/hc3.28_hckcr1_chip16835_plated34.2_rec4.2_curated.zip')"
   ]
  },
  {
   "cell_type": "markdown",
   "metadata": {},
   "source": [
    "## Helper Functions"
   ]
  },
  {
   "cell_type": "code",
   "execution_count": 8,
   "metadata": {},
   "outputs": [],
   "source": [
    "def get_neuron_positions(spike_data):\n",
    "    # Extract neuron positions from spike_data\n",
    "    neuron_x = []\n",
    "    neuron_y = []\n",
    "    for neuron in spike_data.neuron_data[0].values():\n",
    "        neuron_x.append(neuron['position'][0])\n",
    "        neuron_y.append(neuron['position'][1])\n",
    "    neuron_positions = np.array([neuron_x, neuron_y]).T\n",
    "    return neuron_positions\n",
    "\n",
    "def calculate_mean_firing_rates(spike_data):\n",
    "    mean_firing_rates = []\n",
    "    for neuron_spikes in spike_data.train:\n",
    "        num_spikes = len(neuron_spikes)\n",
    "        time_duration = spike_data.length / 1000  # Assuming spike times are in milliseconds\n",
    "        firing_rate = num_spikes / time_duration\n",
    "        mean_firing_rates.append(firing_rate)\n",
    "\n",
    "    return np.array(mean_firing_rates)\n",
    "\n",
    "def plot_raster(sd, title):\n",
    "    idces, times = sd.idces_times()\n",
    "    # Adjust the figsize parameter to change the figure size; (width, height) in inches\n",
    "    fig, ax = plt.subplots(figsize=(10, 6))  # Example: 10 inches wide by 6 inches tall\n",
    "\n",
    "    ax.scatter(times/1000, idces, marker='|', s=1)\n",
    "    ax.set_xlabel(\"Time(s)\")\n",
    "    ax.set_ylabel('Unit #')\n",
    "    ax.set_title(title)\n",
    "    plt.show()"
   ]
  },
  {
   "cell_type": "markdown",
   "metadata": {},
   "source": [
    "## Animator"
   ]
  },
  {
   "cell_type": "code",
   "execution_count": 17,
   "metadata": {},
   "outputs": [],
   "source": [
    "def firing_plotter(sd, global_min_rate, global_max_rate):\n",
    "    # Custom colormap from pale red/pink to dark red/black\n",
    "    colors = [\"#ffcccb\", \"#ff6961\", \"#ff5c5c\", \"#ff1c00\", \"#bf0000\", \"#800000\", \"#400000\", \"#000000\"]\n",
    "    cmap_name = \"custom_red_black\"\n",
    "    n_bins = 100  # More bins will give us a finer gradient\n",
    "    cm = LinearSegmentedColormap.from_list(cmap_name, colors, N=n_bins)\n",
    "\n",
    "    firing_rates = calculate_mean_firing_rates(sd)\n",
    "    neuron_x, neuron_y = [], []\n",
    "    # Extract neuron positions\n",
    "    for neuron in sd.neuron_data[0].values():\n",
    "        neuron_x.append(neuron['position'][0])\n",
    "        neuron_y.append(neuron['position'][1])\n",
    "\n",
    "    plt.figure(figsize=(8, 6))\n",
    "    # Plotting a small pale blue square at each neuron position\n",
    "    plt.scatter(neuron_x, neuron_y, s=10, c='#add8e6', marker='s', alpha=0.6)\n",
    "    scatter = plt.scatter(neuron_x, neuron_y, s=firing_rates*1.5, c=firing_rates, alpha=0.6, cmap=cm, vmin=global_min_rate, vmax=20)\n",
    "\n",
    "    # Creating dummy plots for the legend\n",
    "    for rate in [20, 40, 60]:  # Example firing rates\n",
    "        plt.scatter([], [], s=rate*1.5, c='gray', alpha=0.6, label=f'{rate} Hz')\n",
    "\n",
    "    plt.title(\"Animation of Firing Rates for Synthetic Wave-Propagation Data\")\n",
    "    plt.xlabel(\"X Position\")\n",
    "    plt.ylabel(\"Y Position\")\n",
    "    plt.colorbar(scatter, label='Firing Rate (Hz)')\n",
    "    plt.gca().invert_yaxis()\n",
    "\n",
    "    # Adding the legend for sizes with title\n",
    "    plt.legend(scatterpoints=1, frameon=False, labelspacing=1, title='Firing Rate', loc='upper right')\n",
    "\n",
    "    # plt.show()\n",
    "\n",
    "def create_animation(sd, frames_per_second, output_dir='firing_maps', animation_file='firing_animation.gif'):\n",
    "    base_path = \"/workspaces/human_hippocampus/dev/other/thomas/dissertation/saved_plots/animations\"\n",
    "    full_output_dir = os.path.join(base_path, output_dir)\n",
    "    \n",
    "    if not os.path.exists(full_output_dir):\n",
    "        os.makedirs(full_output_dir)\n",
    "\n",
    "    filenames = []\n",
    "    \n",
    "    # Adjust as necessary to capture the correct time segment\n",
    "    # sd_test = sd.subtime(0, 10000)\n",
    "    sd_test = sd\n",
    "    total_recording_time_ms = sd_test.length  # Total recording time in milliseconds\n",
    "    total_recording_time_s = total_recording_time_ms / 1000.0  # Convert ms to seconds\n",
    "\n",
    "    # Calculate the total number of frames for the entire recording\n",
    "    total_frames = int(frames_per_second * total_recording_time_s)\n",
    "    \n",
    "    # Calculate the global minimum and maximum firing rates for consistent coloring\n",
    "    g_min_rate = np.min(calculate_mean_firing_rates(sd))\n",
    "    g_max_rate = np.max(calculate_mean_firing_rates(sd))\n",
    "\n",
    "    images = []\n",
    "    for frame_number in range(total_frames):\n",
    "        start_time_ms = (frame_number / frames_per_second) * 1000\n",
    "        end_time_ms = ((frame_number + 1) / frames_per_second) * 1000\n",
    "        sd_timestep = sd_test.subtime(start_time_ms, end_time_ms)\n",
    "        \n",
    "        firing_plotter(sd_timestep, global_min_rate=g_min_rate, global_max_rate=g_max_rate)\n",
    "        \n",
    "        filename = os.path.join(full_output_dir, f\"frame_{frame_number}.png\")\n",
    "        plt.savefig(filename)\n",
    "        plt.close()\n",
    "        \n",
    "        images.append(Image.open(filename))\n",
    "\n",
    "    # Save frames to a GIF\n",
    "    animation_path = os.path.join(base_path, animation_file)\n",
    "    images[0].save(animation_path, save_all=True, append_images=images[1:], optimize=False, duration=int(1000 / frames_per_second), loop=0)\n",
    "    \n",
    "    print(f\"Animation saved to {animation_path}\")\n",
    "    # return animation_path"
   ]
  },
  {
   "cell_type": "markdown",
   "metadata": {},
   "source": [
    "## Plotting"
   ]
  },
  {
   "cell_type": "code",
   "execution_count": 15,
   "metadata": {},
   "outputs": [
    {
     "data": {
      "image/png": "[encoded data removed]",
      "text/plain": [
       "<Figure size 1000x600 with 1 Axes>"
      ]
     },
     "metadata": {},
     "output_type": "display_data"
    }
   ],
   "source": [
    "plot_raster(dataset1.subtime(0, 1000), \"Raster Plot of Neuron Spikes\")"
   ]
  },
  {
   "cell_type": "code",
   "execution_count": 21,
   "metadata": {},
   "outputs": [],
   "source": [
    "dataset1_short = dataset1.subtime(0, 60000)"
   ]
  },
  {
   "cell_type": "code",
   "execution_count": 22,
   "metadata": {},
   "outputs": [
    {
     "name": "stderr",
     "output_type": "stream",
     "text": [
      "/tmp/ipykernel_4022/1238374063.py:11: DeprecationWarning: Call to deprecated function (or staticmethod) neuron_data. (Use NeuronAttributes instead of neuron_data, with the function load_spike_data())\n",
      "  for neuron in sd.neuron_data[0].values():\n"
     ]
    },
    {
     "ename": "",
     "evalue": "",
     "output_type": "error",
     "traceback": [
      "\u001b[1;31mThe Kernel crashed while executing code in the the current cell or a previous cell. Please review the code in the cell(s) to identify a possible cause of the failure. Click <a href='https://aka.ms/vscodeJupyterKernelCrash'>here</a> for more info. View Jupyter <a href='command:jupyter.viewOutput'>log</a> for further details."
     ]
    }
   ],
   "source": [
    "create_animation(dataset1_short, 10, output_dir='human_data', animation_file='2023-04-02-e-hc328_unperturbed.gif')"
   ]
  }
 ],
 "metadata": {
  "kernelspec": {
   "display_name": "notebook",
   "language": "python",
   "name": "python3"
  },
  "language_info": {
   "codemirror_mode": {
    "name": "ipython",
    "version": 3
   },
   "file_extension": ".py",
   "mimetype": "text/x-python",
   "name": "python",
   "nbconvert_exporter": "python",
   "pygments_lexer": "ipython3",
   "version": "3.10.0"
  }
 },
 "nbformat": 4,
 "nbformat_minor": 2
}

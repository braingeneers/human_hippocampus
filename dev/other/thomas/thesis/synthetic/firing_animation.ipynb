{
 "cells": [
  {
   "cell_type": "markdown",
   "metadata": {},
   "source": [
    "## Imports"
   ]
  },
  {
   "cell_type": "code",
   "execution_count": 5,
   "metadata": {},
   "outputs": [],
   "source": [
    "# Standard library imports\n",
    "import os\n",
    "import random\n",
    "import pickle\n",
    "\n",
    "# Data analysis packages\n",
    "import numpy as np\n",
    "import pandas as pd\n",
    "from scipy.signal import correlate, correlation_lags\n",
    "from scipy.ndimage import gaussian_filter1d\n",
    "\n",
    "# Visualization packages\n",
    "import matplotlib.pyplot as plt\n",
    "import matplotlib.patches as patches\n",
    "from matplotlib.patches import FancyArrow, Patch, Circle\n",
    "import matplotlib.colors as mcolors\n",
    "from matplotlib.colors import LinearSegmentedColormap\n",
    "from matplotlib.lines import Line2D\n",
    "\n",
    "# Image processing packages\n",
    "import imageio\n",
    "from PIL import Image, ImageSequence\n",
    "\n",
    "# Braingeneers packages for analysis\n",
    "import braingeneers\n",
    "import braingeneers.data.datasets_electrophysiology as ephys\n",
    "from braingeneers.analysis.analysis import SpikeData, read_phy_files, load_spike_data, burst_detection, randomize_raster"
   ]
  },
  {
   "cell_type": "code",
   "execution_count": 2,
   "metadata": {},
   "outputs": [],
   "source": [
    "# def generate_random_overlap_spike_data(total_duration_ms, num_propagations, rows, cols, overlap_duration_ms, break_duration_ms):\n",
    "#     N_channels = rows * cols\n",
    "#     adjusted_total_duration_ms = total_duration_ms - (break_duration_ms * (num_propagations - 1))\n",
    "#     segment_duration_ms = adjusted_total_duration_ms / num_propagations\n",
    "\n",
    "#     # Initialize positions and neuron_data\n",
    "#     positions = [(x, y) for x in range(rows) for y in range(cols)]\n",
    "#     neuron_data = {'positions': {i: {'position': positions[i]} for i in range(N_channels)}}\n",
    "\n",
    "#     # Initialize train with empty lists for each channel\n",
    "#     train_patterned_overlap = [[] for _ in range(N_channels)]\n",
    "    \n",
    "#     # Pre-assign at least one firing event for each neuron across the propagations\n",
    "#     preassigned_firings = {neuron_index: random.randint(0, num_propagations - 1) for neuron_index in range(N_channels)}\n",
    "\n",
    "#     # Generate spike times with specified overlap, breaks, and random firing within columns\n",
    "#     for propagation in range(num_propagations):\n",
    "#         segment_start = propagation * (segment_duration_ms + break_duration_ms)\n",
    "        \n",
    "#         for col in range(cols):\n",
    "#             col_start = segment_start + (col * (segment_duration_ms / cols - overlap_duration_ms))\n",
    "#             spike_time_start = col_start\n",
    "#             spike_time_end = spike_time_start + (segment_duration_ms / cols) + overlap_duration_ms\n",
    "\n",
    "#             # Randomly decide which neurons in the column will fire (random proportion)\n",
    "#             firing_neurons_in_col = random.sample(range(col, N_channels, cols), random.randint(1, rows))\n",
    "\n",
    "#             # Ensure pre-assigned neurons for this propagation are included\n",
    "#             for neuron_index in range(col, N_channels, cols):\n",
    "#                 if preassigned_firings[neuron_index] == propagation and neuron_index not in firing_neurons_in_col:\n",
    "#                     firing_neurons_in_col.append(neuron_index)\n",
    "\n",
    "#             for neuron_index in firing_neurons_in_col:\n",
    "#                 spike_times = np.linspace(spike_time_start, spike_time_end, int(segment_duration_ms / cols / 10))\n",
    "#                 train_patterned_overlap[neuron_index].extend(spike_times)\n",
    "\n",
    "#     # Convert lists to numpy arrays\n",
    "#     train_patterned_overlap = [np.array(times) for times in train_patterned_overlap]\n",
    "\n",
    "#     # Create the SpikeData object\n",
    "#     spike_data_patterned_random_firing = SpikeData(train=train_patterned_overlap, N=N_channels, length=total_duration_ms, neuron_data=neuron_data)\n",
    "\n",
    "#     return spike_data_patterned_random_firing\n",
    "\n",
    "def generate_random_overlap_spike_data(total_duration_ms, num_propagations, rows, cols, overlap_duration_ms, break_duration_ms):\n",
    "    N_channels = rows * cols\n",
    "    adjusted_total_duration_ms = total_duration_ms - (break_duration_ms * (num_propagations - 1))\n",
    "    segment_duration_ms = adjusted_total_duration_ms / num_propagations\n",
    "\n",
    "    # Initialize positions and neuron_data\n",
    "    positions = [(x, y) for x in range(rows) for y in range(cols)]\n",
    "    neuron_data = {'positions': {i: {'position': positions[i]} for i in range(N_channels)}}\n",
    "\n",
    "    # Initialize train with empty lists for each channel\n",
    "    train_patterned_overlap = [[] for _ in range(N_channels)]\n",
    "    \n",
    "    # Pre-assign at least one firing event for each neuron across the propagations\n",
    "    preassigned_firings = {neuron_index: random.randint(0, num_propagations - 1) for neuron_index in range(N_channels)}\n",
    "\n",
    "    # Generate spike times with specified overlap, breaks, and random firing within rows\n",
    "    for propagation in range(num_propagations):\n",
    "        segment_start = propagation * (segment_duration_ms + break_duration_ms)\n",
    "\n",
    "        for row in range(rows):\n",
    "            row_start = segment_start + (row * (segment_duration_ms / rows - overlap_duration_ms))\n",
    "            spike_time_start = row_start\n",
    "            spike_time_end = spike_time_start + (segment_duration_ms / rows) + overlap_duration_ms\n",
    "\n",
    "            # Randomly decide which neurons in the row will fire (random proportion)\n",
    "            firing_neurons_in_row = random.sample(range(row * cols, (row + 1) * cols), random.randint(1, cols))\n",
    "\n",
    "            # Ensure pre-assigned neurons for this propagation are included\n",
    "            for neuron_index in range(row * cols, (row + 1) * cols):\n",
    "                if preassigned_firings[neuron_index] == propagation and neuron_index not in firing_neurons_in_row:\n",
    "                    firing_neurons_in_row.append(neuron_index)\n",
    "\n",
    "            for neuron_index in firing_neurons_in_row:\n",
    "                spike_times = np.linspace(spike_time_start, spike_time_end, int(segment_duration_ms / rows / 10))\n",
    "                train_patterned_overlap[neuron_index].extend(spike_times)\n",
    "\n",
    "    # Convert lists to numpy arrays\n",
    "    train_patterned_overlap = [np.array(times) for times in train_patterned_overlap]\n",
    "\n",
    "    # Create the SpikeData object\n",
    "    spike_data_patterned_random_firing = SpikeData(train=train_patterned_overlap, N=N_channels, length=total_duration_ms, neuron_data=neuron_data)\n",
    "\n",
    "    return spike_data_patterned_random_firing\n",
    "\n",
    "# Function to get neuron positions\n",
    "def get_neuron_positions(spike_data):\n",
    "    # Extract neuron positions from spike_data\n",
    "    neuron_x = []\n",
    "    neuron_y = []\n",
    "    for neuron in spike_data.neuron_data['positions'].values():\n",
    "        neuron_x.append(neuron['position'][0])\n",
    "        neuron_y.append(neuron['position'][1])\n",
    "    neuron_positions = np.array([neuron_x, neuron_y]).T\n",
    "    return neuron_positions\n",
    "\n",
    "def calculate_mean_firing_rates(spike_data):\n",
    "    mean_firing_rates = []\n",
    "    for neuron_spikes in spike_data.train:\n",
    "        num_spikes = len(neuron_spikes)\n",
    "        time_duration = spike_data.length / 1000  # Assuming spike times are in milliseconds\n",
    "        firing_rate = num_spikes / time_duration\n",
    "        mean_firing_rates.append(firing_rate)\n",
    "\n",
    "    return np.array(mean_firing_rates)\n",
    "\n",
    "def plot_raster(sd, title):\n",
    "    idces, times = sd.idces_times()\n",
    "    # Adjust the figsize parameter to change the figure size; (width, height) in inches\n",
    "    fig, ax = plt.subplots(figsize=(10, 6))  # Example: 10 inches wide by 6 inches tall\n",
    "\n",
    "    ax.scatter(times/1000, idces, marker='|', s=1)\n",
    "    ax.set_xlabel(\"Time(s)\")\n",
    "    ax.set_ylabel('Unit #')\n",
    "    ax.set_title(title)\n",
    "    plt.show()"
   ]
  },
  {
   "cell_type": "code",
   "execution_count": 3,
   "metadata": {},
   "outputs": [],
   "source": [
    "# def firing_plotter(sd, global_min_rate, global_max_rate):\n",
    "#     # Custom colormap from pale red/pink to dark red/black\n",
    "#     colors = [\"#ffcccb\", \"#ff6961\", \"#ff5c5c\", \"#ff1c00\", \"#bf0000\", \"#800000\", \"#400000\", \"#000000\"]\n",
    "#     cmap_name = \"custom_red_black\"\n",
    "#     n_bins = 100  # More bins will give us a finer gradient\n",
    "#     cm = LinearSegmentedColormap.from_list(cmap_name, colors, N=n_bins)\n",
    "\n",
    "#     firing_rates = calculate_mean_firing_rates(sd)\n",
    "#     neuron_x, neuron_y = [], []\n",
    "#     # Extract neuron positions\n",
    "#     for i, neuron in sd.neuron_data['positions'].items():\n",
    "#         neuron_x.append(neuron['position'][0])\n",
    "#         neuron_y.append(neuron['position'][1])\n",
    "    \n",
    "#     plt.figure(figsize=(8, 6))\n",
    "#     # Plotting a small pale blue square at each neuron position\n",
    "#     plt.scatter(neuron_x, neuron_y, s=10, c='#add8e6', marker='s', alpha=0.6)  # s is the size, c is the color\n",
    "#     scatter = plt.scatter(neuron_x, neuron_y, s=firing_rates*1.5, c=firing_rates, alpha=0.6, cmap=cm, vmin=global_min_rate, vmax=75)\n",
    "\n",
    "#     plt.title(\"Neuron Firing Rates\")\n",
    "#     plt.xlabel(\"X Position\")\n",
    "#     plt.ylabel(\"Y Position\")\n",
    "#     plt.colorbar(scatter, label='Firing Rate (Hz)')\n",
    "#     plt.gca().invert_yaxis()\n",
    "#     # plt.show()\n",
    "\n",
    "def firing_plotter(sd, global_min_rate, global_max_rate):\n",
    "    # Custom colormap from pale red/pink to dark red/black\n",
    "    colors = [\"#ffcccb\", \"#ff6961\", \"#ff5c5c\", \"#ff1c00\", \"#bf0000\", \"#800000\", \"#400000\", \"#000000\"]\n",
    "    cmap_name = \"custom_red_black\"\n",
    "    n_bins = 100  # More bins will give us a finer gradient\n",
    "    cm = LinearSegmentedColormap.from_list(cmap_name, colors, N=n_bins)\n",
    "\n",
    "    firing_rates = calculate_mean_firing_rates(sd)\n",
    "    neuron_x, neuron_y = [], []\n",
    "    # Extract neuron positions\n",
    "    for i, neuron in sd.neuron_data['positions'].items():\n",
    "        neuron_x.append(neuron['position'][0])\n",
    "        neuron_y.append(neuron['position'][1])\n",
    "\n",
    "    plt.figure(figsize=(8, 6))\n",
    "    # Plotting a small pale blue square at each neuron position\n",
    "    plt.scatter(neuron_x, neuron_y, s=10, c='#add8e6', marker='s', alpha=0.6)\n",
    "    scatter = plt.scatter(neuron_x, neuron_y, s=firing_rates*1.5, c=firing_rates, alpha=0.6, cmap=cm, vmin=global_min_rate, vmax=75)\n",
    "\n",
    "    # Creating dummy plots for the legend\n",
    "    for rate in [20, 40, 60]:  # Example firing rates\n",
    "        plt.scatter([], [], s=rate*1.5, c='gray', alpha=0.6, label=f'{rate} Hz')\n",
    "\n",
    "    plt.title(\"Animation of Firing Rates for Synthetic Wave-Propagation Data\")\n",
    "    plt.xlabel(\"X Position\")\n",
    "    plt.ylabel(\"Y Position\")\n",
    "    plt.colorbar(scatter, label='Firing Rate (Hz)')\n",
    "    plt.gca().invert_yaxis()\n",
    "\n",
    "    # Adding the legend for sizes with title\n",
    "    plt.legend(scatterpoints=1, frameon=False, labelspacing=1, title='Firing Rate', loc='upper right')\n",
    "\n",
    "    # plt.show()"
   ]
  },
  {
   "cell_type": "code",
   "execution_count": 10,
   "metadata": {},
   "outputs": [],
   "source": [
    "# random_overlap_spike_data = generate_random_overlap_spike_data(\n",
    "#     total_duration_ms=60 * 1000,  # 1 minute\n",
    "#     num_propagations=5,\n",
    "#     rows=16,\n",
    "#     cols=16,\n",
    "#     overlap_duration_ms=160,\n",
    "#     break_duration_ms=6000  # 6 seconds\n",
    "# )\n",
    "\n",
    "\n",
    "random_overlap_spike_data = generate_random_overlap_spike_data(\n",
    "    total_duration_ms=60 * 1000,  # 1 minute\n",
    "    num_propagations=10,\n",
    "    rows=16,\n",
    "    cols=16,\n",
    "    overlap_duration_ms=50,\n",
    "    break_duration_ms= 600  # 6 seconds\n",
    ")\n",
    "\n",
    "\n",
    "# random_overlap_spike_data = generate_random_overlap_spike_data(\n",
    "#     total_duration_ms=240 * 1000,  # 1 minute\n",
    "#     num_propagations=5,\n",
    "#     rows=32,\n",
    "#     cols=32,\n",
    "#     overlap_duration_ms=160,\n",
    "#     break_duration_ms=6000  # 6 seconds\n",
    "# )"
   ]
  },
  {
   "cell_type": "code",
   "execution_count": 16,
   "metadata": {},
   "outputs": [
    {
     "data": {
      "image/png": "[encoded data removed]",
      "text/plain": [
       "<Figure size 1000x600 with 1 Axes>"
      ]
     },
     "metadata": {},
     "output_type": "display_data"
    }
   ],
   "source": [
    "plot_raster(random_overlap_spike_data.subtime(0, 10000), 'Zoomed Raster Plot of Synthetic Wave-Propagation Data')"
   ]
  },
  {
   "cell_type": "code",
   "execution_count": 17,
   "metadata": {},
   "outputs": [
    {
     "data": {
      "text/plain": [
       "3.453125"
      ]
     },
     "execution_count": 17,
     "metadata": {},
     "output_type": "execute_result"
    }
   ],
   "source": [
    "np.mean(calculate_mean_firing_rates(random_overlap_spike_data))"
   ]
  },
  {
   "cell_type": "code",
   "execution_count": 18,
   "metadata": {},
   "outputs": [],
   "source": [
    "def create_animation(sd, frames_per_second, output_dir='firing_maps', animation_file='firing_animation.gif'):\n",
    "    base_path = \"/workspaces/human_hippocampus/dev/other/thomas/thesis/\"\n",
    "    full_output_dir = os.path.join(base_path, output_dir)\n",
    "    \n",
    "    if not os.path.exists(full_output_dir):\n",
    "        os.makedirs(full_output_dir)\n",
    "\n",
    "    filenames = []\n",
    "    \n",
    "    # Adjust as necessary to capture the correct time segment\n",
    "    # sd_test = sd.subtime(0, 10000)\n",
    "    sd_test = sd\n",
    "    total_recording_time_ms = sd_test.length  # Total recording time in milliseconds\n",
    "    total_recording_time_s = total_recording_time_ms / 1000.0  # Convert ms to seconds\n",
    "\n",
    "    # Calculate the total number of frames for the entire recording\n",
    "    total_frames = int(frames_per_second * total_recording_time_s)\n",
    "    \n",
    "    # Calculate the global minimum and maximum firing rates for consistent coloring\n",
    "    g_min_rate = np.min(calculate_mean_firing_rates(sd))\n",
    "    g_max_rate = np.max(calculate_mean_firing_rates(sd))\n",
    "\n",
    "    images = []\n",
    "    for frame_number in range(total_frames):\n",
    "        start_time_ms = (frame_number / frames_per_second) * 1000\n",
    "        end_time_ms = ((frame_number + 1) / frames_per_second) * 1000\n",
    "        sd_timestep = sd_test.subtime(start_time_ms, end_time_ms)\n",
    "        \n",
    "        firing_plotter(sd_timestep, global_min_rate=g_min_rate, global_max_rate=g_max_rate)\n",
    "        \n",
    "        filename = os.path.join(full_output_dir, f\"frame_{frame_number}.png\")\n",
    "        plt.savefig(filename)\n",
    "        plt.close()\n",
    "        \n",
    "        images.append(Image.open(filename))\n",
    "\n",
    "    # Save frames to a GIF\n",
    "    animation_path = os.path.join(base_path, animation_file)\n",
    "    images[0].save(animation_path, save_all=True, append_images=images[1:], optimize=False, duration=int(1000 / frames_per_second), loop=0)\n",
    "    \n",
    "    print(f\"Animation saved to {animation_path}\")\n",
    "    # return animation_path"
   ]
  },
  {
   "cell_type": "code",
   "execution_count": 19,
   "metadata": {},
   "outputs": [
    {
     "name": "stderr",
     "output_type": "stream",
     "text": [
      "/tmp/ipykernel_1117/87249695.py:37: DeprecationWarning: Call to deprecated function (or staticmethod) neuron_data. (Use NeuronAttributes instead of neuron_data, with the function load_spike_data())\n",
      "  for i, neuron in sd.neuron_data['positions'].items():\n"
     ]
    },
    {
     "name": "stdout",
     "output_type": "stream",
     "text": [
      "Animation saved to /workspaces/human_hippocampus/dev/other/thomas/thesis/firing_animation.gif\n"
     ]
    }
   ],
   "source": [
    "create_animation(random_overlap_spike_data, 10)"
   ]
  },
  {
   "cell_type": "code",
   "execution_count": 1,
   "metadata": {},
   "outputs": [
    {
     "ename": "NameError",
     "evalue": "name 'os' is not defined",
     "output_type": "error",
     "traceback": [
      "\u001b[0;31m---------------------------------------------------------------------------\u001b[0m",
      "\u001b[0;31mNameError\u001b[0m                                 Traceback (most recent call last)",
      "Cell \u001b[0;32mIn[1], line 1\u001b[0m\n\u001b[0;32m----> 1\u001b[0m file_path \u001b[38;5;241m=\u001b[39m \u001b[43mos\u001b[49m\u001b[38;5;241m.\u001b[39mpath\u001b[38;5;241m.\u001b[39mjoin(\u001b[38;5;124m'\u001b[39m\u001b[38;5;124m/workspaces/human_hippocampus/dev/other/thomas/thesis/pickled_datasets/\u001b[39m\u001b[38;5;124m'\u001b[39m, \u001b[38;5;124m'\u001b[39m\u001b[38;5;124mpropagation_dataset.pkl\u001b[39m\u001b[38;5;124m'\u001b[39m)\n\u001b[1;32m      2\u001b[0m \u001b[38;5;28;01mwith\u001b[39;00m \u001b[38;5;28mopen\u001b[39m(file_path, \u001b[38;5;124m'\u001b[39m\u001b[38;5;124mwb\u001b[39m\u001b[38;5;124m'\u001b[39m) \u001b[38;5;28;01mas\u001b[39;00m f:\n\u001b[1;32m      3\u001b[0m     pickle\u001b[38;5;241m.\u001b[39mdump(random_overlap_spike_data, f)\n",
      "\u001b[0;31mNameError\u001b[0m: name 'os' is not defined"
     ]
    }
   ],
   "source": [
    "file_path = os.path.join('/workspaces/human_hippocampus/dev/other/thomas/thesis/pickled_datasets/', 'propagation_dataset.pkl')\n",
    "with open(file_path, 'wb') as f:\n",
    "    pickle.dump(random_overlap_spike_data, f)"
   ]
  },
  {
   "cell_type": "code",
   "execution_count": 6,
   "metadata": {},
   "outputs": [],
   "source": [
    "with open('/workspaces/human_hippocampus/dev/other/thomas/thesis/pickled_datasets/propagation_dataset.pkl', 'rb') as file:\n",
    "    loaded_object = pickle.load(file)"
   ]
  }
 ],
 "metadata": {
  "kernelspec": {
   "display_name": "notebook",
   "language": "python",
   "name": "python3"
  },
  "language_info": {
   "codemirror_mode": {
    "name": "ipython",
    "version": 3
   },
   "file_extension": ".py",
   "mimetype": "text/x-python",
   "name": "python",
   "nbconvert_exporter": "python",
   "pygments_lexer": "ipython3",
   "version": "3.10.0"
  }
 },
 "nbformat": 4,
 "nbformat_minor": 2
}

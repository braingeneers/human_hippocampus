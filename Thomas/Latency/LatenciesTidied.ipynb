{
 "cells": [
  {
   "cell_type": "markdown",
   "id": "785fd605",
   "metadata": {},
   "source": [
    "# Imports"
   ]
  },
  {
   "cell_type": "code",
   "execution_count": 120,
   "id": "5e35781a",
   "metadata": {},
   "outputs": [],
   "source": [
    "import pickle\n",
    "import os\n",
    "import re\n",
    "import glob\n",
    "import random\n",
    "import numpy as np\n",
    "import scipy\n",
    "import scipy.io as sio\n",
    "import scipy.ndimage as ndimage\n",
    "from scipy.ndimage import gaussian_filter1d\n",
    "import pandas as pd\n",
    "import matplotlib.pyplot as plt\n",
    "import matplotlib.colors as mcolors\n",
    "import matplotlib.patches as patches\n",
    "from matplotlib.patches import Patch, Circle\n",
    "from matplotlib.lines import Line2D\n",
    "from PIL import Image\n",
    "import ipywidgets as ipw\n",
    "from ipywidgets import interact, interactive, fixed, interact_manual  # package for interactive widgets \n",
    "import braingeneers                                                   # Braingeneers code\n",
    "from braingeneers.analysis.analysis import SpikeData, read_phy_files\n",
    "import braingeneers.data.datasets_electrophysiology as ephys\n",
    "from IPython.display import HTML, display, Javascript, clear_output\n",
    "from matplotlib.patches import FancyArrow"
   ]
  },
  {
   "cell_type": "markdown",
   "id": "eb4f901f",
   "metadata": {},
   "source": [
    "# <font color=\"gray\"> helper code"
   ]
  },
  {
   "cell_type": "code",
   "execution_count": 2,
   "id": "56364970",
   "metadata": {},
   "outputs": [],
   "source": [
    "import pickle\n",
    "file = open('/home/jovyan/work/Human_Hippocampus/StitchedDataUpdated.pkl', 'rb')\n",
    "stitched_data = pickle.load(file)\n",
    "file.close()"
   ]
  },
  {
   "cell_type": "code",
   "execution_count": 3,
   "id": "16709752",
   "metadata": {},
   "outputs": [],
   "source": [
    "sd = stitched_data"
   ]
  },
  {
   "cell_type": "code",
   "execution_count": 4,
   "id": "0c41e9fd",
   "metadata": {},
   "outputs": [
    {
     "data": {
      "text/plain": [
       "140"
      ]
     },
     "execution_count": 4,
     "metadata": {},
     "output_type": "execute_result"
    }
   ],
   "source": [
    "sd.N"
   ]
  },
  {
   "cell_type": "code",
   "execution_count": 4,
   "id": "d44ec35b",
   "metadata": {},
   "outputs": [],
   "source": [
    "def plot_sttc(sd):\n",
    "    sttc = np.zeros((sd.N, sd.N))\n",
    "    for i in range(sd.N):\n",
    "        for j in range(sd.N):\n",
    "            sttc[i][j] = sd.spike_time_tiling(i,j)\n",
    "    plt.imshow(sttc)\n",
    "    plt.xlabel(\"Neuron index\")\n",
    "    plt.ylabel(\"Neuron index\")\n",
    "    plt.show()"
   ]
  },
  {
   "cell_type": "code",
   "execution_count": 5,
   "id": "b7db3b6e",
   "metadata": {},
   "outputs": [],
   "source": [
    "def find_sttc_above_threshold(sd, threshold=0.2):\n",
    "    sttc = np.zeros((sd.N, sd.N))\n",
    "    for i in range(sd.N):\n",
    "        for j in range(sd.N):\n",
    "            if i == j: \n",
    "                sttc[i][j]=0\n",
    "            else:\n",
    "                sttc[i][j] = sd.spike_time_tiling(i, j)\n",
    "\n",
    "    # Create a mask to filter STTC values above the given threshold\n",
    "    mask = sttc > threshold\n",
    "\n",
    "    # Find the indices of neuron pairs with STTC above the threshold\n",
    "    neuron_pairs = np.transpose(np.where(mask))\n",
    "\n",
    "    return neuron_pairs"
   ]
  },
  {
   "cell_type": "markdown",
   "id": "b0d10401",
   "metadata": {},
   "source": [
    "# <font color=\"brown\">Matt Stuff"
   ]
  },
  {
   "cell_type": "markdown",
   "id": "4661ee0b",
   "metadata": {},
   "source": [
    "## Get raw latencies"
   ]
  },
  {
   "cell_type": "markdown",
   "id": "586bf6ad",
   "metadata": {},
   "source": [
    "Get initial neuron pairs"
   ]
  },
  {
   "cell_type": "code",
   "execution_count": 6,
   "id": "45b7538e",
   "metadata": {},
   "outputs": [],
   "source": [
    "# Usage example:\n",
    "# Assuming you have a spike data object called 'sd'\n",
    "neuron_pairs_above_threshold = find_sttc_above_threshold(sd, threshold=0.2)"
   ]
  },
  {
   "cell_type": "code",
   "execution_count": 7,
   "id": "441322ba",
   "metadata": {
    "scrolled": true
   },
   "outputs": [
    {
     "name": "stdout",
     "output_type": "stream",
     "text": [
      "[[  0 137]\n",
      " [  4 113]\n",
      " [  9  29]\n",
      " [  9 130]\n",
      " [ 10 114]\n",
      " [ 11 109]\n",
      " [ 12  31]\n",
      " [ 12  92]\n",
      " [ 12 100]\n",
      " [ 13  21]\n",
      " [ 13  45]\n",
      " [ 14  38]\n",
      " [ 16  69]\n",
      " [ 17  43]\n",
      " [ 21  13]\n",
      " [ 21  45]\n",
      " [ 24  85]\n",
      " [ 25 105]\n",
      " [ 29   9]\n",
      " [ 30  95]\n",
      " [ 31  12]\n",
      " [ 31  92]\n",
      " [ 31 100]\n",
      " [ 33  44]\n",
      " [ 35  50]\n",
      " [ 37  81]\n",
      " [ 37 138]\n",
      " [ 38  14]\n",
      " [ 39  53]\n",
      " [ 43  17]\n",
      " [ 44  33]\n",
      " [ 45  13]\n",
      " [ 45  21]\n",
      " [ 50  35]\n",
      " [ 53  39]\n",
      " [ 55 104]\n",
      " [ 56 101]\n",
      " [ 56 133]\n",
      " [ 58  77]\n",
      " [ 60  98]\n",
      " [ 61  98]\n",
      " [ 66  76]\n",
      " [ 67  84]\n",
      " [ 67 129]\n",
      " [ 69  16]\n",
      " [ 76  66]\n",
      " [ 77  58]\n",
      " [ 79 103]\n",
      " [ 80 111]\n",
      " [ 81  37]\n",
      " [ 81 138]\n",
      " [ 82  86]\n",
      " [ 84  67]\n",
      " [ 84 129]\n",
      " [ 85  24]\n",
      " [ 86  82]\n",
      " [ 87 139]\n",
      " [ 88 125]\n",
      " [ 92  12]\n",
      " [ 92  31]\n",
      " [ 95  30]\n",
      " [ 98  60]\n",
      " [ 98  61]\n",
      " [100  12]\n",
      " [100  31]\n",
      " [101  56]\n",
      " [101 110]\n",
      " [101 133]\n",
      " [103  79]\n",
      " [103 121]\n",
      " [104  55]\n",
      " [105  25]\n",
      " [109  11]\n",
      " [110 101]\n",
      " [110 126]\n",
      " [110 132]\n",
      " [110 133]\n",
      " [111  80]\n",
      " [112 118]\n",
      " [113   4]\n",
      " [114  10]\n",
      " [118 112]\n",
      " [121 103]\n",
      " [125  88]\n",
      " [126 110]\n",
      " [129  67]\n",
      " [129  84]\n",
      " [130   9]\n",
      " [132 110]\n",
      " [133  56]\n",
      " [133 101]\n",
      " [133 110]\n",
      " [137   0]\n",
      " [138  37]\n",
      " [138  81]\n",
      " [139  87]]\n",
      "96\n"
     ]
    }
   ],
   "source": [
    "print(neuron_pairs_above_threshold)\n",
    "print(len(neuron_pairs_above_threshold))"
   ]
  },
  {
   "cell_type": "markdown",
   "id": "8d43f361",
   "metadata": {},
   "source": [
    "This function is very inefficient, consider changing it."
   ]
  },
  {
   "cell_type": "code",
   "execution_count": 8,
   "id": "d9894fa2",
   "metadata": {
    "scrolled": true
   },
   "outputs": [
    {
     "name": "stdout",
     "output_type": "stream",
     "text": [
      "0\n",
      "1\n",
      "2\n",
      "3\n",
      "4\n",
      "5\n",
      "6\n",
      "7\n",
      "8\n",
      "9\n",
      "10\n",
      "11\n",
      "12\n",
      "13\n",
      "14\n",
      "15\n",
      "16\n",
      "17\n",
      "18\n",
      "19\n",
      "20\n",
      "21\n",
      "22\n",
      "23\n",
      "24\n",
      "25\n",
      "26\n",
      "27\n",
      "28\n",
      "29\n",
      "30\n",
      "31\n",
      "32\n",
      "33\n",
      "34\n",
      "35\n",
      "36\n",
      "37\n",
      "38\n",
      "39\n",
      "40\n",
      "41\n",
      "42\n",
      "43\n",
      "44\n",
      "45\n",
      "46\n",
      "47\n",
      "48\n",
      "49\n",
      "50\n",
      "51\n",
      "52\n",
      "53\n",
      "54\n",
      "55\n",
      "56\n",
      "57\n",
      "58\n",
      "59\n",
      "60\n",
      "61\n",
      "62\n",
      "63\n",
      "64\n",
      "65\n",
      "66\n",
      "67\n",
      "68\n",
      "69\n",
      "70\n",
      "71\n",
      "72\n",
      "73\n",
      "74\n",
      "75\n",
      "76\n",
      "77\n",
      "78\n",
      "79\n",
      "80\n",
      "81\n",
      "82\n",
      "83\n",
      "84\n",
      "85\n",
      "86\n",
      "87\n",
      "88\n",
      "89\n",
      "90\n",
      "91\n",
      "92\n",
      "93\n",
      "94\n",
      "95\n"
     ]
    }
   ],
   "source": [
    "lates_raw = []\n",
    "for i, neuron_pair in enumerate(neuron_pairs_above_threshold):\n",
    "    print(i)\n",
    "    neuron1, neuron2 = neuron_pair\n",
    "    lates_n1 = sd.latencies_to_index(neuron1)\n",
    "    lates_raw.append( lates_n1[neuron2] )"
   ]
  },
  {
   "cell_type": "markdown",
   "id": "537d3490",
   "metadata": {},
   "source": [
    "Save data, in case kernel breaks"
   ]
  },
  {
   "cell_type": "markdown",
   "id": "808efda7",
   "metadata": {},
   "source": [
    "## Save Data"
   ]
  },
  {
   "cell_type": "code",
   "execution_count": 9,
   "id": "da44fea0",
   "metadata": {},
   "outputs": [],
   "source": [
    "import pickle"
   ]
  },
  {
   "cell_type": "code",
   "execution_count": 10,
   "id": "97809010",
   "metadata": {},
   "outputs": [],
   "source": [
    "file_path = 'Stitched_Latencies.pkl'"
   ]
  },
  {
   "cell_type": "code",
   "execution_count": 11,
   "id": "e53b6458",
   "metadata": {},
   "outputs": [],
   "source": [
    "data = { \"pairs\":neuron_pairs_above_threshold, \"latencies\":lates_raw }"
   ]
  },
  {
   "cell_type": "code",
   "execution_count": 12,
   "id": "d9afb587",
   "metadata": {},
   "outputs": [],
   "source": [
    "# open a file, where you ant to store the data\n",
    "file = open('Stitched_Latencies.pkl', 'wb')\n",
    "pickle.dump(data, file)\n",
    "file.close()"
   ]
  },
  {
   "cell_type": "markdown",
   "id": "36d27e1c",
   "metadata": {},
   "source": [
    "## Load Data"
   ]
  },
  {
   "cell_type": "markdown",
   "id": "16d10856",
   "metadata": {},
   "source": [
    "There are two datasets you can read in:\n",
    "\n",
    "\"Raw_Latencies_0.2.pkl\" : gives 44 directed pairs\n",
    "\n",
    "\"Raw_Latencies_0.6.pkl\" : gives 28 directed pairs"
   ]
  },
  {
   "cell_type": "code",
   "execution_count": 52,
   "id": "548fb1e2",
   "metadata": {},
   "outputs": [],
   "source": [
    "import pickle\n",
    "file = open('Stitched_Latencies.pkl', 'rb')\n",
    "data = pickle.load(file)\n",
    "lates_pairs = data[\"pairs\"]\n",
    "lates = data[\"latencies\"]\n",
    "file.close()"
   ]
  },
  {
   "cell_type": "code",
   "execution_count": 53,
   "id": "65896333",
   "metadata": {
    "scrolled": true
   },
   "outputs": [
    {
     "data": {
      "text/plain": [
       "96"
      ]
     },
     "execution_count": 53,
     "metadata": {},
     "output_type": "execute_result"
    }
   ],
   "source": [
    "len(lates_pairs)"
   ]
  },
  {
   "cell_type": "markdown",
   "id": "df3e1c2b",
   "metadata": {},
   "source": [
    "## Remove long latencies"
   ]
  },
  {
   "cell_type": "code",
   "execution_count": 54,
   "id": "b1070ee5",
   "metadata": {},
   "outputs": [],
   "source": [
    "max_ms = 10"
   ]
  },
  {
   "cell_type": "code",
   "execution_count": 55,
   "id": "21470c50",
   "metadata": {},
   "outputs": [],
   "source": [
    "lates_short = []\n",
    "for latency_dist in lates:\n",
    "    lates_short.append( list(filter(lambda x: x < max_ms and x > -max_ms, latency_dist))  )"
   ]
  },
  {
   "cell_type": "markdown",
   "id": "e0633a04",
   "metadata": {},
   "source": [
    "## Latencies Directionality"
   ]
  },
  {
   "cell_type": "code",
   "execution_count": 56,
   "id": "04b5ae9c",
   "metadata": {},
   "outputs": [],
   "source": [
    "direction_threshold = .65"
   ]
  },
  {
   "cell_type": "code",
   "execution_count": 57,
   "id": "26c69d4e",
   "metadata": {},
   "outputs": [],
   "source": [
    "lates_directed = []\n",
    "pairs_directed = []"
   ]
  },
  {
   "cell_type": "code",
   "execution_count": 58,
   "id": "44a03bdc",
   "metadata": {},
   "outputs": [],
   "source": [
    "for i in range(len(lates_short)):\n",
    "    lates_i = np.array(lates_short[i])\n",
    "    if len(lates_i) == 0:\n",
    "        continue\n",
    "    percent_neg = sum( lates_i<0 )/len(lates_i)\n",
    "    percent_pos = sum( lates_i>0 )/len(lates_i)\n",
    "    \n",
    "    if percent_neg > direction_threshold or percent_pos > direction_threshold:\n",
    "        lates_directed.append( lates_i )\n",
    "        pairs_directed.append( lates_pairs[i] )"
   ]
  },
  {
   "cell_type": "code",
   "execution_count": 59,
   "id": "c443de01",
   "metadata": {},
   "outputs": [
    {
     "data": {
      "text/plain": [
       "54"
      ]
     },
     "execution_count": 59,
     "metadata": {},
     "output_type": "execute_result"
    }
   ],
   "source": [
    "len( pairs_directed )"
   ]
  },
  {
   "cell_type": "markdown",
   "id": "695f3734",
   "metadata": {},
   "source": [
    "## Plot Latencies in  Layout view"
   ]
  },
  {
   "cell_type": "markdown",
   "id": "8db58e38",
   "metadata": {},
   "source": [
    "get neuron x and y values"
   ]
  },
  {
   "cell_type": "code",
   "execution_count": 60,
   "id": "60da5bfa",
   "metadata": {},
   "outputs": [
    {
     "name": "stderr",
     "output_type": "stream",
     "text": [
      "/tmp/ipykernel_1606739/3713121702.py:3: DeprecationWarning: Call to deprecated function (or staticmethod) neuron_data. (Use NeuronAttributes instead of neuron_data, with the function load_spike_data())\n",
      "  for neuron in sd.neuron_data[0].values():\n"
     ]
    }
   ],
   "source": [
    "neuron_x = []\n",
    "neuron_y = []\n",
    "for neuron in sd.neuron_data[0].values():\n",
    "    neuron_x.append(neuron['position'][0])\n",
    "    neuron_y.append(neuron['position'][1])"
   ]
  },
  {
   "cell_type": "markdown",
   "id": "46246543",
   "metadata": {},
   "source": [
    "### plot attempt 1"
   ]
  },
  {
   "cell_type": "code",
   "execution_count": 62,
   "id": "0979d55c",
   "metadata": {
    "code_folding": [],
    "scrolled": false
   },
   "outputs": [
    {
     "name": "stderr",
     "output_type": "stream",
     "text": [
      "/tmp/ipykernel_1606739/4289377391.py:25: UserWarning: Setting the 'color' property will override the edgecolor or facecolor properties.\n",
      "  arrow = FancyArrow( neuron_x[end_i], neuron_y[end_i], neuron_x[start_i] - neuron_x[end_i], neuron_y[start_i] - neuron_y[end_i], length_includes_head=True, head_width=25,\n"
     ]
    },
    {
     "data": {
      "image/png": "[encoded data removed]",
      "text/plain": [
       "<Figure size 640x480 with 1 Axes>"
      ]
     },
     "metadata": {},
     "output_type": "display_data"
    }
   ],
   "source": [
    "# Set up figure\n",
    "plt.figsize= (1,1)\n",
    "\n",
    "plt.scatter(neuron_x, neuron_y, alpha = 0.15, c='grey')\n",
    "\n",
    "# Plot each individual arrow\n",
    "for i in range(len(lates_directed)):\n",
    "    \n",
    "    # Get starting and ending arrow based on direction\n",
    "    is_pos = np.median(lates_directed[i])>0\n",
    "    if is_pos:\n",
    "        start_i =  pairs_directed[i][0]\n",
    "        end_i = pairs_directed[i][1]\n",
    "    else:\n",
    "        start_i =  pairs_directed[i][1]\n",
    "        end_i = pairs_directed[i][0] \n",
    "    \n",
    "    # plot dummy points, delete this soon  \n",
    "#      plt.scatter( neuron_x[start_i], neuron_y[start_i], alpha=.1, c='b', s = 100)\n",
    "#    plt.scatter( neuron_x[end_i], neuron_y[end_i], alpha=.1, c='r', s = 100 )\n",
    "    \n",
    "#     plt.scatter(neuron_x, neuron_y, alpha=.1)\n",
    "    \n",
    "    # add arrow\n",
    "    arrow = FancyArrow( neuron_x[end_i], neuron_y[end_i], neuron_x[start_i] - neuron_x[end_i], neuron_y[start_i] - neuron_y[end_i], length_includes_head=True, head_width=25,\n",
    "                                       linewidth=1, color='black', alpha=0.7, edgecolor='black', facecolor='black')\n",
    "    plt.gca().add_patch(arrow)\n",
    "\n",
    "plt.xlabel('um')\n",
    "plt.ylabel('um')\n",
    "plt.title(\"Directionality plot\")  # Adding the title\n",
    "plt.show()"
   ]
  },
  {
   "cell_type": "code",
   "execution_count": 92,
   "id": "e5ca69ac",
   "metadata": {},
   "outputs": [
    {
     "name": "stderr",
     "output_type": "stream",
     "text": [
      "/tmp/ipykernel_1606739/2655578977.py:36: UserWarning: Setting the 'color' property will override the edgecolor or facecolor properties.\n",
      "  arrow = FancyArrow(\n",
      "No artists with labels found to put in legend.  Note that artists whose label start with an underscore are ignored when legend() is called with no argument.\n"
     ]
    },
    {
     "data": {
      "image/png": "[encoded data removed]",
      "text/plain": [
       "<Figure size 800x800 with 1 Axes>"
      ]
     },
     "metadata": {},
     "output_type": "display_data"
    }
   ],
   "source": [
    "# Set up figure\n",
    "plt.figure(figsize=(8, 8))  # Adjust the figure size as needed\n",
    "\n",
    "plt.scatter(neuron_x, neuron_y, alpha=0.15, c='grey')\n",
    "\n",
    "# Plot each individual arrow\n",
    "for i in range(len(lates_directed)):\n",
    "    \n",
    "    # Get starting and ending arrow based on direction\n",
    "    is_pos = np.median(lates_directed[i]) > 0\n",
    "    if is_pos:\n",
    "        start_i = pairs_directed[i][0]\n",
    "        end_i = pairs_directed[i][1]\n",
    "    else:\n",
    "        start_i = pairs_directed[i][1]\n",
    "        end_i = pairs_directed[i][0]\n",
    "\n",
    "        \n",
    "    arrow_color=\"black\"\n",
    "    if (neuron_y[start_i] < 500 or neuron_y[end_i] < 500):\n",
    "        arrow_color=\"green\"\n",
    "        print(start_i)\n",
    "        \n",
    "    if neuron_x[start_i] < neuron_x[end_i] and (neuron_y[start_i] > 500 or neuron_y[end_i] > 500):\n",
    "        arrow_color=\"red\"\n",
    "    \n",
    "    if neuron_x[start_i] > neuron_x[end_i] and (neuron_y[start_i] > 500 or neuron_y[end_i] > 500):\n",
    "        arrow_color = \"blue\"\n",
    "        \n",
    "        #         continue\n",
    "        \n",
    "    #if neuron_y[start_i] < neuron_y[end_i]:\n",
    "    #    continue\n",
    "   \n",
    "    #arrow_color=\"black\"\n",
    "    # Add arrow\n",
    "    arrow = FancyArrow(\n",
    "        neuron_x[end_i], neuron_y[end_i],\n",
    "        neuron_x[start_i] - neuron_x[end_i], neuron_y[start_i] - neuron_y[end_i],\n",
    "        length_includes_head=True, head_width=25,\n",
    "        linewidth=1, color=arrow_color, alpha=0.7, edgecolor=arrow_color, facecolor=arrow_color)\n",
    "    plt.gca().add_patch(arrow)\n",
    "    \n",
    "\n",
    "plt.xlabel('um')\n",
    "plt.ylabel('um')\n",
    "plt.title(\"Directionality plot\")  # Adding the title\n",
    "plt.show()"
   ]
  },
  {
   "cell_type": "markdown",
   "id": "c4b0745b",
   "metadata": {},
   "source": [
    "### print euclidean distance"
   ]
  },
  {
   "cell_type": "code",
   "execution_count": 39,
   "id": "b1bd5fb0",
   "metadata": {},
   "outputs": [
    {
     "name": "stdout",
     "output_type": "stream",
     "text": [
      "221.35943621178654\n",
      "234.7871376374779\n",
      "144.30869689661813\n",
      "344.7100230628637\n",
      "477.9775099311682\n",
      "126.19429464123962\n",
      "344.7100230628637\n",
      "133.2760293526184\n",
      "213.6147232753398\n",
      "78.26237921249263\n",
      "1247.9107540204948\n",
      "126.19429464123962\n",
      "126.19429464123962\n",
      "477.9775099311682\n",
      "133.2760293526184\n",
      "126.19429464123962\n",
      "70.0\n",
      "140.0\n",
      "98.99494936611666\n",
      "620.695174783887\n",
      "620.695174783887\n",
      "126.19429464123962\n",
      "110.67971810589327\n",
      "224.1093483101497\n",
      "126.19429464123962\n",
      "98.99494936611666\n",
      "228.1720841820927\n",
      "148.49242404917499\n",
      "1247.9107540204948\n",
      "1257.6888526181665\n",
      "110.67971810589327\n",
      "213.6147232753398\n",
      "110.67971810589327\n",
      "234.7871376374779\n",
      "620.695174783887\n",
      "620.695174783887\n",
      "144.30869689661813\n",
      "70.0\n",
      "70.0\n",
      "228.1720841820927\n",
      "321.7335854398791\n",
      "78.26237921249263\n",
      "148.49242404917499\n",
      "148.49242404917499\n",
      "254.80384612481814\n",
      "254.80384612481814\n",
      "321.7335854398791\n",
      "224.1093483101497\n",
      "221.35943621178654\n",
      "140.0\n",
      "70.0\n",
      "148.49242404917499\n",
      "1257.6888526181665\n",
      "110.67971810589327\n"
     ]
    }
   ],
   "source": [
    "pairs = []\n",
    "\n",
    "# Plot each individual arrow\n",
    "for i in range(len(lates_directed)):\n",
    "    \n",
    "    # Get starting and ending arrow based on direction\n",
    "    is_pos = np.median(lates_directed[i])>0\n",
    "    if is_pos:\n",
    "        start_i =  pairs_directed[i][0]\n",
    "        end_i = pairs_directed[i][1]\n",
    "    else:\n",
    "        start_i =  pairs_directed[i][1]\n",
    "        end_i = pairs_directed[i][0] \n",
    "    \n",
    "    pair_distance = np.sqrt( (neuron_x[end_i] - neuron_x[start_i] )**2 + (neuron_y[end_i] - neuron_y[start_i] )**2 )\n",
    "    pairs.append(pair_distance)\n",
    "    print(pair_distance)\n",
    "    "
   ]
  },
  {
   "cell_type": "code",
   "execution_count": 41,
   "id": "d7c074a1",
   "metadata": {},
   "outputs": [
    {
     "data": {
      "text/plain": [
       "54"
      ]
     },
     "execution_count": 41,
     "metadata": {},
     "output_type": "execute_result"
    }
   ],
   "source": [
    "len(pairs)"
   ]
  },
  {
   "cell_type": "code",
   "execution_count": 43,
   "id": "5405fd92",
   "metadata": {},
   "outputs": [
    {
     "data": {
      "text/plain": [
       "21"
      ]
     },
     "execution_count": 43,
     "metadata": {},
     "output_type": "execute_result"
    }
   ],
   "source": [
    "len(np.unique(pairs))"
   ]
  },
  {
   "cell_type": "markdown",
   "id": "7bbe0bfd",
   "metadata": {},
   "source": [
    "## ELLIOTT"
   ]
  },
  {
   "cell_type": "code",
   "execution_count": 93,
   "id": "3b9af3b7",
   "metadata": {},
   "outputs": [],
   "source": [
    "blue_lates=[]\n",
    "red_lates =[]\n",
    "green_lates=[]\n",
    "\n",
    "\n",
    "# Plot each individual arrow\n",
    "for i in range(len(lates_directed)):\n",
    "    \n",
    "    # Get starting and ending arrow based on direction\n",
    "    is_pos = np.median(lates_directed[i]) > 0\n",
    "    if is_pos:\n",
    "        start_i = pairs_directed[i][0]\n",
    "        end_i = pairs_directed[i][1]\n",
    "    else:\n",
    "        start_i = pairs_directed[i][1]\n",
    "        end_i = pairs_directed[i][0]\n",
    "\n",
    "        \n",
    "    #arrow_color=\"black\"\n",
    "    if (neuron_y[start_i] < 500 or neuron_y[end_i] < 500):\n",
    "        green_lates.append( sd.latencies_to_index(end_i)[start_i]  )\n",
    "        #arrow_color=\"green\"\n",
    "        #print(start_i)\n",
    "        \n",
    "    if neuron_x[start_i] < neuron_x[end_i] and (neuron_y[start_i] > 500 or neuron_y[end_i] > 500):\n",
    "        #arrow_color=\"red\"\n",
    "        red_lates.append( sd.latencies_to_index(end_i)[start_i]  )\n",
    "    \n",
    "    if neuron_x[start_i] > neuron_x[end_i] and (neuron_y[start_i] > 500 or neuron_y[end_i] > 500):\n",
    "        #arrow_color = \"blue\"\n",
    "        blue_lates.append( sd.latencies_to_index(end_i)[start_i]  )\n",
    "        \n",
    "        #         continue"
   ]
  },
  {
   "cell_type": "code",
   "execution_count": 130,
   "id": "c62df20c",
   "metadata": {},
   "outputs": [],
   "source": [
    "def plot_latency_histograms_for_random_pairs(lates_all, threshold=0.3):#, num_random_pairs=4):\n",
    "    #neuron_pairs = np.array(pairs)\n",
    "\n",
    "    # Get 'num_random_pairs' random indices to choose random neuron pairs\n",
    "    #random_indices = np.random.choice(neuron_pairs.shape[0], num_random_pairs, replace=False)\n",
    "    random_indices=[4,5,6,7]\n",
    "    #random_neuron_pairs = neuron_pairs[random_indices]\n",
    "\n",
    "    fig, axs = plt.subplots(1, 4, figsize=(12, 3))\n",
    "    axs = axs.ravel()\n",
    "\n",
    "    for i in range(4):#i, neuron_pair in enumerate(random_neuron_pairs):\n",
    "        #neuron1, neuron2 = neuron_pair\n",
    "        #lates_n1 = sd.latencies_to_index(neuron1)\n",
    "        lates_raw = lates_all[random_indices[i]]\n",
    "        lates = list(filter(lambda x: x < 10 and x > -10, lates_raw))\n",
    "\n",
    "        mean_latency = np.mean(lates)\n",
    "        std_latency = np.std(lates)\n",
    "        cutoff = 2 * std_latency\n",
    "\n",
    "        # Remove values more than 2 standard deviations away from mean\n",
    "        lates_filtered = [latency for latency in lates if abs(latency - mean_latency) <= cutoff]\n",
    "\n",
    "        axs[i].hist(lates_filtered, bins=12, alpha=0.7, label='Latency')\n",
    "        axs[i].axvline(mean_latency, color='red', linestyle='dashed', linewidth=2, label='Mean')\n",
    "        axs[i].axvline(mean_latency - std_latency, color='green', linestyle='dashed', linewidth=2, label='Std -')\n",
    "        axs[i].axvline(mean_latency + std_latency, color='green', linestyle='dashed', linewidth=2, label='Std +')\n",
    "        axs[i].axvline(0, color='black', linestyle='dashed', linewidth=0.5, label='Std +')\n",
    "        #axs[i].set_xlim(-0.5, 0.5)\n",
    "        axs[i].set_xlim(-1*(abs(mean_latency)+cutoff), abs(mean_latency) + cutoff) \n",
    "        #axs[i].set_ylim( , abs(mean_latency)+cutoff )\n",
    "        axs[i].set_xlabel(\"Latency (ms)\")\n",
    "        axs[i].set_ylabel(\"Number of spike pairs\")\n",
    "        axs[i].set_title(f\"{round(100*(len(lates_filtered)/len(lates_raw)))}% kept\")\n",
    "#         axs[i].legend()\n",
    "\n",
    "    plt.tight_layout()\n",
    "    plt.show()\n",
    "\n",
    "# # Call the function with your SpikeData object, the desired STTC threshold, and the number of random pairs to plot\n",
    "# plot_latency_histograms_for_random_pairs, threshold=0.3, num_random_pairs=4)"
   ]
  },
  {
   "cell_type": "code",
   "execution_count": 132,
   "id": "743b7105",
   "metadata": {},
   "outputs": [
    {
     "data": {
      "image/png": "[encoded data removed]",
      "text/plain": [
       "<Figure size 1200x300 with 4 Axes>"
      ]
     },
     "metadata": {},
     "output_type": "display_data"
    }
   ],
   "source": [
    "# Call the function with your SpikeData object, the desired STTC threshold, and the number of random pairs to plot\n",
    "plot_latency_histograms_for_random_pairs(green_lates)"
   ]
  },
  {
   "cell_type": "code",
   "execution_count": null,
   "id": "19243380",
   "metadata": {},
   "outputs": [],
   "source": []
  },
  {
   "cell_type": "code",
   "execution_count": null,
   "id": "ead8e09f",
   "metadata": {},
   "outputs": [],
   "source": []
  },
  {
   "cell_type": "code",
   "execution_count": null,
   "id": "b9d70301",
   "metadata": {},
   "outputs": [],
   "source": []
  },
  {
   "cell_type": "code",
   "execution_count": null,
   "id": "a925b308",
   "metadata": {},
   "outputs": [],
   "source": []
  },
  {
   "cell_type": "code",
   "execution_count": null,
   "id": "65fce91e",
   "metadata": {},
   "outputs": [],
   "source": []
  },
  {
   "cell_type": "markdown",
   "id": "9e9857a2",
   "metadata": {},
   "source": [
    "### plot"
   ]
  },
  {
   "cell_type": "code",
   "execution_count": 54,
   "id": "30341070",
   "metadata": {},
   "outputs": [
    {
     "name": "stderr",
     "output_type": "stream",
     "text": [
      "/tmp/ipykernel_1135338/2677915455.py:6: UserWarning: Setting the 'color' property will override the edgecolor or facecolor properties.\n",
      "  arrow = FancyArrow( neuron_x[end_i], neuron_y[end_i], neuron_x[start_i] - neuron_x[end_i], neuron_y[start_i] - neuron_y[end_i], length_includes_head=True, head_width=3,\n"
     ]
    },
    {
     "data": {
      "image/png": "[encoded data removed]",
      "text/plain": [
       "<Figure size 640x480 with 1 Axes>"
      ]
     },
     "metadata": {},
     "output_type": "display_data"
    }
   ],
   "source": [
    "#fig, ax = plt.subplots(figsize=(8, 6))\n",
    "plt.figsize= (8,6)\n",
    "plt.scatter( neuron_x[start_i], neuron_y[start_i], alpha=0 )\n",
    "#plt.xlim(500,1600)\n",
    "#plt.ylim(0,2200)\n",
    "arrow = FancyArrow( neuron_x[end_i], neuron_y[end_i], neuron_x[start_i] - neuron_x[end_i], neuron_y[start_i] - neuron_y[end_i], length_includes_head=True, head_width=3,\n",
    "                                   linewidth=1, color='black', alpha=0.7, edgecolor='black', facecolor='black')\n",
    "plt.gca().add_patch(arrow)\n",
    "\n",
    "\n",
    "plt.xlabel('um')\n",
    "plt.ylabel('um')\n",
    "plt.title(\"Directionality plot\")  # Adding the title\n",
    "plt.show()"
   ]
  },
  {
   "cell_type": "code",
   "execution_count": 55,
   "id": "ea027a2d",
   "metadata": {},
   "outputs": [
    {
     "name": "stderr",
     "output_type": "stream",
     "text": [
      "/tmp/ipykernel_1135338/3483360784.py:3: UserWarning: Setting the 'color' property will override the edgecolor or facecolor properties.\n",
      "  arrow = FancyArrow(neuron_x[end_i], neuron_y[end_i], neuron_x[start_i] - neuron_x[end_i], neuron_y[start_i] - neuron_y[end_i],\n"
     ]
    },
    {
     "data": {
      "image/png": "[encoded data removed]",
      "text/plain": [
       "<Figure size 800x600 with 1 Axes>"
      ]
     },
     "metadata": {},
     "output_type": "display_data"
    }
   ],
   "source": [
    "fig, ax = plt.subplots(figsize=(8, 6))\n",
    "plt.scatter(neuron_x[start_i], neuron_y[start_i], alpha=0)\n",
    "arrow = FancyArrow(neuron_x[end_i], neuron_y[end_i], neuron_x[start_i] - neuron_x[end_i], neuron_y[start_i] - neuron_y[end_i],\n",
    "                   length_includes_head=True, head_width=3, linewidth=1, color='black', alpha=0.7, edgecolor='black', facecolor='black')\n",
    "ax.add_patch(arrow)\n",
    "plt.xlim(500, 1600)\n",
    "plt.ylim(0, 2200)\n",
    "ax.set_xlabel('um')\n",
    "ax.set_ylabel('um')\n",
    "ax.set_title(\"Directionality plot\")  # Adding the title\n",
    "plt.show()"
   ]
  },
  {
   "cell_type": "markdown",
   "id": "984ccc2f",
   "metadata": {},
   "source": [
    "### <font color=\"brown\">reference code"
   ]
  },
  {
   "cell_type": "code",
   "execution_count": null,
   "id": "20983795",
   "metadata": {},
   "outputs": [],
   "source": [
    "fig, ax = plt.subplots(figsize=(8, 6))\n",
    "ax.scatter(neuron_x, neuron_y, s=neuron_amp, c=upd_node_info)\n",
    "threshold = thresh\n",
    "sttc = inp_sd.spike_time_tilings()\n",
    "for i in range(sttc.shape[0]):\n",
    "    for j in range(sttc.shape[1]):\n",
    "        if i <= j:\n",
    "            continue\n",
    "        if sttc[i, j] < threshold:\n",
    "            continue\n",
    "#             if i in [7, 10, 16, 43, 48, 66, 67]:\n",
    "#                 continue\n",
    "#             if j in [7, 10, 16, 43, 48, 66, 67]:\n",
    "            continue\n",
    "        ix, iy = inp_sd.neuron_data[0][i]['position']\n",
    "        jx, jy = inp_sd.neuron_data[0][j]['position']\n",
    "        linewidth = 1.5 + 2 * (sttc[i, j] - threshold)\n",
    "        opacity = 0.2 + 0.8 * (sttc[i, j] - threshold)\n",
    "        if upd_node_info[i] == 'blue' and upd_node_info[j] == 'red':\n",
    "            linewidth = 2.0  # Set a thicker linewidth\n",
    "            arrow = FancyArrow(jx, jy, ix - jx, iy - jy, length_includes_head=True, head_width=35,\n",
    "                               linewidth=linewidth, color='black', alpha=0.7, edgecolor='black', facecolor='black')\n",
    "            plt.gca().add_patch(arrow)\n",
    "        else:\n",
    "            ax.plot([ix, jx], [iy, jy], linewidth=linewidth, color='grey', alpha=opacity)\n",
    "ax.set_xlabel('um')\n",
    "ax.set_ylabel('um')\n",
    "ax.set_title(\"Directionality plot\")  # Adding the title"
   ]
  },
  {
   "cell_type": "code",
   "execution_count": null,
   "id": "d113b9de",
   "metadata": {},
   "outputs": [],
   "source": [
    "arrow = FancyArrow(jx, jy, ix - jx, iy - jy, length_includes_head=True, head_width=2,\n",
    "                                   linewidth=1, color='black', alpha=0.7, edgecolor='black', facecolor='black')\n",
    "                plt.gca().add_patch(arrow)"
   ]
  },
  {
   "cell_type": "markdown",
   "id": "61def9be",
   "metadata": {},
   "source": [
    "# <font color=\"gray\">reference code"
   ]
  },
  {
   "cell_type": "code",
   "execution_count": null,
   "id": "a9385001",
   "metadata": {},
   "outputs": [],
   "source": [
    "import numpy as np\n",
    "import matplotlib.pyplot as plt\n",
    "\n",
    "def plot_latency_histograms_for_random_pairs(sd, threshold=0.3, num_random_pairs=30):\n",
    "    neuron_pairs = find_sttc_above_threshold(sd, threshold)\n",
    "\n",
    "    # Get 'num_random_pairs' random indices to choose random neuron pairs\n",
    "    random_indices = np.random.choice(neuron_pairs.shape[0], num_random_pairs, replace=False)\n",
    "    random_neuron_pairs = neuron_pairs[random_indices]\n",
    "    \n",
    "    fig, axs = plt.subplots(8, 8, figsize=(30, 30))\n",
    "    axs = axs.ravel()\n",
    "\n",
    "    # Collect latency data from all neuron pairs\n",
    "    all_lates = []\n",
    "\n",
    "    for i, neuron_pair in enumerate(random_neuron_pairs):\n",
    "        neuron1, neuron2 = neuron_pair\n",
    "        lates_n1 = sd.latencies_to_index(neuron1)\n",
    "        lates_raw = lates_n1[neuron2]\n",
    "        lates = list(filter(lambda x: x < 10 and x > -10, lates_raw))\n",
    "\n",
    "        all_lates.extend(lates)  # Collect all latencies for setting common axis limits\n",
    "\n",
    "        mean_latency = np.mean(lates)\n",
    "        std_latency = np.std(lates)\n",
    "\n",
    "        axs[i].hist(lates, bins=10, alpha=0.7, label='Latency')\n",
    "        axs[i].axvline(mean_latency, color='red', linestyle='dashed', linewidth=2, label='Mean')\n",
    "        axs[i].axvline(mean_latency - std_latency, color='green', linestyle='dashed', linewidth=2, label='Std -')\n",
    "        axs[i].axvline(mean_latency + std_latency, color='green', linestyle='dashed', linewidth=2, label='Std +')\n",
    "\n",
    "        axs[i].set_xlabel(\"Latency (ms)\")\n",
    "        axs[i].set_ylabel(\"Number of spike pairs\")\n",
    "        axs[i].set_title(f\"Latency Histogram - Neuron Pair {neuron1} and {neuron2}\")\n",
    "\n",
    "    # Calculate common axis limits from all latencies\n",
    "    common_x_limit = (-10, 10)  # You can adjust the range if needed\n",
    "    common_y_limit = (0, len(all_lates)//10)  # Dividing by 10 just to set a reasonable range for the y-axis\n",
    "\n",
    "    # Set common axis limits for all subplots\n",
    "    for ax in axs:\n",
    "        ax.set_xlim(common_x_limit)\n",
    "        ax.set_ylim(common_y_limit)\n",
    "\n",
    "    # Hide unused subplots\n",
    "    for i in range(num_random_pairs, len(axs)):\n",
    "        axs[i].axis('off')\n",
    "\n",
    "    plt.tight_layout()\n",
    "    plt.savefig('LatencyDistributions.png')\n",
    "    plt.show()\n",
    "\n",
    "# Call the function with your SpikeData object, the desired STTC threshold, and the number of random pairs to plot\n",
    "plot_latency_histograms_for_random_pairs(sd, threshold=0.48, num_random_pairs=64)"
   ]
  }
 ],
 "metadata": {
  "hide_input": false,
  "kernelspec": {
   "display_name": "Python 3 (ipykernel)",
   "language": "python",
   "name": "python3"
  },
  "language_info": {
   "codemirror_mode": {
    "name": "ipython",
    "version": 3
   },
   "file_extension": ".py",
   "mimetype": "text/x-python",
   "name": "python",
   "nbconvert_exporter": "python",
   "pygments_lexer": "ipython3",
   "version": "3.10.10"
  },
  "toc": {
   "base_numbering": 1,
   "nav_menu": {},
   "number_sections": true,
   "sideBar": true,
   "skip_h1_title": false,
   "title_cell": "Table of Contents",
   "title_sidebar": "Contents",
   "toc_cell": false,
   "toc_position": {},
   "toc_section_display": true,
   "toc_window_display": false
  },
  "varInspector": {
   "cols": {
    "lenName": 16,
    "lenType": 16,
    "lenVar": 40
   },
   "kernels_config": {
    "python": {
     "delete_cmd_postfix": "",
     "delete_cmd_prefix": "del ",
     "library": "var_list.py",
     "varRefreshCmd": "print(var_dic_list())"
    },
    "r": {
     "delete_cmd_postfix": ") ",
     "delete_cmd_prefix": "rm(",
     "library": "var_list.r",
     "varRefreshCmd": "cat(var_dic_list()) "
    }
   },
   "types_to_exclude": [
    "module",
    "function",
    "builtin_function_or_method",
    "instance",
    "_Feature"
   ],
   "window_display": false
  }
 },
 "nbformat": 4,
 "nbformat_minor": 5
}

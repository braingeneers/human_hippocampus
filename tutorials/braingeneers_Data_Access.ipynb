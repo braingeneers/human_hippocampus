{
 "cells": [
  {
   "cell_type": "markdown",
   "id": "ecad9dde",
   "metadata": {},
   "source": [
    "<font color=\"red\"> Not Done: but still informative"
   ]
  },
  {
   "cell_type": "markdown",
   "id": "115864ba",
   "metadata": {},
   "source": [
    "<font size=7>Braingeneers Data Access"
   ]
  },
  {
   "cell_type": "markdown",
   "id": "f8aa8c07",
   "metadata": {},
   "source": [
    "This notebooks explains how to access all of the datasets that the braingeneers team has created. It shows how to view, download, and even create your own datasets. Pelase note, be *extremely careful* was when work with stored datasets. Double check every command before running it. You *do not* want to be the person who accidently deletes or overwites an extremely valuable dataset."
   ]
  },
  {
   "cell_type": "markdown",
   "id": "95fa63bc",
   "metadata": {},
   "source": [
    "The braingeneers uses the [National Research Platform](https://nationalresearchplatform.org/) for all of our data storage and cloud computing needs. You can think of the NRP as our version of AWS. Here we will focus only on accessing data, and not [cloud computing](https://github.com/braingeneers/wiki/blob/main/shared/prp_quickstart.md). To keep things from getting messy, we organize all of our datasets according to a [specific protocol](https://github.com/braingeneers/wiki/blob/main/api_data/organizing-data.md). Data is then uploaded and downloaded [using S3](https://github.com/braingeneers/wiki/blob/main/shared/prp_storage.md). This notebooks shows how you can use S3 commands to access data using the terminal. If you check the S3 reference you'll find that there's there also other ways to access the datasets using python code with the braingeneers packages `smart_open` and `awscli`.\n"
   ]
  },
  {
   "cell_type": "markdown",
   "id": "11db3cc5",
   "metadata": {},
   "source": [
    "# Commands"
   ]
  },
  {
   "cell_type": "markdown",
   "id": "6fe8f74d",
   "metadata": {},
   "source": [
    "## `ls` command"
   ]
  },
  {
   "cell_type": "code",
   "execution_count": null,
   "id": "eb65a6b9",
   "metadata": {},
   "outputs": [],
   "source": []
  },
  {
   "cell_type": "raw",
   "id": "51eec029",
   "metadata": {},
   "source": [
    " aws --endpoint https://s3-west.nrp-nautilus.io s3 ls s3://braingeneersdev/"
   ]
  },
  {
   "cell_type": "code",
   "execution_count": null,
   "id": "a8a0de6a",
   "metadata": {},
   "outputs": [],
   "source": []
  },
  {
   "cell_type": "raw",
   "id": "5ef9e5fb",
   "metadata": {},
   "source": [
    " aws --endpoint https://s3-west.nrp-nautilus.io s3 ls s3://braingeneers/ephys/2023-04-02-e-Hc3.28_hckcr1-firstActivity/"
   ]
  },
  {
   "cell_type": "code",
   "execution_count": null,
   "id": "01ba03e4",
   "metadata": {},
   "outputs": [],
   "source": []
  },
  {
   "cell_type": "code",
   "execution_count": null,
   "id": "bf8ba251",
   "metadata": {},
   "outputs": [],
   "source": [
    "aws --endpoint https://s3-west.nrp-nautilus.io s3 ls s3://braingeneers/ephys/2023-05-10-e-hc52_chip18790_activity/"
   ]
  },
  {
   "cell_type": "code",
   "execution_count": null,
   "id": "424f8e6c",
   "metadata": {},
   "outputs": [],
   "source": [
    "aws --endpoint https://s3-west.nrp-nautilus.io s3 ls s3://braingeneers/ephys/2022-10-20-e-/derived/kilosort2/"
   ]
  },
  {
   "cell_type": "markdown",
   "id": "d03e2e43",
   "metadata": {},
   "source": [
    "## `cp command`"
   ]
  },
  {
   "cell_type": "markdown",
   "id": "e85ce035",
   "metadata": {},
   "source": [
    "[cp command documentation](https://docs.aws.amazon.com/cli/latest/reference/s3/cp.html)"
   ]
  },
  {
   "cell_type": "markdown",
   "id": "5dace809",
   "metadata": {},
   "source": [
    "Downloading data"
   ]
  },
  {
   "cell_type": "raw",
   "id": "c1af469a",
   "metadata": {},
   "source": [
    "aws --endpoint https://s3-west.nrp-nautilus.io s3 cp s3://braingeneers/ephys/2023-04-03-hc328b_ChR2 . --recursive"
   ]
  },
  {
   "cell_type": "markdown",
   "id": "7bbd0961",
   "metadata": {},
   "source": [
    "Uploading data"
   ]
  },
  {
   "cell_type": "raw",
   "id": "7dd3aabf",
   "metadata": {},
   "source": [
    "aws --endpoint https://s3-west.nrp-nautilus.io s3 cp  . s3://braingeneers/ephys/folder_name/ --recursive"
   ]
  },
  {
   "cell_type": "code",
   "execution_count": null,
   "id": "f57f4e8d",
   "metadata": {},
   "outputs": [],
   "source": []
  },
  {
   "cell_type": "raw",
   "id": "c47a8004",
   "metadata": {},
   "source": [
    "aws --endpoint https://s3-west.nrp-nautilus.io s3 cp s3://braingeneers/ephys/2022-11-02-e-Hc11.1-chip16753/derived/kilosort2/hc11.1_plated-11.1_chip-16753_rec_11.2.22AM-immediate_curated.zip"
   ]
  },
  {
   "cell_type": "raw",
   "id": "7682b4dc",
   "metadata": {},
   "source": [
    "aws --endpoint https://s3-west.nrp-nautilus.io s3 cp s3://braingeneers/ephys/2022-11-02-e-Hc11.1-chip16753/derived/kilosort2/hc11.1_plated-11.1_chip-16753_rec_11.2.22AM-immediate_curated_neg.zip"
   ]
  },
  {
   "cell_type": "code",
   "execution_count": null,
   "id": "589f5c86",
   "metadata": {},
   "outputs": [],
   "source": []
  },
  {
   "cell_type": "code",
   "execution_count": null,
   "id": "a72732a2",
   "metadata": {},
   "outputs": [],
   "source": []
  },
  {
   "cell_type": "code",
   "execution_count": null,
   "id": "fc77fcef",
   "metadata": {},
   "outputs": [],
   "source": []
  },
  {
   "cell_type": "code",
   "execution_count": null,
   "id": "8459dd5a",
   "metadata": {},
   "outputs": [],
   "source": []
  },
  {
   "cell_type": "code",
   "execution_count": null,
   "id": "38b61a26",
   "metadata": {},
   "outputs": [],
   "source": [
    "aws --endpoint https://s3-west.nrp-nautilus.io s3 cp s3://braingeneers/ephys/2023-05-10-e-hc52_18790/ . --recursive"
   ]
  },
  {
   "cell_type": "code",
   "execution_count": null,
   "id": "f4072dda",
   "metadata": {},
   "outputs": [],
   "source": [
    "aws --endpoint https://s3-west.nrp-nautilus.io s3 cp s3://braingeneers/ephys/2022-10-20-e-/derived/kilosort2/hc9.19_chp-16849_plated-10.19.22_rec10.20.22_curated.zip .\n",
    "            "
   ]
  },
  {
   "cell_type": "markdown",
   "id": "3801bf89",
   "metadata": {},
   "source": [
    "# Public Buckets"
   ]
  },
  {
   "cell_type": "markdown",
   "id": "0a9af9e9",
   "metadata": {},
   "source": [
    "This is the command used to make a bucket public"
   ]
  },
  {
   "cell_type": "code",
   "execution_count": null,
   "id": "984a258f",
   "metadata": {},
   "outputs": [],
   "source": [
    "aws --endpoint https://s3-west.nrp-nautilus.io  s3api put-object-acl --bucket s3://braingeneers/ephys/2023-04-02-e-hc328_unperturbed/  --acl public-read"
   ]
  },
  {
   "cell_type": "code",
   "execution_count": null,
   "id": "8b548b54",
   "metadata": {},
   "outputs": [],
   "source": []
  },
  {
   "cell_type": "code",
   "execution_count": null,
   "id": "87cc4843",
   "metadata": {},
   "outputs": [],
   "source": []
  },
  {
   "cell_type": "code",
   "execution_count": null,
   "id": "556a80a5",
   "metadata": {},
   "outputs": [],
   "source": [
    "aws --endpoint https://s3-west.nrp-nautilus.io  s3api put-object-acl --bucket s3://braingeneers/ephys/2023-04-02-e-hc328_unperturbed/  --acl public-read"
   ]
  },
  {
   "cell_type": "code",
   "execution_count": null,
   "id": "b8962390",
   "metadata": {},
   "outputs": [],
   "source": []
  }
 ],
 "metadata": {
  "hide_input": false,
  "kernelspec": {
   "display_name": "Python 3 (ipykernel)",
   "language": "python",
   "name": "python3"
  },
  "language_info": {
   "codemirror_mode": {
    "name": "ipython",
    "version": 3
   },
   "file_extension": ".py",
   "mimetype": "text/x-python",
   "name": "python",
   "nbconvert_exporter": "python",
   "pygments_lexer": "ipython3",
   "version": "3.10.10"
  },
  "toc": {
   "base_numbering": 1,
   "nav_menu": {},
   "number_sections": true,
   "sideBar": true,
   "skip_h1_title": false,
   "title_cell": "Table of Contents",
   "title_sidebar": "Contents",
   "toc_cell": false,
   "toc_position": {},
   "toc_section_display": true,
   "toc_window_display": false
  },
  "varInspector": {
   "cols": {
    "lenName": 16,
    "lenType": 16,
    "lenVar": 40
   },
   "kernels_config": {
    "python": {
     "delete_cmd_postfix": "",
     "delete_cmd_prefix": "del ",
     "library": "var_list.py",
     "varRefreshCmd": "print(var_dic_list())"
    },
    "r": {
     "delete_cmd_postfix": ") ",
     "delete_cmd_prefix": "rm(",
     "library": "var_list.r",
     "varRefreshCmd": "cat(var_dic_list()) "
    }
   },
   "types_to_exclude": [
    "module",
    "function",
    "builtin_function_or_method",
    "instance",
    "_Feature"
   ],
   "window_display": false
  }
 },
 "nbformat": 4,
 "nbformat_minor": 5
}

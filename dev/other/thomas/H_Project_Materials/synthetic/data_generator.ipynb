{
 "cells": [
  {
   "cell_type": "markdown",
   "metadata": {},
   "source": [
    "# Data Generation"
   ]
  },
  {
   "cell_type": "markdown",
   "metadata": {},
   "source": [
    "Notebook to generate four different simulated datasets: Randomized, Plane Wave, Ring Wave, and Rotating Wave."
   ]
  },
  {
   "cell_type": "markdown",
   "metadata": {},
   "source": [
    "## Imports"
   ]
  },
  {
   "cell_type": "code",
   "execution_count": 1,
   "metadata": {},
   "outputs": [],
   "source": [
    "# Standard library imports\n",
    "import os\n",
    "import random\n",
    "import pickle\n",
    "\n",
    "# Data analysis packages\n",
    "import numpy as np\n",
    "import pandas as pd\n",
    "\n",
    "# Braingeneers packages for analysis\n",
    "import braingeneers\n",
    "from braingeneers.analysis.analysis import SpikeData"
   ]
  },
  {
   "cell_type": "markdown",
   "metadata": {},
   "source": [
    "## Helper Functions"
   ]
  },
  {
   "cell_type": "code",
   "execution_count": 2,
   "metadata": {},
   "outputs": [],
   "source": [
    "def pickle_object(obj, filename):\n",
    "    \"\"\"\n",
    "    Serializes an object and saves it to a file using the pickle protocol.\n",
    "\n",
    "    Parameters:\n",
    "    - obj: The Python object to be pickled.\n",
    "    - filename: The name of the file where the object will be stored.\n",
    "    \"\"\"\n",
    "    with open(filename, 'wb') as file:\n",
    "        pickle.dump(obj, file)"
   ]
  },
  {
   "cell_type": "markdown",
   "metadata": {},
   "source": [
    "## Random Data Code"
   ]
  },
  {
   "cell_type": "code",
   "execution_count": 3,
   "metadata": {},
   "outputs": [],
   "source": [
    "def generate_randomized_spike_data(grid_size=16, recording_duration_ms=60000, mean_firing_rate_hz=3.45, firing_rate_std_dev_hz=0.9):\n",
    "    \"\"\"\n",
    "    Generates spike times for neurons arranged in a grid_size x grid_size grid, simulating \n",
    "    a high-density multi-electrode array (HD MEA). Each neuron's firing rate is randomly \n",
    "    determined by a normal distribution centered around mean_firing_rate_hz with a \n",
    "    standard deviation of firing_rate_std_dev_hz, reflecting the lack of inherent spatial \n",
    "    or temporal patterns.\n",
    "\n",
    "    Parameters:\n",
    "    - grid_size: The width and height of the square neuron grid, representing the HD MEA.\n",
    "    - recording_duration_ms: The duration of the simulated recording in milliseconds.\n",
    "    - mean_firing_rate_hz: The mean firing rate in Hertz (Hz) for the neuron firing rate distribution.\n",
    "    - firing_rate_std_dev_hz: The standard deviation in Hz of the neuron firing rates.\n",
    "    \n",
    "    Returns:\n",
    "    - A SpikeData object containing:\n",
    "        - spike_times_list: A list of numpy arrays, each array containing the spike times for each neuron.\n",
    "        - total_neurons: The total number of neurons simulated.\n",
    "        - recording_length_ms: The total duration of the recording in milliseconds.\n",
    "        - neuron_layout: A dictionary mapping each neuron to its position on the grid.\n",
    "    \"\"\"\n",
    "    np.random.seed(0)  # For reproducibility\n",
    "    total_neurons = grid_size * grid_size\n",
    "    spike_times_list = []\n",
    "\n",
    "    # Generate spike times with variable firing rates for each neuron\n",
    "    for _ in range(total_neurons):\n",
    "        # Determine the neuron's firing rate from a normal distribution\n",
    "        neuron_firing_rate_hz = np.random.normal(mean_firing_rate_hz, firing_rate_std_dev_hz)\n",
    "        neuron_firing_rate_hz = max(neuron_firing_rate_hz, 0)  # Ensure the rate is not negative\n",
    "        num_spikes = np.random.poisson(neuron_firing_rate_hz * recording_duration_ms / 1000)  # Convert Hz to spikes per ms\n",
    "        spike_times = np.random.uniform(0, recording_duration_ms, num_spikes)\n",
    "        spike_times_list.append(spike_times)\n",
    "\n",
    "    # Generate positions for each neuron on the grid\n",
    "    neuron_positions = [(x, y) for x in range(grid_size) for y in range(grid_size)]\n",
    "    neuron_layout = {'positions': {i: {'position': neuron_positions[i]} for i in range(total_neurons)}}\n",
    "\n",
    "    # Package the generated spike data and metadata into a SpikeData object\n",
    "    randomized_spike_data = SpikeData(spike_times_list, N=total_neurons, length=recording_duration_ms, neuron_data=neuron_layout)\n",
    "    return randomized_spike_data"
   ]
  },
  {
   "cell_type": "markdown",
   "metadata": {},
   "source": [
    "## Plane Wave Data Generator"
   ]
  },
  {
   "cell_type": "code",
   "execution_count": 4,
   "metadata": {},
   "outputs": [],
   "source": [
    "def generate_wave_propagation_spike_data(total_duration_ms, num_waves, num_rows, num_cols, base_overlap_duration_ms, inter_wave_break_ms, sparsity_factor=20, wave_slant_delay_ms=1, overlap_duration_variation_ms=5):\n",
    "    \"\"\"\n",
    "    Simulates coordinated neuronal activity reminiscent of plane waves in the neocortex, \n",
    "    generating a structured dataset that models a sequence of neuronal spikes across \n",
    "    a multi-electrode array (MEA). This function aims to emulate a plane-wave-like \n",
    "    pattern of activity, inspired by observations in Wu's \"Propagating Waves of \n",
    "    Activity in the Neocortex\" paper.\n",
    "    \n",
    "    Parameters:\n",
    "    - total_duration_ms: Total duration of the simulation in milliseconds.\n",
    "    - num_waves: Number of distinct propagation waves to generate.\n",
    "    - num_rows, num_cols: Dimensions of the MEA grid.\n",
    "    - base_overlap_duration_ms: Baseline overlap duration in milliseconds for adjacent rows.\n",
    "    - inter_wave_break_ms: Duration of the break period in milliseconds between waves.\n",
    "    - sparsity_factor: Controls the sparsity of spikes; higher values mean fewer spikes.\n",
    "    - wave_slant_delay_ms: Delay in ms as the wave moves from one column to the next.\n",
    "    - overlap_duration_variation_ms: Maximum variation in milliseconds from the baseline overlap duration.\n",
    "    \n",
    "    Returns:\n",
    "    - A SpikeData object containing:\n",
    "      - `train`: A list of numpy arrays, each array contains spike times for a neuron.\n",
    "      - `N`: Total number of channels (neurons).\n",
    "      - `length`: Total duration of the simulated spike data in milliseconds.\n",
    "      - `neuron_data`: Dictionary with neuron positions in the MEA grid.\n",
    "    \"\"\"\n",
    "    \n",
    "    # Initialize variables and structures\n",
    "    total_channels = num_rows * num_cols\n",
    "    effective_simulation_duration_ms = total_duration_ms - (inter_wave_break_ms * (num_waves - 1))\n",
    "    wave_duration_ms = effective_simulation_duration_ms / num_waves\n",
    "    neuron_positions = [(x, y) for x in range(num_rows) for y in range(num_cols)]\n",
    "    neuron_positions_data = {'positions': {i: {'position': neuron_positions[i]} for i in range(total_channels)}}\n",
    "    spike_times_by_channel = [[] for _ in range(total_channels)]\n",
    "    \n",
    "    # Generate spikes for each propagation wave\n",
    "    for wave in range(num_waves):\n",
    "        wave_start = wave * (wave_duration_ms + inter_wave_break_ms)\n",
    "        current_overlap_duration_ms = base_overlap_duration_ms + np.random.uniform(-overlap_duration_variation_ms, overlap_duration_variation_ms)\n",
    "        \n",
    "        for row in range(num_rows):\n",
    "            row_start = wave_start + (row * (wave_duration_ms / num_rows - current_overlap_duration_ms))\n",
    "            \n",
    "            for col in range(num_cols):\n",
    "                channel_index = row * num_cols + col\n",
    "                spike_time_start = row_start + (col * wave_slant_delay_ms)\n",
    "                spike_time_end = spike_time_start + (wave_duration_ms / num_rows) + current_overlap_duration_ms\n",
    "                num_spikes = int(wave_duration_ms / num_rows / sparsity_factor)\n",
    "                random_spike_times = np.random.uniform(spike_time_start, spike_time_end, num_spikes)\n",
    "                random_spike_times.sort()\n",
    "                \n",
    "                spike_times_by_channel[channel_index].extend(random_spike_times)\n",
    "    \n",
    "    # Convert spike times to numpy arrays and package in SpikeData object\n",
    "    spike_times_by_channel = [np.array(times) for times in spike_times_by_channel]\n",
    "    plane_wave_spike_data = SpikeData(train=spike_times_by_channel, N=total_channels, length=total_duration_ms, neuron_data=neuron_positions_data)\n",
    "    \n",
    "    return plane_wave_spike_data"
   ]
  },
  {
   "cell_type": "markdown",
   "metadata": {},
   "source": [
    "## Ring Wave Data Generator"
   ]
  },
  {
   "cell_type": "code",
   "execution_count": 5,
   "metadata": {},
   "outputs": [],
   "source": [
    "def generate_ring_wave_spike_data(total_duration_ms, num_waves, grid_rows, grid_cols, base_overlap_duration_ms, break_duration_ms, overlap_variation_ms=5):\n",
    "    \"\"\"\n",
    "    Simulates repeated circular propagations of neural activity, resembling ripples created by dropping\n",
    "    a stone into water. This pattern is inspired by \"ring wave\" patterns observed in rodent hippocampal slices.\n",
    "    The simulation creates waves that begin with a small ring of neurons at the center of the MEA, firing \n",
    "    simultaneously and propagating outward. The firing times of subsequent rings are determined by their \n",
    "    distance from the center, creating a ripple effect.\n",
    "\n",
    "    Parameters:\n",
    "    - total_duration_ms: Total duration of the simulation in milliseconds.\n",
    "    - num_waves: Number of circular waves to generate.\n",
    "    - grid_rows, grid_cols: Dimensions of the MEA grid.\n",
    "    - base_overlap_duration_ms: Baseline overlap duration in milliseconds for adjacent neuron rings.\n",
    "    - break_duration_ms: Duration of the break period in milliseconds between waves.\n",
    "    - overlap_variation_ms: Maximum variation in milliseconds from the baseline overlap duration.\n",
    "    \n",
    "    Returns:\n",
    "    - A SpikeData object containing:\n",
    "        - spike_times_list: A list of numpy arrays, each array containing the spike times for each neuron.\n",
    "        - total_neurons: The total number of neurons simulated.\n",
    "        - recording_length_ms: The total duration of the recording in milliseconds.\n",
    "        - neuron_layout: A dictionary mapping each neuron to its position on the grid.\n",
    "    \"\"\"\n",
    "    total_neurons = grid_rows * grid_cols\n",
    "    adjusted_total_duration_ms = total_duration_ms - (break_duration_ms * (num_waves - 1))\n",
    "    wave_duration_ms = adjusted_total_duration_ms / num_waves\n",
    "\n",
    "    center_x, center_y = (grid_rows - 1) / 2, (grid_cols - 1) / 2\n",
    "    max_distance = np.sqrt(center_x ** 2 + center_y ** 2)\n",
    "\n",
    "    neuron_positions = [(x, y) for x in range(grid_rows) for y in range(grid_cols)]\n",
    "    neuron_layout = {'positions': {i: {'position': neuron_positions[i]} for i in range(total_neurons)}}\n",
    "    distances = [np.sqrt((x - center_x) ** 2 + (y - center_y) ** 2) for x, y in neuron_positions]\n",
    "\n",
    "    spike_times_by_neuron = [[] for _ in range(total_neurons)]\n",
    "    \n",
    "    preassigned_firings = {neuron_index: random.randint(0, num_waves - 1) for neuron_index in range(total_neurons)}\n",
    "\n",
    "    for wave in range(num_waves):\n",
    "        wave_start = wave * (wave_duration_ms + break_duration_ms)\n",
    "        current_overlap_duration_ms = base_overlap_duration_ms + np.random.uniform(-overlap_variation_ms, overlap_variation_ms)\n",
    "\n",
    "        for neuron_index, distance in enumerate(distances):\n",
    "            firing_time_within_wave = (distance / max_distance) * (wave_duration_ms - current_overlap_duration_ms)\n",
    "            spike_time_start = wave_start + firing_time_within_wave\n",
    "            spike_time_end = spike_time_start + current_overlap_duration_ms\n",
    "\n",
    "            # Generate random spike times within the overlap duration\n",
    "            num_spikes = int(current_overlap_duration_ms / 10)\n",
    "            random_spike_times = np.random.uniform(spike_time_start, spike_time_end, num_spikes)\n",
    "            random_spike_times.sort()\n",
    "\n",
    "            spike_times_by_neuron[neuron_index].extend(random_spike_times)\n",
    "\n",
    "    spike_times_by_neuron = [np.array(times) for times in spike_times_by_neuron]\n",
    "    ring_wave_spike_data = SpikeData(spike_times_by_neuron, N=total_neurons, length=total_duration_ms, neuron_data=neuron_layout)\n",
    "\n",
    "    return ring_wave_spike_data"
   ]
  },
  {
   "cell_type": "markdown",
   "metadata": {},
   "source": [
    "## Rotating Loop Wave Data Generator"
   ]
  },
  {
   "cell_type": "code",
   "execution_count": 6,
   "metadata": {},
   "outputs": [],
   "source": [
    "import numpy as np\n",
    "\n",
    "def generate_rotating_circle_wave_data(total_duration_ms, num_rotations, grid_rows, grid_cols, base_overlap_duration_ms, overlap_variation_ms=5):\n",
    "    \"\"\"\n",
    "    Generate spike data for simulating a rotating circle of firing neurons.\n",
    "\n",
    "    Args:\n",
    "    - total_duration_ms (int): Total duration of the simulation in milliseconds.\n",
    "    - num_rotations (int): Number of rotations for the circle.\n",
    "    - grid_rows (int): Number of rows in the grid representing neurons.\n",
    "    - grid_cols (int): Number of columns in the grid representing neurons.\n",
    "    - base_overlap_duration_ms (int): Base duration of overlap between neuron firings.\n",
    "    - overlap_variation_ms (int, optional): Variability in overlap duration in milliseconds.\n",
    "\n",
    "    Returns:\n",
    "    - rotating_circle_wave_spike_data (SpikeData): Spike data for the rotating circle wave simulation.\n",
    "    \"\"\"\n",
    "\n",
    "    total_neurons = grid_rows * grid_cols\n",
    "    rotation_duration_ms = total_duration_ms / num_rotations\n",
    "\n",
    "    # Calculate parameters for the rotating circle\n",
    "    center_x, center_y = (grid_rows - 1) / 2, (grid_cols - 1) / 2\n",
    "    max_distance = np.sqrt(center_x ** 2 + center_y ** 2)\n",
    "    circle_radius = max_distance / 2  # Circle at half the max distance\n",
    "    thickness = 2  # Thickness of the rotating circle in neurons\n",
    "\n",
    "    # Generate positions, distances, and angles for all neurons\n",
    "    neuron_positions = [(x, y) for x in range(grid_rows) for y in range(grid_cols)]\n",
    "    distances = [np.sqrt((x - center_x) ** 2 + (y - center_y) ** 2) for x, y in neuron_positions]\n",
    "    angles = [np.arctan2(y - center_y, x - center_x) for x, y in neuron_positions]\n",
    "\n",
    "    # Select neurons within the rotating circle\n",
    "    rotating_circle_neurons = [(index, pos, dist, angle) for index, (pos, dist, angle) in enumerate(zip(neuron_positions, distances, angles))\n",
    "                               if circle_radius - thickness <= dist <= circle_radius + thickness]\n",
    "    rotating_circle_neurons_sorted = sorted(rotating_circle_neurons, key=lambda x: x[3])  # Sort by angle\n",
    "\n",
    "    # Initialize spike times for each neuron\n",
    "    spike_times_by_neuron = [[] for _ in range(total_neurons)]\n",
    "\n",
    "    for rotation in range(num_rotations):\n",
    "        rotation_start = rotation * rotation_duration_ms\n",
    "        current_overlap_duration_ms = base_overlap_duration_ms + np.random.uniform(-overlap_variation_ms, overlap_variation_ms)\n",
    "\n",
    "        for i, (neuron_index, _, _, _) in enumerate(rotating_circle_neurons_sorted):\n",
    "            position_in_rotation = i / len(rotating_circle_neurons_sorted)\n",
    "            firing_time_within_rotation = position_in_rotation * (rotation_duration_ms - current_overlap_duration_ms)\n",
    "            spike_time_start = rotation_start + firing_time_within_rotation\n",
    "            spike_time_end = spike_time_start + current_overlap_duration_ms\n",
    "\n",
    "            # Generate random spike times within the overlap duration\n",
    "            num_spikes = int(current_overlap_duration_ms / 10)\n",
    "            random_spike_times = np.random.uniform(spike_time_start, spike_time_end, num_spikes)\n",
    "            random_spike_times.sort()  # Ensures chronological order\n",
    "\n",
    "            spike_times_by_neuron[neuron_index].extend(random_spike_times)\n",
    "\n",
    "    # Convert spike times to arrays and create neuron layout dictionary\n",
    "    spike_times_by_neuron = [np.array(times) for times in spike_times_by_neuron]\n",
    "    neuron_layout = {'positions': {i: {'position': neuron_positions[i]} for i in range(total_neurons)}}\n",
    "\n",
    "    # Create SpikeData object for the rotating circle wave simulation\n",
    "    rotating_circle_wave_spike_data = SpikeData(spike_times_by_neuron, N=total_neurons, length=total_duration_ms, neuron_data=neuron_layout)\n",
    "    return rotating_circle_wave_spike_data"
   ]
  },
  {
   "cell_type": "markdown",
   "metadata": {},
   "source": [
    "## Generation"
   ]
  },
  {
   "cell_type": "code",
   "execution_count": 7,
   "metadata": {},
   "outputs": [],
   "source": [
    "random_spike_data = generate_randomized_spike_data(\n",
    "    grid_size=16, recording_duration_ms=60000, mean_firing_rate_hz=3.45, firing_rate_std_dev_hz=0.9\n",
    ")\n",
    "\n",
    "plane_wave_spike_data = generate_wave_propagation_spike_data(\n",
    "    total_duration_ms=60000, num_waves=10, num_rows=16, num_cols=16, base_overlap_duration_ms=100, inter_wave_break_ms=2000, sparsity_factor=20, wave_slant_delay_ms=10, overlap_duration_variation_ms=5\n",
    ")\n",
    "\n",
    "ring_wave_spike_data = generate_ring_wave_spike_data(\n",
    "    total_duration_ms=60000, num_waves=10, grid_rows=16, grid_cols=16, base_overlap_duration_ms=200, break_duration_ms=2000, overlap_variation_ms=10\n",
    ")\n",
    "\n",
    "rotating_circle_spike_data = generate_rotating_circle_wave_data(\n",
    "    total_duration_ms=60000, num_rotations=10, grid_rows=16, grid_cols=16, base_overlap_duration_ms=100, overlap_variation_ms=5\n",
    ")"
   ]
  },
  {
   "cell_type": "markdown",
   "metadata": {},
   "source": [
    "## Save datasets"
   ]
  },
  {
   "cell_type": "code",
   "execution_count": 8,
   "metadata": {},
   "outputs": [],
   "source": [
    "pickle_object(random_spike_data, 'data/random_spike_data.pkl')\n",
    "pickle_object(plane_wave_spike_data, 'data/plane_wave_spike_data.pkl')\n",
    "pickle_object(ring_wave_spike_data, 'data/ring_wave_spike_data.pkl')\n",
    "pickle_object(rotating_circle_spike_data, 'data/rotating_circle_spike_data.pkl')"
   ]
  }
 ],
 "metadata": {
  "kernelspec": {
   "display_name": "notebook",
   "language": "python",
   "name": "python3"
  },
  "language_info": {
   "codemirror_mode": {
    "name": "ipython",
    "version": 3
   },
   "file_extension": ".py",
   "mimetype": "text/x-python",
   "name": "python",
   "nbconvert_exporter": "python",
   "pygments_lexer": "ipython3",
   "version": "3.10.0"
  }
 },
 "nbformat": 4,
 "nbformat_minor": 2
}

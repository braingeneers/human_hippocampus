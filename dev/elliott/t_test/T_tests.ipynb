{
 "cells": [
  {
   "cell_type": "markdown",
   "metadata": {},
   "source": [
    "<font size=7> T-Tests"
   ]
  },
  {
   "cell_type": "markdown",
   "metadata": {},
   "source": [
    "<font color=\"red\">\n",
    "\n",
    "**To Do**\n",
    "* Read wiki article on T-test\n",
    "* Read one sample t-test article\n",
    "* put in data for first example\n",
    "* run T test\n",
    "* figures\n",
    "    * Fig 2\n",
    "    * Fig 3\n",
    "    * ~~Fig 4~~\n",
    "    * Fig 6\n",
    "\n"
   ]
  },
  {
   "cell_type": "code",
   "execution_count": null,
   "metadata": {},
   "outputs": [],
   "source": []
  },
  {
   "cell_type": "markdown",
   "metadata": {},
   "source": [
    "# Summary"
   ]
  },
  {
   "cell_type": "markdown",
   "metadata": {},
   "source": [
    "This notebook implements T-tests on the data collected from students who took one of the two classes.  This is for an education paper being submitted to eNeuro. The reviewers asked us to perform some statistical analysis on our survey data. An example of a survey question from the Math of Mind class is shown below. \n",
    "\n"
   ]
  },
  {
   "cell_type": "markdown",
   "metadata": {},
   "source": [
    "<div><img src=\"example_student_response.png\" width=\"500\"/></div>"
   ]
  },
  {
   "cell_type": "markdown",
   "metadata": {},
   "source": [
    "We are implementing a 1-sample T-Test"
   ]
  },
  {
   "cell_type": "markdown",
   "metadata": {},
   "source": [
    "The question we are attempting to answer is, \"In which survey questions are student responses statistically different from neutral?\" To get analyzable distributions, we label student responses, \"Strongly Disagree\" to \"Strongly Agree,\" from -2 to 2. We then do a T-test to show significance. For the T-test, we must compare the mean and standard deviation of the survey data to a \"null\" distribution. I will define the null to have mean 0, and a standard deviation that's the same as the corresponding survey data. This approach is somewhat hand-wavy. For this paper it's probably sufficient though."
   ]
  },
  {
   "cell_type": "markdown",
   "metadata": {},
   "source": [
    "**References**\n",
    "* [T-Test wiki](https://en.wikipedia.org/wiki/Student%27s_t-test)\n",
    "* [1 sample T-test description](https://www.jmp.com/en_us/statistics-knowledge-portal/t-test/one-sample-t-test.html)\n",
    "* [Wilcox wiki](https://en.wikipedia.org/wiki/Wilcoxon_signed-rank_test)\n",
    "* [Wilcox Video Tutorial](https://www.youtube.com/watch?v=PGiXtngX3YQ)"
   ]
  },
  {
   "cell_type": "markdown",
   "metadata": {},
   "source": [
    "# <font color=\"orchid\"> T-Tests"
   ]
  },
  {
   "cell_type": "markdown",
   "metadata": {},
   "source": [
    "## <font color=\"orchid\"> Set up Data and code"
   ]
  },
  {
   "cell_type": "markdown",
   "metadata": {},
   "source": [
    "import packages for analysis"
   ]
  },
  {
   "cell_type": "code",
   "execution_count": 2,
   "metadata": {},
   "outputs": [],
   "source": [
    "# import packages for analysis\n",
    "from scipy import stats\n",
    "import numpy as np\n",
    "from matplotlib import pyplot as plt"
   ]
  },
  {
   "cell_type": "markdown",
   "metadata": {},
   "source": [
    "set general parameters"
   ]
  },
  {
   "cell_type": "code",
   "execution_count": 3,
   "metadata": {},
   "outputs": [],
   "source": [
    "num_students_math = 18 # number of students in the math of mind class\n",
    "num_students_bio = 10 # number of students in the highschool class\n",
    "survey_range = np.array([-2,-1,0,1,2]) # range of survey responses from \"strongly disagree\" to \"strongly agree\""
   ]
  },
  {
   "cell_type": "markdown",
   "metadata": {},
   "source": [
    "example data"
   ]
  },
  {
   "cell_type": "code",
   "execution_count": 4,
   "metadata": {},
   "outputs": [],
   "source": [
    "mom_questions = [\"I am interested in the application of mathematics in biological processes\", \"This course requires me to think at a deep level or use critical thinking\",\n",
    "                 \"This course enables me to develop my skills examining questions that matter beyond the classroom\", \"I am interested in learning about stem cells\",\n",
    "                 \"I am interested in learning about neuroscience\", \"I am interested in learning about organoids and connectoids\", \n",
    "                 \"I am comfortable using WetAi in the classroom setting\", \"I am comfortable using Jupyter notebooks in the classroom setting\",\n",
    "                 \"I am comfortable performing multielectrode array (MEA) experiments\", \"I am comfortable identifying burst signals in a multi electrode array (MA)\",\n",
    "                 \"I am interested in learning more about Internet-enabled technologies in the lab\", \"I am comfortable reading neuroscience literature, in order to develop my own hypothesis for an experiment\" \n",
    "                 ] #, \"fake data\"]\n",
    "\n",
    "mom_survey_results = np.array([[12,5,1,0,0], [14,3,0,1,0], [11,4,3,0,0],  [8,6,4,0,0], [14,3,1,0,0], [11,5,2,0,0], [7,5,5,1,0], [11,2,4,1,0], [1,7,6,3,1], [2,10,5,1,0], [12,6,0,0,0], [5,6,5,1,1] ] )#, [6,4,4,4,6]])"
   ]
  },
  {
   "cell_type": "code",
   "execution_count": 6,
   "metadata": {},
   "outputs": [],
   "source": [
    "mom_questions_fig4 = [\"I think I am capable and skillful at Mathematics\", \"Being a good mathematics student makes me feel that my classmates and teachers think more of me\",\n",
    "                  \"My performance in mathematics largely depends on the methodology and empathy of the teachers\", \"In mathematics exams, I feel unsure, desperate and nervous\",\n",
    "                  \"Mathematics is useful and necessary in all areas of life\", \"Mathematics is useful and necessary for a career in Biology\" ]\n",
    "mom_survey_results_fig4 = np.array([ [1,10,5,2,0], [1,7,7,2,0], [2,6,3,5,2], [4,5,3,2,3], [11,4,0,3,0], [7,9,1,1,0]  ])"
   ]
  },
  {
   "cell_type": "code",
   "execution_count": null,
   "metadata": {},
   "outputs": [],
   "source": [
    "mom_questions_fig4 = [\"I think I am capable and skillful at Mathematics\", \"Being a good mathematics student makes me feel that my classmates and teachers think more of me\",\n",
    "                  \"My performance in mathematics largely depends on the methodology and empathy of the teachers\", \"In mathematics exams, I feel unsure, desperate and nervous\",\n",
    "                  \"Mathematics is useful and necessary in all areas of life\", \"Mathematics is useful and necessary for a career in Biology\" ]\n",
    "mom_survey_results_fig4 = np.array([ [1,10,5,2,0], [1,7,7,2,0], [2,6,3,5,2], [4,5,3,2,3], [11,4,0,3,0], [7,9,1,1,0]  ])"
   ]
  },
  {
   "cell_type": "markdown",
   "metadata": {},
   "source": [
    "proccess data fro t-test"
   ]
  },
  {
   "cell_type": "code",
   "execution_count": 25,
   "metadata": {},
   "outputs": [],
   "source": [
    "# create an array by repeating the numbers in survery_range by the corresponding number in survey_results\n",
    "survey_data =[]\n",
    "for i in range(len(survey_results)):\n",
    "    survey_data.append( np.repeat(survey_range, survey_results[i]) )"
   ]
  },
  {
   "cell_type": "markdown",
   "metadata": {},
   "source": [
    "function to run t-test"
   ]
  },
  {
   "cell_type": "markdown",
   "metadata": {},
   "source": [
    "We run the wilcoxon signed rank test for one sample median 0, so that we have a non-parametric test."
   ]
  },
  {
   "cell_type": "code",
   "execution_count": 36,
   "metadata": {},
   "outputs": [],
   "source": [
    "# wrtie a function that does a T-test\n",
    "def get_statistics(data, questions):\n",
    "    for i in range(len(questions)):\n",
    "        print(questions[i])\n",
    "        print(\"Mean, Median, Mode : \", f\"[{np.mean(data[i]):0.3f}, {np.median(data[i]):0.3f}, {stats.mode(data[i])[0]:0.3f} ]\")\n",
    "        print(\"SD, Var, SE : \", f\"[ {np.std(data[i]):0.3f}, {np.var(data[i]):0.3f}, {np.std(data[i])/np.sqrt(len(data[i])):0.3f}  \" )\n",
    "        print(\"Range, Skew, Kurtosis : \", f\"[ {np.max(data[i]) - np.min(data[i]):0.3f}, {stats.skew(data[i]):0.3f}, {stats.kurtosis(data[i]):0.3f} ]\")\n",
    "        print(\"T-Test: \", stats.ttest_1samp(data[i], 0))\n",
    "        print(\"Wilcox: \", stats.wilcoxon(survey_data[i], zero_method='wilcox', correction=False))\n",
    "        print(\"\")\n"
   ]
  },
  {
   "cell_type": "markdown",
   "metadata": {},
   "source": [
    "## <font color=\"orchid\">Run Code\n"
   ]
  },
  {
   "cell_type": "markdown",
   "metadata": {},
   "source": [
    "run t-test"
   ]
  },
  {
   "cell_type": "code",
   "execution_count": 37,
   "metadata": {},
   "outputs": [
    {
     "name": "stdout",
     "output_type": "stream",
     "text": [
      "I am interested in the application of mathematics in biological processes\n",
      "Mean, Median, Mode :  [-1.583, -2.000, -2.000 ]\n",
      "SD, Var, SE :  [ 0.640, 0.410, 0.131  \n",
      "Range, Skew, Kurtosis :  [ 2.000, 1.267, 0.412 ]\n",
      "T-Test:  TtestResult(statistic=-11.862917582084185, pvalue=2.778826173484555e-11, df=23)\n",
      "Wilcox:  WilcoxonResult(statistic=0.0, pvalue=1.594711030217795e-05)\n",
      "\n"
     ]
    },
    {
     "name": "stderr",
     "output_type": "stream",
     "text": [
      "/srv/conda/envs/notebook/lib/python3.10/site-packages/scipy/stats/_morestats.py:4088: UserWarning: Exact p-value calculation does not work if there are zeros. Switching to normal approximation.\n",
      "  warnings.warn(\"Exact p-value calculation does not work if there are \"\n"
     ]
    }
   ],
   "source": [
    "get_statistics(survey_data, questions)"
   ]
  },
  {
   "cell_type": "code",
   "execution_count": null,
   "metadata": {},
   "outputs": [],
   "source": []
  }
 ],
 "metadata": {
  "kernelspec": {
   "display_name": "Python 3 (ipykernel)",
   "language": "python",
   "name": "python3"
  },
  "language_info": {
   "codemirror_mode": {
    "name": "ipython",
    "version": 3
   },
   "file_extension": ".py",
   "mimetype": "text/x-python",
   "name": "python",
   "nbconvert_exporter": "python",
   "pygments_lexer": "ipython3",
   "version": "3.10.0"
  }
 },
 "nbformat": 4,
 "nbformat_minor": 2
}

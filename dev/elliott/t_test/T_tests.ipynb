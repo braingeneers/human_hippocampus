{
 "cells": [
  {
   "cell_type": "markdown",
   "metadata": {},
   "source": [
    "<font size=7> Test Statistics"
   ]
  },
  {
   "cell_type": "markdown",
   "metadata": {},
   "source": [
    "<font color=\"red\">\n",
    "\n",
    "**To Do**\n",
    "\n",
    "\n"
   ]
  },
  {
   "cell_type": "markdown",
   "metadata": {},
   "source": [
    "# <font color=\"peru\">Summary"
   ]
  },
  {
   "cell_type": "markdown",
   "metadata": {},
   "source": [
    "This notebook implements T-tests on the data collected from students who took one of the two classes.  This is for an education paper being submitted to eNeuro. The reviewers asked us to perform some statistical analysis on our survey data. An example of a survey question from the Math of Mind class is shown below. \n",
    "\n"
   ]
  },
  {
   "cell_type": "markdown",
   "metadata": {},
   "source": [
    "<div><img src=\"example_student_response.png\" width=\"500\"/></div>"
   ]
  },
  {
   "cell_type": "markdown",
   "metadata": {},
   "source": [
    "We are implementing a 1-sample T-Test"
   ]
  },
  {
   "cell_type": "markdown",
   "metadata": {},
   "source": [
    "The question we are attempting to answer is, \"In which survey questions are student responses statistically different from neutral?\" To get analyzable distributions, we label student responses, \"Strongly Disagree\" to \"Strongly Agree,\" from -2 to 2. We then do a T-test to show significance. For the T-test, we must compare the mean and standard deviation of the survey data to a \"null\" distribution. I will define the null to have mean 0, and a standard deviation that's the same as the corresponding survey data. This approach is somewhat hand-wavy. For this paper it's probably sufficient though."
   ]
  },
  {
   "cell_type": "markdown",
   "metadata": {},
   "source": [
    "**References**\n",
    "* [T-Test wiki](https://en.wikipedia.org/wiki/Student%27s_t-test)\n",
    "* [1 sample T-test description](https://www.jmp.com/en_us/statistics-knowledge-portal/t-test/one-sample-t-test.html)\n",
    "* [Wilcox wiki](https://en.wikipedia.org/wiki/Wilcoxon_signed-rank_test)\n",
    "* [Wilcox Video Tutorial](https://www.youtube.com/watch?v=PGiXtngX3YQ)"
   ]
  },
  {
   "cell_type": "markdown",
   "metadata": {},
   "source": [
    "# <font color=\"orchid\"> Set up Data "
   ]
  },
  {
   "cell_type": "markdown",
   "metadata": {},
   "source": [
    "import packages for analysis"
   ]
  },
  {
   "cell_type": "code",
   "execution_count": 1,
   "metadata": {},
   "outputs": [],
   "source": [
    "# import packages for analysis\n",
    "from scipy import stats\n",
    "import numpy as np\n",
    "from matplotlib import pyplot as plt"
   ]
  },
  {
   "cell_type": "markdown",
   "metadata": {},
   "source": [
    "set general parameters"
   ]
  },
  {
   "cell_type": "code",
   "execution_count": 2,
   "metadata": {},
   "outputs": [],
   "source": [
    "#num_students_math = 18 # number of students in the math of mind class\n",
    "#num_students_bio = 10 # number of students in the highschool class\n",
    "survey_range = np.array([-2,-1,0,1,2]) # range of survey responses from \"strongly disagree\" to \"strongly agree\""
   ]
  },
  {
   "cell_type": "markdown",
   "metadata": {},
   "source": [
    "**Figure 2 Data**"
   ]
  },
  {
   "cell_type": "code",
   "execution_count": 2,
   "metadata": {},
   "outputs": [],
   "source": [
    "mom_questions_fig2 = [\"I enjoyed learning about organoids\", \"Performing a remote microscopy experiment was interesting\",\n",
    "                      \"The experiment selected helped solidify concepts discussed in class\", \"I felt that performing remote microscopy allowed me to use novel and complex experimental models\",\n",
    "                      \"Performing remote experiments allowed me to multitask more than in person labs\", \"I enjoyed performing these experiments\", \n",
    "                      \"Data analysis was straightforward\", \"Performing this experiment made me want to learn more about organoids\",\n",
    "                      \"Performing this experiment made me want to lear more about stem cells\", \"I would recommend this experiment to my peers\",\n",
    "                      \"I would recommend this course to my peers\"]\n",
    "\n",
    "mom_survey_results_fig2 = np.array([ [5,5,0,0,0], [4,4,1,0,0], [5,3,2,0,0], [5,3,1,0,0], [5,0,4,1,0], [5,2,3,0,0], [4,6,0,0,0], [6,2,2,0,0], [4,6,0,0,0], [7,2,1,0,0], [9,1,0,0,0] ])"
   ]
  },
  {
   "cell_type": "markdown",
   "metadata": {},
   "source": [
    "**Figure 3 Data**"
   ]
  },
  {
   "cell_type": "code",
   "execution_count": 4,
   "metadata": {},
   "outputs": [],
   "source": [
    "mom_questions_fig3_1 = [\"What is your previous experience in Mathematics?\", \"What is your previous experience in computer programming?\",\n",
    "                        \"What is your previous experience in stem cell biology?\", \"What is your previous experience in neuroscience?\"]\n",
    "mom_survey_results_fig3_1 = np.array([ [5,10,3,0], [7,8,3,0], [1,5,6,6], [0,1,11,6] ])\n",
    "\n",
    "mom_questions_fig3_2 = [ \"I am interested in the application of mathematics in biological processes\", \"This course requires me to think at a deep level or use critical thinking\",\n",
    "                 \"This course enables me to develop my skills examining questions that matter beyond the classroom\", \"I am interested in learning about stem cells\",\n",
    "                 \"I am interested in learning about neuroscience\", \"I am interested in learning about organoids and connectoids\", \n",
    "                 \"I am comfortable using WetAi in the classroom setting\", \"I am comfortable using Jupyter notebooks in the classroom setting\",\n",
    "                 \"I am comfortable performing multielectrode array (MEA) experiments\", \"I am comfortable identifying burst signals in a multi electrode array (MA)\",\n",
    "                 \"I am interested in learning more about Internet-enabled technologies in the lab\", \"I am comfortable reading neuroscience literature, in order to develop my own hypothesis for an experiment\" \n",
    "                 ] #, \"fake data\"]\n",
    "\n",
    "mom_survey_results_fig3_2 = np.array([ [12,5,1,0,0], [14,3,0,1,0], [11,4,3,0,0],  [8,6,4,0,0], [14,3,1,0,0], [11,5,2,0,0], [7,5,5,1,0], [11,2,4,1,0], [1,7,6,3,1], [2,10,5,1,0], [12,6,0,0,0], [5,6,5,1,1] ] )#, [6,4,4,4,6]])"
   ]
  },
  {
   "cell_type": "markdown",
   "metadata": {},
   "source": [
    "**Figure 4 Data**"
   ]
  },
  {
   "cell_type": "code",
   "execution_count": 6,
   "metadata": {},
   "outputs": [],
   "source": [
    "mom_questions_fig4 = [\"I think I am capable and skillful at Mathematics\", \"Being a good mathematics student makes me feel that my classmates and teachers think more of me\",\n",
    "                  \"My performance in mathematics largely depends on the methodology and empathy of the teachers\", \"In mathematics exams, I feel unsure, desperate and nervous\",\n",
    "                  \"Mathematics is useful and necessary in all areas of life\", \"Mathematics is useful and necessary for a career in Biology\" ]\n",
    "mom_survey_results_fig4 = np.array([ [1,10,5,2,0], [1,7,7,2,0], [2,6,3,5,2], [4,5,3,2,3], [11,4,0,3,0], [7,9,1,1,0]  ])"
   ]
  },
  {
   "cell_type": "markdown",
   "metadata": {},
   "source": [
    "**Figure 6 Data**"
   ]
  },
  {
   "cell_type": "code",
   "execution_count": 1,
   "metadata": {},
   "outputs": [
    {
     "ename": "NameError",
     "evalue": "name 'np' is not defined",
     "output_type": "error",
     "traceback": [
      "\u001b[0;31m---------------------------------------------------------------------------\u001b[0m",
      "\u001b[0;31mNameError\u001b[0m                                 Traceback (most recent call last)",
      "\u001b[1;32m/workspaces/human_hippocampus/dev/elliott/t_test/T_tests.ipynb Cell 19\u001b[0m line \u001b[0;36m1\n\u001b[1;32m      <a href='vscode-notebook-cell://codespaces%2Borganic-guide-77vwxvrpx5rcrjrv/workspaces/human_hippocampus/dev/elliott/t_test/T_tests.ipynb#X24sdnNjb2RlLXJlbW90ZQ%3D%3D?line=0'>1</a>\u001b[0m mom_questions_fig6 \u001b[39m=\u001b[39m [  \u001b[39m\"\u001b[39m\u001b[39mI enjoyed learning about organoids\u001b[39m\u001b[39m\"\u001b[39m, \u001b[39m\"\u001b[39m\u001b[39mI enjoyed performing these experiments\u001b[39m\u001b[39m\"\u001b[39m, \n\u001b[1;32m      <a href='vscode-notebook-cell://codespaces%2Borganic-guide-77vwxvrpx5rcrjrv/workspaces/human_hippocampus/dev/elliott/t_test/T_tests.ipynb#X24sdnNjb2RlLXJlbW90ZQ%3D%3D?line=1'>2</a>\u001b[0m                         \u001b[39m\"\u001b[39m\u001b[39mPerforming a remote electrophysiology experiment was interesting\u001b[39m\u001b[39m\"\u001b[39m, \u001b[39m\"\u001b[39m\u001b[39mThe experiment selected helped solidify concepts discussed in class\u001b[39m\u001b[39m\"\u001b[39m,\n\u001b[1;32m      <a href='vscode-notebook-cell://codespaces%2Borganic-guide-77vwxvrpx5rcrjrv/workspaces/human_hippocampus/dev/elliott/t_test/T_tests.ipynb#X24sdnNjb2RlLXJlbW90ZQ%3D%3D?line=2'>3</a>\u001b[0m                         \u001b[39m\"\u001b[39m\u001b[39mI felt that performing remote electrophysiology allowed me to use novel and complex experimental models\u001b[39m\u001b[39m\"\u001b[39m, \u001b[39m\"\u001b[39m\u001b[39mPerforming remote experiments allowed me to multitask more than in person labs\u001b[39m\u001b[39m\"\u001b[39m,\n\u001b[0;32m   (...)\u001b[0m\n\u001b[1;32m      <a href='vscode-notebook-cell://codespaces%2Borganic-guide-77vwxvrpx5rcrjrv/workspaces/human_hippocampus/dev/elliott/t_test/T_tests.ipynb#X24sdnNjb2RlLXJlbW90ZQ%3D%3D?line=8'>9</a>\u001b[0m                         \u001b[39m\"\u001b[39m\u001b[39mI would consider further education in stem cell and neuroscience data\u001b[39m\u001b[39m\"\u001b[39m, \u001b[39m\"\u001b[39m\u001b[39mAfter this course, I feel more comfortable reading and discussing stem cell literature\u001b[39m\u001b[39m\"\u001b[39m,\n\u001b[1;32m     <a href='vscode-notebook-cell://codespaces%2Borganic-guide-77vwxvrpx5rcrjrv/workspaces/human_hippocampus/dev/elliott/t_test/T_tests.ipynb#X24sdnNjb2RlLXJlbW90ZQ%3D%3D?line=9'>10</a>\u001b[0m                         \u001b[39m\"\u001b[39m\u001b[39mAfter this course, I feel more comfortable reading and discussing neuroscience literature\u001b[39m\u001b[39m\"\u001b[39m, \u001b[39m\"\u001b[39m\u001b[39mAfter this course, I feel more comfortable reading and discussing mathematics literature\u001b[39m\u001b[39m\"\u001b[39m]\n\u001b[0;32m---> <a href='vscode-notebook-cell://codespaces%2Borganic-guide-77vwxvrpx5rcrjrv/workspaces/human_hippocampus/dev/elliott/t_test/T_tests.ipynb#X24sdnNjb2RlLXJlbW90ZQ%3D%3D?line=11'>12</a>\u001b[0m mom_survey_results_fig6 \u001b[39m=\u001b[39m np\u001b[39m.\u001b[39marray([ [\u001b[39m16\u001b[39m,\u001b[39m7\u001b[39m,\u001b[39m1\u001b[39m,\u001b[39m0\u001b[39m,\u001b[39m0\u001b[39m], [\u001b[39m13\u001b[39m,\u001b[39m9\u001b[39m,\u001b[39m2\u001b[39m,\u001b[39m0\u001b[39m,\u001b[39m0\u001b[39m], [\u001b[39m14\u001b[39m,\u001b[39m8\u001b[39m,\u001b[39m2\u001b[39m,\u001b[39m0\u001b[39m,\u001b[39m0\u001b[39m], [\u001b[39m12\u001b[39m,\u001b[39m11\u001b[39m,\u001b[39m0\u001b[39m,\u001b[39m1\u001b[39m,\u001b[39m0\u001b[39m], [\u001b[39m16\u001b[39m,\u001b[39m4\u001b[39m,\u001b[39m4\u001b[39m,\u001b[39m0\u001b[39m,\u001b[39m0\u001b[39m], [\u001b[39m10\u001b[39m,\u001b[39m5\u001b[39m,\u001b[39m6\u001b[39m,\u001b[39m1\u001b[39m,\u001b[39m1\u001b[39m], [\u001b[39m11\u001b[39m,\u001b[39m10\u001b[39m,\u001b[39m3\u001b[39m,\u001b[39m0\u001b[39m,\u001b[39m0\u001b[39m], [\u001b[39m16\u001b[39m,\u001b[39m6\u001b[39m,\u001b[39m2\u001b[39m,\u001b[39m0\u001b[39m,\u001b[39m0\u001b[39m], [\u001b[39m20\u001b[39m,\u001b[39m3\u001b[39m,\u001b[39m0\u001b[39m,\u001b[39m0\u001b[39m,\u001b[39m0\u001b[39m],  [\u001b[39m5\u001b[39m,\u001b[39m7\u001b[39m,\u001b[39m6\u001b[39m,\u001b[39m3\u001b[39m,\u001b[39m3\u001b[39m],\n\u001b[1;32m     <a href='vscode-notebook-cell://codespaces%2Borganic-guide-77vwxvrpx5rcrjrv/workspaces/human_hippocampus/dev/elliott/t_test/T_tests.ipynb#X24sdnNjb2RlLXJlbW90ZQ%3D%3D?line=12'>13</a>\u001b[0m                                       [\u001b[39m15\u001b[39m,\u001b[39m6\u001b[39m,\u001b[39m2\u001b[39m,\u001b[39m1\u001b[39m,\u001b[39m0\u001b[39m], [\u001b[39m15\u001b[39m,\u001b[39m5\u001b[39m,\u001b[39m3\u001b[39m,\u001b[39m1\u001b[39m,\u001b[39m0\u001b[39m], [\u001b[39m15\u001b[39m,\u001b[39m8\u001b[39m,\u001b[39m1\u001b[39m,\u001b[39m0\u001b[39m,\u001b[39m0\u001b[39m], [\u001b[39m12\u001b[39m,\u001b[39m7\u001b[39m,\u001b[39m2\u001b[39m,\u001b[39m3\u001b[39m,\u001b[39m0\u001b[39m], [\u001b[39m10\u001b[39m,\u001b[39m11\u001b[39m,\u001b[39m2\u001b[39m,\u001b[39m1\u001b[39m,\u001b[39m0\u001b[39m], [\u001b[39m10\u001b[39m,\u001b[39m9\u001b[39m,\u001b[39m5\u001b[39m,\u001b[39m0\u001b[39m,\u001b[39m0\u001b[39m], [\u001b[39m11\u001b[39m,\u001b[39m11\u001b[39m,\u001b[39m2\u001b[39m,\u001b[39m0\u001b[39m,\u001b[39m0\u001b[39m], [\u001b[39m6\u001b[39m,\u001b[39m10\u001b[39m,\u001b[39m7\u001b[39m,\u001b[39m1\u001b[39m,\u001b[39m0\u001b[39m]  ])\n",
      "\u001b[0;31mNameError\u001b[0m: name 'np' is not defined"
     ]
    }
   ],
   "source": [
    "mom_questions_fig6 = [  \"I enjoyed learning about organoids\", \"I enjoyed performing these experiments\", \n",
    "                        \"Performing a remote electrophysiology experiment was interesting\", \"The experiment selected helped solidify concepts discussed in class\",\n",
    "                        \"I felt that performing remote electrophysiology allowed me to use novel and complex experimental models\", \"Performing remote experiments allowed me to multitask more than in person labs\",\n",
    "                        \"Performing remote experiments allowed me to do projects that require complex training\", \"Performing remote experiments allowed me to study new areas beyond my academic program\",\n",
    "                        \"Performing remote experiments allowed me to do projects that are not available for most students around the world\", \"Data analysis was straightforward\",\n",
    "                        \n",
    "                        \"Performing this experiment made me want to learn more about organoids\", \"Performing this experiment made me want to lear more about stem cells\",\n",
    "                        \"I would recommend this experiment to my peers\", \"I would consider applying for a job working with stem cell and neuroscience data\",\n",
    "                        \"I would consider further education in stem cell and neuroscience data\", \"After this course, I feel more comfortable reading and discussing stem cell literature\",\n",
    "                        \"After this course, I feel more comfortable reading and discussing neuroscience literature\", \"After this course, I feel more comfortable reading and discussing mathematics literature\"]\n",
    "\n",
    "mom_survey_results_fig6 = np.array([ [16,7,1,0,0], [13,9,2,0,0], [14,8,2,0,0], [12,11,0,1,0], [16,4,4,0,0], [10,5,6,1,1], [11,10,3,0,0], [16,6,2,0,0], [20,3,0,0,0],  [5,7,6,3,3],\n",
    "                                      [15,6,2,1,0], [15,5,3,1,0], [15,8,1,0,0], [12,7,2,3,0], [10,11,2,1,0], [10,9,5,0,0], [11,11,2,0,0], [6,10,7,1,0]  ])"
   ]
  },
  {
   "cell_type": "markdown",
   "metadata": {},
   "source": [
    "# <font color=\"blue\">Run Statistics"
   ]
  },
  {
   "cell_type": "markdown",
   "metadata": {},
   "source": [
    "proccess data fro t-test"
   ]
  },
  {
   "cell_type": "code",
   "execution_count": 25,
   "metadata": {},
   "outputs": [],
   "source": [
    "# # create an array by repeating the numbers in survery_range by the corresponding number in survey_results\n",
    "# survey_data =[]\n",
    "# for i in range(len(survey_results)):\n",
    "#     survey_data.append( np.repeat(survey_range, survey_results[i]) )"
   ]
  },
  {
   "cell_type": "markdown",
   "metadata": {},
   "source": [
    "function to run t-test"
   ]
  },
  {
   "cell_type": "markdown",
   "metadata": {},
   "source": [
    "We run the wilcoxon signed rank test for one sample median 0, so that we have a non-parametric test."
   ]
  },
  {
   "cell_type": "code",
   "execution_count": 5,
   "metadata": {},
   "outputs": [],
   "source": [
    "i=0"
   ]
  },
  {
   "cell_type": "code",
   "execution_count": 3,
   "metadata": {},
   "outputs": [],
   "source": [
    "questions = mom_questions_fig2\n",
    "data = mom_survey_results_fig2 "
   ]
  },
  {
   "cell_type": "code",
   "execution_count": null,
   "metadata": {},
   "outputs": [
    {
     "data": {
      "text/plain": [
       "5"
      ]
     },
     "execution_count": 6,
     "metadata": {},
     "output_type": "execute_result"
    }
   ],
   "source": [
    "data_i"
   ]
  },
  {
   "cell_type": "code",
   "execution_count": 7,
   "metadata": {},
   "outputs": [],
   "source": [
    "survey_range = np.array([-2,-1,0,1,2])   #. create an array of numbers from -2 to 2, representing the survey responses\n",
    "if len(data[i]) == 4:                    # Some surveys only have 4 possibilities, so we need to remove 0 from the range\n",
    "    survey_range = np.array([-2,-1,1,2])\n",
    "data_i = np.repeat(survey_range, survey_results[i])   # create data for stats by repeating the numbers in survery_range by the corresponding results\n"
   ]
  },
  {
   "cell_type": "code",
   "execution_count": 10,
   "metadata": {},
   "outputs": [
    {
     "data": {
      "text/plain": [
       "array([-2, -1,  0,  1,  2])"
      ]
     },
     "execution_count": 10,
     "metadata": {},
     "output_type": "execute_result"
    }
   ],
   "source": [
    "survey_range"
   ]
  },
  {
   "cell_type": "code",
   "execution_count": null,
   "metadata": {},
   "outputs": [],
   "source": []
  },
  {
   "cell_type": "code",
   "execution_count": 36,
   "metadata": {},
   "outputs": [],
   "source": [
    "# wrtie a function that does a T-test\n",
    "def get_statistics(data, questions):\n",
    "    for i in range(len(questions)):\n",
    "\n",
    "        # format the data from a questions so that we can run statistics on it\n",
    "        survey_range = np.array([-2,-1,0,1,2])   #. create an array of numbers from -2 to 2, representing the survey responses\n",
    "        if len(data[i]) == 4:                    # Some surveys only have 4 possibilities, so we need to remove 0 from the range\n",
    "            survey_range = np.array([-2,-1,1,2])\n",
    "        data_i = np.repeat(survey_range, survey_results[i])   # create data for stats by repeating the numbers in survery_range by the corresponding results\n",
    "\n",
    "        # print results from statistics\n",
    "        print(questions[i])\n",
    "        print(\"Mean, Median, Mode : \", f\"[{np.mean(data_i):0.3f}, {np.median(data_i):0.3f}, {stats.mode(data_i)[0]:0.3f} ]\")\n",
    "        print(\"SD, Var, SE : \", f\"[ {np.std(data_i):0.3f}, {np.var(data_i):0.3f}, {np.std(data_i)/np.sqrt(len(data_i)):0.3f}  \" )\n",
    "        print(\"Range, Skew, Kurtosis : \", f\"[ {np.max(data_i) - np.min(data_i):0.3f}, {stats.skew(data_i):0.3f}, {stats.kurtosis(data_i):0.3f} ]\")\n",
    "        print(\"T-Test: \", stats.ttest_1samp(data_i, 0))\n",
    "        print(\"Wilcox: \", stats.wilcoxon( data[i], zero_method='wilcox', correction=False))\n",
    "        print(\"\")\n"
   ]
  },
  {
   "cell_type": "markdown",
   "metadata": {},
   "source": [
    "## <font color=\"orchid\">Run Code\n"
   ]
  },
  {
   "cell_type": "markdown",
   "metadata": {},
   "source": [
    "run t-test"
   ]
  },
  {
   "cell_type": "code",
   "execution_count": 37,
   "metadata": {},
   "outputs": [
    {
     "name": "stdout",
     "output_type": "stream",
     "text": [
      "I am interested in the application of mathematics in biological processes\n",
      "Mean, Median, Mode :  [-1.583, -2.000, -2.000 ]\n",
      "SD, Var, SE :  [ 0.640, 0.410, 0.131  \n",
      "Range, Skew, Kurtosis :  [ 2.000, 1.267, 0.412 ]\n",
      "T-Test:  TtestResult(statistic=-11.862917582084185, pvalue=2.778826173484555e-11, df=23)\n",
      "Wilcox:  WilcoxonResult(statistic=0.0, pvalue=1.594711030217795e-05)\n",
      "\n"
     ]
    },
    {
     "name": "stderr",
     "output_type": "stream",
     "text": [
      "/srv/conda/envs/notebook/lib/python3.10/site-packages/scipy/stats/_morestats.py:4088: UserWarning: Exact p-value calculation does not work if there are zeros. Switching to normal approximation.\n",
      "  warnings.warn(\"Exact p-value calculation does not work if there are \"\n"
     ]
    }
   ],
   "source": [
    "get_statistics(survey_data, questions)"
   ]
  },
  {
   "cell_type": "code",
   "execution_count": null,
   "metadata": {},
   "outputs": [],
   "source": []
  }
 ],
 "metadata": {
  "kernelspec": {
   "display_name": "Python 3 (ipykernel)",
   "language": "python",
   "name": "python3"
  },
  "language_info": {
   "codemirror_mode": {
    "name": "ipython",
    "version": 3
   },
   "file_extension": ".py",
   "mimetype": "text/x-python",
   "name": "python",
   "nbconvert_exporter": "python",
   "pygments_lexer": "ipython3",
   "version": "3.10.0"
  }
 },
 "nbformat": 4,
 "nbformat_minor": 2
}

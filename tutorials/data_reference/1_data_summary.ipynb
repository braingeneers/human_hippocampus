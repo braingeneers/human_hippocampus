{
 "cells": [
  {
   "cell_type": "markdown",
   "metadata": {},
   "source": [
    "<font size=7>Data Summary"
   ]
  },
  {
   "cell_type": "markdown",
   "metadata": {},
   "source": [
    "Here we summarize all the datasets used in our research."
   ]
  },
  {
   "cell_type": "markdown",
   "metadata": {},
   "source": [
    "# Basic Summary"
   ]
  },
  {
   "cell_type": "markdown",
   "metadata": {},
   "source": [
    "**Data Access-** There are **4** datasets that were primarily used in our analysis. Theses datasets are stored on the `NRP` and then downloaded into this codespace environment for analysis. The file `.devcontainer/post_create.sh` contains the code for downloading the datasets into codespaces. The data can be found in the codespace inside the folder `/home/jovyan/data`. Below is a summary:\n",
    "\n",
    "<font color=\"orange\"> \n",
    "\n",
    "**Note:** There is a 5th dataset used in John Andrew's paper, however it's probably not useful. With bicuculline, the dataset had 6 neurons."
   ]
  },
  {
   "cell_type": "markdown",
   "metadata": {},
   "source": [
    "**Adult Dentat Gyrus** <font color=\"magenta\"><b>*</b></font>\n",
    "* Summary: Good recording, many neurons\n",
    "* UUID: `2022-11-02-e-Hc11.1-chip16753`\n",
    "* Spike Data: `/workspaces/human_hippocampus/data/ephys/2022-11-02-e-Hc11.1-chip16753/derived/kilosort2/hc11.1_plated-11.1_chip-16753_rec_11.2.22AM-immediate_curated.zip`\n",
    "    * Spike Data (Bicuculine): `/workspaces/human_hippocampus/data/ephys/2022-11-02-e-Hc11.1-chip16753/derived/kilosort2/hc11.1_plated-11.1_chip-16753_rec_11.2.22AM-immediate_D_phy.zip`\n",
    "    * <font color=\"orange\">Note- the bicuculline spike data has yet to be curated by Sury, so we can not access the spike data</font>\n",
    "\n",
    "**Infant Dentate Gyrus**\n",
    "* Summary: Displays seizure activity. Not many neurons, but long recording. No histology image.\n",
    "* UUID: `2022-10-20-e-`\n",
    "* Spike Data: `/workspaces/human_hippocampus/data/ephys/2022-10-20-e-/derived/kilosort2/hc9.19_chp-16849_plated-10.19.22_rec10.19.22_curated.zip`\n",
    "\n",
    "**?Anterior? CA1**\n",
    "* Summary: Best recording. Many neurons\n",
    "* UUID: `2023-04-02-e-hc328_unperturbed`\n",
    "    * UUID (Unused): `2023-04-02-hc328_rec` (optogenetics, but no bicuculline)\n",
    "* Spike Data (curated): `/workspaces/human_hippocampus/data/ephys/2023-04-02-e-hc328_unperturbed/sd_ca1_curated.pkl`\n",
    "    * Spike Data (original): `/workspaces/human_hippocampus/data/ephys/2023-04-02-e-hc328_unperturbed/derived/kilosort2/hc3.28_hckcr1_chip16835_plated34.2_rec4.2_curated.zip`\n",
    "\n",
    "**?Posterior? CA1 Region**  <font color=\"magenta\"><b>*</b></font>\n",
    "* Summary: Short recording (1.5min). Good activity.\n",
    "* UUID: `2023-05-10-e-hc52_18790_unperturbed`\n",
    "    * UUID (bicuculline): `2023-05-10-e-hc52_18790`\n",
    "* Spike Data (curated): `/workspaces/human_hippocampus/data/ephys/2023-05-10-e-hc52_18790_unperturbed/5-10-23s1-CutData.pkl`\n",
    "    * Spike Data (original): `/workspaces/human_hippocampus/data/ephys/2023-05-10-e-hc52_18790_unperturbed/derived/kilosort2/hc5.2_chip18790_baseline_rec5.10.23_curated_s1.zip`\n",
    "\n",
    "<font color=\"magenta\"><b>*</b></font>  Bicuculline Data"
   ]
  },
  {
   "cell_type": "markdown",
   "metadata": {},
   "source": []
  }
 ],
 "metadata": {
  "kernelspec": {
   "display_name": "notebook",
   "language": "python",
   "name": "python3"
  },
  "language_info": {
   "codemirror_mode": {
    "name": "ipython",
    "version": 3
   },
   "file_extension": ".py",
   "mimetype": "text/x-python",
   "name": "python",
   "nbconvert_exporter": "python",
   "pygments_lexer": "ipython3",
   "version": "3.10.0"
  },
  "orig_nbformat": 4
 },
 "nbformat": 4,
 "nbformat_minor": 2
}

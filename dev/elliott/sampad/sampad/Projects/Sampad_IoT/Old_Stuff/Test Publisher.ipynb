{
 "cells": [
  {
   "cell_type": "markdown",
   "id": "df563033",
   "metadata": {},
   "source": [
    "<font size=\"7\">Test Publisher"
   ]
  },
  {
   "cell_type": "markdown",
   "id": "ef6c6b9b",
   "metadata": {},
   "source": [
    "check that we can at least control rasberry using thier certificate files."
   ]
  },
  {
   "cell_type": "code",
   "execution_count": 1,
   "id": "c0761549",
   "metadata": {},
   "outputs": [],
   "source": [
    "import time as t\n",
    "import json"
   ]
  },
  {
   "cell_type": "code",
   "execution_count": 2,
   "id": "9469fe80",
   "metadata": {},
   "outputs": [
    {
     "name": "stdout",
     "output_type": "stream",
     "text": [
      "\u001b[33mWARNING: The directory '/home/jovyan/.cache/pip' or its parent directory is not owned or is not writable by the current user. The cache has been disabled. Check the permissions and owner of that directory. If executing pip with sudo, you should use sudo's -H flag.\u001b[0m\n",
      "Collecting AWSIoTPythonSDK\n",
      "  Downloading AWSIoTPythonSDK-1.4.9.tar.gz (80 kB)\n",
      "     |████████████████████████████████| 80 kB 6.9 MB/s             \n",
      "\u001b[?25h  Preparing metadata (setup.py) ... \u001b[?25ldone\n",
      "\u001b[?25hBuilding wheels for collected packages: AWSIoTPythonSDK\n",
      "  Building wheel for AWSIoTPythonSDK (setup.py) ... \u001b[?25ldone\n",
      "\u001b[?25h  Created wheel for AWSIoTPythonSDK: filename=AWSIoTPythonSDK-1.4.9-py3-none-any.whl size=79469 sha256=9a6c84875d491f41da3caafa4b7b1e92ea1cc1ed2c808c9d2f0e8ddf24b15e5e\n",
      "  Stored in directory: /tmp/pip-ephem-wheel-cache-z29rod3f/wheels/ea/8e/e9/f8217d03c4a8494030ca69c5904f53af506209d962183a6571\n",
      "Successfully built AWSIoTPythonSDK\n",
      "Installing collected packages: AWSIoTPythonSDK\n",
      "Successfully installed AWSIoTPythonSDK-1.4.9\n",
      "\u001b[33mWARNING: Running pip as the 'root' user can result in broken permissions and conflicting behaviour with the system package manager. It is recommended to use a virtual environment instead: https://pip.pypa.io/warnings/venv\u001b[0m\n"
     ]
    }
   ],
   "source": [
    "#!pip install AWSIoTPythonSDK a"
   ]
  },
  {
   "cell_type": "code",
   "execution_count": 3,
   "id": "db30f896",
   "metadata": {},
   "outputs": [],
   "source": [
    "import AWSIoTPythonSDK.MQTTLib as AWSIoTPyMQTT"
   ]
  },
  {
   "cell_type": "code",
   "execution_count": 10,
   "id": "3353c131",
   "metadata": {},
   "outputs": [],
   "source": [
    "# Define ENDPOINT, CLIENT_ID, PATH_TO_CERTIFICATE, PATH_TO_PRIVATE_KEY, PATH_TO_AMAZON_ROOT_CA_1, MESSAGE, TOPIC, and RANGE\n",
    "ENDPOINT = \"apshwcds0150b-ats.iot.us-west-2.amazonaws.com\"\n",
    "CLIENT_ID = \"testDevice\"\n",
    "PATH_TO_CERTIFICATE = \"/home/jovyan/certificates/34604caebf5afe3e013edde47d6a36f85e31946065c99c3ea72c1f889d418c7f-certificate.pem.crt\"\n",
    "PATH_TO_PRIVATE_KEY = \"/home/jovyan/certificates/34604caebf5afe3e013edde47d6a36f85e31946065c99c3ea72c1f889d418c7f-private.pem.key\"\n",
    "PATH_TO_AMAZON_ROOT_CA_1 = \"/home/jovyan/certificates/AmazonRootCA1.pem\"\n",
    "TOPIC = \"test/testing\""
   ]
  },
  {
   "cell_type": "code",
   "execution_count": 11,
   "id": "247b6c3d",
   "metadata": {},
   "outputs": [
    {
     "data": {
      "text/plain": [
       "True"
      ]
     },
     "execution_count": 11,
     "metadata": {},
     "output_type": "execute_result"
    }
   ],
   "source": [
    "myAWSIoTMQTTClient = AWSIoTPyMQTT.AWSIoTMQTTClient(CLIENT_ID)\n",
    "myAWSIoTMQTTClient.configureEndpoint(ENDPOINT, 8883)\n",
    "myAWSIoTMQTTClient.configureCredentials(PATH_TO_AMAZON_ROOT_CA_1, PATH_TO_PRIVATE_KEY, PATH_TO_CERTIFICATE)\n",
    "switch = True\n",
    "myAWSIoTMQTTClient.connect()\n"
   ]
  },
  {
   "cell_type": "code",
   "execution_count": 15,
   "id": "867a0757",
   "metadata": {},
   "outputs": [
    {
     "name": "stdout",
     "output_type": "stream",
     "text": [
      "[False, False, False, False, False, False, False, False, False, False, False, False, False, False, False, False]\n",
      "100010\n"
     ]
    }
   ],
   "source": [
    "result = 0\n",
    "result_struct = {}\n",
    "Mode_Manual_Control = False #@param {type:\"boolean\"}\n",
    "Mode_Run_Saved_Scripts = True #@param {type:\"boolean\"}\n",
    "Mode_Load_Remote_Scripts = False #@param {type:\"boolean\"}\n",
    "Mode_EXIT = False #@param {type:\"boolean\"}\n",
    "CH_1 = False #@param {type:\"boolean\"}\n",
    "CH_2 = False #@param {type:\"boolean\"}\n",
    "CH_3 = False #@param {type:\"boolean\"}\n",
    "CH_4 = False #@param {type:\"boolean\"}\n",
    "CH_5 = False #@param {type:\"boolean\"}\n",
    "CH_6 = False #@param {type:\"boolean\"}\n",
    "CH_7 = False #@param {type:\"boolean\"}\n",
    "CH_8 = False #@param {type:\"boolean\"}\n",
    "CH_9 = False #@param {type:\"boolean\"}\n",
    "CH_10 = False #@param {type:\"boolean\"}\n",
    "CH_11 = False #@param {type:\"boolean\"}\n",
    "CH_12 = False #@param {type:\"boolean\"}\n",
    "CH_13 = False #@param {type:\"boolean\"}\n",
    "CH_14 = False #@param {type:\"boolean\"}\n",
    "CH_15 = False #@param {type:\"boolean\"}\n",
    "CH_16 = False #@param {type:\"boolean\"}\n",
    "Manual_List = [CH_1, CH_2, CH_3, CH_4, CH_5, CH_6, CH_7, CH_8, CH_9, CH_10, CH_11, CH_12, CH_13, CH_14, CH_15, CH_16]\n",
    "print(Manual_List)\n",
    "Script_1 = False #@param {type:\"boolean\"}\n",
    "Script_2 = True #@param {type:\"boolean\"}\n",
    "Script_3 = False #@param {type:\"boolean\"}\n",
    "'''make sure only select one!'''\n",
    "'''Modes:\n",
    "1=manual, \n",
    "2=saved scripts (in Raspberry Pi), \n",
    "3=remote scripts (from drive)'''\n",
    "if (Mode_Manual_Control):\n",
    " result = 0\n",
    " for ch in Manual_List:\n",
    "     result = (result<<1) + int(ch)\n",
    " #result = int(CH_1) + (int(CH_2)<<1) + (int(CH_3)<<2)\n",
    " #result = result + (int (CH_4)<<3)+(int(CH_5)<<4)\n",
    " result_struct['mode'] = 1;\n",
    " result_struct['param'] = result;\n",
    " # result = (result<<4)+1;\n",
    "elif (Mode_Run_Saved_Scripts): #Optimize this later\n",
    " if Script_1:\n",
    "     #result = (1<<4)+2 #+2 means mode 2 - this is old and not running\n",
    "     result_struct['mode'] = 2\n",
    "     result_struct['param'] = 1\n",
    " elif Script_2:\n",
    "     result = (2<<4)+2\n",
    "     result_struct['mode'] = 2\n",
    "     result_struct['param'] = 2\n",
    " elif Script_3:\n",
    "     result = (3<<4)+2\n",
    "     result_struct['mode'] = 2\n",
    "     result_struct['param'] = 3\n",
    "elif (Mode_Load_Remote_Scripts):\n",
    "    result_struct['mode'] = 3\n",
    "    result_struct['param'] = test_file_content\n",
    "elif (Mode_EXIT):\n",
    "    result_struct['mode'] = 0\n",
    "    result_struct['param'] = 0 \n",
    "print(\"{0:b}\".format(result))"
   ]
  },
  {
   "cell_type": "code",
   "execution_count": 16,
   "id": "7b254589",
   "metadata": {},
   "outputs": [
    {
     "name": "stdout",
     "output_type": "stream",
     "text": [
      "Begin Publish\n",
      "Published: '{\"mode\": 2, \"param\": 2}' to the topic: 'test/testing'\n"
     ]
    }
   ],
   "source": [
    "#use either this block or the following block to publish, not both\n",
    "print('Begin Publish')\n",
    "message = result_struct\n",
    "myAWSIoTMQTTClient.publish(TOPIC, json.dumps(message), 1)\n",
    "print(\"Published: '\" + json.dumps(message) + \"' to the topic: \" + \"'test/testing'\")\n",
    "t.sleep(0.1)"
   ]
  },
  {
   "cell_type": "code",
   "execution_count": null,
   "id": "debc2aff",
   "metadata": {},
   "outputs": [],
   "source": []
  },
  {
   "cell_type": "code",
   "execution_count": null,
   "id": "81bce334",
   "metadata": {},
   "outputs": [],
   "source": []
  },
  {
   "cell_type": "code",
   "execution_count": null,
   "id": "822586f1",
   "metadata": {},
   "outputs": [],
   "source": []
  },
  {
   "cell_type": "code",
   "execution_count": null,
   "id": "0b2ad783",
   "metadata": {},
   "outputs": [],
   "source": []
  },
  {
   "cell_type": "code",
   "execution_count": null,
   "id": "8b68add6",
   "metadata": {},
   "outputs": [],
   "source": []
  },
  {
   "cell_type": "code",
   "execution_count": null,
   "id": "cae01545",
   "metadata": {},
   "outputs": [],
   "source": []
  },
  {
   "cell_type": "code",
   "execution_count": null,
   "id": "d4a31a8d",
   "metadata": {},
   "outputs": [],
   "source": []
  },
  {
   "cell_type": "code",
   "execution_count": null,
   "id": "476fcc7f",
   "metadata": {},
   "outputs": [],
   "source": []
  }
 ],
 "metadata": {
  "hide_input": false,
  "kernelspec": {
   "display_name": "Python 3 (ipykernel)",
   "language": "python",
   "name": "python3"
  },
  "language_info": {
   "codemirror_mode": {
    "name": "ipython",
    "version": 3
   },
   "file_extension": ".py",
   "mimetype": "text/x-python",
   "name": "python",
   "nbconvert_exporter": "python",
   "pygments_lexer": "ipython3",
   "version": "3.9.7"
  },
  "toc": {
   "base_numbering": 1,
   "nav_menu": {},
   "number_sections": true,
   "sideBar": true,
   "skip_h1_title": false,
   "title_cell": "Table of Contents",
   "title_sidebar": "Contents",
   "toc_cell": false,
   "toc_position": {},
   "toc_section_display": true,
   "toc_window_display": false
  }
 },
 "nbformat": 4,
 "nbformat_minor": 5
}

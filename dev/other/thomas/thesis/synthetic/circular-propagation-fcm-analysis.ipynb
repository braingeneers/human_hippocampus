{
 "cells": [
  {
   "cell_type": "markdown",
   "metadata": {},
   "source": [
    "## Imports"
   ]
  },
  {
   "cell_type": "code",
   "execution_count": 1,
   "metadata": {},
   "outputs": [],
   "source": [
    "# Standard library imports\n",
    "import os\n",
    "import random\n",
    "import pickle\n",
    "\n",
    "# Data analysis packages\n",
    "import numpy as np\n",
    "import pandas as pd\n",
    "from scipy.signal import correlate, correlation_lags\n",
    "from scipy.ndimage import gaussian_filter1d\n",
    "\n",
    "# Visualization packages\n",
    "import matplotlib.pyplot as plt\n",
    "import matplotlib.patches as patches\n",
    "from matplotlib.patches import FancyArrow, Patch, Circle\n",
    "import matplotlib.colors as mcolors\n",
    "from matplotlib.colors import LinearSegmentedColormap\n",
    "from matplotlib.lines import Line2D\n",
    "\n",
    "# Image processing packages\n",
    "import imageio\n",
    "from PIL import Image, ImageSequence\n",
    "\n",
    "# Braingeneers packages for analysis\n",
    "import braingeneers\n",
    "import braingeneers.data.datasets_electrophysiology as ephys\n",
    "from braingeneers.analysis.analysis import SpikeData, read_phy_files, load_spike_data, burst_detection, randomize_raster"
   ]
  },
  {
   "cell_type": "markdown",
   "metadata": {},
   "source": [
    "## Data"
   ]
  },
  {
   "cell_type": "code",
   "execution_count": 3,
   "metadata": {},
   "outputs": [],
   "source": [
    "with open('/workspaces/human_hippocampus/dev/other/thomas/thesis/pickled_datasets/circular_propagation_dataset_fast.pkl', 'rb') as file:\n",
    "    sd = pickle.load(file)"
   ]
  },
  {
   "cell_type": "markdown",
   "metadata": {},
   "source": [
    "## Functional Connectivity Map Code"
   ]
  },
  {
   "cell_type": "code",
   "execution_count": 4,
   "metadata": {},
   "outputs": [],
   "source": [
    "# Function to get neuron positions\n",
    "def get_neuron_positions(spike_data):\n",
    "    # Extract neuron positions from spike_data\n",
    "    neuron_x = []\n",
    "    neuron_y = []\n",
    "    for neuron in spike_data.neuron_data['positions'].values():\n",
    "        neuron_x.append(neuron['position'][0])\n",
    "        neuron_y.append(neuron['position'][1])\n",
    "    neuron_positions = np.array([neuron_x, neuron_y]).T\n",
    "    return neuron_positions\n",
    "\n",
    "def calculate_mean_firing_rates(spike_data):\n",
    "    mean_firing_rates = []\n",
    "    for neuron_spikes in spike_data.train:\n",
    "        num_spikes = len(neuron_spikes)\n",
    "        time_duration = spike_data.length / 1000  # Assuming spike times are in milliseconds\n",
    "        firing_rate = num_spikes / time_duration\n",
    "        mean_firing_rates.append(firing_rate)\n",
    "\n",
    "    return np.array(mean_firing_rates)\n",
    "\n",
    "def latencies_mean_neuron(lat_list):\n",
    "    \"\"\"\n",
    "    Output: Returns a list containing the mean latencies for each sublist.\n",
    "    Input: lat_list- A list of lists representing latencies between a particular neuron, x, and all others. Created with `sd.latencies_to_index(x)`\n",
    "    \"\"\"\n",
    "    nested_list = lat_list\n",
    "    for i in range(len(nested_list)):\n",
    "        sublist = nested_list[i]\n",
    "        length = len(sublist)\n",
    "        if length == 0:\n",
    "            sublist_mean = 0\n",
    "        else:\n",
    "            sublist_mean = sum(sublist)/len(sublist)\n",
    "            sublist_mean = round(sublist_mean, 3) # Round to 3d.p.\n",
    "        nested_list[i] = sublist_mean\n",
    "    return nested_list\n",
    "\n",
    "def latencies_mean_all(sd):\n",
    "    \"\"\"\n",
    "    Output: Returns a list of lists containing the mean latencies between all neurons\n",
    "    Input: sd- A SpikeData object, the standard data format for braingeneers\n",
    "    \"\"\"\n",
    "    latencies_array = [None] * sd.N\n",
    "    for curr_neuron in range(sd.N):\n",
    "        latencies = latencies_mean_neuron(sd.latencies_to_index(curr_neuron))\n",
    "        latencies_array[curr_neuron] = latencies # Store mean latency in corresponding position of 'latencies_array2'\n",
    "    return latencies_array\n",
    "\n",
    "def get_in_out_degree( mean_latency_matrix ): \n",
    "    \"\"\"\n",
    "    Output: Returns a list of tuples, [(incoming,outgoing),....] , containing the in and out degree for each neuron. \n",
    "            This is the number of \"receicer\" and \"sender\" signals the neurons get from other neurons\n",
    "    Input: mean_latency_matrix- A list of lists containing the mean latency between all neurons\n",
    "    \"\"\"\n",
    "    in_out_deg = [(0, 0) for _ in range(len(mean_latency_matrix))]\n",
    "    for curr_neuron in range(len(mean_latency_matrix)):\n",
    "        in_deg = 0\n",
    "        out_deg = 0\n",
    "        curr_neural_latencies = mean_latency_matrix[curr_neuron]\n",
    "        for i in range(len(curr_neural_latencies)):\n",
    "            if curr_neural_latencies[i] > 0:\n",
    "                out_deg += 1\n",
    "            if curr_neural_latencies[i] < 0:\n",
    "                in_deg += 1\n",
    "        in_out_deg[curr_neuron] = (in_deg, out_deg)\n",
    "    return in_out_deg\n",
    "\n",
    "def label_sender_receiver_neurons(in_out_deg, latency_thresh=0.2):\n",
    "    node_info = ['grey'] * len(in_out_deg)\n",
    "    for i in range(len(in_out_deg)):\n",
    "        if (in_out_deg[i][1] + in_out_deg[i][0]) == 0:\n",
    "            test1 = 0\n",
    "            test2 = 0\n",
    "        else:\n",
    "            test1 = (in_out_deg[i][1] - in_out_deg[i][0]) / (in_out_deg[i][1] + in_out_deg[i][0])\n",
    "            test2 = (in_out_deg[i][0] - in_out_deg[i][1]) / (in_out_deg[i][1] + in_out_deg[i][0])\n",
    "        \n",
    "        if test1 > latency_thresh:\n",
    "            node_info[i] = 'red'\n",
    "        elif test2 > latency_thresh:\n",
    "            node_info[i] = 'blue'\n",
    "    return node_info\n",
    "\n",
    "def plot_functional_connectivity_map( sd, latency_threshold=.1, show_sttc=True,  sttc_threshold=.1):\n",
    "    \"\"\"\n",
    "    Output: plots the functional connectivity map, displayin \"sender\" and \"\"receiver\" neurons in the neural circuit\n",
    "    Inputs:\n",
    "        sd (SpikeData object)- the standard data format for braingeneers\n",
    "        latency_threshold (float)- Between 0-1. The threshold for the fraction of in/out signals a neuron must have to be labelled a \"sender\" or \"receiver\"\n",
    "        show_sttc (boolean)- If True, the spike time tiling connections between neurons are also plotted\n",
    "        sttc_threshold (float)- Between 0-1. The strength a spike time tiling correlation must be above in order to be plotted\n",
    "    \"\"\"\n",
    "    # Plot functional connectivity map\n",
    "    print(\"calculating all latencies...\")\n",
    "    all_mean_latencies = latencies_mean_all(sd)\n",
    "    in_out_deg = get_in_out_degree(all_mean_latencies)\n",
    "    sender_receiver_neurons = label_sender_receiver_neurons(in_out_deg, latency_threshold )\n",
    "    print(\"making plot\")\n",
    "    neuron_x = []\n",
    "    neuron_y = []\n",
    "    for neuron in sd.neuron_data['positions'].values():\n",
    "        neuron_x.append(neuron['position'][0])\n",
    "        neuron_y.append(neuron['position'][1])\n",
    "    plt.figure(figsize=(8,8))\n",
    "    plt.scatter(neuron_x, neuron_y, c=sender_receiver_neurons)\n",
    "    # Plot legend for functional connectivity map\n",
    "    node_type_legend_elements = [\n",
    "    plt.scatter([], [], s=50, marker='o', edgecolor='black', facecolor='grey', label='Broker'),\n",
    "    plt.scatter([], [], s=50, marker='o', edgecolor='black', facecolor='red', label='Sender'),\n",
    "    plt.scatter([], [], s=50, marker='o', edgecolor='black', facecolor='blue', label='Receiver')\n",
    "    ]\n",
    "    node_type_legend = plt.legend(handles=node_type_legend_elements, title='Node Type', loc='best')\n",
    "    plt.gca().add_artist(node_type_legend)\n",
    "    plt.title(\"Functional Connectivity Map - Synthetic Wave-Propagation Data\")\n",
    "    plt.xlabel('X position')\n",
    "    plt.ylabel('Y position')\n",
    "\n",
    "    # Plot spike time tiling connections between neurons\n",
    "    if show_sttc:\n",
    "        sttc = sd.spike_time_tilings(delt=40)\n",
    "        for i in range(sttc.shape[0]):\n",
    "            for j in range(sttc.shape[1]):\n",
    "                if i <= j: continue\n",
    "                if sttc[i,j] < sttc_threshold : continue\n",
    "                ix,iy = sd.neuron_data['positions'][i]['position']\n",
    "                jx,jy = sd.neuron_data['positions'][j]['position']\n",
    "                # ix,iy = sd.neuron_data[0][i]['position']\n",
    "                # jx,jy = sd.neuron_data[0][j]['position']\n",
    "                linewidth = 1.5 + 2 * (sttc[i, j] - sttc_threshold)\n",
    "                opacity = 0.2 + 0.8 * (sttc[i, j] - sttc_threshold)  # Modify opacity based on correlation\n",
    "                # Plot line between the points with linewidth and opacity\n",
    "                plt.plot([ix, jx], [iy, jy], linewidth=linewidth, c='grey', alpha=opacity)\n",
    "        # Create legend for spike time tilings\n",
    "        correlation_legend_elements = [\n",
    "            plt.Line2D([0], [0], color='grey', linewidth=0.5, label='0.6'),\n",
    "            plt.Line2D([0], [0], color='grey', linewidth=1.0, label='0.8'),\n",
    "            plt.Line2D([0], [0], color='grey', linewidth=1.5, label='1.0')\n",
    "        ]\n",
    "        correlation_legend = plt.legend(handles=correlation_legend_elements, title='Correlation', loc='lower left')\n",
    "        plt.gca().add_artist(correlation_legend)\n",
    "    \n",
    "    # Invert y axis to match the image\n",
    "    plt.gca().invert_yaxis()\n",
    "\n",
    "    # Make x and y axis equal\n",
    "    plt.axis('equal')\n",
    "\n",
    "    plt.show()"
   ]
  },
  {
   "cell_type": "code",
   "execution_count": 5,
   "metadata": {},
   "outputs": [],
   "source": [
    "sd2 = sd.subtime(0, 10000)"
   ]
  },
  {
   "cell_type": "code",
   "execution_count": 5,
   "metadata": {},
   "outputs": [
    {
     "name": "stdout",
     "output_type": "stream",
     "text": [
      "calculating all latencies...\n"
     ]
    },
    {
     "ename": "KeyboardInterrupt",
     "evalue": "",
     "output_type": "error",
     "traceback": [
      "\u001b[0;31m---------------------------------------------------------------------------\u001b[0m",
      "\u001b[0;31mKeyboardInterrupt\u001b[0m                         Traceback (most recent call last)",
      "Cell \u001b[0;32mIn[5], line 1\u001b[0m\n\u001b[0;32m----> 1\u001b[0m \u001b[43mplot_functional_connectivity_map\u001b[49m\u001b[43m(\u001b[49m\u001b[43msd\u001b[49m\u001b[43m,\u001b[49m\u001b[43m \u001b[49m\u001b[43mlatency_threshold\u001b[49m\u001b[38;5;241;43m=\u001b[39;49m\u001b[38;5;241;43m.3\u001b[39;49m\u001b[43m,\u001b[49m\u001b[43m \u001b[49m\u001b[43mshow_sttc\u001b[49m\u001b[38;5;241;43m=\u001b[39;49m\u001b[38;5;28;43;01mTrue\u001b[39;49;00m\u001b[43m,\u001b[49m\u001b[43m  \u001b[49m\u001b[43msttc_threshold\u001b[49m\u001b[38;5;241;43m=\u001b[39;49m\u001b[38;5;241;43m.999\u001b[39;49m\u001b[43m)\u001b[49m\n",
      "Cell \u001b[0;32mIn[4], line 96\u001b[0m, in \u001b[0;36mplot_functional_connectivity_map\u001b[0;34m(sd, latency_threshold, show_sttc, sttc_threshold)\u001b[0m\n\u001b[1;32m     94\u001b[0m \u001b[38;5;66;03m# Plot functional connectivity map\u001b[39;00m\n\u001b[1;32m     95\u001b[0m \u001b[38;5;28mprint\u001b[39m(\u001b[38;5;124m\"\u001b[39m\u001b[38;5;124mcalculating all latencies...\u001b[39m\u001b[38;5;124m\"\u001b[39m)\n\u001b[0;32m---> 96\u001b[0m all_mean_latencies \u001b[38;5;241m=\u001b[39m \u001b[43mlatencies_mean_all\u001b[49m\u001b[43m(\u001b[49m\u001b[43msd\u001b[49m\u001b[43m)\u001b[49m\n\u001b[1;32m     97\u001b[0m in_out_deg \u001b[38;5;241m=\u001b[39m get_in_out_degree(all_mean_latencies)\n\u001b[1;32m     98\u001b[0m sender_receiver_neurons \u001b[38;5;241m=\u001b[39m label_sender_receiver_neurons(in_out_deg, latency_threshold )\n",
      "Cell \u001b[0;32mIn[4], line 46\u001b[0m, in \u001b[0;36mlatencies_mean_all\u001b[0;34m(sd)\u001b[0m\n\u001b[1;32m     44\u001b[0m latencies_array \u001b[38;5;241m=\u001b[39m [\u001b[38;5;28;01mNone\u001b[39;00m] \u001b[38;5;241m*\u001b[39m sd\u001b[38;5;241m.\u001b[39mN\n\u001b[1;32m     45\u001b[0m \u001b[38;5;28;01mfor\u001b[39;00m curr_neuron \u001b[38;5;129;01min\u001b[39;00m \u001b[38;5;28mrange\u001b[39m(sd\u001b[38;5;241m.\u001b[39mN):\n\u001b[0;32m---> 46\u001b[0m     latencies \u001b[38;5;241m=\u001b[39m latencies_mean_neuron(\u001b[43msd\u001b[49m\u001b[38;5;241;43m.\u001b[39;49m\u001b[43mlatencies_to_index\u001b[49m\u001b[43m(\u001b[49m\u001b[43mcurr_neuron\u001b[49m\u001b[43m)\u001b[49m)\n\u001b[1;32m     47\u001b[0m     latencies_array[curr_neuron] \u001b[38;5;241m=\u001b[39m latencies \u001b[38;5;66;03m# Store mean latency in corresponding position of 'latencies_array2'\u001b[39;00m\n\u001b[1;32m     48\u001b[0m \u001b[38;5;28;01mreturn\u001b[39;00m latencies_array\n",
      "File \u001b[0;32m/srv/conda/envs/notebook/lib/python3.10/site-packages/braingeneers/analysis/analysis.py:976\u001b[0m, in \u001b[0;36mSpikeData.latencies_to_index\u001b[0;34m(self, i, window_ms)\u001b[0m\n\u001b[1;32m    969\u001b[0m \u001b[38;5;28;01mdef\u001b[39;00m \u001b[38;5;21mlatencies_to_index\u001b[39m(\u001b[38;5;28mself\u001b[39m, i, window_ms\u001b[38;5;241m=\u001b[39m\u001b[38;5;241m100\u001b[39m):\n\u001b[1;32m    970\u001b[0m \u001b[38;5;250m    \u001b[39m\u001b[38;5;124;03m'''\u001b[39;00m\n\u001b[1;32m    971\u001b[0m \u001b[38;5;124;03m    Given an index, compute latencies using self.latencies()\u001b[39;00m\n\u001b[1;32m    972\u001b[0m \u001b[38;5;124;03m    :param i: index of the unit\u001b[39;00m\n\u001b[1;32m    973\u001b[0m \u001b[38;5;124;03m    :param window_ms: window in ms\u001b[39;00m\n\u001b[1;32m    974\u001b[0m \u001b[38;5;124;03m    :return: 2d list, each row is a list of latencies per neuron\u001b[39;00m\n\u001b[1;32m    975\u001b[0m \u001b[38;5;124;03m    '''\u001b[39;00m\n\u001b[0;32m--> 976\u001b[0m     \u001b[38;5;28;01mreturn\u001b[39;00m \u001b[38;5;28;43mself\u001b[39;49m\u001b[38;5;241;43m.\u001b[39;49m\u001b[43mlatencies\u001b[49m\u001b[43m(\u001b[49m\u001b[38;5;28;43mself\u001b[39;49m\u001b[38;5;241;43m.\u001b[39;49m\u001b[43mtrain\u001b[49m\u001b[43m[\u001b[49m\u001b[43mi\u001b[49m\u001b[43m]\u001b[49m\u001b[43m,\u001b[49m\u001b[43m \u001b[49m\u001b[43mwindow_ms\u001b[49m\u001b[43m)\u001b[49m\n",
      "File \u001b[0;32m/srv/conda/envs/notebook/lib/python3.10/site-packages/braingeneers/analysis/analysis.py:957\u001b[0m, in \u001b[0;36mSpikeData.latencies\u001b[0;34m(self, times, window_ms)\u001b[0m\n\u001b[1;32m    953\u001b[0m     \u001b[38;5;28;01mcontinue\u001b[39;00m\n\u001b[1;32m    954\u001b[0m \u001b[38;5;28;01mfor\u001b[39;00m time \u001b[38;5;129;01min\u001b[39;00m times:\n\u001b[1;32m    955\u001b[0m     \u001b[38;5;66;03m# Subtract time from all spikes in the train\u001b[39;00m\n\u001b[1;32m    956\u001b[0m     \u001b[38;5;66;03m# and take the absolute value\u001b[39;00m\n\u001b[0;32m--> 957\u001b[0m     abs_diff_ind \u001b[38;5;241m=\u001b[39m \u001b[43mnp\u001b[49m\u001b[38;5;241;43m.\u001b[39;49m\u001b[43margmin\u001b[49m\u001b[43m(\u001b[49m\u001b[43mnp\u001b[49m\u001b[38;5;241;43m.\u001b[39;49m\u001b[43mabs\u001b[49m\u001b[43m(\u001b[49m\u001b[43mtrain\u001b[49m\u001b[43m \u001b[49m\u001b[38;5;241;43m-\u001b[39;49m\u001b[43m \u001b[49m\u001b[43mtime\u001b[49m\u001b[43m)\u001b[49m\u001b[43m)\u001b[49m\n\u001b[1;32m    959\u001b[0m     \u001b[38;5;66;03m# Calculate the actual latency\u001b[39;00m\n\u001b[1;32m    960\u001b[0m     latency \u001b[38;5;241m=\u001b[39m np\u001b[38;5;241m.\u001b[39marray(train) \u001b[38;5;241m-\u001b[39m time\n",
      "File \u001b[0;32m/srv/conda/envs/notebook/lib/python3.10/site-packages/numpy/core/fromnumeric.py:1236\u001b[0m, in \u001b[0;36margmin\u001b[0;34m(a, axis, out, keepdims)\u001b[0m\n\u001b[1;32m   1232\u001b[0m \u001b[38;5;28;01mdef\u001b[39;00m \u001b[38;5;21m_argmin_dispatcher\u001b[39m(a, axis\u001b[38;5;241m=\u001b[39m\u001b[38;5;28;01mNone\u001b[39;00m, out\u001b[38;5;241m=\u001b[39m\u001b[38;5;28;01mNone\u001b[39;00m, \u001b[38;5;241m*\u001b[39m, keepdims\u001b[38;5;241m=\u001b[39mnp\u001b[38;5;241m.\u001b[39m_NoValue):\n\u001b[1;32m   1233\u001b[0m     \u001b[38;5;28;01mreturn\u001b[39;00m (a, out)\n\u001b[0;32m-> 1236\u001b[0m \u001b[38;5;129m@array_function_dispatch\u001b[39m(_argmin_dispatcher)\n\u001b[1;32m   1237\u001b[0m \u001b[38;5;28;01mdef\u001b[39;00m \u001b[38;5;21margmin\u001b[39m(a, axis\u001b[38;5;241m=\u001b[39m\u001b[38;5;28;01mNone\u001b[39;00m, out\u001b[38;5;241m=\u001b[39m\u001b[38;5;28;01mNone\u001b[39;00m, \u001b[38;5;241m*\u001b[39m, keepdims\u001b[38;5;241m=\u001b[39mnp\u001b[38;5;241m.\u001b[39m_NoValue):\n\u001b[1;32m   1238\u001b[0m \u001b[38;5;250m    \u001b[39m\u001b[38;5;124;03m\"\"\"\u001b[39;00m\n\u001b[1;32m   1239\u001b[0m \u001b[38;5;124;03m    Returns the indices of the minimum values along an axis.\u001b[39;00m\n\u001b[1;32m   1240\u001b[0m \n\u001b[0;32m   (...)\u001b[0m\n\u001b[1;32m   1322\u001b[0m \u001b[38;5;124;03m    (2, 1, 4)\u001b[39;00m\n\u001b[1;32m   1323\u001b[0m \u001b[38;5;124;03m    \"\"\"\u001b[39;00m\n\u001b[1;32m   1324\u001b[0m     kwds \u001b[38;5;241m=\u001b[39m {\u001b[38;5;124m'\u001b[39m\u001b[38;5;124mkeepdims\u001b[39m\u001b[38;5;124m'\u001b[39m: keepdims} \u001b[38;5;28;01mif\u001b[39;00m keepdims \u001b[38;5;129;01mis\u001b[39;00m \u001b[38;5;129;01mnot\u001b[39;00m np\u001b[38;5;241m.\u001b[39m_NoValue \u001b[38;5;28;01melse\u001b[39;00m {}\n",
      "\u001b[0;31mKeyboardInterrupt\u001b[0m: "
     ]
    }
   ],
   "source": [
    "plot_functional_connectivity_map(sd, latency_threshold=.3, show_sttc=True,  sttc_threshold=.999)"
   ]
  },
  {
   "cell_type": "code",
   "execution_count": 10,
   "metadata": {},
   "outputs": [
    {
     "data": {
      "text/plain": [
       "'/workspaces/human_hippocampus/dev/other/thomas/thesis/synthetic'"
      ]
     },
     "execution_count": 10,
     "metadata": {},
     "output_type": "execute_result"
    }
   ],
   "source": [
    "os.getcwd()"
   ]
  }
 ],
 "metadata": {
  "kernelspec": {
   "display_name": "notebook",
   "language": "python",
   "name": "python3"
  },
  "language_info": {
   "codemirror_mode": {
    "name": "ipython",
    "version": 3
   },
   "file_extension": ".py",
   "mimetype": "text/x-python",
   "name": "python",
   "nbconvert_exporter": "python",
   "pygments_lexer": "ipython3",
   "version": "3.10.0"
  }
 },
 "nbformat": 4,
 "nbformat_minor": 2
}

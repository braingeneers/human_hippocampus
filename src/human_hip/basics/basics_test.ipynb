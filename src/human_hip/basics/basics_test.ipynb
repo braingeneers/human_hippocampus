{
 "cells": [
  {
   "cell_type": "markdown",
   "id": "eb1b1793",
   "metadata": {},
   "source": [
    "# Import stuff"
   ]
  },
  {
   "cell_type": "code",
   "execution_count": null,
   "id": "26cc91e2",
   "metadata": {},
   "outputs": [],
   "source": []
  },
  {
   "cell_type": "code",
   "execution_count": 3,
   "id": "845eed2a",
   "metadata": {},
   "outputs": [
    {
     "ename": "ModuleNotFoundError",
     "evalue": "No module named 'wetai'",
     "output_type": "error",
     "traceback": [
      "\u001b[0;31m---------------------------------------------------------------------------\u001b[0m",
      "\u001b[0;31mModuleNotFoundError\u001b[0m                       Traceback (most recent call last)",
      "\u001b[1;32m/Users/cdcore/Documents/escience/dev/human_hippocampus/src/human_hip/basics/basics_test.ipynb Cell 3\u001b[0m line \u001b[0;36m1\n\u001b[1;32m     <a href='vscode-notebook-cell:/Users/cdcore/Documents/escience/dev/human_hippocampus/src/human_hip/basics/basics_test.ipynb#W2sZmlsZQ%3D%3D?line=13'>14</a>\u001b[0m \u001b[39mfrom\u001b[39;00m \u001b[39mPIL\u001b[39;00m \u001b[39mimport\u001b[39;00m Image\n\u001b[1;32m     <a href='vscode-notebook-cell:/Users/cdcore/Documents/escience/dev/human_hippocampus/src/human_hip/basics/basics_test.ipynb#W2sZmlsZQ%3D%3D?line=14'>15</a>\u001b[0m \u001b[39mfrom\u001b[39;00m \u001b[39mipywidgets\u001b[39;00m \u001b[39mimport\u001b[39;00m interact, interactive, fixed, interact_manual\n\u001b[0;32m---> <a href='vscode-notebook-cell:/Users/cdcore/Documents/escience/dev/human_hippocampus/src/human_hip/basics/basics_test.ipynb#W2sZmlsZQ%3D%3D?line=15'>16</a>\u001b[0m \u001b[39mimport\u001b[39;00m \u001b[39mbraingeneers\u001b[39;00m\n\u001b[1;32m     <a href='vscode-notebook-cell:/Users/cdcore/Documents/escience/dev/human_hippocampus/src/human_hip/basics/basics_test.ipynb#W2sZmlsZQ%3D%3D?line=16'>17</a>\u001b[0m \u001b[39mimport\u001b[39;00m \u001b[39mbraingeneers\u001b[39;00m\u001b[39m.\u001b[39;00m\u001b[39mdata\u001b[39;00m\u001b[39m.\u001b[39;00m\u001b[39mdatasets_electrophysiology\u001b[39;00m \u001b[39mas\u001b[39;00m \u001b[39mephys\u001b[39;00m\n\u001b[1;32m     <a href='vscode-notebook-cell:/Users/cdcore/Documents/escience/dev/human_hippocampus/src/human_hip/basics/basics_test.ipynb#W2sZmlsZQ%3D%3D?line=17'>18</a>\u001b[0m \u001b[39mfrom\u001b[39;00m \u001b[39mbraingeneers\u001b[39;00m\u001b[39m.\u001b[39;00m\u001b[39manalysis\u001b[39;00m\u001b[39m.\u001b[39;00m\u001b[39manalysis\u001b[39;00m \u001b[39mimport\u001b[39;00m SpikeData, read_phy_files\n",
      "File \u001b[0;32m/opt/homebrew/lib/python3.11/site-packages/braingeneers/__init__.py:1\u001b[0m\n\u001b[0;32m----> 1\u001b[0m \u001b[39mfrom\u001b[39;00m \u001b[39mwetai\u001b[39;00m \u001b[39mimport\u001b[39;00m test\n",
      "\u001b[0;31mModuleNotFoundError\u001b[0m: No module named 'wetai'"
     ]
    }
   ],
   "source": [
    "import os\n",
    "import re\n",
    "import glob\n",
    "import random\n",
    "import numpy as np\n",
    "import scipy\n",
    "import scipy.io as sio\n",
    "import scipy.ndimage as ndimage\n",
    "import pandas as pd\n",
    "import matplotlib.pyplot as plt\n",
    "import matplotlib.colors as mcolors\n",
    "import matplotlib.patches as patches\n",
    "from matplotlib.lines import Line2D\n",
    "from PIL import Image\n",
    "from ipywidgets import interact, interactive, fixed, interact_manual\n",
    "import braingeneers\n",
    "import braingeneers.data.datasets_electrophysiology as ephys\n",
    "from braingeneers.analysis.analysis import SpikeData, read_phy_files"
   ]
  },
  {
   "cell_type": "code",
   "execution_count": 30,
   "id": "c34276c2",
   "metadata": {},
   "outputs": [],
   "source": [
    "import numpy as np                                                    # Packages for data analysis\n",
    "import pandas as pd\n",
    "import matplotlib.pyplot as plt\n",
    "from matplotlib.patches import Patch, Circle\n",
    "from scipy.ndimage import gaussian_filter1d\n",
    "import braingeneers                                                   # Braingeneers code\n",
    "from braingeneers.analysis.analysis import SpikeData, read_phy_files\n",
    "from ipywidgets import interact, interactive, fixed, interact_manual  # package for interactive widgets \n",
    "import ipywidgets as ipw\n",
    "from IPython.display import HTML, display, Javascript, clear_output"
   ]
  },
  {
   "cell_type": "code",
   "execution_count": null,
   "id": "a151e924",
   "metadata": {},
   "outputs": [],
   "source": []
  },
  {
   "cell_type": "markdown",
   "id": "4ff796f7",
   "metadata": {},
   "source": [
    "# Create text Summary"
   ]
  },
  {
   "cell_type": "markdown",
   "id": "55d38fc5",
   "metadata": {},
   "source": [
    "## <font color=\"gray\">Helper function to `analyze_spike_data`"
   ]
  },
  {
   "cell_type": "code",
   "execution_count": 2,
   "id": "c76f7299",
   "metadata": {},
   "outputs": [],
   "source": [
    "def analyze_spike_data(sd):\n",
    "    idces_control, times_control = sd.idces_times()\n",
    "    n_neurons_control = len(sd.rates())\n",
    "\n",
    "    print(\"Number of spikes: \", len(idces_control))\n",
    "    print(\"Length of recording: \", times_control[-1]/1000)\n",
    "    print(\"Number of neurons: \", n_neurons_control)\n",
    "    entire_firing_rate_control = len(idces_control) / (times_control[-1] / 1000)\n",
    "    avg_rate_control = entire_firing_rate_control / n_neurons_control\n",
    "\n",
    "    print(\"Average firing rate: \", round(avg_rate_control, 5))\n",
    "\n",
    "    isis_raw = sd.interspike_intervals()\n",
    "    # Remove all isi's greater than 100ms. As there are likely neurons not following periodic firing pattern\n",
    "    isis = []\n",
    "    for i in range(len(isis_raw)):\n",
    "        isi = isis_raw[i]\n",
    "        isis = isis + isi[isi < 100].tolist()\n",
    "\n",
    "    isi_mean = sum(isis) / len(isis)\n",
    "    isi_var = sum([((x - isi_mean) ** 2) for x in isis]) / len(isis)\n",
    "    isi_std = isi_var ** 0.5\n",
    "\n",
    "    cv = isi_std / isi_mean\n",
    "\n",
    "    print(\"Coefficient of variation: \", cv)"
   ]
  },
  {
   "cell_type": "code",
   "execution_count": null,
   "id": "b81bcb1f",
   "metadata": {},
   "outputs": [],
   "source": []
  },
  {
   "cell_type": "markdown",
   "id": "01beaed5",
   "metadata": {},
   "source": [
    "## Main code"
   ]
  },
  {
   "cell_type": "code",
   "execution_count": null,
   "id": "41e759a7",
   "metadata": {},
   "outputs": [],
   "source": [
    "def GetTextSummary(folder_name):\n",
    "    path = f\"/home/jovyan/work/Human_Hippocampus/data/ephys/{folder_name}/derived/kilosort2/\"\n",
    "    file_extension = \"_curated.zip\"\n",
    "    spike_data_objects = {}  # Dictionary to store spike data objects\n",
    "\n",
    "    def get_last_digit(s):\n",
    "        return int(''.join(filter(str.isdigit, s))[-1])\n",
    "\n",
    "    for filename in os.listdir(path):\n",
    "        if filename.endswith(file_extension):\n",
    "            file_path = os.path.join(path, filename)\n",
    "            sd = read_phy_files(file_path)\n",
    "            # Generating the unique name for the spike data object based on the last digit of the filename\n",
    "            sd_name = \"sd_\" + str(get_last_digit(filename))\n",
    "            spike_data_objects[sd_name] = sd\n",
    "            \n",
    "    for sd_name in sorted(spike_data_objects.keys(), key=lambda x: int(x.split(\"_\")[-1])):\n",
    "        sd_object = spike_data_objects[sd_name]\n",
    "        #print(f\"Analyzing {sd_name}...\")\n",
    "        print(f\"Analyzing {}:\")\n",
    "        analyze_spike_data(sd_object)\n",
    "        print(\"-----------------------------\")"
   ]
  },
  {
   "cell_type": "code",
   "execution_count": 4,
   "id": "17f22794",
   "metadata": {},
   "outputs": [],
   "source": [
    "def GetTextSummary(folder_name):\n",
    "    path = f\"/home/jovyan/work/Human_Hippocampus/data/ephys/{folder_name}/derived/kilosort2/\"\n",
    "    file_extension = \"_curated.zip\"\n",
    "    spike_data_objects = {}  # Dictionary to store spike data objects\n",
    "\n",
    "    def get_identifier_from_filename(filename):\n",
    "        # Use regular expression to find the identifier\n",
    "        match = re.search(r\"\\d+(?=_curated\\.zip)\", filename)\n",
    "        if match:\n",
    "            return int(match.group())\n",
    "        else:\n",
    "            return None\n",
    "\n",
    "    for filename in os.listdir(path):\n",
    "        if filename.endswith(file_extension):\n",
    "            file_path = os.path.join(path, filename)\n",
    "            sd = read_phy_files(file_path)\n",
    "            identifier = get_identifier_from_filename(filename)\n",
    "            if identifier is not None:\n",
    "                # Generating the unique name for the spike data object\n",
    "                sd_name = \"sd_\" + str(identifier)\n",
    "                spike_data_objects[sd_name] = sd\n",
    "\n",
    "    # Sort the spike data objects based on the identifier\n",
    "    sorted_spike_data_objects = sorted(spike_data_objects.items(), key=lambda x: x[1])\n",
    "\n",
    "    for sd_name, sd_object in sorted_spike_data_objects:\n",
    "        print(f\"Analyzing {sd_name}...\")\n",
    "        analyze_spike_data(sd_object)\n",
    "        print(\"-----------------------------\")"
   ]
  },
  {
   "cell_type": "code",
   "execution_count": null,
   "id": "5ff7d09b",
   "metadata": {},
   "outputs": [],
   "source": []
  },
  {
   "cell_type": "markdown",
   "id": "e2b227cf",
   "metadata": {},
   "source": [
    "## <font color=\"brown\">test main function"
   ]
  },
  {
   "cell_type": "markdown",
   "id": "e07cfcf4",
   "metadata": {},
   "source": [
    "<font color=\"red\">\n",
    "\n",
    "**Error Datasets**\n",
    "* 2023-05-09-e-hc52_18763"
   ]
  },
  {
   "cell_type": "code",
   "execution_count": null,
   "id": "01f21711",
   "metadata": {},
   "outputs": [
    {
     "data": {
      "application/vnd.jupyter.widget-view+json": {
       "model_id": "cfba36d5bedc4362866e8795ceaafc85",
       "version_major": 2,
       "version_minor": 0
      },
      "text/plain": [
       "interactive(children=(Dropdown(description='folder_name', options=('2023-05-09-e-hc52_18763', '2023-04-05-e-hc…"
      ]
     },
     "metadata": {},
     "output_type": "display_data"
    },
    {
     "data": {
      "text/plain": [
       "<function __main__.GetTextSummary(folder_name)>"
      ]
     },
     "execution_count": 7,
     "metadata": {},
     "output_type": "execute_result"
    }
   ],
   "source": [
    "interact_manual( GetTextSummary, folder_name=data_folders ) "
   ]
  },
  {
   "cell_type": "code",
   "execution_count": null,
   "id": "c0afd2d4",
   "metadata": {},
   "outputs": [],
   "source": []
  },
  {
   "cell_type": "code",
   "execution_count": null,
   "id": "19832e99",
   "metadata": {},
   "outputs": [],
   "source": []
  },
  {
   "cell_type": "code",
   "execution_count": null,
   "id": "67f216be",
   "metadata": {},
   "outputs": [],
   "source": []
  },
  {
   "cell_type": "markdown",
   "id": "c7042d7a",
   "metadata": {},
   "source": [
    "## <font color=\"brown\"> Old junk"
   ]
  },
  {
   "cell_type": "code",
   "execution_count": 6,
   "id": "ef25955b",
   "metadata": {},
   "outputs": [],
   "source": [
    "data_folders = os.listdir(\"/home/jovyan/work/Human_Hippocampus/data/ephys\")[1:]"
   ]
  },
  {
   "cell_type": "code",
   "execution_count": 48,
   "id": "ffef46d9",
   "metadata": {},
   "outputs": [],
   "source": [
    "folder_name= data_folders[4]"
   ]
  },
  {
   "cell_type": "code",
   "execution_count": 49,
   "id": "1c0fe47f",
   "metadata": {},
   "outputs": [
    {
     "data": {
      "text/plain": [
       "['2023-05-09-e-hc52_18763',\n",
       " '2023-04-05-e-hc328_040523',\n",
       " '2023-04-02-hc328_rec',\n",
       " '2023-04-04-e-hc328_hckcr1-2_040423_recs',\n",
       " '2023-04-03-hc328b_ChR2',\n",
       " '2023-05-10-e-hc52_18790']"
      ]
     },
     "execution_count": 49,
     "metadata": {},
     "output_type": "execute_result"
    }
   ],
   "source": [
    "data_folders"
   ]
  },
  {
   "cell_type": "code",
   "execution_count": null,
   "id": "bbd9bf0c",
   "metadata": {},
   "outputs": [],
   "source": []
  },
  {
   "cell_type": "code",
   "execution_count": 50,
   "id": "1ef93ce3",
   "metadata": {},
   "outputs": [
    {
     "data": {
      "text/plain": [
       "'2023-04-03-hc328b_ChR2'"
      ]
     },
     "execution_count": 50,
     "metadata": {},
     "output_type": "execute_result"
    }
   ],
   "source": [
    "folder_name"
   ]
  },
  {
   "cell_type": "code",
   "execution_count": null,
   "id": "f4671e24",
   "metadata": {},
   "outputs": [],
   "source": []
  },
  {
   "cell_type": "code",
   "execution_count": 45,
   "id": "da7d1863",
   "metadata": {},
   "outputs": [
    {
     "data": {
      "text/plain": [
       "'/home/jovyan/work/Human_Hippocampus/data/ephys/2023-04-03-hc328b_ChR2/derived/kilosort2/'"
      ]
     },
     "execution_count": 45,
     "metadata": {},
     "output_type": "execute_result"
    }
   ],
   "source": [
    "path"
   ]
  },
  {
   "cell_type": "code",
   "execution_count": null,
   "id": "5dccc764",
   "metadata": {},
   "outputs": [],
   "source": []
  },
  {
   "cell_type": "code",
   "execution_count": null,
   "id": "ca2d714a",
   "metadata": {},
   "outputs": [],
   "source": []
  },
  {
   "cell_type": "markdown",
   "id": "74e006c7",
   "metadata": {},
   "source": [
    "Tom's code block 1"
   ]
  },
  {
   "cell_type": "code",
   "execution_count": 53,
   "id": "043aac32",
   "metadata": {},
   "outputs": [],
   "source": [
    "path = f\"/home/jovyan/work/Human_Hippocampus/data/ephys/{folder_name}/derived/kilosort2/\"\n",
    "file_extension = \"_curated.zip\"\n",
    "spike_data_objects = {}  # Dictionary to store spike data objects\n",
    "\n",
    "def get_last_digit(s):\n",
    "    return int(''.join(filter(str.isdigit, s))[-1])\n",
    "\n",
    "for filename in os.listdir(path):\n",
    "    if filename.endswith(file_extension):\n",
    "        file_path = os.path.join(path, filename)\n",
    "        sd = read_phy_files(file_path)\n",
    "        # Generating the unique name for the spike data object based on the last digit of the filename\n",
    "        sd_name = \"sd_\" + str(get_last_digit(filename))\n",
    "        spike_data_objects[sd_name] = sd"
   ]
  },
  {
   "cell_type": "markdown",
   "id": "154d7886",
   "metadata": {},
   "source": [
    "Tom's code block 2"
   ]
  },
  {
   "cell_type": "code",
   "execution_count": 55,
   "id": "a1855f59",
   "metadata": {},
   "outputs": [
    {
     "name": "stdout",
     "output_type": "stream",
     "text": [
      "Analyzing sd_0...\n",
      "Number of spikes:  9559\n",
      "Length of recording:  190.17995\n",
      "Number of neurons:  24\n",
      "Average firing rate:  2.09429\n",
      "Coefficient of variation:  0.6681389525642936\n",
      "-----------------------------\n",
      "Analyzing sd_1...\n",
      "Number of spikes:  18076\n",
      "Length of recording:  190.2536\n",
      "Number of neurons:  30\n",
      "Average firing rate:  3.167\n",
      "Coefficient of variation:  0.630357679001903\n",
      "-----------------------------\n",
      "Analyzing sd_2...\n",
      "Number of spikes:  22378\n",
      "Length of recording:  190.2366\n",
      "Number of neurons:  40\n",
      "Average firing rate:  2.94081\n",
      "Coefficient of variation:  0.5881953419949827\n",
      "-----------------------------\n",
      "Analyzing sd_3...\n",
      "Number of spikes:  8078\n",
      "Length of recording:  84.7589\n",
      "Number of neurons:  32\n",
      "Average firing rate:  2.9783\n",
      "Coefficient of variation:  0.5577448118374957\n",
      "-----------------------------\n",
      "Analyzing sd_4...\n",
      "Number of spikes:  1470\n",
      "Length of recording:  100.70935\n",
      "Number of neurons:  6\n",
      "Average firing rate:  2.43274\n",
      "Coefficient of variation:  0.74582245472228\n",
      "-----------------------------\n"
     ]
    }
   ],
   "source": [
    "for sd_name in sorted(spike_data_objects.keys(), key=lambda x: int(x.split(\"_\")[-1])):\n",
    "    sd_object = spike_data_objects[sd_name]\n",
    "    print(f\"Analyzing {sd_name}...\")\n",
    "    analyze_spike_data(sd_object)\n",
    "    print(\"-----------------------------\")"
   ]
  },
  {
   "cell_type": "code",
   "execution_count": null,
   "id": "052f2a16",
   "metadata": {},
   "outputs": [],
   "source": []
  },
  {
   "cell_type": "code",
   "execution_count": null,
   "id": "31f76223",
   "metadata": {},
   "outputs": [],
   "source": []
  },
  {
   "cell_type": "code",
   "execution_count": null,
   "id": "8758baf3",
   "metadata": {},
   "outputs": [],
   "source": []
  },
  {
   "cell_type": "code",
   "execution_count": null,
   "id": "ede3ab43",
   "metadata": {},
   "outputs": [],
   "source": []
  },
  {
   "cell_type": "code",
   "execution_count": null,
   "id": "7e77974b",
   "metadata": {},
   "outputs": [],
   "source": []
  },
  {
   "cell_type": "code",
   "execution_count": null,
   "id": "dee7a78a",
   "metadata": {},
   "outputs": [],
   "source": []
  },
  {
   "cell_type": "code",
   "execution_count": 44,
   "id": "48d4cfc6",
   "metadata": {},
   "outputs": [],
   "source": [
    "path = \"/home/jovyan/work/Human_Hippocampus/data/ephys/2023-04-03-hc328b_ChR2/derived/kilosort2/\"\n",
    "file_extension = \"_curated.zip\"\n",
    "spike_data_objects = {}  # Dictionary to store spike data objects\n",
    "\n",
    "def get_last_digit(s):\n",
    "    return int(''.join(filter(str.isdigit, s))[-1])\n",
    "\n",
    "for filename in os.listdir(path):\n",
    "    if filename.endswith(file_extension):\n",
    "        file_path = os.path.join(path, filename)\n",
    "        sd = read_phy_files(file_path)\n",
    "        # Generating the unique name for the spike data object based on the last digit of the filename\n",
    "        sd_name = \"sd_\" + str(get_last_digit(filename))\n",
    "        spike_data_objects[sd_name] = sd\n",
    "        "
   ]
  },
  {
   "cell_type": "code",
   "execution_count": null,
   "id": "1227ccb4",
   "metadata": {},
   "outputs": [],
   "source": []
  },
  {
   "cell_type": "code",
   "execution_count": null,
   "id": "e27d1616",
   "metadata": {},
   "outputs": [],
   "source": []
  },
  {
   "cell_type": "code",
   "execution_count": null,
   "id": "9c8c2a6d",
   "metadata": {},
   "outputs": [],
   "source": []
  },
  {
   "cell_type": "code",
   "execution_count": null,
   "id": "f8f54c33",
   "metadata": {},
   "outputs": [],
   "source": []
  },
  {
   "cell_type": "code",
   "execution_count": null,
   "id": "0c8720bf",
   "metadata": {},
   "outputs": [],
   "source": []
  },
  {
   "cell_type": "code",
   "execution_count": 57,
   "id": "0f40cfa3",
   "metadata": {},
   "outputs": [],
   "source": []
  },
  {
   "cell_type": "code",
   "execution_count": null,
   "id": "36c35d56",
   "metadata": {},
   "outputs": [],
   "source": []
  },
  {
   "cell_type": "markdown",
   "id": "69c10d64",
   "metadata": {},
   "source": [
    "<font color=\"brown\">check it works"
   ]
  },
  {
   "cell_type": "code",
   "execution_count": 41,
   "id": "9074ff32",
   "metadata": {},
   "outputs": [
    {
     "data": {
      "application/vnd.jupyter.widget-view+json": {
       "model_id": "fb5f957fa79d41f194f91bed318575b1",
       "version_major": 2,
       "version_minor": 0
      },
      "text/plain": [
       "interactive(children=(Dropdown(description='folder_name', options=('2023-05-09-e-hc52_18763', '2023-04-05-e-hc…"
      ]
     },
     "metadata": {},
     "output_type": "display_data"
    },
    {
     "data": {
      "text/plain": [
       "<function __main__.GetTextSummary(folder_name)>"
      ]
     },
     "execution_count": 41,
     "metadata": {},
     "output_type": "execute_result"
    }
   ],
   "source": [
    "interact_manual( GetTextSummary, folder_name=data_folders ) "
   ]
  },
  {
   "cell_type": "code",
   "execution_count": null,
   "id": "690a7369",
   "metadata": {},
   "outputs": [],
   "source": []
  },
  {
   "cell_type": "code",
   "execution_count": null,
   "id": "8dced6f0",
   "metadata": {},
   "outputs": [],
   "source": []
  },
  {
   "cell_type": "code",
   "execution_count": null,
   "id": "213fff46",
   "metadata": {},
   "outputs": [],
   "source": [
    "interact_manual(data_folders):\n",
    "    "
   ]
  },
  {
   "cell_type": "code",
   "execution_count": 36,
   "id": "ac12b055",
   "metadata": {},
   "outputs": [
    {
     "data": {
      "text/plain": [
       "['2023-05-09-e-hc52_18763',\n",
       " '2023-04-05-e-hc328_040523',\n",
       " '2023-04-02-hc328_rec',\n",
       " '2023-04-04-e-hc328_hckcr1-2_040423_recs',\n",
       " '2023-04-03-hc328b_ChR2',\n",
       " '2023-05-10-e-hc52_18790']"
      ]
     },
     "execution_count": 36,
     "metadata": {},
     "output_type": "execute_result"
    }
   ],
   "source": []
  },
  {
   "cell_type": "code",
   "execution_count": null,
   "id": "4bc82f90",
   "metadata": {},
   "outputs": [],
   "source": []
  },
  {
   "cell_type": "markdown",
   "id": "036e2af9",
   "metadata": {},
   "source": [
    "# <font color=\"brown\"> Tom Code"
   ]
  },
  {
   "cell_type": "markdown",
   "id": "87cbb08d",
   "metadata": {},
   "source": [
    "<font color=\"red\"> Get the rest of Toms code"
   ]
  },
  {
   "cell_type": "code",
   "execution_count": null,
   "id": "fc372a89",
   "metadata": {},
   "outputs": [],
   "source": [
    "def analyze_spike_data(sd):\n",
    "    idces_control, times_control = sd.idces_times()\n",
    "    n_neurons_control = len(sd.rates())\n",
    "\n",
    "    print(\"Number of spikes: \", len(idces_control))\n",
    "    print(\"Length of recording: \", times_control[-1]/1000)\n",
    "    print(\"Number of neurons: \", n_neurons_control)\n",
    "    entire_firing_rate_control = len(idces_control) / (times_control[-1] / 1000)\n",
    "    avg_rate_control = entire_firing_rate_control / n_neurons_control\n",
    "\n",
    "    print(\"Average firing rate: \", round(avg_rate_control, 5))\n",
    "\n",
    "    isis_raw = sd.interspike_intervals()\n",
    "    # Remove all isi's greater than 100ms. As there are likely neurons not following periodic firing pattern\n",
    "    isis = []\n",
    "    for i in range(len(isis_raw)):\n",
    "        isi = isis_raw[i]\n",
    "        isis = isis + isi[isi < 100].tolist()\n",
    "\n",
    "    isi_mean = sum(isis) / len(isis)\n",
    "    isi_var = sum([((x - isi_mean) ** 2) for x in isis]) / len(isis)\n",
    "    isi_std = isi_var ** 0.5\n",
    "\n",
    "    cv = isi_std / isi_mean\n",
    "\n",
    "    print(\"Coefficient of variation: \", cv)"
   ]
  },
  {
   "cell_type": "code",
   "execution_count": null,
   "id": "8bcebf50",
   "metadata": {},
   "outputs": [],
   "source": []
  },
  {
   "cell_type": "code",
   "execution_count": null,
   "id": "931018a2",
   "metadata": {},
   "outputs": [],
   "source": []
  },
  {
   "cell_type": "markdown",
   "id": "1ad8a035",
   "metadata": {},
   "source": [
    "# <font color=\"brown\"> Ari Code"
   ]
  },
  {
   "cell_type": "code",
   "execution_count": null,
   "id": "f5a797ab",
   "metadata": {},
   "outputs": [],
   "source": [
    "def loadData(dataset_num):\n",
    "    global dataset; global cur_data; global NeurDat; global TimeDat; global SpikesDat; global frDat; global cvDat; \n",
    "    \n",
    "    print(f\"loading data for dataset {str(dataset_num)}\")        # Set global variables used by later functions\n",
    "    dataset = dataset_num\n",
    "    cur_data = read_phy_files(f'../data/ephys/2023-04-02-hc328_rec/derived/kilosort2/2023_04_02_hc328_{str(dataset)}_curated.zip')\n",
    "    print(\"done\")\n",
    "    \n",
    "    print(f'\\nDataset {str(dataset)} Summary:')\n",
    "    \n",
    "    NeurDat = cur_data.N\n",
    "    TimeDat = cur_data.length / 1000\n",
    "    \n",
    "    TrainDat = cur_data.train\n",
    "    SpikesTemp = 0\n",
    "    for i in range(len(TrainDat)):\n",
    "        SpikesTemp += len(TrainDat[i])\n",
    "    \n",
    "    SpikesDat = SpikesTemp\n",
    "    \n",
    "    frDat = (SpikesDat / TimeDat) / NeurDat\n",
    "    \n",
    "    isi_raw = cur_data.interspike_intervals()\n",
    "    isiDat = []\n",
    "\n",
    "    for i in range(len(isi_raw)):   \n",
    "            isi = isi_raw[i]\n",
    "            isiDat = isiDat + isi[isi<100].tolist() \n",
    "\n",
    "    isi_sd = np.std(np.array(isiDat))\n",
    "    isi_mean = np.mean(np.array(isiDat))\n",
    "\n",
    "    cvDat = isi_sd /isi_mean\n",
    "    print(f'\\t- Number of neural Units: {str(NeurDat)}')\n",
    "    print(f'\\t- Recording Length: {str(TimeDat)} seconds')\n",
    "    print(f'\\t- Number of spikes: {str(SpikesDat)}')\n",
    "    print(f'\\t- Average firing rate of one neuron: {str(frDat)}')\n",
    "    print(f'\\t- Coefficient of Variation: {str(cvDat)}\\n')\n",
    "    "
   ]
  },
  {
   "cell_type": "code",
   "execution_count": null,
   "id": "cf67c462",
   "metadata": {},
   "outputs": [],
   "source": []
  },
  {
   "cell_type": "code",
   "execution_count": null,
   "id": "f2c2bbe7",
   "metadata": {},
   "outputs": [],
   "source": []
  },
  {
   "cell_type": "code",
   "execution_count": null,
   "id": "9f07bb4f",
   "metadata": {},
   "outputs": [],
   "source": []
  },
  {
   "cell_type": "markdown",
   "id": "69297288",
   "metadata": {},
   "source": [
    "# <font color=\"brown\">OLD: Get folder names <small> Most likely a useful approach for creating plots"
   ]
  },
  {
   "cell_type": "code",
   "execution_count": null,
   "id": "5942f884",
   "metadata": {},
   "outputs": [],
   "source": []
  },
  {
   "cell_type": "markdown",
   "id": "cb317f54",
   "metadata": {},
   "source": [
    "Get list of all `data_folders` and set one data folder to be the current `data_folder`"
   ]
  },
  {
   "cell_type": "code",
   "execution_count": 32,
   "id": "78d88bc0",
   "metadata": {},
   "outputs": [],
   "source": [
    "data_folders = os.listdir(\"/home/jovyan/work/Human_Hippocampus/data/ephys\")[1:]"
   ]
  },
  {
   "cell_type": "code",
   "execution_count": 34,
   "id": "d6d2c0ac",
   "metadata": {},
   "outputs": [
    {
     "data": {
      "text/plain": [
       "['2023-05-09-e-hc52_18763',\n",
       " '2023-04-05-e-hc328_040523',\n",
       " '2023-04-02-hc328_rec',\n",
       " '2023-04-04-e-hc328_hckcr1-2_040423_recs',\n",
       " '2023-04-03-hc328b_ChR2',\n",
       " '2023-05-10-e-hc52_18790']"
      ]
     },
     "execution_count": 34,
     "metadata": {},
     "output_type": "execute_result"
    }
   ],
   "source": [
    "data_folders"
   ]
  },
  {
   "cell_type": "code",
   "execution_count": 28,
   "id": "5f30a653",
   "metadata": {},
   "outputs": [],
   "source": [
    "data_folder= data_folders[0]"
   ]
  },
  {
   "cell_type": "markdown",
   "id": "9e014ae4",
   "metadata": {},
   "source": [
    "Gete datasets locations"
   ]
  },
  {
   "cell_type": "code",
   "execution_count": 19,
   "id": "a2474c7a",
   "metadata": {},
   "outputs": [],
   "source": [
    "datasets = !ls /home/jovyan/work/Human_Hippocampus/data/ephys/{current_folder}/derived/kilosort2/*curated*"
   ]
  },
  {
   "cell_type": "code",
   "execution_count": 20,
   "id": "9206c9a6",
   "metadata": {},
   "outputs": [
    {
     "data": {
      "text/plain": [
       "['/home/jovyan/work/Human_Hippocampus/data/ephys/2023-05-09-e-hc52_18763/derived/kilosort2/hc52_18763_rec05092023_0_curated.zip',\n",
       " '/home/jovyan/work/Human_Hippocampus/data/ephys/2023-05-09-e-hc52_18763/derived/kilosort2/hc52_18763_rec05092023_11_curated.zip',\n",
       " '/home/jovyan/work/Human_Hippocampus/data/ephys/2023-05-09-e-hc52_18763/derived/kilosort2/hc52_18763_rec05092023_12_curated.zip',\n",
       " '/home/jovyan/work/Human_Hippocampus/data/ephys/2023-05-09-e-hc52_18763/derived/kilosort2/hc52_18763_rec05092023_13_curated.zip',\n",
       " '/home/jovyan/work/Human_Hippocampus/data/ephys/2023-05-09-e-hc52_18763/derived/kilosort2/hc52_18763_rec05092023_4_curated.zip',\n",
       " '/home/jovyan/work/Human_Hippocampus/data/ephys/2023-05-09-e-hc52_18763/derived/kilosort2/hc52_18763_rec05092023_5_curated.zip',\n",
       " '/home/jovyan/work/Human_Hippocampus/data/ephys/2023-05-09-e-hc52_18763/derived/kilosort2/hc52_18763_rec05092023_6_curated.zip',\n",
       " '/home/jovyan/work/Human_Hippocampus/data/ephys/2023-05-09-e-hc52_18763/derived/kilosort2/hc52_18763_rec05092023_7_curated.zip',\n",
       " '/home/jovyan/work/Human_Hippocampus/data/ephys/2023-05-09-e-hc52_18763/derived/kilosort2/hc52_18763_rec05092023_8_curated.zip']"
      ]
     },
     "execution_count": 20,
     "metadata": {},
     "output_type": "execute_result"
    }
   ],
   "source": [
    "datasets"
   ]
  },
  {
   "cell_type": "markdown",
   "id": "b799e5bc",
   "metadata": {},
   "source": [
    "get file names"
   ]
  },
  {
   "cell_type": "code",
   "execution_count": 27,
   "id": "d42d5fc1",
   "metadata": {},
   "outputs": [
    {
     "data": {
      "text/plain": [
       "['hc52_18763_rec05092023_0_curated.zip',\n",
       " 'hc52_18763_rec05092023_11_curated.zip',\n",
       " 'hc52_18763_rec05092023_12_curated.zip',\n",
       " 'hc52_18763_rec05092023_13_curated.zip',\n",
       " 'hc52_18763_rec05092023_4_curated.zip',\n",
       " 'hc52_18763_rec05092023_5_curated.zip',\n",
       " 'hc52_18763_rec05092023_6_curated.zip',\n",
       " 'hc52_18763_rec05092023_7_curated.zip',\n",
       " 'hc52_18763_rec05092023_8_curated.zip']"
      ]
     },
     "execution_count": 27,
     "metadata": {},
     "output_type": "execute_result"
    }
   ],
   "source": [
    "file_names= [ data_file.split(\"/\")[-1] for data_file in datasets]\n",
    "file_names"
   ]
  },
  {
   "cell_type": "code",
   "execution_count": null,
   "id": "92877ed1",
   "metadata": {},
   "outputs": [],
   "source": []
  },
  {
   "cell_type": "markdown",
   "id": "2d63e3e4",
   "metadata": {},
   "source": [
    "# Summary Statistics"
   ]
  },
  {
   "cell_type": "code",
   "execution_count": null,
   "id": "ac50b997",
   "metadata": {},
   "outputs": [],
   "source": []
  },
  {
   "cell_type": "code",
   "execution_count": null,
   "id": "ff54eaad",
   "metadata": {},
   "outputs": [],
   "source": []
  },
  {
   "cell_type": "markdown",
   "id": "e6744bd4",
   "metadata": {},
   "source": [
    "# Plots"
   ]
  },
  {
   "cell_type": "code",
   "execution_count": null,
   "id": "6b035401",
   "metadata": {},
   "outputs": [],
   "source": []
  },
  {
   "cell_type": "code",
   "execution_count": null,
   "id": "92737498",
   "metadata": {},
   "outputs": [],
   "source": []
  },
  {
   "cell_type": "code",
   "execution_count": null,
   "id": "7675fa92",
   "metadata": {},
   "outputs": [],
   "source": []
  }
 ],
 "metadata": {
  "hide_input": false,
  "kernelspec": {
   "display_name": "Python 3 (ipykernel)",
   "language": "python",
   "name": "python3"
  },
  "language_info": {
   "codemirror_mode": {
    "name": "ipython",
    "version": 3
   },
   "file_extension": ".py",
   "mimetype": "text/x-python",
   "name": "python",
   "nbconvert_exporter": "python",
   "pygments_lexer": "ipython3",
   "version": "3.11.2"
  },
  "toc": {
   "base_numbering": 1,
   "nav_menu": {},
   "number_sections": true,
   "sideBar": true,
   "skip_h1_title": false,
   "title_cell": "Table of Contents",
   "title_sidebar": "Contents",
   "toc_cell": false,
   "toc_position": {},
   "toc_section_display": true,
   "toc_window_display": false
  },
  "varInspector": {
   "cols": {
    "lenName": 16,
    "lenType": 16,
    "lenVar": 40
   },
   "kernels_config": {
    "python": {
     "delete_cmd_postfix": "",
     "delete_cmd_prefix": "del ",
     "library": "var_list.py",
     "varRefreshCmd": "print(var_dic_list())"
    },
    "r": {
     "delete_cmd_postfix": ") ",
     "delete_cmd_prefix": "rm(",
     "library": "var_list.r",
     "varRefreshCmd": "cat(var_dic_list()) "
    }
   },
   "types_to_exclude": [
    "module",
    "function",
    "builtin_function_or_method",
    "instance",
    "_Feature"
   ],
   "window_display": false
  }
 },
 "nbformat": 4,
 "nbformat_minor": 5
}

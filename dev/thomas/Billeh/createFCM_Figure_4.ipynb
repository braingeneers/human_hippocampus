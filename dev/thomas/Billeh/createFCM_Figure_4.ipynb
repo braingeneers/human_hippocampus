{
 "cells": [
  {
   "cell_type": "code",
   "execution_count": 1,
   "id": "194a91f1",
   "metadata": {},
   "outputs": [],
   "source": [
    "import numpy as np                                                    # Packages for data analysis\n",
    "import pandas as pd\n",
    "import matplotlib.pyplot as plt\n",
    "from matplotlib.patches import Patch, Circle\n",
    "from scipy.ndimage import gaussian_filter1d\n",
    "import braingeneers                                                   # Braingeneers code\n",
    "from braingeneers.analysis.analysis import SpikeData, read_phy_files\n",
    "from ipywidgets import interact, interactive, fixed, interact_manual  # package for interactive widgets \n",
    "import ipywidgets as ipw\n",
    "from IPython.display import HTML, display, Javascript, clear_output\n",
    "from scipy.sparse import csr_matrix\n",
    "import scipy.io\n",
    "from scipy.sparse import coo_matrix\n",
    "import numpy as np\n",
    "from decimal import Decimal, getcontext"
   ]
  },
  {
   "cell_type": "code",
   "execution_count": 2,
   "id": "5a2b3e16",
   "metadata": {},
   "outputs": [],
   "source": [
    "data = scipy.io.loadmat('Figure_4.mat')\n",
    "fig_4_spikes = data['spks']\n",
    "example_data = np.array(fig_4_spikes)"
   ]
  },
  {
   "cell_type": "code",
   "execution_count": 3,
   "id": "89a63771",
   "metadata": {},
   "outputs": [
    {
     "data": {
      "text/plain": [
       "array([ 15.,  15.,  15., ..., 541., 541., 541.])"
      ]
     },
     "execution_count": 3,
     "metadata": {},
     "output_type": "execute_result"
    }
   ],
   "source": [
    "example_data[:,0]"
   ]
  },
  {
   "cell_type": "code",
   "execution_count": 4,
   "id": "9f3cd11d",
   "metadata": {},
   "outputs": [
    {
     "data": {
      "text/plain": [
       "800"
      ]
     },
     "execution_count": 4,
     "metadata": {},
     "output_type": "execute_result"
    }
   ],
   "source": [
    "len(np.unique(example_data[:, 0]))"
   ]
  },
  {
   "cell_type": "code",
   "execution_count": 5,
   "id": "fa0de96a",
   "metadata": {},
   "outputs": [],
   "source": [
    "def createFCM(spksExc, spksInh=None):    \n",
    "    \n",
    "    # time constant of exponential profile (used for coupling)\n",
    "    tau = 3e-3\n",
    "\n",
    "    # 1e-4 binless window step in seconds\n",
    "    step = 1e-4\n",
    "    \n",
    "    # store ids of neurons that really fired -- corresponding to entries in\n",
    "    # adjacency relation\n",
    "    \n",
    "    if spksInh is None:\n",
    "        old_ids = np.unique(spksExc[:, 0])\n",
    "        spks = np.column_stack((spksExc, np.ones(len(spksExc))))\n",
    "    else:\n",
    "        old_ids = np.unique(np.concatenate((spksExc[:, 0], spksInh[:, 0])))\n",
    "        spks = np.row_stack((np.column_stack((spksExc, np.ones(len(spksExc)))), \n",
    "                             np.column_stack((spksInh, -np.ones(len(spksInh))))))\n",
    "        \n",
    "    Eneuron_end = np.max(spksExc[:, 0])\n",
    "    num_neurons = len(old_ids)\n",
    "    \n",
    "    row_indices = old_ids - 1  # Since Python uses 0-based indexing, we subtract 1 from old_ids\n",
    "    col_indices = np.zeros_like(row_indices)\n",
    "    values = np.arange(1, num_neurons + 1)\n",
    "\n",
    "    new_ids = coo_matrix((values, (row_indices, col_indices)), shape=(num_neurons, 1))\n",
    "    \n",
    "    # frequency of spiking for individual neurons\n",
    "    spike_freq = np.zeros(num_neurons)\n",
    "    \n",
    "    # duration of spike trains\n",
    "    t_min = 0\n",
    "    t_max = np.max(spksExc[:,1])\n",
    "    T = t_max - t_min\n",
    "    sig_length = np.ceil(T/step).astype(int)\n",
    "    \n",
    "    # Convert the new_ids sparse matrix to a dense NumPy array\n",
    "    new_ids_array = new_ids.toarray().flatten()\n",
    "\n",
    "    print(Eneuron_end)\n",
    "\n",
    "    # Get spiking frequencies\n",
    "    spike_freq = np.zeros(num_neurons)\n",
    "\n",
    "    for i in range(1, num_neurons + 1):\n",
    "        if i <= Eneuron_end:\n",
    "            neuron_spikes = spksExc[spksExc[:, 0] == old_ids[i - 1], 1]\n",
    "            spike_freq[i - 1] = np.sum(neuron_spikes) / T\n",
    "        else:\n",
    "            if spksInh is None:\n",
    "                print(\"spksInh is None. Make sure it is properly defined.\")\n",
    "                return None\n",
    "                \n",
    "            neuron_spikes = spksInh[spksInh[:, 0] == old_ids[i - 1], 1]\n",
    "            spike_freq[i - 1] = np.sum(neuron_spikes) / T\n",
    "            \n",
    "    # create signals for each neuron        \n",
    "    signals = np.zeros((num_neurons, sig_length))\n",
    "    for i in range(1, num_neurons + 1):\n",
    "        k = old_ids[i - 1]\n",
    "        IorE = np.unique(spks[spks[:, 0] == k, 2])\n",
    "        # how neuron i will influence other neurons\n",
    "        signals[i - 1, :] = create_signal(spks[spks[:, 0] == k, 1], step, sig_length, tau, IorE)\n",
    "    \n",
    "    FC_MAT = np.zeros((num_neurons, num_neurons))\n",
    "    spike_vecs = np.zeros((num_neurons, sig_length))\n",
    "\n",
    "    # Previous code up to combining with discrete spiking events...\n",
    "\n",
    "    # Combine with discrete spiking events\n",
    "    for i in range(1, num_neurons + 1):\n",
    "        k = old_ids[i - 1]\n",
    "        spike_times = spks[spks[:, 0] == k, 1]\n",
    "        spike_times_vec = coo_matrix((np.ones_like(spike_times), \n",
    "                                      (np.ceil(spike_times / step).astype(int) - 1, \n",
    "                                       np.zeros_like(spike_times))), \n",
    "                                     shape=(sig_length, 1)).toarray().flatten()\n",
    "        spike_vecs[i - 1, :] = spike_times_vec\n",
    "        # Influence on neuron i from all other neurons.\n",
    "        FC_MAT[:, i - 1] = signals.dot(spike_times_vec)\n",
    "\n",
    "    # Thresholding\n",
    "    FC_MAT[FC_MAT < 0] = 0\n",
    "    FC_MAT = FC_MAT - np.diag(np.diag(FC_MAT))\n",
    "\n",
    "    # Frequency normalization\n",
    "    freq_normalization = spike_freq / np.maximum(spike_freq, 1)  # Divide element-wise with maximum value of 1\n",
    "    freq_normalization[freq_normalization > 1] = 1\n",
    "\n",
    "    FC_MAT = FC_MAT * freq_normalization\n",
    "\n",
    "    return FC_MAT"
   ]
  },
  {
   "cell_type": "code",
   "execution_count": 6,
   "id": "6dd3d49d",
   "metadata": {},
   "outputs": [],
   "source": [
    "def create_signal(start_times, dt, sig_length, tau, mode):\n",
    "    # time vector\n",
    "    t_vec = np.arange(dt, (sig_length + 1) * dt, dt)\n",
    "\n",
    "    q = np.zeros_like(t_vec)\n",
    "\n",
    "    if mode == 1:\n",
    "        for k in range(len(start_times)):\n",
    "            qq = np.exp(-(t_vec - start_times[k]) / tau)\n",
    "            qq[qq > 1] = 0\n",
    "            if k < len(start_times) - 1:\n",
    "                qq[t_vec >= start_times[k + 1]] = 0\n",
    "            q = q + qq\n",
    "    else:\n",
    "        for k in range(len(start_times)):\n",
    "            qq = np.exp(-(t_vec - start_times[k]) / tau)\n",
    "            qq[qq > 1] = 0\n",
    "            qq = 1 - qq\n",
    "            qq[qq > 0.99] = 0  # corresponds to ~4.5 tau\n",
    "            if k < len(start_times) - 1:\n",
    "                qq[t_vec >= start_times[k + 1]] = 0\n",
    "            q = q + qq\n",
    "\n",
    "    # due to rounding of spiking times, the exponential may sometimes not start at 1\n",
    "    if mode == 1:\n",
    "        idx = np.ceil(start_times / dt).astype(int) - 1\n",
    "        idx = np.clip(idx, 0, len(q) - 1)  # Clip indices to be within valid range\n",
    "        q[idx] = 1\n",
    "\n",
    "    # shift to zero mean and make magnitude normalized\n",
    "    q = q - np.mean(q)\n",
    "    q = q / (np.max(q) * len(start_times))\n",
    "\n",
    "    return q"
   ]
  },
  {
   "cell_type": "code",
   "execution_count": 7,
   "id": "ea8407cc",
   "metadata": {},
   "outputs": [
    {
     "name": "stdout",
     "output_type": "stream",
     "text": [
      "800.0\n"
     ]
    },
    {
     "name": "stderr",
     "output_type": "stream",
     "text": [
      "/tmp/ipykernel_1387102/3072996499.py:9: RuntimeWarning: overflow encountered in exp\n",
      "  qq = np.exp(-(t_vec - start_times[k]) / tau)\n"
     ]
    }
   ],
   "source": [
    "FC_MAT = createFCM(example_data)"
   ]
  },
  {
   "cell_type": "code",
   "execution_count": 15,
   "id": "307648af",
   "metadata": {},
   "outputs": [
    {
     "data": {
      "text/plain": [
       "array([[0.        , 0.        , 0.        , ..., 0.03317059, 0.        ,\n",
       "        0.        ],\n",
       "       [0.        , 0.        , 0.        , ..., 0.        , 0.06261507,\n",
       "        0.        ],\n",
       "       [0.02339156, 0.        , 0.        , ..., 0.06557252, 0.00057637,\n",
       "        0.0254416 ],\n",
       "       ...,\n",
       "       [0.        , 0.        , 0.07593423, ..., 0.        , 0.        ,\n",
       "        0.09106372],\n",
       "       [0.        , 0.07160042, 0.        , ..., 0.        , 0.        ,\n",
       "        0.        ],\n",
       "       [0.        , 0.01065053, 0.1104214 , ..., 0.0826999 , 0.        ,\n",
       "        0.        ]])"
      ]
     },
     "execution_count": 15,
     "metadata": {},
     "output_type": "execute_result"
    }
   ],
   "source": [
    "FC_MAT"
   ]
  },
  {
   "cell_type": "code",
   "execution_count": 23,
   "id": "553c1a9b",
   "metadata": {},
   "outputs": [
    {
     "name": "stdout",
     "output_type": "stream",
     "text": [
      "[[0.   ]\n",
      " [0.   ]\n",
      " [0.023]\n",
      " [0.   ]\n",
      " [0.   ]\n",
      " [0.042]\n",
      " [0.055]\n",
      " [0.   ]\n",
      " [0.001]\n",
      " [0.085]]\n"
     ]
    }
   ],
   "source": [
    "first_column_values = FC_MAT[:10, 0]\n",
    "rounded_values = np.round(first_column_values, 3)\n",
    "\n",
    "# Print the values in a column format\n",
    "print(rounded_values.reshape(-1, 1))"
   ]
  }
 ],
 "metadata": {
  "hide_input": false,
  "kernelspec": {
   "display_name": "Python 3 (ipykernel)",
   "language": "python",
   "name": "python3"
  },
  "language_info": {
   "codemirror_mode": {
    "name": "ipython",
    "version": 3
   },
   "file_extension": ".py",
   "mimetype": "text/x-python",
   "name": "python",
   "nbconvert_exporter": "python",
   "pygments_lexer": "ipython3",
   "version": "3.10.10"
  },
  "toc": {
   "base_numbering": 1,
   "nav_menu": {},
   "number_sections": true,
   "sideBar": true,
   "skip_h1_title": false,
   "title_cell": "Table of Contents",
   "title_sidebar": "Contents",
   "toc_cell": false,
   "toc_position": {},
   "toc_section_display": true,
   "toc_window_display": false
  },
  "varInspector": {
   "cols": {
    "lenName": 16,
    "lenType": 16,
    "lenVar": 40
   },
   "kernels_config": {
    "python": {
     "delete_cmd_postfix": "",
     "delete_cmd_prefix": "del ",
     "library": "var_list.py",
     "varRefreshCmd": "print(var_dic_list())"
    },
    "r": {
     "delete_cmd_postfix": ") ",
     "delete_cmd_prefix": "rm(",
     "library": "var_list.r",
     "varRefreshCmd": "cat(var_dic_list()) "
    }
   },
   "types_to_exclude": [
    "module",
    "function",
    "builtin_function_or_method",
    "instance",
    "_Feature"
   ],
   "window_display": false
  }
 },
 "nbformat": 4,
 "nbformat_minor": 5
}

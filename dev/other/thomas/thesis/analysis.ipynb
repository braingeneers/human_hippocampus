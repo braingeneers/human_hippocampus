{
 "cells": [
  {
   "cell_type": "code",
   "execution_count": null,
   "metadata": {},
   "outputs": [],
   "source": [
    "import numpy as np                     # Packages for Data Analysis\n",
    "import pandas as pd\n",
    "import random as rand\n",
    "from scipy.signal import correlate, correlation_lags\n",
    "\n",
    "import matplotlib.pyplot as plt       # Packages for making plots\n",
    "from matplotlib.patches import FancyArrow\n",
    "import matplotlib.colors as mcolors\n",
    "import matplotlib.patches as patches\n",
    "from matplotlib.patches import Patch, Circle\n",
    "from matplotlib.lines import Line2D\n",
    "from scipy.ndimage import gaussian_filter1d\n",
    "\n",
    "import braingeneers                  # Braigneneers packages for analysis\n",
    "from braingeneers.analysis.analysis import SpikeData, read_phy_files, load_spike_data, burst_detection, randomize_raster\n",
    "import braingeneers.data.datasets_electrophysiology as ephys"
   ]
  },
  {
   "cell_type": "code",
   "execution_count": null,
   "metadata": {},
   "outputs": [],
   "source": [
    "# # for debugging\n",
    "# import pickle\n",
    "# file = open('/home/jovyan/work/Human_Hippocampus/StitchedDataUpdated.pkl', 'rb')\n",
    "# sd = pickle.load(file)\n",
    "# file.close()"
   ]
  },
  {
   "cell_type": "code",
   "execution_count": null,
   "metadata": {},
   "outputs": [],
   "source": [
    "sd = read_phy_files('/workspaces/human_hippocampus/data/ephys/2023-04-02-e-hc328_unperturbed/derived/kilosort2/hc3.28_hckcr1_chip16835_plated34.2_rec4.2_curated.zip')"
   ]
  },
  {
   "cell_type": "code",
   "execution_count": null,
   "metadata": {},
   "outputs": [],
   "source": [
    "def plot_raster(sd):\n",
    "    idces, times = sd.idces_times()\n",
    "    fig, ax = plt.subplots()\n",
    "\n",
    "    ax.scatter(times/1000,idces,marker='|',s=1)\n",
    "    ax.set_xlabel(\"Time(s)\")\n",
    "    ax.set_ylabel('Unit #')\n",
    "    plt.show()\n",
    "    \n",
    "def interspike(sd):\n",
    "    # Interspike-intervals of 2 select neurons\n",
    "    isis_raw = sd.interspike_intervals()\n",
    "    # Remove all isi's greater than 100ms. As there are likely neurons not following periodic firing pattern\n",
    "    isis=[]\n",
    "    for i in range(len(isis_raw)):   \n",
    "        isi=isis_raw[i]\n",
    "        isis = isis + isi[isi<100].tolist() \n",
    "        \n",
    "    # Plot the isi's\n",
    "    plt.xlim(0,100)\n",
    "    plt.hist(isis, bins=50)\n",
    "    plt.xlabel('Time bin(ms)')\n",
    "    plt.ylabel('ISI count')\n",
    "    plt.show()\n",
    "    \n",
    "def correlation(sd):\n",
    "    # Correlation\n",
    "    corr = np.zeros((sd.N,sd.N)) #inds by inds\n",
    "\n",
    "    dense_raster = sd.raster(bin_size=1) # in ms\n",
    "    sigma = 5                            # Blur it\n",
    "    dense_raster = gaussian_filter1d(dense_raster.astype(float),sigma=sigma) \n",
    "    corr=np.corrcoef( dense_raster )\n",
    "    \n",
    "    plt.imshow(corr)\n",
    "    plt.xlabel(\"Neuron index\")\n",
    "    plt.ylabel(\"Neuron index\")\n",
    "    plt.show()\n",
    "    \n",
    "def raster_analysis(sd, seconds=20):\n",
    "    # Zoomed Raster and pop rate\n",
    "    # Get coordinates for raster\n",
    "    idces, times = sd.idces_times()\n",
    "\n",
    "    # Get population rate for everything\n",
    "    pop_rate = sd.binned(bin_size=1)# in ms\n",
    "    # Lets smooth this to make it neater\n",
    "    sigma = 5\n",
    "    pop_rate_smooth = gaussian_filter1d(pop_rate.astype(float),sigma=sigma) \n",
    "    t = np.linspace(0,sd.length,pop_rate.shape[0])/1000\n",
    "\n",
    "    fig, ax = plt.subplots()\n",
    "\n",
    "    ax.scatter(times/1000,idces,marker='|',s=1)\n",
    "    ax2 = ax.twinx()\n",
    "    ax2.plot(t,pop_rate_smooth,c='r')\n",
    "\n",
    "    ax.set_xlim(0,seconds)\n",
    "    ax.set_xlabel(\"Time(s)\")\n",
    "    ax.set_ylabel('Unit #')\n",
    "    ax2.set_ylabel('Firing Rate')\n",
    "    plt.show()\n",
    "    \n",
    "def plot_rates(sd):\n",
    "    rates = sd.rates()\n",
    "    plt.hist(rates, bins=50)\n",
    "    plt.xlabel('Firing rate, Hz')\n",
    "    plt.ylabel('Number neural units')\n",
    "    plt.show()"
   ]
  },
  {
   "cell_type": "code",
   "execution_count": null,
   "metadata": {},
   "outputs": [],
   "source": [
    "\n",
    "\n",
    "def plot_raster(sd):\n",
    "    idces, times = sd.idces_times()\n",
    "    fig, ax = plt.subplots()\n",
    "\n",
    "    ax.scatter(times/1000,idces,marker='|',s=1)\n",
    "    ax.set_xlabel(\"Time(s)\")\n",
    "    ax.set_ylabel('Unit #')\n",
    "    plt.show()\n",
    "    "
   ]
  },
  {
   "cell_type": "code",
   "execution_count": null,
   "metadata": {},
   "outputs": [],
   "source": [
    "plot_raster(sd)"
   ]
  }
 ],
 "metadata": {
  "kernelspec": {
   "display_name": "notebook",
   "language": "python",
   "name": "python3"
  },
  "language_info": {
   "codemirror_mode": {
    "name": "ipython",
    "version": 3
   },
   "file_extension": ".py",
   "mimetype": "text/x-python",
   "name": "python",
   "nbconvert_exporter": "python",
   "pygments_lexer": "ipython3",
   "version": "3.10.0"
  }
 },
 "nbformat": 4,
 "nbformat_minor": 2
}

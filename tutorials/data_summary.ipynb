{
 "cells": [
  {
   "cell_type": "markdown",
   "metadata": {},
   "source": [
    "<font size=7>Data Summary"
   ]
  },
  {
   "cell_type": "markdown",
   "metadata": {},
   "source": [
    "Here we summarize all the datasets used in our research."
   ]
  },
  {
   "cell_type": "markdown",
   "metadata": {},
   "source": [
    "# Basic Summary"
   ]
  },
  {
   "cell_type": "markdown",
   "metadata": {},
   "source": [
    "**Data Access-** There are **3** datasets that were primarily used in our analysis. Theses datasets are stored on the `NRP` and then downloaded into this codespace environment for analysis. The file `.devcontainer/post_create.sh` contains the code for downloading the datasets into codespaces. The data can be found in the codespace inside the folder `/home/jovyan/data`"
   ]
  },
  {
   "cell_type": "markdown",
   "metadata": {},
   "source": [
    "**Primary Files-** The bullet points below provide a basic summary of the 3 primary datasets. For a more thorough description of these datasets, as well as other potential datasets for future research, read through the folder `other/ephys_files_summary`."
   ]
  },
  {
   "cell_type": "markdown",
   "metadata": {},
   "source": [
    "2022-11-02-e-Hc11.1-chip16753\n",
    "*  Adult dentate gyrus\n",
    "*  Good recording, many neurons\n",
    "*  Files: hc11.1_plated-11.1_chip-16753_rec_11.2.22AM-immediate_curated.zip\n",
    "\n",
    "2023-04-02-e-hc328_unperturbed\n",
    "*   CA1 region\n",
    "*   Best recording, many neurons\n",
    "*   Files: hc9.19_chp-16849_plated-10.19.22_rec10.19.22_curated.zip\n",
    "\n",
    "2023-05-10-e-hc52_18790_unperturbed\n",
    "*   Unkown region\n",
    "*   short recording: 1.5 minutes\n",
    "*   Good activity\n",
    "*   Files: hc5.2_chip18790_baseline_rec5.10.23_s1_curated.zip\n",
    "*   Files, pickle file was used extensively: 5-10-23s1-CutData.pkl\n"
   ]
  },
  {
   "cell_type": "markdown",
   "metadata": {},
   "source": [
    "# Dataset  Images"
   ]
  },
  {
   "cell_type": "markdown",
   "metadata": {},
   "source": [
    "A good place to start with analyzing the data is through looking at histology images of them.\n"
   ]
  },
  {
   "cell_type": "markdown",
   "metadata": {},
   "source": [
    "## CA1: <small> 2023-04-02-e-hc328_unperturbed"
   ]
  },
  {
   "cell_type": "markdown",
   "metadata": {},
   "source": [
    "A close up image of the hippocampal slice is show below. This is the region that we made recordings from. To see a more zoomed our region of the slice as well as a description of the anatomy, check out [these powerpoint slides](https://docs.google.com/presentation/d/1XnDf52a2a3WxhANidxyvfVMTUnctHEaE). These other [powerpoint slides](https://docs.google.com/presentation/d/1WILZM5OEJAKGT23LvyLisr76K_dXrSpNgYgtq2xPrfM/edit?usp=sharing) depict how the histology was alligned to the MEA in order to create the neural overlays shown in later sections."
   ]
  },
  {
   "cell_type": "markdown",
   "metadata": {},
   "source": [
    "![ca1 image](/workspaces/human_hippocampus/data/histology/ca1.png)"
   ]
  },
  {
   "cell_type": "markdown",
   "metadata": {},
   "source": [
    "## Dentate Gyrus: <small>2022-11-02-e-Hc11.1-chip16753"
   ]
  },
  {
   "cell_type": "markdown",
   "metadata": {},
   "source": [
    "An image can be of the dentate gyrus slice can be found in [these slides](https://docs.google.com/presentation/d/1WILZM5OEJAKGT23LvyLisr76K_dXrSpNgYgtq2xPrfM/edit#slide=id.p).\n",
    "\n",
    "<font color=\"red\"> The image still needs to be lined up to be useful!"
   ]
  },
  {
   "cell_type": "markdown",
   "metadata": {},
   "source": [
    "## <font color=\"red\"> Unknown: <small>2023-05-10-e-hc52_18790_unperturbed"
   ]
  },
  {
   "cell_type": "markdown",
   "metadata": {},
   "source": [
    "<font color=\"red\">\n",
    "\n",
    "Currentlyy we have no images of this dataset."
   ]
  }
 ],
 "metadata": {
  "kernelspec": {
   "display_name": "notebook",
   "language": "python",
   "name": "python3"
  },
  "language_info": {
   "codemirror_mode": {
    "name": "ipython",
    "version": 3
   },
   "file_extension": ".py",
   "mimetype": "text/x-python",
   "name": "python",
   "nbconvert_exporter": "python",
   "pygments_lexer": "ipython3",
   "version": "3.10.0"
  },
  "orig_nbformat": 4
 },
 "nbformat": 4,
 "nbformat_minor": 2
}

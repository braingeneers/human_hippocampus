{
 "cells": [
  {
   "cell_type": "markdown",
   "id": "3e2bbf53",
   "metadata": {},
   "source": [
    "<font size=7>Latencies from Scratch"
   ]
  },
  {
   "cell_type": "markdown",
   "id": "26acae2f",
   "metadata": {},
   "source": [
    "# Set Up Notebook"
   ]
  },
  {
   "cell_type": "markdown",
   "id": "ea78ba36",
   "metadata": {},
   "source": [
    "import stuff"
   ]
  },
  {
   "cell_type": "code",
   "execution_count": 2,
   "id": "918dd9a8",
   "metadata": {},
   "outputs": [],
   "source": [
    "import pytz\n",
    "import numpy as np                                                    # Packages for data analysis\n",
    "import pandas as pd\n",
    "import random as rand\n",
    "import matplotlib.pyplot as plt\n",
    "import matplotlib.colors as mcolors\n",
    "import matplotlib.patches as patches\n",
    "from matplotlib.patches import Patch, Circle\n",
    "from matplotlib.lines import Line2D\n",
    "from scipy.ndimage import gaussian_filter1d\n",
    "from datetime import datetime\n",
    "import braingeneers                                                   # Braingeneers code\n",
    "from braingeneers.analysis.analysis import SpikeData, read_phy_files, load_spike_data, burst_detection, randomize_raster\n",
    "import braingeneers.data.datasets_electrophysiology as ephys\n",
    "import ipywidgets as ipw\n",
    "from ipywidgets import interact, interactive, fixed, interact_manual  # package for interactive widgets from IPython.display import HTML, display, Javascript, clear_output,\n",
    "from IPython.display import HTML, display, Javascript, clear_output"
   ]
  },
  {
   "cell_type": "markdown",
   "id": "9534ff2c",
   "metadata": {},
   "source": [
    "load data"
   ]
  },
  {
   "cell_type": "code",
   "execution_count": 49,
   "id": "05bdd5cc",
   "metadata": {},
   "outputs": [
    {
     "name": "stderr",
     "output_type": "stream",
     "text": [
      "/tmp/ipykernel_2996649/2224013165.py:1: DeprecationWarning: Call to deprecated function (or staticmethod) read_phy_files. (Prefer load_spike_data()) -- Deprecated since version 0.1.13.\n",
      "  sd = read_phy_files(f\"/home/jovyan/work/Human_Hippocampus/data/ephys/2023-04-02-e-hc328_unperturbed/derived/kilosort2/hc3.28_hckcr1_chip16835_plated34.2_rec4.2_curated.zip\")\n"
     ]
    }
   ],
   "source": [
    "sd = read_phy_files(f\"/home/jovyan/work/Human_Hippocampus/data/ephys/2023-04-02-e-hc328_unperturbed/derived/kilosort2/hc3.28_hckcr1_chip16835_plated34.2_rec4.2_curated.zip\") \n"
   ]
  },
  {
   "cell_type": "markdown",
   "id": "fa01d862",
   "metadata": {},
   "source": [
    "# Simple Example <font color=\"red\">unfinished"
   ]
  },
  {
   "cell_type": "code",
   "execution_count": null,
   "id": "0bcd856f",
   "metadata": {},
   "outputs": [],
   "source": [
    "#sd.train"
   ]
  },
  {
   "cell_type": "markdown",
   "id": "1438eec4",
   "metadata": {},
   "source": [
    "create data"
   ]
  },
  {
   "cell_type": "code",
   "execution_count": 43,
   "id": "54044ba8",
   "metadata": {},
   "outputs": [],
   "source": [
    "train1= np.array([2,6,10,15,18])\n",
    "train2 = np.array([3,9,17])"
   ]
  },
  {
   "cell_type": "markdown",
   "id": "34c6e4bd",
   "metadata": {},
   "source": [
    "set variables"
   ]
  },
  {
   "cell_type": "code",
   "execution_count": 44,
   "id": "13bd4bcc",
   "metadata": {},
   "outputs": [],
   "source": [
    "lates1=[]\n",
    "lates2=[]\n",
    "old_i2= -1\n",
    "i2=0"
   ]
  },
  {
   "cell_type": "code",
   "execution_count": 45,
   "id": "49b8b51e",
   "metadata": {},
   "outputs": [],
   "source": [
    "for val1 in train1:\n",
    "    #old_i2=i2\n",
    "    late= train2[i2]-val1\n",
    "    next_late=0\n",
    "    while abs(late)>= abs(next_late):\n",
    "        late = train2[i2]-val1\n",
    "        if i2+1==len(train2): \n",
    "            break\n",
    "        next_late= train2[i2+1]-val1\n",
    "        #print(\"values\",val1, train2[i2])\n",
    "        #print(\"latencies\",late,next_late, \"    i \",i2)\n",
    "        i2+=1\n",
    "    i2-=1\n",
    "    #old_i2=i2\n",
    "    lates1.append(late)\n",
    "    #if old_i2 != i2 or i2==0:\n",
    "    #    lates2.append(-late)\n",
    "        \n",
    "        "
   ]
  },
  {
   "cell_type": "code",
   "execution_count": 46,
   "id": "75a4bdb9",
   "metadata": {},
   "outputs": [
    {
     "data": {
      "text/plain": [
       "[1, 3, -1, 2, -1]"
      ]
     },
     "execution_count": 46,
     "metadata": {},
     "output_type": "execute_result"
    }
   ],
   "source": [
    "lates1"
   ]
  },
  {
   "cell_type": "code",
   "execution_count": 47,
   "id": "feb8a345",
   "metadata": {},
   "outputs": [
    {
     "data": {
      "text/plain": [
       "[-1, -3]"
      ]
     },
     "execution_count": 47,
     "metadata": {},
     "output_type": "execute_result"
    }
   ],
   "source": [
    "lates2"
   ]
  },
  {
   "cell_type": "markdown",
   "id": "c1f09774",
   "metadata": {},
   "source": [
    "# Speed Check"
   ]
  },
  {
   "cell_type": "markdown",
   "id": "557410e9",
   "metadata": {},
   "source": [
    "fake function (unfinished) that should take more or less the length of the actual funciton"
   ]
  },
  {
   "cell_type": "code",
   "execution_count": 54,
   "id": "15e2a80c",
   "metadata": {},
   "outputs": [],
   "source": [
    "def dummyFunc(input_train1, input_train2):\n",
    "    if len(input_train1)>len(input_train2):\n",
    "        train1 = input_train1\n",
    "        train2 = input_train2\n",
    "    else :\n",
    "        train1 = input_train2\n",
    "        train2 = input_train1\n",
    "    \n",
    "    lates1=[]\n",
    "    lates2=[]\n",
    "    old_i2= -1\n",
    "    i2=0\n",
    "    \n",
    "    for val1 in train1:\n",
    "        #old_i2=i2\n",
    "        late= train2[i2]-val1\n",
    "        next_late=0\n",
    "        while abs(late)>= abs(next_late):\n",
    "            late = train2[i2]-val1\n",
    "            if i2+1==len(train2): \n",
    "                break\n",
    "            next_late= train2[i2+1]-val1\n",
    "            #print(\"values\",val1, train2[i2])\n",
    "            #print(\"latencies\",late,next_late, \"    i \",i2)\n",
    "            i2+=1\n",
    "        i2-=1\n",
    "        #old_i2=i2\n",
    "        lates1.append(late)\n",
    "        #if old_i2 != i2 or i2==0:\n",
    "        #    lates2.append(-late)\n"
   ]
  },
  {
   "cell_type": "markdown",
   "id": "e6c9417e",
   "metadata": {},
   "source": [
    "check time for 1 run"
   ]
  },
  {
   "cell_type": "code",
   "execution_count": 91,
   "id": "78554c49",
   "metadata": {},
   "outputs": [],
   "source": [
    "for i in range(len(sd.train)):\n",
    "    dummyFunc(sd.train[i], sd.train[5] )"
   ]
  },
  {
   "cell_type": "code",
   "execution_count": 90,
   "id": "941209c6",
   "metadata": {},
   "outputs": [],
   "source": [
    "test = sd.latencies_to_index(5)"
   ]
  },
  {
   "cell_type": "code",
   "execution_count": 57,
   "id": "d9e3df68",
   "metadata": {},
   "outputs": [
    {
     "data": {
      "text/plain": [
       "140"
      ]
     },
     "execution_count": 57,
     "metadata": {},
     "output_type": "execute_result"
    }
   ],
   "source": [
    "len(sd.train)"
   ]
  },
  {
   "cell_type": "code",
   "execution_count": null,
   "id": "102f8361",
   "metadata": {},
   "outputs": [],
   "source": []
  },
  {
   "cell_type": "code",
   "execution_count": 64,
   "id": "452d2e8f",
   "metadata": {},
   "outputs": [],
   "source": [
    "checkit = [[[],[],[4]],[]]"
   ]
  },
  {
   "cell_type": "code",
   "execution_count": 66,
   "id": "35a912ad",
   "metadata": {},
   "outputs": [],
   "source": [
    "checkit[0][2]=[2,3,4]"
   ]
  },
  {
   "cell_type": "code",
   "execution_count": 67,
   "id": "d2d25a33",
   "metadata": {},
   "outputs": [
    {
     "data": {
      "text/plain": [
       "[[[], [], [2, 3, 4]], []]"
      ]
     },
     "execution_count": 67,
     "metadata": {},
     "output_type": "execute_result"
    }
   ],
   "source": [
    "checkit"
   ]
  },
  {
   "cell_type": "code",
   "execution_count": null,
   "id": "2ca592a3",
   "metadata": {},
   "outputs": [],
   "source": []
  },
  {
   "cell_type": "code",
   "execution_count": 82,
   "id": "bdda07fb",
   "metadata": {},
   "outputs": [],
   "source": [
    "checkit2 =  [[[]]*4] "
   ]
  },
  {
   "cell_type": "code",
   "execution_count": 83,
   "id": "2916433b",
   "metadata": {},
   "outputs": [
    {
     "data": {
      "text/plain": [
       "[[[], [], [], []]]"
      ]
     },
     "execution_count": 83,
     "metadata": {},
     "output_type": "execute_result"
    }
   ],
   "source": [
    "checkit2"
   ]
  },
  {
   "cell_type": "code",
   "execution_count": 89,
   "id": "2dd9be5e",
   "metadata": {},
   "outputs": [
    {
     "data": {
      "text/plain": [
       "[[2414.65, 4601.4, 4934.05], [390956.8, 394136.05, 397771.4]]"
      ]
     },
     "execution_count": 89,
     "metadata": {},
     "output_type": "execute_result"
    }
   ],
   "source": [
    "np.empty((2, 3)).tolist()"
   ]
  },
  {
   "cell_type": "code",
   "execution_count": 88,
   "id": "9487e403",
   "metadata": {},
   "outputs": [
    {
     "data": {
      "text/plain": [
       "array([[0.0e+000, 2.5e-323],\n",
       "       [4.4e-323, 4.9e-323]])"
      ]
     },
     "execution_count": 88,
     "metadata": {},
     "output_type": "execute_result"
    }
   ],
   "source": [
    "np.empty((2, 2))"
   ]
  },
  {
   "cell_type": "code",
   "execution_count": null,
   "id": "f8a1263f",
   "metadata": {},
   "outputs": [],
   "source": []
  },
  {
   "cell_type": "markdown",
   "id": "1e83f822",
   "metadata": {},
   "source": [
    "# Scratch paper"
   ]
  },
  {
   "cell_type": "code",
   "execution_count": 100,
   "id": "0ab6fe1f",
   "metadata": {
    "scrolled": true
   },
   "outputs": [],
   "source": [
    "checkit =  sd.neuron_attributes[0]"
   ]
  },
  {
   "cell_type": "code",
   "execution_count": 104,
   "id": "dd5c3bf1",
   "metadata": {
    "scrolled": false
   },
   "outputs": [
    {
     "data": {
      "text/plain": [
       "(715, 82)"
      ]
     },
     "execution_count": 104,
     "metadata": {},
     "output_type": "execute_result"
    }
   ],
   "source": [
    "checkit.templates.shape"
   ]
  },
  {
   "cell_type": "code",
   "execution_count": null,
   "id": "d91c9164",
   "metadata": {},
   "outputs": [],
   "source": []
  },
  {
   "cell_type": "code",
   "execution_count": null,
   "id": "fc256c00",
   "metadata": {},
   "outputs": [],
   "source": []
  },
  {
   "cell_type": "code",
   "execution_count": null,
   "id": "58865b3b",
   "metadata": {},
   "outputs": [],
   "source": []
  },
  {
   "cell_type": "code",
   "execution_count": 95,
   "id": "f64af18b",
   "metadata": {},
   "outputs": [],
   "source": [
    "checkit  = np.array([ 0.00000000e+00,  0.00000000e+00,  0.00000000e+00,  0.00000000e+00,\n",
    "           0.00000000e+00,  0.00000000e+00,  0.00000000e+00,  0.00000000e+00,\n",
    "           0.00000000e+00,  0.00000000e+00,  0.00000000e+00,  0.00000000e+00,\n",
    "           0.00000000e+00,  0.00000000e+00,  0.00000000e+00,  0.00000000e+00,\n",
    "           0.00000000e+00,  0.00000000e+00,  0.00000000e+00,  0.00000000e+00,\n",
    "           0.00000000e+00,  7.47411112e-14,  6.24425783e-14,  6.94054302e-14,\n",
    "           6.70033343e-14,  6.61546891e-14,  7.22462119e-14,  6.97560152e-14,\n",
    "           6.52694767e-14,  7.18267731e-14,  7.75120845e-14,  7.24710600e-14,\n",
    "           7.25020481e-14,  7.05975775e-14,  5.41956719e-14,  5.51051279e-14,\n",
    "           4.69308451e-14, -1.39336588e-13, -6.14427767e-13, -1.07069178e-12,\n",
    "          -1.09987578e-12, -7.50012488e-13, -3.50082590e-13, -7.34739552e-14,\n",
    "           1.25901519e-13,  2.56919368e-13,  2.94084818e-13,  2.76373026e-13,\n",
    "           2.57205251e-13,  2.40014308e-13,  2.12270743e-13,  1.80089544e-13,\n",
    "           1.62875393e-13,  1.56428505e-13,  1.46353785e-13,  1.27564401e-13,\n",
    "           1.12426083e-13,  1.03929157e-13,  9.10831474e-14,  8.02174632e-14,\n",
    "           6.69316866e-14,  4.79962223e-14,  3.05365779e-14,  2.24145263e-14,\n",
    "           2.02603853e-14,  1.96872744e-14,  1.05075994e-14,  3.30715234e-15,\n",
    "          -3.51605591e-15, -4.52955756e-15,  2.31704221e-15, -9.75922898e-15,\n",
    "          -2.56802646e-14, -3.26206209e-14, -2.88283945e-14, -2.67652072e-14,\n",
    "          -2.93472437e-14, -2.41947309e-14, -2.10666963e-14, -1.64700305e-14,\n",
    "          -2.69906706e-14,  1.22474668e-14])"
   ]
  },
  {
   "cell_type": "code",
   "execution_count": 97,
   "id": "c3cd2e07",
   "metadata": {},
   "outputs": [
    {
     "data": {
      "text/plain": [
       "82"
      ]
     },
     "execution_count": 97,
     "metadata": {},
     "output_type": "execute_result"
    }
   ],
   "source": [
    "len(checkit)"
   ]
  },
  {
   "cell_type": "code",
   "execution_count": null,
   "id": "0ade86bf",
   "metadata": {},
   "outputs": [],
   "source": []
  }
 ],
 "metadata": {
  "hide_input": false,
  "kernelspec": {
   "display_name": "Python 3 (ipykernel)",
   "language": "python",
   "name": "python3"
  },
  "language_info": {
   "codemirror_mode": {
    "name": "ipython",
    "version": 3
   },
   "file_extension": ".py",
   "mimetype": "text/x-python",
   "name": "python",
   "nbconvert_exporter": "python",
   "pygments_lexer": "ipython3",
   "version": "3.10.10"
  },
  "toc": {
   "base_numbering": 1,
   "nav_menu": {},
   "number_sections": true,
   "sideBar": true,
   "skip_h1_title": false,
   "title_cell": "Table of Contents",
   "title_sidebar": "Contents",
   "toc_cell": false,
   "toc_position": {},
   "toc_section_display": true,
   "toc_window_display": false
  },
  "varInspector": {
   "cols": {
    "lenName": 16,
    "lenType": 16,
    "lenVar": 40
   },
   "kernels_config": {
    "python": {
     "delete_cmd_postfix": "",
     "delete_cmd_prefix": "del ",
     "library": "var_list.py",
     "varRefreshCmd": "print(var_dic_list())"
    },
    "r": {
     "delete_cmd_postfix": ") ",
     "delete_cmd_prefix": "rm(",
     "library": "var_list.r",
     "varRefreshCmd": "cat(var_dic_list()) "
    }
   },
   "types_to_exclude": [
    "module",
    "function",
    "builtin_function_or_method",
    "instance",
    "_Feature"
   ],
   "window_display": false
  }
 },
 "nbformat": 4,
 "nbformat_minor": 5
}

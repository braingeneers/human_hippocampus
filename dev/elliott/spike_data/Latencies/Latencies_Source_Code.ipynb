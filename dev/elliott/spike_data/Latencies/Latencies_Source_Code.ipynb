{
 "cells": [
  {
   "cell_type": "markdown",
   "id": "8b045308",
   "metadata": {},
   "source": [
    "<font size=7 face=\"Courier\"> Latencies Source Code"
   ]
  },
  {
   "cell_type": "markdown",
   "id": "2e10e97c",
   "metadata": {},
   "source": [
    "# Set Up Notebook"
   ]
  },
  {
   "cell_type": "markdown",
   "id": "a6885cd9",
   "metadata": {},
   "source": [
    "import stuff"
   ]
  },
  {
   "cell_type": "code",
   "execution_count": 1,
   "id": "185c98aa",
   "metadata": {},
   "outputs": [],
   "source": [
    "import numpy as np                     # Packages for Data Analysis\n",
    "import pandas as pd\n",
    "import random as rand\n",
    "\n",
    "import matplotlib.pyplot as plt       # Packages for making plots\n",
    "from matplotlib.patches import FancyArrow\n",
    "import matplotlib.colors as mcolors\n",
    "import matplotlib.patches as patches\n",
    "from matplotlib.patches import Patch, Circle\n",
    "from matplotlib.lines import Line2D\n",
    "from scipy.ndimage import gaussian_filter1d\n",
    "\n",
    "import braingeneers                  # Braigneneers packages for analysis\n",
    "from braingeneers.analysis.analysis import SpikeData, read_phy_files, load_spike_data, burst_detection, randomize_raster\n",
    "import braingeneers.data.datasets_electrophysiology as ephys\n",
    "import diptest                       # Package to run statistical test                \n",
    "\n",
    "\n",
    "import ipywidgets as ipw             # Packages for makings GUI's\n",
    "from ipywidgets import interact, interactive, fixed, interact_manual  # package for interactive widgets from IPython.display import HTML, display, Javascript, clear_output,\n",
    "from IPython.display import HTML, display, Javascript, clear_output\n"
   ]
  },
  {
   "cell_type": "markdown",
   "id": "ebbab216",
   "metadata": {},
   "source": [
    "# Helper Functions"
   ]
  },
  {
   "cell_type": "markdown",
   "id": "bcbf7804",
   "metadata": {},
   "source": [
    "## Mean Firing Rates"
   ]
  },
  {
   "cell_type": "code",
   "execution_count": 2,
   "id": "aac58b38",
   "metadata": {},
   "outputs": [],
   "source": [
    "def calculate_mean_firing_rates(spike_data):\n",
    "    mean_firing_rates = []\n",
    "    for neuron_spikes in spike_data.train:\n",
    "        num_spikes = len(neuron_spikes)\n",
    "        time_duration = spike_data.length / 1000  # Assuming spike times are in milliseconds\n",
    "        firing_rate = num_spikes / time_duration\n",
    "        mean_firing_rates.append(firing_rate)\n",
    "    return np.array(mean_firing_rates)"
   ]
  },
  {
   "cell_type": "markdown",
   "id": "b6eea883",
   "metadata": {},
   "source": [
    "## Plot Latency Histogram"
   ]
  },
  {
   "cell_type": "code",
   "execution_count": 3,
   "id": "40cb238d",
   "metadata": {},
   "outputs": [],
   "source": [
    "def plotLatencyHistograms(lates):\n",
    "    \n",
    "    mean_latency = np.mean(latencies)     # Get mean and SD\n",
    "    std_latency = np.std(latencies)\n",
    "    cutoff = 2 * std_latency           # remove outliers\n",
    "    lates_filtered = [latency for latency in latencies if abs(latency - mean_latency) <= cutoff]\n",
    "    plots[1,1].hist(lates_filtered, bins=12, alpha=0.7, label='Latency')\n",
    "    plots[1,1].axvline(mean_latency, color='red', linestyle='dashed', linewidth=2, label='Mean')\n",
    "    plots[1,1].axvline(mean_latency - std_latency, color='green', linestyle='dashed', linewidth=2, label='Std -')\n",
    "    plots[1,1].axvline(mean_latency + std_latency, color='green', linestyle='dashed', linewidth=2, label='Std +')\n",
    "    plots[1,1].axvline(0, color='black', linestyle='dashed', linewidth=0.5, label='Std +')\n",
    "    axs[i].set_xlim(-1*(abs(mean_latency)+cutoff), abs(mean_latency) + cutoff) \n",
    "    plots[1,1].set_xlabel(\"Latency (ms)\")\n",
    "    plots[1,1].set_ylabel(\"Count\")\n",
    "    plots[1,1].set_title(f\"Latency Histogram - Neuron Pair {neuron1} and {neuron2}\")\n",
    "    plots[1,1].legend()\n"
   ]
  },
  {
   "cell_type": "markdown",
   "id": "0dbfca77",
   "metadata": {},
   "source": [
    "# plot Waveforms in Layout View"
   ]
  },
  {
   "cell_type": "markdown",
   "id": "99c88a32",
   "metadata": {},
   "source": [
    "Plots the waveforms of a neuron in layout view"
   ]
  },
  {
   "cell_type": "code",
   "execution_count": null,
   "id": "2aed1a81",
   "metadata": {},
   "outputs": [],
   "source": [
    "def plotWaveformLayout( neuron_id, sd, axs=None):\n",
    "    if axs is None:\n",
    "        fig, axs = plt.subplots(1, 1, figsize=(8,8) )\n",
    "    #axs.set_title(title, fontsize=12)\n",
    "\n",
    "    \n",
    "    #setting parameters that were previously function variables in Sury's code\n",
    "    data = sd.neuron_data[0][neuron_id]\n",
    "    k=neuron_id\n",
    "    ch=data[\"channel\"]\n",
    "    position=data[\"position\"]\n",
    "    temp_chs=list(data[\"neighbor_channels\"])\n",
    "    temp_pos=data[\"neighbor_positions\"]; templates=data[\"neighbor_templates\"]; filename=f\"{id}\"; nelec=2\n",
    "    \n",
    "    axs.set_title(f\"{filename} cluster {k} channel {ch} {position}\")\n",
    "    assert len(temp_chs) == len(temp_pos) == len(templates), \"Input length should be the same!\"\n",
    "    nums = len(temp_chs)\n",
    "    pitch = 17.5\n",
    "    axs.scatter(position[0], position[1], linewidth=10, alpha=0.2, color='grey')\n",
    "    axs.text(position[0], position[1], str(position), color=\"g\", fontsize=12)\n",
    "    # set same scaling to the insets\n",
    "    index = temp_chs.index(ch)\n",
    "    ylim_min = min(templates[index])\n",
    "    ylim_max = max(templates[index])\n",
    "    # choose channels that are close to the center channel\n",
    "    for i in range(nums):\n",
    "        chn_pos = temp_pos[i]\n",
    "        if position[0] - nelec * pitch <= chn_pos[0] <= position[0] + nelec * pitch \\\n",
    "                and position[1] - nelec * pitch <= chn_pos[1] <= position[1] + nelec * pitch:\n",
    "            # axs.scatter(chn_pos[0], chn_pos[1], color='w')\n",
    "            axin = axs.inset_axes([chn_pos[0]-5, chn_pos[1]-5, 15, 20], transform=axs.transData)\n",
    "            axin.plot(templates[i], color='k', linewidth=2, alpha=0.7)\n",
    "            axin.set_ylim([ylim_min - ylim_margin, ylim_max + ylim_margin])\n",
    "            axin.set_axis_off()\n",
    "    # axs.legend(loc=\"upper right\", fontsize=12)\n",
    "    # axs.xaxis.set_visible(False)\n",
    "    # axs.yaxis.set_visible(False)\n",
    "    axs.set_xlim(position[0]-1.5*nelec*pitch, position[0]+1.5*nelec*pitch)\n",
    "    axs.set_ylim(position[1]-1.5*nelec*pitch, position[1]+1.5*nelec*pitch)\n",
    "    axs.invert_yaxis()\n",
    "    return axs"
   ]
  },
  {
   "cell_type": "code",
   "execution_count": 6,
   "id": "7fc02f64",
   "metadata": {},
   "outputs": [],
   "source": [
    "# def plotWaveformLayout(axs, neuron_id, sd):\n",
    "#     #setting parameters that were previously function variables in Sury's code\n",
    "#     data = sd.neuron_data[0][neuron_id]\n",
    "#     k=neuron_id, ch=data[\"channel\"], position=data[\"position\"], temp_chs=list(data[\"neighbor_channels\"])\n",
    "#     temp_pos=data[\"neighbor_positions\"]; templates=data[\"neighbor_templates\"]; filename=f\"{id}\"; nelec=2\n",
    "    \n",
    "#     axs.set_title(f\"{filename} cluster {k} channel {ch} {position}\")\n",
    "#     assert len(temp_chs) == len(temp_pos) == len(templates), \"Input length should be the same!\"\n",
    "#     nums = len(temp_chs)\n",
    "#     pitch = 17.5\n",
    "#     axs.scatter(position[0], position[1], linewidth=10, alpha=0.2, color='grey')\n",
    "#     axs.text(position[0], position[1], str(position), color=\"g\", fontsize=12)\n",
    "#     # set same scaling to the insets\n",
    "#     index = temp_chs.index(ch)\n",
    "#     ylim_min = min(templates[index])\n",
    "#     ylim_max = max(templates[index])\n",
    "#     # choose channels that are close to the center channel\n",
    "#     for i in range(nums):\n",
    "#         chn_pos = temp_pos[i]\n",
    "#         if position[0] - nelec * pitch <= chn_pos[0] <= position[0] + nelec * pitch \\\n",
    "#                 and position[1] - nelec * pitch <= chn_pos[1] <= position[1] + nelec * pitch:\n",
    "#             # axs.scatter(chn_pos[0], chn_pos[1], color='w')\n",
    "#             axin = axs.inset_axes([chn_pos[0]-5, chn_pos[1]-5, 15, 20], transform=axs.transData)\n",
    "#             axin.plot(templates[i], color='k', linewidth=2, alpha=0.7)\n",
    "#             axin.set_ylim([ylim_min - ylim_margin, ylim_max + ylim_margin])\n",
    "#             axin.set_axis_off()\n",
    "#     # axs.legend(loc=\"upper right\", fontsize=12)\n",
    "#     # axs.xaxis.set_visible(False)\n",
    "#     # axs.yaxis.set_visible(False)\n",
    "#     axs.set_xlim(position[0]-1.5*nelec*pitch, position[0]+1.5*nelec*pitch)\n",
    "#     axs.set_ylim(position[1]-1.5*nelec*pitch, position[1]+1.5*nelec*pitch)\n",
    "#     axs.invert_yaxis()\n",
    "#     return axs"
   ]
  },
  {
   "cell_type": "code",
   "execution_count": 7,
   "id": "9c3224fb",
   "metadata": {},
   "outputs": [],
   "source": [
    "# fig, axs = plt.subplots()\n",
    "# plot_inset(axs, neuron_id)"
   ]
  },
  {
   "cell_type": "markdown",
   "id": "b3bb7c5f",
   "metadata": {},
   "source": [
    "# Latency Layout Plots"
   ]
  },
  {
   "cell_type": "markdown",
   "id": "374a111f",
   "metadata": {},
   "source": [
    "## <font color=\"blue\"> Latency Layout Plot"
   ]
  },
  {
   "cell_type": "markdown",
   "id": "f094df24",
   "metadata": {},
   "source": [
    "Plot any sum of latencies provided to it. Input is a dictionary with the key is the latency pair and the value are the latencies"
   ]
  },
  {
   "cell_type": "code",
   "execution_count": 8,
   "id": "05422731",
   "metadata": {},
   "outputs": [],
   "source": [
    "def plotLatencyLayout( sd, pairs_lates_directed ):\n",
    "    \n",
    "    # Scatter plot of neurons\n",
    "    plt.figure(figsize=(8, 8))\n",
    "    neuron_x = []\n",
    "    neuron_y = []\n",
    "    for neuron in sd.neuron_data[0].values():\n",
    "        neuron_x.append(neuron['position'][0])\n",
    "        neuron_y.append(neuron['position'][1])\n",
    "    plt.scatter(neuron_x, neuron_y, alpha=0.15, c='grey')\n",
    "\n",
    "    # Plot Latencies\n",
    "    for pair, entries in pairs_lates_directed.items():\n",
    "        start_i = pair[0]\n",
    "        end_i = pair[1]\n",
    "        arrow = FancyArrow(\n",
    "            neuron_x[end_i], neuron_y[end_i],\n",
    "            neuron_x[start_i] - neuron_x[end_i], neuron_y[start_i] - neuron_y[end_i],\n",
    "            length_includes_head=True, head_width=25,\n",
    "            linewidth=1, color=\"red\", alpha=0.7, edgecolor=\"red\", facecolor=\"red\")\n",
    "        plt.gca().add_patch(arrow)\n",
    "\n",
    "    plt.xlabel('um')\n",
    "    plt.ylabel('um')\n",
    "    plt.title(\"Directionality plot\")\n",
    "    plt.show()"
   ]
  },
  {
   "cell_type": "markdown",
   "id": "214e7ea9",
   "metadata": {},
   "source": [
    "## <font color=\"blue\">plot Latency Pair Footprint "
   ]
  },
  {
   "cell_type": "code",
   "execution_count": 9,
   "id": "aad3cb17",
   "metadata": {},
   "outputs": [],
   "source": [
    "def plotLatencyPairFootprint( sd, pairs_lates_directed ):\n",
    "    \n",
    "    # Scatter plot of neurons\n",
    "    plt.figure(figsize=(8, 8))\n",
    "    neuron_x = []\n",
    "    neuron_y = []\n",
    "    for neuron in sd.neuron_data[0].values():\n",
    "        neuron_x.append(neuron['position'][0])\n",
    "        neuron_y.append(neuron['position'][1])\n",
    "    plt.scatter(neuron_x, neuron_y, alpha=0.10, c='grey')\n",
    "\n",
    "    # Plot Latencies\n",
    "    for pair, entries in pairs_lates_directed.items():\n",
    "        start_i = pair[0]\n",
    "        end_i = pair[1]\n",
    "        \n",
    "        # Plot neuron geographic location\n",
    "        for neighbor in  sd.neuron_data[0][start_i]['neighbor_positions']:\n",
    "            plt.scatter( [neighbor[0]+rand.random()*13], [neighbor[1]+rand.random()*10], alpha=0.40, c='blue')\n",
    "        for neighbor in  sd.neuron_data[0][end_i]['neighbor_positions']:\n",
    "            plt.scatter( [neighbor[0]+rand.random()*13], [neighbor[1]+rand.random()*10], alpha=0.40, c='green')\n",
    "        \n",
    "        arrow = FancyArrow(\n",
    "            neuron_x[end_i], neuron_y[end_i],\n",
    "            neuron_x[start_i] - neuron_x[end_i], neuron_y[start_i] - neuron_y[end_i],\n",
    "            length_includes_head=True, head_width=25,\n",
    "            linewidth=1, color=\"red\", alpha=0.7, edgecolor=\"red\", facecolor=\"red\")\n",
    "        plt.gca().add_patch(arrow)\n",
    "\n",
    "    plt.xlabel('um')\n",
    "    plt.ylabel('um')\n",
    "    plt.title(\"Directionality plot\")\n",
    "    plt.show()"
   ]
  },
  {
   "cell_type": "markdown",
   "id": "41b34d4f",
   "metadata": {},
   "source": [
    "# <font color=\"blue\">plot Latency Pair Footprint 2 - General"
   ]
  },
  {
   "cell_type": "code",
   "execution_count": 10,
   "id": "206b221d",
   "metadata": {},
   "outputs": [],
   "source": [
    "def plotPairFootprint( start_i, end_i, sd):\n",
    "    \n",
    "    # Scatter plot of neurons\n",
    "    plt.figure(figsize=(8, 8))\n",
    "    neuron_x = []\n",
    "    neuron_y = []\n",
    "    for neuron in sd.neuron_data[0].values():\n",
    "        neuron_x.append(neuron['position'][0])\n",
    "        neuron_y.append(neuron['position'][1])\n",
    "    plt.scatter(neuron_x, neuron_y, alpha=0.10, c='grey')\n",
    "  \n",
    "    # Plot neuron geographic location\n",
    "    for neighbor in  sd.neuron_data[0][start_i]['neighbor_positions']:\n",
    "        plt.scatter( [neighbor[0]+rand.random()*13], [neighbor[1]+rand.random()*10], alpha=0.40, c='blue')\n",
    "    for neighbor in  sd.neuron_data[0][end_i]['neighbor_positions']:\n",
    "        plt.scatter( [neighbor[0]+rand.random()*13], [neighbor[1]+rand.random()*10], alpha=0.40, c='green')\n",
    "\n",
    "    arrow = FancyArrow(\n",
    "        neuron_x[end_i], neuron_y[end_i],\n",
    "        neuron_x[start_i] - neuron_x[end_i], neuron_y[start_i] - neuron_y[end_i],\n",
    "        length_includes_head=True, head_width=25,\n",
    "        linewidth=1, color=\"red\", alpha=0.7, edgecolor=\"red\", facecolor=\"red\")\n",
    "    plt.gca().add_patch(arrow)\n",
    "\n",
    "    plt.xlabel('um')\n",
    "    plt.ylabel('um')\n",
    "    plt.title(\"Directionality plot\")\n",
    "    plt.show()"
   ]
  },
  {
   "cell_type": "code",
   "execution_count": null,
   "id": "5907113b",
   "metadata": {},
   "outputs": [],
   "source": []
  },
  {
   "cell_type": "markdown",
   "id": "9af90e65",
   "metadata": {},
   "source": [
    "## <font color=\"brown\">Old- Grouped Latencies Plot"
   ]
  },
  {
   "cell_type": "markdown",
   "id": "db4a4e52",
   "metadata": {},
   "source": [
    "This is a plot of the latencies, but with colors denoted different groups of arrows"
   ]
  },
  {
   "cell_type": "code",
   "execution_count": 11,
   "id": "a74b19d4",
   "metadata": {},
   "outputs": [],
   "source": [
    "def plotLatencyLayoutGroups(sd, pairs_lates_directed):\n",
    "\n",
    "    neuron_x = []\n",
    "    neuron_y = []\n",
    "    for neuron in sd.neuron_data[0].values():\n",
    "        neuron_x.append(neuron['position'][0])\n",
    "        neuron_y.append(neuron['position'][1])\n",
    "\n",
    "    import numpy as np\n",
    "    import matplotlib.pyplot as plt\n",
    "    from matplotlib.patches import FancyArrow\n",
    "\n",
    "    # Assuming you have 'pairs_lates_directed' dictionary and neuron_x, neuron_y arrays\n",
    "    # pairs_lates_directed = { (pair): np.array(entries), ... }\n",
    "    # neuron_x = ...  # Your x-coordinates\n",
    "    # neuron_y = ...  # Your y-coordinates\n",
    "\n",
    "    direction_threshold = 0.65\n",
    "\n",
    "    plt.figure(figsize=(8, 8))\n",
    "\n",
    "    plt.scatter(neuron_x, neuron_y, alpha=0.15, c='grey')\n",
    "\n",
    "    count=0\n",
    "    for pair, entries in pairs_lates_directed.items():\n",
    "        lates_i = np.array(entries)\n",
    "\n",
    "        if len(lates_i) == 0:\n",
    "            continue\n",
    "\n",
    "        percent_neg = np.sum(lates_i < 0) / len(lates_i)\n",
    "        percent_pos = np.sum(lates_i > 0) / len(lates_i)\n",
    "\n",
    "        # Check the direction and conditions\n",
    "        is_pos = np.median(lates_i) > 0\n",
    "        if is_pos and percent_pos > direction_threshold:\n",
    "            count +=1\n",
    "            start_i = pair[0]\n",
    "            end_i = pair[1]\n",
    "\n",
    "            arrow_color = \"black\"\n",
    "            if neuron_y[start_i] < 500 or neuron_y[end_i] < 500:\n",
    "                arrow_color = \"green\"\n",
    "\n",
    "            if neuron_x[start_i] < neuron_x[end_i] and (neuron_y[start_i] > 500 or neuron_y[end_i] > 500):\n",
    "                arrow_color = \"red\"\n",
    "\n",
    "            if neuron_x[start_i] > neuron_x[end_i] and (neuron_y[start_i] > 500 or neuron_y[end_i] > 500):\n",
    "                arrow_color = \"blue\"\n",
    "\n",
    "            arrow = FancyArrow(\n",
    "                neuron_x[end_i], neuron_y[end_i],\n",
    "                neuron_x[start_i] - neuron_x[end_i], neuron_y[start_i] - neuron_y[end_i],\n",
    "                length_includes_head=True, head_width=25,\n",
    "                linewidth=1, color=arrow_color, alpha=0.7, edgecolor=arrow_color, facecolor=arrow_color)\n",
    "            plt.gca().add_patch(arrow)\n",
    "\n",
    "    plt.xlabel('um')\n",
    "    plt.ylabel('um')\n",
    "    plt.title(\"Directionality plot\")\n",
    "    print(count)\n",
    "    plt.show()"
   ]
  },
  {
   "cell_type": "markdown",
   "id": "c74346d2",
   "metadata": {},
   "source": [
    "## <font color=\"blue\">Latency Pair Analysis"
   ]
  },
  {
   "cell_type": "markdown",
   "id": "89c64c6a",
   "metadata": {},
   "source": [
    "Deep analysis of a single pair of latencies"
   ]
  },
  {
   "cell_type": "code",
   "execution_count": 12,
   "id": "ad30aebd",
   "metadata": {},
   "outputs": [],
   "source": [
    "def plotLatencyPairAnalysis(num):\n",
    "    \n",
    "    import warnings\n",
    "    warnings.filterwarnings(\"ignore\")\n",
    "\n",
    "    # Layout Plot\n",
    "    pairs_lates_list = list(pairs_lates_clean.items())\n",
    "    to_graph = {pairs_lates_list[num][0]:pairs_lates_list[num][1]}\n",
    "    plotLatencyPairFootprint(sd,to_graph)\n",
    "    \n",
    "    # Summary Stats\n",
    "    start_i = pairs_lates_list[num][0][0]\n",
    "    end_i = pairs_lates_list[num][0][1]\n",
    "    latencies = pairs_lates_list[num][1]\n",
    "    \n",
    "    print( \"Number of Latencies\", len(latencies) )\n",
    "    print( \"Mean Latency\", round(np.mean(latencies), 3) )\n",
    "    print( \"Median Latency\", round(np.median(latencies), 3) )\n",
    "    #print( \"Latency Probability\", {round(100*(len(lates_filtered)/len(lates_raw)))})\n",
    "    print(\"STTC\", sttc[start_i][end_i])\n",
    "    print(\"Diptest P-val\", round( diptest.diptest(latencies)[1] , 3) )\n",
    "    print( \"Latency Probability\", round(len(latencies)/len(sd.train[start_i]), 3) )\n",
    "    print(\".\")\n",
    "    print( \"Sender Neuron\", start_i)\n",
    "    print( \"Sender   Firing Rate\", round(firing_rates[start_i], 3) )\n",
    "    print(\".\")\n",
    "    print(\"Receiver Neuron\", end_i)\n",
    "    print( \"Receiver Firing Rate\", round(firing_rates[end_i], 3) )\n",
    "    \n",
    "    # Plot other graphs\n",
    "    figs, plots = plt.subplots(nrows=3,ncols=2,figsize=(14,10))\n",
    "\n",
    "    mean_latency = np.mean(latencies)     # Get mean and SD\n",
    "    std_latency = np.std(latencies)\n",
    "    cutoff = 2 * std_latency           # remove outliers\n",
    "    lates_filtered = [latency for latency in latencies if abs(latency - mean_latency) <= cutoff]\n",
    "    plots[0,0].hist(lates_filtered, bins=12, alpha=0.7, label='Latency')\n",
    "    plots[0,0].axvline(mean_latency, color='red', linestyle='dashed', linewidth=2, label='Mean')\n",
    "    plots[0,0].axvline(mean_latency - std_latency, color='green', linestyle='dashed', linewidth=2, label='Std -')\n",
    "    plots[0,0].axvline(mean_latency + std_latency, color='green', linestyle='dashed', linewidth=2, label='Std +')\n",
    "    plots[0,0].axvline(0, color='black', linestyle='dashed', linewidth=0.5, label='Std +')\n",
    "    plots[0,0].set_xlim(-1*(abs(mean_latency)+cutoff), abs(mean_latency) + cutoff) \n",
    "    plots[0,0].set_xlabel(\"Latency (ms)\")\n",
    "    plots[0,0].set_ylabel(\"Count\")\n",
    "    plots[0,0].set_title(f\"Fancy Latency Histogram\")\n",
    "    plots[0,0].legend()\n",
    "\n",
    "    plots[0,1].hist(latencies, bins=12)\n",
    "    plots[0,1].set_title(\"Latency Histogram\")\n",
    "    plots[0,1].set_xlabel(\"Latency (ms)\")\n",
    "    plots[0,1].set_ylabel(\"Count\")\n",
    "\n",
    "    plots[1,0].hist(isis[start_i], bins=50);\n",
    "    plots[1,0].set_title(\"Sender ISI\")\n",
    "    plots[1,0].set_xlabel(\"Time bin(ms)\")\n",
    "    plots[1,0].set_ylabel(\"ISI count\")\n",
    "\n",
    "    plots[1,1].hist(isis[end_i], bins=50);\n",
    "    plots[1,1].set_title(\"Receiver ISI\")\n",
    "    plots[1,1].set_xlabel(\"Time bin(ms)\")\n",
    "    plots[1,1].set_ylabel(\"ISI count\")\n",
    "    \n",
    "    \n",
    "    plots[2,0].plot( sd.neuron_data[0][start_i][\"template\"] )\n",
    "    plots[2,0].set_title(\"Sender Spike Waveform\")\n",
    "    plots[2,0].set_xlabel(\"\")\n",
    "    plots[2,0].set_ylabel(\"\")\n",
    "    \n",
    "    plots[2,1].plot( sd.neuron_data[0][end_i][\"template\"] )\n",
    "    plots[2,1].set_title(\"Receiver Spike Waveform\")\n",
    "    plots[2,1].set_xlabel(\"\")\n",
    "    plots[2,1].set_ylabel(\"\")\n",
    "    "
   ]
  },
  {
   "cell_type": "markdown",
   "id": "fd478df0",
   "metadata": {},
   "source": [
    "## <font color=\"blue\">General Latency pair analysis"
   ]
  },
  {
   "cell_type": "code",
   "execution_count": 13,
   "id": "b588a6d9",
   "metadata": {},
   "outputs": [],
   "source": [
    "def plotPairAnalysis(start_i, end_i, sd):\n",
    "    \n",
    "    # Layout Plot\n",
    "    import warnings\n",
    "    warnings.filterwarnings(\"ignore\")\n",
    "    plotPairFootprint( start_i, end_i, sd )\n",
    "    \n",
    "    # Summary Stats\n",
    "    latencies_raw = get_latencies( start_i, end_i, sd  )\n",
    "    latencies_clean = latencies_raw[ np.where( np.abs(latencies_raw) < 15 )[0] ]\n",
    "    print( \"Number of Latencies\", len(latencies_clean) )\n",
    "    print( \"Mean Latency\", round(np.mean(latencies_clean), 3) )\n",
    "    print( \"Median Latency\", round(np.median(latencies_clean), 3) )\n",
    "    #print( \"Latency Probability\", {round(100*(len(lates_filtered)/len(lates_raw)))})\n",
    "    print(\"STTC\", sd.spike_time_tiling( start_i, end_i) )\n",
    "    print(\"Diptest P-val\", round( diptest.diptest(latencies_clean)[1] , 3) )\n",
    "    print( \"Latency Probability\", round(len(latencies_clean)/len(latencies_raw), 3) )\n",
    "    print(\".\")\n",
    "    print( \"Sender Neuron\", start_i)\n",
    "    print( \"Sender   Firing Rate\", round(sd.rates(unit='Hz')[start_i] , 3) )\n",
    "    print(\".\")\n",
    "    print(\"Receiver Neuron\", end_i)\n",
    "    print( \"Receiver Firing Rate\", round(sd.rates(unit='Hz')[end_i], 3) )\n",
    "    \n",
    "    # Plot other graphs\n",
    "    figs, plots = plt.subplots(nrows=3,ncols=2,figsize=(14,10))\n",
    "\n",
    "    mean_latency = np.mean(latencies_clean)     # Get mean and SD\n",
    "    std_latency = np.std(latencies_clean)\n",
    "    cutoff = 2 * std_latency           # remove outliers\n",
    "    lates_filtered = [latency for latency in latencies_clean if abs(latency - mean_latency) <= cutoff]\n",
    "    plots[0,0].hist(lates_filtered, bins=12, alpha=0.7, label='Latency')\n",
    "    plots[0,0].axvline(mean_latency, color='red', linestyle='dashed', linewidth=2, label='Mean')\n",
    "    plots[0,0].axvline(mean_latency - std_latency, color='green', linestyle='dashed', linewidth=2, label='Std -')\n",
    "    plots[0,0].axvline(mean_latency + std_latency, color='green', linestyle='dashed', linewidth=2, label='Std +')\n",
    "    plots[0,0].axvline(0, color='black', linestyle='dashed', linewidth=0.5, label='Std +')\n",
    "    plots[0,0].set_xlim(-1*(abs(mean_latency)+cutoff), abs(mean_latency) + cutoff) \n",
    "    plots[0,0].set_xlabel(\"Latency (ms)\")\n",
    "    plots[0,0].set_ylabel(\"Count\")\n",
    "    plots[0,0].set_title(f\"Fancy Latency Histogram\")\n",
    "    plots[0,0].legend()\n",
    "\n",
    "    plots[0,1].hist(latencies_clean, bins=12)\n",
    "    plots[0,1].set_title(\"Latency Histogram\")\n",
    "    plots[0,1].set_xlabel(\"Latency (ms)\")\n",
    "    plots[0,1].set_ylabel(\"Count\")\n",
    "\n",
    "    plots[1,0].hist(sd.interspike_intervals()[start_i], bins=50);\n",
    "    plots[1,0].set_title(\"Sender ISI\")\n",
    "    plots[1,0].set_xlabel(\"Time bin(ms)\")\n",
    "    plots[1,0].set_ylabel(\"ISI count\")\n",
    "\n",
    "    plots[1,1].hist(sd.interspike_intervals()[end_i], bins=50);\n",
    "    plots[1,1].set_title(\"Receiver ISI\")\n",
    "    plots[1,1].set_xlabel(\"Time bin(ms)\")\n",
    "    plots[1,1].set_ylabel(\"ISI count\")\n",
    "    \n",
    "    \n",
    "    plots[2,0].plot( sd.neuron_data[0][start_i][\"template\"] )\n",
    "    plots[2,0].set_title(\"Sender Spike Waveform\")\n",
    "    plots[2,0].set_xlabel(\"\")\n",
    "    plots[2,0].set_ylabel(\"\")\n",
    "    \n",
    "    plots[2,1].plot( sd.neuron_data[0][end_i][\"template\"] )\n",
    "    plots[2,1].set_title(\"Receiver Spike Waveform\")\n",
    "    plots[2,1].set_xlabel(\"\")\n",
    "    plots[2,1].set_ylabel(\"\")\n",
    "    "
   ]
  },
  {
   "cell_type": "code",
   "execution_count": null,
   "id": "68e8eb80",
   "metadata": {},
   "outputs": [],
   "source": []
  },
  {
   "cell_type": "code",
   "execution_count": null,
   "id": "7b4263d5",
   "metadata": {},
   "outputs": [],
   "source": []
  }
 ],
 "metadata": {
  "hide_input": false,
  "kernelspec": {
   "display_name": "Python 3 (ipykernel)",
   "language": "python",
   "name": "python3"
  },
  "language_info": {
   "codemirror_mode": {
    "name": "ipython",
    "version": 3
   },
   "file_extension": ".py",
   "mimetype": "text/x-python",
   "name": "python",
   "nbconvert_exporter": "python",
   "pygments_lexer": "ipython3",
   "version": "3.10.0"
  },
  "toc": {
   "base_numbering": 1,
   "nav_menu": {},
   "number_sections": true,
   "sideBar": true,
   "skip_h1_title": false,
   "title_cell": "Table of Contents",
   "title_sidebar": "Contents",
   "toc_cell": false,
   "toc_position": {},
   "toc_section_display": true,
   "toc_window_display": false
  },
  "varInspector": {
   "cols": {
    "lenName": 16,
    "lenType": 16,
    "lenVar": 40
   },
   "kernels_config": {
    "python": {
     "delete_cmd_postfix": "",
     "delete_cmd_prefix": "del ",
     "library": "var_list.py",
     "varRefreshCmd": "print(var_dic_list())"
    },
    "r": {
     "delete_cmd_postfix": ") ",
     "delete_cmd_prefix": "rm(",
     "library": "var_list.r",
     "varRefreshCmd": "cat(var_dic_list()) "
    }
   },
   "types_to_exclude": [
    "module",
    "function",
    "builtin_function_or_method",
    "instance",
    "_Feature"
   ],
   "window_display": false
  }
 },
 "nbformat": 4,
 "nbformat_minor": 5
}

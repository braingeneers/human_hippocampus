{
 "cells": [
  {
   "cell_type": "markdown",
   "id": "4197760f",
   "metadata": {},
   "source": [
    "<font size=7>WetAI Controller"
   ]
  },
  {
   "cell_type": "markdown",
   "id": "84c96187",
   "metadata": {
    "cell_style": "center"
   },
   "source": [
    "This example code is used to control Sampad's equipment through WetAI. It is meant to eventually replace the Google collab code he created."
   ]
  },
  {
   "cell_type": "markdown",
   "id": "b8b98840",
   "metadata": {},
   "source": [
    "# Edits made to computer"
   ]
  },
  {
   "cell_type": "markdown",
   "id": "e036b75d",
   "metadata": {},
   "source": [
    "Put any change you made your computer's OS here"
   ]
  },
  {
   "cell_type": "code",
   "execution_count": null,
   "id": "752b6472",
   "metadata": {},
   "outputs": [],
   "source": [
    "# pip install example_pacakge"
   ]
  },
  {
   "cell_type": "markdown",
   "id": "8b11ae52",
   "metadata": {},
   "source": [
    "# LED control from WetAi"
   ]
  },
  {
   "cell_type": "markdown",
   "id": "b4639a6a",
   "metadata": {},
   "source": [
    "Import the braingeneers example package"
   ]
  },
  {
   "cell_type": "code",
   "execution_count": 1,
   "id": "5c015981",
   "metadata": {},
   "outputs": [],
   "source": [
    "from braingeneers.iot import messaging\n",
    "import uuid\n",
    "import json\n",
    "\n",
    "################### from my google colab code ###############\n",
    "import time as t"
   ]
  },
  {
   "cell_type": "markdown",
   "id": "9df27af5",
   "metadata": {},
   "source": [
    "Import widgets"
   ]
  },
  {
   "cell_type": "code",
   "execution_count": 2,
   "id": "7ff3114e",
   "metadata": {},
   "outputs": [],
   "source": [
    "import ipywidgets as widgets"
   ]
  },
  {
   "cell_type": "markdown",
   "id": "bd32fa1f",
   "metadata": {},
   "source": [
    "to upload the remote script"
   ]
  },
  {
   "cell_type": "code",
   "execution_count": 118,
   "id": "bba94666",
   "metadata": {},
   "outputs": [
    {
     "name": "stdout",
     "output_type": "stream",
     "text": [
      "[\"main\\n\", \"call detect 1\\n\", \"call detectCycle 30\\n\", \"end\\n\", \"\\n\", \"detect\\n\", \"o1\\n\", \"call wait 1\\n\", \"o10\\n\", \"call wait 1\\n\", \"o9\\n\", \"call wait 1\\n\", \"o8\\n\", \"call wait 1\\n\", \"c1\\n\", \"call wait 1\\n\", \"c2\\n\", \"call wait 1\\n\", \"c13\\n\", \"call wait 1\\n\", \"c10\\n\", \"call wait 1\\n\", \"c9\\n\", \"call wait 1\\n\", \"c8\\n\", \"call wait 20\\n\", \"end\\n\", \"\\n\", \"detectCycle\\n\", \"o1\\n\", \"call wait 1\\n\", \"o2\\n\", \"call wait 1\\n\", \"o13\\n\", \"call wait 1\\n\", \"o10\\n\", \"call wait 1\\n\", \"o9\\n\", \"call wait 1\\n\", \"o8\\n\", \"call wait 1\\n\", \"c1\\n\", \"call wait 1\\n\", \"c2\\n\", \"call wait 1\\n\", \"c13\\n\", \"call wait 1\\n\", \"c10\\n\", \"call wait 1\\n\", \"c9\\n\", \"call wait 1\\n\", \"c8\\n\", \"call wait 20\\n\", \"end\\n\", \"\\n\", \"wait\\n\", \"w500\\n\", \"end\"]\n"
     ]
    }
   ],
   "source": [
    "with open(\"IoT_Script_EcoliDetection.txt\") as file:\n",
    "    lines = file.readlines()\n",
    "    test_file_content = json.dumps(lines)\n",
    "print(test_file_content)"
   ]
  },
  {
   "cell_type": "markdown",
   "id": "041e8a90",
   "metadata": {},
   "source": [
    "Check boxes"
   ]
  },
  {
   "cell_type": "code",
   "execution_count": 3,
   "id": "dc68a669",
   "metadata": {},
   "outputs": [],
   "source": [
    "Mode_Manual_Control = widgets.Checkbox(\n",
    "    value=False,\n",
    "    description='Mode_Manual_Control',\n",
    "    disabled=False\n",
    ")\n",
    "Mode_Run_Saved_Scripts = widgets.Checkbox(\n",
    "    value=False,\n",
    "    description='Mode_Run_Saved_Scripts',\n",
    "    disabled=False\n",
    ")\n",
    "Mode_Load_Remote_Scripts = widgets.Checkbox(\n",
    "    value=False,\n",
    "    description='Mode_Load_Remote_Scripts',\n",
    "    disabled=False\n",
    ")\n",
    "Mode_EXIT = widgets.Checkbox(\n",
    "    value=False,\n",
    "    description='Mode_EXIT',\n",
    "    disabled=False\n",
    ")\n",
    "CH_1 = widgets.Checkbox(\n",
    "    value=False,\n",
    "    description='CH_1',\n",
    "    disabled=False\n",
    ")\n",
    "CH_2 = widgets.Checkbox(\n",
    "    value=False,\n",
    "    description='CH_2',\n",
    "    disabled=False\n",
    ")\n",
    "CH_3 = widgets.Checkbox(\n",
    "    value=False,\n",
    "    description='CH_3',\n",
    "    disabled=False\n",
    ")\n",
    "CH_4 = widgets.Checkbox(\n",
    "    value=False,\n",
    "    description='CH_4',\n",
    "    disabled=False\n",
    ")\n",
    "CH_5 = widgets.Checkbox(\n",
    "    value=False,\n",
    "    description='CH_5',\n",
    "    disabled=False\n",
    ")\n",
    "CH_6 = widgets.Checkbox(\n",
    "    value=False,\n",
    "    description='CH_6',\n",
    "    disabled=False\n",
    ")\n",
    "CH_7 = widgets.Checkbox(\n",
    "    value=False,\n",
    "    description='CH_7',\n",
    "    disabled=False\n",
    ")\n",
    "CH_8 = widgets.Checkbox(\n",
    "    value=False,\n",
    "    description='CH_8',\n",
    "    disabled=False\n",
    ")\n",
    "CH_9 = widgets.Checkbox(\n",
    "    value=False,\n",
    "    description='CH_9',\n",
    "    disabled=False\n",
    ")\n",
    "CH_10 = widgets.Checkbox(\n",
    "    value=False,\n",
    "    description='CH_10',\n",
    "    disabled=False\n",
    ")\n",
    "CH_11 = widgets.Checkbox(\n",
    "    value=False,\n",
    "    description='CH_11',\n",
    "    disabled=False\n",
    ")\n",
    "CH_12 = widgets.Checkbox(\n",
    "    value=False,\n",
    "    description='CH_12',\n",
    "    disabled=False\n",
    ")\n",
    "CH_13 = widgets.Checkbox(\n",
    "    value=False,\n",
    "    description='CH_13',\n",
    "    disabled=False\n",
    ")\n",
    "CH_14 = widgets.Checkbox(\n",
    "    value=False,\n",
    "    description='CH_14',\n",
    "    disabled=False\n",
    ")\n",
    "CH_15 = widgets.Checkbox(\n",
    "    value=False,\n",
    "    description='CH_15',\n",
    "    disabled=False\n",
    ")\n",
    "CH_16 = widgets.Checkbox(\n",
    "    value=False,\n",
    "    description='CH_16',\n",
    "    disabled=False\n",
    ")\n",
    "OPEN_CH_all = widgets.Checkbox(\n",
    "    value=False,\n",
    "    description='OPEN_CH_all',\n",
    "    disabled=False\n",
    ")\n",
    "CLOSE_CH_all = widgets.Checkbox(\n",
    "    value=False,\n",
    "    description='CLOSE_CH_all',\n",
    "    disabled=False\n",
    ")\n",
    "Script_1 = widgets.Checkbox(\n",
    "    value=False,\n",
    "    description='Script_1',\n",
    "    disabled=False\n",
    ")\n",
    "Script_2 = widgets.Checkbox(\n",
    "    value=False,\n",
    "    description='Script_2',\n",
    "    disabled=False\n",
    ")\n",
    "Script_3 = widgets.Checkbox(\n",
    "    value=False,\n",
    "    description='Script_3',\n",
    "    disabled=False\n",
    ")"
   ]
  },
  {
   "cell_type": "code",
   "execution_count": 4,
   "id": "6a5e510f",
   "metadata": {},
   "outputs": [
    {
     "data": {
      "application/vnd.jupyter.widget-view+json": {
       "model_id": "f865f70ec91c4443bcf55652a09ba84a",
       "version_major": 2,
       "version_minor": 0
      },
      "text/plain": [
       "Checkbox(value=False, description='Mode_Manual_Control')"
      ]
     },
     "metadata": {},
     "output_type": "display_data"
    },
    {
     "data": {
      "application/vnd.jupyter.widget-view+json": {
       "model_id": "87191cbc98c34ecf845553be80a6155c",
       "version_major": 2,
       "version_minor": 0
      },
      "text/plain": [
       "Checkbox(value=False, description='Mode_Run_Saved_Scripts')"
      ]
     },
     "metadata": {},
     "output_type": "display_data"
    },
    {
     "data": {
      "application/vnd.jupyter.widget-view+json": {
       "model_id": "885480afe0ef465c9da6b0ea14f0e542",
       "version_major": 2,
       "version_minor": 0
      },
      "text/plain": [
       "Checkbox(value=False, description='Script_1')"
      ]
     },
     "metadata": {},
     "output_type": "display_data"
    },
    {
     "data": {
      "application/vnd.jupyter.widget-view+json": {
       "model_id": "ecc351099dee4cddbcfc97bad653a947",
       "version_major": 2,
       "version_minor": 0
      },
      "text/plain": [
       "Checkbox(value=False, description='Script_2')"
      ]
     },
     "metadata": {},
     "output_type": "display_data"
    },
    {
     "data": {
      "application/vnd.jupyter.widget-view+json": {
       "model_id": "02d0dfb5cf294e218eb1d4767e360fdf",
       "version_major": 2,
       "version_minor": 0
      },
      "text/plain": [
       "Checkbox(value=False, description='Script_3')"
      ]
     },
     "metadata": {},
     "output_type": "display_data"
    },
    {
     "data": {
      "application/vnd.jupyter.widget-view+json": {
       "model_id": "6331b5bfaef9489186ebc9df661c544f",
       "version_major": 2,
       "version_minor": 0
      },
      "text/plain": [
       "Checkbox(value=False, description='Mode_Load_Remote_Scripts')"
      ]
     },
     "metadata": {},
     "output_type": "display_data"
    },
    {
     "data": {
      "application/vnd.jupyter.widget-view+json": {
       "model_id": "239abc63842b45d382307c397f373eab",
       "version_major": 2,
       "version_minor": 0
      },
      "text/plain": [
       "Checkbox(value=False, description='Mode_EXIT')"
      ]
     },
     "metadata": {},
     "output_type": "display_data"
    },
    {
     "data": {
      "application/vnd.jupyter.widget-view+json": {
       "model_id": "100f8e00571a44aba4c74fb817cce96b",
       "version_major": 2,
       "version_minor": 0
      },
      "text/plain": [
       "Checkbox(value=False, description='OPEN_CH_all')"
      ]
     },
     "metadata": {},
     "output_type": "display_data"
    },
    {
     "data": {
      "application/vnd.jupyter.widget-view+json": {
       "model_id": "86981fd306174352be0963dff85b9ccd",
       "version_major": 2,
       "version_minor": 0
      },
      "text/plain": [
       "Checkbox(value=False, description='CLOSE_CH_all')"
      ]
     },
     "metadata": {},
     "output_type": "display_data"
    },
    {
     "data": {
      "application/vnd.jupyter.widget-view+json": {
       "model_id": "73a769ad8f0540b1a350cf25811e9310",
       "version_major": 2,
       "version_minor": 0
      },
      "text/plain": [
       "Checkbox(value=False, description='CH_1')"
      ]
     },
     "metadata": {},
     "output_type": "display_data"
    },
    {
     "data": {
      "application/vnd.jupyter.widget-view+json": {
       "model_id": "2c21b6de2cdb429e958786dd4a1ae153",
       "version_major": 2,
       "version_minor": 0
      },
      "text/plain": [
       "Checkbox(value=False, description='CH_2')"
      ]
     },
     "metadata": {},
     "output_type": "display_data"
    },
    {
     "data": {
      "application/vnd.jupyter.widget-view+json": {
       "model_id": "815888c4c6294c4dabd19de1f46222a3",
       "version_major": 2,
       "version_minor": 0
      },
      "text/plain": [
       "Checkbox(value=False, description='CH_3')"
      ]
     },
     "metadata": {},
     "output_type": "display_data"
    },
    {
     "data": {
      "application/vnd.jupyter.widget-view+json": {
       "model_id": "08d6ea83f2bb49368a179fcd7bfffe21",
       "version_major": 2,
       "version_minor": 0
      },
      "text/plain": [
       "Checkbox(value=False, description='CH_4')"
      ]
     },
     "metadata": {},
     "output_type": "display_data"
    },
    {
     "data": {
      "application/vnd.jupyter.widget-view+json": {
       "model_id": "a2c0f6c9104b466da2ca729bab8283cc",
       "version_major": 2,
       "version_minor": 0
      },
      "text/plain": [
       "Checkbox(value=False, description='CH_5')"
      ]
     },
     "metadata": {},
     "output_type": "display_data"
    },
    {
     "data": {
      "application/vnd.jupyter.widget-view+json": {
       "model_id": "bc4e714396a340f2a494afb7f49bab03",
       "version_major": 2,
       "version_minor": 0
      },
      "text/plain": [
       "Checkbox(value=False, description='CH_6')"
      ]
     },
     "metadata": {},
     "output_type": "display_data"
    },
    {
     "data": {
      "application/vnd.jupyter.widget-view+json": {
       "model_id": "6aada9bed8a2499c98c23f333e12ab5d",
       "version_major": 2,
       "version_minor": 0
      },
      "text/plain": [
       "Checkbox(value=False, description='CH_7')"
      ]
     },
     "metadata": {},
     "output_type": "display_data"
    },
    {
     "data": {
      "application/vnd.jupyter.widget-view+json": {
       "model_id": "417c31d1430d48afaa87b6819df8c8e3",
       "version_major": 2,
       "version_minor": 0
      },
      "text/plain": [
       "Checkbox(value=False, description='CH_8')"
      ]
     },
     "metadata": {},
     "output_type": "display_data"
    },
    {
     "data": {
      "application/vnd.jupyter.widget-view+json": {
       "model_id": "4d4b7bb6e9254db8b7200604480c7256",
       "version_major": 2,
       "version_minor": 0
      },
      "text/plain": [
       "Checkbox(value=False, description='CH_9')"
      ]
     },
     "metadata": {},
     "output_type": "display_data"
    },
    {
     "data": {
      "application/vnd.jupyter.widget-view+json": {
       "model_id": "edf9496f45034e89b41e91aa717c3abe",
       "version_major": 2,
       "version_minor": 0
      },
      "text/plain": [
       "Checkbox(value=False, description='CH_10')"
      ]
     },
     "metadata": {},
     "output_type": "display_data"
    },
    {
     "data": {
      "application/vnd.jupyter.widget-view+json": {
       "model_id": "37ef4e9e6ba64654acb1926a8004a9f1",
       "version_major": 2,
       "version_minor": 0
      },
      "text/plain": [
       "Checkbox(value=False, description='CH_11')"
      ]
     },
     "metadata": {},
     "output_type": "display_data"
    },
    {
     "data": {
      "application/vnd.jupyter.widget-view+json": {
       "model_id": "d5892bea7f3a469596d1590d8be19d2e",
       "version_major": 2,
       "version_minor": 0
      },
      "text/plain": [
       "Checkbox(value=False, description='CH_12')"
      ]
     },
     "metadata": {},
     "output_type": "display_data"
    },
    {
     "data": {
      "application/vnd.jupyter.widget-view+json": {
       "model_id": "b627dc09884b4d4a87e603d4af0175ea",
       "version_major": 2,
       "version_minor": 0
      },
      "text/plain": [
       "Checkbox(value=False, description='CH_13')"
      ]
     },
     "metadata": {},
     "output_type": "display_data"
    },
    {
     "data": {
      "application/vnd.jupyter.widget-view+json": {
       "model_id": "3a5262686910455ea93d0c8f0f0d74b4",
       "version_major": 2,
       "version_minor": 0
      },
      "text/plain": [
       "Checkbox(value=False, description='CH_14')"
      ]
     },
     "metadata": {},
     "output_type": "display_data"
    },
    {
     "data": {
      "application/vnd.jupyter.widget-view+json": {
       "model_id": "aeadf1d18dec4edb861dbb060fb9fc27",
       "version_major": 2,
       "version_minor": 0
      },
      "text/plain": [
       "Checkbox(value=False, description='CH_15')"
      ]
     },
     "metadata": {},
     "output_type": "display_data"
    },
    {
     "data": {
      "application/vnd.jupyter.widget-view+json": {
       "model_id": "9933e838b44a4abfb88f867d46060433",
       "version_major": 2,
       "version_minor": 0
      },
      "text/plain": [
       "Checkbox(value=False, description='CH_16')"
      ]
     },
     "metadata": {},
     "output_type": "display_data"
    }
   ],
   "source": [
    "display(Mode_Manual_Control)\n",
    "display(Mode_Run_Saved_Scripts)\n",
    "display(Script_1)\n",
    "display(Script_2)\n",
    "display(Script_3)\n",
    "display(Mode_Load_Remote_Scripts)\n",
    "display(Mode_EXIT)\n",
    "display(OPEN_CH_all)\n",
    "display(CLOSE_CH_all)\n",
    "display(CH_1)\n",
    "display(CH_2)\n",
    "display(CH_3)\n",
    "display(CH_4)\n",
    "display(CH_5)\n",
    "display(CH_6)\n",
    "display(CH_7)\n",
    "display(CH_8)\n",
    "display(CH_9)\n",
    "display(CH_10)\n",
    "display(CH_11)\n",
    "display(CH_12)\n",
    "display(CH_13)\n",
    "display(CH_14)\n",
    "display(CH_15)\n",
    "display(CH_16)"
   ]
  },
  {
   "cell_type": "code",
   "execution_count": 152,
   "id": "2df5dd36",
   "metadata": {
    "code_folding": []
   },
   "outputs": [
    {
     "name": "stdout",
     "output_type": "stream",
     "text": [
      "[False, False, False, False, False, False, False, False, False, True, True, False, True, True, True, True]\n",
      "1101111\n"
     ]
    }
   ],
   "source": [
    "########################### from my google colab code#############################\n",
    "result = 0\n",
    "result_struct = {}\n",
    "\n",
    "Manual_List = [CH_1.value, CH_2.value, CH_3.value, CH_4.value, CH_5.value, CH_6.value, CH_7.value, CH_8.value, CH_9.value, CH_10.value, CH_11.value, CH_12.value, CH_13.value, CH_14.value, CH_15.value, CH_16.value]\n",
    "print(Manual_List)\n",
    "\n",
    "if (Mode_Manual_Control.value):\n",
    "    result = 0\n",
    "    if (OPEN_CH_all.value):\n",
    "        for ch in Manual_List:\n",
    "            result = (result<<1) + 1 \n",
    "            result_struct['mode'] = 1;\n",
    "            result_struct['param'] = result;\n",
    "    elif (CLOSE_CH_all.value):    \n",
    "        for ch in Manual_List:\n",
    "            result = (result<<1) + 0\n",
    "            result_struct['mode'] = 1;\n",
    "            result_struct['param'] = result;\n",
    "    else:\n",
    "        for ch in Manual_List:\n",
    "            result = (result<<1) + int(ch)\n",
    "            result_struct['mode'] = 1;\n",
    "            result_struct['param'] = result;\n",
    "            \n",
    "elif (Mode_Run_Saved_Scripts.value): #Optimize this later\n",
    "    if (Script_1.value):\n",
    "     #result = (1<<4)+2 #+2 means mode 2 - this is old and not running\n",
    "        result = (1<<4)+2\n",
    "        result_struct['mode'] = 2\n",
    "        result_struct['param'] = 1\n",
    "    elif (Script_2.value):\n",
    "        result = (2<<4)+2\n",
    "        result_struct['mode'] = 2\n",
    "        result_struct['param'] = 2\n",
    "    elif (Script_3.value):\n",
    "        result = (3<<4)+2\n",
    "        result_struct['mode'] = 2\n",
    "        result_struct['param'] = 3\n",
    "elif (Mode_Load_Remote_Scripts.value):\n",
    "    result_struct['mode'] = 3\n",
    "    result_struct['param'] = test_file_content\n",
    "elif (Mode_EXIT.value):\n",
    "    result_struct['mode'] = 0\n",
    "    result_struct['param'] = 0\n",
    "else:\n",
    "    print(\"check the manual box!!\")\n",
    "\n",
    "print(\"{0:b}\".format(result))"
   ]
  },
  {
   "cell_type": "markdown",
   "id": "e3aa0636",
   "metadata": {},
   "source": [
    "Send a message to sampad's device"
   ]
  },
  {
   "cell_type": "code",
   "execution_count": 153,
   "id": "cf517ed4",
   "metadata": {},
   "outputs": [],
   "source": [
    "mb = messaging.MessageBroker(str(uuid.uuid4))\n",
    "mb.publish_message(topic=\"Sampad_Device\", message=result_struct)"
   ]
  },
  {
   "cell_type": "code",
   "execution_count": null,
   "id": "aeebbf0e",
   "metadata": {},
   "outputs": [],
   "source": [
    "mb.shutdown()\n",
    "print(\"Shutting down from remote side\")"
   ]
  }
 ],
 "metadata": {
  "hide_input": false,
  "kernelspec": {
   "display_name": "Python 3 (ipykernel)",
   "language": "python",
   "name": "python3"
  },
  "language_info": {
   "codemirror_mode": {
    "name": "ipython",
    "version": 3
   },
   "file_extension": ".py",
   "mimetype": "text/x-python",
   "name": "python",
   "nbconvert_exporter": "python",
   "pygments_lexer": "ipython3",
   "version": "3.9.7"
  },
  "toc": {
   "base_numbering": 1,
   "nav_menu": {},
   "number_sections": false,
   "sideBar": true,
   "skip_h1_title": false,
   "title_cell": "Table of Contents",
   "title_sidebar": "Contents",
   "toc_cell": false,
   "toc_position": {},
   "toc_section_display": true,
   "toc_window_display": false
  }
 },
 "nbformat": 4,
 "nbformat_minor": 5
}

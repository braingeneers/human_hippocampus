{
 "cells": [
  {
   "cell_type": "markdown",
   "id": "e4f470c7",
   "metadata": {},
   "source": [
    "<font size=\"7\">WetAI Interface"
   ]
  },
  {
   "cell_type": "markdown",
   "id": "d9f56598",
   "metadata": {},
   "source": [
    "This is a simple example of how to build an interface to control a device via IoT"
   ]
  },
  {
   "cell_type": "markdown",
   "id": "39082449",
   "metadata": {},
   "source": [
    "# Source Code"
   ]
  },
  {
   "cell_type": "markdown",
   "id": "386c7e2e",
   "metadata": {},
   "source": [
    "Import stuff"
   ]
  },
  {
   "cell_type": "code",
   "execution_count": 27,
   "id": "ce621460",
   "metadata": {},
   "outputs": [],
   "source": [
    "from braingeneers.utils import messaging\n",
    "import uuid "
   ]
  },
  {
   "cell_type": "code",
   "execution_count": 28,
   "id": "db53fd76",
   "metadata": {},
   "outputs": [],
   "source": [
    "import braingeneers.utils.messaging as messaging\n",
    "import unittest\n",
    "import threading\n",
    "import sys\n",
    "import numpy as np\n",
    "import uuid \n",
    "from ipywidgets import  *"
   ]
  },
  {
   "cell_type": "markdown",
   "id": "eaf10f39",
   "metadata": {},
   "source": [
    "Build a button that once clicked will cause the device to print hello"
   ]
  },
  {
   "cell_type": "code",
   "execution_count": 29,
   "id": "dd736146",
   "metadata": {},
   "outputs": [],
   "source": [
    "run_btn = Button(description=\"Run\")"
   ]
  },
  {
   "cell_type": "code",
   "execution_count": 30,
   "id": "784e4f87",
   "metadata": {},
   "outputs": [],
   "source": [
    "def pubMessage(a):\n",
    "    print(\"this ran\")\n",
    "    try:\n",
    "        mb = messaging.MessageBroker( str(uuid.uuid4()) )\n",
    "        mb.publish_message(topic=\"testit2\", message={\"text\":\"this was sent\" })\n",
    "\n",
    "    except: \n",
    "        print(\"Error\")\n",
    "    print(\"Finished!\")\n",
    "    \n",
    "run_btn.on_click(pubMessage)"
   ]
  },
  {
   "cell_type": "markdown",
   "id": "11bde2b3",
   "metadata": {},
   "source": [
    "# Interface"
   ]
  },
  {
   "cell_type": "code",
   "execution_count": 32,
   "id": "819c3703",
   "metadata": {},
   "outputs": [
    {
     "data": {
      "application/vnd.jupyter.widget-view+json": {
       "model_id": "e6a7efd9fd9a49998332c24c036f41b5",
       "version_major": 2,
       "version_minor": 0
      },
      "text/plain": [
       "Button(description='Run', style=ButtonStyle())"
      ]
     },
     "metadata": {},
     "output_type": "display_data"
    },
    {
     "name": "stdout",
     "output_type": "stream",
     "text": [
      "this ran\n",
      "Finished!\n"
     ]
    }
   ],
   "source": [
    "run_btn"
   ]
  },
  {
   "cell_type": "code",
   "execution_count": null,
   "id": "43a7e792",
   "metadata": {},
   "outputs": [],
   "source": []
  }
 ],
 "metadata": {
  "hide_input": false,
  "kernelspec": {
   "display_name": "Python 3 (ipykernel)",
   "language": "python",
   "name": "python3"
  },
  "language_info": {
   "codemirror_mode": {
    "name": "ipython",
    "version": 3
   },
   "file_extension": ".py",
   "mimetype": "text/x-python",
   "name": "python",
   "nbconvert_exporter": "python",
   "pygments_lexer": "ipython3",
   "version": "3.9.7"
  },
  "toc": {
   "base_numbering": 1,
   "nav_menu": {},
   "number_sections": true,
   "sideBar": true,
   "skip_h1_title": false,
   "title_cell": "Table of Contents",
   "title_sidebar": "Contents",
   "toc_cell": false,
   "toc_position": {},
   "toc_section_display": true,
   "toc_window_display": false
  },
  "widgets": {
   "application/vnd.jupyter.widget-state+json": {
    "state": {
     "0614274abcd0414992ab28d81da0b160": {
      "model_module": "@jupyter-widgets/controls",
      "model_module_version": "1.5.0",
      "model_name": "ButtonStyleModel",
      "state": {}
     },
     "063d2ad6c5e04a04afa49806a6f59698": {
      "model_module": "@jupyter-widgets/controls",
      "model_module_version": "1.5.0",
      "model_name": "ButtonModel",
      "state": {
       "description": "Run",
       "layout": "IPY_MODEL_67446590e2354854a1ea8b1786c55477",
       "style": "IPY_MODEL_0614274abcd0414992ab28d81da0b160"
      }
     },
     "09c1e69602754cc0ab45acb25e918141": {
      "model_module": "@jupyter-widgets/controls",
      "model_module_version": "1.5.0",
      "model_name": "ButtonStyleModel",
      "state": {}
     },
     "2287b1b0d6f1462cbdbc838769ea928e": {
      "model_module": "@jupyter-widgets/controls",
      "model_module_version": "1.5.0",
      "model_name": "ButtonStyleModel",
      "state": {}
     },
     "318ceaa088a249a09fd133efebfee1f2": {
      "model_module": "@jupyter-widgets/controls",
      "model_module_version": "1.5.0",
      "model_name": "ButtonModel",
      "state": {
       "description": "Run",
       "layout": "IPY_MODEL_7c719238bb45403d9689daa194c230c6",
       "style": "IPY_MODEL_09c1e69602754cc0ab45acb25e918141"
      }
     },
     "3f32193f9ac842e0b2386f213d492837": {
      "model_module": "@jupyter-widgets/base",
      "model_module_version": "1.2.0",
      "model_name": "LayoutModel",
      "state": {}
     },
     "4b08bcce943a4deb898e6e79274b5348": {
      "model_module": "@jupyter-widgets/controls",
      "model_module_version": "1.5.0",
      "model_name": "ButtonModel",
      "state": {
       "description": "Run",
       "layout": "IPY_MODEL_78f0e64e1aa140638b1bc20dc08beccc",
       "style": "IPY_MODEL_2287b1b0d6f1462cbdbc838769ea928e"
      }
     },
     "4bee4b1bec43445e806e2051f67377dd": {
      "model_module": "@jupyter-widgets/controls",
      "model_module_version": "1.5.0",
      "model_name": "ButtonModel",
      "state": {
       "description": "Run",
       "layout": "IPY_MODEL_3f32193f9ac842e0b2386f213d492837",
       "style": "IPY_MODEL_b5edb9902cda4f339a95e96cfc33c576"
      }
     },
     "67446590e2354854a1ea8b1786c55477": {
      "model_module": "@jupyter-widgets/base",
      "model_module_version": "1.2.0",
      "model_name": "LayoutModel",
      "state": {}
     },
     "76d2ad32e4874825967f4def812c4f18": {
      "model_module": "@jupyter-widgets/controls",
      "model_module_version": "1.5.0",
      "model_name": "ButtonModel",
      "state": {
       "description": "Run",
       "layout": "IPY_MODEL_897818042d3940ccb0cd1880365aa323",
       "style": "IPY_MODEL_9c7204b8a6e648d3b6b5fa3494302ed0"
      }
     },
     "78f0e64e1aa140638b1bc20dc08beccc": {
      "model_module": "@jupyter-widgets/base",
      "model_module_version": "1.2.0",
      "model_name": "LayoutModel",
      "state": {}
     },
     "7c719238bb45403d9689daa194c230c6": {
      "model_module": "@jupyter-widgets/base",
      "model_module_version": "1.2.0",
      "model_name": "LayoutModel",
      "state": {}
     },
     "897818042d3940ccb0cd1880365aa323": {
      "model_module": "@jupyter-widgets/base",
      "model_module_version": "1.2.0",
      "model_name": "LayoutModel",
      "state": {}
     },
     "9c7204b8a6e648d3b6b5fa3494302ed0": {
      "model_module": "@jupyter-widgets/controls",
      "model_module_version": "1.5.0",
      "model_name": "ButtonStyleModel",
      "state": {}
     },
     "b5edb9902cda4f339a95e96cfc33c576": {
      "model_module": "@jupyter-widgets/controls",
      "model_module_version": "1.5.0",
      "model_name": "ButtonStyleModel",
      "state": {}
     },
     "ccbac476818f48afa09866f47c32494a": {
      "model_module": "@jupyter-widgets/base",
      "model_module_version": "1.2.0",
      "model_name": "LayoutModel",
      "state": {}
     },
     "ce5babf65b0c4ff786ca14031ad71a26": {
      "model_module": "@jupyter-widgets/controls",
      "model_module_version": "1.5.0",
      "model_name": "ButtonStyleModel",
      "state": {}
     },
     "f70bdcb3996845efa0737205aa39032e": {
      "model_module": "@jupyter-widgets/controls",
      "model_module_version": "1.5.0",
      "model_name": "ButtonModel",
      "state": {
       "description": "Run",
       "layout": "IPY_MODEL_ccbac476818f48afa09866f47c32494a",
       "style": "IPY_MODEL_ce5babf65b0c4ff786ca14031ad71a26"
      }
     }
    },
    "version_major": 2,
    "version_minor": 0
   }
  }
 },
 "nbformat": 4,
 "nbformat_minor": 5
}

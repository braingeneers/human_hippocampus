{
 "cells": [
  {
   "cell_type": "markdown",
   "id": "0588dbe5",
   "metadata": {},
   "source": [
    "<font size=7>Arrows Graph"
   ]
  },
  {
   "cell_type": "markdown",
   "id": "c6a3f9cf",
   "metadata": {},
   "source": [
    "Here we crete the vector plots of the information flow directions for neurons"
   ]
  },
  {
   "cell_type": "markdown",
   "id": "dc9cbea7",
   "metadata": {},
   "source": [
    "# Set Up Notebook"
   ]
  },
  {
   "cell_type": "code",
   "execution_count": 4,
   "id": "cb7fc205",
   "metadata": {},
   "outputs": [],
   "source": [
    "#from human_hip.spike_data import read_phy_files"
   ]
  },
  {
   "cell_type": "code",
   "execution_count": 2,
   "id": "27a7ea73",
   "metadata": {},
   "outputs": [],
   "source": [
    "#%run  \"/workspaces/human_hippocampus/dev/elliott/safety/cross_correlation/Instant_Firing_Rate_Source_Code.ipynb\""
   ]
  },
  {
   "cell_type": "code",
   "execution_count": 48,
   "id": "7cb8873c",
   "metadata": {},
   "outputs": [],
   "source": [
    "import pickle\n",
    "from human_hip.spike_data import latencies, cross_sttc, plotLagsLayout\n",
    "import numpy as np"
   ]
  },
  {
   "cell_type": "markdown",
   "id": "5151da41",
   "metadata": {},
   "source": [
    "load data"
   ]
  },
  {
   "cell_type": "code",
   "execution_count": 2,
   "id": "fb2ccda1",
   "metadata": {},
   "outputs": [],
   "source": [
    "\n",
    "file = open('/workspaces/human_hippocampus/data/ephys/2023-04-02-e-hc328_unperturbed/sd_ca1_curated.pkl', 'rb')\n",
    "sd = pickle.load(file)\n",
    "file.close()"
   ]
  },
  {
   "cell_type": "code",
   "execution_count": 9,
   "id": "ceedd9ea",
   "metadata": {},
   "outputs": [
    {
     "name": "stdout",
     "output_type": "stream",
     "text": [
      "18496 Starting Pairs\n"
     ]
    }
   ],
   "source": [
    "print(sd.N**2 , \"Starting Pairs\")"
   ]
  },
  {
   "cell_type": "markdown",
   "id": "f923e4b7",
   "metadata": {
    "heading_collapsed": true
   },
   "source": [
    "# Curation 1 - Basics"
   ]
  },
  {
   "cell_type": "markdown",
   "id": "8f285214",
   "metadata": {},
   "source": [
    "### STTC Theshold"
   ]
  },
  {
   "cell_type": "markdown",
   "id": "e0f3c306",
   "metadata": {
    "heading_collapsed": true,
    "hidden": true
   },
   "source": [
    "get all latencies whose STTC is above some minimum STTC cuttoff"
   ]
  },
  {
   "cell_type": "code",
   "execution_count": 10,
   "id": "6282e6a7",
   "metadata": {
    "hidden": true
   },
   "outputs": [],
   "source": [
    "sttc_delta = 20\n",
    "sttc_neo = sd.spike_time_tilings( sttc_delta )    # sttc matrix\n",
    "sttc_cutoff = 0.04   \n",
    "\n",
    "pairs = []                            # get list (without duplicates) of all pairs above cutoff (excluding diagonal)\n",
    "for i in range(sd.N):\n",
    "    for j in range(i+1,sd.N):\n",
    "        if sttc_neo[i,j] > sttc_cutoff:\n",
    "            pairs.append([i,j])"
   ]
  },
  {
   "cell_type": "code",
   "execution_count": 42,
   "id": "e50f63fb",
   "metadata": {},
   "outputs": [
    {
     "name": "stdout",
     "output_type": "stream",
     "text": [
      "360 pairs above sttc cutoff\n"
     ]
    }
   ],
   "source": [
    "print( len(pairs), \"pairs above sttc cutoff\")"
   ]
  },
  {
   "cell_type": "markdown",
   "id": "2a98acb2",
   "metadata": {},
   "source": [
    "### Latencies Threshold"
   ]
  },
  {
   "cell_type": "markdown",
   "id": "ade45b3b",
   "metadata": {
    "heading_collapsed": true,
    "hidden": true
   },
   "source": [
    "Get all latencies whose median latency is above 1 ms Latency Cuttoff"
   ]
  },
  {
   "cell_type": "code",
   "execution_count": 13,
   "id": "96c3a8b5",
   "metadata": {
    "hidden": true
   },
   "outputs": [],
   "source": [
    "pairs_late = []\n",
    "lags_late = []\n",
    "latency_cuttoff = 1\n",
    "for pair in pairs:\n",
    "    pair_latencies = latencies( pair[0], pair[1], sd, ms_cutoff=20)\n",
    "    latency= np.median(pair_latencies)\n",
    "    if abs(latency)> latency_cuttoff:\n",
    "        pairs_late.append( pair )\n",
    "        lags_late.append( latency )\n",
    "pairs= pairs_late"
   ]
  },
  {
   "cell_type": "code",
   "execution_count": 15,
   "id": "777b3768",
   "metadata": {},
   "outputs": [
    {
     "name": "stdout",
     "output_type": "stream",
     "text": [
      "360 pairs above latencency cutoff\n"
     ]
    }
   ],
   "source": [
    "print( len(pairs_late), \"pairs above latencency cutoff\")"
   ]
  },
  {
   "cell_type": "markdown",
   "id": "c7f7cc16",
   "metadata": {
    "heading_collapsed": true
   },
   "source": [
    "#  Curation 2 - Cross STTC"
   ]
  },
  {
   "cell_type": "markdown",
   "id": "89b80035",
   "metadata": {
    "heading_collapsed": true
   },
   "source": [
    "## <font color=\"blue\"> crossSTTC function"
   ]
  },
  {
   "cell_type": "code",
   "execution_count": 10,
   "id": "402ba4a0",
   "metadata": {
    "hidden": true
   },
   "outputs": [],
   "source": [
    "# def crossSTTC( n1, n2, sd, delt ):\n",
    "#     assert len(sd.neuron_attributes) == len(sd.train) \n",
    "#     sttcs = []\n",
    "#     for i in range(-1000,1001):\n",
    "#         sd.train.append( sd.train[n1]+i )\n",
    "#         sttcs.append( sd.spike_time_tiling( len(sd.neuron_attributes) , n2, delt= delt) )\n",
    "#         sd.train.pop(-1)\n",
    "#     return np.array(sttcs)"
   ]
  },
  {
   "cell_type": "code",
   "execution_count": 23,
   "id": "ebf6511e",
   "metadata": {},
   "outputs": [],
   "source": [
    "pair = pairs_late[0]\n",
    "cross_sttc_delta = 20"
   ]
  },
  {
   "cell_type": "code",
   "execution_count": 24,
   "id": "bc83c64c",
   "metadata": {},
   "outputs": [
    {
     "data": {
      "text/plain": [
       "array([0.00380159, 0.00481513, 0.00278826, ..., 0.0162457 , 0.01523124,\n",
       "       0.01421699])"
      ]
     },
     "execution_count": 24,
     "metadata": {},
     "output_type": "execute_result"
    }
   ],
   "source": [
    "cross_sttc( pair[0], pair[1], sd, cross_sttc_delta )"
   ]
  },
  {
   "cell_type": "code",
   "execution_count": null,
   "id": "556216a7",
   "metadata": {},
   "outputs": [],
   "source": []
  },
  {
   "cell_type": "code",
   "execution_count": null,
   "id": "8317faca",
   "metadata": {},
   "outputs": [],
   "source": []
  },
  {
   "cell_type": "markdown",
   "id": "3f5cfb3f",
   "metadata": {},
   "source": [
    "## cross STTC across all paris"
   ]
  },
  {
   "cell_type": "markdown",
   "id": "567a3266",
   "metadata": {
    "hidden": true
   },
   "source": [
    "do cross sttc for all pairs"
   ]
  },
  {
   "cell_type": "code",
   "execution_count": 35,
   "id": "d556cbf7",
   "metadata": {
    "hidden": true
   },
   "outputs": [
    {
     "name": "stdout",
     "output_type": "stream",
     "text": [
      "20\n",
      "40\n",
      "60\n",
      "80\n",
      "100\n",
      "120\n",
      "140\n",
      "160\n",
      "180\n",
      "200\n",
      "220\n",
      "240\n",
      "260\n",
      "280\n",
      "300\n",
      "320\n",
      "340\n",
      "360\n"
     ]
    }
   ],
   "source": [
    "cross_lag  = []\n",
    "pair_cross_sttc = []\n",
    "cross_sttcs = []\n",
    "count = 0\n",
    "cross_sttc_delta = 20\n",
    "for pair in pairs_late:\n",
    "    count+=1\n",
    "    if count%20 ==0:\n",
    "        print(count)\n",
    "    sttcs = cross_sttc( pair[0], pair[1], sd, delt=cross_sttc_delta)\n",
    "    cross_sttcs.append(sttcs)\n",
    "    pair_cross_sttc.append( np.amax(sttcs) )\n",
    "    max_args = np.argwhere(sttcs == np.amax(sttcs)) - 1000 \n",
    "    cross_lag.append( max_args[np.argmin(np.abs(max_args))][0] ) # if multiple maxima, take the one closest to zero\n",
    "cross_lag = np.array(cross_lag)"
   ]
  },
  {
   "cell_type": "code",
   "execution_count": 45,
   "id": "0df8cf2b",
   "metadata": {},
   "outputs": [
    {
     "data": {
      "text/plain": [
       "array([[-22]])"
      ]
     },
     "execution_count": 45,
     "metadata": {},
     "output_type": "execute_result"
    }
   ],
   "source": [
    "max_args"
   ]
  },
  {
   "cell_type": "code",
   "execution_count": 46,
   "id": "ba710a5b",
   "metadata": {},
   "outputs": [
    {
     "data": {
      "text/plain": [
       "-22"
      ]
     },
     "execution_count": 46,
     "metadata": {},
     "output_type": "execute_result"
    }
   ],
   "source": [
    "max_args[np.argmin(np.abs(max_args))][0] "
   ]
  },
  {
   "cell_type": "code",
   "execution_count": 47,
   "id": "0eb66bf5",
   "metadata": {},
   "outputs": [
    {
     "data": {
      "text/plain": [
       "array([[22]])"
      ]
     },
     "execution_count": 47,
     "metadata": {},
     "output_type": "execute_result"
    }
   ],
   "source": [
    "np.abs(max_args)"
   ]
  },
  {
   "cell_type": "code",
   "execution_count": null,
   "id": "9d1c2ab6",
   "metadata": {},
   "outputs": [],
   "source": []
  },
  {
   "cell_type": "code",
   "execution_count": null,
   "id": "12c208a9",
   "metadata": {},
   "outputs": [],
   "source": []
  },
  {
   "cell_type": "code",
   "execution_count": null,
   "id": "62286eef",
   "metadata": {},
   "outputs": [],
   "source": []
  },
  {
   "cell_type": "code",
   "execution_count": 44,
   "id": "0ef60cf1",
   "metadata": {},
   "outputs": [
    {
     "data": {
      "text/plain": [
       "array([   1,   13,  -19,  -19,   20,   16,  -21,   24, -272,   -8,  -11,\n",
       "         31,   15,  517,   61, -566,  -22,  447, -902,  918,  -46,   18,\n",
       "          5,   20,   38,  -20,   -9,   32,    6,   28, -805,  -22,   -5,\n",
       "         32,   -8, -512,    5,   32,    2,  906,  -19,  -20,   -1,  688,\n",
       "          1,   32,  -18,   -3,  777,  -21,   51,    7,   78,    4, -298,\n",
       "         -4,  229,  229,  647,    1,   31,   47,    5,   95,   18,   44,\n",
       "        -66,   31, -490,  -16,   38,   22,   36,   95,    6,   19,  -47,\n",
       "        270,   -3,   22,   21, -638,  -22,  395,   -5,   43,  -10,  -52,\n",
       "        -26,  -23,   -8,   10,    3,   -6,   -2,  -22,  -10,  -34,   -6,\n",
       "         21,   71,  -21,   -1,   -6,  786,   46,  785,  -24,  -16,   46,\n",
       "          3, -108,   21,   11, -173, -986,  479,   19, -935, -935,  -29,\n",
       "       -853, -281,  -12,  397,   -1,  931,   -3,   27,   23,   35, -933,\n",
       "         20,  456,   26,   22,   15,   16,    2,   17,   -3,   27,  114,\n",
       "       -327,   -4,   20, -935, -935,  -25, -609,   17,  806,   27,  -32,\n",
       "         19,   -6, -142,  -21,   12,   -6, -550,   -3,  -30,  -10,  805,\n",
       "       -635,   12,  -23,  -24,    4,  -23,  -28,   -5,  -76,  414,  -12,\n",
       "       -779, -779,  399,    0,    3,   -6,   31,  -20,   -7, -943,  -79,\n",
       "         -8,    0,   46,   -3,  -96,  -27,  763,  -51,  -30,  934, -425,\n",
       "        -13,   11, -683,   -2,    3,  809, -863,  382,  708,   53, -397,\n",
       "        -30,  960, -558,   25,  681,   91,   29,   76,   34,  -19, -966,\n",
       "        -30,   22,   19,   21,    6,    3,   -1,  -25,  -13,  -26,  -13,\n",
       "        -29,  -33,   35, -934,   19,  456,   26,   22,   15,   16,    2,\n",
       "         17,   -3,   27,  114,   -6, -935,  -21,  -28,    0,  -44,  425,\n",
       "       -540,   -2,   14,   -1,   17,   -3, -523,    2,  -12,  -29, -745,\n",
       "       -853,   -9,  -10,  -10,   22,   21,   19,   35,  -23,    0,   -4,\n",
       "        -21,  -29,   25,  -29,  -28,   10,  -25,  112,  -23,  917,   37,\n",
       "         37,   54,   17,   -7,  -22,   -3,  430, -585,   -1,   -1,  -20,\n",
       "         -1,   12,  -89,  597,   46,  -35,  531,   46,  -11,  -51,  -48,\n",
       "        -21,  -17,  -21,  997,   37,  -22,  -20,   19,  -25,    0, -862,\n",
       "        -32, -276,  190, -428,   18,   27,   -5, -375,  -57, -122, -660,\n",
       "       -167,    3,   20, -102,   17,  -19,   14,  -17,   -6,   13,    6,\n",
       "        -47,  -23,  646,   11,  715,  238,  -11,   -4,   -1,  -27,   26,\n",
       "        683,  726,  547,  -13,    4,  415,   33,  -22])"
      ]
     },
     "execution_count": 44,
     "metadata": {},
     "output_type": "execute_result"
    }
   ],
   "source": [
    "cross_lag"
   ]
  },
  {
   "cell_type": "code",
   "execution_count": null,
   "id": "e1e0aecb",
   "metadata": {},
   "outputs": [],
   "source": []
  },
  {
   "cell_type": "code",
   "execution_count": null,
   "id": "9b5d1480",
   "metadata": {},
   "outputs": [],
   "source": []
  },
  {
   "cell_type": "code",
   "execution_count": null,
   "id": "1ef9c7bb",
   "metadata": {},
   "outputs": [],
   "source": []
  },
  {
   "cell_type": "markdown",
   "id": "4090ac39",
   "metadata": {},
   "source": [
    "## Curate Pairs"
   ]
  },
  {
   "cell_type": "markdown",
   "id": "d243f5fb",
   "metadata": {
    "hidden": true
   },
   "source": [
    "Get pairs where max cross correlation is between some cutoff"
   ]
  },
  {
   "cell_type": "code",
   "execution_count": 36,
   "id": "c78090ea",
   "metadata": {
    "hidden": true
   },
   "outputs": [],
   "source": [
    "min_lag_cutoff = 2\n",
    "max_lag_cutoff = 15\n",
    "to_keep = np.where((np.abs(cross_lag)< max_lag_cutoff) & (np.abs(cross_lag)> min_lag_cutoff) & (cross_lag!=0) )[0]"
   ]
  },
  {
   "cell_type": "code",
   "execution_count": 37,
   "id": "ddf269de",
   "metadata": {
    "hidden": true
   },
   "outputs": [
    {
     "data": {
      "text/plain": [
       "array([  1,   9,  10,  22,  26,  28,  32,  34,  36,  47,  51,  53,  55,\n",
       "        62,  74,  78,  84,  86,  90,  91,  92,  93,  96,  98, 103, 110,\n",
       "       113, 123, 127, 140, 144, 155, 158, 159, 161, 163, 166, 169, 172,\n",
       "       175, 180, 181, 184, 187, 190, 198, 199, 202, 224, 225, 228, 230,\n",
       "       243, 246, 255, 258, 261, 265, 266, 267, 274, 280, 289, 291, 298,\n",
       "       305, 325, 331, 336, 338, 339, 340, 344, 347, 348, 355, 356])"
      ]
     },
     "execution_count": 37,
     "metadata": {},
     "output_type": "execute_result"
    }
   ],
   "source": [
    "to_keep"
   ]
  },
  {
   "cell_type": "code",
   "execution_count": 18,
   "id": "9fa90d6a",
   "metadata": {},
   "outputs": [],
   "source": [
    "#pairs_corr"
   ]
  },
  {
   "cell_type": "code",
   "execution_count": 38,
   "id": "8ef8d01a",
   "metadata": {},
   "outputs": [
    {
     "data": {
      "text/plain": [
       "77"
      ]
     },
     "execution_count": 38,
     "metadata": {},
     "output_type": "execute_result"
    }
   ],
   "source": [
    "len(to_keep)"
   ]
  },
  {
   "cell_type": "code",
   "execution_count": 39,
   "id": "a969da34",
   "metadata": {
    "hidden": true
   },
   "outputs": [
    {
     "data": {
      "text/plain": [
       "77"
      ]
     },
     "execution_count": 39,
     "metadata": {},
     "output_type": "execute_result"
    }
   ],
   "source": [
    "len(to_keep)"
   ]
  },
  {
   "cell_type": "code",
   "execution_count": 40,
   "id": "edc18591",
   "metadata": {
    "hidden": true
   },
   "outputs": [],
   "source": [
    "pairs_corr = np.array(pairs)[ to_keep ] \n",
    "lags_corr = np.array(cross_lag)[to_keep]\n",
    "sttcs_corr = np.array(cross_sttcs)[to_keep]"
   ]
  },
  {
   "cell_type": "code",
   "execution_count": 41,
   "id": "9a75876a",
   "metadata": {
    "hidden": true
   },
   "outputs": [],
   "source": [
    "import warnings\n",
    "warnings.filterwarnings(\"ignore\")"
   ]
  },
  {
   "cell_type": "code",
   "execution_count": null,
   "id": "ab7b612a",
   "metadata": {},
   "outputs": [],
   "source": []
  },
  {
   "cell_type": "code",
   "execution_count": null,
   "id": "eacf759d",
   "metadata": {},
   "outputs": [],
   "source": []
  },
  {
   "cell_type": "code",
   "execution_count": null,
   "id": "5a505305",
   "metadata": {},
   "outputs": [],
   "source": []
  },
  {
   "cell_type": "code",
   "execution_count": 16,
   "id": "458e0c38",
   "metadata": {
    "cell_style": "split",
    "hidden": true
   },
   "outputs": [
    {
     "data": {
      "image/png": "[encoded data removed]",
      "text/plain": [
       "<Figure size 800x800 with 1 Axes>"
      ]
     },
     "metadata": {},
     "output_type": "display_data"
    }
   ],
   "source": [
    "#print(f\"Delta: 30, Lag_Cutoff: 10\")\n",
    "#print(f\"Delta: {delta}, Lag_Cutoff: {lag_cutoff}\")\n",
    "plotLagsLayout(sd, lags_corr, pairs_corr)\n"
   ]
  },
  {
   "cell_type": "markdown",
   "id": "0d3d1cc4",
   "metadata": {},
   "source": [
    "## <font color=\"green\">Save results"
   ]
  },
  {
   "cell_type": "markdown",
   "id": "bbe6f4e3",
   "metadata": {},
   "source": [
    "get neurons x/y locations for saving"
   ]
  },
  {
   "cell_type": "code",
   "execution_count": 24,
   "id": "bebb608a",
   "metadata": {},
   "outputs": [],
   "source": [
    "neuron_xy = []\n",
    "for neuron in sd.neuron_data[0].values():\n",
    "    neuron_xy.append( [neuron['position'][0], neuron['position'][1]] )\n",
    "neuron_xy = np.array(neuron_xy)"
   ]
  },
  {
   "cell_type": "markdown",
   "id": "e81ad303",
   "metadata": {},
   "source": [
    "save data"
   ]
  },
  {
   "cell_type": "code",
   "execution_count": 25,
   "id": "d0f22688",
   "metadata": {},
   "outputs": [],
   "source": [
    "arrows_data= {\"pairs\":pairs_corr, \"lags\":lags_corr, \"neuron_xy\":neuron_xy, \"sttcs\":sttcs_corr, \"sttc_delta\":sttc_delta,  \"cross_sttc_delta\":cross_sttc_delta,\n",
    "              \"min_lag_cutoff\":min_lag_cutoff, \"max_lag_cutoff\":max_lag_cutoff }"
   ]
  },
  {
   "cell_type": "markdown",
   "id": "b60ca807",
   "metadata": {},
   "source": [
    "The following line saves data, it's commented out so to not accidently overwrite data"
   ]
  },
  {
   "cell_type": "code",
   "execution_count": 26,
   "id": "44de6ad8",
   "metadata": {},
   "outputs": [],
   "source": [
    "# with open( '/workspaces/human_hippocampus/data/arrows/pairs/deltas_20ms_cuttoff_2_15ms.pkl' , 'wb') as file:\n",
    "#    pickle.dump( arrows_data, file)"
   ]
  },
  {
   "cell_type": "markdown",
   "id": "ae1ecdd5",
   "metadata": {},
   "source": [
    "# Curation 3 - TJ"
   ]
  },
  {
   "cell_type": "code",
   "execution_count": null,
   "id": "91a74a5a",
   "metadata": {},
   "outputs": [],
   "source": [
    "#arrows_data= {\"pairs\":pairs_corr, \"lags\":lags_corr, \"sttcs\":sttcs_corr, \"sttc_delta_1\":delta,  \"\":lag_cutoff}"
   ]
  },
  {
   "cell_type": "code",
   "execution_count": null,
   "id": "d9b04803",
   "metadata": {},
   "outputs": [],
   "source": [
    "#with open( '/workspaces/human_hippocampus/data/arrows/pairs/deltas_20ms_cuttoff_2_15ms.pkl' , 'wb') as file:\n",
    "#    pickle.dump(ar file)"
   ]
  },
  {
   "cell_type": "code",
   "execution_count": null,
   "id": "e1fcf5b8",
   "metadata": {},
   "outputs": [],
   "source": []
  },
  {
   "cell_type": "code",
   "execution_count": null,
   "id": "4455e704",
   "metadata": {},
   "outputs": [],
   "source": []
  },
  {
   "cell_type": "code",
   "execution_count": null,
   "id": "4a682e7c",
   "metadata": {},
   "outputs": [],
   "source": []
  },
  {
   "cell_type": "code",
   "execution_count": null,
   "id": "aa253e94",
   "metadata": {},
   "outputs": [],
   "source": []
  },
  {
   "cell_type": "markdown",
   "id": "4f561196",
   "metadata": {
    "heading_collapsed": true,
    "hidden": true
   },
   "source": [
    "# Analyze STTC"
   ]
  },
  {
   "cell_type": "markdown",
   "id": "6736c595",
   "metadata": {
    "hidden": true
   },
   "source": [
    " crossSTTC values"
   ]
  },
  {
   "cell_type": "code",
   "execution_count": 17,
   "id": "ee1a6b0f",
   "metadata": {
    "hidden": true
   },
   "outputs": [
    {
     "data": {
      "application/vnd.jupyter.widget-view+json": {
       "model_id": "195899e3c36c4ec9906500137dbe74a2",
       "version_major": 2,
       "version_minor": 0
      },
      "text/plain": [
       "interactive(children=(IntSlider(value=39, description='num', max=78), Button(description='Run Interact', style…"
      ]
     },
     "metadata": {},
     "output_type": "display_data"
    }
   ],
   "source": [
    "@interact_manual\n",
    "def showSttcs(num=(0,len(sttcs_corr)-1)):\n",
    "    plt.plot( sttcs_corr[num] )"
   ]
  },
  {
   "cell_type": "code",
   "execution_count": null,
   "id": "c26e8bc0",
   "metadata": {
    "hidden": true
   },
   "outputs": [],
   "source": [
    "#lags_corr\n",
    "#pairs_corr"
   ]
  },
  {
   "cell_type": "markdown",
   "id": "91f559c0",
   "metadata": {
    "hidden": true
   },
   "source": [
    "get lags to all be positive, switch pairs accordingly"
   ]
  },
  {
   "cell_type": "code",
   "execution_count": 34,
   "id": "3c193ef7",
   "metadata": {
    "hidden": true
   },
   "outputs": [],
   "source": [
    "for i in np.where( lags_corr <0 )[0]:\n",
    "    pairs_corr[i] =  [ pairs_corr[i][1], pairs_corr[i][0] ]\n",
    "lags_corr = np.abs(lags_corr)"
   ]
  },
  {
   "cell_type": "markdown",
   "id": "fb559769",
   "metadata": {
    "hidden": true
   },
   "source": [
    "plot latency analysis for single pair"
   ]
  },
  {
   "cell_type": "code",
   "execution_count": 24,
   "id": "69255eb0",
   "metadata": {
    "hidden": true
   },
   "outputs": [
    {
     "data": {
      "application/vnd.jupyter.widget-view+json": {
       "model_id": "f3ae306717f646a79886217535e8853b",
       "version_major": 2,
       "version_minor": 0
      },
      "text/plain": [
       "interactive(children=(IntSlider(value=39, description='num', max=78), Button(description='Run Interact', style…"
      ]
     },
     "metadata": {},
     "output_type": "display_data"
    }
   ],
   "source": [
    "@interact_manual(num=(0,len(pairs_corr)-1))\n",
    "def analyzePair(num):\n",
    "    plotPairAnalysis( pairs_corr[num][0], pairs_corr[num][1], sd)"
   ]
  },
  {
   "cell_type": "markdown",
   "id": "21ef7bec",
   "metadata": {},
   "source": [
    "# Analyze Instant Firing Rate"
   ]
  },
  {
   "cell_type": "markdown",
   "id": "e9c5b127",
   "metadata": {},
   "source": [
    "calculate all cross correlations"
   ]
  },
  {
   "cell_type": "code",
   "execution_count": 115,
   "id": "8a99aed2",
   "metadata": {},
   "outputs": [],
   "source": [
    "smoothing = 30\n",
    "max_isi = 0.035"
   ]
  },
  {
   "cell_type": "code",
   "execution_count": 116,
   "id": "43d9554b",
   "metadata": {},
   "outputs": [
    {
     "name": "stdout",
     "output_type": "stream",
     "text": [
      "100\n",
      "200\n",
      "300\n"
     ]
    }
   ],
   "source": [
    "lags_ifr = []\n",
    "count = 0\n",
    "for pair in pairs:\n",
    "    count +=1 \n",
    "    if count%100 ==0:\n",
    "        print(count)\n",
    "    instant_n1 = movingAverage( instantFiringRate( sd, pair[0], max_isi= max_isi), smoothing) #,max_isi=0.1) , 12)\n",
    "    instant_n2 = movingAverage( instantFiringRate( sd, pair[1], max_isi= max_isi), smoothing) #,max_isi=0.1) , 12)\n",
    "    lags_ifr.append( maxCorrelationShift( instant_n1, instant_n2 ) )"
   ]
  },
  {
   "cell_type": "markdown",
   "id": "9f3935db",
   "metadata": {},
   "source": [
    "Get all correlations between 2-10ms"
   ]
  },
  {
   "cell_type": "code",
   "execution_count": 117,
   "id": "fb5259ac",
   "metadata": {},
   "outputs": [
    {
     "data": {
      "text/plain": [
       "36"
      ]
     },
     "execution_count": 117,
     "metadata": {},
     "output_type": "execute_result"
    }
   ],
   "source": [
    "lag_cutoff = 15\n",
    "to_keep = np.where((np.abs(lags_ifr)< lag_cutoff) & (np.abs(lags_ifr)> 1) & (lags_ifr!=0) )[0]\n",
    "len(to_keep)"
   ]
  },
  {
   "cell_type": "code",
   "execution_count": 118,
   "id": "e3c6f7c6",
   "metadata": {},
   "outputs": [],
   "source": [
    "pairs_ifr = np.array(pairs)[ to_keep ] \n",
    "lags_ifr = np.array(lags_ifr)[to_keep]"
   ]
  },
  {
   "cell_type": "code",
   "execution_count": 40,
   "id": "b06db113",
   "metadata": {},
   "outputs": [
    {
     "ename": "NameError",
     "evalue": "name 'max_isi' is not defined",
     "output_type": "error",
     "traceback": [
      "\u001b[0;31m---------------------------------------------------------------------------\u001b[0m",
      "\u001b[0;31mNameError\u001b[0m                                 Traceback (most recent call last)",
      "\u001b[1;32m/workspaces/human_hippocampus/dev/elliott/Cross_Correlation/arrow_graph.ipynb Cell 52\u001b[0m line \u001b[0;36m2\n\u001b[1;32m      <a href='vscode-notebook-cell://codespaces%2Borganic-guide-77vwxvrpx5rcrjrv/workspaces/human_hippocampus/dev/elliott/Cross_Correlation/arrow_graph.ipynb#Y103sdnNjb2RlLXJlbW90ZQ%3D%3D?line=0'>1</a>\u001b[0m \u001b[39m#print(f\"Delta: 30, Lag_Cutoff: 10\")\u001b[39;00m\n\u001b[0;32m----> <a href='vscode-notebook-cell://codespaces%2Borganic-guide-77vwxvrpx5rcrjrv/workspaces/human_hippocampus/dev/elliott/Cross_Correlation/arrow_graph.ipynb#Y103sdnNjb2RlLXJlbW90ZQ%3D%3D?line=1'>2</a>\u001b[0m \u001b[39mprint\u001b[39m(\u001b[39mf\u001b[39m\u001b[39m\"\u001b[39m\u001b[39mmax_isi: \u001b[39m\u001b[39m{\u001b[39;00mmax_isi\u001b[39m}\u001b[39;00m\u001b[39m, Smoothing: \u001b[39m\u001b[39m{\u001b[39;00msmoothing\u001b[39m}\u001b[39;00m\u001b[39m, Lag_Cutoff: \u001b[39m\u001b[39m{\u001b[39;00mlag_cutoff\u001b[39m}\u001b[39;00m\u001b[39m\"\u001b[39m)\n\u001b[1;32m      <a href='vscode-notebook-cell://codespaces%2Borganic-guide-77vwxvrpx5rcrjrv/workspaces/human_hippocampus/dev/elliott/Cross_Correlation/arrow_graph.ipynb#Y103sdnNjb2RlLXJlbW90ZQ%3D%3D?line=2'>3</a>\u001b[0m plotLagsLayout(sd, lags_ifr, pairs_ifr)\n",
      "\u001b[0;31mNameError\u001b[0m: name 'max_isi' is not defined"
     ]
    }
   ],
   "source": [
    "#print(f\"Delta: 30, Lag_Cutoff: 10\")\n",
    "print(f\"max_isi: {max_isi}, Smoothing: {smoothing}, Lag_Cutoff: {lag_cutoff}\")\n",
    "plotLagsLayout(sd, lags_ifr, pairs_ifr)"
   ]
  },
  {
   "cell_type": "markdown",
   "id": "46fc979f",
   "metadata": {},
   "source": [
    "make all lags positive, switch values in pair when needed"
   ]
  },
  {
   "cell_type": "code",
   "execution_count": 121,
   "id": "64dee575",
   "metadata": {},
   "outputs": [],
   "source": [
    "for i in np.where( lags_ifr <0 )[0]:\n",
    "    pairs_ifr[i] =  [ pairs_ifr[i][1], pairs_ifr[i][0] ]\n",
    "lags_corr = np.abs(lags_ifr)"
   ]
  },
  {
   "cell_type": "markdown",
   "id": "0409cda3",
   "metadata": {},
   "source": [
    "Analyze latencies"
   ]
  },
  {
   "cell_type": "code",
   "execution_count": 22,
   "id": "640c16ba",
   "metadata": {},
   "outputs": [
    {
     "ename": "NameError",
     "evalue": "name 'pairs_ifr' is not defined",
     "output_type": "error",
     "traceback": [
      "\u001b[0;31m---------------------------------------------------------------------------\u001b[0m",
      "\u001b[0;31mNameError\u001b[0m                                 Traceback (most recent call last)",
      "\u001b[1;32m/workspaces/human_hippocampus/dev/elliott/Cross_Correlation/arrow_graph.ipynb Cell 68\u001b[0m line \u001b[0;36m1\n\u001b[0;32m----> <a href='vscode-notebook-cell://codespaces%2Borganic-guide-77vwxvrpx5rcrjrv/workspaces/human_hippocampus/dev/elliott/Cross_Correlation/arrow_graph.ipynb#Y124sdnNjb2RlLXJlbW90ZQ%3D%3D?line=0'>1</a>\u001b[0m \u001b[39m@interact_manual\u001b[39m(num\u001b[39m=\u001b[39m(\u001b[39m0\u001b[39m,\u001b[39mlen\u001b[39m(pairs_ifr)\u001b[39m-\u001b[39m\u001b[39m1\u001b[39m))\n\u001b[1;32m      <a href='vscode-notebook-cell://codespaces%2Borganic-guide-77vwxvrpx5rcrjrv/workspaces/human_hippocampus/dev/elliott/Cross_Correlation/arrow_graph.ipynb#Y124sdnNjb2RlLXJlbW90ZQ%3D%3D?line=1'>2</a>\u001b[0m \u001b[39mdef\u001b[39;00m \u001b[39manalyzePair\u001b[39m(num):\n\u001b[1;32m      <a href='vscode-notebook-cell://codespaces%2Borganic-guide-77vwxvrpx5rcrjrv/workspaces/human_hippocampus/dev/elliott/Cross_Correlation/arrow_graph.ipynb#Y124sdnNjb2RlLXJlbW90ZQ%3D%3D?line=2'>3</a>\u001b[0m     plotPairAnalysis( pairs_ifr[num][\u001b[39m0\u001b[39m], pairs_ifr[num][\u001b[39m1\u001b[39m], sd)\n",
      "\u001b[0;31mNameError\u001b[0m: name 'pairs_ifr' is not defined"
     ]
    }
   ],
   "source": [
    "@interact_manual(num=(0,len(pairs_ifr)-1))\n",
    "def analyzePair(num):\n",
    "    plotPairAnalysis( pairs_ifr[num][0], pairs_ifr[num][1], sd)"
   ]
  },
  {
   "cell_type": "markdown",
   "id": "3d66c7e4",
   "metadata": {},
   "source": [
    "# Create Direction Raster"
   ]
  },
  {
   "cell_type": "markdown",
   "id": "240c9ec3",
   "metadata": {},
   "source": [
    "Create a pickle file of each time an arrow \"fires\""
   ]
  },
  {
   "cell_type": "code",
   "execution_count": 87,
   "id": "7274d2e7",
   "metadata": {},
   "outputs": [],
   "source": [
    "latency_times = {}\n",
    "for pair in pairs_corr:\n",
    "    #latency_times[ (pair[0],pair[1]) ] = getLatencyTimes( pair[0], pair[1], sd, ms_cutoff=15, directed=False)\n",
    "    latency_times[ (pair[0],pair[1]) ] =  getLatencyTimes( pair[0], pair[1], sd, ms_cutoff=15, directed=True )"
   ]
  },
  {
   "cell_type": "code",
   "execution_count": 88,
   "id": "1afdd0b2",
   "metadata": {},
   "outputs": [],
   "source": [
    "file = open('/home/jovyan/work/Human_Hippocampus/2023_04_02_directed_latency_times_3.pkl', 'wb')\n",
    "pickle.dump(latency_times, file)\n",
    "file.close()\n"
   ]
  },
  {
   "cell_type": "code",
   "execution_count": 34,
   "id": "d8fe55d1",
   "metadata": {},
   "outputs": [
    {
     "data": {
      "text/plain": [
       "{(0,\n",
       "  1): array([  2414.65,  19076.05,  19724.8 ,  24450.55,  25065.4 ,  25552.45,\n",
       "         25775.45,  42421.5 ,  42461.45,  46608.7 ,  57111.5 ,  57495.7 ,\n",
       "         78883.65,  83958.55,  84205.4 ,  85694.25,  89732.2 ,  97890.4 ,\n",
       "        100781.55, 101212.35, 103063.45, 103196.1 , 105328.4 , 107400.25,\n",
       "        108520.9 , 110621.1 , 112094.55, 112254.05, 117964.55, 118491.1 ,\n",
       "        122040.35, 122658.4 , 122716.95, 125142.55, 125560.75, 129700.35,\n",
       "        130041.45, 132366.  , 132935.5 , 134125.2 , 137563.25, 138486.4 ,\n",
       "        141534.65, 142580.7 , 143319.75, 148542.4 , 149791.9 , 153508.7 ,\n",
       "        154044.65, 157244.55, 160320.6 , 160778.65, 164581.8 , 165502.6 ,\n",
       "        167053.3 , 167093.2 , 170508.05, 171020.75, 172312.8 , 185571.7 ,\n",
       "        186287.9 , 188262.  , 188578.6 , 189174.65, 192442.65, 195522.55,\n",
       "        201414.25, 203483.3 , 204426.95, 206272.5 , 206864.6 , 208935.05,\n",
       "        212007.85, 212591.15, 213647.25, 217212.45, 219805.5 , 220097.7 ,\n",
       "        227016.3 , 229124.5 , 233388.4 , 250638.95, 253936.  , 268827.15,\n",
       "        269952.55, 276291.55, 295242.5 , 298053.35, 312893.05, 316452.35,\n",
       "        327314.4 , 332414.85, 368203.1 , 369196.6 , 370236.8 ]),\n",
       " (0,\n",
       "  6): array([ 25775.45,  36126.6 ,  39020.15,  51577.85,  60153.55,  63460.2 ,\n",
       "         71294.85,  83186.75,  84003.15,  85449.95,  85622.8 ,  85985.7 ,\n",
       "         93977.3 , 107824.75, 108520.9 , 110264.  , 122658.4 , 129860.25,\n",
       "        130041.45, 130366.3 , 130795.25, 133635.2 , 140664.65, 142217.45,\n",
       "        143603.45, 145711.45, 148542.4 , 150505.8 , 152545.35, 163228.3 ,\n",
       "        167053.3 , 169740.8 , 178355.95, 186287.9 , 188262.  , 193931.85,\n",
       "        194708.5 , 195522.55, 208276.75, 208897.85, 212527.6 , 222285.25,\n",
       "        236412.95, 238267.95, 241581.75, 259142.35, 260476.55, 262124.  ,\n",
       "        311426.15]),\n",
       " (1,\n",
       "  62): array([ 58469.75, 102036.4 , 106384.55, 111870.65, 112103.8 , 112934.1 ,\n",
       "        113908.55, 129905.2 , 134138.85, 134630.45, 136748.5 , 138100.95,\n",
       "        140047.95, 145693.05, 146063.45, 146242.35, 149793.75, 171772.85,\n",
       "        174283.65, 174779.25, 174779.45, 183118.25, 192454.7 , 226176.95,\n",
       "        229763.4 , 237493.7 , 243197.85, 245528.55, 254574.6 , 301426.25,\n",
       "        331054.8 , 362186.95, 372183.8 ]),\n",
       " (1,\n",
       "  121): array([  2421.7 ,   3168.7 ,   5650.1 ,  49327.6 ,  52301.25,  53432.55,\n",
       "         55676.4 ,  76965.6 ,  77850.95,  78234.15,  78781.35,  81025.85,\n",
       "         81460.  ,  81857.15,  86332.65,  90366.7 ,  93252.2 ,  95952.6 ,\n",
       "         97149.2 , 104416.6 , 107845.85, 113533.3 , 119179.95, 121045.9 ,\n",
       "        123912.7 , 137030.85, 153318.9 , 153993.35, 163714.35, 178932.95,\n",
       "        181671.3 , 195172.7 , 206874.95, 211142.2 , 221436.1 , 225525.85,\n",
       "        228823.2 , 232312.25, 234983.8 , 237203.55, 239363.  , 243691.15,\n",
       "        270692.  , 278207.  , 292835.75, 310949.45, 327433.7 , 335527.7 ,\n",
       "        353904.35, 373590.7 , 382552.55]),\n",
       " (1,\n",
       "  137): array([ 25561.25,  25777.95,  35407.8 ,  37315.85,  42482.55,  49831.3 ,\n",
       "         56249.85,  68084.  ,  68789.  ,  77474.7 ,  78886.5 ,  79714.9 ,\n",
       "         85125.05,  87199.3 ,  91245.65,  94848.2 ,  98141.25, 100783.85,\n",
       "        101213.1 , 118505.25, 119736.  , 124100.7 , 125034.4 , 126406.3 ,\n",
       "        128769.3 , 135169.2 , 137577.05, 140047.95, 147689.25, 148270.25,\n",
       "        150547.8 , 151324.95, 163714.35, 165504.85, 167073.85, 167082.05,\n",
       "        170447.65, 171991.15, 186302.85, 186714.7 , 192671.85, 194323.4 ,\n",
       "        194733.8 , 210226.5 , 215369.65, 241568.4 , 250977.1 , 275092.1 ,\n",
       "        275795.9 , 287163.05, 294516.1 , 295778.05, 314640.05, 325641.95,\n",
       "        355452.55, 367089.6 , 370241.55, 373377.95]),\n",
       " (4,\n",
       "  10): array([ 45583.5 ,  59619.95,  60168.35,  60327.15,  74310.8 ,  75714.7 ,\n",
       "         76745.4 ,  85677.8 , 121605.55, 124257.4 , 170026.55, 174779.25,\n",
       "        184188.65, 184617.7 , 185585.1 , 186299.4 , 203717.95, 218590.2 ,\n",
       "        238681.05, 269230.5 ]),\n",
       " (4,\n",
       "  137): array([ 25312.4 ,  30062.95,  31053.6 ,  32167.85,  44931.45,  72688.1 ,\n",
       "         80582.2 , 101151.1 , 110750.85, 113891.7 , 123116.2 , 132770.6 ,\n",
       "        140041.95, 149395.75, 159367.9 , 162616.25, 169785.55, 171868.25,\n",
       "        184989.85, 186299.4 , 186303.  , 186570.15, 219498.15, 268857.3 ,\n",
       "        269458.2 , 309734.8 , 311259.3 ]),\n",
       " (5,\n",
       "  63): array([  1602.05,  15120.3 ,  29347.9 ,  42004.05,  53030.9 ,  70178.6 ,\n",
       "         70896.6 ,  75983.75,  96111.8 , 117154.75, 134419.6 , 153400.5 ,\n",
       "        164971.55, 167553.95, 171094.75, 175505.95, 192018.8 , 195328.15,\n",
       "        230101.4 , 263926.45, 266287.1 , 273908.95, 281377.65, 285929.55,\n",
       "        309011.5 , 315983.65, 319496.75, 339047.7 , 358429.05, 366887.95,\n",
       "        369607.75, 370714.7 ]),\n",
       " (6,\n",
       "  32): array([101318.4 , 110669.35, 129190.65, 140670.15, 145212.45, 146721.6 ,\n",
       "        157216.55, 162287.6 , 166547.6 , 166551.7 , 167053.85, 185600.85,\n",
       "        217894.25]),\n",
       " (8, 87): array([], dtype=float64),\n",
       " (9,\n",
       "  11): array([ 15857.6 ,  54456.75,  60219.85,  66477.2 ,  70290.35,  71584.2 ,\n",
       "         82005.3 ,  82792.5 ,  95901.3 ,  97370.45,  98357.9 ,  99125.1 ,\n",
       "        111412.35, 111492.3 , 112082.85, 112167.7 , 122696.65, 124531.95,\n",
       "        134349.55, 142989.25, 144581.  , 144642.55, 149455.35, 150432.4 ,\n",
       "        154948.3 , 160421.75, 161776.25, 167571.15, 168034.75, 169260.9 ,\n",
       "        170442.5 , 172940.8 , 184581.8 , 190967.1 , 191308.  , 208587.35,\n",
       "        212330.6 , 213027.45, 219838.35, 225704.  , 227142.9 , 228900.85,\n",
       "        233667.45, 238928.1 , 257483.5 , 259899.  , 268382.4 , 286728.7 ,\n",
       "        293909.3 , 301578.9 , 309112.55, 358371.85]),\n",
       " (9, 32): array([213027.45, 219780.55, 309112.55]),\n",
       " (9,\n",
       "  62): array([ 58465.65,  60993.35,  72604.3 ,  80625.75,  89296.1 , 100394.8 ,\n",
       "        102036.55, 103709.25, 105372.6 , 110650.95, 112082.85, 112167.7 ,\n",
       "        112583.1 , 113901.5 , 122213.45, 131721.1 , 147731.05, 148799.8 ,\n",
       "        155618.95, 177308.35, 186143.9 , 208996.85, 208998.55, 216778.2 ,\n",
       "        217935.2 , 219659.55, 231066.45, 238679.75, 309112.55, 358371.85,\n",
       "        362185.6 ]),\n",
       " (9,\n",
       "  90): array([ 25623.35,  72641.8 , 119949.55, 149455.35, 152480.5 , 165256.7 ,\n",
       "        165903.2 , 182428.75, 209081.4 , 216108.3 , 220242.35, 235209.35,\n",
       "        309294.8 ]),\n",
       " (10,\n",
       "  41): array([ 82675.15, 139851.25, 153142.9 , 164776.3 , 218605.  , 218786.7 ,\n",
       "        228701.95, 298364.55, 356163.  ]),\n",
       " (10,\n",
       "  73): array([ 60170.65, 119879.75, 121613.15, 143345.55, 217917.9 , 226942.2 ]),\n",
       " (10,\n",
       "  113): array([ 29791.05,  45837.  ,  46570.25,  60335.3 , 170851.05, 187057.45,\n",
       "        218786.7 , 236851.7 , 270898.65, 310322.75]),\n",
       " (11,\n",
       "  13): array([  2070.8 ,  18285.25,  30962.6 ,  55080.65,  59668.5 ,  68335.2 ,\n",
       "         73858.8 ,  87944.  ,  92949.85,  93698.8 ,  94763.55, 100649.55,\n",
       "        104059.25, 110263.5 , 112172.05, 123720.25, 127452.3 , 129979.95,\n",
       "        133283.45, 135170.7 , 135767.2 , 142023.25, 145756.65, 154431.  ,\n",
       "        160423.85, 160943.65, 162091.  , 164570.2 , 166937.2 , 170285.3 ,\n",
       "        174778.3 , 184586.2 , 192716.1 , 193831.2 , 194193.15, 195526.15,\n",
       "        210617.5 , 214841.75, 216422.85, 233544.75, 234258.95, 238940.35,\n",
       "        238942.45, 239727.  , 267622.  , 268027.85, 279100.55, 279946.65,\n",
       "        281425.7 , 306971.65, 310545.2 , 310873.15, 314867.45, 323116.85,\n",
       "        334873.7 ]),\n",
       " (13,\n",
       "  32): array([137974.15, 153506.8 , 161866.4 , 162663.5 , 192717.2 , 220979.75]),\n",
       " (20,\n",
       "  121): array([  1842.3 ,   9177.85,   9507.8 ,  12752.75,  14084.45,  22932.45,\n",
       "         30862.95,  33993.25,  34632.8 ,  38201.55,  39067.6 ,  44780.35,\n",
       "         47194.6 ,  47799.35,  48357.05,  53430.1 ,  54551.45,  55156.85,\n",
       "         55683.25,  56738.2 ,  57370.45,  59742.85,  60108.15,  60483.25,\n",
       "         62469.55,  66577.05,  83104.5 ,  87227.35,  87524.1 ,  89621.7 ,\n",
       "         90370.05,  90605.45,  92479.75,  93921.8 ,  96273.35,  99352.75,\n",
       "        103568.15, 106716.  , 110704.4 , 116173.95, 117161.85, 119316.3 ,\n",
       "        122018.4 , 124162.7 , 132718.1 , 143031.1 , 144860.95, 146108.75,\n",
       "        147094.3 , 148068.  , 148386.75, 149297.45, 150269.25, 151488.25,\n",
       "        153998.25, 154401.8 , 155541.85, 155763.55, 158491.7 , 161072.45,\n",
       "        161361.1 , 161789.8 , 163720.05, 165215.85, 167643.  , 168006.9 ,\n",
       "        172648.45, 173975.25, 175401.4 , 178941.7 , 181667.4 , 183085.6 ,\n",
       "        183485.35, 183740.25, 184970.6 , 187750.3 , 190415.  , 191086.75,\n",
       "        192990.25, 193851.75, 218059.6 , 223555.1 , 224669.4 , 227619.15,\n",
       "        227956.05, 228823.  , 229460.  , 230082.25, 230532.5 , 233586.85,\n",
       "        234482.25, 241063.25, 241743.4 , 247237.25, 249755.75, 254613.1 ,\n",
       "        259626.9 , 261437.25, 261834.6 , 262224.05, 262672.8 , 269655.55,\n",
       "        270697.7 , 272859.15, 273271.75, 275456.4 , 279523.6 , 282279.9 ,\n",
       "        286574.25, 287410.15, 289001.  , 289326.3 , 329593.45, 333955.4 ,\n",
       "        334363.95, 336568.05, 337333.5 , 339596.65, 345349.75, 345973.  ,\n",
       "        353665.5 , 354682.65, 355904.7 , 356413.5 , 357611.9 , 359395.  ,\n",
       "        360099.1 , 362990.3 , 364133.05, 364357.7 , 368043.15, 369192.45,\n",
       "        369500.95, 369725.2 , 372179.3 , 373038.6 , 373365.55, 375553.25]),\n",
       " (23,\n",
       "  46): array([ 49383.85,  53847.65,  59804.1 ,  65256.4 ,  77732.1 ,  78398.5 ,\n",
       "         83596.4 ,  84021.85,  84023.1 ,  84926.1 ,  90474.7 ,  93900.4 ,\n",
       "         95908.05, 102200.7 , 112265.2 , 113378.65, 117978.65, 117983.35,\n",
       "        124420.25, 125777.35, 133311.4 , 134180.25, 136543.55, 139813.9 ,\n",
       "        142315.5 , 142801.2 , 147381.85, 147694.05, 149383.35, 149561.75,\n",
       "        152724.85, 156488.05, 160824.05, 162235.2 , 168109.05, 168506.8 ,\n",
       "        170469.65, 175479.7 , 175928.85, 176837.95, 177251.65, 181933.9 ,\n",
       "        183444.35, 183853.  , 186286.05, 186298.9 , 186770.8 , 188153.95,\n",
       "        190443.65, 191398.05, 192673.55, 195236.2 , 202745.75, 208942.75,\n",
       "        215382.9 , 218103.55, 218590.  , 219689.05, 225097.5 , 227109.45,\n",
       "        227514.15, 228432.15, 228989.1 , 237531.05, 243215.15, 245522.05,\n",
       "        247128.95, 255997.15, 261035.1 , 261039.35, 261757.55, 271727.3 ,\n",
       "        282853.95, 287169.55, 309163.  , 309679.1 , 339669.7 , 340190.55]),\n",
       " (23,\n",
       "  48): array([ 31913.6 ,  33055.8 ,  48233.8 ,  71348.9 ,  80638.8 ,  91280.3 ,\n",
       "         93944.25, 111541.75, 112265.2 , 118770.65, 119257.5 , 121030.1 ,\n",
       "        126190.2 , 131320.35, 133277.75, 133653.65, 136469.35, 140037.55,\n",
       "        151381.  , 152401.75, 154444.35, 163711.6 , 173100.5 , 184107.25,\n",
       "        186027.45, 186286.05, 195918.2 , 207375.3 , 214800.2 , 215335.65,\n",
       "        215900.45, 216599.1 , 219028.  , 238004.75, 250715.  , 252593.5 ]),\n",
       " (23,\n",
       "  71): array([ 33055.8 ,  56681.5 ,  80234.25,  83336.8 ,  83596.4 ,  91324.6 ,\n",
       "        101216.35, 102554.5 , 104785.9 , 108724.35, 110468.4 , 117978.65,\n",
       "        117983.35, 122165.  , 130533.6 , 134946.2 , 138490.35, 138975.45,\n",
       "        165802.9 , 166749.15, 180333.4 , 183735.6 , 187943.35, 204089.05,\n",
       "        213964.85, 219225.15, 219231.45, 226320.3 , 233337.5 , 243215.15,\n",
       "        250894.9 , 255997.15, 259679.25, 260204.3 ]),\n",
       " (23,\n",
       "  85): array([ 87275.8 , 103251.75, 109160.15, 109633.9 , 131419.55, 132489.65,\n",
       "        140327.15, 142057.45, 143391.85, 148625.65, 150078.45, 159590.2 ,\n",
       "        161437.3 , 176271.05, 182860.1 , 185576.55, 209869.55, 215900.45,\n",
       "        219756.15, 228958.85, 246751.95, 259414.95, 282687.6 ]),\n",
       " (24,\n",
       "  41): array([  2402.15,  91257.85,  94512.1 , 103260.1 , 108115.45, 108502.9 ,\n",
       "        121041.4 , 121313.1 , 142636.85, 159592.05, 185173.5 , 188209.45,\n",
       "        194928.1 , 196946.2 , 201801.75, 201813.9 , 206554.  , 250215.7 ,\n",
       "        269100.3 , 283211.5 ]),\n",
       " (27,\n",
       "  109): array([  4072.3 ,  32825.35,  41054.05,  43061.2 ,  56451.2 ,  56931.55,\n",
       "         58350.05,  65608.9 ,  66719.85,  72493.15, 100543.35, 101524.6 ,\n",
       "        117492.6 , 125593.35, 131261.1 , 135809.55, 161773.15, 169654.2 ,\n",
       "        171528.  , 180370.15, 182284.15, 184653.5 , 215990.2 , 216416.35,\n",
       "        226916.55, 268136.4 , 309801.55, 322625.85, 331131.  , 331564.7 ,\n",
       "        378504.85]),\n",
       " (32, 39): array([146729.6 , 173059.05, 213030.45]),\n",
       " (32, 53): array([146729.6 , 173059.05, 213030.45]),\n",
       " (32,\n",
       "  117): array([ 85144.65, 145959.8 , 148286.3 , 160800.25, 161269.3 , 309120.7 ]),\n",
       " (33,\n",
       "  108): array([  6936.3 , 113499.7 , 159612.55, 213940.8 , 232192.95, 233664.2 ]),\n",
       " (41,\n",
       "  85): array([111588.6 , 131416.6 , 134209.5 , 150078.05, 158574.55, 163746.8 ,\n",
       "        166230.45, 166709.95, 205751.3 , 230129.75, 253308.65]),\n",
       " (43,\n",
       "  127): array([117959.4 , 134189.3 , 143363.45, 145942.2 , 158766.5 , 162577.4 ,\n",
       "        173491.55, 176037.6 , 213061.85, 214272.3 ]),\n",
       " (46,\n",
       "  62): array([ 16165.95, 112081.25, 119854.4 , 124424.95, 126604.3 , 143379.6 ,\n",
       "        145427.35, 151079.  , 157959.05, 174774.65, 178384.8 , 192346.75,\n",
       "        231061.5 , 238678.45, 245536.1 , 283212.  ]),\n",
       " (53,\n",
       "  134): array([ 14765.5 ,  41700.2 ,  42371.4 ,  78888.65,  91285.3 ,  91958.05,\n",
       "         94810.15, 110281.9 , 112590.1 , 124413.15, 125165.6 , 137914.8 ,\n",
       "        142340.7 , 157362.65, 183149.45, 185730.6 , 193481.4 , 233637.75,\n",
       "        235175.2 , 251073.5 , 251430.  , 269062.45, 278660.1 , 279523.65,\n",
       "        302505.95, 309278.05, 341929.9 , 347071.95]),\n",
       " (54,\n",
       "  62): array([ 46626.6 ,  68802.75,  90613.  ,  91819.75,  94031.95, 109154.35,\n",
       "        112089.5 , 113910.6 , 126611.6 , 145059.2 , 157961.45, 159297.95,\n",
       "        175167.35, 183323.4 , 186157.4 , 187536.2 , 238927.45, 256710.85,\n",
       "        260493.5 ]),\n",
       " (54,\n",
       "  130): array([ 25601.35,  43181.7 ,  81768.15,  90836.25,  91780.95, 118022.85,\n",
       "        120540.65, 130819.55, 131694.25, 141121.4 , 145031.35, 148765.7 ,\n",
       "        159922.1 , 160997.2 , 161759.95, 184005.4 , 185453.05, 191402.75,\n",
       "        211454.1 , 224216.75, 228411.  , 228882.3 , 243230.5 , 251440.15,\n",
       "        255440.5 , 258270.1 , 258270.45, 278155.45, 284706.1 , 326414.  ]),\n",
       " (56,\n",
       "  79): array([ 64712.  ,  75254.2 ,  97880.5 , 116575.4 , 142119.15, 154605.15,\n",
       "        181812.1 , 199964.3 , 205782.75, 210077.65, 212553.7 , 213107.6 ,\n",
       "        224019.  , 227077.4 , 233961.45, 250838.45, 250850.85, 288429.8 ,\n",
       "        309784.85, 319424.8 , 326507.2 , 337427.4 , 340733.25, 350377.  ,\n",
       "        350873.75, 372834.5 ]),\n",
       " (61, 73): array([120997.05, 134193.8 , 171066.2 ]),\n",
       " (61, 80): array([201385.65]),\n",
       " (61, 117): array([103351.85, 126754.45, 141122.5 ]),\n",
       " (71,\n",
       "  80): array([ 49670.4 ,  72647.9 ,  82968.15,  93927.8 , 101221.6 , 107776.45,\n",
       "        108733.35, 110480.  , 114282.45, 119868.1 , 130545.85, 138015.5 ,\n",
       "        148585.3 , 154439.85, 172275.  , 175884.  , 182928.85, 183396.3 ,\n",
       "        188319.4 , 219739.85, 229018.  , 310821.6 , 319468.45, 341079.1 ]),\n",
       " (71, 98): array([159460.9 , 165595.3 , 177210.15, 251357.85]),\n",
       " (71,\n",
       "  111): array([ 49670.4 ,  72647.9 ,  82968.15,  93927.8 , 101221.6 , 106415.05,\n",
       "        107776.45, 108733.35, 110480.  , 114282.45, 119868.1 , 120372.85,\n",
       "        130545.85, 138015.5 , 148585.3 , 154439.85, 156593.15, 172275.  ,\n",
       "        175884.  , 182928.85, 183396.3 , 185026.15, 188319.4 , 219739.85,\n",
       "        229018.  , 252221.  , 269924.15, 310821.6 , 319468.45, 341079.1 ]),\n",
       " (73,\n",
       "  127): array([ 81135.5 ,  84244.3 , 134197.8 , 143357.75, 145392.1 , 154453.2 ,\n",
       "        163620.35, 225070.5 ]),\n",
       " (79,\n",
       "  103): array([  1620.45,   1915.6 ,   3182.85,   4794.55,   9541.25,  13526.25,\n",
       "         14217.1 ,  15447.25,  16069.95,  22456.3 ,  23136.  ,  24530.1 ,\n",
       "         31530.5 ,  43034.75,  44230.6 ,  45028.95,  50676.15,  54610.4 ,\n",
       "         54703.4 ,  58174.55,  61207.8 ,  61792.6 ,  65398.55,  65935.4 ,\n",
       "         66600.2 ,  67486.7 ,  69956.15,  70643.85,  73280.65,  75269.2 ,\n",
       "         76282.85,  77647.45,  78334.7 ,  80004.85,  83175.4 ,  84254.55,\n",
       "         84951.6 ,  87235.3 ,  90096.5 ,  91787.25,  92092.75,  92556.8 ,\n",
       "         92786.55,  92944.6 ,  93454.4 ,  93933.3 ,  95043.  ,  95455.1 ,\n",
       "         97894.35,  98587.05,  99214.5 , 100036.  , 100530.85, 100633.6 ,\n",
       "        102343.2 , 102490.8 , 103861.  , 104544.05, 105936.4 , 106819.8 ,\n",
       "        106940.7 , 107609.3 , 107728.75, 107739.  , 108295.4 , 109093.4 ,\n",
       "        110416.15, 111228.15, 111963.15, 112685.35, 113363.8 , 115823.85,\n",
       "        116583.7 , 117030.35, 118963.05, 118966.6 , 119371.25, 119761.  ,\n",
       "        120285.65, 120989.  , 121172.35, 122163.  , 124053.05, 125185.7 ,\n",
       "        126884.4 , 129165.25, 130788.15, 131372.35, 132380.5 , 132613.9 ,\n",
       "        135152.1 , 135680.3 , 136537.25, 138037.9 , 139782.3 , 140537.35,\n",
       "        140822.2 , 141346.55, 141477.25, 143579.7 , 144095.5 , 145705.95,\n",
       "        146166.  , 148477.5 , 148546.55, 149752.5 , 149815.1 , 149899.7 ,\n",
       "        150359.85, 150365.25, 150685.05, 151442.85, 151951.8 , 152211.35,\n",
       "        153409.5 , 154582.45, 156540.1 , 156934.6 , 158584.1 , 159385.3 ,\n",
       "        160552.7 , 160756.95, 162173.  , 164909.45, 165211.3 , 165490.95,\n",
       "        166087.1 , 166720.05, 167043.5 , 167560.65, 167995.5 , 169491.45,\n",
       "        169939.35, 171206.85, 171893.05, 173568.85, 174155.6 , 174378.7 ,\n",
       "        175881.75, 176765.2 , 176884.55, 177448.25, 178280.35, 180325.55,\n",
       "        180456.55, 182048.15, 182980.15, 183383.55, 184052.5 , 184313.65,\n",
       "        184647.7 , 186904.8 , 188199.7 , 191465.7 , 191661.15, 191665.3 ,\n",
       "        194583.35, 195156.7 , 195905.6 , 196947.55, 197644.95, 199977.1 ,\n",
       "        200344.65, 201192.7 , 201746.6 , 202842.7 , 202967.7 , 203478.4 ,\n",
       "        205796.2 , 206059.4 , 208869.65, 208921.15, 209282.45, 210083.05,\n",
       "        210349.75, 211153.75, 211363.1 , 212103.8 , 213710.65, 213713.75,\n",
       "        213907.85, 214963.35, 215355.9 , 215840.55, 217742.1 , 218761.4 ,\n",
       "        218770.95, 219079.8 , 219376.55, 220786.9 , 220789.7 , 221833.7 ,\n",
       "        222033.85, 222560.25, 223104.4 , 225102.05, 225599.8 , 225767.35,\n",
       "        226283.35, 226669.5 , 226982.4 , 227645.35, 228394.7 , 228581.25,\n",
       "        228909.8 , 229696.6 , 230085.2 , 230307.25, 230623.  , 232037.6 ,\n",
       "        232111.9 , 232494.8 , 233338.4 , 233632.6 , 233705.  , 234722.8 ,\n",
       "        234980.9 , 235478.4 , 236382.65, 239775.95, 243878.1 , 244309.3 ,\n",
       "        249715.7 , 250338.3 , 250671.55, 251244.6 , 251353.  , 252806.05,\n",
       "        252812.4 , 255968.55, 257277.4 , 258108.8 , 259370.25, 262884.6 ,\n",
       "        267926.7 , 268915.2 , 268981.25, 269101.55, 269219.9 , 270686.35,\n",
       "        278280.25, 280315.85, 282077.8 , 282586.95, 285554.4 , 286880.3 ,\n",
       "        287076.85, 288408.5 , 289197.95, 289298.9 , 289393.95, 290783.  ,\n",
       "        291186.65, 293714.35, 294120.95, 296148.75, 296838.1 , 297145.15,\n",
       "        297964.05, 298292.35, 298573.65, 299008.5 , 299400.  , 299675.95,\n",
       "        300107.95, 305156.45, 305706.3 , 306507.05, 307162.1 , 308929.95,\n",
       "        309024.95, 310172.85, 310955.85, 311532.55, 311749.65, 313784.  ,\n",
       "        313968.65, 314279.45, 315319.75, 316371.15, 316959.05, 317522.15,\n",
       "        317940.5 , 318483.35, 319431.35, 319768.25, 320739.05, 321615.15,\n",
       "        322615.4 , 322986.75, 323959.1 , 325039.7 , 326216.65, 326522.1 ,\n",
       "        327479.85, 329007.6 , 331931.55, 334256.55, 336855.8 , 337331.35,\n",
       "        337741.3 , 337852.4 , 337973.75, 340734.15, 342810.2 , 343278.55,\n",
       "        345356.3 , 345976.1 , 350333.45, 357645.4 , 357863.75, 358912.45,\n",
       "        363137.95, 364313.6 , 364388.5 , 369702.3 , 372399.15, 372840.4 ,\n",
       "        375688.75, 376179.05, 381912.85, 382940.75, 383300.5 ]),\n",
       " (114,\n",
       "  127): array([  2420.7 ,  11522.75,  24632.3 ,  25565.2 ,  26735.25,  31040.6 ,\n",
       "         32187.65,  33666.55,  35860.6 ,  41160.85,  46560.95,  47995.7 ,\n",
       "         48571.7 ,  51598.55,  53817.5 ,  53966.25,  56235.5 ,  60172.4 ,\n",
       "         68133.9 ,  72185.1 ,  77464.95,  81858.8 ,  83200.35,  84003.4 ,\n",
       "         87134.2 ,  94572.3 ,  96948.05,  97206.8 ,  98315.8 ,  99140.05,\n",
       "        101218.75, 106936.45, 107829.5 , 112114.85, 113305.25, 115797.65,\n",
       "        119306.45, 121030.8 , 124412.65, 125167.25, 127988.3 , 128411.75,\n",
       "        129331.1 , 131695.7 , 142268.4 , 143637.15, 147705.3 , 148019.6 ,\n",
       "        148306.3 , 150157.55, 151050.45, 153122.85, 155238.85, 162205.3 ,\n",
       "        164768.2 , 166195.5 , 166822.9 , 167120.95, 169764.65, 172001.9 ,\n",
       "        174781.1 , 177251.65, 179473.2 , 180511.75, 180755.35, 184351.1 ,\n",
       "        185119.85, 190062.1 , 192672.1 , 194363.5 , 195222.35, 195475.  ,\n",
       "        196541.65, 201867.05, 202743.35, 206283.2 , 208598.35, 208934.3 ,\n",
       "        213681.9 , 214846.75, 215369.75, 226380.45, 229015.2 , 232501.2 ,\n",
       "        243217.  , 245107.05, 246772.5 , 248911.05, 263001.25, 266851.15,\n",
       "        267501.9 , 268186.95, 274790.05, 283220.3 , 285147.35, 285963.5 ,\n",
       "        293777.  , 299636.05, 302551.9 , 317603.15, 323284.25, 328042.75,\n",
       "        330462.  , 365457.25, 366625.1 , 368076.85, 370832.55, 372488.1 ,\n",
       "        384750.8 ]),\n",
       " (121,\n",
       "  137): array([  3178.45,  15622.5 ,  25549.05,  53440.85,  63391.6 ,  64045.7 ,\n",
       "         84672.7 ,  86781.55,  92484.05,  99179.5 , 100193.25, 105303.8 ,\n",
       "        108726.  , 116543.25, 116920.5 , 120281.85, 125034.35, 126888.  ,\n",
       "        130340.1 , 130841.8 , 134531.35, 138425.9 , 140534.35, 141340.75,\n",
       "        142542.9 , 149061.7 , 159444.05, 166540.25, 171862.7 , 176894.05,\n",
       "        183098.1 , 213902.25, 217096.45, 228390.75, 231577.55, 232763.2 ,\n",
       "        237387.25, 259112.9 , 283203.3 , 287158.5 , 308927.65, 314634.4 ,\n",
       "        317927.35, 321436.65, 324642.2 , 341015.9 , 384757.2 ]),\n",
       " (134,\n",
       "  139): array([  2263.5 ,  19089.05,  40025.75,  52045.15,  80390.05, 111544.75,\n",
       "        112110.6 , 120127.75, 137917.5 , 137920.45, 139389.7 , 182960.15,\n",
       "        222190.4 , 224337.75, 225875.05, 233835.85, 234047.35, 237775.9 ,\n",
       "        255572.1 , 341506.1 ])}"
      ]
     },
     "execution_count": 34,
     "metadata": {},
     "output_type": "execute_result"
    }
   ],
   "source": [
    "#latency_times"
   ]
  },
  {
   "cell_type": "code",
   "execution_count": null,
   "id": "b95f9c5e",
   "metadata": {},
   "outputs": [],
   "source": []
  },
  {
   "cell_type": "code",
   "execution_count": null,
   "id": "911728e4",
   "metadata": {},
   "outputs": [],
   "source": []
  },
  {
   "cell_type": "markdown",
   "id": "2c5d8817",
   "metadata": {
    "heading_collapsed": true
   },
   "source": [
    "# <font color=\"brown\">Safety Code"
   ]
  },
  {
   "cell_type": "raw",
   "id": "cbf553cb",
   "metadata": {
    "code_folding": [],
    "hidden": true
   },
   "source": [
    "def _sttc_ta(tA, delt, tmax):\n",
    "    '''\n",
    "    Helper function for spike time tiling coefficients: calculate the\n",
    "    total amount of time within a range delt of spikes within the\n",
    "    given sorted list of spike times tA.\n",
    "    '''\n",
    "    if len(tA) == 0:\n",
    "        return 0\n",
    "\n",
    "    base = min(delt, tA[0]) + min(delt, tmax - tA[-1])\n",
    "    return base + np.minimum(np.diff(tA), 2*delt).sum()\n",
    "\n",
    "\n",
    "def _sttc_na(tA, tB, delt):\n",
    "    '''\n",
    "    Helper function for spike time tiling coefficients: given two\n",
    "    sorted lists of spike times, calculate the number of spikes in\n",
    "    spike train A within delt of any spike in spike train B.\n",
    "    '''\n",
    "    if len(tB) == 0:\n",
    "        return 0\n",
    "    tA, tB = np.asarray(tA), np.asarray(tB)\n",
    "\n",
    "    # Find the closest spike in B after spikes in A.\n",
    "    iB = np.searchsorted(tB, tA)\n",
    "\n",
    "    # Clip to ensure legal indexing, then check the spike at that\n",
    "    # index and its predecessor to see which is closer.\n",
    "    np.clip(iB, 1, len(tB)-1, out=iB)\n",
    "    dt_left = np.abs(tB[iB] - tA)\n",
    "    dt_right = np.abs(tB[iB-1] - tA)\n",
    "\n",
    "    # Return how many of those spikes are actually within delt.\n",
    "    return (np.minimum(dt_left, dt_right) <= delt).sum()"
   ]
  },
  {
   "cell_type": "raw",
   "id": "f16709f7",
   "metadata": {
    "hidden": true
   },
   "source": [
    "    def spike_time_tiling(self, i, j, delt=20):\n",
    "        '''\n",
    "        Given the indices of two units of interest, compute the spike\n",
    "        time tiling coefficient [1], a metric for causal relationships\n",
    "        between spike trains with some improved intuitive properties\n",
    "        compared to the Pearson correlation coefficient.\n",
    "        [1] Cutts & Eglen. Detecting pairwise correlations in spike\n",
    "            trains: An objective comparison of methods and application\n",
    "            to the study of retinal waves. J Neurosci 34:43,\n",
    "            14288–14303 (2014).\n",
    "        '''\n",
    "        tA, tB = self.train[i], self.train[j]\n",
    "\n",
    "        if len(tA) == 0 or len(tB) == 0:\n",
    "            return 0.0\n",
    "\n",
    "        TA = _sttc_ta(tA, delt, self.length) / self.length\n",
    "        TB = _sttc_ta(tB, delt, self.length) / self.length\n",
    "\n",
    "        PA = _sttc_na(tA, tB, delt) / len(tA)\n",
    "        PB = _sttc_na(tB, tA, delt) / len(tB)\n",
    "\n",
    "        aa = (PA - TB) / (1 - PA * TB) if PA * TB != 1 else 0\n",
    "        bb = (PB - TA) / (1 - PB * TA) if PB * TA != 1 else 0\n",
    "        return (aa + bb) / 2\n"
   ]
  },
  {
   "cell_type": "code",
   "execution_count": null,
   "id": "a5deeaa1",
   "metadata": {
    "hidden": true
   },
   "outputs": [],
   "source": []
  },
  {
   "cell_type": "code",
   "execution_count": null,
   "id": "fbaf462a",
   "metadata": {
    "hidden": true
   },
   "outputs": [],
   "source": []
  },
  {
   "cell_type": "code",
   "execution_count": null,
   "id": "30269c93",
   "metadata": {
    "hidden": true
   },
   "outputs": [],
   "source": []
  }
 ],
 "metadata": {
  "hide_input": false,
  "kernelspec": {
   "display_name": "Python 3 (ipykernel)",
   "language": "python",
   "name": "python3"
  },
  "language_info": {
   "codemirror_mode": {
    "name": "ipython",
    "version": 3
   },
   "file_extension": ".py",
   "mimetype": "text/x-python",
   "name": "python",
   "nbconvert_exporter": "python",
   "pygments_lexer": "ipython3",
   "version": "3.10.0"
  },
  "toc": {
   "base_numbering": 1,
   "nav_menu": {},
   "number_sections": true,
   "sideBar": true,
   "skip_h1_title": false,
   "title_cell": "Table of Contents",
   "title_sidebar": "Contents",
   "toc_cell": false,
   "toc_position": {},
   "toc_section_display": true,
   "toc_window_display": false
  },
  "varInspector": {
   "cols": {
    "lenName": 16,
    "lenType": 16,
    "lenVar": 40
   },
   "kernels_config": {
    "python": {
     "delete_cmd_postfix": "",
     "delete_cmd_prefix": "del ",
     "library": "var_list.py",
     "varRefreshCmd": "print(var_dic_list())"
    },
    "r": {
     "delete_cmd_postfix": ") ",
     "delete_cmd_prefix": "rm(",
     "library": "var_list.r",
     "varRefreshCmd": "cat(var_dic_list()) "
    }
   },
   "types_to_exclude": [
    "module",
    "function",
    "builtin_function_or_method",
    "instance",
    "_Feature"
   ],
   "window_display": false
  }
 },
 "nbformat": 4,
 "nbformat_minor": 5
}

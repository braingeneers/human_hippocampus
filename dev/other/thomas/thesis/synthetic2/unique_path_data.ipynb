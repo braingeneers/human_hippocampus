{
 "cells": [
  {
   "cell_type": "markdown",
   "metadata": {},
   "source": [
    "## Imports"
   ]
  },
  {
   "cell_type": "code",
   "execution_count": 1,
   "metadata": {},
   "outputs": [],
   "source": [
    "# Standard library imports\n",
    "import os\n",
    "import random\n",
    "import pickle\n",
    "\n",
    "# Data analysis packages\n",
    "import numpy as np\n",
    "import pandas as pd\n",
    "from scipy.signal import correlate, correlation_lags\n",
    "from scipy.ndimage import gaussian_filter1d\n",
    "\n",
    "# Visualization packages\n",
    "import matplotlib.pyplot as plt\n",
    "import matplotlib.patches as patches\n",
    "from matplotlib.patches import FancyArrow, Patch, Circle\n",
    "import matplotlib.colors as mcolors\n",
    "from matplotlib.colors import LinearSegmentedColormap\n",
    "from matplotlib.lines import Line2D\n",
    "\n",
    "# Image processing packages\n",
    "import imageio\n",
    "from PIL import Image, ImageSequence\n",
    "\n",
    "# Braingeneers packages for analysis\n",
    "import braingeneers\n",
    "import braingeneers.data.datasets_electrophysiology as ephys\n",
    "from braingeneers.analysis.analysis import SpikeData, read_phy_files, load_spike_data, burst_detection, randomize_raster"
   ]
  },
  {
   "cell_type": "markdown",
   "metadata": {},
   "source": [
    "# Helper Functions"
   ]
  },
  {
   "cell_type": "code",
   "execution_count": 2,
   "metadata": {},
   "outputs": [],
   "source": [
    "# Function to get neuron positions\n",
    "def get_neuron_positions(spike_data):\n",
    "    # Extract neuron positions from spike_data\n",
    "    neuron_x = []\n",
    "    neuron_y = []\n",
    "    for neuron in spike_data.neuron_data['positions'].values():\n",
    "        neuron_x.append(neuron['position'][0])\n",
    "        neuron_y.append(neuron['position'][1])\n",
    "    neuron_positions = np.array([neuron_x, neuron_y]).T\n",
    "    return neuron_positions\n",
    "\n",
    "def calculate_mean_firing_rates(spike_data):\n",
    "    mean_firing_rates = []\n",
    "    for neuron_spikes in spike_data.train:\n",
    "        num_spikes = len(neuron_spikes)\n",
    "        time_duration = spike_data.length / 1000  # Assuming spike times are in milliseconds\n",
    "        firing_rate = num_spikes / time_duration\n",
    "        mean_firing_rates.append(firing_rate)\n",
    "\n",
    "    return np.array(mean_firing_rates)\n",
    "\n",
    "def plot_raster(sd, title):\n",
    "    idces, times = sd.idces_times()\n",
    "    # Adjust the figsize parameter to change the figure size; (width, height) in inches\n",
    "    fig, ax = plt.subplots(figsize=(10, 6))  # Example: 10 inches wide by 6 inches tall\n",
    "\n",
    "    ax.scatter(times/1000, idces, marker='|', s=1)\n",
    "    ax.set_xlabel(\"Time(s)\")\n",
    "    ax.set_ylabel('Unit #')\n",
    "    ax.set_title(title)\n",
    "    plt.show()\n",
    "\n",
    "def firing_plotter(sd, global_min_rate, global_max_rate):\n",
    "    # Custom colormap from pale red/pink to dark red/black\n",
    "    colors = [\"#ffcccb\", \"#ff6961\", \"#ff5c5c\", \"#ff1c00\", \"#bf0000\", \"#800000\", \"#400000\", \"#000000\"]\n",
    "    cmap_name = \"custom_red_black\"\n",
    "    n_bins = 100  # More bins will give us a finer gradient\n",
    "    cm = LinearSegmentedColormap.from_list(cmap_name, colors, N=n_bins)\n",
    "\n",
    "    firing_rates = calculate_mean_firing_rates(sd)\n",
    "    neuron_x, neuron_y = [], []\n",
    "    # Extract neuron positions\n",
    "    for i, neuron in sd.neuron_data['positions'].items():\n",
    "        neuron_x.append(neuron['position'][0])\n",
    "        neuron_y.append(neuron['position'][1])\n",
    "\n",
    "    plt.figure(figsize=(8, 6))\n",
    "    # Plotting a small pale blue square at each neuron position\n",
    "    plt.scatter(neuron_x, neuron_y, s=10, c='#add8e6', marker='s', alpha=0.6)\n",
    "    scatter = plt.scatter(neuron_x, neuron_y, s=firing_rates*1.5, c=firing_rates, alpha=0.6, cmap=cm, vmin=global_min_rate, vmax=75)\n",
    "\n",
    "    # Creating dummy plots for the legend\n",
    "    for rate in [20, 40, 60]:  # Example firing rates\n",
    "        plt.scatter([], [], s=rate*1.5, c='gray', alpha=0.6, label=f'{rate} Hz')\n",
    "\n",
    "    plt.title(\"Animation of Firing Rates for Synthetic Wave-Propagation Data\")\n",
    "    plt.xlabel(\"X Position\")\n",
    "    plt.ylabel(\"Y Position\")\n",
    "    plt.colorbar(scatter, label='Firing Rate (Hz)')\n",
    "    plt.gca().invert_yaxis()\n",
    "\n",
    "    # Adding the legend for sizes with title\n",
    "    plt.legend(scatterpoints=1, frameon=False, labelspacing=1, title='Firing Rate', loc='upper right')\n",
    "\n",
    "    # plt.show()"
   ]
  },
  {
   "cell_type": "markdown",
   "metadata": {},
   "source": [
    "## Data Generator"
   ]
  },
  {
   "cell_type": "code",
   "execution_count": 3,
   "metadata": {},
   "outputs": [],
   "source": [
    "def generate_random_spiral_wave_data(total_duration_ms, num_spirals, rows, cols, overlap_duration_ms, break_duration_ms):\n",
    "    N_channels = rows * cols\n",
    "    adjusted_total_duration_ms = total_duration_ms - (break_duration_ms * (num_spirals - 1))\n",
    "    segment_duration_ms = adjusted_total_duration_ms / num_spirals\n",
    "    \n",
    "    center_x, center_y = (rows - 1) / 2, (cols - 1) / 2\n",
    "    \n",
    "    # Initialize positions and neuron_data\n",
    "    positions = [(x, y) for x in range(rows) for y in range(cols)]\n",
    "    neuron_data = {'positions': {i: {'position': positions[i]} for i in range(N_channels)}}\n",
    "    \n",
    "    # Convert positions to polar coordinates\n",
    "    polar_positions = [np.arctan2(y - center_y, x - center_x) for x, y in positions]\n",
    "    distances = [np.sqrt((x - center_x) ** 2 + (y - center_y) ** 2) for x, y in positions]\n",
    "    \n",
    "    # Parameters for the spiral calculation\n",
    "    a, b = 0, 1  # Adjust these parameters to change the spiral's tightness\n",
    "    \n",
    "    # Initialize train with empty lists for each channel\n",
    "    train_spiral = [[] for _ in range(N_channels)]\n",
    "    \n",
    "    for spiral in range(num_spirals):\n",
    "        segment_start = spiral * (segment_duration_ms + break_duration_ms)\n",
    "        segment_end = segment_start + segment_duration_ms\n",
    "        for neuron_index, (theta, distance) in enumerate(zip(polar_positions, distances)):\n",
    "            # Calculate \"spiral distance\" which incorporates angular position\n",
    "            spiral_distance = a + b * theta\n",
    "            \n",
    "            # Use spiral distance to calculate firing times\n",
    "            firing_time_start = segment_start + (spiral_distance * (segment_duration_ms - overlap_duration_ms)) - overlap_duration_ms / 2\n",
    "            firing_time_end = firing_time_start + overlap_duration_ms\n",
    "            \n",
    "            # Adjust firing times to ensure they are within the segment\n",
    "            firing_time_start = max(firing_time_start, segment_start)\n",
    "            firing_time_end = min(firing_time_end, segment_end)\n",
    "            \n",
    "            if random.random() < 0.5:  # Adjust randomness threshold as needed\n",
    "                if firing_time_start < firing_time_end:  # Only schedule firing if it has a valid range\n",
    "                    spike_times = np.linspace(firing_time_start, firing_time_end, num=int(overlap_duration_ms / 10))\n",
    "                    train_spiral[neuron_index].extend(spike_times)\n",
    "    \n",
    "    # Convert lists to numpy arrays for each neuron's spike train\n",
    "    train_spiral = [np.array(times) for times in train_spiral]\n",
    "    \n",
    "    # Create the SpikeData object (assuming SpikeData is defined elsewhere)\n",
    "    spike_data_spiral = SpikeData(train=train_spiral, N=N_channels, length=total_duration_ms, neuron_data=neuron_data)\n",
    "    \n",
    "    return spike_data_spiral"
   ]
  },
  {
   "cell_type": "markdown",
   "metadata": {},
   "source": [
    "## Data"
   ]
  },
  {
   "cell_type": "code",
   "execution_count": 6,
   "metadata": {},
   "outputs": [],
   "source": [
    "overlap_spike_data = generate_random_spiral_wave_data(\n",
    "    total_duration_ms=60 * 1000,  # 60 seconds in milliseconds\n",
    "    num_spirals=10,\n",
    "    rows=16,\n",
    "    cols=16,\n",
    "    overlap_duration_ms=100,\n",
    "    break_duration_ms=2000 \n",
    "     # 5 seconds\n",
    ")\n",
    "\n",
    "# overlap_spike_data = generate_drawing_circle_data(\n",
    "#     total_duration_ms=60 * 1000,  # 60 seconds in milliseconds\n",
    "#     num_propagations=10,\n",
    "#     rows=16,\n",
    "#     cols=16,\n",
    "#     overlap_duration_ms=100,\n",
    "#     break_duration_ms=2000 \n",
    "#      # 5 seconds\n",
    "# )\n",
    "\n",
    "# overlap_spike_data = generate_overlap_spike_data(\n",
    "#     total_duration_ms=60 * 1000,  # 60 seconds in milliseconds\n",
    "#     num_propagations=10,\n",
    "#     rows=16,\n",
    "#     cols=16,\n",
    "#     overlap_duration_ms=100,\n",
    "#     break_duration_ms=2000 \n",
    "#      # 5 seconds\n",
    "# )"
   ]
  },
  {
   "cell_type": "code",
   "execution_count": 7,
   "metadata": {},
   "outputs": [
    {
     "data": {
      "image/png": "[encoded data removed]",
      "text/plain": [
       "<Figure size 1000x600 with 1 Axes>"
      ]
     },
     "metadata": {},
     "output_type": "display_data"
    }
   ],
   "source": [
    "plot_raster(overlap_spike_data, \"Random Overlap Circle Data\")"
   ]
  },
  {
   "cell_type": "code",
   "execution_count": 20,
   "metadata": {},
   "outputs": [],
   "source": [
    "# Save the spikedata with pickle\n",
    "with open('data/parabolic_overlap_spike_data.pkl', 'wb') as f:\n",
    "    pickle.dump(overlap_spike_data, f)"
   ]
  }
 ],
 "metadata": {
  "kernelspec": {
   "display_name": "notebook",
   "language": "python",
   "name": "python3"
  },
  "language_info": {
   "codemirror_mode": {
    "name": "ipython",
    "version": 3
   },
   "file_extension": ".py",
   "mimetype": "text/x-python",
   "name": "python",
   "nbconvert_exporter": "python",
   "pygments_lexer": "ipython3",
   "version": "3.10.0"
  }
 },
 "nbformat": 4,
 "nbformat_minor": 2
}

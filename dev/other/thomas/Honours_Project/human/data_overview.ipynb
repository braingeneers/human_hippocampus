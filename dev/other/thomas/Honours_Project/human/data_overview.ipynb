{
 "cells": [
  {
   "cell_type": "code",
   "execution_count": 1,
   "metadata": {},
   "outputs": [],
   "source": [
    "# Standard library imports\n",
    "import os\n",
    "import random\n",
    "import pickle\n",
    "\n",
    "# Data analysis packages\n",
    "import numpy as np\n",
    "import pandas as pd\n",
    "from scipy.signal import correlate, correlation_lags\n",
    "from scipy.ndimage import gaussian_filter1d\n",
    "\n",
    "# Visualization packages\n",
    "import matplotlib.pyplot as plt\n",
    "import matplotlib.patches as patches\n",
    "from matplotlib.patches import FancyArrow, Patch, Circle\n",
    "import matplotlib.colors as mcolors\n",
    "from matplotlib.colors import LinearSegmentedColormap\n",
    "from matplotlib.lines import Line2D\n",
    "from matplotlib import gridspec\n",
    "\n",
    "# Image processing packages\n",
    "import imageio\n",
    "from PIL import Image, ImageSequence\n",
    "\n",
    "# Braingeneers packages for analysis\n",
    "import braingeneers\n",
    "import braingeneers.data.datasets_electrophysiology as ephys\n",
    "from braingeneers.analysis.analysis import SpikeData, read_phy_files, load_spike_data, burst_detection, randomize_raster\n",
    "\n",
    "from matplotlib.colors import LinearSegmentedColormap\n",
    "import matplotlib.pyplot as plt\n",
    "import matplotlib.gridspec as gridspec\n",
    "from scipy.ndimage import gaussian_filter1d\n",
    "from human_hip  import spike_data"
   ]
  },
  {
   "cell_type": "code",
   "execution_count": null,
   "metadata": {},
   "outputs": [],
   "source": []
  },
  {
   "cell_type": "code",
   "execution_count": 2,
   "metadata": {},
   "outputs": [
    {
     "name": "stderr",
     "output_type": "stream",
     "text": [
      "/tmp/ipykernel_62554/35721603.py:1: DeprecationWarning: Call to deprecated function (or staticmethod) read_phy_files. (Prefer load_spike_data()) -- Deprecated since version 0.1.13.\n",
      "  hc_328 = read_phy_files('/workspaces/human_hippocampus/data/ephys/2023-04-02-e-hc328_unperturbed/derived/kilosort2/hc3.28_hckcr1_chip16835_plated34.2_rec4.2_curated_s1.zip')\n",
      "/tmp/ipykernel_62554/35721603.py:2: DeprecationWarning: Call to deprecated function (or staticmethod) read_phy_files. (Prefer load_spike_data()) -- Deprecated since version 0.1.13.\n",
      "  hc_52 = read_phy_files('/workspaces/human_hippocampus/data/ephys/2023-05-10-e-hc52_18790_unperturbed/derived/kilosort2/hc5.2_chip18790_baseline_rec5.10.23_curated_s1.zip')\n",
      "/tmp/ipykernel_62554/35721603.py:3: DeprecationWarning: Call to deprecated function (or staticmethod) read_phy_files. (Prefer load_spike_data()) -- Deprecated since version 0.1.13.\n",
      "  hc_111 = read_phy_files('/workspaces/human_hippocampus/data/ephys/2022-11-02-e-Hc11.1-chip16753/derived/kilosort2/hc11.1_plated-11.1_chip-16753_rec_11.2.22AM-immediate_curated.zip')\n",
      "/tmp/ipykernel_62554/35721603.py:6: DeprecationWarning: Call to deprecated function (or staticmethod) read_phy_files. (Prefer load_spike_data()) -- Deprecated since version 0.1.13.\n",
      "  hc_120523_chip21769 = read_phy_files(\"/workspaces/human_hippocampus/data/ephys/2023-12-11-e-Hc120523_aav9hckcr1_chip21769/elliott/elliott_chip21769_base.zip\")\n"
     ]
    }
   ],
   "source": [
    "hc_328 = read_phy_files('/workspaces/human_hippocampus/data/ephys/2023-04-02-e-hc328_unperturbed/derived/kilosort2/hc3.28_hckcr1_chip16835_plated34.2_rec4.2_curated_s1.zip')\n",
    "hc_52 = read_phy_files('/workspaces/human_hippocampus/data/ephys/2023-05-10-e-hc52_18790_unperturbed/derived/kilosort2/hc5.2_chip18790_baseline_rec5.10.23_curated_s1.zip')\n",
    "hc_111 = read_phy_files('/workspaces/human_hippocampus/data/ephys/2022-11-02-e-Hc11.1-chip16753/derived/kilosort2/hc11.1_plated-11.1_chip-16753_rec_11.2.22AM-immediate_curated.zip')\n",
    "hc_112823 = spike_data.read_autocurated_data('/workspaces/human_hippocampus/data/ephys/2023-12-03-e-Hc112823_avv9hckcr1/derived/kilosort2/Hc112723_hckcr1_21841_120323_base_acqm.zip')\n",
    "hc_112823_2 = spike_data.read_autocurated_data('/workspaces/human_hippocampus/data/ephys/2023-12-03-e-Hc112823_avv9hckcr1/derived/kilosort2/Hc112723_hckcr1_21841_120323_base2_acqm.zip')\n",
    "hc_120523_chip21769 = read_phy_files(\"/workspaces/human_hippocampus/data/ephys/2023-12-11-e-Hc120523_aav9hckcr1_chip21769/elliott/elliott_chip21769_base.zip\")"
   ]
  },
  {
   "cell_type": "code",
   "execution_count": 21,
   "metadata": {},
   "outputs": [
    {
     "name": "stderr",
     "output_type": "stream",
     "text": [
      "/tmp/ipykernel_62554/2685933559.py:42: DeprecationWarning: Call to deprecated function (or staticmethod) read_phy_files. (Prefer load_spike_data()) -- Deprecated since version 0.1.13.\n",
      "  dataset = read_phy_files(path)  # Assuming this function exists and loads your data\n"
     ]
    },
    {
     "name": "stdout",
     "output_type": "stream",
     "text": [
      "Number of spikes:  103920\n",
      "Length:  398 seconds\n",
      "Number of Neurons:  136\n",
      "Average Firing Rate:  1.92\n",
      "Coefficient of Variation:  0.872\n"
     ]
    },
    {
     "name": "stderr",
     "output_type": "stream",
     "text": [
      "/tmp/ipykernel_62554/2685933559.py:42: DeprecationWarning: Call to deprecated function (or staticmethod) read_phy_files. (Prefer load_spike_data()) -- Deprecated since version 0.1.13.\n",
      "  dataset = read_phy_files(path)  # Assuming this function exists and loads your data\n"
     ]
    },
    {
     "name": "stdout",
     "output_type": "stream",
     "text": [
      "Number of spikes:  21747\n",
      "Length:  107 seconds\n",
      "Number of Neurons:  100\n",
      "Average Firing Rate:  2.02\n",
      "Coefficient of Variation:  0.595\n"
     ]
    },
    {
     "name": "stderr",
     "output_type": "stream",
     "text": [
      "/tmp/ipykernel_62554/2685933559.py:42: DeprecationWarning: Call to deprecated function (or staticmethod) read_phy_files. (Prefer load_spike_data()) -- Deprecated since version 0.1.13.\n",
      "  dataset = read_phy_files(path)  # Assuming this function exists and loads your data\n"
     ]
    },
    {
     "name": "stdout",
     "output_type": "stream",
     "text": [
      "Number of spikes:  49667\n",
      "Length:  418 seconds\n",
      "Number of Neurons:  87\n",
      "Average Firing Rate:  1.36\n",
      "Coefficient of Variation:  0.546\n",
      "Number of spikes:  338136\n",
      "Length:  313 seconds\n",
      "Number of Neurons:  249\n",
      "Average Firing Rate:  4.34\n",
      "Coefficient of Variation:  0.585\n",
      "Number of spikes:  153743\n",
      "Length:  126 seconds\n",
      "Number of Neurons:  351\n",
      "Average Firing Rate:  3.46\n",
      "Coefficient of Variation:  0.61\n"
     ]
    },
    {
     "name": "stderr",
     "output_type": "stream",
     "text": [
      "/tmp/ipykernel_62554/2685933559.py:42: DeprecationWarning: Call to deprecated function (or staticmethod) read_phy_files. (Prefer load_spike_data()) -- Deprecated since version 0.1.13.\n",
      "  dataset = read_phy_files(path)  # Assuming this function exists and loads your data\n"
     ]
    },
    {
     "name": "stdout",
     "output_type": "stream",
     "text": [
      "Number of spikes:  36481\n",
      "Length:  300 seconds\n",
      "Number of Neurons:  51\n",
      "Average Firing Rate:  2.38\n",
      "Coefficient of Variation:  0.69\n"
     ]
    }
   ],
   "source": [
    "def count_total_events(spikedata):\n",
    "    \"\"\"\n",
    "    Counts the total number of spike events in a spikedata object.\n",
    "    \n",
    "    Parameters:\n",
    "    - spikedata: A spikedata object with an attribute 'train', which is a list of spike trains.\n",
    "    \n",
    "    Returns:\n",
    "    - n_events: The total number of spike events across all spike trains in the spikedata object.\n",
    "    \"\"\"\n",
    "    n_events = 0\n",
    "    for train in spikedata.train:\n",
    "        n_events += len(train)\n",
    "    \n",
    "    return n_events\n",
    "\n",
    "def get_summary(dataset):\n",
    "    return {\n",
    "        \"Number of Spikes\": count_total_events(dataset),\n",
    "        \"Length (s)\": dataset.length / 1000,\n",
    "        \"Number of Neurons\": dataset.N\n",
    "    }\n",
    "\n",
    "# Your dataset paths\n",
    "datasets = {\n",
    "    \"hc_328\": '/workspaces/human_hippocampus/data/ephys/2023-04-02-e-hc328_unperturbed/derived/kilosort2/hc3.28_hckcr1_chip16835_plated34.2_rec4.2_curated_s1.zip',\n",
    "    \"hc_52\": '/workspaces/human_hippocampus/data/ephys/2023-05-10-e-hc52_18790_unperturbed/derived/kilosort2/hc5.2_chip18790_baseline_rec5.10.23_curated_s1.zip',\n",
    "    \"hc_111\": '/workspaces/human_hippocampus/data/ephys/2022-11-02-e-Hc11.1-chip16753/derived/kilosort2/hc11.1_plated-11.1_chip-16753_rec_11.2.22AM-immediate_curated.zip',\n",
    "    \"hc_112823\": '/workspaces/human_hippocampus/data/ephys/2023-12-03-e-Hc112823_avv9hckcr1/derived/kilosort2/Hc112723_hckcr1_21841_120323_base_acqm.zip',\n",
    "    \"hc_112823_2\": '/workspaces/human_hippocampus/data/ephys/2023-12-03-e-Hc112823_avv9hckcr1/derived/kilosort2/Hc112723_hckcr1_21841_120323_base2_acqm.zip',\n",
    "    \"hc_120523_chip21769\": \"/workspaces/human_hippocampus/data/ephys/2023-12-11-e-Hc120523_aav9hckcr1_chip21769/elliott/elliott_chip21769_base.zip\"\n",
    "}\n",
    "\n",
    "# A dictionary to hold all summaries\n",
    "summaries = {}\n",
    "\n",
    "# Go through each dataset, load it, and get its summary\n",
    "for label, path in datasets.items():\n",
    "    if 'acqm' in path:\n",
    "        dataset = spike_data.read_autocurated_data(path)\n",
    "    else:\n",
    "        dataset = read_phy_files(path)  # Assuming this function exists and loads your data\n",
    "    summary = spike_data.text_summary(dataset)\n",
    "    summaries[label] = summary\n",
    "\n",
    "# Convert the summaries dictionary to a DataFrame\n",
    "df_summaries = pd.DataFrame.from_dict(summaries, orient='index')\n"
   ]
  },
  {
   "cell_type": "code",
   "execution_count": null,
   "metadata": {},
   "outputs": [],
   "source": [
    "#Complete the 'findMedian' function below.\n",
    "#\n",
    "# The function is expected to return an INTEGER.\n",
    "# The function accepts INTEGER_ARRAY arr as parameter.\n",
    "\n",
    "def findMedian(arr):\n",
    "    # Write your code here\n",
    "    arr.sort()\n",
    "    n = len(arr)\n",
    "    if n % 2 == 0:\n",
    "        return (arr[n // 2] + arr[n // 2 - 1]) // 2\n",
    "    return arr[n // 2]"
   ]
  },
  {
   "cell_type": "code",
   "execution_count": 23,
   "metadata": {},
   "outputs": [
    {
     "data": {
      "text/html": [
       "<div>\n",
       "<style scoped>\n",
       "    .dataframe tbody tr th:only-of-type {\n",
       "        vertical-align: middle;\n",
       "    }\n",
       "\n",
       "    .dataframe tbody tr th {\n",
       "        vertical-align: top;\n",
       "    }\n",
       "\n",
       "    .dataframe thead th {\n",
       "        text-align: right;\n",
       "    }\n",
       "</style>\n",
       "<table border=\"1\" class=\"dataframe\">\n",
       "  <thead>\n",
       "    <tr style=\"text-align: right;\">\n",
       "      <th></th>\n",
       "      <th>0</th>\n",
       "    </tr>\n",
       "  </thead>\n",
       "  <tbody>\n",
       "    <tr>\n",
       "      <th>hc_328</th>\n",
       "      <td>None</td>\n",
       "    </tr>\n",
       "    <tr>\n",
       "      <th>hc_52</th>\n",
       "      <td>None</td>\n",
       "    </tr>\n",
       "    <tr>\n",
       "      <th>hc_111</th>\n",
       "      <td>None</td>\n",
       "    </tr>\n",
       "    <tr>\n",
       "      <th>hc_112823</th>\n",
       "      <td>None</td>\n",
       "    </tr>\n",
       "    <tr>\n",
       "      <th>hc_112823_2</th>\n",
       "      <td>None</td>\n",
       "    </tr>\n",
       "    <tr>\n",
       "      <th>hc_120523_chip21769</th>\n",
       "      <td>None</td>\n",
       "    </tr>\n",
       "  </tbody>\n",
       "</table>\n",
       "</div>"
      ],
      "text/plain": [
       "                        0\n",
       "hc_328               None\n",
       "hc_52                None\n",
       "hc_111               None\n",
       "hc_112823            None\n",
       "hc_112823_2          None\n",
       "hc_120523_chip21769  None"
      ]
     },
     "execution_count": 23,
     "metadata": {},
     "output_type": "execute_result"
    }
   ],
   "source": [
    "df_summaries"
   ]
  },
  {
   "cell_type": "code",
   "execution_count": null,
   "metadata": {},
   "outputs": [],
   "source": [
    "import pandas as pd\n",
    "\n",
    "# Function to summarize a dataset\n",
    "def get_summary(spike_data, dataset_name):\n",
    "    summary = spike_data.text_summary(dataset_name)\n",
    "    # Assuming `text_summary()` returns a dictionary, if not you'll need to parse the string\n",
    "    summary['Dataset'] = dataset_name  # Add the dataset name to the summary\n",
    "    return summary\n",
    "\n",
    "# Initialize a list to hold your summary dictionaries\n",
    "summaries = []\n",
    "\n",
    "# List of datasets and their paths\n",
    "datasets = {\n",
    "    \"hc_328\": '/path/to/hc_328_data',\n",
    "    \"hc_52\": '/path/to/hc_52_data',\n",
    "    # Add all other datasets here\n",
    "}\n",
    "\n",
    "# Loop through the datasets, read and summarize each one\n",
    "for dataset_name, path in datasets.items():\n",
    "    data = read_phy_files(path)  # Or the appropriate function for reading your data\n",
    "    summary = get_summary(data, dataset_name)\n",
    "    summaries.append(summary)\n",
    "\n",
    "# Create a DataFrame from the summaries\n",
    "summary_df = pd.DataFrame(summaries)\n",
    "\n",
    "# View the DataFrame\n",
    "print(summary_df)\n"
   ]
  },
  {
   "cell_type": "code",
   "execution_count": 7,
   "metadata": {},
   "outputs": [
    {
     "name": "stdout",
     "output_type": "stream",
     "text": [
      "Number of spikes:  103920\n",
      "Length:  398 seconds\n",
      "Number of Neurons:  136\n",
      "Average Firing Rate:  1.92\n",
      "Coefficient of Variation:  0.872\n"
     ]
    }
   ],
   "source": [
    "spike_data.text_summary(hc_328)"
   ]
  },
  {
   "cell_type": "code",
   "execution_count": 9,
   "metadata": {},
   "outputs": [
    {
     "name": "stdout",
     "output_type": "stream",
     "text": [
      "Number of spikes:  21747\n",
      "Length:  107 seconds\n",
      "Number of Neurons:  100\n",
      "Average Firing Rate:  2.02\n",
      "Coefficient of Variation:  0.595\n"
     ]
    }
   ],
   "source": [
    "spike_data.text_summary(hc_52)"
   ]
  },
  {
   "cell_type": "code",
   "execution_count": 15,
   "metadata": {},
   "outputs": [
    {
     "name": "stdout",
     "output_type": "stream",
     "text": [
      "Number of spikes:  49667\n",
      "Length:  418 seconds\n",
      "Number of Neurons:  87\n",
      "Average Firing Rate:  1.36\n",
      "Coefficient of Variation:  0.546\n"
     ]
    }
   ],
   "source": [
    "spike_data.text_summary(hc_111)"
   ]
  },
  {
   "cell_type": "code",
   "execution_count": 18,
   "metadata": {},
   "outputs": [
    {
     "name": "stdout",
     "output_type": "stream",
     "text": [
      "Number of spikes:  338136\n",
      "Length:  313 seconds\n",
      "Number of Neurons:  249\n",
      "Average Firing Rate:  4.34\n",
      "Coefficient of Variation:  0.585\n"
     ]
    }
   ],
   "source": [
    "spike_data.text_summary(hc_112823)"
   ]
  },
  {
   "cell_type": "code",
   "execution_count": 20,
   "metadata": {},
   "outputs": [
    {
     "name": "stdout",
     "output_type": "stream",
     "text": [
      "Number of spikes:  153743\n",
      "Length:  126 seconds\n",
      "Number of Neurons:  351\n",
      "Average Firing Rate:  3.46\n",
      "Coefficient of Variation:  0.61\n"
     ]
    }
   ],
   "source": [
    "spike_data.text_summary(hc_112823_2)"
   ]
  },
  {
   "cell_type": "code",
   "execution_count": 22,
   "metadata": {},
   "outputs": [
    {
     "name": "stdout",
     "output_type": "stream",
     "text": [
      "Number of spikes:  36481\n",
      "Length:  300 seconds\n",
      "Number of Neurons:  51\n",
      "Average Firing Rate:  2.38\n",
      "Coefficient of Variation:  0.69\n"
     ]
    }
   ],
   "source": [
    "spike_data.text_summary(hc_120523_chip21769)"
   ]
  },
  {
   "cell_type": "code",
   "execution_count": 5,
   "metadata": {},
   "outputs": [
    {
     "name": "stdout",
     "output_type": "stream",
     "text": [
      "Number of spikes:  103920\n",
      "Length:  398 seconds\n",
      "Number of Neurons:  136\n",
      "Average Firing Rate:  1.92\n",
      "Coefficient of Variation:  0.872\n"
     ]
    },
    {
     "ename": "AttributeError",
     "evalue": "'NoneType' object has no attribute 'append'",
     "output_type": "error",
     "traceback": [
      "\u001b[0;31m---------------------------------------------------------------------------\u001b[0m",
      "\u001b[0;31mAttributeError\u001b[0m                            Traceback (most recent call last)",
      "Cell \u001b[0;32mIn[5], line 3\u001b[0m\n\u001b[1;32m      1\u001b[0m \u001b[38;5;66;03m# Use spike_data.text_summary to create pandas dataframe for all datasets\u001b[39;00m\n\u001b[1;32m      2\u001b[0m data \u001b[38;5;241m=\u001b[39m spike_data\u001b[38;5;241m.\u001b[39mtext_summary(hc_328)\n\u001b[0;32m----> 3\u001b[0m data \u001b[38;5;241m=\u001b[39m \u001b[43mdata\u001b[49m\u001b[38;5;241;43m.\u001b[39;49m\u001b[43mappend\u001b[49m(spike_data\u001b[38;5;241m.\u001b[39mtext_summary(hc_52))\n\u001b[1;32m      4\u001b[0m data \u001b[38;5;241m=\u001b[39m data\u001b[38;5;241m.\u001b[39mappend(spike_data\u001b[38;5;241m.\u001b[39mtext_summary(hc_111))\n\u001b[1;32m      5\u001b[0m data \u001b[38;5;241m=\u001b[39m data\u001b[38;5;241m.\u001b[39mappend(spike_data\u001b[38;5;241m.\u001b[39mtext_summary(hc_112823))\n",
      "\u001b[0;31mAttributeError\u001b[0m: 'NoneType' object has no attribute 'append'"
     ]
    }
   ],
   "source": []
  }
 ],
 "metadata": {
  "kernelspec": {
   "display_name": "notebook",
   "language": "python",
   "name": "python3"
  },
  "language_info": {
   "codemirror_mode": {
    "name": "ipython",
    "version": 3
   },
   "file_extension": ".py",
   "mimetype": "text/x-python",
   "name": "python",
   "nbconvert_exporter": "python",
   "pygments_lexer": "ipython3",
   "version": "3.10.0"
  }
 },
 "nbformat": 4,
 "nbformat_minor": 2
}

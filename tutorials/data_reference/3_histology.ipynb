{
 "cells": [
  {
   "cell_type": "markdown",
   "metadata": {},
   "source": [
    "# Histology  Images"
   ]
  },
  {
   "cell_type": "markdown",
   "metadata": {},
   "source": [
    "A good place to start with analyzing the data is through looking at histology images of them.\n"
   ]
  },
  {
   "cell_type": "markdown",
   "metadata": {},
   "source": [
    "## ?Anterior? CA1"
   ]
  },
  {
   "cell_type": "markdown",
   "metadata": {},
   "source": [
    "A close up image of the hippocampal slice is show below. This is the region that we made recordings from. To see a more zoomed our region of the slice as well as a description of the anatomy, check out [these powerpoint slides](https://docs.google.com/presentation/d/1XnDf52a2a3WxhANidxyvfVMTUnctHEaE). These other [powerpoint slides](https://docs.google.com/presentation/d/1WILZM5OEJAKGT23LvyLisr76K_dXrSpNgYgtq2xPrfM/edit?usp=sharing) depict how the histology was alligned to the MEA in order to create the neural overlays shown in later sections."
   ]
  },
  {
   "cell_type": "markdown",
   "metadata": {},
   "source": [
    "![ca1 image](/workspaces/human_hippocampus/data/histology/ca1.png)"
   ]
  },
  {
   "cell_type": "markdown",
   "metadata": {},
   "source": [
    "## ?Posterior? CA1"
   ]
  },
  {
   "cell_type": "code",
   "execution_count": null,
   "metadata": {
    "vscode": {
     "languageId": "plaintext"
    }
   },
   "outputs": [],
   "source": []
  },
  {
   "cell_type": "code",
   "execution_count": null,
   "metadata": {
    "vscode": {
     "languageId": "plaintext"
    }
   },
   "outputs": [],
   "source": []
  },
  {
   "cell_type": "markdown",
   "metadata": {},
   "source": [
    "## Adult Dentate Gyrus"
   ]
  },
  {
   "cell_type": "markdown",
   "metadata": {},
   "source": [
    "An image can be of the dentate gyrus slice can be found in [these slides](https://docs.google.com/presentation/d/1WILZM5OEJAKGT23LvyLisr76K_dXrSpNgYgtq2xPrfM/edit#slide=id.p).\n",
    "\n",
    "<font color=\"red\"> The image still needs to be lined up to be useful!"
   ]
  },
  {
   "cell_type": "code",
   "execution_count": null,
   "metadata": {
    "vscode": {
     "languageId": "plaintext"
    }
   },
   "outputs": [],
   "source": []
  },
  {
   "cell_type": "markdown",
   "metadata": {},
   "source": [
    "## Infant Dentate Gyrus"
   ]
  },
  {
   "cell_type": "code",
   "execution_count": null,
   "metadata": {
    "vscode": {
     "languageId": "plaintext"
    }
   },
   "outputs": [],
   "source": []
  }
 ],
 "metadata": {
  "language_info": {
   "name": "python"
  }
 },
 "nbformat": 4,
 "nbformat_minor": 2
}

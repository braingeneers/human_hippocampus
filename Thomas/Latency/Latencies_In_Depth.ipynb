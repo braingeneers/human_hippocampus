{
 "cells": [
  {
   "cell_type": "markdown",
   "id": "785fd605",
   "metadata": {},
   "source": [
    "# code from before"
   ]
  },
  {
   "cell_type": "code",
   "execution_count": 2,
   "id": "5e35781a",
   "metadata": {},
   "outputs": [],
   "source": [
    "import pickle\n",
    "import os\n",
    "import re\n",
    "import glob\n",
    "import random\n",
    "import numpy as np\n",
    "import scipy\n",
    "import scipy.io as sio\n",
    "import scipy.ndimage as ndimage\n",
    "from scipy.ndimage import gaussian_filter1d\n",
    "import pandas as pd\n",
    "import matplotlib.pyplot as plt\n",
    "import matplotlib.colors as mcolors\n",
    "import matplotlib.patches as patches\n",
    "from matplotlib.patches import Patch, Circle\n",
    "from matplotlib.lines import Line2D\n",
    "from PIL import Image\n",
    "import ipywidgets as ipw\n",
    "from ipywidgets import interact, interactive, fixed, interact_manual  # package for interactive widgets \n",
    "import braingeneers                                                   # Braingeneers code\n",
    "from braingeneers.analysis.analysis import SpikeData, read_phy_files\n",
    "import braingeneers.data.datasets_electrophysiology as ephys\n",
    "from IPython.display import HTML, display, Javascript, clear_output\n",
    "from matplotlib.patches import FancyArrow"
   ]
  },
  {
   "cell_type": "markdown",
   "id": "eb4f901f",
   "metadata": {},
   "source": [
    "# <font color=\"gray\"> helper code"
   ]
  },
  {
   "cell_type": "code",
   "execution_count": 3,
   "id": "56364970",
   "metadata": {},
   "outputs": [
    {
     "name": "stderr",
     "output_type": "stream",
     "text": [
      "/tmp/ipykernel_821911/473825948.py:1: DeprecationWarning: Call to deprecated function (or staticmethod) read_phy_files. (Prefer load_spike_data()) -- Deprecated since version 0.1.13.\n",
      "  sd = read_phy_files('/home/jovyan/work/Human_Hippocampus/data/ephys/2023-04-02-e-hc328_unperturbed/derived/kilosort2/hc3.28_hckcr1_chip16835_plated34.2_rec4.2_curated.zip')\n"
     ]
    }
   ],
   "source": [
    "sd = read_phy_files('/home/jovyan/work/Human_Hippocampus/data/ephys/2023-04-02-e-hc328_unperturbed/derived/kilosort2/hc3.28_hckcr1_chip16835_plated34.2_rec4.2_curated.zip')"
   ]
  },
  {
   "cell_type": "code",
   "execution_count": 4,
   "id": "d44ec35b",
   "metadata": {},
   "outputs": [],
   "source": [
    "def plot_sttc(sd):\n",
    "    sttc = np.zeros((sd.N, sd.N))\n",
    "    for i in range(sd.N):\n",
    "        for j in range(sd.N):\n",
    "            sttc[i][j] = sd.spike_time_tiling(i,j)\n",
    "    plt.imshow(sttc)\n",
    "    plt.xlabel(\"Neuron index\")\n",
    "    plt.ylabel(\"Neuron index\")\n",
    "    plt.show()"
   ]
  },
  {
   "cell_type": "code",
   "execution_count": 5,
   "id": "b7db3b6e",
   "metadata": {},
   "outputs": [],
   "source": [
    "def find_sttc_above_threshold(sd, threshold=0.2):\n",
    "    sttc = np.zeros((sd.N, sd.N))\n",
    "    for i in range(sd.N):\n",
    "        for j in range(sd.N):\n",
    "            if i == j: \n",
    "                sttc[i][j]=0\n",
    "            else:\n",
    "                sttc[i][j] = sd.spike_time_tiling(i, j)\n",
    "\n",
    "    # Create a mask to filter STTC values above the given threshold\n",
    "    mask = sttc > threshold\n",
    "\n",
    "    # Find the indices of neuron pairs with STTC above the threshold\n",
    "    neuron_pairs = np.transpose(np.where(mask))\n",
    "\n",
    "    return neuron_pairs\n",
    "\n"
   ]
  },
  {
   "cell_type": "markdown",
   "id": "b0d10401",
   "metadata": {},
   "source": [
    "# <font color=\"brown\">Matt Stuff"
   ]
  },
  {
   "cell_type": "markdown",
   "id": "4661ee0b",
   "metadata": {},
   "source": [
    "## Get raw latencies"
   ]
  },
  {
   "cell_type": "markdown",
   "id": "586bf6ad",
   "metadata": {},
   "source": [
    "Get initial neuron pairs"
   ]
  },
  {
   "cell_type": "code",
   "execution_count": 79,
   "id": "45b7538e",
   "metadata": {},
   "outputs": [],
   "source": [
    "# Usage example:\n",
    "# Assuming you have a spike data object called 'sd'\n",
    "neuron_pairs_above_threshold = find_sttc_above_threshold(sd, threshold=0.6)"
   ]
  },
  {
   "cell_type": "code",
   "execution_count": 80,
   "id": "441322ba",
   "metadata": {
    "scrolled": true
   },
   "outputs": [
    {
     "name": "stdout",
     "output_type": "stream",
     "text": [
      "[[  4 113]\n",
      " [ 12  31]\n",
      " [ 13  21]\n",
      " [ 13  45]\n",
      " [ 16  69]\n",
      " [ 17  43]\n",
      " [ 21  13]\n",
      " [ 21  45]\n",
      " [ 24  85]\n",
      " [ 25 105]\n",
      " [ 30  95]\n",
      " [ 31  12]\n",
      " [ 33  44]\n",
      " [ 35  50]\n",
      " [ 37  81]\n",
      " [ 39  53]\n",
      " [ 40  41]\n",
      " [ 40  55]\n",
      " [ 40  87]\n",
      " [ 41  40]\n",
      " [ 43  17]\n",
      " [ 44  33]\n",
      " [ 45  13]\n",
      " [ 45  21]\n",
      " [ 50  35]\n",
      " [ 53  39]\n",
      " [ 55  40]\n",
      " [ 55  87]\n",
      " [ 58  77]\n",
      " [ 60  98]\n",
      " [ 61  98]\n",
      " [ 67  84]\n",
      " [ 69  16]\n",
      " [ 77  58]\n",
      " [ 80 111]\n",
      " [ 81  37]\n",
      " [ 84  67]\n",
      " [ 85  24]\n",
      " [ 87  40]\n",
      " [ 87  55]\n",
      " [ 95  30]\n",
      " [ 98  60]\n",
      " [ 98  61]\n",
      " [101 133]\n",
      " [105  25]\n",
      " [111  80]\n",
      " [112 118]\n",
      " [113   4]\n",
      " [118 112]\n",
      " [133 101]]\n",
      "50\n"
     ]
    }
   ],
   "source": [
    "print(neuron_pairs_above_threshold)\n",
    "print(len(neuron_pairs_above_threshold))"
   ]
  },
  {
   "cell_type": "markdown",
   "id": "8d43f361",
   "metadata": {},
   "source": [
    "This function is very inefficient, consider changing it."
   ]
  },
  {
   "cell_type": "code",
   "execution_count": 81,
   "id": "d9894fa2",
   "metadata": {
    "scrolled": true
   },
   "outputs": [
    {
     "name": "stdout",
     "output_type": "stream",
     "text": [
      "0\n",
      "1\n",
      "2\n",
      "3\n",
      "4\n",
      "5\n",
      "6\n",
      "7\n",
      "8\n",
      "9\n",
      "10\n",
      "11\n",
      "12\n",
      "13\n",
      "14\n",
      "15\n",
      "16\n",
      "17\n",
      "18\n",
      "19\n",
      "20\n",
      "21\n",
      "22\n",
      "23\n",
      "24\n",
      "25\n",
      "26\n",
      "27\n",
      "28\n",
      "29\n",
      "30\n",
      "31\n",
      "32\n",
      "33\n",
      "34\n",
      "35\n",
      "36\n",
      "37\n",
      "38\n",
      "39\n",
      "40\n",
      "41\n",
      "42\n",
      "43\n",
      "44\n",
      "45\n",
      "46\n",
      "47\n",
      "48\n",
      "49\n"
     ]
    }
   ],
   "source": [
    "lates_raw = []\n",
    "for i, neuron_pair in enumerate(neuron_pairs_above_threshold):\n",
    "    print(i)\n",
    "    neuron1, neuron2 = neuron_pair\n",
    "    lates_n1 = sd.latencies_to_index(neuron1)\n",
    "    lates_raw.append( lates_n1[neuron2] )"
   ]
  },
  {
   "cell_type": "markdown",
   "id": "537d3490",
   "metadata": {},
   "source": [
    "Save data, in case kernel breaks"
   ]
  },
  {
   "cell_type": "markdown",
   "id": "808efda7",
   "metadata": {},
   "source": [
    "## Save Data"
   ]
  },
  {
   "cell_type": "code",
   "execution_count": 82,
   "id": "da44fea0",
   "metadata": {},
   "outputs": [],
   "source": [
    "import pickle"
   ]
  },
  {
   "cell_type": "code",
   "execution_count": null,
   "id": "97809010",
   "metadata": {},
   "outputs": [],
   "source": [
    "file_path = 'StitchedData.pkl'"
   ]
  },
  {
   "cell_type": "code",
   "execution_count": 83,
   "id": "e53b6458",
   "metadata": {},
   "outputs": [],
   "source": [
    "data = { \"pairs\":neuron_pairs_above_threshold, \"latencies\":lates_raw }"
   ]
  },
  {
   "cell_type": "code",
   "execution_count": 84,
   "id": "d9afb587",
   "metadata": {},
   "outputs": [],
   "source": [
    "# open a file, where you ant to store the data\n",
    "file = open('latencies_raw.pckl', 'wb')\n",
    "pickle.dump(data, file)\n",
    "file.close()"
   ]
  },
  {
   "cell_type": "markdown",
   "id": "36d27e1c",
   "metadata": {},
   "source": [
    "## Load Data"
   ]
  },
  {
   "cell_type": "code",
   "execution_count": 85,
   "id": "548fb1e2",
   "metadata": {},
   "outputs": [],
   "source": [
    "import pickle\n",
    "file = open('latencies_raw.pckl', 'rb')\n",
    "data = pickle.load(file)\n",
    "lates_pairs = data[\"pairs\"]\n",
    "lates = data[\"latencies\"]\n",
    "file.close()"
   ]
  },
  {
   "cell_type": "code",
   "execution_count": 86,
   "id": "65896333",
   "metadata": {
    "scrolled": true
   },
   "outputs": [
    {
     "data": {
      "text/plain": [
       "50"
      ]
     },
     "execution_count": 86,
     "metadata": {},
     "output_type": "execute_result"
    }
   ],
   "source": [
    "len(lates_pairs)"
   ]
  },
  {
   "cell_type": "markdown",
   "id": "df3e1c2b",
   "metadata": {},
   "source": [
    "## Remove long latencies"
   ]
  },
  {
   "cell_type": "code",
   "execution_count": 87,
   "id": "b1070ee5",
   "metadata": {},
   "outputs": [],
   "source": [
    "max_ms = 10"
   ]
  },
  {
   "cell_type": "code",
   "execution_count": 88,
   "id": "21470c50",
   "metadata": {},
   "outputs": [],
   "source": [
    "lates_short = []\n",
    "for latency_dist in lates:\n",
    "    lates_short.append( list(filter(lambda x: x < max_ms and x > -max_ms, latency_dist))  )"
   ]
  },
  {
   "cell_type": "markdown",
   "id": "e0633a04",
   "metadata": {},
   "source": [
    "## Latenceis Directionality"
   ]
  },
  {
   "cell_type": "code",
   "execution_count": 97,
   "id": "04b5ae9c",
   "metadata": {},
   "outputs": [],
   "source": [
    "direction_threshold = .75"
   ]
  },
  {
   "cell_type": "code",
   "execution_count": 98,
   "id": "26c69d4e",
   "metadata": {},
   "outputs": [],
   "source": [
    "lates_directed = []\n",
    "pairs_directed = []"
   ]
  },
  {
   "cell_type": "code",
   "execution_count": 99,
   "id": "44a03bdc",
   "metadata": {},
   "outputs": [],
   "source": [
    "for i in range(len(lates_short)):\n",
    "    lates_i = np.array(lates_short[i])\n",
    "    percent_neg = sum( lates_i<0 )/len(lates_i)\n",
    "    percent_pos = sum( lates_i>0 )/len(lates_i)\n",
    "    \n",
    "    if percent_neg > direction_threshold or percent_pos > direction_threshold:\n",
    "        lates_directed.append( lates_i )\n",
    "        pairs_directed.append( lates_pairs[i] )"
   ]
  },
  {
   "cell_type": "code",
   "execution_count": 100,
   "id": "c443de01",
   "metadata": {},
   "outputs": [
    {
     "data": {
      "text/plain": [
       "28"
      ]
     },
     "execution_count": 100,
     "metadata": {},
     "output_type": "execute_result"
    }
   ],
   "source": [
    "len( pairs_directed )"
   ]
  },
  {
   "cell_type": "markdown",
   "id": "695f3734",
   "metadata": {},
   "source": [
    "## Plot Latencies in  Layout view"
   ]
  },
  {
   "cell_type": "markdown",
   "id": "8db58e38",
   "metadata": {},
   "source": [
    "get neuron x and y values"
   ]
  },
  {
   "cell_type": "code",
   "execution_count": 101,
   "id": "60da5bfa",
   "metadata": {},
   "outputs": [
    {
     "name": "stderr",
     "output_type": "stream",
     "text": [
      "/tmp/ipykernel_821911/1018948306.py:3: DeprecationWarning: Call to deprecated function (or staticmethod) neuron_data. (Use NeuronAttributes instead of neuron_data, with the function load_spike_data())\n",
      "  for neuron in sd.neuron_data[0].values():\n"
     ]
    }
   ],
   "source": [
    "neuron_x = []\n",
    "neuron_y = []\n",
    "for neuron in sd.neuron_data[0].values():\n",
    "    neuron_x.append(neuron['position'][0])\n",
    "    neuron_y.append(neuron['position'][1])\n"
   ]
  },
  {
   "cell_type": "markdown",
   "id": "46246543",
   "metadata": {},
   "source": [
    "### plot attempt 1"
   ]
  },
  {
   "cell_type": "code",
   "execution_count": 102,
   "id": "0979d55c",
   "metadata": {},
   "outputs": [
    {
     "name": "stderr",
     "output_type": "stream",
     "text": [
      "/tmp/ipykernel_821911/2237137338.py:21: UserWarning: Setting the 'color' property will override the edgecolor or facecolor properties.\n",
      "  arrow = FancyArrow( neuron_x[end_i], neuron_y[end_i], neuron_x[start_i] - neuron_x[end_i], neuron_y[start_i] - neuron_y[end_i], length_includes_head=True, head_width=20,\n"
     ]
    },
    {
     "data": {
      "image/png": "[encoded data removed]",
      "text/plain": [
       "<Figure size 640x480 with 1 Axes>"
      ]
     },
     "metadata": {},
     "output_type": "display_data"
    }
   ],
   "source": [
    "# Set up figure\n",
    "plt.figsize= (1,1)\n",
    "\n",
    "# Plot each individual arrow\n",
    "for i in range(len(lates_directed)):\n",
    "    \n",
    "    # Get starting and ending arrow based on direction\n",
    "    is_pos = np.median(lates_directed[i])>0\n",
    "    if is_pos:\n",
    "        start_i =  pairs_directed[i][0]\n",
    "        end_i = pairs_directed[i][1]\n",
    "    else:\n",
    "        start_i =  pairs_directed[i][1]\n",
    "        end_i = pairs_directed[i][0] \n",
    "    \n",
    "    # plot dummy points, delete this soon  \n",
    "    plt.scatter( neuron_x[start_i], neuron_y[start_i], alpha=.1 )\n",
    "    plt.scatter( neuron_x[end_i], neuron_y[end_i], alpha=.1 )\n",
    "    \n",
    "    # add arrow\n",
    "    arrow = FancyArrow( neuron_x[end_i], neuron_y[end_i], neuron_x[start_i] - neuron_x[end_i], neuron_y[start_i] - neuron_y[end_i], length_includes_head=True, head_width=20,\n",
    "                                       linewidth=1, color='black', alpha=0.7, edgecolor='black', facecolor='black')\n",
    "    plt.gca().add_patch(arrow)\n",
    "\n",
    "plt.xlabel('um')\n",
    "plt.ylabel('um')\n",
    "plt.title(\"Directionality plot\")  # Adding the title\n",
    "plt.show()"
   ]
  },
  {
   "cell_type": "markdown",
   "id": "c4b0745b",
   "metadata": {},
   "source": [
    "### print euclidean distance"
   ]
  },
  {
   "cell_type": "code",
   "execution_count": 36,
   "id": "b1bd5fb0",
   "metadata": {},
   "outputs": [
    {
     "name": "stdout",
     "output_type": "stream",
     "text": [
      "234.7871376374779\n",
      "144.30869689661813\n",
      "344.7100230628637\n",
      "477.9775099311682\n",
      "126.19429464123962\n",
      "344.7100230628637\n",
      "133.2760293526184\n",
      "213.6147232753398\n",
      "78.26237921249263\n",
      "1247.9107540204948\n",
      "126.19429464123962\n",
      "126.19429464123962\n",
      "477.9775099311682\n",
      "133.2760293526184\n",
      "126.19429464123962\n",
      "70.0\n",
      "140.0\n",
      "98.99494936611666\n",
      "620.695174783887\n",
      "620.695174783887\n",
      "110.67971810589327\n",
      "224.1093483101497\n",
      "98.99494936611666\n",
      "148.49242404917499\n",
      "1247.9107540204948\n",
      "110.67971810589327\n",
      "213.6147232753398\n",
      "234.7871376374779\n",
      "620.695174783887\n",
      "620.695174783887\n",
      "144.30869689661813\n",
      "70.0\n",
      "70.0\n",
      "78.26237921249263\n",
      "148.49242404917499\n",
      "148.49242404917499\n",
      "254.80384612481814\n",
      "254.80384612481814\n",
      "224.1093483101497\n",
      "140.0\n",
      "70.0\n",
      "148.49242404917499\n"
     ]
    }
   ],
   "source": [
    "\n",
    "\n",
    "# Plot each individual arrow\n",
    "for i in range(len(lates_directed)):\n",
    "    \n",
    "    # Get starting and ending arrow based on direction\n",
    "    is_pos = np.median(lates_directed[i])>0\n",
    "    if is_pos:\n",
    "        start_i =  pairs_directed[i][0]\n",
    "        end_i = pairs_directed[i][1]\n",
    "    else:\n",
    "        start_i =  pairs_directed[i][1]\n",
    "        end_i = pairs_directed[i][0] \n",
    "    \n",
    "    pair_distance = np.sqrt( (neuron_x[end_i] - neuron_x[start_i] )**2 + (neuron_y[end_i] - neuron_y[start_i] )**2 )\n",
    "    print(pair_distance)\n",
    "    "
   ]
  },
  {
   "cell_type": "code",
   "execution_count": null,
   "id": "7690b8da",
   "metadata": {},
   "outputs": [],
   "source": []
  },
  {
   "cell_type": "code",
   "execution_count": null,
   "id": "264060ce",
   "metadata": {},
   "outputs": [],
   "source": []
  },
  {
   "cell_type": "code",
   "execution_count": null,
   "id": "42383fc6",
   "metadata": {},
   "outputs": [],
   "source": []
  },
  {
   "cell_type": "code",
   "execution_count": null,
   "id": "f3b2c7fa",
   "metadata": {},
   "outputs": [],
   "source": []
  },
  {
   "cell_type": "code",
   "execution_count": null,
   "id": "19ff4473",
   "metadata": {},
   "outputs": [],
   "source": []
  },
  {
   "cell_type": "code",
   "execution_count": null,
   "id": "66948df3",
   "metadata": {},
   "outputs": [],
   "source": []
  },
  {
   "cell_type": "markdown",
   "id": "fe6acd4a",
   "metadata": {},
   "source": [
    "### example "
   ]
  },
  {
   "cell_type": "markdown",
   "id": "7513c04e",
   "metadata": {},
   "source": [
    "example case"
   ]
  },
  {
   "cell_type": "code",
   "execution_count": null,
   "id": "9f1d85cf",
   "metadata": {},
   "outputs": [],
   "source": [
    "i = 0 "
   ]
  },
  {
   "cell_type": "code",
   "execution_count": null,
   "id": "d45b43f3",
   "metadata": {
    "scrolled": true
   },
   "outputs": [],
   "source": [
    "lates_directed[i]"
   ]
  },
  {
   "cell_type": "code",
   "execution_count": null,
   "id": "93ad9124",
   "metadata": {},
   "outputs": [],
   "source": [
    "i\n",
    "pairs_directed[i]"
   ]
  },
  {
   "cell_type": "markdown",
   "id": "7cdcd59c",
   "metadata": {},
   "source": [
    "Get starting and ending location for arrow"
   ]
  },
  {
   "cell_type": "code",
   "execution_count": null,
   "id": "b6b9ad44",
   "metadata": {},
   "outputs": [],
   "source": [
    "is_pos = np.median(lates_directed[i])>0"
   ]
  },
  {
   "cell_type": "code",
   "execution_count": null,
   "id": "d532b2d5",
   "metadata": {},
   "outputs": [],
   "source": [
    "if is_pos:\n",
    "    start_i =  pairs_directed[i][0]\n",
    "    end_i = pairs_directed[i][1]\n",
    "else:\n",
    "    start_i =  pairs_directed[i][1]\n",
    "    end_i = pairs_directed[i][0] "
   ]
  },
  {
   "cell_type": "markdown",
   "id": "92e56d23",
   "metadata": {},
   "source": [
    "Calculate distance"
   ]
  },
  {
   "cell_type": "code",
   "execution_count": null,
   "id": "09631280",
   "metadata": {},
   "outputs": [],
   "source": [
    "pair_distance = np.sqrt( (neuron_x[end_i] - neuron_x[start_i] )**2 + (neuron_y[end_i] - neuron_y[start_i] )**2 )"
   ]
  },
  {
   "cell_type": "markdown",
   "id": "af8fcce3",
   "metadata": {},
   "source": [
    "plot arrow"
   ]
  },
  {
   "cell_type": "code",
   "execution_count": null,
   "id": "2a8d5741",
   "metadata": {},
   "outputs": [],
   "source": [
    "arrow = FancyArrow( neuron_x[end_i], neuron_y[end_i], neuron_x[start_i] - neuron_x[end_i], neuron_y[start_i] - neuron_y[end_i], length_includes_head=True, head_width=2,\n",
    "                                   linewidth=1, color='black', alpha=0.7, edgecolor='black', facecolor='black')\n",
    "plt.gca().add_patch(arrow)"
   ]
  },
  {
   "cell_type": "code",
   "execution_count": null,
   "id": "a137f4a1",
   "metadata": {},
   "outputs": [],
   "source": []
  },
  {
   "cell_type": "code",
   "execution_count": null,
   "id": "3ae0ed4a",
   "metadata": {},
   "outputs": [],
   "source": []
  },
  {
   "cell_type": "code",
   "execution_count": null,
   "id": "a267627d",
   "metadata": {},
   "outputs": [],
   "source": []
  },
  {
   "cell_type": "code",
   "execution_count": null,
   "id": "f0a2dfac",
   "metadata": {},
   "outputs": [],
   "source": []
  },
  {
   "cell_type": "code",
   "execution_count": null,
   "id": "ea66782b",
   "metadata": {},
   "outputs": [],
   "source": [
    "neuron_x[start_i]"
   ]
  },
  {
   "cell_type": "code",
   "execution_count": null,
   "id": "1b746746",
   "metadata": {},
   "outputs": [],
   "source": [
    "neuron_x[end_i]"
   ]
  },
  {
   "cell_type": "markdown",
   "id": "9e9857a2",
   "metadata": {},
   "source": [
    "### plot"
   ]
  },
  {
   "cell_type": "code",
   "execution_count": null,
   "id": "30341070",
   "metadata": {},
   "outputs": [],
   "source": [
    "#fig, ax = plt.subplots(figsize=(8, 6))\n",
    "plt.figsize= (8,6)\n",
    "plt.scatter( neuron_x[start_i], neuron_y[start_i], alpha=0 )\n",
    "#plt.xlim(500,1600)\n",
    "#plt.ylim(0,2200)\n",
    "arrow = FancyArrow( neuron_x[end_i], neuron_y[end_i], neuron_x[start_i] - neuron_x[end_i], neuron_y[start_i] - neuron_y[end_i], length_includes_head=True, head_width=3,\n",
    "                                   linewidth=1, color='black', alpha=0.7, edgecolor='black', facecolor='black')\n",
    "plt.gca().add_patch(arrow)\n",
    "\n",
    "\n",
    "plt.xlabel('um')\n",
    "plt.ylabel('um')\n",
    "plt.title(\"Directionality plot\")  # Adding the title\n",
    "plt.show()"
   ]
  },
  {
   "cell_type": "code",
   "execution_count": null,
   "id": "ea027a2d",
   "metadata": {},
   "outputs": [],
   "source": [
    "fig, ax = plt.subplots(figsize=(8, 6))\n",
    "plt.scatter(neuron_x[start_i], neuron_y[start_i], alpha=0)\n",
    "arrow = FancyArrow(neuron_x[end_i], neuron_y[end_i], neuron_x[start_i] - neuron_x[end_i], neuron_y[start_i] - neuron_y[end_i],\n",
    "                   length_includes_head=True, head_width=3, linewidth=1, color='black', alpha=0.7, edgecolor='black', facecolor='black')\n",
    "ax.add_patch(arrow)\n",
    "plt.xlim(500, 1600)\n",
    "plt.ylim(0, 2200)\n",
    "ax.set_xlabel('um')\n",
    "ax.set_ylabel('um')\n",
    "ax.set_title(\"Directionality plot\")  # Adding the title\n",
    "plt.show()"
   ]
  },
  {
   "cell_type": "code",
   "execution_count": null,
   "id": "60fa8591",
   "metadata": {},
   "outputs": [],
   "source": []
  },
  {
   "cell_type": "code",
   "execution_count": null,
   "id": "6ec8b72e",
   "metadata": {},
   "outputs": [],
   "source": []
  },
  {
   "cell_type": "markdown",
   "id": "984ccc2f",
   "metadata": {},
   "source": [
    "### <font color=\"brown\">reference code"
   ]
  },
  {
   "cell_type": "code",
   "execution_count": null,
   "id": "20983795",
   "metadata": {},
   "outputs": [],
   "source": [
    "fig, ax = plt.subplots(figsize=(8, 6))\n",
    "ax.scatter(neuron_x, neuron_y, s=neuron_amp, c=upd_node_info)\n",
    "threshold = thresh\n",
    "sttc = inp_sd.spike_time_tilings()\n",
    "for i in range(sttc.shape[0]):\n",
    "    for j in range(sttc.shape[1]):\n",
    "        if i <= j:\n",
    "            continue\n",
    "        if sttc[i, j] < threshold:\n",
    "            continue\n",
    "#             if i in [7, 10, 16, 43, 48, 66, 67]:\n",
    "#                 continue\n",
    "#             if j in [7, 10, 16, 43, 48, 66, 67]:\n",
    "            continue\n",
    "        ix, iy = inp_sd.neuron_data[0][i]['position']\n",
    "        jx, jy = inp_sd.neuron_data[0][j]['position']\n",
    "        linewidth = 1.5 + 2 * (sttc[i, j] - threshold)\n",
    "        opacity = 0.2 + 0.8 * (sttc[i, j] - threshold)\n",
    "        if upd_node_info[i] == 'blue' and upd_node_info[j] == 'red':\n",
    "            linewidth = 2.0  # Set a thicker linewidth\n",
    "            arrow = FancyArrow(jx, jy, ix - jx, iy - jy, length_includes_head=True, head_width=35,\n",
    "                               linewidth=linewidth, color='black', alpha=0.7, edgecolor='black', facecolor='black')\n",
    "            plt.gca().add_patch(arrow)\n",
    "        else:\n",
    "            ax.plot([ix, jx], [iy, jy], linewidth=linewidth, color='grey', alpha=opacity)\n",
    "ax.set_xlabel('um')\n",
    "ax.set_ylabel('um')\n",
    "ax.set_title(\"Directionality plot\")  # Adding the title"
   ]
  },
  {
   "cell_type": "code",
   "execution_count": null,
   "id": "20db1ed2",
   "metadata": {},
   "outputs": [],
   "source": []
  },
  {
   "cell_type": "code",
   "execution_count": null,
   "id": "410bb858",
   "metadata": {},
   "outputs": [],
   "source": []
  },
  {
   "cell_type": "code",
   "execution_count": null,
   "id": "d155e3f0",
   "metadata": {},
   "outputs": [],
   "source": [
    "neuron_x[start_i]"
   ]
  },
  {
   "cell_type": "code",
   "execution_count": null,
   "id": "eede89e9",
   "metadata": {},
   "outputs": [],
   "source": [
    "neuron_y[start_i]"
   ]
  },
  {
   "cell_type": "code",
   "execution_count": null,
   "id": "f5af0891",
   "metadata": {},
   "outputs": [],
   "source": [
    "neuron_x[end_i]"
   ]
  },
  {
   "cell_type": "code",
   "execution_count": null,
   "id": "68d31d0c",
   "metadata": {},
   "outputs": [],
   "source": [
    "neuron_y[end_i]"
   ]
  },
  {
   "cell_type": "code",
   "execution_count": null,
   "id": "d631e852",
   "metadata": {},
   "outputs": [],
   "source": []
  },
  {
   "cell_type": "code",
   "execution_count": null,
   "id": "971ecc50",
   "metadata": {},
   "outputs": [],
   "source": []
  },
  {
   "cell_type": "code",
   "execution_count": null,
   "id": "095bad03",
   "metadata": {},
   "outputs": [],
   "source": []
  },
  {
   "cell_type": "code",
   "execution_count": null,
   "id": "d113b9de",
   "metadata": {},
   "outputs": [],
   "source": [
    "arrow = FancyArrow(jx, jy, ix - jx, iy - jy, length_includes_head=True, head_width=2,\n",
    "                                   linewidth=1, color='black', alpha=0.7, edgecolor='black', facecolor='black')\n",
    "                plt.gca().add_patch(arrow)"
   ]
  },
  {
   "cell_type": "code",
   "execution_count": null,
   "id": "1300a1b1",
   "metadata": {},
   "outputs": [],
   "source": []
  },
  {
   "cell_type": "code",
   "execution_count": null,
   "id": "095c89b1",
   "metadata": {},
   "outputs": [],
   "source": []
  },
  {
   "cell_type": "code",
   "execution_count": null,
   "id": "b3862a2e",
   "metadata": {},
   "outputs": [],
   "source": []
  },
  {
   "cell_type": "code",
   "execution_count": null,
   "id": "b6a6a0b9",
   "metadata": {},
   "outputs": [],
   "source": []
  },
  {
   "cell_type": "code",
   "execution_count": null,
   "id": "e8b97999",
   "metadata": {},
   "outputs": [],
   "source": []
  },
  {
   "cell_type": "code",
   "execution_count": null,
   "id": "ece6a933",
   "metadata": {},
   "outputs": [],
   "source": []
  },
  {
   "cell_type": "code",
   "execution_count": null,
   "id": "6302fc07",
   "metadata": {},
   "outputs": [],
   "source": [
    "sum(lates_directed[i]==0)/len(lates_directed[i])"
   ]
  },
  {
   "cell_type": "code",
   "execution_count": null,
   "id": "b943c425",
   "metadata": {},
   "outputs": [],
   "source": []
  },
  {
   "cell_type": "code",
   "execution_count": null,
   "id": "d92600e6",
   "metadata": {},
   "outputs": [],
   "source": [
    "pairs_directed"
   ]
  },
  {
   "cell_type": "code",
   "execution_count": null,
   "id": "025ab057",
   "metadata": {},
   "outputs": [],
   "source": []
  },
  {
   "cell_type": "code",
   "execution_count": null,
   "id": "11e0fd29",
   "metadata": {},
   "outputs": [],
   "source": []
  },
  {
   "cell_type": "markdown",
   "id": "2f0befba",
   "metadata": {},
   "source": [
    "### Plot all latencies"
   ]
  },
  {
   "cell_type": "code",
   "execution_count": null,
   "id": "767ec1cb",
   "metadata": {},
   "outputs": [],
   "source": []
  },
  {
   "cell_type": "markdown",
   "id": "92b78523",
   "metadata": {},
   "source": [
    "### Plot only nearby neurons"
   ]
  },
  {
   "cell_type": "code",
   "execution_count": null,
   "id": "dd66f4d8",
   "metadata": {},
   "outputs": [],
   "source": []
  },
  {
   "cell_type": "code",
   "execution_count": null,
   "id": "9968cb60",
   "metadata": {},
   "outputs": [],
   "source": []
  },
  {
   "cell_type": "code",
   "execution_count": null,
   "id": "28208bb5",
   "metadata": {},
   "outputs": [],
   "source": []
  },
  {
   "cell_type": "code",
   "execution_count": null,
   "id": "3818334a",
   "metadata": {},
   "outputs": [],
   "source": []
  },
  {
   "cell_type": "code",
   "execution_count": null,
   "id": "7d66f46f",
   "metadata": {},
   "outputs": [],
   "source": []
  },
  {
   "cell_type": "code",
   "execution_count": null,
   "id": "da5442e1",
   "metadata": {},
   "outputs": [],
   "source": [
    "lates_pair = np.array( lates_raw[0] )"
   ]
  },
  {
   "cell_type": "code",
   "execution_count": null,
   "id": "15679e50",
   "metadata": {},
   "outputs": [],
   "source": []
  },
  {
   "cell_type": "code",
   "execution_count": null,
   "id": "d201da5d",
   "metadata": {},
   "outputs": [],
   "source": [
    "percent_neg = sum( lates_pair<0 )/len(lates_pair)"
   ]
  },
  {
   "cell_type": "code",
   "execution_count": null,
   "id": "c98d7e1e",
   "metadata": {},
   "outputs": [],
   "source": [
    "percent_neg"
   ]
  },
  {
   "cell_type": "code",
   "execution_count": null,
   "id": "e4fcc992",
   "metadata": {},
   "outputs": [],
   "source": []
  },
  {
   "cell_type": "code",
   "execution_count": null,
   "id": "6c1cbd75",
   "metadata": {},
   "outputs": [],
   "source": []
  },
  {
   "cell_type": "code",
   "execution_count": null,
   "id": "27ec147e",
   "metadata": {},
   "outputs": [],
   "source": []
  },
  {
   "cell_type": "code",
   "execution_count": null,
   "id": "3c31df1e",
   "metadata": {},
   "outputs": [],
   "source": []
  },
  {
   "cell_type": "code",
   "execution_count": null,
   "id": "dc475ddd",
   "metadata": {},
   "outputs": [],
   "source": []
  },
  {
   "cell_type": "code",
   "execution_count": null,
   "id": "57e923c5",
   "metadata": {},
   "outputs": [],
   "source": []
  },
  {
   "cell_type": "code",
   "execution_count": null,
   "id": "6bb82817",
   "metadata": {},
   "outputs": [],
   "source": []
  },
  {
   "cell_type": "code",
   "execution_count": null,
   "id": "d7a51452",
   "metadata": {},
   "outputs": [],
   "source": [
    " np.array(test) < 0"
   ]
  },
  {
   "cell_type": "code",
   "execution_count": null,
   "id": "daae5eb5",
   "metadata": {},
   "outputs": [],
   "source": [
    "check"
   ]
  },
  {
   "cell_type": "code",
   "execution_count": null,
   "id": "05f5fbb8",
   "metadata": {},
   "outputs": [],
   "source": []
  },
  {
   "cell_type": "code",
   "execution_count": null,
   "id": "9bd1a6ec",
   "metadata": {},
   "outputs": [],
   "source": []
  },
  {
   "cell_type": "code",
   "execution_count": null,
   "id": "2c2e470a",
   "metadata": {},
   "outputs": [],
   "source": []
  },
  {
   "cell_type": "code",
   "execution_count": null,
   "id": "8db3e182",
   "metadata": {},
   "outputs": [],
   "source": []
  },
  {
   "cell_type": "code",
   "execution_count": null,
   "id": "6de90b29",
   "metadata": {},
   "outputs": [],
   "source": [
    "check"
   ]
  },
  {
   "cell_type": "code",
   "execution_count": null,
   "id": "6480248b",
   "metadata": {},
   "outputs": [],
   "source": []
  },
  {
   "cell_type": "code",
   "execution_count": null,
   "id": "c99366cf",
   "metadata": {},
   "outputs": [],
   "source": [
    "lates = list(filter(lambda x: x < 10 and x > -10, lates_raw))"
   ]
  },
  {
   "cell_type": "code",
   "execution_count": null,
   "id": "71cb95f9",
   "metadata": {},
   "outputs": [],
   "source": []
  },
  {
   "cell_type": "code",
   "execution_count": null,
   "id": "4f2fc60f",
   "metadata": {},
   "outputs": [],
   "source": []
  },
  {
   "cell_type": "code",
   "execution_count": null,
   "id": "4ebfdf51",
   "metadata": {},
   "outputs": [],
   "source": []
  },
  {
   "cell_type": "code",
   "execution_count": null,
   "id": "3cf341e7",
   "metadata": {},
   "outputs": [],
   "source": [
    "neuron_pairs_above_threshold"
   ]
  },
  {
   "cell_type": "code",
   "execution_count": null,
   "id": "aa223655",
   "metadata": {},
   "outputs": [],
   "source": []
  },
  {
   "cell_type": "code",
   "execution_count": null,
   "id": "bb75df38",
   "metadata": {},
   "outputs": [],
   "source": []
  },
  {
   "cell_type": "code",
   "execution_count": null,
   "id": "de3040f6",
   "metadata": {},
   "outputs": [],
   "source": []
  },
  {
   "cell_type": "code",
   "execution_count": null,
   "id": "0e3f4098",
   "metadata": {},
   "outputs": [],
   "source": []
  },
  {
   "cell_type": "code",
   "execution_count": null,
   "id": "1bcad44d",
   "metadata": {},
   "outputs": [],
   "source": []
  },
  {
   "cell_type": "code",
   "execution_count": null,
   "id": "5595afd5",
   "metadata": {},
   "outputs": [],
   "source": []
  },
  {
   "cell_type": "code",
   "execution_count": null,
   "id": "13016b5d",
   "metadata": {},
   "outputs": [],
   "source": []
  },
  {
   "cell_type": "code",
   "execution_count": null,
   "id": "2cd3bcf4",
   "metadata": {},
   "outputs": [],
   "source": []
  },
  {
   "cell_type": "code",
   "execution_count": null,
   "id": "35088bbc",
   "metadata": {},
   "outputs": [],
   "source": []
  },
  {
   "cell_type": "code",
   "execution_count": null,
   "id": "75364c54",
   "metadata": {},
   "outputs": [],
   "source": []
  },
  {
   "cell_type": "markdown",
   "id": "61def9be",
   "metadata": {},
   "source": [
    "# <font color=\"gray\">refrerence code"
   ]
  },
  {
   "cell_type": "code",
   "execution_count": null,
   "id": "a9385001",
   "metadata": {},
   "outputs": [],
   "source": [
    "import numpy as np\n",
    "import matplotlib.pyplot as plt\n",
    "\n",
    "def plot_latency_histograms_for_random_pairs(sd, threshold=0.3, num_random_pairs=30):\n",
    "    neuron_pairs = find_sttc_above_threshold(sd, threshold)\n",
    "\n",
    "    # Get 'num_random_pairs' random indices to choose random neuron pairs\n",
    "    random_indices = np.random.choice(neuron_pairs.shape[0], num_random_pairs, replace=False)\n",
    "    random_neuron_pairs = neuron_pairs[random_indices]\n",
    "    \n",
    "    fig, axs = plt.subplots(8, 8, figsize=(30, 30))\n",
    "    axs = axs.ravel()\n",
    "\n",
    "    # Collect latency data from all neuron pairs\n",
    "    all_lates = []\n",
    "\n",
    "    for i, neuron_pair in enumerate(random_neuron_pairs):\n",
    "        neuron1, neuron2 = neuron_pair\n",
    "        lates_n1 = sd.latencies_to_index(neuron1)\n",
    "        lates_raw = lates_n1[neuron2]\n",
    "        lates = list(filter(lambda x: x < 10 and x > -10, lates_raw))\n",
    "\n",
    "        all_lates.extend(lates)  # Collect all latencies for setting common axis limits\n",
    "\n",
    "        mean_latency = np.mean(lates)\n",
    "        std_latency = np.std(lates)\n",
    "\n",
    "        axs[i].hist(lates, bins=10, alpha=0.7, label='Latency')\n",
    "        axs[i].axvline(mean_latency, color='red', linestyle='dashed', linewidth=2, label='Mean')\n",
    "        axs[i].axvline(mean_latency - std_latency, color='green', linestyle='dashed', linewidth=2, label='Std -')\n",
    "        axs[i].axvline(mean_latency + std_latency, color='green', linestyle='dashed', linewidth=2, label='Std +')\n",
    "\n",
    "        axs[i].set_xlabel(\"Latency (ms)\")\n",
    "        axs[i].set_ylabel(\"Number of spike pairs\")\n",
    "        axs[i].set_title(f\"Latency Histogram - Neuron Pair {neuron1} and {neuron2}\")\n",
    "\n",
    "    # Calculate common axis limits from all latencies\n",
    "    common_x_limit = (-10, 10)  # You can adjust the range if needed\n",
    "    common_y_limit = (0, len(all_lates)//10)  # Dividing by 10 just to set a reasonable range for the y-axis\n",
    "\n",
    "    # Set common axis limits for all subplots\n",
    "    for ax in axs:\n",
    "        ax.set_xlim(common_x_limit)\n",
    "        ax.set_ylim(common_y_limit)\n",
    "\n",
    "    # Hide unused subplots\n",
    "    for i in range(num_random_pairs, len(axs)):\n",
    "        axs[i].axis('off')\n",
    "\n",
    "    plt.tight_layout()\n",
    "    plt.savefig('LatencyDistributions.png')\n",
    "    plt.show()\n",
    "\n",
    "# Call the function with your SpikeData object, the desired STTC threshold, and the number of random pairs to plot\n",
    "plot_latency_histograms_for_random_pairs(sd, threshold=0.48, num_random_pairs=64)"
   ]
  },
  {
   "cell_type": "code",
   "execution_count": null,
   "id": "a6e8dfbb",
   "metadata": {},
   "outputs": [],
   "source": []
  },
  {
   "cell_type": "code",
   "execution_count": null,
   "id": "cd1f3f63",
   "metadata": {},
   "outputs": [],
   "source": []
  },
  {
   "cell_type": "code",
   "execution_count": null,
   "id": "7f71f040",
   "metadata": {},
   "outputs": [],
   "source": []
  },
  {
   "cell_type": "code",
   "execution_count": null,
   "id": "051bf1f5",
   "metadata": {},
   "outputs": [],
   "source": []
  },
  {
   "cell_type": "code",
   "execution_count": null,
   "id": "b0aec33b",
   "metadata": {},
   "outputs": [],
   "source": []
  },
  {
   "cell_type": "code",
   "execution_count": null,
   "id": "78cf0763",
   "metadata": {},
   "outputs": [],
   "source": []
  },
  {
   "cell_type": "code",
   "execution_count": null,
   "id": "b50a8ddd",
   "metadata": {},
   "outputs": [],
   "source": []
  }
 ],
 "metadata": {
  "hide_input": false,
  "kernelspec": {
   "display_name": "Python 3 (ipykernel)",
   "language": "python",
   "name": "python3"
  },
  "language_info": {
   "codemirror_mode": {
    "name": "ipython",
    "version": 3
   },
   "file_extension": ".py",
   "mimetype": "text/x-python",
   "name": "python",
   "nbconvert_exporter": "python",
   "pygments_lexer": "ipython3",
   "version": "3.10.10"
  },
  "toc": {
   "base_numbering": 1,
   "nav_menu": {},
   "number_sections": true,
   "sideBar": true,
   "skip_h1_title": false,
   "title_cell": "Table of Contents",
   "title_sidebar": "Contents",
   "toc_cell": false,
   "toc_position": {},
   "toc_section_display": true,
   "toc_window_display": false
  },
  "varInspector": {
   "cols": {
    "lenName": 16,
    "lenType": 16,
    "lenVar": 40
   },
   "kernels_config": {
    "python": {
     "delete_cmd_postfix": "",
     "delete_cmd_prefix": "del ",
     "library": "var_list.py",
     "varRefreshCmd": "print(var_dic_list())"
    },
    "r": {
     "delete_cmd_postfix": ") ",
     "delete_cmd_prefix": "rm(",
     "library": "var_list.r",
     "varRefreshCmd": "cat(var_dic_list()) "
    }
   },
   "types_to_exclude": [
    "module",
    "function",
    "builtin_function_or_method",
    "instance",
    "_Feature"
   ],
   "window_display": false
  }
 },
 "nbformat": 4,
 "nbformat_minor": 5
}

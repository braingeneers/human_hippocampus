{
 "cells": [
  {
   "cell_type": "markdown",
   "metadata": {},
   "source": [
    "<font size=7> HC112823 Buzsaki Latencies "
   ]
  },
  {
   "cell_type": "markdown",
   "metadata": {},
   "source": [
    "<font color=\"red\"> In sanity curation, required there to be at least 20 latencies"
   ]
  },
  {
   "cell_type": "markdown",
   "metadata": {},
   "source": [
    "# Import stuff, get data"
   ]
  },
  {
   "cell_type": "markdown",
   "metadata": {},
   "source": [
    "I attempt to get Sury's code for analyzing connectivity working."
   ]
  },
  {
   "cell_type": "code",
   "execution_count": 2,
   "metadata": {},
   "outputs": [],
   "source": [
    "from scipy.ndimage import gaussian_filter1d"
   ]
  },
  {
   "cell_type": "code",
   "execution_count": 1,
   "metadata": {},
   "outputs": [],
   "source": [
    "import numpy as np\n",
    "import matplotlib.pyplot as plt\n",
    "from scipy.ndimage import gaussian_filter1d\n",
    "from scipy import signal\n",
    "import math\n",
    "from scipy.sparse import csr_array\n",
    "import pickle\n",
    "\n",
    "\n",
    "import pickle\n",
    "from human_hip.spike_data import curate_latencies, plot_raster_latency_pairs, plot_vector_layout, read_phy_files,\\\n",
    "                                  plot_latency_dist_hist, plot_latency_angle_hist, read_autocurated_data\n",
    "from human_hip.animate import animate_latencies"
   ]
  },
  {
   "cell_type": "code",
   "execution_count": 3,
   "metadata": {},
   "outputs": [],
   "source": [
    "with open('/workspaces/human_hippocampus/data/ephys/2023-05-10-e-hc52_18790_unperturbed/5-10-23s1-CutData.pkl', 'rb' ) as my_file:\n",
    "    sd = pickle.load(my_file)"
   ]
  },
  {
   "cell_type": "markdown",
   "metadata": {},
   "source": [
    "# <font color=\"grey\"> Helper Code\n"
   ]
  },
  {
   "cell_type": "markdown",
   "metadata": {},
   "source": [
    "Code is adapted from `latencies.py` in the `src` folder"
   ]
  },
  {
   "cell_type": "markdown",
   "metadata": {},
   "source": [
    "## <font color=\"grey\"> latencies"
   ]
  },
  {
   "cell_type": "code",
   "execution_count": 4,
   "metadata": {},
   "outputs": [],
   "source": [
    "\n",
    "import numpy as np\n",
    "from scipy.signal import correlate, correlation_lags\n",
    "\n",
    "\n",
    "\n",
    "def latencies(neuron1, neuron2, sd, ms_cutoff_low=0, ms_cutoff_high=20 ):\n",
    "    \"\"\"\n",
    "    Function:\n",
    "        returns all the latencies that occur between two neurons, n1 and n2. \n",
    "        A latency is defined as the time difference between a spike from n1 and the nearest spike from n2 (positive or negative)\n",
    "    Inputs:\n",
    "        neuron1 (integer): index of the neuron, n1 \n",
    "        neuron2 (integer): index of the neuron, n2, *note* if n1 occurs before n2, the latency will be positive\n",
    "        sd (SpikeData object): contains the original spike data from the recording\n",
    "        ms_cutoff (integer): the maximum latency to be considered, in milliseconds\n",
    "    Outputs:\n",
    "        cur_latencies (np.array): the time difference between n1 and n2, for ever latency occurence less than ms_cutoff\n",
    "    \"\"\"\n",
    "    train1 = sd.train[ neuron1 ]\n",
    "    train2 = sd.train[ neuron2 ]    \n",
    "    cur_latencies = []\n",
    "    for time in train1:\n",
    "        abs_diff_ind = np.argmin(np.abs(train2 - time))  # Subtract time from all spikes in the train and take the absolute value        \n",
    "        latency = np.array(train2)-time       # Calculate the actual latency\n",
    "        latency = latency[abs_diff_ind]\n",
    "\n",
    "        if np.abs(latency) <= ms_cutoff_high and np.abs(latency) >= ms_cutoff_low : # Only append latencies within a certain time cutoff\n",
    "            cur_latencies.append(latency)\n",
    "    return np.array(cur_latencies)\n",
    "\n"
   ]
  },
  {
   "cell_type": "markdown",
   "metadata": {},
   "source": [
    "## <font color=\"grey\"> Cross Sttc"
   ]
  },
  {
   "cell_type": "markdown",
   "metadata": {},
   "source": [
    "<font color=\"orange\">I change the original code to calculate the cross sttc from -50-50ms instead of -1000-1000ms. This is done to speed up the calculation."
   ]
  },
  {
   "cell_type": "code",
   "execution_count": 5,
   "metadata": {},
   "outputs": [],
   "source": [
    "\n",
    "def cross_sttc( n1, n2, sd, delt=20 ):\n",
    "    \"\"\"\n",
    "    Function: Calculates the cross correlation from -1000ms to 1000ms, expcept using the spike time tiling coefficient, between two neurons, n1 and n2\n",
    "    Inputs:\n",
    "        n1 (integer): index of the neuron, n1 \n",
    "        n2 (integer): index of the neuron, n2\n",
    "        sd (SpikeData object): contains the original spike data from the recording\n",
    "        delt (integer): the time window to calculate the spike time tiling coefficient over\n",
    "    Outputs:\n",
    "        sttc (float): the spike time tiling coefficient for each shift between n1 and n2\n",
    "    \"\"\"\n",
    "    assert len(sd.neuron_data[0]) == len(sd.train) \n",
    "    sttcs = []\n",
    "    for i in range(-30,31):\n",
    "        sd.train.append( sd.train[n1]+i )\n",
    "        sttcs.append( sd.spike_time_tiling( len(sd.neuron_data[0]) , n2, delt= delt) )\n",
    "        sd.train.pop(-1)\n",
    "    return np.array(sttcs)\n"
   ]
  },
  {
   "cell_type": "markdown",
   "metadata": {},
   "source": [
    "## <font color=\"grey\">Poission Probability <small> Sury Code"
   ]
  },
  {
   "cell_type": "markdown",
   "metadata": {},
   "source": [
    "Probability of computing n or more event given lambda_"
   ]
  },
  {
   "cell_type": "markdown",
   "metadata": {},
   "source": [
    "<font color=\"orange\"> I have to still check that Sury's code is correct"
   ]
  },
  {
   "cell_type": "code",
   "execution_count": 6,
   "metadata": {},
   "outputs": [],
   "source": [
    "def p_fast(n, lambda_):\n",
    "    \"\"\"\n",
    "    A poisson estimation of the probability of observing n or more events\n",
    "    \"\"\"\n",
    "    ## take log to make sure the factorial does not overflow\n",
    "    # add poisson_var when x = 0, 1, take log after calculation to avoid log(0)\n",
    "    if n > 1:\n",
    "        poisson_01 = [np.exp(-lambda_)*lambda_**x/math.factorial(x) for x in [0, 1]]\n",
    "        poisson_res = [np.exp(-lambda_ + x*math.log(lambda_) - math.log(math.factorial(x))) for x in range(2, n)]\n",
    "        poisson_var = poisson_01 + poisson_res\n",
    "    else:\n",
    "        poisson_var = [np.exp(-lambda_)*lambda_**x/math.factorial(x) for x in range(n)]\n",
    "    continuity_correction = np.exp((math.log(0.5) - lambda_ + n*math.log(lambda_)) - math.log(math.factorial(n)))\n",
    "    return 1 - np.sum(poisson_var) - continuity_correction\n"
   ]
  },
  {
   "cell_type": "markdown",
   "metadata": {},
   "source": [
    "# Initial Curation"
   ]
  },
  {
   "cell_type": "markdown",
   "metadata": {},
   "source": [
    "code is from `curate_latencies` function"
   ]
  },
  {
   "cell_type": "code",
   "execution_count": 40,
   "metadata": {},
   "outputs": [
    {
     "name": "stdout",
     "output_type": "stream",
     "text": [
      "10000 Starting Pairs\n",
      "1414 pairs above sttc cutoff\n",
      "157 pairs above latencency cutoff\n"
     ]
    }
   ],
   "source": [
    "sttc_cutoff = 0.04\n",
    "latency_cutoff=1\n",
    "sttc_delta=20 \n",
    "\n",
    "# Get all latencies whose STTC is above some minimum STTC cuttoff\n",
    "print(sd.N**2 , \"Starting Pairs\")\n",
    "sttc_neo = sd.spike_time_tilings( sttc_delta )    # sttc matrix   \n",
    "pairs = []                            # get list (without duplicates) of all pairs above cutoff (excluding diagonal)\n",
    "for i in range(sd.N):\n",
    "    for j in range(i+1,sd.N):\n",
    "        if sttc_neo[i,j] > sttc_cutoff:\n",
    "            pairs.append([i,j])\n",
    "print( len(pairs), \"pairs above sttc cutoff\")\n",
    "\n",
    "# Get all latencies whose median latency is above some minimum Latency Cuttoff\n",
    "pairs_late = [] #lags_late = []\n",
    "for pair in pairs:\n",
    "    pair_latencies = latencies( pair[0], pair[1], sd, ms_cutoff_high=20)  #latency= np.median(pair_latencies)\n",
    "    if abs(np.median(pair_latencies)) > latency_cutoff  and len(pair_latencies)>30 :\n",
    "        pairs_late.append( pair )  #lags_late.append( latency )\n",
    "pairs= pairs_late\n",
    "print( len(pairs_late), \"pairs above latencency cutoff\")\n",
    "\n",
    "\n",
    "\n"
   ]
  },
  {
   "cell_type": "markdown",
   "metadata": {},
   "source": [
    "# Buzsaki Method STTC"
   ]
  },
  {
   "cell_type": "markdown",
   "metadata": {},
   "source": [
    "<font color=\"orange\"> Original paper only considered lags between 0.8-2.8ms. We consider broader range"
   ]
  },
  {
   "cell_type": "markdown",
   "metadata": {},
   "source": [
    "<font color=\"red\"> Start by doing function for 1 pair"
   ]
  },
  {
   "cell_type": "code",
   "execution_count": null,
   "metadata": {},
   "outputs": [],
   "source": []
  },
  {
   "cell_type": "code",
   "execution_count": 34,
   "metadata": {},
   "outputs": [],
   "source": [
    "cross_sttc_min_cutoff=1\n",
    "cross_sttc_max_cutoff=4"
   ]
  },
  {
   "cell_type": "code",
   "execution_count": 35,
   "metadata": {},
   "outputs": [
    {
     "name": "stderr",
     "output_type": "stream",
     "text": [
      "/tmp/ipykernel_7994/1247081216.py:12: DeprecationWarning: Call to deprecated function (or staticmethod) neuron_data. (Use NeuronAttributes instead of neuron_data, with the function load_spike_data())\n",
      "  assert len(sd.neuron_data[0]) == len(sd.train)\n",
      "/tmp/ipykernel_7994/1247081216.py:16: DeprecationWarning: Call to deprecated function (or staticmethod) neuron_data. (Use NeuronAttributes instead of neuron_data, with the function load_spike_data())\n",
      "  sttcs.append( sd.spike_time_tiling( len(sd.neuron_data[0]) , n2, delt= delt) )\n"
     ]
    }
   ],
   "source": [
    "pairs_pois = []\n",
    "for pair in pairs:\n",
    "    sttcs = cross_sttc( pair[0], pair[1], sd, delt=sttc_delta ) \n",
    "    sttcs_smth = gaussian_filter1d(sttcs, sigma=10)  \n",
    "\n",
    "    sttcs_cutoff = sttcs[30+cross_sttc_min_cutoff:30+cross_sttc_max_cutoff]\n",
    "    max_arg_cutoff = np.argwhere(sttcs_cutoff == np.amax(sttcs_cutoff))[0][0] \n",
    "    pois_n = max_arg_cutoff+cross_sttc_min_cutoff\n",
    "    max_arg = max_arg_cutoff+30+cross_sttc_min_cutoff\n",
    "    pois_lambda = sttcs_smth[max_arg]\n",
    "    p_val = p_fast(pois_n, pois_lambda)\n",
    "    if p_val < 0.0005:\n",
    "        pairs_pois.append( pair )\n",
    "pairs_pois = np.array(pairs_pois)"
   ]
  },
  {
   "cell_type": "code",
   "execution_count": 36,
   "metadata": {},
   "outputs": [
    {
     "data": {
      "text/plain": [
       "42"
      ]
     },
     "execution_count": 36,
     "metadata": {},
     "output_type": "execute_result"
    }
   ],
   "source": [
    "len(pairs_pois)"
   ]
  },
  {
   "cell_type": "code",
   "execution_count": 37,
   "metadata": {},
   "outputs": [],
   "source": [
    "pairs_good = pairs_pois"
   ]
  },
  {
   "cell_type": "code",
   "execution_count": 38,
   "metadata": {},
   "outputs": [
    {
     "data": {
      "image/png": "[encoded data removed]",
      "text/plain": [
       "<Figure size 800x800 with 1 Axes>"
      ]
     },
     "metadata": {},
     "output_type": "display_data"
    }
   ],
   "source": [
    "plot_vector_layout( sd, pairs_good )"
   ]
  },
  {
   "cell_type": "code",
   "execution_count": 39,
   "metadata": {},
   "outputs": [
    {
     "data": {
      "image/png": "[encoded data removed]",
      "text/plain": [
       "<Figure size 640x480 with 1 Axes>"
      ]
     },
     "metadata": {},
     "output_type": "display_data"
    }
   ],
   "source": [
    "plot_latency_angle_hist(sd, pairs_pois , by_firing_rate=True)\n"
   ]
  },
  {
   "cell_type": "code",
   "execution_count": null,
   "metadata": {},
   "outputs": [],
   "source": []
  },
  {
   "cell_type": "code",
   "execution_count": null,
   "metadata": {},
   "outputs": [],
   "source": []
  },
  {
   "cell_type": "code",
   "execution_count": null,
   "metadata": {},
   "outputs": [],
   "source": []
  },
  {
   "cell_type": "code",
   "execution_count": 30,
   "metadata": {},
   "outputs": [],
   "source": [
    "#pair=pairs[0]\n",
    "#\n",
    "#pair"
   ]
  },
  {
   "cell_type": "code",
   "execution_count": 28,
   "metadata": {},
   "outputs": [
    {
     "name": "stderr",
     "output_type": "stream",
     "text": [
      "/tmp/ipykernel_404/1247081216.py:12: DeprecationWarning: Call to deprecated function (or staticmethod) neuron_data. (Use NeuronAttributes instead of neuron_data, with the function load_spike_data())\n",
      "  assert len(sd.neuron_data[0]) == len(sd.train)\n",
      "/tmp/ipykernel_404/1247081216.py:16: DeprecationWarning: Call to deprecated function (or staticmethod) neuron_data. (Use NeuronAttributes instead of neuron_data, with the function load_spike_data())\n",
      "  sttcs.append( sd.spike_time_tiling( len(sd.neuron_data[0]) , n2, delt= delt) )\n"
     ]
    }
   ],
   "source": [
    "sttcs = cross_sttc( pair[0], pair[1], sd, delt=sttc_delta ) \n",
    "sttcs_smth = gaussian_filter1d(sttcs, sigma=10)  \n",
    "\n",
    "sttcs_cutoff = sttcs[30+cross_sttc_min_cutoff:30+cross_sttc_max_cutoff]\n",
    "max_arg_cutoff = np.argwhere(sttcs_cutoff == np.amax(sttcs_cutoff))[0][0] \n",
    "pois_n = max_arg_cutoff+cross_sttc_min_cutoff\n",
    "max_arg = max_arg_cutoff+30+cross_sttc_min_cutoff\n",
    "pois_lambda = sttcs_smth[max_arg]\n",
    "p_val = p_fast(pois_n, pois_lambda)\n",
    "\n",
    "#max_args = np.argwhere(sttcs == np.amax(sttcs)) - 1000 \n",
    "#cross_lag.append( max_args[np.argmin(np.abs(max_args))][0] )   # if multiple maxima, take the one closest to zero"
   ]
  },
  {
   "cell_type": "code",
   "execution_count": 27,
   "metadata": {},
   "outputs": [],
   "source": []
  },
  {
   "cell_type": "code",
   "execution_count": null,
   "metadata": {},
   "outputs": [],
   "source": []
  },
  {
   "cell_type": "code",
   "execution_count": 23,
   "metadata": {},
   "outputs": [],
   "source": []
  },
  {
   "cell_type": "code",
   "execution_count": 24,
   "metadata": {},
   "outputs": [
    {
     "data": {
      "text/plain": [
       "0.16314259748228155"
      ]
     },
     "execution_count": 24,
     "metadata": {},
     "output_type": "execute_result"
    }
   ],
   "source": [
    "pois_lambda"
   ]
  },
  {
   "cell_type": "code",
   "execution_count": 22,
   "metadata": {},
   "outputs": [
    {
     "data": {
      "text/plain": [
       "0.16314259748228155"
      ]
     },
     "execution_count": 22,
     "metadata": {},
     "output_type": "execute_result"
    }
   ],
   "source": [
    "sttcs_smth[max_arg]"
   ]
  },
  {
   "cell_type": "code",
   "execution_count": null,
   "metadata": {},
   "outputs": [],
   "source": []
  },
  {
   "cell_type": "code",
   "execution_count": 15,
   "metadata": {},
   "outputs": [
    {
     "data": {
      "text/plain": [
       "1"
      ]
     },
     "execution_count": 15,
     "metadata": {},
     "output_type": "execute_result"
    }
   ],
   "source": [
    "pois_n"
   ]
  },
  {
   "cell_type": "code",
   "execution_count": 16,
   "metadata": {},
   "outputs": [
    {
     "data": {
      "text/plain": [
       "31"
      ]
     },
     "execution_count": 16,
     "metadata": {},
     "output_type": "execute_result"
    }
   ],
   "source": [
    "max_arg"
   ]
  },
  {
   "cell_type": "code",
   "execution_count": 17,
   "metadata": {},
   "outputs": [
    {
     "data": {
      "text/plain": [
       "0"
      ]
     },
     "execution_count": 17,
     "metadata": {},
     "output_type": "execute_result"
    }
   ],
   "source": [
    "max_arg_cutoff"
   ]
  },
  {
   "cell_type": "code",
   "execution_count": 19,
   "metadata": {},
   "outputs": [
    {
     "data": {
      "text/plain": [
       "31"
      ]
     },
     "execution_count": 19,
     "metadata": {},
     "output_type": "execute_result"
    }
   ],
   "source": [
    "max_arg"
   ]
  },
  {
   "cell_type": "code",
   "execution_count": 56,
   "metadata": {},
   "outputs": [
    {
     "data": {
      "text/plain": [
       "(0.17390236731548497, 0.16314259748228155)"
      ]
     },
     "execution_count": 56,
     "metadata": {},
     "output_type": "execute_result"
    }
   ],
   "source": [
    "sttcs[max_arg], sttcs_smth[max_arg]"
   ]
  },
  {
   "cell_type": "code",
   "execution_count": 59,
   "metadata": {},
   "outputs": [],
   "source": [
    "pois_n = max_arg_cutoff+cross_sttc_min_cutoff"
   ]
  },
  {
   "cell_type": "code",
   "execution_count": 60,
   "metadata": {},
   "outputs": [
    {
     "data": {
      "text/plain": [
       "1"
      ]
     },
     "execution_count": 60,
     "metadata": {},
     "output_type": "execute_result"
    }
   ],
   "source": [
    "pois_n"
   ]
  },
  {
   "cell_type": "code",
   "execution_count": 49,
   "metadata": {},
   "outputs": [],
   "source": []
  },
  {
   "cell_type": "code",
   "execution_count": 50,
   "metadata": {},
   "outputs": [
    {
     "data": {
      "text/plain": [
       "31"
      ]
     },
     "execution_count": 50,
     "metadata": {},
     "output_type": "execute_result"
    }
   ],
   "source": [
    "max_arg"
   ]
  },
  {
   "cell_type": "code",
   "execution_count": 47,
   "metadata": {},
   "outputs": [
    {
     "data": {
      "text/plain": [
       "0"
      ]
     },
     "execution_count": 47,
     "metadata": {},
     "output_type": "execute_result"
    }
   ],
   "source": []
  },
  {
   "cell_type": "code",
   "execution_count": null,
   "metadata": {},
   "outputs": [],
   "source": []
  },
  {
   "cell_type": "code",
   "execution_count": 13,
   "metadata": {},
   "outputs": [
    {
     "data": {
      "text/plain": [
       "[<matplotlib.lines.Line2D at 0x7f2040683880>]"
      ]
     },
     "execution_count": 13,
     "metadata": {},
     "output_type": "execute_result"
    },
    {
     "data": {
      "image/png": "[encoded data removed]",
      "text/plain": [
       "<Figure size 640x480 with 1 Axes>"
      ]
     },
     "metadata": {},
     "output_type": "display_data"
    }
   ],
   "source": [
    "\n",
    "sttcs\n",
    "# Create a plot\n",
    "plt.plot(sttcs)  # plots the numbers against their index\n",
    "plt.plot(sttcs_smth)  # plots the numbers against their index"
   ]
  },
  {
   "cell_type": "code",
   "execution_count": null,
   "metadata": {},
   "outputs": [],
   "source": []
  },
  {
   "cell_type": "code",
   "execution_count": null,
   "metadata": {},
   "outputs": [],
   "source": []
  },
  {
   "cell_type": "code",
   "execution_count": 34,
   "metadata": {},
   "outputs": [
    {
     "data": {
      "text/plain": [
       "31"
      ]
     },
     "execution_count": 34,
     "metadata": {},
     "output_type": "execute_result"
    }
   ],
   "source": []
  },
  {
   "cell_type": "code",
   "execution_count": null,
   "metadata": {},
   "outputs": [],
   "source": [
    "# Do cross sttc for all pairs\n",
    "print(\"Starting cross_sttc calculation... might take a minute\")\n",
    "cross_lag  = [] \n",
    "for pair in pairs: \n",
    "    sttcs = cross_sttc( pair[0], pair[1], sd, delt=sttc_delta ) \n",
    "    max_args = np.argwhere(sttcs == np.amax(sttcs)) - 1000 \n",
    "    cross_lag.append( max_args[np.argmin(np.abs(max_args))][0] )   # if multiple maxima, take the one closest to zero\n",
    "cross_lag = np.array(cross_lag)\n",
    "to_keep = np.where((np.abs(cross_lag)< cross_sttc_max_cutoff) & (np.abs(cross_lag)> cross_sttc_min_cutoff) & (cross_lag!=0) )[0]\n",
    "print( len(to_keep), \"pairs between cross_sttc cutoffs\")\n"
   ]
  },
  {
   "cell_type": "code",
   "execution_count": null,
   "metadata": {},
   "outputs": [],
   "source": []
  },
  {
   "cell_type": "code",
   "execution_count": null,
   "metadata": {},
   "outputs": [],
   "source": []
  },
  {
   "cell_type": "code",
   "execution_count": null,
   "metadata": {},
   "outputs": [],
   "source": []
  },
  {
   "cell_type": "code",
   "execution_count": null,
   "metadata": {},
   "outputs": [],
   "source": []
  },
  {
   "cell_type": "code",
   "execution_count": null,
   "metadata": {},
   "outputs": [],
   "source": []
  },
  {
   "cell_type": "code",
   "execution_count": null,
   "metadata": {},
   "outputs": [],
   "source": []
  },
  {
   "cell_type": "code",
   "execution_count": null,
   "metadata": {},
   "outputs": [],
   "source": []
  },
  {
   "cell_type": "code",
   "execution_count": null,
   "metadata": {},
   "outputs": [],
   "source": []
  },
  {
   "cell_type": "code",
   "execution_count": null,
   "metadata": {},
   "outputs": [],
   "source": []
  },
  {
   "cell_type": "code",
   "execution_count": null,
   "metadata": {},
   "outputs": [],
   "source": []
  },
  {
   "cell_type": "code",
   "execution_count": null,
   "metadata": {},
   "outputs": [],
   "source": []
  }
 ],
 "metadata": {
  "kernelspec": {
   "display_name": "notebook",
   "language": "python",
   "name": "python3"
  },
  "language_info": {
   "codemirror_mode": {
    "name": "ipython",
    "version": 3
   },
   "file_extension": ".py",
   "mimetype": "text/x-python",
   "name": "python",
   "nbconvert_exporter": "python",
   "pygments_lexer": "ipython3",
   "version": "3.10.0"
  }
 },
 "nbformat": 4,
 "nbformat_minor": 2
}

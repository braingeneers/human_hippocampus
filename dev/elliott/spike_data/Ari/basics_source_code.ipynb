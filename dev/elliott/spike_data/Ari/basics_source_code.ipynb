{
 "cells": [
  {
   "cell_type": "markdown",
   "id": "06881422",
   "metadata": {},
   "source": [
    "<font size=7> Basic Analysis"
   ]
  },
  {
   "cell_type": "markdown",
   "id": "15a78245",
   "metadata": {},
   "source": [
    "This notebook contains the code used to run some basic sanity checks on a selected dataset."
   ]
  },
  {
   "cell_type": "markdown",
   "id": "06d66ac9",
   "metadata": {},
   "source": [
    "<font color=\"red\">\n",
    "\n",
    "**To Do**\n",
    "* remove the unnecesary imports\n",
    "* for text summary, check that Tom's code produces same result as Aris code. You only have to check this for one file."
   ]
  },
  {
   "cell_type": "markdown",
   "id": "7dfa9c7e",
   "metadata": {},
   "source": [
    "# Import stuff"
   ]
  },
  {
   "cell_type": "code",
   "execution_count": 2,
   "id": "a7b823e5",
   "metadata": {},
   "outputs": [
    {
     "name": "stdout",
     "output_type": "stream",
     "text": [
      "Loading analysis source code...\n"
     ]
    }
   ],
   "source": [
    "print(\"Loading analysis source code...\")"
   ]
  },
  {
   "cell_type": "code",
   "execution_count": 14,
   "id": "21532676",
   "metadata": {},
   "outputs": [],
   "source": [
    "import fcm\n",
    "import os\n",
    "# import re\n",
    "# import glob\n",
    "# import random\n",
    "import numpy as np\n",
    "# import scipy\n",
    "# import scipy.io as sio\n",
    "import scipy.ndimage as ndimage\n",
    "from scipy.ndimage import gaussian_filter1d\n",
    "import pandas as pd\n",
    "import matplotlib.pyplot as plt\n",
    "import matplotlib.colors as mcolors\n",
    "import matplotlib.patches as patches\n",
    "from matplotlib.patches import Patch, Circle\n",
    "from matplotlib.lines import Line2D\n",
    "from PIL import Image\n",
    "import ipywidgets as ipw\n",
    "from ipywidgets import interact, interactive, fixed, interact_manual  # package for interactive widgets \n",
    "import braingeneers                                                   # Braingeneers code\n",
    "from braingeneers.analysis.analysis import SpikeData\n",
    "import braingeneers.data.datasets_electrophysiology as ephys\n",
    "from human_hip.spike_data import read_phy_files\n",
    "from IPython.display import HTML, display, Javascript, clear_output"
   ]
  },
  {
   "cell_type": "code",
   "execution_count": 4,
   "id": "24330a07",
   "metadata": {},
   "outputs": [],
   "source": [
    "import os"
   ]
  },
  {
   "cell_type": "code",
   "execution_count": null,
   "id": "cb9290e7",
   "metadata": {},
   "outputs": [],
   "source": []
  },
  {
   "cell_type": "markdown",
   "id": "1a829e7a",
   "metadata": {},
   "source": [
    "# Deeper Analysis"
   ]
  },
  {
   "cell_type": "markdown",
   "id": "0c6494d1",
   "metadata": {
    "code_folding": []
   },
   "source": [
    "## <Font color='grey'>Helper Functions"
   ]
  },
  {
   "cell_type": "code",
   "execution_count": 14,
   "id": "0e554eb5",
   "metadata": {},
   "outputs": [],
   "source": [
    "def correlation(sd):\n",
    "    # Correlation\n",
    "    corr = np.zeros((sd.N,sd.N)) #inds by inds\n",
    "    \n",
    "    dense_raster = sd.raster(bin_size=1) # in ms\n",
    "    sigma = 5                            # Blur it\n",
    "    dense_raster = gaussian_filter1d(dense_raster.astype(float),sigma=sigma)\n",
    "    corr=np.corrcoef( dense_raster )\n",
    "        \n",
    "    return corr;"
   ]
  },
  {
   "cell_type": "code",
   "execution_count": null,
   "metadata": {},
   "outputs": [],
   "source": [
    "def FCM_Plotter(dataset_path, start, stop, name, latency_thresh=0.2, latencies_ms_thresh=100, line_threshold=0.5, saved='yes'):\n",
    "    sd = read_phy_files(dataset_path)\n",
    "    sd_start = sd.subtime(start*1000, stop*1000)\n",
    "\n",
    "    not_empties = []\n",
    "    empties = []\n",
    "    arrays = sd_start.train\n",
    "    \n",
    "    # Find empty arrays\n",
    "    for i, arr in enumerate(arrays):\n",
    "        if len(arr) > 0:\n",
    "            not_empties.append(i)\n",
    "        if len(arr) == 0:\n",
    "            empties.append(i)\n",
    "    # Subset the arrays\n",
    "    sub_start = sd_start.subset(not_empties)\n",
    "    # Find the latencies\n",
    "    def latencies_mean(lat_list):\n",
    "        nested_list = lat_list\n",
    "        for i in range(len(nested_list)):\n",
    "            sublist = nested_list[i]\n",
    "            length = len(sublist)\n",
    "            if length == 0:\n",
    "                sublist_mean = 0\n",
    "            else:\n",
    "                sublist_mean = sum(sublist) / len(sublist)\n",
    "                sublist_mean = round(sublist_mean, 3)  # Round to 3d.p.\n",
    "            nested_list[i] = sublist_mean\n",
    "        return nested_list\n",
    "    # Calculate the mean latencies\n",
    "    def calculate_mean_latencies(sd, latencies_ms_thresh):\n",
    "        num_neurons = sd.N\n",
    "        latencies_array = [None] * num_neurons\n",
    "\n",
    "        for curr_neuron in range(num_neurons):\n",
    "            latencies = latencies_mean(sd.latencies_to_index(curr_neuron, window_ms=latencies_ms_thresh))\n",
    "            latencies_array[curr_neuron] = latencies\n",
    "\n",
    "        return latencies_array # Returns a list of lists\n",
    "    # Calculate the mean latencies\n",
    "    start_latencies = calculate_mean_latencies(sub_start, latencies_ms_thresh)\n",
    "    # Calculate the in and out degree\n",
    "    def compute_in_out_degree(latencies_array):\n",
    "        num_neurons = len(latencies_array)\n",
    "        in_out_deg = [(0, 0) for _ in range(num_neurons)]\n",
    "        # in_out_deg = [None] * num_neurons\n",
    "        for curr_neuron in range(num_neurons):\n",
    "            in_deg = 0\n",
    "            out_deg = 0\n",
    "            curr_neural_latencies = latencies_array[curr_neuron]\n",
    "            # in_out_deg[curr_neuron] = (in_deg, out_deg)\n",
    "            for i in range(len(curr_neural_latencies)):\n",
    "                if curr_neural_latencies[i] > 0:\n",
    "                    out_deg += 1\n",
    "                if curr_neural_latencies[i] < 0:\n",
    "                    in_deg += 1\n",
    "\n",
    "            in_out_deg[curr_neuron] = (in_deg, out_deg)\n",
    "\n",
    "        return in_out_deg # Returns a list of tuples\n",
    "    # Calculate the in and out degree\n",
    "    start_in_out_deg = compute_in_out_degree(start_latencies)\n",
    "    # Label the nodes\n",
    "    def label_nodes(in_out_deg, latency_thresh=0.2):\n",
    "        node_info = ['grey'] * len(in_out_deg)\n",
    "        # node_info = [None] * len(in_out_deg)\n",
    "        for i in range(len(in_out_deg)):\n",
    "            test1 = (in_out_deg[i][1] - in_out_deg[i][0]) / (in_out_deg[i][1] + in_out_deg[i][0])\n",
    "            test2 = (in_out_deg[i][0] - in_out_deg[i][1]) / (in_out_deg[i][1] + in_out_deg[i][0])\n",
    "            # node_info[i] = (test1, test2)\n",
    "            if test1 > latency_thresh:\n",
    "                node_info[i] = 'red'\n",
    "            if test2 > latency_thresh:\n",
    "                node_info[i] = 'blue'\n",
    "\n",
    "        return node_info # Returns a list of strings\n",
    "    # Label the nodes\n",
    "    colors = label_nodes(start_in_out_deg, latency_thresh)\n",
    "    # Plot the FCM\n",
    "    def closest_value(number):\n",
    "        closest = 5\n",
    "        if abs(number - 20) < abs(number - closest):\n",
    "            closest = 20\n",
    "        if abs(number - 50) < abs(number - closest):\n",
    "            closest = 50\n",
    "        return closest\n",
    "    # Remove empty neurons\n",
    "    sub_start.neuron_data = sd_start.neuron_data\n",
    "    neur_data = sub_start.neuron_data[0]\n",
    "    for key in empties:\n",
    "        del neur_data[key]\n",
    "    sub_start.neuron_data[0] = neur_data\n",
    "    # Plot the FCM\n",
    "    def sttc_neuron_plotter(inp_sd, upd_node_info, line_threshold):\n",
    "        neuron_x = []\n",
    "        neuron_y = []\n",
    "        neuron_amp = []\n",
    "        # Plot the FCM\n",
    "        for neuron in inp_sd.neuron_data[0].values():\n",
    "            neuron_x.append(neuron['position'][0])\n",
    "            neuron_y.append(neuron['position'][1])\n",
    "            neuron_amp.append(np.mean(neuron['amplitudes']))\n",
    "\n",
    "        neuron_amp = [closest_value(num) for num in neuron_amp]\n",
    "        # Plot the FCM\n",
    "        plt.figure(figsize=(8, 6))\n",
    "        savedFCMplot = plt.scatter(neuron_x, neuron_y, s=neuron_amp, c=upd_node_info)\n",
    "        # Set fixed limits for x and y axes\n",
    "        threshold = line_threshold\n",
    "        sttc = inp_sd.spike_time_tilings()\n",
    "\n",
    "        for i in range(sttc.shape[0]):\n",
    "            for j in range(sttc.shape[1]):\n",
    "                if i <= j:\n",
    "                    continue\n",
    "                if sttc[i, j] < threshold:\n",
    "                    continue\n",
    "                if i in empties:\n",
    "                    continue\n",
    "                if j in empties:\n",
    "                    continue\n",
    "                ix, iy = inp_sd.neuron_data[0][i]['position']\n",
    "                jx, jy = inp_sd.neuron_data[0][j]['position']\n",
    "                linewidth = 1.5 + 2 * (sttc[i, j] - threshold)\n",
    "                opacity = 0.2 + 0.8 * (sttc[i, j] - threshold)\n",
    "                plt.plot([ix, jx], [iy, jy], linewidth=linewidth, c='grey', alpha=opacity)\n",
    "\n",
    "        plt.xlabel('um')\n",
    "        plt.ylabel('um')\n",
    "        plt.title(f\"{name}\")  # Adding the title\n",
    "\n",
    "        # Set fixed limits for x and y axes\n",
    "        plt.xlim(600, 2000)\n",
    "        plt.ylim(0, 2200)\n",
    "        # Set fixed limits for x and y axes\n",
    "        node_degree_legend_elements = [\n",
    "            plt.scatter([], [], s=5, marker='o', edgecolor='black', facecolor='none', label='5'),\n",
    "            plt.scatter([], [], s=20, marker='o', edgecolor='black', facecolor='none', label='20'),\n",
    "            plt.scatter([], [], s=50, marker='o', edgecolor='black', facecolor='none', label='50')\n",
    "        ]\n",
    "        # Set fixed limits for x and y axes\n",
    "        node_type_legend_elements = [\n",
    "            plt.scatter([], [], s=50, marker='o', edgecolor='black', facecolor='grey', label='Broker'),\n",
    "            plt.scatter([], [], s=50, marker='o', edgecolor='black', facecolor='red', label='Sender'),\n",
    "            plt.scatter([], [], s=50, marker='o', edgecolor='black', facecolor='blue', label='Receiver')\n",
    "        ]\n",
    "        # Set fixed limits for x and y axes\n",
    "        node_degree_legend = plt.legend(handles=node_degree_legend_elements, title='Node Degree', loc='lower right')\n",
    "        plt.gca().add_artist(node_degree_legend)\n",
    "\n",
    "        correlation_legend_elements = [\n",
    "            plt.Line2D([0], [0], color='grey', linewidth=0.5, label='0.6'),\n",
    "            plt.Line2D([0], [0], color='grey', linewidth=1.0, label='0.8'),\n",
    "            plt.Line2D([0], [0], color='grey', linewidth=1.5, label='1.0')\n",
    "        ]\n",
    "\n",
    "        correlation_legend = plt.legend(handles=correlation_legend_elements, title='Correlation', loc='lower left')\n",
    "        plt.gca().add_artist(correlation_legend)\n",
    "\n",
    "        node_type_legend = plt.legend(handles=node_type_legend_elements, title='Node Type', loc='best')\n",
    "        if saved.lower() == \"yes\":\n",
    "            # save plot to folder\n",
    "            savepath = \"/home/jovyan/work/Human_Hippocampus/saved_plots/fcm/\" + f\"{name}_{start}_to_{stop}sec.png\"\n",
    "            plt.savefig(savepath)\n",
    "            plt.close()\n",
    "        elif saved.lower() == \"return\":\n",
    "            # saves plot to variable\n",
    "            return savedFCMplot\n",
    "        else:\n",
    "            # plots locally \n",
    "            return\n",
    "        \n",
    "    sttc_neuron_plotter(sd, colors,line_threshold)\n"
   ]
  },
  {
   "cell_type": "markdown",
   "id": "5b405b1c",
   "metadata": {},
   "source": [
    "## Main Function"
   ]
  },
  {
   "cell_type": "code",
   "execution_count": 26,
   "id": "2c83a0fc",
   "metadata": {},
   "outputs": [],
   "source": [
    "def DeeperAnalysis(filename):\n",
    "    # Plots three plots for Spikedata analysis, STTC and Correlation matrices along with Functional Connectivity Map\n",
    "    # set up\n",
    "    sd = read_phy_files(filename)\n",
    "    STTC = sd.spike_time_tilings()\n",
    "    Corr = correlation(sd)\n",
    "    \n",
    "    # Mosaic Layout\n",
    "    figLayout = \"\"\"AB\"\"\"\n",
    "                    \n",
    "    fig, plots = plt.subplot_mosaic(figLayout, figsize=(12,10))\n",
    "    \n",
    "    # subplot of STTC -----------------------------------------------------\n",
    "    pltA = plots[\"A\"].imshow(STTC)\n",
    "    plots[\"A\"].set_title(\"STTC\")\n",
    "    plots[\"A\"].set_xlabel(\"unit\")\n",
    "    plots[\"A\"].set_ylabel(\"unit\")\n",
    "    \n",
    "    fig.colorbar(pltA, ax=plots[\"A\"], shrink=0.3)\n",
    "    \n",
    "    \n",
    "    # subplot of Correlation ----------------------------------------------\n",
    "    pltB = plots[\"B\"].imshow(Corr)\n",
    "    plots[\"B\"].set_title(\"Correlation\")\n",
    "    plots[\"B\"].set_xlabel(\"unit\")\n",
    "    plots[\"B\"].set_ylabel(\"unit\")\n",
    "    \n",
    "    fig.colorbar(pltB, ax=plots[\"B\"], shrink=0.3)\n",
    "    \n",
    "    #subplot of functional connectivity -----------------------------------\n",
    "    FCM_Plotter(filename, 0, sd.length/1000, \"Functional Connectivity Map\", saved=\"no\")\n",
    "    "
   ]
  },
  {
   "cell_type": "code",
   "execution_count": null,
   "id": "6dc9ba56",
   "metadata": {},
   "outputs": [],
   "source": [
    "print(\"\\tDone!\")"
   ]
  },
  {
   "cell_type": "code",
   "execution_count": null,
   "id": "03e943a7-cd14-459f-92ca-e157791162ff",
   "metadata": {},
   "outputs": [],
   "source": []
  },
  {
   "cell_type": "code",
   "execution_count": null,
   "id": "e5146afb-983c-4747-a4ea-93a8598e991b",
   "metadata": {},
   "outputs": [],
   "source": []
  },
  {
   "cell_type": "code",
   "execution_count": null,
   "id": "6bd69049-4ec3-46ed-9a25-8d032bfba51f",
   "metadata": {},
   "outputs": [],
   "source": []
  },
  {
   "cell_type": "code",
   "execution_count": null,
   "id": "47752649-66ba-43e0-bcda-df824ba8eeaf",
   "metadata": {},
   "outputs": [],
   "source": []
  },
  {
   "cell_type": "markdown",
   "id": "371d9571",
   "metadata": {},
   "source": [
    "## <font color='brown'>test main function"
   ]
  },
  {
   "cell_type": "code",
   "execution_count": 28,
   "id": "c5d35242",
   "metadata": {},
   "outputs": [],
   "source": [
    "#file = '/home/jovyan/data/ephys/2023-05-09-e-hc52_18763/derived/kilosort2/hc52_18763_rec05092023_12_curated.zip'\n",
    "#sd = read_phy_files(file)"
   ]
  },
  {
   "cell_type": "code",
   "execution_count": 29,
   "id": "e0816d77",
   "metadata": {},
   "outputs": [],
   "source": [
    "#fcm.FCM_Plotter(file, 0, sd.length/1000, \"plot\", saved=\"no\")"
   ]
  },
  {
   "cell_type": "code",
   "execution_count": 30,
   "id": "3ad19745",
   "metadata": {},
   "outputs": [],
   "source": [
    "#interact_manual( DeeperAnalysis, filename=filenames)"
   ]
  }
 ],
 "metadata": {
  "hide_input": false,
  "kernelspec": {
   "display_name": "Python 3 (ipykernel)",
   "language": "python",
   "name": "python3"
  },
  "language_info": {
   "codemirror_mode": {
    "name": "ipython",
    "version": 3
   },
   "file_extension": ".py",
   "mimetype": "text/x-python",
   "name": "python",
   "nbconvert_exporter": "python",
   "pygments_lexer": "ipython3",
   "version": "3.10.0"
  },
  "toc": {
   "base_numbering": 1,
   "nav_menu": {},
   "number_sections": true,
   "sideBar": true,
   "skip_h1_title": false,
   "title_cell": "Table of Contents",
   "title_sidebar": "Contents",
   "toc_cell": false,
   "toc_position": {},
   "toc_section_display": true,
   "toc_window_display": false
  },
  "varInspector": {
   "cols": {
    "lenName": 16,
    "lenType": 16,
    "lenVar": 40
   },
   "kernels_config": {
    "python": {
     "delete_cmd_postfix": "",
     "delete_cmd_prefix": "del ",
     "library": "var_list.py",
     "varRefreshCmd": "print(var_dic_list())"
    },
    "r": {
     "delete_cmd_postfix": ") ",
     "delete_cmd_prefix": "rm(",
     "library": "var_list.r",
     "varRefreshCmd": "cat(var_dic_list()) "
    }
   },
   "types_to_exclude": [
    "module",
    "function",
    "builtin_function_or_method",
    "instance",
    "_Feature"
   ],
   "window_display": false
  }
 },
 "nbformat": 4,
 "nbformat_minor": 5
}

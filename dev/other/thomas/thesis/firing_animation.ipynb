{
 "cells": [
  {
   "cell_type": "code",
   "execution_count": 52,
   "metadata": {},
   "outputs": [],
   "source": [
    "import numpy as np                     # Packages for Data Analysis\n",
    "import pandas as pd\n",
    "import random as rand\n",
    "from scipy.signal import correlate, correlation_lags\n",
    "\n",
    "import matplotlib.pyplot as plt       # Packages for making plots\n",
    "from matplotlib.patches import FancyArrow\n",
    "import matplotlib.colors as mcolors\n",
    "from matplotlib.colors import LinearSegmentedColormap\n",
    "import matplotlib.patches as patches\n",
    "from matplotlib.patches import Patch, Circle\n",
    "from matplotlib.lines import Line2D\n",
    "from scipy.ndimage import gaussian_filter1d\n",
    "\n",
    "import braingeneers                  # Braigneneers packages for analysis\n",
    "from braingeneers.analysis.analysis import SpikeData, read_phy_files, load_spike_data, burst_detection, randomize_raster\n",
    "import braingeneers.data.datasets_electrophysiology as ephys\n",
    "import random\n",
    "import os\n",
    "import imageio"
   ]
  },
  {
   "cell_type": "code",
   "execution_count": 106,
   "metadata": {},
   "outputs": [],
   "source": [
    "def generate_random_overlap_spike_data(total_duration_ms, num_propagations, rows, cols, overlap_duration_ms, break_duration_ms):\n",
    "    N_channels = rows * cols\n",
    "    adjusted_total_duration_ms = total_duration_ms - (break_duration_ms * (num_propagations - 1))\n",
    "    segment_duration_ms = adjusted_total_duration_ms / num_propagations\n",
    "\n",
    "    # Initialize positions and neuron_data\n",
    "    positions = [(x, y) for x in range(rows) for y in range(cols)]\n",
    "    neuron_data = {'positions': {i: {'position': positions[i]} for i in range(N_channels)}}\n",
    "\n",
    "    # Initialize train with empty lists for each channel\n",
    "    train_patterned_overlap = [[] for _ in range(N_channels)]\n",
    "    \n",
    "    # Pre-assign at least one firing event for each neuron across the propagations\n",
    "    preassigned_firings = {neuron_index: random.randint(0, num_propagations - 1) for neuron_index in range(N_channels)}\n",
    "\n",
    "    # Generate spike times with specified overlap, breaks, and random firing within rows\n",
    "    for propagation in range(num_propagations):\n",
    "        segment_start = propagation * (segment_duration_ms + break_duration_ms)\n",
    "\n",
    "        for row in range(rows):\n",
    "            row_start = segment_start + (row * (segment_duration_ms / rows - overlap_duration_ms))\n",
    "            spike_time_start = row_start\n",
    "            spike_time_end = spike_time_start + (segment_duration_ms / rows) + overlap_duration_ms\n",
    "\n",
    "            # Randomly decide which neurons in the row will fire (random proportion)\n",
    "            firing_neurons_in_row = random.sample(range(row * cols, (row + 1) * cols), random.randint(1, cols))\n",
    "\n",
    "            # Ensure pre-assigned neurons for this propagation are included\n",
    "            for neuron_index in range(row * cols, (row + 1) * cols):\n",
    "                if preassigned_firings[neuron_index] == propagation and neuron_index not in firing_neurons_in_row:\n",
    "                    firing_neurons_in_row.append(neuron_index)\n",
    "\n",
    "            for neuron_index in firing_neurons_in_row:\n",
    "                spike_times = np.linspace(spike_time_start, spike_time_end, int(segment_duration_ms / rows / 10))\n",
    "                train_patterned_overlap[neuron_index].extend(spike_times)\n",
    "\n",
    "    # Convert lists to numpy arrays\n",
    "    train_patterned_overlap = [np.array(times) for times in train_patterned_overlap]\n",
    "\n",
    "    # Create the SpikeData object\n",
    "    spike_data_patterned_random_firing = SpikeData(train=train_patterned_overlap, N=N_channels, length=total_duration_ms, neuron_data=neuron_data)\n",
    "\n",
    "    return spike_data_patterned_random_firing\n",
    "\n",
    "# Function to get neuron positions\n",
    "def get_neuron_positions(spike_data):\n",
    "    # Extract neuron positions from spike_data\n",
    "    neuron_x = []\n",
    "    neuron_y = []\n",
    "    for neuron in spike_data.neuron_data['positions'].values():\n",
    "        neuron_x.append(neuron['position'][0])\n",
    "        neuron_y.append(neuron['position'][1])\n",
    "    neuron_positions = np.array([neuron_x, neuron_y]).T\n",
    "    return neuron_positions\n",
    "\n",
    "def calculate_mean_firing_rates(spike_data):\n",
    "    mean_firing_rates = []\n",
    "    for neuron_spikes in spike_data.train:\n",
    "        num_spikes = len(neuron_spikes)\n",
    "        time_duration = spike_data.length / 1000  # Assuming spike times are in milliseconds\n",
    "        firing_rate = num_spikes / time_duration\n",
    "        mean_firing_rates.append(firing_rate)\n",
    "\n",
    "    return np.array(mean_firing_rates)\n",
    "\n",
    "# def firing_plotter(sd):\n",
    "\n",
    "#     # Custom colormap from pale red/pink to dark red/black\n",
    "#     colors = [\"#ffcccb\", \"#ff6961\", \"#ff5c5c\", \"#ff1c00\", \"#bf0000\", \"#800000\", \"#400000\", \"#000000\"]\n",
    "#     cmap_name = \"custom_red_black\"\n",
    "#     n_bins = 100  # More bins will give us a finer gradient\n",
    "#     cm = LinearSegmentedColormap.from_list(cmap_name, colors, N=n_bins)\n",
    "\n",
    "#     firing_rates = calculate_mean_firing_rates(sd)\n",
    "#     neuron_x, neuron_y = [], []\n",
    "\n",
    "#     # Extract neuron positions\n",
    "#     for i, neuron in sd.neuron_data['positions'].items():\n",
    "#         neuron_x.append(neuron['position'][0])\n",
    "#         neuron_y.append(neuron['position'][1])\n",
    "\n",
    "#     # Adjust size scaling for more variance\n",
    "#     min_rate, max_rate = np.min(firing_rates), np.max(firing_rates)\n",
    "\n",
    "#     if min_rate == max_rate:\n",
    "#         sizes = np.full_like(firing_rates, 50)  # Assign a default size if no variance\n",
    "#     else:\n",
    "#         sizes = ((firing_rates - min_rate) / (max_rate - min_rate) * 300) + 10  # Normalize and scale\n",
    "\n",
    "#     plt.figure(figsize=(8, 6))\n",
    "#     # scatter = plt.scatter(neuron_x, neuron_y, s=sizes/1.5, c=firing_rates, alpha=0.6, cmap=cm)\n",
    "#     scatter = plt.scatter(neuron_x, neuron_y, s=sizes/1.5, c=firing_rates, alpha=0.6, cmap=cm)\n",
    "#     plt.title(\"Neuron Firing Rates\")\n",
    "#     plt.xlabel(\"X Position\")\n",
    "#     plt.ylabel(\"Y Position\")\n",
    "#     plt.colorbar(scatter, label='Firing Rate (Hz)')\n",
    "#     plt.show()\n",
    "\n",
    "def firing_plotter(sd, global_min_rate, global_max_rate):\n",
    "\n",
    "    # Custom colormap from pale red/pink to dark red/black\n",
    "    colors = [\"#ffcccb\", \"#ff6961\", \"#ff5c5c\", \"#ff1c00\", \"#bf0000\", \"#800000\", \"#400000\", \"#000000\"]\n",
    "    cmap_name = \"custom_red_black\"\n",
    "    n_bins = 100  # More bins will give us a finer gradient\n",
    "    cm = LinearSegmentedColormap.from_list(cmap_name, colors, N=n_bins)\n",
    "\n",
    "    firing_rates = calculate_mean_firing_rates(sd)\n",
    "    neuron_x, neuron_y = [], []\n",
    "\n",
    "    # Extract neuron positions\n",
    "    for i, neuron in sd.neuron_data['positions'].items():\n",
    "        neuron_x.append(neuron['position'][0])\n",
    "        neuron_y.append(neuron['position'][1])\n",
    "\n",
    "    # Adjust size scaling for more variance\n",
    "    min_rate, max_rate = np.min(firing_rates), np.max(firing_rates)\n",
    "\n",
    "    if min_rate == max_rate:\n",
    "        sizes = np.full_like(firing_rates, 10)  # Assign a default size if no variance\n",
    "    else:\n",
    "        sizes = ((firing_rates - min_rate) / (max_rate - min_rate) * 300) + 10  # Normalize and scale\n",
    "\n",
    "    plt.figure(figsize=(8, 6))\n",
    "    # scatter = plt.scatter(neuron_x, neuron_y, s=sizes/1.5, c=firing_rates, alpha=0.6, cmap=cm)\n",
    "    # scatter = plt.scatter(neuron_x, neuron_y, s=sizes/1.5, c=firing_rates, alpha=0.6, cmap=cm)\n",
    "    scatter = plt.scatter(neuron_x, neuron_y, s=sizes, c=firing_rates,\n",
    "                          cmap=cm, alpha=0.6, vmin=global_min_rate, vmax=global_max_rate)\n",
    "    plt.title(\"Neuron Firing Rates\")\n",
    "    plt.xlabel(\"X Position\")\n",
    "    plt.ylabel(\"Y Position\")\n",
    "    plt.colorbar(scatter, label='Firing Rate (Hz)')\n",
    "    # plt.show()\n",
    "\n",
    "def plot_raster(sd):\n",
    "    idces, times = sd.idces_times()\n",
    "    # Adjust the figsize parameter to change the figure size; (width, height) in inches\n",
    "    fig, ax = plt.subplots(figsize=(10, 6))  # Example: 10 inches wide by 6 inches tall\n",
    "\n",
    "    ax.scatter(times/1000, idces, marker='|', s=1)\n",
    "    ax.set_xlabel(\"Time(s)\")\n",
    "    ax.set_ylabel('Unit #')\n",
    "    plt.show()"
   ]
  },
  {
   "cell_type": "code",
   "execution_count": 108,
   "metadata": {},
   "outputs": [],
   "source": [
    "random_overlap_spike_data = generate_random_overlap_spike_data(\n",
    "    total_duration_ms=60 * 1000,  # 1 minute\n",
    "    num_propagations=5,\n",
    "    rows=16,\n",
    "    cols=16,\n",
    "    overlap_duration_ms=50,\n",
    "    break_duration_ms=6000  # 6 seconds\n",
    ")"
   ]
  },
  {
   "cell_type": "code",
   "execution_count": 62,
   "metadata": {},
   "outputs": [
    {
     "data": {
      "text/plain": [
       "60000"
      ]
     },
     "execution_count": 62,
     "metadata": {},
     "output_type": "execute_result"
    }
   ],
   "source": [
    "random_overlap_spike_data.length"
   ]
  },
  {
   "cell_type": "code",
   "execution_count": 109,
   "metadata": {},
   "outputs": [],
   "source": [
    "random_overlap_spike_data_quarter = random_overlap_spike_data.subtime(0, 15000)"
   ]
  },
  {
   "cell_type": "code",
   "execution_count": 110,
   "metadata": {},
   "outputs": [
    {
     "data": {
      "image/png": "[encoded data removed]",
      "text/plain": [
       "<Figure size 1000x600 with 1 Axes>"
      ]
     },
     "metadata": {},
     "output_type": "display_data"
    }
   ],
   "source": [
    "plot_raster(random_overlap_spike_data_quarter)"
   ]
  },
  {
   "cell_type": "code",
   "execution_count": 124,
   "metadata": {},
   "outputs": [],
   "source": [
    "# # def create_animation(sd, timesteps, output_dir='firing_maps', animation_file='firing_animation.gif'):\n",
    "# #     # Ensure the output directory is an absolute path\n",
    "# #     base_path = \"/workspaces/human_hippocampus/dev/other/thomas/thesis/\"\n",
    "# #     full_output_dir = os.path.join(base_path, output_dir)\n",
    "    \n",
    "# #     if not os.path.exists(full_output_dir):\n",
    "# #         os.makedirs(full_output_dir)\n",
    "\n",
    "# #     filenames = []\n",
    "\n",
    "# #     global_min_rate = np.min(calculate_mean_firing_rates(sd))\n",
    "# #     global_max_rate = 0\n",
    "\n",
    "# #     sd_test = sd.subtime(0, 10000)\n",
    "# #     length = sd_test.length\n",
    "# #     step = length / timesteps\n",
    "\n",
    "# #     for timestep in range(timesteps):\n",
    "# #         sd_timestep = sd_test.subtime(timestep * step, (timestep + 1) * step)\n",
    "# #         firing_plotter(sd_timestep, global_min_rate, global_max_rate)\n",
    "        \n",
    "# #         # Save the plot with an absolute path\n",
    "# #         filename = os.path.join(full_output_dir, f\"step_{timestep}.png\")\n",
    "# #         plt.savefig(filename)\n",
    "# #         plt.close()\n",
    "# #         filenames.append(filename)\n",
    "\n",
    "# #     # Create an animation\n",
    "# #     # Ensure the animation file path is also absolute\n",
    "# #     animation_path = os.path.join(base_path, animation_file)\n",
    "# #     with imageio.get_writer(animation_path, mode='I') as writer:\n",
    "# #         for filename in filenames:\n",
    "# #             image = imageio.imread(filename)\n",
    "# #             writer.append_data(image)\n",
    "    \n",
    "# #     # Optionally, print out a message or return the path\n",
    "# #     print(f\"Animation saved to {animation_path}\")\n",
    "\n",
    "# def create_animation(sd, timesteps, output_dir='firing_maps', animation_file='firing_animation.gif'):\n",
    "#     base_path = \"/workspaces/human_hippocampus/dev/other/thomas/thesis/\"\n",
    "#     full_output_dir = os.path.join(base_path, output_dir)\n",
    "    \n",
    "#     if not os.path.exists(full_output_dir):\n",
    "#         os.makedirs(full_output_dir)\n",
    "\n",
    "#     filenames = []\n",
    "#     sd_test = sd.subtime(0, 10000)  # Adjust as necessary to capture the correct time segment\n",
    "#     total_recording_time = sd_test.length  # Total recording time in seconds\n",
    "\n",
    "#     # Calculate the duration of each frame to match the total recording time\n",
    "#     duration_per_frame = total_recording_time / timesteps\n",
    "\n",
    "#     g_min_rate = 0\n",
    "#     g_max_rate = np.max(calculate_mean_firing_rates(sd))\n",
    "\n",
    "#     for timestep in range(timesteps):\n",
    "#         sd_timestep = sd_test.subtime(timestep * (sd_test.length / timesteps), (timestep + 1) * (sd_test.length / timesteps))\n",
    "        \n",
    "#         # Call the plotting function without saving\n",
    "#         firing_plotter(sd_timestep, global_max_rate=g_max_rate, global_min_rate=g_min_rate)  # Your function should plot but not save the figure\n",
    "        \n",
    "#         # Save the figure here instead\n",
    "#         filename = os.path.join(full_output_dir, f\"step_{timestep}.png\")\n",
    "#         plt.savefig(filename)\n",
    "#         plt.close()\n",
    "#         filenames.append(filename)\n",
    "\n",
    "#     # Create the GIF\n",
    "#     animation_path = os.path.join(base_path, animation_file)\n",
    "#     with imageio.get_writer(animation_path, mode='I', duration=duration_per_frame) as writer:\n",
    "#         for filename in filenames:\n",
    "#             image = imageio.imread(filename)\n",
    "#             writer.append_data(image)\n",
    "    \n",
    "#     print(f\"Animation saved to {animation_path}\")\n",
    "#     return animation_path"
   ]
  },
  {
   "cell_type": "code",
   "execution_count": null,
   "metadata": {},
   "outputs": [],
   "source": []
  },
  {
   "cell_type": "code",
   "execution_count": null,
   "metadata": {},
   "outputs": [],
   "source": []
  },
  {
   "cell_type": "code",
   "execution_count": 125,
   "metadata": {},
   "outputs": [
    {
     "name": "stderr",
     "output_type": "stream",
     "text": [
      "/tmp/ipykernel_4678/1033579838.py:111: DeprecationWarning: Call to deprecated function (or staticmethod) neuron_data. (Use NeuronAttributes instead of neuron_data, with the function load_spike_data())\n",
      "  for i, neuron in sd.neuron_data['positions'].items():\n",
      "/tmp/ipykernel_4678/2319858503.py:72: DeprecationWarning: Starting with ImageIO v3 the behavior of this function will switch to that of iio.v3.imread. To keep the current behavior (and make this warning disappear) use `import imageio.v2 as imageio` or call `imageio.v2.imread` directly.\n",
      "  image = imageio.imread(filename)\n"
     ]
    },
    {
     "name": "stdout",
     "output_type": "stream",
     "text": [
      "Animation saved to /workspaces/human_hippocampus/dev/other/thomas/thesis/firing_animation.gif\n"
     ]
    },
    {
     "data": {
      "text/plain": [
       "'/workspaces/human_hippocampus/dev/other/thomas/thesis/firing_animation.gif'"
      ]
     },
     "execution_count": 125,
     "metadata": {},
     "output_type": "execute_result"
    }
   ],
   "source": [
    "create_animation(random_overlap_spike_data, 100)"
   ]
  }
 ],
 "metadata": {
  "kernelspec": {
   "display_name": "notebook",
   "language": "python",
   "name": "python3"
  },
  "language_info": {
   "codemirror_mode": {
    "name": "ipython",
    "version": 3
   },
   "file_extension": ".py",
   "mimetype": "text/x-python",
   "name": "python",
   "nbconvert_exporter": "python",
   "pygments_lexer": "ipython3",
   "version": "3.10.0"
  }
 },
 "nbformat": 4,
 "nbformat_minor": 2
}

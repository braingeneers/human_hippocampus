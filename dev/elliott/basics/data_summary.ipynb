{
 "cells": [
  {
   "cell_type": "markdown",
   "id": "df5ab1a1",
   "metadata": {},
   "source": [
    "<font size=\"7\">Data Summary"
   ]
  },
  {
   "cell_type": "markdown",
   "id": "197836dd",
   "metadata": {},
   "source": [
    "Here we provide a basic summary of every curated dataset that is inside of the `data/ephys` folder. Use the tools below to view the datasets."
   ]
  },
  {
   "cell_type": "code",
   "execution_count": 8,
   "id": "cad3bca8",
   "metadata": {},
   "outputs": [
    {
     "name": "stderr",
     "output_type": "stream",
     "text": [
      "/srv/conda/envs/notebook/lib/python3.10/site-packages/nbformat/__init__.py:93: MissingIDFieldWarning: Code cell is missing an id field, this will become a hard error in future nbformat versions. You may want to use `normalize()` on your notebooks before validations (available since nbformat 5.1.4). Previous versions of nbformat are fixing this issue transparently, and will stop doing so in the future.\n",
      "  validate(nb)\n"
     ]
    },
    {
     "name": "stdout",
     "output_type": "stream",
     "text": [
      "\tLoading analysis source code...\n",
      "\tDone!\n"
     ]
    }
   ],
   "source": [
    "%run \"/workspaces/human_hippocampus/src/human_hip/basics/basics_source_code.ipynb\""
   ]
  },
  {
   "cell_type": "markdown",
   "id": "c1ac3427",
   "metadata": {},
   "source": [
    "# Introduction "
   ]
  },
  {
   "cell_type": "markdown",
   "id": "ac6b3f24",
   "metadata": {},
   "source": [
    "This notebook allows for an easy review of ephys datasets of recorded neural tissue. It should be used to quickly decide weather recordings are viable as datasets or not. Within the notebook are two interactable functions. The first function runs through every recording in a folder and then provides a summary of each recording's specfications, including neuron count, coefficient of variation, recording length, etc. The second plots a set of figures using data derived from a singular recording, these figures can provide aid in further analysis and show interspike intervals, average firing rate, layout, etc. of the dataset. "
   ]
  },
  {
   "cell_type": "markdown",
   "id": "30b31da2",
   "metadata": {},
   "source": [
    "# Text Summary"
   ]
  },
  {
   "cell_type": "markdown",
   "id": "6926d4b1",
   "metadata": {},
   "source": [
    "This function produces a summerary of all <b>curated</b> recordings in a folder. The information provided is as follows:\n",
    "   - Name of the file from which we are displaying recording data\n",
    "   - Number of spikes in the recording over all Neural Units\n",
    "   - Length of recording in Seconds \n",
    "   - Number of Neural Units in recording deemed significant after curation\n",
    "   - Averarge firing rate of tissue sample in spikes per second\n",
    "   - Coefficent of Variation for recording, values being close to 1 signifying random firing and smaller values signifying less randomness in firing patterns\n",
    "   \n",
    "To use this function, run the cell below and use the interact widget to select the folder you wish to analyse, then hit the <b>Run Interact</b> button to display the information. Displays in order of appearance in directory. "
   ]
  },
  {
   "cell_type": "code",
   "execution_count": 9,
   "id": "c994aca0",
   "metadata": {},
   "outputs": [
    {
     "data": {
      "application/vnd.jupyter.widget-view+json": {
       "model_id": "c3ccbe41cfaa48c19c8c2ee40ba9146d",
       "version_major": 2,
       "version_minor": 0
      },
      "text/plain": [
       "interactive(children=(Dropdown(description='folder_name', options=('2022-10-20-e-', '2022-11-02-e-Hc11.1-chip1…"
      ]
     },
     "metadata": {},
     "output_type": "display_data"
    },
    {
     "data": {
      "text/plain": [
       "<function __main__.GetTextSummary(folder_name)>"
      ]
     },
     "execution_count": 9,
     "metadata": {},
     "output_type": "execute_result"
    }
   ],
   "source": [
    "interact_manual( GetTextSummary, folder_name=data_folders ) "
   ]
  },
  {
   "cell_type": "markdown",
   "id": "ab6a44c9",
   "metadata": {},
   "source": [
    "# Basic Plots"
   ]
  },
  {
   "cell_type": "markdown",
   "id": "967c04a5",
   "metadata": {},
   "source": [
    "This function provides two figures from a selected <b>curated</b> recording. The first figure is comprised of four subplots that depict the distrobution of interspike intervals, the distrobution of neural unit firing rate as a histogram and also ploted onto the neuron layout, and finally the spike raster of the first 30 seconds of the recording with the firing rate drawn over it. The second figure is the individual interspike intervals of the first 8 Neural Units. If there are less than 8 units in a curated sample the plot will display the total amount of units along with a warning that the Neural Unit count is under 8. To use this function, run the cell below and use the interact widget to select the file you wish to analyse, then hit the <b>Run Interact</b> button to display the figures."
   ]
  },
  {
   "cell_type": "code",
   "execution_count": 10,
   "id": "7a2c477b",
   "metadata": {
    "scrolled": false
   },
   "outputs": [
    {
     "data": {
      "application/vnd.jupyter.widget-view+json": {
       "model_id": "284f69f1fa02470c8eec2bd8636e2649",
       "version_major": 2,
       "version_minor": 0
      },
      "text/plain": [
       "interactive(children=(Dropdown(description='filename', options=('/home/jovyan/data/ephys/2022-10-20-e-/derived…"
      ]
     },
     "metadata": {},
     "output_type": "display_data"
    },
    {
     "data": {
      "text/plain": [
       "<function __main__.createPlots(filename)>"
      ]
     },
     "execution_count": 10,
     "metadata": {},
     "output_type": "execute_result"
    }
   ],
   "source": [
    "interact_manual( createPlots, filename=filenames)"
   ]
  },
  {
   "cell_type": "markdown",
   "id": "577eb2d7",
   "metadata": {},
   "source": [
    "# Deeper Analysis "
   ]
  },
  {
   "cell_type": "markdown",
   "id": "4feebbc2",
   "metadata": {},
   "source": [
    "<font color=\"red\">\n",
    "    \n",
    "**To Do**\n",
    "* Create STTC matrix\n",
    "* Create correlation matrix\n",
    "* Functional connectivity plot\n",
    "* ...."
   ]
  },
  {
   "cell_type": "code",
   "execution_count": 11,
   "id": "52559487",
   "metadata": {},
   "outputs": [
    {
     "data": {
      "application/vnd.jupyter.widget-view+json": {
       "model_id": "1cbfac0f6b3d4e5e8f5567371b80970a",
       "version_major": 2,
       "version_minor": 0
      },
      "text/plain": [
       "interactive(children=(Dropdown(description='filename', options=('/home/jovyan/data/ephys/2022-10-20-e-/derived…"
      ]
     },
     "metadata": {},
     "output_type": "display_data"
    },
    {
     "data": {
      "text/plain": [
       "<function __main__.DeeperAnalysis(filename)>"
      ]
     },
     "execution_count": 11,
     "metadata": {},
     "output_type": "execute_result"
    }
   ],
   "source": [
    "interact_manual( DeeperAnalysis, filename=filenames)"
   ]
  },
  {
   "cell_type": "code",
   "execution_count": null,
   "id": "9e165cf4",
   "metadata": {},
   "outputs": [],
   "source": []
  }
 ],
 "metadata": {
  "hide_input": false,
  "kernelspec": {
   "display_name": "Python 3 (ipykernel)",
   "language": "python",
   "name": "python3"
  },
  "language_info": {
   "codemirror_mode": {
    "name": "ipython",
    "version": 3
   },
   "file_extension": ".py",
   "mimetype": "text/x-python",
   "name": "python",
   "nbconvert_exporter": "python",
   "pygments_lexer": "ipython3",
   "version": "3.10.0"
  },
  "toc": {
   "base_numbering": 1,
   "nav_menu": {},
   "number_sections": true,
   "sideBar": true,
   "skip_h1_title": false,
   "title_cell": "Table of Contents",
   "title_sidebar": "Contents",
   "toc_cell": false,
   "toc_position": {},
   "toc_section_display": true,
   "toc_window_display": false
  },
  "varInspector": {
   "cols": {
    "lenName": 16,
    "lenType": 16,
    "lenVar": 40
   },
   "kernels_config": {
    "python": {
     "delete_cmd_postfix": "",
     "delete_cmd_prefix": "del ",
     "library": "var_list.py",
     "varRefreshCmd": "print(var_dic_list())"
    },
    "r": {
     "delete_cmd_postfix": ") ",
     "delete_cmd_prefix": "rm(",
     "library": "var_list.r",
     "varRefreshCmd": "cat(var_dic_list()) "
    }
   },
   "types_to_exclude": [
    "module",
    "function",
    "builtin_function_or_method",
    "instance",
    "_Feature"
   ],
   "window_display": false
  }
 },
 "nbformat": 4,
 "nbformat_minor": 5
}

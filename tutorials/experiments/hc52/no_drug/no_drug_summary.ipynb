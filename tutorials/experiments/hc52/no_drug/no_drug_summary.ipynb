{
 "cells": [
  {
   "cell_type": "code",
   "execution_count": null,
   "metadata": {},
   "outputs": [],
   "source": []
  },
  {
   "cell_type": "markdown",
   "metadata": {},
   "source": [
    "<font color=\"red\"> I should be using the s1 file, it's what Sury reccomends."
   ]
  },
  {
   "cell_type": "markdown",
   "metadata": {},
   "source": [
    "**?Posterior? CA1 Region**  \n",
    "\n",
    "* Filename: hc5.2_chip18790_baseline_rec5.10.23_curated.zip:\n",
    "* Number of spikes:  21773\n",
    "* Length:  107 seconds\n",
    "* Number of Neurons:  101\n",
    "* Average Firing Rate:  2.01\n",
    "* Coefficient of Variation:  0.595\n",
    "\n",
    "<font color=\"orange\">Other Notes-- the file,`hc5.2_chip18790_baseline_rec5.10.23_curated_s1.zip` (unused) is basically the same thing, but with 1 less neuron.</font> \n"
   ]
  },
  {
   "cell_type": "code",
   "execution_count": null,
   "metadata": {},
   "outputs": [],
   "source": []
  }
 ],
 "metadata": {
  "language_info": {
   "name": "python"
  }
 },
 "nbformat": 4,
 "nbformat_minor": 2
}

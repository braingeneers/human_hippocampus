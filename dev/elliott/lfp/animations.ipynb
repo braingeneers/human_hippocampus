{
 "cells": [
  {
   "cell_type": "markdown",
   "metadata": {},
   "source": [
    "<font size=7>LFP Animations"
   ]
  },
  {
   "cell_type": "markdown",
   "metadata": {},
   "source": [
    "<font color=\"red\">\n",
    "\n",
    "**To Do**\n",
    "* line up channels"
   ]
  },
  {
   "cell_type": "markdown",
   "metadata": {},
   "source": [
    "# <font color=\"purple\"> Ash Code"
   ]
  },
  {
   "cell_type": "code",
   "execution_count": 2,
   "metadata": {},
   "outputs": [],
   "source": [
    "import numpy as np\n",
    "import matplotlib.pyplot as plt\n",
    "from matplotlib.animation import FuncAnimation\n",
    "from matplotlib import cm\n",
    "from scipy.interpolate import griddata\n",
    "from mpl_toolkits.mplot3d import Axes3D\n",
    "import scipy.interpolate\n",
    "from matplotlib.widgets import RadioButtons, Slider, Cursor\n",
    "\n"
   ]
  },
  {
   "cell_type": "markdown",
   "metadata": {},
   "source": [
    "## <font color=\"purple\"> 3D Animation"
   ]
  },
  {
   "cell_type": "code",
   "execution_count": 3,
   "metadata": {},
   "outputs": [],
   "source": [
    "\n",
    "\n",
    "class AnimatedTriSurf3D(object):\n",
    "    def __init__(self,data,x,y,zmin=-2000, zmax=0, frames=100, fps = 20,elev=-30,azim=-90):\n",
    "        self.fig = plt.figure()\n",
    "        self.data = data\n",
    "        self.x = x\n",
    "        self.y = y\n",
    "\n",
    "        self.elev = elev\n",
    "        self.azim = azim\n",
    "\n",
    "        self.ax = self.fig.add_subplot(111, projection='3d')\n",
    "\n",
    "        self.title = self.ax.set_title('Amplitudes')\n",
    "        self.fps = fps\n",
    "        \n",
    "        self.zmin = zmin\n",
    "        self.zmax = zmax\n",
    "        print(zmin,zmax)\n",
    "        # make colorbar\n",
    "        self.norm = norm=plt.Normalize(vmin=self.zmin, vmax=self.zmax)\n",
    "        self.cbar = self.fig.colorbar(cm.ScalarMappable(norm=self.norm, cmap=cm.coolwarm), ax=self.ax, shrink=0.5, aspect=5)\n",
    "        self.cbar.set_label('Amplitude (uV)')\n",
    "        self.cmapper = cm.ScalarMappable(cmap=cm.coolwarm, norm=plt.Normalize(vmin=self.zmin, vmax=self.zmax))\n",
    "        self.ani = FuncAnimation(self.fig, self.update, frames=frames,interval=1, \n",
    "                                          init_func=self.setup_plot, blit=False)\n",
    "                        \n",
    "        \n",
    "        # self.setup_plot()\n",
    "        # plt.show()\n",
    "        \n",
    "\n",
    "    def setup_plot(self):\n",
    "        # self.scat = self.ax.scatter(self.x,self.y,self.data[:,0])#,c=[data[:,0]],cmap=cm.coolwarm, vmin=zmin, vmax=zmax)\n",
    "        \n",
    "        self.surf = self.ax.plot_trisurf(self.x, self.y, self.data[:,0], cmap=cm.coolwarm,\n",
    "                       linewidth=0, antialiased=False)\n",
    "        self.ax.set_zlim(self.zmin, self.zmax)\n",
    "        self.ax.zaxis.set_major_formatter('{x:.02f}')\n",
    "        # Set roll, azimuth\n",
    "        # self.ax.view_init(elev=-90,azim = -90)\n",
    "        self.ax.view_init(elev=self.elev,azim = self.azim)\n",
    "        \n",
    "\n",
    "        # self.ax.set_xlabel('test')\n",
    "        \n",
    "\n",
    "    def update(self,i):\n",
    "        \n",
    "        self.ax.clear()\n",
    "        colors = self.cmapper.to_rgba(self.data[:,i])\n",
    "        # ax.scatter(x, y, data[:,0],c=data[:,0], cmap=cm.coolwarm, vmin=zmin, vmax=zmax)\n",
    "        # self.scat._offsets3d = (self.x,self.y,self.data[:,i])\n",
    "        # self.scat._facecolors = colors\n",
    "        self.surf = self.ax.plot_trisurf(self.x, self.y, self.data[:,i], cmap=cm.coolwarm,\n",
    "                       linewidth=0, antialiased=False, norm = self.norm, edgecolor = 'black')\n",
    "\n",
    "        self.ax.set_zlim(self.zmin, self.zmax)\n",
    "        self.ax.set_title(f\"{i/20:0.2f}ms\")\n",
    "        self.ax.set_xlabel('um')\n",
    "        self.ax.set_ylabel('um')\n",
    "\n",
    "    def save(self, filename):\n",
    "        '''Saves file'''\n",
    "        self.ani.save(filename, fps = self.fps)\n",
    "\n",
    "\n",
    "\n",
    "\n"
   ]
  },
  {
   "cell_type": "markdown",
   "metadata": {},
   "source": [
    "## <font color=\"purple\">2D Scatter"
   ]
  },
  {
   "cell_type": "code",
   "execution_count": 80,
   "metadata": {},
   "outputs": [],
   "source": [
    "\n",
    "\n",
    "\n",
    "class AnimatedScatter2D(object):\n",
    "    def __init__(self,data,x,y,zmin=-2000, zmax=0, frames=100):\n",
    "        # self.fig = plt.figure()\n",
    "        # self.ax = self.fig.add_subplot(111)\n",
    "\n",
    "        self.fig, self.ax = plt.subplots(1,1)\n",
    "        self.data = data\n",
    "        self.x = x\n",
    "        self.y = y\n",
    "        self.cursor = Cursor(self.ax, useblit=True, color='red')\n",
    "        # self.radio = RadioButtons(self.ax, ('hello','world'))\n",
    "\n",
    "        # self.ax_slider = fig.add_axes([0.25, 0.1, 0.65, 0.03])\n",
    "        # self.slider = Slider(\n",
    "        #             ax=self.ax_slider,\n",
    "        #             label=\"Frame\",\n",
    "        #             valmin=0,\n",
    "        #             valmax=self.data.shape[1],\n",
    "        #             valinit=0,\n",
    "        #             orientation=\"horizontal\"\n",
    "        #         )\n",
    "\n",
    "        \n",
    "\n",
    "        self.title = self.ax.set_title('Amplitudes')\n",
    "        \n",
    "        self.zmin = zmin\n",
    "        self.zmax = zmax\n",
    "        print(zmin,zmax)\n",
    "        # make colorbar\n",
    "        self.norm = norm=plt.Normalize(vmin=self.zmin, vmax=self.zmax)\n",
    "        self.fig.colorbar(cm.ScalarMappable(norm=self.norm, cmap=cm.coolwarm), ax=self.ax, shrink=0.5, aspect=5)\n",
    "        self.cmapper = cm.ScalarMappable(cmap=cm.coolwarm, norm=plt.Normalize(vmin=self.zmin, vmax=self.zmax))\n",
    "        self.ani = FuncAnimation(self.fig, self.update, frames=frames,interval=1000, \n",
    "                                          init_func=self.setup_plot, blit=False)\n",
    "                        \n",
    "        \n",
    "        # self.setup_plot()\n",
    "        # plt.show()\n",
    "        \n",
    "\n",
    "    def setup_plot(self):\n",
    "        # self.scat = self.ax.scatter(self.x,self.y,self.data[:,0])#,c=[data[:,0]],cmap=cm.coolwarm, vmin=zmin, vmax=zmax)\n",
    "        \n",
    "        self.scat = self.ax.scatter(self.x, self.y, norm= self.norm, c=self.data[:,0], cmap=cm.coolwarm)#,\n",
    "                    #    antialiased=False)\n",
    "        \n",
    "        # for i, txt in enumerate(range(self.data.shape[0])):\n",
    "        #     self.ax.annotate(txt, (self.x[i], self.y[i]))\n",
    "\n",
    "        return self.scat\n",
    "        \n",
    "\n",
    "        # self.ax.set_xlabel('test')\n",
    "        \n",
    "\n",
    "    def update(self,i):\n",
    "        \n",
    "        # self.ax.clear()\n",
    "        # colors = self.cmapper.to_rgba(self.data[:,i])\n",
    "        # ax.scatter(x, y, data[:,0],c=data[:,0], cmap=cm.coolwarm, vmin=zmin, vmax=zmax)\n",
    "        # self.scat._offsets3d = (self.x,self.y,self.data[:,i])\n",
    "        # self.scat._facecolors = colors\n",
    "        # collections = self.scat.coll\n",
    "        # self.scat.set_facecolor(colors)\n",
    "        self.scat.set_array(self.data[:,i])\n",
    "        self.ax.set_title(f\"{i/20:0.2f}ms\")\n",
    "\n",
    "\n",
    "\n",
    "    def save(self, filename):\n",
    "        '''Saves file'''\n",
    "        self.ani.save(filename)\n",
    "\n",
    "\n",
    "\n",
    "# a = AnimatedTriSurf3D(zmin=-15, zmax = 15)\n",
    "# plt.show()"
   ]
  },
  {
   "cell_type": "markdown",
   "metadata": {},
   "source": [
    "## Rewrite Ash's Code"
   ]
  },
  {
   "cell_type": "code",
   "execution_count": null,
   "metadata": {},
   "outputs": [],
   "source": [
    "# class AnimatedScatter2D(object):\n",
    "#     def __init__(self,data,x,y,zmin=-2000, zmax=0, frames=100):\n",
    "#         self.fig, self.ax = plt.subplots(1,1)\n",
    "#         self.data = data\n",
    "#         self.x = x\n",
    "#         self.y = y\n",
    "#         self.cursor = Cursor(self.ax, useblit=True, color='red')\n",
    "#         self.title = self.ax.set_title('Amplitudes')\n",
    "        \n",
    "#         self.zmin = zmin\n",
    "#         self.zmax = zmax\n",
    "#         print(zmin,zmax)\n",
    "#         # make colorbar\n",
    "#         self.norm = norm=plt.Normalize(vmin=self.zmin, vmax=self.zmax)\n",
    "#         self.fig.colorbar(cm.ScalarMappable(norm=self.norm, cmap=cm.coolwarm), ax=self.ax, shrink=0.5, aspect=5)\n",
    "#         self.cmapper = cm.ScalarMappable(cmap=cm.coolwarm, norm=plt.Normalize(vmin=self.zmin, vmax=self.zmax))\n",
    "#         self.ani = FuncAnimation(self.fig, self.update, frames=frames,interval=1, \n",
    "#                                           init_func=self.setup_plot, blit=False)\n",
    "        \n",
    "\n",
    "#     def setup_plot(self):\n",
    "#         self.scat = self.ax.scatter(self.x, self.y, norm= self.norm, c=self.data[:,0], cmap=cm.coolwarm)#,\n",
    "#         return self.scat\n",
    "\n",
    "        \n",
    "\n",
    "#     def update(self,i):\n",
    "#         self.scat.set_array(self.data[:,i])\n",
    "#         self.ax.set_title(f\"{i/20:0.2f}ms\")\n",
    "\n",
    "\n",
    "#     def save(self, filename):\n",
    "#         '''Saves file'''\n",
    "#         self.ani.save(filename)\n"
   ]
  },
  {
   "cell_type": "code",
   "execution_count": null,
   "metadata": {},
   "outputs": [],
   "source": []
  },
  {
   "cell_type": "code",
   "execution_count": null,
   "metadata": {},
   "outputs": [],
   "source": []
  },
  {
   "cell_type": "markdown",
   "metadata": {},
   "source": [
    "# <font color=\"magenta\">Bicucculine Animation"
   ]
  },
  {
   "cell_type": "markdown",
   "metadata": {},
   "source": [
    "## create data for animation function\n",
    "// ## <font color=\"grey\">Create initial scatterplot - no animation"
   ]
  },
  {
   "cell_type": "markdown",
   "metadata": {},
   "source": [
    "load in data"
   ]
  },
  {
   "cell_type": "code",
   "execution_count": 11,
   "metadata": {},
   "outputs": [],
   "source": [
    "import pickle\n",
    "import braingeneers.data.datasets_electrophysiology as ephys"
   ]
  },
  {
   "cell_type": "code",
   "execution_count": 9,
   "metadata": {},
   "outputs": [
    {
     "data": {
      "text/plain": [
       "(1024, 10000)"
      ]
     },
     "execution_count": 9,
     "metadata": {},
     "output_type": "execute_result"
    }
   ],
   "source": [
    "file = open('/workspaces/human_hippocampus/data/ephys_raw/2022-11-02-e-Hc11.1-chip16753/D_start5s_stop15s_fs1ms.pkl', 'rb')\n",
    "raw_data = pickle.load(file)\n",
    "file.close()\n",
    "raw_data.shape"
   ]
  },
  {
   "cell_type": "code",
   "execution_count": 19,
   "metadata": {},
   "outputs": [
    {
     "data": {
      "text/plain": [
       "(1024, 10000)"
      ]
     },
     "execution_count": 19,
     "metadata": {},
     "output_type": "execute_result"
    }
   ],
   "source": [
    "raw_data.shape"
   ]
  },
  {
   "cell_type": "markdown",
   "metadata": {},
   "source": [
    "load in data mapping"
   ]
  },
  {
   "cell_type": "code",
   "execution_count": 12,
   "metadata": {},
   "outputs": [],
   "source": [
    "metadata = ephys.load_metadata(\"2022-11-02-e-Hc11.1-chip16753\")"
   ]
  },
  {
   "cell_type": "code",
   "execution_count": 14,
   "metadata": {},
   "outputs": [],
   "source": [
    "channel_map = metadata['ephys_experiments']['experiment2'][\"mapping\"]\n",
    "channel_map = np.array(channel_map)"
   ]
  },
  {
   "cell_type": "code",
   "execution_count": 16,
   "metadata": {},
   "outputs": [],
   "source": [
    "x = channel_map[:,1]\n",
    "y = channel_map[:,2]"
   ]
  },
  {
   "cell_type": "markdown",
   "metadata": {},
   "source": [
    "get data only from channels tha are in the channel mapping"
   ]
  },
  {
   "cell_type": "code",
   "execution_count": 76,
   "metadata": {},
   "outputs": [],
   "source": [
    "used_data= raw_data[ channel_map[:,0].astype(int) , 5:25 ] # get all channels described in metadata, then pulls raw data for these channels"
   ]
  },
  {
   "cell_type": "code",
   "execution_count": 62,
   "metadata": {},
   "outputs": [
    {
     "data": {
      "text/plain": [
       "(995, 20)"
      ]
     },
     "execution_count": 62,
     "metadata": {},
     "output_type": "execute_result"
    }
   ],
   "source": [
    "used_data.shape"
   ]
  },
  {
   "cell_type": "markdown",
   "metadata": {},
   "source": [
    "creat scatterplot"
   ]
  },
  {
   "cell_type": "code",
   "execution_count": 17,
   "metadata": {},
   "outputs": [
    {
     "data": {
      "text/plain": [
       "<matplotlib.collections.PathCollection at 0x7ffa5959e6e0>"
      ]
     },
     "execution_count": 17,
     "metadata": {},
     "output_type": "execute_result"
    },
    {
     "data": {
      "image/png": "[encoded data removed]",
      "text/plain": [
       "<Figure size 640x480 with 1 Axes>"
      ]
     },
     "metadata": {},
     "output_type": "display_data"
    }
   ],
   "source": [
    "plt.scatter(channel_map[:,2],channel_map[:,1]* -1)"
   ]
  },
  {
   "cell_type": "markdown",
   "metadata": {},
   "source": [
    "## <font color=\"magenta\"> Create animation"
   ]
  },
  {
   "cell_type": "code",
   "execution_count": 67,
   "metadata": {},
   "outputs": [
    {
     "data": {
      "text/plain": [
       "252.83913"
      ]
     },
     "execution_count": 67,
     "metadata": {},
     "output_type": "execute_result"
    }
   ],
   "source": [
    "np.min(used_data)"
   ]
  },
  {
   "cell_type": "code",
   "execution_count": 68,
   "metadata": {},
   "outputs": [
    {
     "data": {
      "text/plain": [
       "726.261"
      ]
     },
     "execution_count": 68,
     "metadata": {},
     "output_type": "execute_result"
    }
   ],
   "source": [
    "np.max(used_data)"
   ]
  },
  {
   "cell_type": "code",
   "execution_count": 77,
   "metadata": {},
   "outputs": [
    {
     "name": "stdout",
     "output_type": "stream",
     "text": [
      "253 727\n"
     ]
    },
    {
     "data": {
      "image/png": "[encoded data removed]",
      "text/plain": [
       "<Figure size 640x480 with 2 Axes>"
      ]
     },
     "metadata": {},
     "output_type": "display_data"
    }
   ],
   "source": [
    "my_anime = AnimatedScatter2D( used_data, x, y, zmin=253, zmax=727, frames=20)"
   ]
  },
  {
   "cell_type": "code",
   "execution_count": 81,
   "metadata": {},
   "outputs": [],
   "source": [
    "my_anime.save('checkit.mp4')"
   ]
  },
  {
   "cell_type": "code",
   "execution_count": null,
   "metadata": {},
   "outputs": [],
   "source": []
  },
  {
   "cell_type": "markdown",
   "metadata": {},
   "source": [
    "<font color=\"brown\"> Tried making video in browser"
   ]
  },
  {
   "cell_type": "code",
   "execution_count": 78,
   "metadata": {},
   "outputs": [],
   "source": [
    "from IPython.display import HTML"
   ]
  },
  {
   "cell_type": "code",
   "execution_count": 79,
   "metadata": {},
   "outputs": [
    {
     "data": {
      "text/html": [
       "<video width=\"640\" height=\"480\" controls autoplay loop>\n",
       "  <source type=\"video/mp4\" src=\"data:video/mp4;base64,AAAAIGZ0eXBNNFYgAAACAE00ViBpc29taXNvMmF2YzEAAAAIZnJlZQAAa39tZGF0AAACrQYF//+p\n",
       "3EXpvebZSLeWLNgg2SPu73gyNjQgLSBjb3JlIDE2NCByMzA5NSBiYWVlNDAwIC0gSC4yNjQvTVBF\n",
       "Ry00IEFWQyBjb2RlYyAtIENvcHlsZWZ0IDIwMDMtMjAyMiAtIGh0dHA6Ly93d3cudmlkZW9sYW4u\n",
       "b3JnL3gyNjQuaHRtbCAtIG9wdGlvbnM6IGNhYmFjPTEgcmVmPTMgZGVibG9jaz0xOjA6MCBhbmFs\n",
       "eXNlPTB4MzoweDExMyBtZT1oZXggc3VibWU9NyBwc3k9MSBwc3lfcmQ9MS4wMDowLjAwIG1peGVk\n",
       "X3JlZj0xIG1lX3JhbmdlPTE2IGNocm9tYV9tZT0xIHRyZWxsaXM9MSA4eDhkY3Q9MSBjcW09MCBk\n",
       "ZWFkem9uZT0yMSwxMSBmYXN0X3Bza2lwPTEgY2hyb21hX3FwX29mZnNldD0tMiB0aHJlYWRzPTMg\n",
       "bG9va2FoZWFkX3RocmVhZHM9MSBzbGljZWRfdGhyZWFkcz0wIG5yPTAgZGVjaW1hdGU9MSBpbnRl\n",
       "cmxhY2VkPTAgYmx1cmF5X2NvbXBhdD0wIGNvbnN0cmFpbmVkX2ludHJhPTAgYmZyYW1lcz0zIGJf\n",
       "cHlyYW1pZD0yIGJfYWRhcHQ9MSBiX2JpYXM9MCBkaXJlY3Q9MSB3ZWlnaHRiPTEgb3Blbl9nb3A9\n",
       "MCB3ZWlnaHRwPTIga2V5aW50PTI1MCBrZXlpbnRfbWluPTEgc2NlbmVjdXQ9NDAgaW50cmFfcmVm\n",
       "cmVzaD0wIHJjX2xvb2thaGVhZD00MCByYz1jcmYgbWJ0cmVlPTEgY3JmPTIzLjAgcWNvbXA9MC42\n",
       "MCBxcG1pbj0wIHFwbWF4PTY5IHFwc3RlcD00IGlwX3JhdGlvPTEuNDAgYXE9MToxLjAwAIAAAE17\n",
       "ZYiEABf//vfUt8yy7VNvtguo96KeJl9DdSUBm5bE7TqAAAADAAADAAAevBc4Al+JCvOvAAADAMqS\n",
       "6j72Atb6fMAnftDRDTZzeZy181QSSZm00x4fC+o0gv9c4GDHJClE+MoAqVzXrY5tITpDT52CtVI0\n",
       "QV5EIXqCa2wDRkA9tniVEQlZBNXqDeUTBVQYUgO9wcyI4zU7rFZunTs1qtv8yaqxJm+Fm6FjTFKw\n",
       "KgGzrP5FbNJaH/jlECOCf6ueojw3nc5nTRkzEG2TvNoYonVEvy6LOh5sulPUTO2pi3mO5vkquOj9\n",
       "YQEIOun/uxgJlcl2s6o8nxBuoNgEjodGzK/BDyZm0w2NloyGyEQoFRjQR+yTeSJ84o8WaiyAJ7Kb\n",
       "Fw+Zfd1U1ytyfRteAAjwS7EfA7VrfDbnNp6U27a+UaCvofKQ+KOKDSHlQhvfYS8G++NqHvJy0UQM\n",
       "dJWl8xyT9BTr4gdGMXDsZkzAmS0/zOlm4kuxmTx0gXruNRir71cp3TAdWMAKoLPYSrj7fvsPszHC\n",
       "xxGHRtYsOXOspPEcPu7CndDXOiE0p8P48PMeAhPCCgZJDsYkAB3CJvOxeAel2NLyKHANPiC+tRX4\n",
       "d5kGVrGLolgs3oQUtwqW2nsMkX6oG44DdbHWIPk/Q/EJZJFfAGy4+hVHFpCc4ZsJQVORYSQhTwcY\n",
       "Q+TiNqGMafPA1ZNwQfKzs+1Z4+VlERfScPI7JIjb5Ddv3cdoLl6AF2j12XkmtFnX/8yMk9PQ8M0P\n",
       "/ry10MHoJrTa9/RYAHDaxBdtJ/j/d+n2rS+kf/ZwyM24oUAXzQbyDwlDhXkUOHFfUxn87xdKgdNx\n",
       "TqVbNv1y2Mu4gjURnAvPsIUsfTkIdbwU7BfSXM9yy4+7gLTeRDLNvI9/rFnltJRimMASNR/tFy9P\n",
       "/s85WumLanO81qZuvtQG4GQqeVN1I8wVQ1bfLFqXTY90HI9Ijs84PuJSxI6WMLqhJFEFJbLA4RSP\n",
       "jKNGnWTVjp4j5Z7exJN47h7rF7q6hs3vx0+6neP7LE0Sn8KgUy5YpLborRL6R6QfRDemAGzbzqtU\n",
       "1Ogc27kJG+o2cGvKvitNv9lPZ1ihEbKMwTj7UMxWEUDfVDMrBKHhAAAb/CsyHmIQX1m//vmZAEyr\n",
       "NXm3Q4rZ1LmAdZWca5dknKSDKT7iN28+1GpPJqMynudaRTGjl5gdoiWtXe9538dSW2su5nbwMoUd\n",
       "7RgVB2bqDUt/ptf5od3BRYmL2J+/LRXpIn+V5LAQrey5h+wrGEGNplEPq4ggmZT1DqQvXuwuQ0Hk\n",
       "sgPX+ag/c/hFkIrs4PJvmzDInAuSJj+gLKESQlVknBujTKXJf+/kx2YXN++AGT7gIJpkVJWKzgwi\n",
       "HrPo9uWa8KCdgq0WWp6BQOsogiskiq7TKFQ0srjA5wG7hXJxzALHufZI0XGsUTlX/UPbgxBnRFX6\n",
       "uBVqimKbI6LAOEyTB524p7mBfXb4NzOEVfKzaZxYvQnckUWmlCEa18ySGGmTQgrw+ctUgInq2Yuj\n",
       "dhovBxoE0h5EQtVc3D5zMBCFJxWMagbwuC1YSC/ci4winY+q78NhUQPzWXjCaBEOq/VnEOYYLRKD\n",
       "zzANuMBOicBNIIWYgRJ2h2TkcWFJNcaBMMY+ltItA1KQ3GaxCNPCmk1SVkpzUcbuZhdWacRh4b3S\n",
       "0QH3Iob8lD/o4HxWVzuxRXiyvu77i/gDcovYH4e0NcN4EzkVdzNmiz0o/Lg78SgY8ugcBhiNynm+\n",
       "kP1v72d38cZhBaWn0i4Q5HETiwWaqp86t3yTIsvpVO8Dre662uWKM9xrAAqwZme6BSYfddAMKK9+\n",
       "zmafxXIQVSJC4slBxSzjSOYRZnzIpHznTFblElppofNhaLdE37OD8TIAC2ywH8RRH09hYM9+DTZt\n",
       "lzf8+cF+PGMYsEfJsacwjtUWwWG+QrZ7cNxXKfyTQORF1LZ87p3JUDWwDjwuLz0FMGDCJEyaFNhx\n",
       "FwW/YSmNJVfDwhERgFl/Zgn8nmXkbENw8JO0OhffC0r1hQWzMYrY/Gjg9mr5uBUR82D0j9f8ueTi\n",
       "rPz3W+NJZhcsOd1Y8a62jWvew6dw165G85ImbL/40hD9UZu856HYONsGAR26JGhhHoLz5ixpuk16\n",
       "SJhBa2beHrSpGO5HR9YAkYsapPwjEWpkPq/mTSeryRR7kJeMca8kVyMsG96ar6wKldtqb7JUaZiT\n",
       "ueye5YMIJXdqKo1LBWIP73U6n6IIhqcMXOyu0Tp0WDpcRVR2o1C+ToF8JtgVswT6LHVEt4cx+LPa\n",
       "hChvwXWvGF4qV3TrBcmA9J5+VfLTu/EZ8fTy8v8RuRVgaeTM28cO9tZCwK9fmMG+lWYEYVBklDfK\n",
       "TLZHqW+yu+gq6GRe4qkOLZEL8ow9Ok6XIv0UKP/zFABqcfQP0xiOzgzAUoIiSc+UASW/L1S7NQn0\n",
       "IAnI8Cy+B7a2M1uQEbvzW5lEiVcEH2uq/6QmpTlx+zysEUgFak4n6URHXlVy9I0i+NscWriQf0PB\n",
       "tnej+WdJO4TBUGYMaXeZMnhBL3x3tH+aytfuR11O47klGZJTuwXd8twz6exGWQqai16DbPxNqaOQ\n",
       "3jd03FiMT4kRlCKnInlpg1VMhKwHNhrHBEb+eo/PSriItKNHQ/GoE2zi6BPS8ckDf+ExBiEiA8FN\n",
       "q7xAzAJnySgDGdr25guesluCiXiZMTs930K7hMSWaNTaY790PTpEIFvZVKt94Tk9lWRrOGAcFuWh\n",
       "MjrUjwSgtRhjOHCKrnMP1Nyut+n2TmcvN9VbrLoaKvfY4zAmDjTPz1FpXozNzbFxmHzAEQE/wVeI\n",
       "VxLoABOzClkOXNeDcRhnTOvjBeXE/Tlc7qKvCA61cpfSAJcxEHBnBlxgxcz4SmBPBuzuxB/zrzry\n",
       "70MZ/4tlUqJGovIa0pg1RiWG4yAqbUBwFKUC9T/EpQArFMg3NLjfkwS93d+SscIwEq1rwx6bhomP\n",
       "6tYHmw5hp92xtpNhuhje/NDAyfJyMvKCUrpLyVQhwf3Xk4LMiEiXe0c+UiiTAmvsctaISjO7edtx\n",
       "X2dUXORxg39BvmfzND/pnTL1eX6gH4K8WOPCIGwfjC1BGIVZEjfFHnO7zaz2pLNYlBXCqpjnii7c\n",
       "Bv+1GbxRfJyB4uv23ba6MytKl+s2b3atI21UrW4to1fFs5gEeErU9RBBFeM8H93TQzR5vEjLF/m6\n",
       "XvUlHbnMAQfQk7ppP17VoC4a/myEH4zBpjZpb1Ro+vhw3R/1dXFrzZDk0Ax4GQ4JUoA5Os++tSy5\n",
       "Z0iK/hEBbPqdSt1FGX5gdt7CesqGmiHt5iPkjwnxJNnIFS8gevnc+xaJnWKU1wtrMnuDjyvg7QtX\n",
       "CQgG2vfHbrsVntM7/+AW+GCAtW/5iV7wVRHhsuUdeTfnZFh9iCfVK0XGkJ38VQI8l5jq6VCU0XWN\n",
       "Wwhl769G1rtLnPU+8xrJdMZfNa3P4YZL3HvCZFO9sCH6Qxvmm/WHa6cs5rBWd9nqIfcgGWMAjbNQ\n",
       "MJOb3OgQZ78G1JSQmVkYHDZUkBRBprZ/uJHFAxzMLqRA3NG4aBjFZJ8CQ4CSXnuYrCTeJHegV5wD\n",
       "Mbt/IQafs9zDoibVGUjYirnwRWyTDTZd7jKKWh4E5io81Uv2TbF1C4t+56C+IDvj/LcouLFiKqbX\n",
       "5PmwOIC5sa+Bw4yB4tkCTWAPNiSQvjaQYlI13+wgUbhdL7sL/mYqwDr7zVIkQSgIDQYY+P6HNapT\n",
       "2r9AfT8nZJocxoXRDkFvwiNOFsvPPgFT50n0bwCw83oCAc9Mxurqzb1bzFs9nY609z2QRF1DreRp\n",
       "DdtCnhMSjwr6qczzHXBgX+ulgm9md8whnkSBsVi6Sk+JlNmFv0cwNJ/S8z9zgJX6ZeR1XJbd5gb+\n",
       "kH5+RDTj84IUHpdo1EdskNrbQjiLyFj+Fpiy+s1WRBO1KR75TYU3LdC4d7Lr6NYYVMPHOvK3Tw4I\n",
       "r8NDiB/GDJip6Y1kgP6EYZh58D9cfBQc+1odoHjqPp0C/vggdG5Gys7k1NipHVnKpVw0b4HI+jU/\n",
       "Y/FTogJNxFLKb+G2tnYN2htZQa/drGsizlUpW1Np8w4gLeJOsV0VSChxLkMY6FNOfilWLYAedOk1\n",
       "rcii+d6EGcUQeoTTd7/cZQ9It48+4Ko8s/0558pq7iMvWZjTx2e7TmqXrii35WYoNrRKQsho62ia\n",
       "D+CM0c2JWSxQOAPBYs9ZdROd3GOSIx7l719R4u5sR/85msS566pqampqgUFLerTA+6riJT1g7/nh\n",
       "OzSGAaji2ue0mE9cSKGDXuEuJrr7HATWxS8VqPLSNleZp6yJdEJbjuS7mHDhoeduh9+7IcYPYBlm\n",
       "wuIFYBU4sSZiMevNkNHledhKDv92t+C39kmQxcxisjldIAYrOYwwHdxe/IpqWQkE8RGRKK9h802m\n",
       "dTau7ufmN4JyWZcOIf5/0xTGVc3RyKzqHirkNbe/3HcZQFxnlIjZGQtu8L4OsVknaUlIPVudc/Zd\n",
       "pLl7BmeEwrHUqw94zhhi6J9oQWlJ8IUjqBIBZbcVpfRkZtxSMCGpUqrYu7a86qnYFfd+k0dWYVjv\n",
       "5K5wCFlJk5XW3oTVEV90l8xoWBEaZd7THDzc+MdC7dAFquI0XRwLsWMKgvwrQh4g0y/lPOrmy8UZ\n",
       "K8q5WLTZOsDQur5zYtw662U+ZJRMEHDgqTyu0gqu1aH3p217oNCs7jQyoZApDtAyox/YPn34BmXt\n",
       "MwaKvq7t864oQ8jh+xAa560FgOBnBunBzYut8vG2OoTtIDECZXwXjbS2T3horx2T5fReyeyigbcA\n",
       "LvPfBRFHIsLlMA31MXNlQMe5kMBribM9zZm1UGrNiUrIlQi0PYlqJav6h5G9DGNfAw2L8kK01LSa\n",
       "/BClLiPGcf3W7t98flYQY2eG3J3KDfzdH126peS/oZQFodfEQqrRtkGnCLUjvkKxcS8p26zTwjGc\n",
       "eDv6gKLcES4DvbmOMn0a/TV1ZpGhntRSHVo3jXVmQe+LDd369nl9Qr1Trs80/9u3MVMpm0YnBypN\n",
       "siExzEoQ8XYQQtu260IMDksRxAdIIE1sag/VviiJHcAv5ESZNL4zW2NF8bcBjtSHLEMww6GoBMG+\n",
       "oLBqegB9HL91OwMEx2e2vQXmcEKvfd7X07OktX+DywmsuAOBzrEcH1Lw+U0DhhHrSgtGxXX0q2ro\n",
       "rCWdpXThPRK1olF4EwSEhhOXBDR+e97r+YFyV6mrWvdcefQj8SMIi1OUo5lCxgTpGlnEXYj4Pqo/\n",
       "mb3mJZ/vDjXk1Ytk6hA7hcBiF8ZOurRbaMebMZ66HVZ/1NaDNSgoTOQZisent/izKfyqiD0Batpu\n",
       "aQRvIY2h0+Yu/sBR5aawWKwC2NIfYBudauuNzBEz7Bcr6AnF6tPbZ70kvBQj7YWgo2o65n/iFoCI\n",
       "sG9lkLFJBVHxUtNdGqEO8nFu9Yr2SkQ8dKGnH8pGSEq4Biyne6VlpoNx8sNMy9gpnkZCj38D7LA1\n",
       "UdvZY682xXy5hAQCnm8TLXiyOeyxh0k3254BXF5QRnVSNuzJayEoF5A71XA/Onv9tX2b+B1un2gs\n",
       "3U59xlJl11IRsWKjGvK5eVpM5gPjYoyFBV01IHZOuuvDXXnNZP4hj7TwZuJILmkyUN268g9vWU+c\n",
       "fXKkLro+PvSoVGlsnWHqkS+dM6SQD41gNBWSzTb6i65aytyrzu67XoKNFVYI8JO9ovP4RTenZQyJ\n",
       "ZNPN4TXHqnsTtEqF8tnWqtxxKplUgx4Sc7yGTtynuSi7ecWeCwBVDcYeEwumiTOcYaRGV0P8FBGQ\n",
       "tzO8l1mQBkOuXOR/N8uuhW97Ukm2A7EiRw8V1hew6SqwOIAj4lYGrOWmdB6nbAj2D12xMYpWwwQS\n",
       "90nWfAHEfv41YIZLFGasM06mmfQNIyl9YYufSudRWIEIdrYdcfRJOlUaeKHwh4yOx1U23e3rk6g4\n",
       "CrIguG/8d8C3C6QTKll1S3zkIAs3CA2Tb/D1qPoBJ/cKGwj7MN0WOoqNmIVq8Ll8Q+wF/8u2ayHW\n",
       "1iljPLx47/sNWDZ3nKfpqqLQlT33KEvC/X5MmtBAoaVYqA3w45RVP1busr7Nyrjpwfl1sR4qkXPY\n",
       "EmSdM7aSOBMvcQGfPcZoulUH7SeIBHBZ/Xl6tmnSop2K/0K5IsRV4zLg225e3n3mkBAFIvKR6z7n\n",
       "Xhx+vBSoADCVmn0XAlhAcCQhKwC6N1qUuQkeu/bndfHhUCKCfx9E88faoANUeALWaBVJW7BYksnE\n",
       "ir+ogWgpC9K9WjzSA1wfxS8ZF69ELPRNra/drqvwTWb6UuVz7kfZxkD4plhuDJ46bE+pF7ZaLanU\n",
       "bRDjSbbydp+v5/D3jEcIT+h1Zf2KM7UZvYI1ZC5Cy+X/5dFBNfmokHM3AiQZWlHZX6EN+1qkvrjt\n",
       "mTLF0NkxH6qAApWoqh6PkOzprYsaD2zmivl6xPdNvoYMRpI/hjOSk7XKU3cfUE2vMPi1geYAPoUk\n",
       "GhasxbB7ds5r+3QoZz/5RAl0KO7Lux2p6UWGdJZqQeI8rGCtXpIhwbZMay6p1+QybWQOqxZyThia\n",
       "2bOkwQtol4hmPRLET1xv7LfEtsSZs8I8dFvxXHXLefse5lrwAcAemEXRU64pOLp0wRfKbhob1gwb\n",
       "dErDCO/ud6+ND0sLtL1h1XQ1x2ksPRAhVHr05zk5ia1O4TvXbQLFs4xs0GAdTB39E9rUZOnrIOK4\n",
       "Pf//mF4SY0ZWY5n013WsbkwM1MUZLoNId9eCcLeF3WX34WfsF8hzWLzqjZSssuo3A8HLMgHb8ctN\n",
       "vrCJ3/quCMQqN7QXplgloXFZ/gh/qw+9oBSjzpdvmzX499E4vFuRvwlNMDFMNf7yqRL2w35UpN9D\n",
       "p42AKl+bhiX0TejnrV50QY+Uwxj0Qxk2pjLvS8Mvcky4Q7kLG/vyncCN//vqJHCV9OBd81jhXjid\n",
       "VK3DP/zpbYGyO4IlHY0kcGdb8IfH4N+mg536knCrNecMKK9oz++bGV6Vgyr+phKBLgl3CnOwuaQg\n",
       "R/a+aDqKitHAYEs5oq/+i8c2yHcDHh8MuL2YuCwqRrVwqev3njh0cW0XMeYWgumOPRXhmEnBs7n2\n",
       "0UDneRWvmDeNKOmygIZ8nKeba/aXuI61HIJZ1J7DmWXaPgm08PUZDDj9J59pYtOZd6bheldaFLFx\n",
       "FNh6ADeZH+Y3l4SVBbZtHEvhsMVEedfD2u3z46Ua0P4DvdOCgviK5bwh7GkQH7bbA6voRZVsDyv2\n",
       "cCKZWoF5UyKxqJPRxKKJwJ+37TZ4JIuByj0r6w7jvc67FQlGZXhyIVd/BYTTFILlphxPdwNDxxS3\n",
       "K4RGXrfM85flcLxrgkoFyg1CFtwZa5fA9j4LxCIsglVBoK25huLSvwUW0HrxeoFpbuxNNFQSFw0o\n",
       "VYZDkNvggnwyWJG5QlyxhPiaOr/IbQd3tBia48AyFMFD1x9HahRGs5mAEjYMeHU9dBCxpXaO2XIK\n",
       "RLo3oOHQksRlyBdJ6qgQrSHetmD3e/zBfJNTI2CLoDzJudqH8nhwtnvmNIjbJ1vxwUTGABg3mBoJ\n",
       "c+eDP8gFbQrEQjbl9krKE5GGBmi1UIiiGUpCQxOI//aVogN0b3dDhhVLFb1e1fslgqhvDtByFYTC\n",
       "85dY8rI7eAPrONCvIoDDMjb6ZaVGsO9RtgmTyG3bEA4SYo9kkCC8yD3VQRfNCZ7O+3IJJYNxmsJv\n",
       "J00nCquLN3efki+pzNP3AAxd8421V1oS49OUv8jozf95gJrQGwhIaBNfngGC08DSF1Syha83cmvC\n",
       "R8vWaaLxnflod8nDOBrgb/qAWVEprr6ZZ3lCPwi2wDutsJjr7Y2QuKqjeiulNV13bZFOX7tEKK+W\n",
       "6QP8iWccF1SSep/YcUgwyhmsZCr8bVicR9/r9W7kfmFFsvkMXflA/+YefpoQ8hO6lWoBnBn5ceaY\n",
       "+/QDN0gN57+hoFEXzY7gZ4gmJ1ibdtds6eDKFL9l3vaffbjzruD293S++9ENUD9DwPunHrZg4c9m\n",
       "H6mD4fkANeDXiH98kg7gS7gqbuMSoG0RagmtyYzIKE+POI91/HPOK45eURiacy0eKjAtChSqW6Q9\n",
       "VQ5Sr82lZ4ial8O2GBFHOly2eOpAqW4xRls4dDUVlBsMx9AsmTIJqD+HtAsJuhJTBM/nTk2UaEBx\n",
       "+2nSZgLuEyUVwOYM1E0VgPHJc72l3p29MEDgfYibu5ApmKTozpas4HYVSPPyORhpZNUAv9YSNf0w\n",
       "H/vXyecwc+7iNvGkK6kxsWZF7N6SOkv17z2crft8GpNFlenlZUPnqmGMhQuCZE7ZDy8HrjT34Uhv\n",
       "bpTEAwG53sku/DaqQJIPlwn7lEVTSkqv0ffYDX/QrlkbbwKFLVd44aC3w43uk6Xq5KBV35KPbL06\n",
       "nLrmF3M7xaeN1kWJANRvqanw+OcEJX7gaLdg3KAKjFmIrll9Zr4lPVKBfnnHmfk/iHhRfvL9vreF\n",
       "mPbhPR+rS96cm4vyv+RJwVFAZikXpT+rNxkHNzwCHE9ZyF9l0q6RBzOaYPpaRKjTyDnNpJxPAaR6\n",
       "fPN5X23XC48QO3PGoElWbcPA48ghbUstMIQHUCs+YPKWkQFn7Dv8T2Q4494iuoNqODWjTTwO4p8A\n",
       "31Fize+uIyz3VbCeEGYSId78iAK649ZBvaA/0e9+Xmw0S+msnmDBFTtSQoBH1V89wKEP1M9X8ian\n",
       "1V5L/B5ArUx5LX/iO8X0NWzfOU3s+11+XZQ8TrDoxzNUEkIdPA96qL4kNupr0eKk+pg4nPDRFaJU\n",
       "bmRZznMRQaYPk8toXjFIRqKuzxL1e2hK8PZoaw7rS4mOi2PcsFsaHI5f2vCHrorTdHu7xdAhZ85T\n",
       "hAK17IC5MVuNk7UKsIwYSHIXD2gneqQ1Q/qewNeTrMrG8lgJn1+1ZVAO6kTZCY/DtiMctBDs7dL9\n",
       "PORYkCXI5eP//AykPOxvAot3pBGzJW2QP2xJRhvMRRLFSDCrKt4lP5WS2bvq785Y6xHCiPgS3RCp\n",
       "1958xiSRESYp5TvzriorWgMz4BSuCqxsEaWZakGeaTCcYvvcE8Alb/MriltweIKvZhUhRrI9VV0M\n",
       "oB9ZA5bD1gGzkC5+VO1cDW/5E0th9DQLdDMwHgo72Qn1tQblS7kpfDvTdZiQPvr8GUS2TJV39eAB\n",
       "sKHyY3iJx0uyeVGTiRvkKpAoyfJLUAw9SFAe3UZAoUC34MPvAoBGXc9vjNobUqKyvTDFs7RL9ims\n",
       "IBFqLwP6s/ce9r6vdi6ZntELhUQ+9bELB11JO3lQLl1rUFJr50QEaiEc3YwnscOhvmg/EiT91nyj\n",
       "WBeBObl7TmczKMyzSg6nnmLawGKdWV8m0e1ORsbI+Utm2AWMg7Pbo5roYGUEy70rGNOdlxcIuVeF\n",
       "X6M9Trp7aOH76s8MDGnq8twSzjKGkpdmgaZVNKhqoeaif2bW8bJnpn0emAI2DeISRZQvmJtJsUu5\n",
       "DqF3/RbEIV6uqsG74c+xfCPVCpFivL+RuB287ANIQ6/TT8q+5WutNEeya2ma86qfUgrienJjvdGf\n",
       "Seh+QMolhe/rHXv3pIe/+eLnC1/3H5s4EOOJRj/Od5t+sMKJPBHJtOTtaJaqo7brN32o9/CY6Ew4\n",
       "Xu/8hZKGJr2SI32SX4hqtwI5zB28Bq/RCx4ndq3GZSocHzqyUcRZX9USKkoVvy1X6j525vx6ugb5\n",
       "ts1Uy2DxwQECwajxBkF5IrUKYV9bL8XGTLVAmthP4LtHmU3TrvaDT3n+X7KrMd58I8gTzKzNyLlB\n",
       "65AVMizCfMdK7I6fuz4hn7xcmN1AUBtCHO2cvHGChqWzKxNrazb6XwD0ZJ3TXyCYAxRgkTTXFoKZ\n",
       "FAqmlav2k+RZwrnTOkPWlMsgIbe6Kuu6NnE2wyAMrii//PVYvKxP0LVYPduVB++1yP/N+E2fQnyU\n",
       "UUdYmUmCewKFCPKh84gsbJ94oxtvQVHLqqZ8RArgtg0uJ/FJuP4G0/KLdo9iVbK17MhGWl6OGDdA\n",
       "k/tNfdQk1aagyqlnUrf3cP7O53Sp8peJ8kLtsSRKhxUbnXbOE0mplOkgij8zkGUjaaGpciM6vciQ\n",
       "UOBM4ixcHNt9TnUOVrAYkxAFQqqcBux+3uGlT5ybUi+2WhiyPryKFL6NrWWHEmHjg0L7aAzSlXnc\n",
       "CCgJ2+lOJh7iT1MikYaH01HDDMnTSvTCPYPaqBXbSmcz5wH+tI79rjLKJaLj8xgaWxlDbxXCQAyw\n",
       "HOsMV+qN15IWzoZ+YhCzloXgE1Hdzu6INMk0cw3Aj9ittqeaDf1Zz3rFYIwdM1w35Y6tDZl3CD6C\n",
       "iszTcNhtp5gvCbQbCADU5P5QG/TT3F15N0I/0pluH2wyW/qXvqzbi5GxRxdPxODKiQ9QZHgWrknT\n",
       "JYEhHmdK2T72W0EMOHMjY8fCc8rTjTEUJPovA+G+iGfS8xCua5fvJcI1MNE2LE7wB5GSkN3NPf89\n",
       "r47QmjegneOw/RpfBpY1/VXYaJo1ClM26ldCz9olOSGpmR3Ztao3sQQuvLQ/K4O0TWy2jUIqiUXJ\n",
       "mu4/k+dEOr33WdMNr4GLweOnYjep7j71sLWnlOOwA4FTnveQuTXE03fpDdP9RAL3Ar1j/ofRFHjn\n",
       "GQKA/zkgx9Ca12K7o5WLFucFIhk+2LAbzTPxfQEH4juJjOGwlq2t17rxSTT7CUcaV/LTaIGsY9Al\n",
       "m6AIEiTtLDSRCrxojzwxpJbDaT9XEkzlOoIIsoeYt5dQT9wHMU/ZorD5NK4mXHGXX6TWq5u9Z8j5\n",
       "RKB+imS20bk+KnVqPfe/Ja4Lt1GBHfb9iy3K0v0oZh09e+dOSBiYhgA+AFKCHKTZT2ejSPbVRnok\n",
       "g3z7GRBhk/0NcroeCv7Qmga+9nswHI8MQWwgDrbjZRerwlqZYXFQPpWXKhejqaILAky8WhZ4MDhI\n",
       "sZ9XEoMJDbeEvI6A2fAhLrqnfXO8BxUqqx9+re+UlE7CpaeriPlVCAABuoaYpfqEt6UjYUt6GJNM\n",
       "NuCLqUoTrc3jePZQLr/q3WkYPFSI8Snn/J2tX1loNZnrpI7XF4O5gdn0qL377zuS6g6VJBcHMjJN\n",
       "jvlqwpWfSh2RpSiWCL49PtevDXEvWQp+DcYm3gN/xa/nVTGhEE93v/2JnS+oAG+Nmmz7B/atJdvv\n",
       "tITzQ1hfEGwhv+GzQ8wdR/W9O/xB0e+Z8B7MDEQ40cQhOURzLLx3jNmhMICw9SNINqR8WNw6pJq5\n",
       "H11foGx7R3wrhOjWcgCCuRiOx1VmOVFdV/Th1pcBhwTKBcDjBb8xsEoSIlMge6si/nq4XLxbfRI+\n",
       "fD1HPzX8F/FT9DfDJXAAFWPI6a/CIOmjzKLZ3A10TrMNeIyoLpAedAb+L7SPb2xeglnYdcwJGPaQ\n",
       "vcK7DFGaTS462h20JyL3ufdli9BU1O+m1rNZV7eJ49x0AoJMYzeqasNZyqQmgPOQd7wFGXt0dSn5\n",
       "GMH46ipyaOJAl1J5Ktzs/2t2Ne0/W5CVBmKRqt9S2Vd2dMDDjcB+Mf5YDQBUt2k/wF2x3hTNr3GN\n",
       "v2Fwiu/eUNSYue48vOjYujucu1FYyqTYqIV0zbGMS4x8jptNFDg24SWKIm7pcDbjyYy7ae/fbvSM\n",
       "SLPWYrLuzcnJac1SgKZ5JritNZ0WejKH5mrErMHhCQ3rI+oAjbsnLpyHGf/ae7W7n8aecIaPfl+B\n",
       "Ewi2kdfrshYr4w4w4Wlotucee23Tgc+Rq6be+5CY3osGl1VdhJB/ik/u4Sv94D7QMf49VhLEYx1l\n",
       "rkIXAgqNMVlC7Ajip0P9SPfD+JgyKtPMvmLepsISFkXvlSg1WoTc4HeZk3sZ4YA+cvtiqBvwFqBc\n",
       "5IZfygNvhfOlpUTZbKuv3cgaKms8j9HHUPXAv6NcSharV6KRZOeysNEIrEwu6ci04AFEh7Y2ZyB4\n",
       "o94I2SEkYWsUfCPh/6WPvJUZwlY856aap8Kv6EpVLbxKnjOtU9ki1kHFcdvijBfw/4Y08cku+ocP\n",
       "/89GwtH2VMxwexOW+H9b65cvMrnKxj2gctrw1eQv+BkOur2A3Zth7Im4boCdMCoM14TbUbO11v8U\n",
       "e54AhgUJb7p4Vfrj8ennF6C6Hs/qySxnMk9V2GP9eiTjYzJ3N46KG01s7cwqL7kWtbRA0U+eyUZB\n",
       "bviP7gLsQM3HvrCizMHnG5DKb8BkiQMJXuP3mr+bbZaCec9tLckCQKpv3eFF2UiG8Y4iaHNFG+Jh\n",
       "DsntWxI2Fps4OdRzwRhqU+E4hJn9eBEDqjfI+H3UAuUF/kXAj4Zps8Rn7whMcXnXYBA03Kao5amX\n",
       "8HBkcfvRcg3QImri252Ky6MDTgXchsLu823dMxmMLVxwOXt8pyj6YOqKPELKFjnk5KWH/x7P9HHb\n",
       "yatOdLfVzT4J5QbDWRhJJo+n9ST5arl2yVKeOfLFc6qrWxFfY4mljqptuOH9V28ZTfhULUjcKkck\n",
       "wXKQOtQ0J2/gdecBIK4Lab5F1fI2LldIqeMdh8U5k2yb10psfT/JNd3rDIe+9NsxP98jQZZzdr6F\n",
       "WKRqg11S3Tuhzh7P230LjJ0fxC0Upwf+5/TF4fgDV45lL2l0kfZyv1Sy4eFVhbaHqWcyy6okuA0k\n",
       "Qh/14xdhw8V7nlDeVA3xpkMJARar9KyAU5jRTQ1cpKMElYBnD/SxBfAgZfsaHMzhX0ttLjLPYqg1\n",
       "QUxbslBBiTHULj7VBVJqVL1PeRFlqjYx5m2tQKEhLyfrqL4+4/qJWhQADzkT78ZuPptNN/OgKgF2\n",
       "VTLgqAktwHx5bf7FwmKjIznCNtM7YiVD2SpFsOVeegvyiuFsFeeLoUyF8nrkBoOOy49y3xCKJ/HZ\n",
       "nPSpEW8DvGSLi1UQcB+bIg6ZKCRFWxH8PVHjgk6bZBBjv3XmEaZFWgJqFW6tzU6WOdr91jXmIZyR\n",
       "r0Xeq6m1+/Vr7vboRfBm1hOEDm7DLNb45Lb0+WrcFAycGKP5fxwxHjRIJnbyXS1iFNpUc/7fjdd7\n",
       "3Y0fusA1bLu4u7ao3VEzmByMv0rdEXVql94590W8lR/1AKPBwE5fWtqKrhlAo4zFD/pkHEM9tT32\n",
       "4glzDtnsJWFhjqfN8lslPFKbBW8ivw/EwwCVXGkQrHDLflDFJ5RNrS376sScJVgpbCusv+YmvgkU\n",
       "WwZBVHUlMh4plBTXv+q3bbhaovb5n3735KgkEKMJMC/fouvd2Z89DRajaZYymsDJa99Y81v6vAMD\n",
       "ayJF1dG4EeMG2wMzlsFW9itN03Xm40C9eSIfecmHhaGPBzcwAYjcuE7j0On8Jtz+Z10msTSoMfzP\n",
       "98pabvRwDec656Xgg2Uvhhf7QtMNZxBBaSBfDmefOo6isEQjo4MuN4R8S3UnYOT6ncMocwOvFVuU\n",
       "Befase7lGmsl3/nB3VJ/QLGgbMP1ssUN3xYhxDUP8b90cOIecnh5K5QQv9Hr9jvDN0oPwod9I6Qz\n",
       "Q01iGsM/TrbVddJt9do1sX08fo6QNjvWYYqkYwQq8Y+N1T+q6kiRC9SLNZTob4aEJyKjOezsmeyk\n",
       "ERi+m/esviNx2BO+SGYdkql/X//pY5tI/o33SDWyy73UJBpTyBEhZHrTMX7/z4eX5x5BSn2NuWWa\n",
       "GVHInv6+9t1Vr0YiRzxRJeaflNJkJ+/nNsGcvCVbx4Mi20/RFDYI1+GTh0ZwTz7Hqr9+/TNeyuAP\n",
       "sYOsahsSSVAsNvmNK1m8GWhyabnJ4AS/YwLFFhhday08qCivn3HyedTEw4tXaeoVnDy2P2p3oZ70\n",
       "rU645ydizcgzhX5t9rsQ9IFmYm984P83Umwey9DTl+LrBMHJUx+W3Hefc5zD+UsracU7litJMe9f\n",
       "seEhESIOOFwOh1t9mZxDIhdCYx9XpKXWtTbKVG0iqHRExcriZclsctryWbRsrhlLFaFp2TDNZOck\n",
       "YdUs1ipjUbmf0LBFBDKPfQ5r+81+57bhriLf1GsQgQ2waQRMGEcJsS8QpLGr89kpKjROef9Qrah4\n",
       "f8yvWt/0cPY4NmgxUczJfPGJJ6PykfCJEhmTBPu5VFHJKnh40a6DjaBh8dzXW9LNw/q89abNnLDn\n",
       "ACzBPfHKZ5/PmJ4+3CA9mnPHsewQTs16ga/eE+YWy7B4yp20kNAtG29b8jLpl03pgGBZqKDSEWvd\n",
       "zT/V4CcaTOJoqdcQPGck9SbrRQ9w2LyS8306gSaZ8+EtzpelVIfw27l3dlbzqOq7dvVEXDaAAHJD\n",
       "sj6zrIAV1+sMIKViN+QM9kSoHIm9ijTtU5FPYGbaGEOqbo5u8m69rQrAW2Cur96GLJQEF+M5nUKZ\n",
       "5ZJnJE7VTCijMbHtkF3Dgue11qBSJBIns2oTF0K6n4gbTNjw/Mn1Bm9If9qcNk3yJYb5P0uO3s41\n",
       "esjC24sfONohRUAYt5q/XPelbeQXgz39oM0j+R+0V/RxO+/4RJuwcKLv50nXUINMGSz+EJzLrSmN\n",
       "fTZAyUHwGTuxNwBM47lvYQ45ujT9HZbcnkW70C+2srgFNcxTQGsEaD+r9Tx7kzJ3TBbGyUJe3uC0\n",
       "SJ/ReLS3TXwPE/Y48vrmbSW9UoM2fuLk1H088G7f4CZBTIfXD05W4j/A5VpKbRU/KIjmVmHiApMh\n",
       "ow5ztXcFkuOgs1g0q9trtzAYBo4sndztaXFGNwjEkLHvKyoQNktGWLlordz55wC7+th8PPBjerQV\n",
       "W4AjXBytZ+KFyrF3P8ScFyOvdfR6XJgKoXz/HqTj2uo2kou8J80OKg1LEmqPbH3ApqGrnfT9xrQD\n",
       "QN1iomd4lq9gBqKZjVixCZq7SXuDIsn9KJQnHjqtlfUWhcS7EbTtyA2wab4LoB5GWbVAXEHBkq1E\n",
       "zZYUfNaZ5Ler/6e4tG2Z/zrOyYloEqC59qJZyQlE47RzyrGTfr6LDOMuVKfHY9kMquF1PX9xDufV\n",
       "V1XrP5XDJ/embzgrviJZ8DH3p2//wn0e/HqezIJwHViO8HwurkJ1Yi4B6YnPdZ7ZQJtToeXdGV5E\n",
       "bAmq1DvthNsYRdZRPDYH9EPs0uAj0GJwVNiUYFwJFNmNxD1VLMHleOZUlO+i9+DUdudJGjf+54GU\n",
       "FQTl/9D8DDoxS0xPSq1TpVCpDb1hC3Xc0ucPxiWOYFWIa9mIjblaZhbkV3DbPbHx382/CjzFoOzX\n",
       "vMrZNhZ1JReSbEXzObz293PJk5ZA7+Zx6MQKIylwi5At6rAenEZqgAUNYTyI+fAd5Gy3paQtNp+e\n",
       "yZpW4n7fYhW5jbuquQ94K+zBMXuYarxstSHnTBddKCsetzm8NCfTGxQOhuBPf17yKwZhsqIic597\n",
       "3R6sUNhFEruIeCZVNxA9L0HIlxe7j8ejIrPrf/SI0O4cH1y6fXonEP7mqyaWPVQxcO903a3VsqO9\n",
       "75OK7dxrFgQTgAUocZyBPO8okYkhrjQGhr6uI3Q4iM9pDLsfCVvzELHg1g11gOt/x6Mxih55A2jS\n",
       "vk+O/zMPhhYnpD/gLjcseFnD7RYW4j6ismjs6VB/rmz+1A9n/8yLEGNQPxgxlK1C01mVAeEfw454\n",
       "HnXtsmJ2Td5OHFPpJtuHW5vKRTXWJmloLpKABuHTQ48DpBTfBP+Dn6AbPObkUtfHMdFOwyl9RGZm\n",
       "hRMi0QEJQsqw4wxO+2aTIZul9PgPZnVWi6HbDOIWw6lEeB/JbKEjiMDFi9GWtpb2CsrlIPDik488\n",
       "CCkzsxXHx/654dKtP1xzIBwIZ1kZxsLIQD9VHViEwXZnnGZIaDOMtfjUZFiV1+IHz0cFNx5iAbJJ\n",
       "OfYiAXmHPl3/pBMKRVT8BQkv6L/SnPeSb8MeJWEUhH/mwzsr6BVU2uWbwpyTdFymhLcR4uSg3b8a\n",
       "Or/0A5HeFg/XqxAQbU7OmZUPANWhSTdbBb/JFSij4qTfZFgDmeoexfd5E6AgacZoO4TdKscgy6fq\n",
       "4PKgmjC/ttrx1+jiEIo7diW/lLfafbQWp11cCk/5ftWBhtdLEMjUQWoXQOZaRelb27C8SVBQdLqX\n",
       "3rJ726sykurDi+iy5IxTYUR9yRbahBGnJhM2YXmPd5NwUKYv2t9EjG6EuGzWdD/SMTUJ/YKmdQJu\n",
       "Y2eL6b2kUHNlsG2Ujrb2SDffVLqRi61YJ2HiFl+0qYQGK2+g+IT9xN8EQMaRqkjqgp+j97Zaao3Z\n",
       "vEMBlUDye6PUQv3r9h2Wy04wGFxplFJ0cve5kU8iRNVrOvLJf/Irrm6CWSQVfIosyMYgZAnsqOrN\n",
       "5f+ucpv2iPHHrXV/SvASTX73Q5lN3uvi3n+ct6mbSoyLyXEnBWBa8VcEpRtU9FKDiD2I7cUEy08w\n",
       "1dX4rS6kBkX3k7TC1o7e2eo4aatiAmWIqbpASJrTI8Pea9qP7onTdU6ejH+FuV1dT2FZIUN2KkyD\n",
       "M3CQsfNS9bi/mFJBodFuo0TN2956XSxJu7EWpFwrib4FpLhOX1WOVaZcYtfo7VsK1yd3/2JTEAyG\n",
       "xnQqVAfVmxaT1SdX5W8XOt7QwABnOYRUToVeef8mBA2qWAwZdCDWN0DWkkPdied/NK2wVbI78bj2\n",
       "VHZW9XBaxQhxTxNEN/4qGjByAqa9AFeYwKl6kbdMf8W7Bx28/+48iUSy1GPMuOCyEeMcGq/ufUxb\n",
       "J+zTUk6pnBeYquHr1yGIuDkHYbqP0b1bOtoUwL7S/21G0YdnpKRFihjnFTomdMLuqHlYOOIOkyit\n",
       "yudOoKA7hmdDJixqMN/aRXDZRAHrwt8Y+QSC5Bdtq0n0k2bsPGx9YFllij0jXDWkaqpOkF+kDlmA\n",
       "7gNZEUOg40881flv+Z04LSxWrtEkUfC8AFWkDRWdIIpgdPaipjfybPN4LMKgLG2q9QLsJfX8UVZE\n",
       "o0QbxUPnSxZ5YgpPwUMsmQZa7T76rPf2X1Cx036ZwsLpM12N5/U1d/hnO71M3zZ91TR3WaR5QGj9\n",
       "Fo5lmdMRt2YyJS9Ps/SFvE4UfoeFmuGEFhhVBBblara7jK2V/hs0xh/xLNEeLOnV0OMI1qamcyhg\n",
       "SIVSlDxZn3eXqev7vkjiORz9axpr2+3pmF0JU9zretwxEeY65RJycs2tLbrjeXuy6WfxNl0wymJk\n",
       "PWnPi8evFJX828tRUt9sBLT9QNg/OSyiafWcdb5XZOFr4yZ9VtTTKT4CVbXKlrlnRRiVJtVqeFFe\n",
       "23aAUQgihTfO6Kxd0mhLb1KWv4zcxBCrqQDo2akmsFUR4fGu+kNFgo+Gm4eGDNKv9kmCKQoJvrls\n",
       "o5l5b8gNl7Fshm8YoK1+3Qcsm9w349/hxOYgi+8ckswx5dLSu32JSNf8C+u/9Aw5FPbgZzlWPejF\n",
       "ygTnS+WT81jNAvtZgtEdelg4TFlQaLnLlWN1BxmYchNZMDvOgKFkrfkTdVSSqpOEI5ZHTuU7RFVD\n",
       "AzgSnmdTeCxB4AmPClHBAt5kULod44Eoj2h9qf4PgK1PQH/4xg02FTxfZcstFWZRYUrEqpH/6VCe\n",
       "wZ61tvFH5GMBs/r1cAPp5f8nWnV8yWiBIiVeWwWKHN7rgMFNrJ5H8qxzhZbQ2rqHUqP/gRNmPOmP\n",
       "Iyh5TNuc30MBuQ8sP6MEGznviG1X86UDVt166s/x/+V2dsT9NjnscQsJdI7FeHlefq4TYZw1lbWH\n",
       "1u6ZaRDKAonxDUBQKEEnRdTJi9DOzN9jfx1rRZcaYu8DK5G1h2pI92YrAganZ+E7Y+y4s1mryi/m\n",
       "ZFPjzugt8TJFbbLsRTGv5HT82SjeP1SaWh1bJc1hOB9D5wyArr3ReQUskZj+AR4wUxggJ1RXwfFz\n",
       "0DAmfIG5HIwDL3pS/DtKo58ijE9LGZLCE7ukObCEi+ZtST2w+MGlviMlrwTBXQaMaJFM7nd1WzT6\n",
       "FfG9Q/RKcFxkijJLd0tSWi2ZVhWVwt59dHVKfcaPVBzkCt/2drDhynxADaoaIUdXiyoFXn81Im4t\n",
       "Iv6YqghtFqdOv21zHt7D2QzG30/RgOkbeaM+EKUa70l7wshucqMS1Oyh7Cjr5PlmgbypPHj2wiKc\n",
       "/xyO7MghOXjrvGDPQbwsyBCq2Mz/g893OMBVSrmeVfys+lHiqyceLALwnn3+2/75iV/UrXD61Ld/\n",
       "wpgxs40VEDIy6WCoNYXDGPkTxUvxmxGkSQAh/7HlbJ3EVTNs8aeHFMI+rzh0bc7x59NhWQanz4R+\n",
       "H0Fax2nU7xxiVaxUMJCqTx6mtXtv7ewaqtt/P+S7AoeHl6IpbI2Pbd3MNqt7TGuHkALfwYlDPyff\n",
       "lNKYfma1FankAeQ1oypbhUd6aLOiCG21SOZl2owm/8akKPQofOxqNDMUI1V9Txv04SGVToOyaSs1\n",
       "eF02ktjyi4+JJDNi7H2v5lcHLt1jvsLufAQQWKhTdNeKiIV9tiPyps7fdHGKz4KtH/oZazQLKPvk\n",
       "nq6YY7yZJLFlkLDjhZ3ReJ2nVl39C/0inbw9tlXVD7ICeU28cU8CXs41NRp3n41Oz5f5mSM9Qq0U\n",
       "/zCQpaTlkDNNvL4zQkL+abl15X8JdCpNWPMfpRLuOMcBrI3No3sQcwkbDcx7NUNXXzvHED69yqmL\n",
       "ZXRshgFGSZNYd/Il/R7iZWCwWxSDs9u5RzrVx0Li5HhpvyhAGgINanBmZyZ107uGGzy9aL0RW1Go\n",
       "VO5s9AZR87xMLOqLyBm81BeWi7wqw0Qq0IcJkBg4aiLRfN9MTGbsrRo9uKZpk9QDYA1pT59An/s7\n",
       "WT9zfBs0tfi5Ri5On4HKieq2wvJVfIADe4s7Sn2xP+cAJ5isOzZ1wLuGs9LSV0iEZEtKeKRbn0DH\n",
       "MHq/VYNcJqbiDNmDhV1OI5xoFnLpaMMCQbgI6sAbLzlkjfCNbbq5PCbmXGOnRPbPQIA/mibNmYzy\n",
       "lNvBfgzxVDNQw5/tgbitaLIQY7RdOONti3TZ3iX+Fj6w9f3X9XwwYKQ1adLndqa6qUnmBCbWWIVl\n",
       "czXeYJa5NcMx1Q6NXLnmWpemM98qt8Wi9CTzPmOEnsFyQjqPd8dOSd08AkC3fcTRM1M7UWw9JYW7\n",
       "mvNQoiDh+U+mHHnJSqSYOYekK0Sl7KuHCFJao8nIAppz5O7z8791C0m0E2zSWQAEIlTrRj7x++vD\n",
       "nNNjBKiQI7nzcUwULWV5YrIbvhlHxRkMOx4YiU4xTwgQwruVo6zQCiH21RtCO+ysDQz3nrm6f3Yh\n",
       "2j5YLfLeCyNvlWM58gcojnvmfBU+B4CV6BK2VuijecOobV671a01CRsAMiDnlABDgml8A9OH6Qfu\n",
       "sdmUUi5yrXVN4fHIrJLfsuOCIZsEwv++1R9oHVZ0hc+gJ61Z7nBuywksNU6gYugYkPu2Q5NYBwbx\n",
       "lN+ZCVsJ7zUPWMdh1pi4p+knpzu9MuJx8BJ2mMPoS1CC2b980/FiuL+2dOwXx/3VWRmkeLbxwztH\n",
       "dR3/VEptRkUL1cR3XF/U2XUT5ucJYPFYwYAwizjer6UYwgV9nWmWOvCVDXdKxbz1MOQJXGe9+hlh\n",
       "Ie1l3t7cJcZtx3S+3RTTVvV+yqe5EyCZG4t+XFs3+qQ2EFom7iMqjmvx87o+lmNKBisDjwcwWuSS\n",
       "12Tb1DIabKU49902aw3WixriLY+8L1yWosribm4mYs4tUeMhHywha3dyTiU01EcbWj/0dFRxdaxR\n",
       "pbSvvQ8QMUzySs/3Mf5wjBr95p51BkHfjKz55om0nka+MyeedV15dF+DpX2prJmI8gy/+sTpX9gF\n",
       "O4IqZPHqUJXxFIcnTIncInBuVVx4fjQGbWYnSpkW375s12dq64lXYguYasy6uDfxsdDtV+BAgMYc\n",
       "P02SUQ4yahLVgLWWzDoZam9WErJUbufAJegOAEwSXsYhTgoYJS7itc6LmhOVm4l9Rouyb7pZuHaP\n",
       "6oESTt8mDEMF+aqr3E9tifqqndkuVg29noBIemDxnvF93hIfAfsiZhgI7vx/dCGWYR6hjLpPIJsG\n",
       "WEDBmZgJNNaFoNjRZWeEDxbCXDFLgmzjq/cVc+nfqI18OQ2M7Gl2zsrCYZUd4s0GXYhxA/cN2NGa\n",
       "1Qiq3FOdf+8FuXlHwDVSS2ZWL+XhG1PqfUZbqf/wT1+mXXInz5nZ5iSCK9fAYIQOXbxItEYGfHNx\n",
       "mb0nIl2Wml8q34ZOij18kZhwIMNfOOjN6M32NmhMAObj2zXA3EbWzyf0G5qGw64/2y0O83bS9Av9\n",
       "sFgik4QeZu5TlRdHlcmAnuERa1x6iHWySXoLVeoYXSgvK4pUAKY33gDDgYafzNlYW6mfeUBwVPwU\n",
       "cPVX87KFKsoTna5GZukuWloa7hmbR0kioBhwnMSP+bTI0lV5hiEQoCzDtRFe4rN5T8t6zTP7Quwh\n",
       "Mn5MjAu21y0F5+8J1AymxiEBif1aYB04k+2vbiKOKir3iI5ol2ta/wYbgAoT0lKxacDBDbdPquX0\n",
       "ymsa12E30cTEkNrhcSwVTNnyU9HW7iXqpA8Y0BbwWNLcY3vkfbDO0lZyeb2gttsmaFdIsx0sse0C\n",
       "sNvHhotz69cV8O75Pebn3ImDqFdLgDubQSd6womFGik1G3jY0hkFRNgRSb04ZR/JlKH5ojGgBprJ\n",
       "1jkKKTov9h1ngtt5tOE4dlXZc91H6vdbBblAtSb6e1DKr9IaD3qbXt1sy37pc7KehOE9GsnGkbvt\n",
       "rPv54134lBza4qIrG0M01J4u4JYxZUGGX4lsYeD8TgAeuljP2Qdo4ReHooYI3c0vShveKLvdbyDN\n",
       "xd1E9mS3FIcO/U5iHM5fhO1q1e4LopqUjXfvNCJeG828qHteFlbuYBOAgIEveb6Cuz3JBd4dNycu\n",
       "hfiHI7318D8NJSMlz2Y5AdfNs2sLRqM6QEJQHKlvWFPKUmXWXL4IyHqk2l84qzgr13WDIXH90wml\n",
       "hi/1WV20zjbx61u9sA2QbK+1pjoxFLwIyMJamrb3EHooZ8ArQ986RgcoNsNIRBCT5pTPZTl7dOye\n",
       "CIpKwqaSwBdptjDV3YsNSHJDmMadsBzxdQuG8RobDT4M/SBwMP7+TkA6iDNNrp+UMvjXzh+fv279\n",
       "kHSslSfpgTRCG0RQlDIIcDgRagz2Xjyf7AQ6/4YTLzaTr4E3hxYD3YPqhvA7B6DziA9rsctueLdZ\n",
       "MNu4+6izLkny7AcvlMELriXS6qxUQP2jeR9Op9bcR2tp7T/SIDW+1sAwGgDHQLMBAEwKvfg2vSzl\n",
       "jqtawtrWNj9ykQEupWDGbU8c5Cad6InzgwDZ9nPNFr7zhV+J6y9VugxypTQvybcj5X3BcUrddc22\n",
       "3QRtfNrNNqm6DoRKA2ZGXQHJcsPMw0TXohizbUBiPns4Bb9wkeiPufnJHpVhIB+TqQuuAmu7usWa\n",
       "HLSgNnLYSu43YNu2o+3Oc665b5CzrXG1MmQn+MSrjZF81HeO/PKqNjIMXnGOhnJoxNdrKKR2XBB1\n",
       "tHmOCubezqMYAb1S1Abj9WBrtJOh+duE9DgEtOt9OAQoSlCrDdJ5fJVEDsQfdv04UDg2ua6UJa+v\n",
       "+6j2Bwf2aVglx6NFA3blcANYDqDOZHw7KhQaSnLH2BR41LWbmlG8TMbX2/K1yEFuClv7A9jezUV3\n",
       "U3mO887SyBXAruJzAzMBYFavJTUTJg4b5+L7m7f9cbqmtg1dEW7k7Fjip3psVCvayS+VAryM+E2h\n",
       "1xawDOI/Fx+WNb1ONeJsfhfwMP8sBTsFExmAR1tDiRHI93bHFhFTAUd6mx5aN0Zbl7HMwjdika+1\n",
       "Vs0Kas5XOhnXkY9hnJj7Su1tjwMy7auG+mpJGQ8WoVQh5ZpAz8cGoSpaXi06Kw2jSQX+GXbLciRb\n",
       "kGkirR6akHnd3Hdjd4EUpHyOQCXPHYT3PAA68hX38eEgQzD19qRGTxJ16Hv8QTXitgnDARUFIrFQ\n",
       "Bh2okZo6UDqhN1Yn1kR0KnRhrVSwMYlVz5mrxO/Mu0999ZDS9f16q+kKwAmJe6erH+yeoORk8h7E\n",
       "gQWeFKMMDo2IGjphYXi/XP/07FkCxKBLbKtIJbEoI+m738W/8PxXK+5FQMY7L/5BAvBsP0D7j6t/\n",
       "g4r6OSqWjmfrICqcjaOADIatLWbt1B7VHCOyC6hvuGvm1mw0w7kU3QteOpl3cskr8A55pwZTCtWb\n",
       "gf+LGhKtELqT7yIfmQ1LjgABVuaYwN5qMMIIsdiy4u5FSMJKYWfUmcTtSKMKJ4mXkZYSWWz7U6zW\n",
       "mkHIv7Px+R0Q6Q+RRb+UHXAdB3PaudqBG0WJFN8a42FpDy8qXNJCImIkXazrLPPpHKens631L2X6\n",
       "fwjzu+nHV8t6t73RizFM9mzc43tY9pn9Qm+WNGDeT0uHxAOJs6yhofEkBcqLBYgQBKsvMr2TKwsp\n",
       "eUggVrGBrnv8iZv+wCyT+AN1RSCwdscVjluIJImaFhJ5dsTIM4iCa3m8L9yMZSoVSa+CrNVRSQjS\n",
       "vHv2U6OglRqSGDu/zE6pIEDXiSrmFnw5ymMXO3wmDpBGAPdpz/JyKkQ5G1/eW/bsYV/rDTR6XKGl\n",
       "9idKYaQPHZrol1rsirP2VvwBJpeQ0gSOD7Xr+sxT925sZ95pCeSOrxG7437sf733fESGv4++3k3H\n",
       "jdOaRgkgAMBEtOdfAKwX2Q3fUXV/e83ZYJ4blOcb6mVTSCYAqM7Usq5j//JgvvzigtB7bvHzCoh7\n",
       "Ys5Yrim+sb4fG1dqB5XGMeUkl179qtcum9zWTr9YucPrqnHjdbvcVkpwrv4HUn/D7geH2V32epBN\n",
       "mDRLNKzuSyjZQIQUVGZB4xSPZCUFAfhUTOj5C1QzzJ+2sc/k95XvLf66zAET8plExxkDwFf9LPwN\n",
       "ghqHvuOR9cmRiThvKYhiPKiJdQMWLP8sYwhfYIgewXoer/20X0283z4cigcwF0VbefFW3wrS92oG\n",
       "Rzw2JSulABTi6iuo5MAFE6pvdXwQ5dsJLKONhqaiXgiUoJBUZWnmqnhqQ0neXCN7ro1Zwrd8krh7\n",
       "7+CgjvLdgTNftBgtUgVfYGz64F4YP+otH/biogmoYEnU/y+6L6tKj3gMEJdD4jhgEILdnmQLKel3\n",
       "6ptCocn/A/ddaO6HWFURNTeCpmyZap7dBsWJfyPJMSOR7gwTsGRuIhgtO/aLvhWVmwBBPEJXJNGN\n",
       "tnjQATbYe0U/+K6opTaH99hulQYO2zUk+edW2qboCwMKqjLihTZ2YNaYc+dOUOPPzoW/xwAA2pk4\n",
       "9TqRNHuxUUEYJcNHw6SFEstCVI1CJSkr8wBwmThJnRiaUjZsyjZ/aXSnwWqyMNYkqqMefetZ/PkR\n",
       "WyTaRNNO8aE4Iw7M4dlVzeTEeRd6ywdiCUrXMBxK0R25Giik3yKvsgfJMxmWTqrbsYJd4cQFWmX2\n",
       "2aVcF5qx5VCnKxnTSGfl4/M/1TO4ycwXg+kGcQXicCuZqoe5GF3ig0jx9J4siOEl5Ygr54DY7fjq\n",
       "RvwrxMkwdVM3Vy//Nby8gZ7xyiZKd6cVzoC9Yz5lj03uEHJQO4mFcTSqK2ys3DtV1CKXJoxjDl/B\n",
       "Hu8Y5gRMiJpB5qBeF6StKVln22JP+HquggAB2fwXAt058WVLYsb7cHg9EiCsuXIO1fX+X1ofat/N\n",
       "HzLyQmSN4N365gRuBIUS2elY8t0WMnAnz8D5qSiZxiaTbEQmW4ZOepRYiFYaHroR59/2+B6ep0H9\n",
       "IAOwmyaYiLJ+7JBnb3nkmzfPUBrj76u62uMDmUNadaeUPuHzMk8ei7xHLED2rDtILnw6Kq2lnW4L\n",
       "k9+DJpRin1MvCGnjtYXT8YcVWxK/r/rx1s90g9KBxG1R633Cbu9cbssxjEGLr8YsRkX1FvnBqsZk\n",
       "e9+Bcq3hgKkSymXgoe9srAouJgB1IHH1VUfTChcpZpfclHK6TlGO5JgU+byV6xI7JFgivdw5Bb5I\n",
       "1aEkTfEGsIlLl4ypyvr8upyAAFmOIFbJW1P6msqsCB+ZFXB0JzirDlQONXwhvOjNsc/58usNLA5q\n",
       "Wfu//+4UNqmlNmgco6LxKbRTtru6DABuzso52pwhzsRSRy4VFItFfJmcQsbh/XMXPbgR9+RRocAW\n",
       "dPRqIQG39SfRpPEsf58spPqYzAlhemrZWpvhTWsMVpdzrwTklMyeV0GgwXJZm9BJePkUaX04sMWp\n",
       "azkOxUAAR83dQ99RU4FZTfn1aAydNc8bex7Mcz+TZZsjfhhVOdaAQ8x75Z/qZ3I/wMB/rYOEjqb2\n",
       "4FVKAziBXlqQVdPKj7+oJN41P1xkkiKsAxrqJP45k7FCNc/r5vAn72JZvxK1DRfDLaC3Bu5l0sol\n",
       "2LapocNsKaiK1KB3L+PddL61PXmJVu/5O/R2i8hbGN4wEdmLgNRX/kS87VOww6fVVNI6s7jvW+gd\n",
       "SBlntD4RlWxqrCmraM4YWeRL9GAzrQdCWHTBzZ8r8EFBVCxixRUDWm5BBfwFz6//OWrMkw4AOmqp\n",
       "ASLE1WaSSyVA/WihdQ2NLtYLgTmf88bLuIjOrLUD6/mNDMhtyzORA+ZYw+PfO3W8aK3yCVK02/vh\n",
       "PcDJmyRHlULnvz1p/uPwiePpSlcoehP+mIaxKDZB22c7rpGK2EbqvEgMHFMGDViaVRrtdOSASWaR\n",
       "WwpOBLvBzGGG1KsSpRk/pGx6nX9omM6S+xu2BM3HZYQUXTnibFUXmorFDRTs/tDoAz/ikoBQaEMs\n",
       "MgaWoNYmKNmJA04GA4NGtq60jGk0kDJtpJfUbvOGBr2hAv3jvUYh/AREuh3BcHSLXhgATBzCoAO0\n",
       "wdr7CpCDuhFrSLhopZ+Lj/lWzXv7aT09ZRsUsiMeYrgpMnoUKucEWcTKX6vAbyrevJjSEktN6/bE\n",
       "gwOoFxOGv/rEpIKYvCiNvjq7zbTZD3nD4DZB9rsgtYpsA69py0q37I+F/GJZm/Jq4DGTs40xokpL\n",
       "XgnqGipHg03QHaEsVd2pRQo7/7Q0UdV4XnoGc9zzGO11eOkPwIGKiht3x9nhMKjGCAEyD/fcpD8f\n",
       "9J/UJv2p/+Ltf3cRSj/lXDVRB7v7FW20TD8J95ejmLO1vGfdmfyzv/0C0iprY9uVWEESZlMjP3gd\n",
       "mMmUvPhwnDa8bDF/KUgp7fyS72DpU1Do6pjOWAYZXzMmrHRVxIf6QyedHsU25Ka34m/RK9PUAUfV\n",
       "ukJODEYLz/ovO7hTWUy/aJ6QLa/qLcb8HR3i7g1G5Ik3Gg3J1wH01cjaLGP7fQzQ+pAFcfH7zPsB\n",
       "V4gwxndkV1HwOogYp6+VIB/iGASf/TU5V+9RNmwinbep2RyMpidqbp6VXB5wAYV1F+EGiUUwXvji\n",
       "GEZslRscvtMMxK22QhlbyaIqLsnYEKoalgSOh2w/XnOSMAnIQ1Tos2ValayNLk6wjlm8lb78KBCj\n",
       "MswYS9eeiXZFITXKBrImI/FE6s5e2yfL+HrY6aYP32WDkj+WM+KHMxxoNyZ1DUKAyrnkbHagPQJi\n",
       "eUxzenc3Fi3thNBfA3TNSUIbs105Ys2Flh3+jb/8AJJbLq34bMYe0oYFxUTRxrcOMvPKqLmBcK8g\n",
       "33I8sfcZH2szFEm2CUEBuSEi6dcZoxDAlGHpoedqOv/47FM6IT3uIHhD51FFbLleRSK/FVmZF0mX\n",
       "nSM//2zGhF9K0WtgQVlIRBiJgAbaP947rWd2tuvkgdMzBWfsbv+35JqTZPQIVTsq9dPilxzGYgrO\n",
       "Wvh+xLXYazUtt/nwoNq43Y/G7eox7WtkTRdh39woPZjAOVLtmowasGJKOGbRC8/LMuct0rnjLXD4\n",
       "fxNQI3eivQjkFUEyKnTxSQr1Jvz2jExfGzv1YQaFtj3tWLKodcyjWxdNVrijcXtFTFw0qI00aASV\n",
       "T5oTeC1FI6U1CNem8mbWRg7IejpT9lNwZyM6d+/9xFdOK5I10dbMgHdICre5ec6fYRMGTeydKRmi\n",
       "8U3W/lnUWtzTCC3JtMer9m50uYYeLKs2uQ7cjHGjHpZCi00cu33EfiL9/VwJj3upQVzhCgG8wzkh\n",
       "1GSgrtozP3e8fyRIHFZAveSBf6b9bCn+mDLqI0mOPAUsW9ndqZ0VTRue5b0uwN92pb5icmrfL6zG\n",
       "8C4d5Ovebt7WfGcqq9pFvjN4GrHl9+nCOj63wNK7yjYbUgSMoIv0C5lyYw86UDfdc/lYbW2+5A0K\n",
       "X9S54seaKw07xFMXB2Yg4mlD3GXVU8NptXqUHVW/b5Bq0eMBhGaDGwLGTsF6QSEmfr45pDxej81s\n",
       "GdevWUb2U5oNbehj6JMRaDIq8MDAOWtYT94GkMswWc5EBlOVzjoMynuUOq/NQMLZYwaUHQhupDcK\n",
       "UmYptv2HoB5bstdCQEPGw2V69h8/eovKXjjPRCLdCI1OEYqHFFsAdrsRcVHLD3r/WjR3HMIeAyj3\n",
       "WdwnkUXbZoeGU90dCvuh7t6uXqZfjCwQQ6et6fNgJrmPWh7Ir27raqfzZ9d8CdX9H6iEOK1LZlpt\n",
       "SNcd4y/YVAJE4loJquYf1s/DH+GBvBYOgHGxh8hPr54DAgk8XZ655Ceh7fu3usZTGe9X7wJrUpQG\n",
       "2EUQ1r/4v4KHiWUC00tE7UFPyAkb7uQOXqdT9G7NXJiybf8mKEKWb4+aVNwpvZ8nv0bOWLnWnD6f\n",
       "ZKf4fT58DB7snFrM54+BYyYo83i6rlPCW3O7250vicllH6gA1vR6p4gBK38IqudydZCwNnvane4A\n",
       "2UjMzoErogas7K8cyV334nuCqSPFPGp/F0KHo2qlEQ0L94MdPMmYUKkW+4GMDeUaC/iO4AAABR0A\n",
       "AAYBQZokbEF//tqmWAFcB0M8RzyQAmpUrIaGtiVWKm/FmDMRvWZU06FzhrazAPjecRY/V1mDoAFp\n",
       "kz1AjJmtNMmypggl/87kHrDvGH8FlCFt2DppG2kBJ0gvgfOxHfqbTgQ2YXWWcIeP7CsqxaAVK5dr\n",
       "ErL2mYuTmohrr7xg5hAtZ2x+6kYatXXnATZLNQsPCaSW3OxFgzdcX4VIND89BwgzIRYYjRp82TMM\n",
       "oc1bQYFLeivpGNwq5vmdr39/omYXgHDKiZRpxegEKscDRCGYOT6ojWE+yQqRToYophYXpAnI4jIb\n",
       "mnkaONYAnbrlNX4m+IAANP2kO4E4urZJ54WEufLkywxT+DfwglIzul6DrJj0VqRGlinMdqDAs6Co\n",
       "vFb+BcEG8UybbeYPFqZcLJ71lyomOPVPqyAQqAuPyGBT5eYrWbN2T9YYsBNIuROLyixwrymoPNDs\n",
       "xB/MS7/cwbSMQ/7H4tlLyav5dCTnPoxs9MnoacSp1hFXc8nc5rj1VygaFPNL9XtDDZZ5cLVICYdV\n",
       "S/iAiU/fe2+C1GyH/Z/qTWAiHM7/v9bvJAMt3sCCQHTioqVFRz6sD7kkwEqsCrYwND+sEyFD0iHi\n",
       "p2odTp1b/FkzZrV58mFcjtSSYkv3Dq1A+x9FBuzcoa57jv5kezuGCWJPhOP1Vx0cQeO3JkoCoR8P\n",
       "w6vbq4fhDWWftKGDo9rYcjzeY7vMoCSH4Izho3JdxSIjvmEXoH91a5ciKls19UoN+Fd3+4VzmRo2\n",
       "KHexpTPOJAKosg6jqGTi40EwFdJrH4a14q3eayre0NW4D8esN1Vew5JbrzTmIQrxfgFsBKjKsIne\n",
       "Zh3Z7fywMd054N+QNOgU5HOHussmieVPobIxSGQbr0sbUSLWxNWD3318aS947ZStQjrotOTLT0D2\n",
       "D0cuFUw9+YVyRPL0VGewGQtjfQtMe9MjqCf4m19zhUw1t4IJditqSampsDIJ6WoWKcVFqeM0l9zn\n",
       "3j84AqxhTc58pKZRneAnev63y09JTnCymXxr2uOEL/YdIphm3/x18B68PkRLf2kIVh/BjifGVLrh\n",
       "TcnEyYM+jvBtCboDmMPVlihzuCIIX+BBUN9pysDriw+z66ALA1dKpQ8YH5hlQnGGC4gNjCVlY0ps\n",
       "5mWG8+6kRn3Ud3iw0NilJ/RBQyuYpygZhw45PAUcDUYv6uXvay/yUMgybSYENPkjJo/YonsV25X2\n",
       "pTz7Gk2ab5hHKtZ0nA6wNDyEnSK3nbW0m16Ad4uSY2VS+C+1IrFcvhXZFz+QX4uqoQgbg3DKIqz4\n",
       "lkRuaR5ZEvBJVIBL2EB8FIFbF8n2/b80jEWQ0OT+su0TjIdRI1mzFyUhrNQOa9kshNYtnvRZnSt0\n",
       "O8avikHdZw7Jt/H1iOxa14UIOZ/BG3CLaZwO1wTlg3aqBnli2eUPSAUm/C/nm1f6DdnNP51ObJzt\n",
       "y+gkn9TA/AgmC+jscmLBD0u2usIJ55xzii+KwKVlU2Io/m4rSt+fqdU9dlDSw4aGyeirpK++8bHB\n",
       "7s2ouNkTXHz3JvaiTA5PE9YsY5mLN0fZcWi89WC7MtVNCe6Zywuhwg+quGQFn1n6GdsXJ8G0lPnV\n",
       "uO2aYUWk2ErVYbE7PyEb/UaTjn07uNEH7u3ehi0v1rnXpI/F0HQsBfE/Nsj+5XERAzfH0ZF2a5Zl\n",
       "s3Zr7QcyTz3CNQixdFckZzED4Ha0MWL+LTCwxiU4oylgw/ibppWJeoKIbYUcLq/DHwL+6w8ipm3F\n",
       "eP9Sfxiyu6H41LmIseM2nNI6FeGjFRt0WcThD1cBMpPrp9Oq81Hq91Ib5wm7oqGxF1taD/8e2oik\n",
       "YYl20xMOeXDGqPkbKX7cIC6oS6DgorgMDLkLIn/G6Z74EOqmymvMNvSSAo+LWaASUqBzjTh0PM0U\n",
       "jm5LAC0S5vOOGlKvh4bKUCbRmLDEtpaDYICr7NaET+rAVLKksRTJ0GCaIK9Ygrm+PnUL0TgTyRcl\n",
       "bQORPj1z1vBO6eZXp/zBQG4JBX+jNgoVo2HIn0b9PjMi1yLzOGHI/2qdYuyZXCMpWBwUnDebSW4B\n",
       "JwAAARRBnkJ4gt8AAJTHIxvp3u8rQABM1RSQ+tuUreeq08GnP6yZlWE9X4bdkiLevw+Bq6EtvFR/\n",
       "oBDJa392SAd0JRcihdP2AP9jytt87TPNNPh1xNjvh5J/AP4zFRytLlVKN09SjLFcIAMM4veL+qWy\n",
       "HBrOwRciH+mf3TM4P4KMq38QQ9A83eO8ohGTCMHaZ29xHxQFjgYE6JfPKzm8shDDBx1mcJHl7LJj\n",
       "CtBV7ELiNuCycGusyhR8Fps9HLb1v2XeF/aYdt/sBtgLCxmY4bpdyNDEvAOdgMCCDDirMUfNAu3q\n",
       "n8UkCMyRfrllxM13QtrCByyC2j/qYQ1Rwg8TeHtK/0IOdAKvKWyVH6Usjx1MLLPKi/AABN0AAADn\n",
       "AZ5hdEFfAADnWe3cfZ/WJXfyoADszcT/wz5k7flW3Hs5Cd6enBu7niDPGd3uvvn83YE9/GSjD2DX\n",
       "VkZd4b5KuaZ5pejqQnfPMVwuYoOAsijKv08/5gMoIColGd+wbT5hqRtZuXgpFhpzKGOlG/9jKfvj\n",
       "jlCdIhfuua65tOd/RNsvwlZx6hiaF0a2pxtszIp91e5xjVilvzRfpgANJ+u7pEwlRUt+6fDm9VOO\n",
       "0509Nh/ewB16jrSvicPc9lnpw3qL59ZbXkk8E+iAmGzK/Fr9UAP27tunvV5Yro+vU9wd+ElZ94VI\n",
       "AHLAAAAAvgGeY2pBXwAA51sf8JAAdm0ghS1GbxB2ev4DzYxS6yDcXjiAHLTs+NUBRXfVfAqaNwYe\n",
       "O8F7nCG7fMUZ4pdIrHjkE2yBrZc9qdMW+9d8lHckzcTdsSHy8HFRn2DA/9pvusa13SLgIpLibx8r\n",
       "WD+DpwXFS14G3gJ/klF3N/n+Y6LYbJqG1spnhAKgA8EBiX5lM9NXOlOhQYp2JKpTbSjRJhhqMRfg\n",
       "h+Vi69l7UCOCNH7fm+V4JR/CxEzs5szAAP8AAANsQZpoSahBaJlMCC///tqmWAFcB/t6Pj2Y1F0A\n",
       "E5S4wKPtsAlZS1AkPLnF+FxltSEgFjo0zDLktamBvR50iScaGDYjZro9QW4GLxCo4w4nei4YaaYL\n",
       "b8Q4uTDhsW1Z+Kp3J50BKPwo5AZ0sGWC8TDmesmVZik/ntBoKVpWQrtuAdqE035xixxdoySFYlAr\n",
       "DP6QiMFNFLafuWrx5FsgdtXjF7EvdUnV8VsO5LwNX14YCCfFYuwjXIknNfoscIg/b4No8KnaUUD+\n",
       "hUsPH/GiV0en2hpG68Diuu/vTjqKAg7JJ+pVgpdePH9a9hw+gT2dg2nRkT1SzVLA+Itu4TX+byM6\n",
       "ntJiZ6nL/RvmUqcznuHzXx8ACSP+IO0fS3queXDd841w8N6f+25/r0wnsZcwdS/IdGxgzkoNxLcH\n",
       "4J8WGebBkMFiAs9y8ZkJirmLeHJT988GYBOHa7/GMuDS7S/i3rxXo/22QbYNcIPq/Bg/DypP+iTs\n",
       "Atz+q3THPlukLbbFobyQh1c2TrVJ27unxMvHoTjg3wHl73aK8T8okDxdzm+NLvhipILqWJ3BpdEs\n",
       "bFB7YMTjBNQE/fjYbC0gz+DE/PG7PlWfTLcrvCnT0D/t7wuvVkhwEZfrnMsM0z6pfn6thX5RKIqT\n",
       "mdsnHskvX6nLIOsFof1TQhj8WaECxOJBwyFSxSUuP9IwPXhSb9sAidsi9OoKgDRrpWbLWhco8AA5\n",
       "UYcAOTmnAA8yqCHitsxmOavnk7YF7I0itqxl8/IfITCRBO+Jdi8Ok4gMsV1zVEYQtrf3csiNUtwe\n",
       "UD085yCPDdG7lPm4wlcNg3XQfSOYVzTJyvfqbz4rZLDJhj9HmfriU0cKqEZnhp6DLu8ukpHYtCNK\n",
       "3duQokvUQiFh/D4mn6vY+6rs+G98WlBI02e2DLjPLp0FoZwUuavCsgfqVhU71M6FKSAD4RlXogqz\n",
       "abkvsRo/txjNfyRZPjP3jG3+0DPNNlvzu5AuFqX6ELkiUM96pklnGIPiLekQ4a+Kzt2Rwmr8BAxo\n",
       "Zsub7tyOmza7P1NhHhjiGXfwbTDYquR2Ke7iu24U8jSrwT8kZpK0RESJCU/P5dpb5XmTAfDDmbUV\n",
       "g/5A5BKjP7Y8uoCUe/zrA7uIjylmnC3dAISf2r/6/Hkr4WOKbDSnQO3iMJ8asUfoABixAAABAEGe\n",
       "hkURLBb/AACUxrqB87MXiYtoAJqOm4bTHhJpqu0ry9lPxV+YmFFHM8CrnZ5UZuLwGvQc9clFtwrT\n",
       "S6FqtO0RWe9Hh2WrdAVYMjgYIKbKvKkT1D+t7/tnwMUlvtqhR6FG/fIsfOqGGSN4M/+TO2lhA+zD\n",
       "4wSeNr+3VL2lwUnXQ1D5Kkk7TvIjZ5lGzfL6Wvjr9iomeDxl6HHbhVNIfLcBrQYv8noOlBMPVvIT\n",
       "I2cmJ4rqw2XB3a7HXiRNNrqc03kB2xZNGvssjYTxerJJpPZcnY+Z06Y9NV8VqdSqSAq3TpRFpHuP\n",
       "llrnxEVmKpcBcJxMhXUejDj5NoyXI6gADFkAAADSAZ6ldEFfAADnWfJxEAF9GgExvPPJKHs7bAeb\n",
       "GKXWQbi8cQA5adnxqgKK76r4FTRuDDx3gvc4Q3b5ijPFLpFY8cgm2QNbLntTpi33rvko7kmbibti\n",
       "Q+Xg4qM+wYH/tN91jWu6RcBFJcTePlawfwdOC4qWvA28BP8kZd6+I/5jothsmobWymeEAqADwP9s\n",
       "cHnEr7XbEJialAFEQaKlvd8qJx44y2cN59SUa12j9lwp2+xGjM1GTWJQ0bwPfOFZIg3AmjZNAPnI\n",
       "RVnFRfayV2qvAAzJAAAA6wGep2pBXwAA51seDRA12R6xg/oAL6EBv/GEMkFSnHXP7zmNlR68+GOr\n",
       "s+kyg6Gfs/x+Umku/xyXg0MYHfBMALaQYwVVMBEUL0ATj44CFAfbMtLg0lB7+VQxwXvWaPayHTjt\n",
       "7gmGpm3b/TSFm4znsbmXpOntbWZxP5ulvMo2P16Bff40c7c+6T/n9r9qynhEftijCYmk0ABG/XlD\n",
       "ASo3tfBJh4V08mRm3C8vQSCrP/eeHLEaB6bJCggdBkURA64cL/8dMi66Dy9L76Zl0UWEqwalAeQZ\n",
       "BcBkck7aAGvh6UTuIVw4C0CWAV3gAg4AAAL+QZqsSahBbJlMCC///tqmWAFcB6B6zTzJIATUqVkK\n",
       "mcNiP3WyNEpmPedgjZgJswZsY9/a+3WqyhITjRtupGOuNKyPMBKKRemDnqwO35T8hnheZ+411dMX\n",
       "mPYmnQmygPXGkpT7pwGXeCNw8dmCY2XNeXzfmWNNZRLGCNTxYTni7R1brA0pHMRZUorQ7rxmN4zG\n",
       "PSg5GyFwp4+Zv35MHyLZvG4GbSg0SSl+Up85KceNzVBeVmG/TAuZ1VgtIJufECIqrI+VLTy60Y/L\n",
       "8kjF3oC7mNHW25+Ia8EsqakmLrTgkwzFx8VU3KtOY46/BUH7tXsRa9iKk26ykZWWVkEHhKFn9dqS\n",
       "XNkJ33tSQl3YJ/q/YtmeTgNEtRCUSKWi2OIaeSX+VNPr43MOAgRIvX27S+PTh1WtM7q1icm6hqFf\n",
       "kPEia4L0kWCLAo0l/RI/EkVMga0a7rOjz35EfUpwOSAL09Kq5NY+vhY0njHH/tH3yElM5Yfffydw\n",
       "GCcjF39xLGGJeMmHPACMvLFo6s3/VY1CJmW/tp6szF5uRHkBfNiJbNzBzyJB0TnDDGL7vMotEsoZ\n",
       "ZP7kWrm1w/dl1pvQgU1jJ98EQ5lFMALBmu29vjNIZ4uDtu2VR+RJR4i7EPrb9gELVTQyquc233SW\n",
       "8bsD4Edcb8riUDeVIKSqYPhnTriiWx4OtE2buopM2eIwAXc7n67Q3QYKsb9oT+i0DJdtCKFp5ONW\n",
       "k18xVx+JTAB75LVlB+tQmcLIrCyfJ8v0AOmDGjhP02hQlqcKb5/uGfT/QN0dt7LvZFVTv/qq6oFo\n",
       "5wPzjcLUsOF77rNNaF4KA0ry51a9Uy62WomOgxZpS4xFM2RHqaRv1ZdGDYxwjlvn7OdqTrW7jvp8\n",
       "QZ8uRGaPfjk8xfd6ZXxvqp2JfedStG063u2Py16pgQ5wFre46dTFCbU8vK7/J+NKUFfK6aPFMWl9\n",
       "2eRT2bGJ5S8/JBje3dyaHKET6IkGGAR/JOptCBPJ/+SilCyL+oD/Nf9xSmDmABpMBgAG/AAAAPxB\n",
       "nspFFSwW/wAAlMcf/DWFYbQAQoeEonaC1jw4uVnB7apum9lQl66/RFiKWPhlm65PGOgKqOPRLkTn\n",
       "uG5oJpf7ytSijIm1LHJQYAybP/MaPGLZaZtSXsUKXoqn+6F49wruX/dzEsGJ+rZW6rYIkuofe5yi\n",
       "Z93zQTCPdyS5g3b1u1+zdaVP/eVPEDF6ugHH2aFY2zQTZFIfCMlFra1r6XJ933+DrRwOLHOEALvU\n",
       "eSuArw8m87kjYmSCar6UsD5DmCssrsSbtmaMeAoWy5xsl2VDBvHpBRgTHohTm6IJ+CU17UM3lq1k\n",
       "rxNgsd2epaNw/cUj5ObYd4/ZLY4AA48AAADQAZ7pdEFfAADnWfJxEAF9Ggw6X8U0yP1SEcUJ02S2\n",
       "9WgfYR4gyqVKFhBDogaNIJ6ZrvaeoKp8tqQ/5sR+7s4RUeQZLbf88zOkkwDxGmNxR8MaJ2RJFpyg\n",
       "DJf9Zqy4+oG46gBNVS2fHPPAPfKj3qnK1Wr+QndmhD1XJGXc4F4xKK1HRGKA4UzrxGutDC+AcPG0\n",
       "P9kYwieoEE7ULArFUb16UZXpI3ENcXxIpNYNz/1A5zHifZcd4f9kn80fF2pfPZwTAdJovz0l5DHb\n",
       "/cqnkAADPgAAAM0BnutqQV8AAOdbH/CQAHZtJaUv4ppkfqkI4oTpslt6tA+wjxBlUqULCCHRA0aQ\n",
       "T0zXe09QVT5bUiBidaJ5AMO/B3ktboCfx5fFp0t4MeDsg5Ep/t0EuVyUj+q8SCVBF4/wHy7Ua33r\n",
       "pC6uzLDm5a37bSVI1bLqgDySi718LxiUVqLYf1ngUpliNdaGF8A4+NvsyrkGlwdDjS1Hmx6jrxi4\n",
       "uzcdYV9OoLPWHC4ZzlrW9YvZt94MSFAgBFy35jOWRSCdAPZgFAmRheYqAB0wAAAB3UGa8EmoQWyZ\n",
       "TAgv//7aplgBXPye5IATUqUJ3kCJx2gn16dbMXMUMJJ/rpdW9CYT5GUyNwmnuvNWmCIeYOMnWxVm\n",
       "LTf20fiLbOyj9PxVTvTMINfjMZrAqgn2444SmS7rO164DL6zDxS4nPpLndxgrFIHtaqf+Ojn1loU\n",
       "JQnlRZwv/hZ0qDNz43qZeaxwBiXoyFm7jAtQUFXcGSZmnFGefOnMadSEtRtXZ4GI92CVelqgSPF+\n",
       "X/z5dIKUrfk9T8nnRk3FFACo9Uop4H+oiT28+F5HUDN3x8T1P8jiaTsW7xIBTHmTJZa8LFX+SCzn\n",
       "e0OaFqzCWkEiiHMTMRDKZRLoHU8TQxv1B2OUMaH3z4uKpY3bK1kqeYTbKKLGnkWk0z3wQj4/xhws\n",
       "wpzz6hKUN19uM9nAKG16949RqOL+V1n17Itc4UzQt4JYbcsI/WPZwD9pR0+hYDIkBUlElX0oNgB6\n",
       "TqfA6hjk14yV0uREXf2ItmhsfGlGlRyL8ZW0b6PLg6qz4cpq7i3whlvAcCbugc+cxBS9XJUKpK3E\n",
       "Ey8m3pDW90hxPrPZalGn0jMzoVs/iiSlHi8OwmJkcoCqvvQ0zk6Eo0+ty8kApTedc1wC6DXeewwm\n",
       "sSwKLNLcGzoxrIABQQAAAPxBnw5FFSwW/wAAlMa4SNGemUOY6EoNABNRErvjHzoBSfv1vqLJtwBd\n",
       "Uv8tT9VDvk1mr8d1Vu3kOA1BOidLvfg9+q2inH6TmZIYcjBfHtcdinJ+mYjSrqaeZwIx8iPk6tqj\n",
       "weQJ07EwkPwOR98DDiW3VxymnQ0csHPlG1vdbatJXx9sV6x/phGz8DdKJYGHgFPst7+1wdDvRaj8\n",
       "o5SN1pLkDLuFJFHr4B9Cw37iIyBP0lerVv52f1L/6OZIOHniWXL6HMw44IQE9FWRWA3zfwq8E7Qq\n",
       "Lja8zPH/MCpQ9cMSTICKva+4boDPRb8RZyanUnGSkCGIxGRgPGAAekEAAADPAZ8tdEFfAADnWexl\n",
       "FJLBvGADm3QY7E/xOVetgX38zS0c5Vpho/ivCxC4fVOCtTHbIeupqRPW/SS5uCKp9UNwspZ0EMXp\n",
       "HVRbo1Q97OGueN+KG6lCTzGZ4LPn2vV3kKdiqcbqokJJMcD8wERHEcmYd18lW9wUcAPJpIMX1dx9\n",
       "ilw9uaRLBcuTZ8vVKADE429yPld7/ciNz26pS0knTh0/8bhJbMXSrU2Fk+4A5iX6ZyVoGmxdPqKI\n",
       "c1KS4KLkYH1ftRRzRkZX2ppy004IAAEzAAAA0QGfL2pBXwAA51sf8JAAdm0lpS/immR+qQjihOmy\n",
       "W3q0D7CPEGVSpQsIIdEDRpBPTNd7T1BVPltSIGJ1onlGwCE9UQKfoCfx5fFp0t4MeDyOO9FN6Flt\n",
       "YMWtirxIJUEXj/AfLtRrfeukLq7MsOblrfttJUjVsuqBNJKLvXwvGJRWePSVGLpX8h3aW0MMgB5s\n",
       "2SLKtcMsARQf128U50yynGt8Y7cFJx9m/jYsDyAtnNQxbHL/p/LHSR6nvnE6q1ftLfPxuPIbCBXf\n",
       "mKi4wLQeABjQAAABVEGbM0moQWyZTAgr//7WpVABW/8MIFU8AB2m/lGENC2iurSYme7kDbqGeuGP\n",
       "oNh2AoYD7z/c3fl/49aAElD/7/mJEaEHOimRy4zKK4WWtIzWNd7g0DwZRHkMarAZm4fUaRuLd3bc\n",
       "FAhuLDgdM+6dLtwsjxmAOxBD+KqPdn4fGcix13l/zRQZ2dQ80j24I/4qCUoeNcDa+Y1xFDG08KjH\n",
       "+zvvtiPthhI3f/yw4XSQCQKJ2p2CLrULfuwJeuMrMHV/ZPQDHUgPIJFz+nGgnwH0dwNDLVJCNIE7\n",
       "S4qAAj2RUrCPQl/jpxy19TBc8V77eA+X3rEiYamilYQ5LKbeqFjEGJg4YjnCk64RQmkN3qcrFOSI\n",
       "Zgm1EI8omDW2EutFytRvaZsDO7k1DucB0RR/7ePGCUAd+0cJKNZYG74oTtEAyu0yD9YdSTeCh9NB\n",
       "V8b1Oag+oYAAekAAAABnQZ9RRRUsFf8AAOdbH4Y2UACEzonDHw5NMJUGFTRxe8s5n4QcKbMzNTs7\n",
       "TWTiu3U17k2YdzKdCmxIGzjh/CCdQuqwUeudl4NoY0DjF8GA8MkXodzwkNfhTwUl7imUjBo5UQ3E\n",
       "QAD0gQAAAE0Bn3JqQV8AAOdRZRt9SAA6EsDAC8kFuPBaO/m+Xueihg6E8CqMQyxjcCs2uTsOftEr\n",
       "DinRAxscUC5TPzCk9OqgFRgTaEcLyAbXuABSQAAABBltb292AAAAbG12aGQAAAAAAAAAAAAAAAAA\n",
       "AAPoAABOIAABAAABAAAAAAAAAAAAAAAAAQAAAAAAAAAAAAAAAAAAAAEAAAAAAAAAAAAAAAAAAEAA\n",
       "AAAAAAAAAAAAAAAAAAAAAAAAAAAAAAAAAAAAAAACAAADRHRyYWsAAABcdGtoZAAAAAMAAAAAAAAA\n",
       "AAAAAAEAAAAAAABOIAAAAAAAAAAAAAAAAAAAAAAAAQAAAAAAAAAAAAAAAAAAAAEAAAAAAAAAAAAA\n",
       "AAAAAEAAAAACgAAAAeAAAAAAACRlZHRzAAAAHGVsc3QAAAAAAAAAAQAATiAAAIAAAAEAAAAAArxt\n",
       "ZGlhAAAAIG1kaGQAAAAAAAAAAAAAAAAAAEAAAAUAAFXEAAAAAAAtaGRscgAAAAAAAAAAdmlkZQAA\n",
       "AAAAAAAAAAAAAFZpZGVvSGFuZGxlcgAAAAJnbWluZgAAABR2bWhkAAAAAQAAAAAAAAAAAAAAJGRp\n",
       "bmYAAAAcZHJlZgAAAAAAAAABAAAADHVybCAAAAABAAACJ3N0YmwAAAC3c3RzZAAAAAAAAAABAAAA\n",
       "p2F2YzEAAAAAAAAAAQAAAAAAAAAAAAAAAAAAAAACgAHgAEgAAABIAAAAAAAAAAEAAAAAAAAAAAAA\n",
       "AAAAAAAAAAAAAAAAAAAAAAAAAAAAAAAY//8AAAA1YXZjQwFkABb/4QAYZ2QAFqzZQKA9oQAAAwAB\n",
       "AAADAAIPFi2WAQAGaOvjyyLA/fj4AAAAABx1dWlka2hA8l8kT8W6OaUbzwMj8wAAAAAAAAAYc3R0\n",
       "cwAAAAAAAAABAAAAFAAAQAAAAAAUc3RzcwAAAAAAAAABAAAAAQAAAKhjdHRzAAAAAAAAABMAAAAB\n",
       "AACAAAAAAAEAAUAAAAAAAQAAgAAAAAABAAAAAAAAAAEAAEAAAAAAAQABQAAAAAABAACAAAAAAAEA\n",
       "AAAAAAAAAQAAQAAAAAABAAFAAAAAAAEAAIAAAAAAAQAAAAAAAAABAABAAAAAAAEAAUAAAAAAAQAA\n",
       "gAAAAAABAAAAAAAAAAEAAEAAAAAAAQABAAAAAAACAABAAAAAABxzdHNjAAAAAAAAAAEAAAABAAAA\n",
       "FAAAAAEAAABkc3RzegAAAAAAAAAAAAAAFAAAUDAAAAYFAAABGAAAAOsAAADCAAADcAAAAQQAAADW\n",
       "AAAA7wAAAwIAAAEAAAAA1AAAANEAAAHhAAABAAAAANMAAADVAAABWAAAAGsAAABRAAAAFHN0Y28A\n",
       "AAAAAAAAAQAAADAAAABhdWR0YQAAAFltZXRhAAAAAAAAACFoZGxyAAAAAAAAAABtZGlyYXBwbAAA\n",
       "AAAAAAAAAAAAACxpbHN0AAAAJKl0b28AAAAcZGF0YQAAAAEAAAAATGF2ZjYwLjMuMTAw\n",
       "\">\n",
       "  Your browser does not support the video tag.\n",
       "</video>"
      ],
      "text/plain": [
       "<IPython.core.display.HTML object>"
      ]
     },
     "execution_count": 79,
     "metadata": {},
     "output_type": "execute_result"
    }
   ],
   "source": [
    "HTML( my_anime.ani.to_html5_video() )"
   ]
  },
  {
   "cell_type": "code",
   "execution_count": null,
   "metadata": {},
   "outputs": [],
   "source": []
  }
 ],
 "metadata": {
  "kernelspec": {
   "display_name": "notebook",
   "language": "python",
   "name": "python3"
  },
  "language_info": {
   "codemirror_mode": {
    "name": "ipython",
    "version": 3
   },
   "file_extension": ".py",
   "mimetype": "text/x-python",
   "name": "python",
   "nbconvert_exporter": "python",
   "pygments_lexer": "ipython3",
   "version": "3.10.0"
  }
 },
 "nbformat": 4,
 "nbformat_minor": 2
}
